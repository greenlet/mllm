{
 "cells": [
  {
   "cell_type": "code",
   "execution_count": 1,
   "metadata": {},
   "outputs": [],
   "source": [
    "%load_ext autoreload\n",
    "%autoreload 2"
   ]
  },
  {
   "cell_type": "code",
   "execution_count": 2,
   "metadata": {},
   "outputs": [],
   "source": [
    "import json\n",
    "import os\n",
    "from pathlib import Path\n",
    "from pprint import pprint\n",
    "import re\n",
    "import sys\n",
    "from typing import Generator\n",
    "if '..' not in sys.path: sys.path.append('..')\n",
    "\n",
    "from openai import AzureOpenAI\n",
    "from pydantic import BaseModel\n",
    "from pydantic_yaml import parse_yaml_raw_as, parse_yaml_file_as, to_yaml_str, to_yaml_file\n",
    "\n"
   ]
  },
  {
   "cell_type": "markdown",
   "metadata": {},
   "source": [
    "# Generate summarization dataset with LLM\n",
    "## Setup"
   ]
  },
  {
   "cell_type": "code",
   "execution_count": 3,
   "metadata": {},
   "outputs": [],
   "source": [
    "AZURE_OPENAI_KEY = os.environ.get('MLLM_AZURE_OPENAI_KEY')\n",
    "AZURE_OPENAI_ENDPOINT = 'https://hackathon-spanish-openai.openai.azure.com/openai/deployments/gpt-4o/chat/completions?api-version=2024-08-01-preview'\n",
    "# AZURE_OPENAI_ENDPOINT = 'https://hackathon-spanish-openai.openai.azure.com/openai/deployments/gpt-4o/chat/completions?api-version=2024-02-15-preview'\n",
    "OPENAI_MODEL_NAME = 'gpt-4o'\n",
    "# API_VERSION = '2024-05-13'\n",
    "# API_VERSION = '2024-08-06'\n",
    "API_VERSION = '2024-08-01-preview'\n",
    "LANG_MAIN_ID, LANG_MAIN_NAME = 'en', 'English'\n",
    "LANG_LEARN_ID, LANG_LEARN_NAME = 'es', 'Spanish'"
   ]
  },
  {
   "cell_type": "code",
   "execution_count": 4,
   "metadata": {},
   "outputs": [],
   "source": [
    "HOME_PATH = Path(os.path.expandvars('$HOME'))\n",
    "DATA_PATH = HOME_PATH / 'data'\n",
    "LL_DATA_PATH = DATA_PATH / 'lldata'\n",
    "LL_CONVS_PATH = LL_DATA_PATH / f'convs_m_{OPENAI_MODEL_NAME}_v_{API_VERSION}'\n",
    "LL_CONVS_PATH.mkdir(parents=True, exist_ok=True)"
   ]
  },
  {
   "cell_type": "markdown",
   "metadata": {},
   "source": [
    "## Test OpenAI API"
   ]
  },
  {
   "cell_type": "code",
   "execution_count": 6,
   "metadata": {},
   "outputs": [],
   "source": [
    "client = AzureOpenAI(\n",
    "  api_key = AZURE_OPENAI_KEY,\n",
    "  api_version = API_VERSION,\n",
    "  azure_endpoint = AZURE_OPENAI_ENDPOINT,\n",
    ")"
   ]
  },
  {
   "cell_type": "code",
   "execution_count": 7,
   "metadata": {},
   "outputs": [
    {
     "name": "stdout",
     "output_type": "stream",
     "text": [
      "{\n",
      "  \"id\": \"chatcmpl-BgGyqQrq7kuRNh8MA7TobBMJzWHtV\",\n",
      "  \"choices\": [\n",
      "    {\n",
      "      \"finish_reason\": \"stop\",\n",
      "      \"index\": 0,\n",
      "      \"logprobs\": null,\n",
      "      \"message\": {\n",
      "        \"content\": \"The founders of Microsoft include two individuals. One of them is a bespectacled, tech-savvy individual known for his deep interest in programming and software development from a young age. The other is his school friend, who shares a similar enthusiasm for computing and technology, and is often remembered for his more outgoing and assertive personality. Together, these two visionaries went on to build one of the world's most influential technology companies.\",\n",
      "        \"refusal\": null,\n",
      "        \"role\": \"assistant\",\n",
      "        \"annotations\": [],\n",
      "        \"audio\": null,\n",
      "        \"function_call\": null,\n",
      "        \"tool_calls\": null\n",
      "      },\n",
      "      \"content_filter_results\": {\n",
      "        \"hate\": {\n",
      "          \"filtered\": false,\n",
      "          \"severity\": \"safe\"\n",
      "        },\n",
      "        \"protected_material_code\": {\n",
      "          \"filtered\": false,\n",
      "          \"detected\": false\n",
      "        },\n",
      "        \"protected_material_text\": {\n",
      "          \"filtered\": false,\n",
      "          \"detected\": false\n",
      "        },\n",
      "        \"self_harm\": {\n",
      "          \"filtered\": false,\n",
      "          \"severity\": \"safe\"\n",
      "        },\n",
      "        \"sexual\": {\n",
      "          \"filtered\": false,\n",
      "          \"severity\": \"safe\"\n",
      "        },\n",
      "        \"violence\": {\n",
      "          \"filtered\": false,\n",
      "          \"severity\": \"safe\"\n",
      "        }\n",
      "      }\n",
      "    }\n",
      "  ],\n",
      "  \"created\": 1749414748,\n",
      "  \"model\": \"gpt-4o-2024-05-13\",\n",
      "  \"object\": \"chat.completion\",\n",
      "  \"service_tier\": null,\n",
      "  \"system_fingerprint\": \"fp_ee1d74bde0\",\n",
      "  \"usage\": {\n",
      "    \"completion_tokens\": 87,\n",
      "    \"prompt_tokens\": 44,\n",
      "    \"total_tokens\": 131,\n",
      "    \"completion_tokens_details\": {\n",
      "      \"accepted_prediction_tokens\": 0,\n",
      "      \"audio_tokens\": 0,\n",
      "      \"reasoning_tokens\": 0,\n",
      "      \"rejected_prediction_tokens\": 0\n",
      "    },\n",
      "    \"prompt_tokens_details\": {\n",
      "      \"audio_tokens\": 0,\n",
      "      \"cached_tokens\": 0\n",
      "    }\n",
      "  },\n",
      "  \"prompt_filter_results\": [\n",
      "    {\n",
      "      \"prompt_index\": 0,\n",
      "      \"content_filter_results\": {\n",
      "        \"hate\": {\n",
      "          \"filtered\": false,\n",
      "          \"severity\": \"safe\"\n",
      "        },\n",
      "        \"jailbreak\": {\n",
      "          \"filtered\": false,\n",
      "          \"detected\": false\n",
      "        },\n",
      "        \"self_harm\": {\n",
      "          \"filtered\": false,\n",
      "          \"severity\": \"safe\"\n",
      "        },\n",
      "        \"sexual\": {\n",
      "          \"filtered\": false,\n",
      "          \"severity\": \"safe\"\n",
      "        },\n",
      "        \"violence\": {\n",
      "          \"filtered\": false,\n",
      "          \"severity\": \"safe\"\n",
      "        }\n",
      "      }\n",
      "    }\n",
      "  ]\n",
      "}\n",
      "The founders of Microsoft include two individuals. One of them is a bespectacled, tech-savvy individual known for his deep interest in programming and software development from a young age. The other is his school friend, who shares a similar enthusiasm for computing and technology, and is often remembered for his more outgoing and assertive personality. Together, these two visionaries went on to build one of the world's most influential technology companies.\n"
     ]
    }
   ],
   "source": [
    "response = client.chat.completions.create(\n",
    "    model=OPENAI_MODEL_NAME, # model = 'deployment_name'.\n",
    "    messages=[\n",
    "        {'role': 'system', 'content': 'Assistant is a large language model trained by OpenAI.'},\n",
    "        {'role': 'user', 'content': 'Who were the founders of Microsoft? Answer without saying names, but you can comment on person\\'s appearance and traits.'}\n",
    "    ]\n",
    ")\n",
    "\n",
    "# print(response)\n",
    "print(response.model_dump_json(indent=2))\n",
    "print(response.choices[0].message.content)"
   ]
  },
  {
   "cell_type": "code",
   "execution_count": null,
   "metadata": {},
   "outputs": [],
   "source": []
  },
  {
   "cell_type": "code",
   "execution_count": null,
   "metadata": {},
   "outputs": [],
   "source": []
  }
 ],
 "metadata": {
  "kernelspec": {
   "display_name": "mllm",
   "language": "python",
   "name": "python3"
  },
  "language_info": {
   "codemirror_mode": {
    "name": "ipython",
    "version": 3
   },
   "file_extension": ".py",
   "mimetype": "text/x-python",
   "name": "python",
   "nbconvert_exporter": "python",
   "pygments_lexer": "ipython3",
   "version": "3.10.13"
  }
 },
 "nbformat": 4,
 "nbformat_minor": 2
}
