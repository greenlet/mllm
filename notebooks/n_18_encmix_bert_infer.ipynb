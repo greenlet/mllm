{
 "cells": [
  {
   "cell_type": "code",
   "execution_count": 1,
   "metadata": {},
   "outputs": [],
   "source": [
    "%load_ext autoreload\n",
    "%autoreload 2"
   ]
  },
  {
   "cell_type": "code",
   "execution_count": 15,
   "metadata": {},
   "outputs": [],
   "source": [
    "import os\n",
    "from pathlib import Path\n",
    "import sys\n",
    "from typing import Optional, cast\n",
    "if '..' not in sys.path: sys.path.append('..')\n",
    "\n",
    "from datasets import load_dataset\n",
    "from datasets.arrow_dataset import Dataset\n",
    "import numpy as np\n",
    "from matplotlib import pyplot as plt\n",
    "from pydantic_yaml import parse_yaml_file_as\n",
    "import torch\n",
    "from torch import nn\n",
    "import torch.nn.functional as F\n",
    "from transformers import GPT2Tokenizer, AddedToken, PreTrainedTokenizer, AutoTokenizer\n",
    "\n",
    "from mllm.data.wiki.dswiki import WikiDsLoader\n",
    "from mllm.exp.args import ENCMIX_BERT_MODEL_CFG_FNAME\n",
    "from mllm.train.embgen_bert import EedWikiIterator\n",
    "from mllm.model.encmix import EncmixBert\n",
    "from mllm.config.model import EncmixBertCfg\n"
   ]
  },
  {
   "cell_type": "markdown",
   "metadata": {},
   "source": [
    "# EncmixBert inference\n",
    "## Config"
   ]
  },
  {
   "cell_type": "code",
   "execution_count": 41,
   "metadata": {},
   "outputs": [
    {
     "name": "stdout",
     "output_type": "stream",
     "text": [
      "cpu\n"
     ]
    }
   ],
   "source": [
    "DATA_PATH = Path(os.path.expandvars('$HOME')) / 'data'\n",
    "WIKI_DS_NAME = '20200501.en'\n",
    "\n",
    "TRAIN_ENCDEC_BERT_PATH = DATA_PATH / 'train_mllm_encmix_bert'\n",
    "encdec_subdir = 'encmixbert-20250408_115220-bert-base-uncased-d768-inp128-oemb_inp'\n",
    "\n",
    "encmix_train_path = TRAIN_ENCDEC_BERT_PATH / encdec_subdir\n",
    "encmix_snapshot_fpath = encmix_train_path / 'best.pth'\n",
    "encmix_model_cfg_fpath = encmix_train_path / ENCMIX_BERT_MODEL_CFG_FNAME\n",
    "\n",
    "device_name = 'cpu'\n",
    "# device_name = 'cuda'\n",
    "\n",
    "device = torch.device(device_name)\n",
    "print(device)\n",
    "\n",
    "batch_size = 5"
   ]
  },
  {
   "cell_type": "markdown",
   "metadata": {},
   "source": [
    "## Load dataset and model"
   ]
  },
  {
   "cell_type": "code",
   "execution_count": 42,
   "metadata": {},
   "outputs": [
    {
     "name": "stdout",
     "output_type": "stream",
     "text": [
      "Loading Wikipedia dataset: 20200501.en\n"
     ]
    },
    {
     "name": "stderr",
     "output_type": "stream",
     "text": [
      "Reusing dataset wikipedia (/home/misha/data/wikipedia/20200501.en/1.0.0/009f923d9b6dd00c00c8cdc7f408f2b47f45dd4f5fb7982a21f9448f4afbe475)\n"
     ]
    },
    {
     "data": {
      "application/vnd.jupyter.widget-view+json": {
       "model_id": "a5545be2868546b382acefcae1a99f83",
       "version_major": 2,
       "version_minor": 0
      },
      "text/plain": [
       "  0%|          | 0/1 [00:00<?, ?it/s]"
      ]
     },
     "metadata": {},
     "output_type": "display_data"
    },
    {
     "name": "stdout",
     "output_type": "stream",
     "text": [
      "Wikipedia 20200501.en docs: 6078422\n"
     ]
    }
   ],
   "source": [
    "wiki_ds_name = '20200501.en'\n",
    "print(f'Loading Wikipedia dataset: {wiki_ds_name}')\n",
    "wiki_ds_subdir = 'wikipedia'\n",
    "dss = load_dataset(wiki_ds_subdir, wiki_ds_name, beam_runner='DirectRunner', cache_dir=str(DATA_PATH))\n",
    "ds = cast(Dataset, dss['train'])\n",
    "n_docs = len(ds)\n",
    "print(f'Wikipedia {wiki_ds_name} docs: {n_docs}')"
   ]
  },
  {
   "cell_type": "code",
   "execution_count": 54,
   "metadata": {},
   "outputs": [
    {
     "name": "stdout",
     "output_type": "stream",
     "text": [
      "inp_len=128 d_model=768 pretrained_model_name='bert-base-uncased' tokenizer_name='bert-base-uncased' out_embs_type=<EncmixOutEmbsType.Inp: 'inp'>\n",
      "BertTokenizerFast(name_or_path='bert-base-uncased', vocab_size=30522, model_max_length=512, is_fast=True, padding_side='right', truncation_side='right', special_tokens={'unk_token': '[UNK]', 'sep_token': '[SEP]', 'pad_token': '[PAD]', 'cls_token': '[CLS]', 'mask_token': '[MASK]'}, clean_up_tokenization_spaces=True),  added_tokens_decoder={\n",
      "\t0: AddedToken(\"[PAD]\", rstrip=False, lstrip=False, single_word=False, normalized=False, special=True),\n",
      "\t100: AddedToken(\"[UNK]\", rstrip=False, lstrip=False, single_word=False, normalized=False, special=True),\n",
      "\t101: AddedToken(\"[CLS]\", rstrip=False, lstrip=False, single_word=False, normalized=False, special=True),\n",
      "\t102: AddedToken(\"[SEP]\", rstrip=False, lstrip=False, single_word=False, normalized=False, special=True),\n",
      "\t103: AddedToken(\"[MASK]\", rstrip=False, lstrip=False, single_word=False, normalized=False, special=True),\n",
      "}\n"
     ]
    }
   ],
   "source": [
    "model_cfg = parse_yaml_file_as(EncmixBertCfg, encmix_model_cfg_fpath)\n",
    "tkz = AutoTokenizer.from_pretrained(model_cfg.tokenizer_name)\n",
    "tkz = cast(PreTrainedTokenizer, tkz)\n",
    "print(model_cfg)\n",
    "print(tkz)"
   ]
  },
  {
   "cell_type": "code",
   "execution_count": 55,
   "metadata": {},
   "outputs": [],
   "source": [
    "doc_inds = np.arange(len(ds))\n",
    "ds_it = EedWikiIterator(\n",
    "    ds=ds, inds=doc_inds, inp_len=model_cfg.inp_len, tkz=tkz, docs_batch_size=batch_size, device=device,\n",
    "    preserve_edge_tokens=True,\n",
    ")"
   ]
  },
  {
   "cell_type": "code",
   "execution_count": 56,
   "metadata": {},
   "outputs": [
    {
     "name": "stdout",
     "output_type": "stream",
     "text": [
      "EncmixBert(\n",
      "  (bert_model): MixBertModel(\n",
      "    (embeddings): BertEmbeddings(\n",
      "      (word_embeddings): Embedding(30522, 768, padding_idx=0)\n",
      "      (position_embeddings): Embedding(512, 768)\n",
      "      (token_type_embeddings): Embedding(2, 768)\n",
      "      (LayerNorm): LayerNorm((768,), eps=1e-12, elementwise_affine=True)\n",
      "      (dropout): Dropout(p=0.1, inplace=False)\n",
      "    )\n",
      "    (encoder): BertEncoder(\n",
      "      (layer): ModuleList(\n",
      "        (0-11): 12 x BertLayer(\n",
      "          (attention): BertAttention(\n",
      "            (self): BertSdpaSelfAttention(\n",
      "              (query): Linear(in_features=768, out_features=768, bias=True)\n",
      "              (key): Linear(in_features=768, out_features=768, bias=True)\n",
      "              (value): Linear(in_features=768, out_features=768, bias=True)\n",
      "              (dropout): Dropout(p=0.1, inplace=False)\n",
      "            )\n",
      "            (output): BertSelfOutput(\n",
      "              (dense): Linear(in_features=768, out_features=768, bias=True)\n",
      "              (LayerNorm): LayerNorm((768,), eps=1e-12, elementwise_affine=True)\n",
      "              (dropout): Dropout(p=0.1, inplace=False)\n",
      "            )\n",
      "          )\n",
      "          (intermediate): BertIntermediate(\n",
      "            (dense): Linear(in_features=768, out_features=3072, bias=True)\n",
      "            (intermediate_act_fn): GELUActivation()\n",
      "          )\n",
      "          (output): BertOutput(\n",
      "            (dense): Linear(in_features=3072, out_features=768, bias=True)\n",
      "            (LayerNorm): LayerNorm((768,), eps=1e-12, elementwise_affine=True)\n",
      "            (dropout): Dropout(p=0.1, inplace=False)\n",
      "          )\n",
      "        )\n",
      "      )\n",
      "    )\n",
      "    (pooler): BertPooler(\n",
      "      (dense): Linear(in_features=768, out_features=768, bias=True)\n",
      "      (activation): Tanh()\n",
      "    )\n",
      "  )\n",
      ")\n"
     ]
    }
   ],
   "source": [
    "chkpt = torch.load(encmix_snapshot_fpath, map_location=device)\n",
    "model = EncmixBert(cfg=model_cfg, tkz=tkz, device=device)\n",
    "strict = True\n",
    "# strict = False\n",
    "model.load_state_dict(chkpt['model'], strict=strict)\n",
    "del chkpt\n",
    "model.eval()\n",
    "print(model)"
   ]
  },
  {
   "cell_type": "markdown",
   "metadata": {},
   "source": [
    "## Run inference on batch"
   ]
  },
  {
   "cell_type": "code",
   "execution_count": 64,
   "metadata": {},
   "outputs": [
    {
     "name": "stdout",
     "output_type": "stream",
     "text": [
      "2 church, was demolished around 1530, the saint - george chapel became the new main church [SEP]\n"
     ]
    }
   ],
   "source": [
    "i_batch = 0\n",
    "i1, i2 = i_batch * batch_size, (i_batch + 1) * batch_size\n",
    "batch_inds = doc_inds[i1:i2]\n",
    "\n",
    "docs_toks_aug_t, docs_toks_tgt_t = ds_it.get_batch_tokens(batch_inds)"
   ]
  },
  {
   "cell_type": "code",
   "execution_count": 65,
   "metadata": {},
   "outputs": [
    {
     "name": "stdout",
     "output_type": "stream",
     "text": [
      "000 Yangliuqing () is a market town in Xiqing District, in the western suburbs of Tianjin, People's Republic of China. Despite its relatively small size, it has been named since 2006 in the \"famous historical and cultural market towns in China\".\\n\\nIt is best known in China for creating nianhua or Yangliuqing nianhua. For more than 400 years, Yangliuqing has in effect specialised in the creation of these woodcuts for the New Year.  wood block prints using vivid colourschemes to portray traditional scenes of children's games often interwoven with auspiciouse objects.\\n\\n, it had 27 residential communities () and 25 villages under its administration.\\n\\nShi Family Grand Courtyard\\n\\nShi Family Grand Courtyard (Tiānjīn Shí Jiā Dà Yuàn, 天津石家大院) is situated in Yangliuqing Town of Xiqing District, which is the former residence of wealthy merchant Shi Yuanshi - the 4th son of Shi Wancheng, one of the eight great masters in Tianjin. First built in 1875, it covers over 6,000 square meters, including large and small yards and over 200 folk houses, a theater and over 275 rooms that served as apartments and places of business and worship for this powerful family. Shifu Garden, which finished its expansion in October 2003, covers 1,200 square meters, incorporates the elegance of imperial garden and delicacy of south garden. Now the courtyard of Shi family covers about 10,000 square meters, which is called the first mansion in North China. Now it serves as the folk custom museum in Yangliuqing, which has a large collection of folk custom museum in Yanliuqing, which has a large collection of folk art pieces like Yanliuqing New Year pictures, brick sculpture.\\n\\nShi's ancestor came from Dong'e County in Shandong Province, engaged in water transport of grain. As the wealth gradually accumulated, the Shi Family moved to Yangliuqing and bought large tracts of land and set up their residence. Shi Yuanshi came from the fourth generation of the family, who was a successful businessman and a good household manager, and the residence was thus enlarged for several times until it acquired the present scale. It is believed to be the first mansion in the west of Tianjin.\\n\\nThe residence is symmetric based on the axis formed by a passageway in the middle, on which there are four archways. On the east side of the courtyard, there are traditional single-story houses with rows of rooms around the four sides, which was once the living area for the Shi Family. The rooms on north side were the accountants' office. On the west are the major constructions including the family hall for worshipping Buddha, theater and the south reception room. On both sides of the residence are side yard rooms for maids and servants.\\n\\nToday, the Shi mansion, located in the township of Yangliuqing to the west of central Tianjin, stands as a surprisingly well-preserved monument to China's pre-revolution mercantile spirit. It also serves as an on-location shoot for many of China's popular historical dramas. Many of the rooms feature period furniture, paintings and calligraphy, and the extensive Shifu Garden.\\n\\nPart of the complex has been turned into the Yangliuqing Museum, which includes displays focused on symbolic aspects of the courtyards'  construction, local folk art and customs, and traditional period furnishings and crafts.\\n\\nSee also \\n\\nList of township-level divisions of Tianjin\\n\\nReferences \\n\\n http://arts.cultural-china.com/en/65Arts4795.html\\n\\nCategory:Towns in Tianjin\n",
      "001 Orana Australia Ltd is a not-for-profit organisation that provides a diverse range of training and support services to over 650 people with disabilities and their families in South Australia.\\n\\nHistory\\nThe Mentally Retarded Children’s Society of SA Inc. was established in 1950 by a group of parents who wanted education, employment and accommodation opportunities for their children within the local community at a time when institutionalised care in Adelaide was their only alternative.\\n\\nThe society’s aims were to seek education or training facilities for people with intellectual disabilities, to establish sheltered workshops, and to establish residential hostels.\\n\\nA number of sheltered workshops were established, and in 1980, the name was changed to the Aboriginal word \"Orana\", which means \"Welcome\".\\n\\nToday, Orana provides assisted employment, assisted accommodation and respite services to people with intellectual disabilities.\\n\\nOrana's current and previous clients include Mitsubishi Motors, Clipsal, RAA, Elders Limited, and Billycart Kids.\\n\\nOrana was one of the first disability service organisations to achieve Quality Accreditation.  The services and products they offer are:\\n\\n Packaging\\n Assembly\\n Sewing\\n Collating & Mailing\\n Furniture - Retail\\n Furniture – Manufacture for Commercial Market\\n Worm Farming\\n Work Crews\\n Pet & Grain – Retail\\n\\nIn 2018, after 65 years of bettering people’s lives, Orana identified a community need and expanded their operations into the aged care sector.\\n\\nAfter the unveiling of the Australian Government’s Commonwealth Home Support Programme (CHSP) and seeing it as a natural step of progression, Orana now provides quality tailored aged care at home.\\n\\nThe well-resourced organization delivers help across a range of areas, helping the elderly remain where they want to be - in the comfort of their own home during their later years.\\n\\nOrana continues with its mission to support people remain independent, valued and productive members of the community.\\n\\nReferences\\n\\nExternal links \\n \\n\\nCategory:Disability organisations based in Australia\\nCategory:Organisations based in South Australia\n",
      "002 The St. Mary's Church is a church owned by the Church of Denmark in Sønderborg, Denmark and the church of the parish with the same name. Thanks to its location on a hill, the church building is very iconic for the city.\\n\\nHistory \\nIn the Middle Ages there was a leper colony on a hill just outside the city. It was named after Saint George and around 1300 the chapel of this leper colony stood in the place of the present St. Mary's Church. After the old parish church of the city, the St. Nicholas Church, was demolished around 1530, the Saint-George chapel became the new main church. Towards the end of the 16th century, John II, Duke of Schleswig-Holstein-Sonderburg commissioned the enlargement of the building in order to make it suitable for the function of the parish church of his city.\\n\\nThe current St. Mary's Church \\nIn 1595 a start was made on the partial demolition of the old church and the construction of the new church. Only parts of the old medieval church remained. From the medieval church, a medieval wooden wall cupboard dating from about 1400 remained. The solemn inauguration of the new parish church took place just before Christmas in 1600. In 1649 the George Church was renamed as the Mary Church. The name of Saint George stayed in the Danish names Sankt Jørgensgade and Jørgensbjerg.\\n\\nReferences \\n\\nCategory:Buildings and structures in Sønderborg Municipality\\nCategory:Churches in Denmark\\nCategory:Church of Denmark churches\n",
      "003 Kalitta may refer to:\\n\\nConnie Kalitta (born 1938), a retired American drag racer and CEO of the eponymous Kallita Air.\\nDoug Kalitta (born 1964), an American drag racer, nephew of Connie Kalitta and owner of Kalitta Charters.\\nScott Kalitta (1962-2008), an American drag racer and son of Connie Kalitta.\\nKalitta Air, a cargo airline flying Boeing 747 aircraft.\\nKalitta Charters, a cargo airline flying medium-sized aircraft.\n",
      "004 Where Is Freedom? () is a 1954 Italian comedy-drama film directed by Roberto Rossellini. \\n \\nThe film had a troubled production because, after shooting some scenes, Rossellini lost interest in the film and abandoned the set. The work was completed after about a year, mainly from Mario Monicelli, with some scenes also shot by Lucio Fulci and Federico Fellini. Despite that, Rossellini is the sole credited director of the film.\\n\\nPlot \\nDifficulties and troubles of an ex-convict. Embittered and disillusioned by life, he will soon plan his return to prison.\\n\\nCast \\nTotò: Salvatore Lo Jacono \\nVera Molnar: Agnesina \\nNita Dover:  maratoneta di danza \\nFranca Faldini: Maria \\nLeopoldo Trieste: Abramo Piperno \\nAntonio Nicotra: maresciallo \\nSalvo Libassi:  maresciallo #2 \\nGiacomo Rondinella:  carcerato \\nUgo D'Alessio:  giudice\\nMario Castellani: pubblico ministero \\nVincenzo Talarico: avvocato difensore\\nPietro Carloni:  Pietro\\n\\nReferences\\n\\nExternal links\\n\\n   \\n\\nCategory:1954 films\\nCategory:Italian comedy-drama films\\nCategory:1950s comedy-drama films\\nCategory:Films directed by Roberto Rossellini\\nCategory:Commedia all'italiana\\nCategory:Films set in Rome\\nCategory:Italian films\\nCategory:Films produced by Dino De Laurentiis\\nCategory:Films produced by Carlo Ponti\n"
     ]
    }
   ],
   "source": [
    "for i, doc_ind in enumerate(batch_inds):\n",
    "    doc = ds[doc_ind.item()]\n",
    "    title, text = doc['title'], doc['text'].replace('\\n', '\\\\n')\n",
    "    print(f'{i:03d} {text}')"
   ]
  },
  {
   "cell_type": "code",
   "execution_count": 66,
   "metadata": {},
   "outputs": [
    {
     "name": "stdout",
     "output_type": "stream",
     "text": [
      "000 [CLS] side yard rooms for maids and servants. today, the shi mansion, located in the township of yangliuqing to the west of central tianjin, stands as a surprisingly well - preserved monument to china's pre - revolution mercantile spirit. it also serves as an on - location shoot for many of china's popular historical dramas. many of the rooms feature period furniture, paintings and calligraphy, and the extensive shifu garden. part of the complex has been turned into the yangliuqing museum, which includes displays focused on symbolic aspects of the courtyards'construction, local folk art and customs, and traditional period furnishings [SEP]\n",
      "001 [CLS] established, and in 1980, the name was changed to the aboriginal word \" orana \", which means \" welcome \". today, orana provides assisted employment, assisted accommodation and respite services to people with intellectual disabilities. orana's current and previous clients include mitsubishi motors, clipsal, raa, elders limited, and billycart kids. orana was one of the first disability service organisations to achieve quality accreditation. the services and products they offer are : packaging assembly sewing collating & mailing furniture - retail furniture – manufacture for commercial market worm farming work crews pet & grain – retail in 2018, after [SEP]\n",
      "002 [CLS] city. history in the middle ages there was a leper colony on a hill just outside the city. it was named after saint george and around 1300 the chapel of this leper colony stood in the place of the present st. mary's church. after the old parish church of the city, the st. nicholas [MASK] [MASK] [MASK] [MASK] [MASK] [MASK] [MASK] [MASK] [MASK] [MASK] [MASK] [MASK] [MASK] [MASK] [MASK] [MASK] [MASK] [MASK]. towards the end of the 16th century, john ii, duke of schleswig - holstein - sonderburg commissioned the enlargement of the building in order to make it suitable for the function of the parish church of his [SEP]\n",
      "002 church, was demolished around 1530, the saint - george chapel became the new main church [SEP]\n",
      "003 [CLS] kalitta may refer to : connie kalitta ( born 1938 ), a retired american drag racer and ceo of the eponymous kallita air. doug kalitta ( born 1964 ), an american drag racer, nephew of connie kalitta and owner of kalitta charters. scott kalitta ( 1962 - 2008 ), an american drag racer and son of connie kalitta. kalitta air, a cargo airline flying boeing 747 aircraft. kalitta charters, a cargo airline flying medium - sized aircraft. [SEP] [PAD] [PAD] [PAD] [PAD] [PAD] [PAD] [PAD] [PAD] [PAD] [PAD] [PAD] [PAD] [PAD] [PAD] [PAD] [PAD] [PAD] [PAD] [PAD] [PAD] [PAD] [PAD] [PAD] [PAD] [PAD] [PAD] [PAD]\n",
      "004 [CLS] ex - convict. embittered and disillusioned by life, he will soon plan his return to prison. cast toto : salvatore lo jacono vera molnar : agnesina nita dover : maratoneta di danza franca faldini : maria leopoldo trieste : abramo piperno antonio nicotra : maresciallo salvo libassi : maresciallo # 2 giacomo rondinella : carcerato ugo d'alessio : giudice mario castellani : pubblico ministero vincenzo talarico : avvocato difensore [SEP]\n"
     ]
    }
   ],
   "source": [
    "for i, doc_ind in enumerate(batch_inds):\n",
    "    # doc = ds[doc_ind]\n",
    "    # title, text = doc['title'], doc['text'].replace('\\n', '\\\\n')\n",
    "    toks_aug = docs_toks_aug_t[i]\n",
    "    txt_aug = tkz.decode(toks_aug)\n",
    "    print(f'{doc_ind:03d} {txt_aug}')\n",
    "    if (toks_aug == tkz.mask_token_id).sum() > 0:\n",
    "        txt_tgt = tkz.decode(docs_toks_tgt_t)\n",
    "        print(f'{doc_ind:03d} {txt_tgt}')"
   ]
  },
  {
   "cell_type": "code",
   "execution_count": 67,
   "metadata": {},
   "outputs": [
    {
     "data": {
      "text/plain": [
       "torch.Size([19, 30522])"
      ]
     },
     "execution_count": 67,
     "metadata": {},
     "output_type": "execute_result"
    }
   ],
   "source": [
    "out_logits = model.run_chunks_plain_seq(chunk_toks=docs_toks_aug_t, target_toks=docs_toks_tgt_t)\n",
    "out_logits.shape"
   ]
  },
  {
   "cell_type": "code",
   "execution_count": 68,
   "metadata": {},
   "outputs": [
    {
     "name": "stdout",
     "output_type": "stream",
     "text": [
      "church, was demolished around 1530, the saint - george chapel became the new main church [SEP]\n",
      ",, and a. the4, and first of [SEP] [SEP], a first york school.\n"
     ]
    }
   ],
   "source": [
    "probs_pred = torch.softmax(out_logits, dim=-1)\n",
    "toks_pred = torch.argmax(probs_pred, dim=-1)\n",
    "# print(toks_pred.shape)\n",
    "print(txt_tgt)\n",
    "txt_pred = tkz.decode(toks_pred)\n",
    "print(txt_pred)"
   ]
  },
  {
   "cell_type": "code",
   "execution_count": null,
   "metadata": {},
   "outputs": [],
   "source": []
  },
  {
   "cell_type": "code",
   "execution_count": null,
   "metadata": {},
   "outputs": [],
   "source": []
  },
  {
   "cell_type": "code",
   "execution_count": null,
   "metadata": {},
   "outputs": [],
   "source": []
  },
  {
   "cell_type": "code",
   "execution_count": null,
   "metadata": {},
   "outputs": [],
   "source": []
  },
  {
   "cell_type": "code",
   "execution_count": null,
   "metadata": {},
   "outputs": [],
   "source": []
  }
 ],
 "metadata": {
  "kernelspec": {
   "display_name": "mllm",
   "language": "python",
   "name": "python3"
  },
  "language_info": {
   "codemirror_mode": {
    "name": "ipython",
    "version": 3
   },
   "file_extension": ".py",
   "mimetype": "text/x-python",
   "name": "python",
   "nbconvert_exporter": "python",
   "pygments_lexer": "ipython3",
   "version": "3.10.14"
  }
 },
 "nbformat": 4,
 "nbformat_minor": 2
}
