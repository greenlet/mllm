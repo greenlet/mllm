{
 "cells": [
  {
   "cell_type": "code",
   "execution_count": 1,
   "metadata": {},
   "outputs": [],
   "source": [
    "%load_ext autoreload\n",
    "%autoreload 2"
   ]
  },
  {
   "cell_type": "code",
   "execution_count": 2,
   "metadata": {},
   "outputs": [
    {
     "name": "stderr",
     "output_type": "stream",
     "text": [
      "/home/misha/miniconda3/envs/mllm/lib/python3.10/site-packages/torchtext/datasets/__init__.py:4: UserWarning: \n",
      "/!\\ IMPORTANT WARNING ABOUT TORCHTEXT STATUS /!\\ \n",
      "Torchtext is deprecated and the last released version will be 0.18 (this one). You can silence this warning by calling the following at the beginnign of your scripts: `import torchtext; torchtext.disable_torchtext_deprecation_warning()`\n",
      "  warnings.warn(torchtext._TORCHTEXT_DEPRECATION_MSG)\n",
      "/home/misha/miniconda3/envs/mllm/lib/python3.10/site-packages/torchtext/data/__init__.py:4: UserWarning: \n",
      "/!\\ IMPORTANT WARNING ABOUT TORCHTEXT STATUS /!\\ \n",
      "Torchtext is deprecated and the last released version will be 0.18 (this one). You can silence this warning by calling the following at the beginnign of your scripts: `import torchtext; torchtext.disable_torchtext_deprecation_warning()`\n",
      "  warnings.warn(torchtext._TORCHTEXT_DEPRECATION_MSG)\n"
     ]
    }
   ],
   "source": [
    "import os\n",
    "from pathlib import Path\n",
    "import sys\n",
    "from typing import Optional, cast\n",
    "if '..' not in sys.path: sys.path.append('..')\n",
    "\n",
    "from datasets import load_dataset\n",
    "from datasets.arrow_dataset import Dataset\n",
    "import numpy as np\n",
    "from matplotlib import pyplot as plt\n",
    "from pydantic_yaml import parse_yaml_file_as\n",
    "import torch\n",
    "from torch import nn\n",
    "import torch.nn.functional as F\n",
    "from transformers import GPT2Tokenizer, AddedToken, PreTrainedTokenizer, AutoTokenizer\n",
    "\n",
    "from mllm.data.wiki.dswiki import WikiDsLoader\n",
    "from mllm.exp.args import ENCMIX_BERT_MODEL_CFG_FNAME\n",
    "from mllm.train.utils import EedWikiIterator, QnaQuesInp, get_squadv2_df, get_squadv2_batch\n",
    "from mllm.model.encmix import EncmixBert\n",
    "from mllm.config.model import EncmixBertCfg, EncmixTrainDsType\n"
   ]
  },
  {
   "cell_type": "markdown",
   "metadata": {},
   "source": [
    "# EncmixBert inference\n",
    "## Config"
   ]
  },
  {
   "cell_type": "code",
   "execution_count": 17,
   "metadata": {},
   "outputs": [
    {
     "name": "stdout",
     "output_type": "stream",
     "text": [
      "cpu\n"
     ]
    }
   ],
   "source": [
    "DATA_PATH = Path(os.path.expandvars('$HOME')) / 'data'\n",
    "WIKI_DS_NAME = '20200501.en'\n",
    "\n",
    "TRAIN_ENCDEC_BERT_PATH = DATA_PATH / 'train_mllm_encmix_bert'\n",
    "encdec_subdir = 'encmixbert-20250416_225131-bert-base-uncased-d768-inp256-oemb_inp-tte_t-ds_msk'\n",
    "# encdec_subdir = 'encmixbert-20250410_161455-bert-base-uncased-d768-inp128-oemb_new-ds_qna'\n",
    "# encdec_subdir = 'encmixbert-20250411_100815-bert-base-uncased-d768-inp256-oemb_new-ds_qna'\n",
    "# encdec_subdir = 'encmixbert-20250411_231241-bert-large-uncased-d1024-inp256-oemb_new-ds_qna'\n",
    "\n",
    "encmix_train_path = TRAIN_ENCDEC_BERT_PATH / encdec_subdir\n",
    "encmix_snapshot_fpath = encmix_train_path / 'best.pth'\n",
    "encmix_model_cfg_fpath = encmix_train_path / ENCMIX_BERT_MODEL_CFG_FNAME\n",
    "\n",
    "device_name = 'cpu'\n",
    "# device_name = 'cuda'\n",
    "\n",
    "device = torch.device(device_name)\n",
    "print(device)\n",
    "\n",
    "batch_size = 1"
   ]
  },
  {
   "cell_type": "code",
   "execution_count": 18,
   "metadata": {},
   "outputs": [
    {
     "name": "stdout",
     "output_type": "stream",
     "text": [
      "EncmixTrainDsType.Msk\n"
     ]
    }
   ],
   "source": [
    "ds_type = EncmixTrainDsType.Msk\n",
    "for part in encdec_subdir.split('-'):\n",
    "    if part.startswith('ds_'):\n",
    "        ds_type = EncmixTrainDsType(part[3:])\n",
    "print(ds_type)"
   ]
  },
  {
   "cell_type": "markdown",
   "metadata": {},
   "source": [
    "## Load model"
   ]
  },
  {
   "cell_type": "code",
   "execution_count": 19,
   "metadata": {},
   "outputs": [
    {
     "name": "stdout",
     "output_type": "stream",
     "text": [
      "inp_len=256 d_model=768 pretrained_model_name='bert-base-uncased' tokenizer_name='bert-base-uncased' out_embs_type=<EncmixOutEmbsType.Inp: 'inp'> token_types_for_embs=True\n",
      "BertTokenizerFast(name_or_path='bert-base-uncased', vocab_size=30522, model_max_length=512, is_fast=True, padding_side='right', truncation_side='right', special_tokens={'unk_token': '[UNK]', 'sep_token': '[SEP]', 'pad_token': '[PAD]', 'cls_token': '[CLS]', 'mask_token': '[MASK]'}, clean_up_tokenization_spaces=True),  added_tokens_decoder={\n",
      "\t0: AddedToken(\"[PAD]\", rstrip=False, lstrip=False, single_word=False, normalized=False, special=True),\n",
      "\t100: AddedToken(\"[UNK]\", rstrip=False, lstrip=False, single_word=False, normalized=False, special=True),\n",
      "\t101: AddedToken(\"[CLS]\", rstrip=False, lstrip=False, single_word=False, normalized=False, special=True),\n",
      "\t102: AddedToken(\"[SEP]\", rstrip=False, lstrip=False, single_word=False, normalized=False, special=True),\n",
      "\t103: AddedToken(\"[MASK]\", rstrip=False, lstrip=False, single_word=False, normalized=False, special=True),\n",
      "}\n"
     ]
    }
   ],
   "source": [
    "model_cfg = parse_yaml_file_as(EncmixBertCfg, encmix_model_cfg_fpath)\n",
    "tkz = AutoTokenizer.from_pretrained(model_cfg.tokenizer_name)\n",
    "tkz = cast(PreTrainedTokenizer, tkz)\n",
    "print(model_cfg)\n",
    "print(tkz)"
   ]
  },
  {
   "cell_type": "code",
   "execution_count": 20,
   "metadata": {},
   "outputs": [
    {
     "name": "stdout",
     "output_type": "stream",
     "text": [
      "BertConfig {\n",
      "  \"_name_or_path\": \"bert-base-uncased\",\n",
      "  \"architectures\": [\n",
      "    \"BertForMaskedLM\"\n",
      "  ],\n",
      "  \"attention_probs_dropout_prob\": 0.1,\n",
      "  \"classifier_dropout\": null,\n",
      "  \"gradient_checkpointing\": false,\n",
      "  \"hidden_act\": \"gelu\",\n",
      "  \"hidden_dropout_prob\": 0.1,\n",
      "  \"hidden_size\": 768,\n",
      "  \"initializer_range\": 0.02,\n",
      "  \"intermediate_size\": 3072,\n",
      "  \"layer_norm_eps\": 1e-12,\n",
      "  \"max_position_embeddings\": 512,\n",
      "  \"model_type\": \"bert\",\n",
      "  \"num_attention_heads\": 12,\n",
      "  \"num_hidden_layers\": 12,\n",
      "  \"pad_token_id\": 0,\n",
      "  \"position_embedding_type\": \"absolute\",\n",
      "  \"transformers_version\": \"4.42.4\",\n",
      "  \"type_vocab_size\": 2,\n",
      "  \"use_cache\": true,\n",
      "  \"vocab_size\": 30522\n",
      "}\n",
      "\n"
     ]
    }
   ],
   "source": [
    "chkpt = torch.load(encmix_snapshot_fpath, map_location=device)\n",
    "model = EncmixBert(cfg=model_cfg, tkz=tkz, device=device)\n",
    "strict = True\n",
    "# strict = False\n",
    "model.load_state_dict(chkpt['model'], strict=strict)\n",
    "del chkpt\n",
    "model.eval()\n",
    "# print(model)\n",
    "None"
   ]
  },
  {
   "cell_type": "markdown",
   "metadata": {},
   "source": [
    "## Wikipedia mask prediction"
   ]
  },
  {
   "cell_type": "code",
   "execution_count": 21,
   "metadata": {},
   "outputs": [
    {
     "name": "stdout",
     "output_type": "stream",
     "text": [
      "Loading Wikipedia dataset: 20200501.en\n"
     ]
    },
    {
     "name": "stderr",
     "output_type": "stream",
     "text": [
      "Reusing dataset wikipedia (/home/misha/data/wikipedia/20200501.en/1.0.0/009f923d9b6dd00c00c8cdc7f408f2b47f45dd4f5fb7982a21f9448f4afbe475)\n"
     ]
    },
    {
     "data": {
      "application/vnd.jupyter.widget-view+json": {
       "model_id": "2e1de8cd19df489ab84a00aee28a5ada",
       "version_major": 2,
       "version_minor": 0
      },
      "text/plain": [
       "  0%|          | 0/1 [00:00<?, ?it/s]"
      ]
     },
     "metadata": {},
     "output_type": "display_data"
    },
    {
     "name": "stdout",
     "output_type": "stream",
     "text": [
      "Wikipedia 20200501.en docs: 6078422\n"
     ]
    }
   ],
   "source": [
    "wiki_ds_name = '20200501.en'\n",
    "print(f'Loading Wikipedia dataset: {wiki_ds_name}')\n",
    "wiki_ds_subdir = 'wikipedia'\n",
    "dss = load_dataset(wiki_ds_subdir, wiki_ds_name, beam_runner='DirectRunner', cache_dir=str(DATA_PATH))\n",
    "ds = cast(Dataset, dss['train'])\n",
    "n_docs = len(ds)\n",
    "print(f'Wikipedia {wiki_ds_name} docs: {n_docs}')"
   ]
  },
  {
   "cell_type": "code",
   "execution_count": 22,
   "metadata": {},
   "outputs": [],
   "source": [
    "doc_inds = np.arange(len(ds))\n",
    "ds_it = EedWikiIterator(\n",
    "    ds=ds, inds=doc_inds, inp_len=model_cfg.inp_len, tkz=tkz, docs_batch_size=batch_size, device=device,\n",
    "    preserve_edge_tokens=True,\n",
    ")"
   ]
  },
  {
   "cell_type": "code",
   "execution_count": 37,
   "metadata": {},
   "outputs": [],
   "source": [
    "i_batch = 2\n",
    "i1, i2 = i_batch * batch_size, (i_batch + 1) * batch_size\n",
    "batch_inds = doc_inds[i1:i2]\n",
    "\n",
    "docs_toks_aug_t, docs_toks_tgt_t = ds_it.get_batch_tokens(batch_inds)"
   ]
  },
  {
   "cell_type": "code",
   "execution_count": 34,
   "metadata": {},
   "outputs": [
    {
     "name": "stdout",
     "output_type": "stream",
     "text": [
      "000 The St. Mary's Church is a church owned by the Church of Denmark in Sønderborg, Denmark and the church of the parish with the same name. Thanks to its location on a hill, the church building is very iconic for the city.\\n\\nHistory \\nIn the Middle Ages there was a leper colony on a hill just outside the city. It was named after Saint George and around 1300 the chapel of this leper colony stood in the place of the present St. Mary's Church. After the old parish church of the city, the St. Nicholas Church, was demolished around 1530, the Saint-George chapel became the new main church. Towards the end of the 16th century, John II, Duke of Schleswig-Holstein-Sonderburg commissioned the enlargement of the building in order to make it suitable for the function of the parish church of his city.\\n\\nThe current St. Mary's Church \\nIn 1595 a start was made on the partial demolition of the old church and the construction of the new church. Only parts of the old medieval church remained. From the medieval church, a medieval wooden wall cupboard dating from about 1400 remained. The solemn inauguration of the new parish church took place just before Christmas in 1600. In 1649 the George Church was renamed as the Mary Church. The name of Saint George stayed in the Danish names Sankt Jørgensgade and Jørgensbjerg.\\n\\nReferences \\n\\nCategory:Buildings and structures in Sønderborg Municipality\\nCategory:Churches in Denmark\\nCategory:Church of Denmark churches\n"
     ]
    }
   ],
   "source": [
    "for i, doc_ind in enumerate(batch_inds):\n",
    "    doc = ds[doc_ind.item()]\n",
    "    title, text = doc['title'], doc['text'].replace('\\n', '\\\\n')\n",
    "    print(f'{i:03d} {text}')"
   ]
  },
  {
   "cell_type": "code",
   "execution_count": 38,
   "metadata": {},
   "outputs": [
    {
     "name": "stdout",
     "output_type": "stream",
     "text": [
      "002 [CLS], the church building is very iconic for the city. history in the middle ages there was a leper colony on a hill just outside the city. it was named after saint george and around 1300 the chapel of this leper colony stood in the place of the present st. mary'[MASK] [MASK] [MASK] [MASK] [MASK] [MASK] [MASK] [MASK] [MASK] [MASK] [MASK] [MASK] [MASK] [MASK]. nicholas church, was demolished around 1530, the saint - george chapel became the new main church. towards the end of the 16th century, john ii, duke of schleswig - holstein - sonderburg commissioned the enlargement of the building in order to make it suitable for the function of the parish church of his city. the current st. mary's church in 1595 a start was made on the partial demolition of the old church and the construction of the new church. only parts of the old medieval church remained. from the medieval church, a medieval wooden wall cupboard dating from about 1400 remained. the solemn inauguration of the new parish church took place just before christmas in 1600. in 1649 the george church was renamed as the mary church. the name of saint george stayed in the danish names sankt jørgensgade and jørgensbjerg. references category : buildings and structures in s [SEP]\n",
      "002 s church. after the old parish church of the city, the st [SEP]\n"
     ]
    }
   ],
   "source": [
    "for i, doc_ind in enumerate(batch_inds):\n",
    "    # doc = ds[doc_ind]\n",
    "    # title, text = doc['title'], doc['text'].replace('\\n', '\\\\n')\n",
    "    toks_aug = docs_toks_aug_t[i]\n",
    "    txt_aug = tkz.decode(toks_aug)\n",
    "    print(f'{doc_ind:03d} {txt_aug}')\n",
    "    if (toks_aug == tkz.mask_token_id).sum() > 0:\n",
    "        txt_tgt = tkz.decode(docs_toks_tgt_t)\n",
    "        print(f'{doc_ind:03d} {txt_tgt}')"
   ]
  },
  {
   "cell_type": "code",
   "execution_count": 39,
   "metadata": {},
   "outputs": [
    {
     "name": "stdout",
     "output_type": "stream",
     "text": [
      "s church in the town of st. john, [SEP]\n"
     ]
    }
   ],
   "source": [
    "toks_pred = model.predict(chunk_toks=docs_toks_aug_t)\n",
    "txt_pred = tkz.decode(toks_pred)\n",
    "print(txt_pred)"
   ]
  },
  {
   "cell_type": "markdown",
   "metadata": {},
   "source": [
    "## Qna prediction"
   ]
  },
  {
   "cell_type": "code",
   "execution_count": 53,
   "metadata": {},
   "outputs": [
    {
     "name": "stderr",
     "output_type": "stream",
     "text": [
      "Reusing dataset squad_v2 (/home/misha/.cache/huggingface/datasets/squad_v2/squad_v2/2.0.0/09187c73c1b837c95d9a249cd97c2c3f1cebada06efe667b4427714b27639b1d)\n"
     ]
    },
    {
     "data": {
      "application/vnd.jupyter.widget-view+json": {
       "model_id": "83e2646518b34c8988c899e2930f9f62",
       "version_major": 2,
       "version_minor": 0
      },
      "text/plain": [
       "  0%|          | 0/2 [00:00<?, ?it/s]"
      ]
     },
     "metadata": {},
     "output_type": "display_data"
    },
    {
     "name": "stdout",
     "output_type": "stream",
     "text": [
      "Remove empty answers from dataset squad_v2. Size: 142192 --> 92749\n"
     ]
    }
   ],
   "source": [
    "exclude_empty_answers = True\n",
    "ques_inp = QnaQuesInp.Enc\n",
    "df_sq = get_squadv2_df(exclude_empty_answers=exclude_empty_answers)\n",
    "sq_inds = np.arange(len(df_sq))"
   ]
  },
  {
   "cell_type": "code",
   "execution_count": 67,
   "metadata": {},
   "outputs": [
    {
     "name": "stdout",
     "output_type": "stream",
     "text": [
      "torch.Size([1, 256]) 1 1\n"
     ]
    }
   ],
   "source": [
    "batch_size = 1\n",
    "i_batch = 3\n",
    "i1, i2 = i_batch * batch_size, (i_batch + 1) * batch_size\n",
    "batch_inds = sq_inds[i1:i2]\n",
    "sq_batch = get_squadv2_batch(tkz=tkz, df_sq=df_sq, inds=batch_inds, inp_len=model_cfg.inp_len, device=device, ques_inp=ques_inp)\n",
    "ctx_toks_t, (q_toks_t, a_toks_t, a_att_masks_t, a_tgt_masks_t) = sq_batch.gen_tensors()\n",
    "print(ctx_toks_t.shape, len(q_toks_t), len(a_toks_t))\n"
   ]
  },
  {
   "cell_type": "code",
   "execution_count": 68,
   "metadata": {},
   "outputs": [
    {
     "name": "stdout",
     "output_type": "stream",
     "text": [
      "[CLS] context1. further studies, e. g. jerome ravetz 1971 scientific knowledge and its social problems referred to the role of the scientific community, as a social construct, in accepting or rejecting ( objective ) scientific knowledge. the science wars of the 1990 were about the influence of especially french philosophers, which denied the objectivity of science in general or seemed to do so. they described as well differences between the idealized model of a pure science and the actual scientific practice ; while scientism, a revival of the positivism approach, saw in precise measurement and rigorous calculation the basis for finally settling enduring metaphysical and moral controversies. however, more recently some of the leading critical theorists have recognized that their postmodern deconstructions have at times been counter - productive, and are providing intellectual ammunition for reactionary interests. bruno latour noted that \" dangerous extremists are using the very same argument of social construction to destroy hard - won evidence that could save our lives. was i wrong to participate in the invention of this field known as science studies? is it enough to say that we did not really mean what we meant? \" [PAD] [PAD] [PAD] [PAD] [PAD] [PAD] [PAD] [PAD] [PAD] [PAD] [PAD] [PAD] [PAD] [PAD] [PAD] [PAD] [PAD] [PAD] [PAD] [PAD] [PAD] [PAD] [PAD] [PAD] [PAD] [PAD]\n"
     ]
    }
   ],
   "source": [
    "for ctx_toks in ctx_toks_t:\n",
    "    ctx_txt = tkz.decode(ctx_toks)\n",
    "    print(ctx_txt)"
   ]
  },
  {
   "cell_type": "code",
   "execution_count": 69,
   "metadata": {},
   "outputs": [
    {
     "name": "stdout",
     "output_type": "stream",
     "text": [
      "00. Q: [CLS] question : what did scientific knowledge and its social problems describe the scientific community as?. answer :\n",
      "00. A: a social construct [SEP]\n",
      "00. M: social and social [SEP]\n",
      "--------------------------------------------------\n"
     ]
    }
   ],
   "source": [
    "for i in range(len(q_toks_t)):\n",
    "    q_toks, a_toks = q_toks_t[i], a_toks_t[i]\n",
    "    q_toks = q_toks[q_toks != tkz.pad_token_id]\n",
    "    toks_pred = model.predict(chunk_toks=ctx_toks_t, plain_toks=q_toks)\n",
    "    q_txt, a_txt = tkz.decode(q_toks), tkz.decode(a_toks)\n",
    "    print(f'{i:02d}. Q: {q_txt}')\n",
    "    print(f'{i:02d}. A: {a_txt}')\n",
    "    txt_pred = tkz.decode(toks_pred)\n",
    "    print(f'{i:02d}. M: {txt_pred}')\n",
    "    print('-' * 50)"
   ]
  },
  {
   "cell_type": "code",
   "execution_count": null,
   "metadata": {},
   "outputs": [],
   "source": []
  },
  {
   "cell_type": "code",
   "execution_count": null,
   "metadata": {},
   "outputs": [],
   "source": []
  },
  {
   "cell_type": "code",
   "execution_count": null,
   "metadata": {},
   "outputs": [],
   "source": []
  }
 ],
 "metadata": {
  "kernelspec": {
   "display_name": "mllm",
   "language": "python",
   "name": "python3"
  },
  "language_info": {
   "codemirror_mode": {
    "name": "ipython",
    "version": 3
   },
   "file_extension": ".py",
   "mimetype": "text/x-python",
   "name": "python",
   "nbconvert_exporter": "python",
   "pygments_lexer": "ipython3",
   "version": "3.10.14"
  }
 },
 "nbformat": 4,
 "nbformat_minor": 2
}
