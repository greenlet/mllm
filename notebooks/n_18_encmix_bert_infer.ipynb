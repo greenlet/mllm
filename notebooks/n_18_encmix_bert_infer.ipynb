{
 "cells": [
  {
   "cell_type": "code",
   "execution_count": 1,
   "metadata": {},
   "outputs": [],
   "source": [
    "%load_ext autoreload\n",
    "%autoreload 2"
   ]
  },
  {
   "cell_type": "code",
   "execution_count": 2,
   "metadata": {},
   "outputs": [
    {
     "name": "stderr",
     "output_type": "stream",
     "text": [
      "/home/misha/miniconda3/envs/mllm/lib/python3.10/site-packages/torchtext/datasets/__init__.py:4: UserWarning: \n",
      "/!\\ IMPORTANT WARNING ABOUT TORCHTEXT STATUS /!\\ \n",
      "Torchtext is deprecated and the last released version will be 0.18 (this one). You can silence this warning by calling the following at the beginnign of your scripts: `import torchtext; torchtext.disable_torchtext_deprecation_warning()`\n",
      "  warnings.warn(torchtext._TORCHTEXT_DEPRECATION_MSG)\n",
      "/home/misha/miniconda3/envs/mllm/lib/python3.10/site-packages/torchtext/data/__init__.py:4: UserWarning: \n",
      "/!\\ IMPORTANT WARNING ABOUT TORCHTEXT STATUS /!\\ \n",
      "Torchtext is deprecated and the last released version will be 0.18 (this one). You can silence this warning by calling the following at the beginnign of your scripts: `import torchtext; torchtext.disable_torchtext_deprecation_warning()`\n",
      "  warnings.warn(torchtext._TORCHTEXT_DEPRECATION_MSG)\n"
     ]
    }
   ],
   "source": [
    "import os\n",
    "from pathlib import Path\n",
    "import sys\n",
    "from typing import Optional, cast\n",
    "if '..' not in sys.path: sys.path.append('..')\n",
    "\n",
    "from datasets import load_dataset\n",
    "from datasets.arrow_dataset import Dataset\n",
    "import numpy as np\n",
    "from matplotlib import pyplot as plt\n",
    "from pydantic_yaml import parse_yaml_file_as\n",
    "import torch\n",
    "from torch import nn\n",
    "import torch.nn.functional as F\n",
    "from transformers import GPT2Tokenizer, AddedToken, PreTrainedTokenizer, AutoTokenizer\n",
    "\n",
    "from mllm.data.wiki.dswiki import WikiDsLoader\n",
    "from mllm.exp.args import ENCMIX_BERT_MODEL_CFG_FNAME\n",
    "from mllm.train.utils import EedWikiIterator, QnaQuesInp, get_squadv2_df, get_squadv2_batch\n",
    "from mllm.model.encmix import EncmixBert\n",
    "from mllm.config.model import EncmixBertCfg, EncmixTrainDsType\n"
   ]
  },
  {
   "cell_type": "markdown",
   "metadata": {},
   "source": [
    "# EncmixBert inference\n",
    "## Config"
   ]
  },
  {
   "cell_type": "code",
   "execution_count": null,
   "metadata": {},
   "outputs": [
    {
     "name": "stdout",
     "output_type": "stream",
     "text": [
      "cpu\n"
     ]
    }
   ],
   "source": [
    "DATA_PATH = Path(os.path.expandvars('$HOME')) / 'data'\n",
    "WIKI_DS_NAME = '20200501.en'\n",
    "\n",
    "TRAIN_ENCDEC_BERT_PATH = DATA_PATH / 'train_mllm_encmix_bert'\n",
    "# encdec_subdir = 'encmixbert-20250416_225131-bert-base-uncased-d768-inp256-oemb_inp-tte_t-ds_msk'\n",
    "encdec_subdir = 'encmixbert-20250417_221441-bert-base-uncased-d768-inp256-oemb_inp-tte_t-ds_qna'\n",
    "\n",
    "encmix_train_path = TRAIN_ENCDEC_BERT_PATH / encdec_subdir\n",
    "encmix_snapshot_fpath = encmix_train_path / 'best.pth'\n",
    "encmix_model_cfg_fpath = encmix_train_path / ENCMIX_BERT_MODEL_CFG_FNAME\n",
    "\n",
    "device_name = 'cpu'\n",
    "# device_name = 'cuda'\n",
    "\n",
    "device = torch.device(device_name)\n",
    "print(device)\n",
    "\n",
    "batch_size = 1"
   ]
  },
  {
   "cell_type": "code",
   "execution_count": 12,
   "metadata": {},
   "outputs": [
    {
     "name": "stdout",
     "output_type": "stream",
     "text": [
      "EncmixTrainDsType.Qna\n"
     ]
    }
   ],
   "source": [
    "ds_type = EncmixTrainDsType.Msk\n",
    "for part in encdec_subdir.split('-'):\n",
    "    if part.startswith('ds_'):\n",
    "        ds_type = EncmixTrainDsType(part[3:])\n",
    "print(ds_type)"
   ]
  },
  {
   "cell_type": "markdown",
   "metadata": {},
   "source": [
    "## Load model"
   ]
  },
  {
   "cell_type": "code",
   "execution_count": 13,
   "metadata": {},
   "outputs": [
    {
     "name": "stdout",
     "output_type": "stream",
     "text": [
      "inp_len=256 d_model=768 pretrained_model_name='bert-base-uncased' tokenizer_name='bert-base-uncased' out_embs_type=<EncmixOutEmbsType.Inp: 'inp'> token_types_for_embs=True\n",
      "BertTokenizerFast(name_or_path='bert-base-uncased', vocab_size=30522, model_max_length=512, is_fast=True, padding_side='right', truncation_side='right', special_tokens={'unk_token': '[UNK]', 'sep_token': '[SEP]', 'pad_token': '[PAD]', 'cls_token': '[CLS]', 'mask_token': '[MASK]'}, clean_up_tokenization_spaces=True),  added_tokens_decoder={\n",
      "\t0: AddedToken(\"[PAD]\", rstrip=False, lstrip=False, single_word=False, normalized=False, special=True),\n",
      "\t100: AddedToken(\"[UNK]\", rstrip=False, lstrip=False, single_word=False, normalized=False, special=True),\n",
      "\t101: AddedToken(\"[CLS]\", rstrip=False, lstrip=False, single_word=False, normalized=False, special=True),\n",
      "\t102: AddedToken(\"[SEP]\", rstrip=False, lstrip=False, single_word=False, normalized=False, special=True),\n",
      "\t103: AddedToken(\"[MASK]\", rstrip=False, lstrip=False, single_word=False, normalized=False, special=True),\n",
      "}\n"
     ]
    }
   ],
   "source": [
    "model_cfg = parse_yaml_file_as(EncmixBertCfg, encmix_model_cfg_fpath)\n",
    "tkz = AutoTokenizer.from_pretrained(model_cfg.tokenizer_name)\n",
    "tkz = cast(PreTrainedTokenizer, tkz)\n",
    "print(model_cfg)\n",
    "print(tkz)"
   ]
  },
  {
   "cell_type": "code",
   "execution_count": 14,
   "metadata": {},
   "outputs": [
    {
     "name": "stdout",
     "output_type": "stream",
     "text": [
      "BertConfig {\n",
      "  \"_name_or_path\": \"bert-base-uncased\",\n",
      "  \"architectures\": [\n",
      "    \"BertForMaskedLM\"\n",
      "  ],\n",
      "  \"attention_probs_dropout_prob\": 0.1,\n",
      "  \"classifier_dropout\": null,\n",
      "  \"gradient_checkpointing\": false,\n",
      "  \"hidden_act\": \"gelu\",\n",
      "  \"hidden_dropout_prob\": 0.1,\n",
      "  \"hidden_size\": 768,\n",
      "  \"initializer_range\": 0.02,\n",
      "  \"intermediate_size\": 3072,\n",
      "  \"layer_norm_eps\": 1e-12,\n",
      "  \"max_position_embeddings\": 512,\n",
      "  \"model_type\": \"bert\",\n",
      "  \"num_attention_heads\": 12,\n",
      "  \"num_hidden_layers\": 12,\n",
      "  \"pad_token_id\": 0,\n",
      "  \"position_embedding_type\": \"absolute\",\n",
      "  \"transformers_version\": \"4.42.4\",\n",
      "  \"type_vocab_size\": 2,\n",
      "  \"use_cache\": true,\n",
      "  \"vocab_size\": 30522\n",
      "}\n",
      "\n"
     ]
    }
   ],
   "source": [
    "chkpt = torch.load(encmix_snapshot_fpath, map_location=device)\n",
    "model = EncmixBert(cfg=model_cfg, tkz=tkz, device=device)\n",
    "strict = True\n",
    "# strict = False\n",
    "model.load_state_dict(chkpt['model'], strict=strict)\n",
    "del chkpt\n",
    "model.eval()\n",
    "# print(model)\n",
    "None"
   ]
  },
  {
   "cell_type": "markdown",
   "metadata": {},
   "source": [
    "## Wikipedia mask prediction"
   ]
  },
  {
   "cell_type": "code",
   "execution_count": 48,
   "metadata": {},
   "outputs": [
    {
     "name": "stdout",
     "output_type": "stream",
     "text": [
      "Loading Wikipedia dataset: 20200501.en\n"
     ]
    },
    {
     "name": "stderr",
     "output_type": "stream",
     "text": [
      "Reusing dataset wikipedia (/home/misha/data/wikipedia/20200501.en/1.0.0/009f923d9b6dd00c00c8cdc7f408f2b47f45dd4f5fb7982a21f9448f4afbe475)\n"
     ]
    },
    {
     "data": {
      "application/vnd.jupyter.widget-view+json": {
       "model_id": "04d042d2ee5c49489da360b3253a4c70",
       "version_major": 2,
       "version_minor": 0
      },
      "text/plain": [
       "  0%|          | 0/1 [00:00<?, ?it/s]"
      ]
     },
     "metadata": {},
     "output_type": "display_data"
    },
    {
     "name": "stdout",
     "output_type": "stream",
     "text": [
      "Wikipedia 20200501.en docs: 6078422\n"
     ]
    }
   ],
   "source": [
    "wiki_ds_name = '20200501.en'\n",
    "print(f'Loading Wikipedia dataset: {wiki_ds_name}')\n",
    "wiki_ds_subdir = 'wikipedia'\n",
    "dss = load_dataset(wiki_ds_subdir, wiki_ds_name, beam_runner='DirectRunner', cache_dir=str(DATA_PATH))\n",
    "ds = cast(Dataset, dss['train'])\n",
    "n_docs = len(ds)\n",
    "print(f'Wikipedia {wiki_ds_name} docs: {n_docs}')"
   ]
  },
  {
   "cell_type": "code",
   "execution_count": 49,
   "metadata": {},
   "outputs": [],
   "source": [
    "doc_inds = np.arange(len(ds))\n",
    "ds_it = EedWikiIterator(\n",
    "    ds=ds, inds=doc_inds, inp_len=model_cfg.inp_len, tkz=tkz, docs_batch_size=batch_size, device=device,\n",
    "    preserve_edge_tokens=True,\n",
    ")"
   ]
  },
  {
   "cell_type": "code",
   "execution_count": 59,
   "metadata": {},
   "outputs": [
    {
     "name": "stderr",
     "output_type": "stream",
     "text": [
      "Token indices sequence length is longer than the specified maximum sequence length for this model (2931 > 512). Running this sequence through the model will result in indexing errors\n"
     ]
    }
   ],
   "source": [
    "i_batch = 5\n",
    "i1, i2 = i_batch * batch_size, (i_batch + 1) * batch_size\n",
    "batch_inds = doc_inds[i1:i2]\n",
    "\n",
    "docs_toks_aug_t, docs_toks_tgt_t = ds_it.get_batch_tokens(batch_inds)"
   ]
  },
  {
   "cell_type": "code",
   "execution_count": 60,
   "metadata": {},
   "outputs": [
    {
     "name": "stdout",
     "output_type": "stream",
     "text": [
      "000 Latin liturgical rites, or Western liturgical rites, are Catholic liturgical rites employed by the Latin Church, the largest particular church sui iuris of the Catholic Church, that originated in Europe where the Latin language once dominated. Its language is now known as Ecclesiastical Latin. The most used rite is the Roman Rite.\\n\\nThe Latin rites were for many centuries no less numerous than the liturgical rites of the Eastern autonomous particular Churches. Their number is now much reduced. In the aftermath of the Council of Trent, in 1568 and 1570 Pope Pius V suppressed the Breviaries and Missals that could not be shown to have an antiquity of at least two centuries (see Tridentine Mass and Roman Missal). Many local rites that remained legitimate even after this decree were abandoned voluntarily, especially in the 19th century. In the second half of the 20th century, most of the religious orders that had a distinct liturgical rite chose to adopt in its place the Roman Rite as revised in accordance with the decrees of the Second Vatican Council (see Mass of Paul VI). A few such liturgical rites persist today for the celebration of Mass, since 1965–1970 in revised forms, but the distinct liturgical rites for celebrating the other sacraments have been almost completely abandoned.\\n\\nLiturgical rites currently in use within the Latin Church\\n\\nRoman Rite\\n\\nThe Roman Rite is by far the most widely used. Like other liturgical rites, it developed over time, with newer forms replacing the older. It underwent many changes in the first millennium and a half of its existence (see Pre-Tridentine Mass). The forms that Pope Pius V, as requested by the Council of Trent, established in the 1560s and 1570s underwent repeated minor variations in the centuries immediately following. Each new typical edition (the edition to which other printings are to conform) of the Roman Missal (see Tridentine Mass) and of the other liturgical books superseded the previous one.\\n\\nThe 20th century saw more profound changes. Pope Pius X radically rearranged the Psalter of the Breviary and altered the rubrics of the Mass. Later popes continued to make such changes, beginning with Pope Pius XII, who significantly revised the Holy Week ceremonies and certain other aspects of the Roman Missal in 1955.\\n\\nOrdinary Form\\n\\nThe Second Vatican Council (1962–1965) was followed by a general revision of the rites of all the Roman Rite sacraments, including the Eucharist. As before, each new typical edition of an official liturgical book supersedes the previous one. Thus, the 1970 Roman Missal, which superseded the 1962 edition, was superseded by the edition of 1975. The 2002 edition in turn supersedes the 1975 edition both in Latin and, as official translations into each language appear, also in the vernacular languages. Under the terms of Summorum Pontificum by Pope Benedict XVI, the Mass of Paul VI is known as the Ordinary Form of the Roman Rite.\\n\\nExtraordinary Form\\n\\nThe Tridentine Mass, as in the 1962 Roman Missal, is still authorized for use as an extraordinary form of the Roman Rite under the conditions indicated in the document Summorum Pontificum.\\n\\nOrdinariate Use\\n\\nThe Ordinariate Use is a form or variation of the Roman Rite, rather than a unique rite itself. During the Liturgy of the Eucharist, especially the Eucharistic Prayer, it is closest to other forms of the Roman Rite, while it differs more during the Liturgy of the Word and the Penitential Rite. The language used, which differs from that of the ICEL translation of the Roman Rite of Mass, is based upon the Book of Common Prayer, originally written in the 16th century. Prior to the establishment of the personal ordinariates, parishes in the United States were called \"Anglican Use\" and used the Book of Divine Worship, an adaptation of the Book of Common Prayer. The Book of Divine Worship has been replaced with the similar Divine Worship: The Missal for use in the ordinariates worldwide. Anglican liturgical rituals, whether those used in the ordinariates of the Catholic Church or in the various prayer books and missals of the Anglican Communion and other denominations trace their origin back to the Sarum Use, which was a variation of the Roman Rite used in England before introduction during the reign of Edward VI of the 1549 Book of Common Prayer, following the break from the Roman church under the previous monarch Henry VIII.\\n\\nIn the United States, under a Pastoral Provision in 1980, personal parishes were established that introduced adapted Anglican traditions to the Catholic Church from members' former Episcopal parishes. That provision also permitted, as an exception and on a case by case basis, the ordination of married former Episcopal ministers as Catholic priests. As personal parishes, these parishes were formerly part of the local Roman Catholic diocese, but accepted as members any former Anglican who wished to make use of the provision.\\n\\nOn 9 November 2009, Pope Benedict XVI established a worldwide provision for Anglicans who joined the church. This process set up personal ordinariates for former Anglicans and other persons entering the full communion of the Catholic Church. These ordinariates would be similar to dioceses, but encompassing entire regions or nations. Parishes belonging to an ordinariate would not be part of the local diocese. These ordinariates are charged with maintaining the Anglican liturgical, spiritual and pastoral traditions, and they have full faculties to celebrate the Eucharist and the other sacraments, the Liturgy of the Hours and other liturgical functions in accordance with the liturgical books proper to Anglican tradition, in revisions approved by the Holy See. This faculty does not exclude liturgical celebrations according to the Roman Rite.\\n\\nThe Personal Ordinariate of Our Lady of Walsingham was set up for England and Wales on 15 January 2011, and the Personal Ordinariate of the Chair of Saint Peter for the United States and Canada on 1 January 2012, and the Personal Ordinariate of Our Lady of the Southern Cross for Australia on 15 June 2012. As of 2017 it was decreed that all parishes in the United States established under the Pastoral Provision be transferred to the Ordinariate. Bishop Steven Lopes of the Personal Ordinariate of the Chair of Saint Peter has requested that terms such as \"Anglican Use\" and \"Anglican Ordinariate\" be avoided, saying \"Our clergy and faithful do not like being called Anglican, both because this is insensitive to actual Anglicans, and because it is a subtle way of suggesting that their entrance into full communion is less that total. We are Catholic in every sense.\"\\n\\nAlgonquian and Iroquoian Uses\\n\\nAlso called \"Indian Masses\", a number of variations on the Roman Rite developed in the Indian missions of Canada and the United States. These originated in the 17th century, and some remained in use until the Second Vatican Council. The priest's parts remained in Latin, while the ordinaries sung by the choir were translated into the vernacular (e.g., Mohawk, Algonquin, Micmac, and Huron). They also generally featured a reduced cycle of native-language propers and hymns. At present they are rarely used.\\n\\nZaire Use\\n\\nThe Zaire Use is an inculturated variation of the Ordinary Form of the Roman Rite of the Roman Catholic Church. It has been used to a very limited extent in some African countries since the late 1970s.\\n\\nWestern Rites of \"Gallican\" type\\n\\nAmbrosian Rite\\n\\nThe Ambrosian Rite is celebrated in most of the Archdiocese of Milan, Italy, and in parts of some neighbouring dioceses in Italy and Switzerland. The language used is now usually Italian, rather than Latin. With some variant texts and minor difference in the order of readings, it is similar in form to the Roman Rite. Its classification as Gallican-related is disputed.\\n\\nRite of Braga\\n\\nThe Rite of Braga is used, but since 18 November 1971 only on an optional basis, in the Archdiocese of Braga in northern Portugal.\\n\\nMozarabic Rite\\n\\nThe Mozarabic Rite, which was prevalent throughout Spain in Visigothic times, is now celebrated only in limited locations, principally the cathedral of Toledo.\\n\\nCarthusian Rite\\nThe Carthusian rite is in use in a version revised in 1981. Apart from the new elements in this revision, it is substantially the rite of Grenoble in the 12th century, with some admixture from other sources. Among other differences from the Roman Order of Mass, the deacon prepares the gifts while the Epistle is being sung, the celebrating priest washes his hands twice at the offertory and says the eucharistic prayer with arms extended in the form of a cross except when using his hands for some specific action, and there is no blessing at the end of Mass.\\n\\nThis is now the only extant Mass rite of a Catholic religious order; but by virtue of the Ecclesia Dei indult some individuals or small groups are authorized to use some now defunct rites.\\n\\nWestern Rite of sui generis type\\n\\nBenedictine Rite\\n\\nThe Order of Saint Benedict has never had a rite of the Mass peculiar to it, but it keeps its very ancient Benedictine Rite of the Liturgy of the Hours.\\n\\nDefunct Catholic Western liturgical rites\\n\\nAfrican Rite\\n\\nIn Africa Proconsulare, located in present-day Tunisia (of which Carthage was the capital), the African Rite was used before the 7th-century Arab conquest. It was very close to the Roman Rite; so much so that Western liturgical traditions have been classified as belonging to two streams, the North African-Rome tradition, and the Gallican (in the broad sense) tradition encompassing the rest of the Western Roman Empire, including northern Italy.\\n\\nCeltic Rite \\n\\nThe ancient Celtic Rite was a composite of non-Roman ritual structures (possibly Antiochian) and texts not exempt from Roman influence, that was similar to the Mozarabic Rite in many respects and would have been used at least in parts of Ireland, Scotland, the northern part of England and perhaps even Wales, Cornwall and Somerset, before being authoritatively replaced by the Roman Rite in the early Middle Ages. \"Celtic\" is possibly a misnomer and it may owe its origins to Augustine's re-evangelisation of the British Isles in the 6th century. Little is known of it, though several texts and liturgies survive. \\n\\nSome Christians–typically groups not in communion with the Roman Catholic Church, especially some Western Orthodox Christian communities in communion with Eastern Orthodox Churches, e.g. Celtic Orthodoxy–have attempted to breathe life into a reconstruction of the Celtic Rite the historical accuracy of which is debated. Historical evidence of this rite is found in the remnants of the Stowe (Lorrha) Missal.\\n\\nGallican Rite\\n\\nThe Gallican Rite is a retrospective term applied to the sum of the local variants, on similar lines to that designated elsewhere as the Celtic Rite (above) and the Mozarabic Rite, which faded from use in France by the end of the first millennium. It should not be confused with the so-called Neo-Gallican liturgical books published in various French dioceses after the Council of Trent, which had little or nothing to do with it.\\n\\nRegional Latin rites or uses\\nSeveral local rites (more properly uses or variants of the Roman Rite (most with Gallican elements some with Byzantine liturgical and tradition elements) of limited scope existed, but are now defunct.\\nThe Sarum Rite (more properly Sarum Use), a defunct variant on the Roman rite originating in the Diocese of Salisbury, which had come to be widely practised in England and Scotland around the 1530s, while the Protestant Reformation swept across continental Europe; practised alongside limited other variants such as the Use of York, Lincoln Use, Bangor Use, and Hereford Use. It has a legacy in its influence on later Anglican liturgy.\\nThe Cologne Use, used in the diocese of Cologne () prior to 1570.\\nThe Metz Use, created by Arnulf of Metz and Amalarius of Metz in the ninth century–used in Alsace-Lorraine, the Netherlands, and Flemish and Wallonian lands until the beginning of the twentieth century.\\nThe Lyonese Rite of the Diocese of Lyon, France, which some consider to have been (rather than Milan) the centre of diffusion of the Gallican liturgy; it is maintained in a few parishes in Lyon.\\nThe Nidaros Use, long defunct, based mainly on imported English liturgical books, used in pre-Reformation Norway.\\nThe Uppsala Use, suppressed during the Reformation, formerly the dominant variant of the Roman Rite used in northern Sweden.\\nThe  Aquileian Rite, a defunct rite originating in the former patriarchate of Aquileia in northern Italy.\\nThe Benevento Rite, a defunct Latin rite originated in this city in Italy.\\nThe Durham Rite (defunct: Durham, England)\\nThe Esztergom Use (defunct: Archdiocese of Esztergom, used between the 12th and 17th centuries primarily in the Archdiocese of Esztergom, and in its suffragan dioceses. Similar rites were also in Slovakia and in southern, central, and western Poland. These usages of Roman liturgy was the closest to Roman (today Vatican) rites with some small Byzantine-Slavic elements.\\n\\nRites of religious orders\\n\\nSome religious orders celebrated Mass according to rites of their own, dating from more than 200 years before the papal bull Quo primum. These rites were based on local usages and combined elements of the Roman and Gallican Rites. Following the Second Vatican Council, they have mostly been abandoned, except for the Carthusian Rite (see above). Religious orders of more recent origin have never had special rites.\\n\\nThe following previously existing rites of Mass, distinct from the Roman Rite, continue to be used on a limited basis by the permission of ecclesiastical superiors:\\nCarmelite Rite\\nCistercian Rite\\nDominican Rite\\nPremonstratensian or Norbertine Rite\\n\\nThe Catholic Encyclopedia applied the word \"rite\" also to the practices followed (to some extent even now, a century later) by certain Catholic religious orders, while at the same time stating that they in fact followed the Roman Rite:\\nFranciscan Rite\\nFriars Minor Capuchin Rite\\nServite Rite\\n\\nSee also\\nAlexandrian Rite\\nAntiochene Rite\\nArmenian Rite \\nByzantine Rite\\nCatholic particular churches and liturgical rites\\nEast Syriac Rite\\nWest Syriac Rite\\nGeneral Roman Calendar\\n\\nReferences\\n\\nExternal links\\nDom Fernand Cabrol's The Mass of the Western Rites\\nNon-Roman Latin or Western Rites\\nAn African Interpretation of Liturgical Inculturation: The Rite Zairois\\n\\n \\nCategory:Western Christianity\n"
     ]
    }
   ],
   "source": [
    "for i, doc_ind in enumerate(batch_inds):\n",
    "    doc = ds[doc_ind.item()]\n",
    "    title, text = doc['title'], doc['text'].replace('\\n', '\\\\n')\n",
    "    print(f'{i:03d} {text}')"
   ]
  },
  {
   "cell_type": "code",
   "execution_count": 61,
   "metadata": {},
   "outputs": [
    {
     "name": "stdout",
     "output_type": "stream",
     "text": [
      "005 [CLS] common prayer, following the break from the roman church under the previous monarch henry viii. in the united states, under a pastoral provision in 1980, personal parishes were established that introduced adapted anglican traditions to [MASK] [MASK] [MASK] [MASK] [MASK] [MASK] [MASK] [MASK] [MASK] [MASK] [MASK] [MASK] [MASK] [MASK] [MASK] as an exception and on a case by case basis, the ordination of married former episcopal ministers as catholic priests. as personal parishes, these parishes were formerly part of the local roman catholic diocese, but accepted as members any former anglican who wished to make use of the provision. on 9 november 2009, pope benedict xvi established a worldwide provision for anglicans who joined the church. this process set up personal ordinariates for former anglicans and other persons entering the full communion of the catholic church. these ordinariates would be similar to dioceses, but encompassing entire regions or nations. parishes belonging to an ordinariate would not be part of the local diocese. these ordinariates are charged with maintaining the anglican liturgical, spiritual and pastoral traditions, and they have full faculties to celebrate the eucharist and the other sacraments, the liturgy of the hours and other liturgical functions in accordance with the liturgical books proper to anglican tradition, in revisions approved by the holy see. this faculty does [SEP]\n",
      "005 the catholic church from members'former episcopal parishes. that provision also permitted, [SEP]\n"
     ]
    }
   ],
   "source": [
    "for i, doc_ind in enumerate(batch_inds):\n",
    "    # doc = ds[doc_ind]\n",
    "    # title, text = doc['title'], doc['text'].replace('\\n', '\\\\n')\n",
    "    toks_aug = docs_toks_aug_t[i]\n",
    "    txt_aug = tkz.decode(toks_aug)\n",
    "    print(f'{doc_ind:03d} {txt_aug}')\n",
    "    if (toks_aug == tkz.mask_token_id).sum() > 0:\n",
    "        txt_tgt = tkz.decode(docs_toks_tgt_t)\n",
    "        print(f'{doc_ind:03d} {txt_tgt}')"
   ]
  },
  {
   "cell_type": "code",
   "execution_count": 62,
   "metadata": {},
   "outputs": [
    {
     "name": "stdout",
     "output_type": "stream",
     "text": [
      "catholic church [SEP]\n",
      "church of england [SEP]\n",
      "the church of england [SEP]\n",
      "catholic church of england [SEP]\n",
      "church of england and the church of england [SEP]\n",
      "catholic church [SEP]\n"
     ]
    }
   ],
   "source": [
    "# toks_pred = model.predict(chunk_toks=docs_toks_aug_t)\n",
    "toks_pred = model.predict_beam(chunk_toks=docs_toks_aug_t)\n",
    "txt_pred = tkz.decode(toks_pred)\n",
    "print(txt_pred)"
   ]
  },
  {
   "cell_type": "markdown",
   "metadata": {},
   "source": [
    "## Qna prediction"
   ]
  },
  {
   "cell_type": "code",
   "execution_count": 15,
   "metadata": {},
   "outputs": [
    {
     "name": "stderr",
     "output_type": "stream",
     "text": [
      "Reusing dataset squad_v2 (/home/misha/.cache/huggingface/datasets/squad_v2/squad_v2/2.0.0/09187c73c1b837c95d9a249cd97c2c3f1cebada06efe667b4427714b27639b1d)\n"
     ]
    },
    {
     "data": {
      "application/vnd.jupyter.widget-view+json": {
       "model_id": "b31b56728c544f0e9b8d1775a295aa9f",
       "version_major": 2,
       "version_minor": 0
      },
      "text/plain": [
       "  0%|          | 0/2 [00:00<?, ?it/s]"
      ]
     },
     "metadata": {},
     "output_type": "display_data"
    },
    {
     "name": "stdout",
     "output_type": "stream",
     "text": [
      "Remove empty answers from dataset squad_v2. Size: 142192 --> 92749\n"
     ]
    }
   ],
   "source": [
    "exclude_empty_answers = True\n",
    "ques_inp = QnaQuesInp.Enc\n",
    "df_sq = get_squadv2_df(exclude_empty_answers=exclude_empty_answers)\n",
    "sq_inds = np.arange(len(df_sq))"
   ]
  },
  {
   "cell_type": "code",
   "execution_count": 40,
   "metadata": {},
   "outputs": [
    {
     "name": "stdout",
     "output_type": "stream",
     "text": [
      "torch.Size([1, 256]) 1 1\n"
     ]
    }
   ],
   "source": [
    "batch_size = 1\n",
    "i_batch = 3\n",
    "i1, i2 = i_batch * batch_size, (i_batch + 1) * batch_size\n",
    "batch_inds = sq_inds[i1:i2]\n",
    "sq_batch = get_squadv2_batch(tkz=tkz, df_sq=df_sq, inds=batch_inds, inp_len=model_cfg.inp_len, device=device, ques_inp=ques_inp)\n",
    "ctx_toks_t, (q_toks_t, a_toks_t, a_att_masks_t, a_tgt_masks_t) = sq_batch.gen_tensors()\n",
    "print(ctx_toks_t.shape, len(q_toks_t), len(a_toks_t))\n"
   ]
  },
  {
   "cell_type": "code",
   "execution_count": 43,
   "metadata": {},
   "outputs": [
    {
     "name": "stdout",
     "output_type": "stream",
     "text": [
      "[CLS] context1. villa and carranza had different political goals causing villa to become an enemy of carranza. after carranza took control in 1914, villa and other revolutionaries who opposed him met at what was called the convention of aguascalientes. the convention deposed carranza in favor of eulalio gutierrez. in the winter of 1914 villa's and zapata's troops entered and occupied mexico city. villa was forced from the city in early 1915 and attacked the forces of gen. obregon at the battle of celaya and was badly defeated in the bloodiest battle of the revolution, with thousands dead. with the defeat of villa, carranza seized power. a short time later the united states recognized carranza as president of mexico. even though villa's forces were badly depleted by his loss at celaya, he continued his fight against the carranza government. finally, in 1920, obregon — who had defeated him at celaya — finally reached an agreement with villa end his rebellion. [PAD] [PAD] [PAD] [PAD] [PAD] [PAD] [PAD] [PAD] [PAD] [PAD] [PAD] [PAD] [PAD] [PAD] [PAD] [PAD] [PAD] [PAD] [PAD] [PAD] [PAD] [PAD] [PAD] [PAD] [PAD] [PAD] [PAD] [PAD] [PAD] [PAD] [PAD] [PAD] [PAD] [PAD] [PAD] [PAD] [PAD] [PAD] [PAD] [PAD] [PAD] [PAD] [PAD] [PAD] [PAD] [PAD] [PAD] [PAD] [PAD] [PAD]\n"
     ]
    }
   ],
   "source": [
    "for ctx_toks in ctx_toks_t:\n",
    "    ctx_txt = tkz.decode(ctx_toks)\n",
    "    print(ctx_txt)"
   ]
  },
  {
   "cell_type": "code",
   "execution_count": 47,
   "metadata": {},
   "outputs": [
    {
     "name": "stdout",
     "output_type": "stream",
     "text": [
      "Beams out: 5\n",
      "napoleon iii [SEP]\n",
      "napoleon ii [SEP]\n",
      "napoleon i [SEP]\n",
      "napoleon v [SEP]\n",
      "napoleon iii of france [SEP]\n",
      "00. Q: [CLS] question : villa became an enemy of whom?. answer :\n",
      "00. A: carranza [SEP]\n",
      "00. M: napoleon iii [SEP]\n",
      "--------------------------------------------------\n"
     ]
    }
   ],
   "source": [
    "for i in range(len(q_toks_t)):\n",
    "    q_toks, a_toks = q_toks_t[i], a_toks_t[i]\n",
    "    q_toks = q_toks[q_toks != tkz.pad_token_id]\n",
    "    # toks_pred = model.predict(chunk_toks=ctx_toks_t, plain_toks=q_toks)\n",
    "    toks_pred = model.predict_beam(chunk_toks=ctx_toks_t, plain_toks=q_toks, temperature=1)\n",
    "    q_txt, a_txt = tkz.decode(q_toks), tkz.decode(a_toks)\n",
    "    print(f'{i:02d}. Q: {q_txt}')\n",
    "    print(f'{i:02d}. A: {a_txt}')\n",
    "    txt_pred = tkz.decode(toks_pred)\n",
    "    print(f'{i:02d}. M: {txt_pred}')\n",
    "    print('-' * 50)"
   ]
  },
  {
   "cell_type": "code",
   "execution_count": null,
   "metadata": {},
   "outputs": [],
   "source": []
  },
  {
   "cell_type": "code",
   "execution_count": null,
   "metadata": {},
   "outputs": [],
   "source": []
  }
 ],
 "metadata": {
  "kernelspec": {
   "display_name": "mllm",
   "language": "python",
   "name": "python3"
  },
  "language_info": {
   "codemirror_mode": {
    "name": "ipython",
    "version": 3
   },
   "file_extension": ".py",
   "mimetype": "text/x-python",
   "name": "python",
   "nbconvert_exporter": "python",
   "pygments_lexer": "ipython3",
   "version": "3.10.14"
  }
 },
 "nbformat": 4,
 "nbformat_minor": 2
}
