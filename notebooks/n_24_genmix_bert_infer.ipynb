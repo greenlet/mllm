{
 "cells": [
  {
   "cell_type": "code",
   "execution_count": 2,
   "metadata": {},
   "outputs": [],
   "source": [
    "%load_ext autoreload\n",
    "%autoreload 2"
   ]
  },
  {
   "cell_type": "code",
   "execution_count": 4,
   "metadata": {},
   "outputs": [],
   "source": [
    "from dataclasses import dataclass\n",
    "import io\n",
    "import json\n",
    "import os\n",
    "from pathlib import Path\n",
    "from pprint import pprint\n",
    "import requests\n",
    "import sys\n",
    "from typing import Optional\n",
    "\n",
    "if '..' not in sys.path: sys.path.append('..')\n",
    "\n",
    "from datasets import load_dataset\n",
    "import numpy as np\n",
    "import pandas as pd\n",
    "from pydantic_yaml import parse_yaml_file_as, to_yaml_file\n",
    "import torch\n",
    "from torch import nn\n",
    "import torch.nn.functional as F\n",
    "from transformers import BertGenerationEncoder, BertGenerationDecoder, EncoderDecoderModel, BertTokenizer, AutoTokenizer\n",
    "from transformers.modeling_outputs import Seq2SeqLMOutput, BaseModelOutputWithPastAndCrossAttentions, CausalLMOutputWithCrossAttentions\n",
    "\n",
    "from mllm.config.model import GenmixBertCfg\n",
    "from mllm.model.inference import BeamSearch\n",
    "from mllm.exp.args import GENMIX_BERT_MODEL_CFG_FNAME\n",
    "from mllm.model.genmix import GenmixBert\n",
    "from mllm.train.utils import get_squadv2_df, get_squadv2_batch, QnaQuesInp, get_billsum_df, WordToks"
   ]
  },
  {
   "cell_type": "markdown",
   "metadata": {},
   "source": [
    "# BERT Generator model inference\n",
    "## Configs and paths"
   ]
  },
  {
   "cell_type": "code",
   "execution_count": 5,
   "metadata": {},
   "outputs": [
    {
     "name": "stdout",
     "output_type": "stream",
     "text": [
      "cpu\n"
     ]
    }
   ],
   "source": [
    "DATA_PATH = Path(os.path.expandvars('$HOME')) / 'data'\n",
    "\n",
    "bert_model_name = 'bert-base-uncased'\n",
    "random_seed = 111\n",
    "inp_len = 128\n",
    "train_genmix_bert_path = DATA_PATH / 'train_mllm_genmix_bert'\n",
    "# genmix_subdir = 'genmixbert-20250510_112004-bert-base-uncased-d768-inp128'\n",
    "# genmix_subdir = 'genmixbert-20250514_214424-bert-base-uncased-d768-inp128'\n",
    "# genmix_subdir = 'genmixbert-20250515_223449-bert-base-uncased-d768-inp128-ds_sum-maxi10-maxo50'\n",
    "genmix_subdir = 'genmixbert-20250517_105055-bert-base-uncased-d768-inp128-ds_sum-maxi10-maxo50'\n",
    "genmix_subdir = 'genmixbert-20250624_184929-bert-base-uncased-d768-inp128-dsWki-msktgtT-msklf0.2-mskl10-mxi1-mxo50-nfem1-nsem128-emagFst-emexMat'\n",
    "genmix_subdir = 'genmixbert-20250628_200101-bert-base-uncased-d768-inp128-dsWki-msktgtT-msklf0.2-mskl10-tgtallT-mxi1-nfem1-nsem128-emagFst-emexMat'\n",
    "genmix_subdir = 'genmixbert-20250629_115912-bert-base-uncased-d768-inp128-dsWki-msktgtT-msklf0.2-mskl10-tgtallT-mxi1-nfem1-nsem128-emagFst-emexMat'\n",
    "\n",
    "genmix_train_path = train_genmix_bert_path / genmix_subdir\n",
    "genmix_snapshot_fpath = genmix_train_path / 'best.pth'\n",
    "\n",
    "device_name = 'cpu'\n",
    "# device_name = 'cuda'\n",
    "\n",
    "device = torch.device(device_name)\n",
    "print(device)"
   ]
  },
  {
   "cell_type": "code",
   "execution_count": 6,
   "metadata": {},
   "outputs": [
    {
     "data": {
      "text/plain": [
       "GenmixBertCfg(inp_len=128, d_model=768, pretrained_model_name='bert-base-uncased', tokenizer_name='bert-base-uncased', max_inp_chunks=1, max_out_toks=50, n_first_embs=1, n_second_embs=128, emb_agg_type=<GenmixEmbAggType.Fst: 'fst'>, emb_exp_type=<GenmixEmbExpType.Mat: 'mat'>)"
      ]
     },
     "execution_count": 6,
     "metadata": {},
     "output_type": "execute_result"
    }
   ],
   "source": [
    "model_cfg = parse_yaml_file_as(GenmixBertCfg, genmix_train_path / GENMIX_BERT_MODEL_CFG_FNAME)\n",
    "model_cfg"
   ]
  },
  {
   "cell_type": "markdown",
   "metadata": {},
   "source": [
    "## Load models and dataset\n",
    "### Model"
   ]
  },
  {
   "cell_type": "code",
   "execution_count": 7,
   "metadata": {},
   "outputs": [
    {
     "name": "stderr",
     "output_type": "stream",
     "text": [
      "You are using a model of type bert to instantiate a model of type bert-generation. This is not supported for all configurations of models and can yield errors.\n",
      "You are using a model of type bert to instantiate a model of type bert-generation. This is not supported for all configurations of models and can yield errors.\n",
      "Some weights of BertGenerationDecoder were not initialized from the model checkpoint at bert-base-uncased and are newly initialized: ['bert.encoder.layer.0.crossattention.output.LayerNorm.bias', 'bert.encoder.layer.0.crossattention.output.LayerNorm.weight', 'bert.encoder.layer.0.crossattention.output.dense.bias', 'bert.encoder.layer.0.crossattention.output.dense.weight', 'bert.encoder.layer.0.crossattention.self.key.bias', 'bert.encoder.layer.0.crossattention.self.key.weight', 'bert.encoder.layer.0.crossattention.self.query.bias', 'bert.encoder.layer.0.crossattention.self.query.weight', 'bert.encoder.layer.0.crossattention.self.value.bias', 'bert.encoder.layer.0.crossattention.self.value.weight', 'bert.encoder.layer.1.crossattention.output.LayerNorm.bias', 'bert.encoder.layer.1.crossattention.output.LayerNorm.weight', 'bert.encoder.layer.1.crossattention.output.dense.bias', 'bert.encoder.layer.1.crossattention.output.dense.weight', 'bert.encoder.layer.1.crossattention.self.key.bias', 'bert.encoder.layer.1.crossattention.self.key.weight', 'bert.encoder.layer.1.crossattention.self.query.bias', 'bert.encoder.layer.1.crossattention.self.query.weight', 'bert.encoder.layer.1.crossattention.self.value.bias', 'bert.encoder.layer.1.crossattention.self.value.weight', 'bert.encoder.layer.10.crossattention.output.LayerNorm.bias', 'bert.encoder.layer.10.crossattention.output.LayerNorm.weight', 'bert.encoder.layer.10.crossattention.output.dense.bias', 'bert.encoder.layer.10.crossattention.output.dense.weight', 'bert.encoder.layer.10.crossattention.self.key.bias', 'bert.encoder.layer.10.crossattention.self.key.weight', 'bert.encoder.layer.10.crossattention.self.query.bias', 'bert.encoder.layer.10.crossattention.self.query.weight', 'bert.encoder.layer.10.crossattention.self.value.bias', 'bert.encoder.layer.10.crossattention.self.value.weight', 'bert.encoder.layer.11.crossattention.output.LayerNorm.bias', 'bert.encoder.layer.11.crossattention.output.LayerNorm.weight', 'bert.encoder.layer.11.crossattention.output.dense.bias', 'bert.encoder.layer.11.crossattention.output.dense.weight', 'bert.encoder.layer.11.crossattention.self.key.bias', 'bert.encoder.layer.11.crossattention.self.key.weight', 'bert.encoder.layer.11.crossattention.self.query.bias', 'bert.encoder.layer.11.crossattention.self.query.weight', 'bert.encoder.layer.11.crossattention.self.value.bias', 'bert.encoder.layer.11.crossattention.self.value.weight', 'bert.encoder.layer.2.crossattention.output.LayerNorm.bias', 'bert.encoder.layer.2.crossattention.output.LayerNorm.weight', 'bert.encoder.layer.2.crossattention.output.dense.bias', 'bert.encoder.layer.2.crossattention.output.dense.weight', 'bert.encoder.layer.2.crossattention.self.key.bias', 'bert.encoder.layer.2.crossattention.self.key.weight', 'bert.encoder.layer.2.crossattention.self.query.bias', 'bert.encoder.layer.2.crossattention.self.query.weight', 'bert.encoder.layer.2.crossattention.self.value.bias', 'bert.encoder.layer.2.crossattention.self.value.weight', 'bert.encoder.layer.3.crossattention.output.LayerNorm.bias', 'bert.encoder.layer.3.crossattention.output.LayerNorm.weight', 'bert.encoder.layer.3.crossattention.output.dense.bias', 'bert.encoder.layer.3.crossattention.output.dense.weight', 'bert.encoder.layer.3.crossattention.self.key.bias', 'bert.encoder.layer.3.crossattention.self.key.weight', 'bert.encoder.layer.3.crossattention.self.query.bias', 'bert.encoder.layer.3.crossattention.self.query.weight', 'bert.encoder.layer.3.crossattention.self.value.bias', 'bert.encoder.layer.3.crossattention.self.value.weight', 'bert.encoder.layer.4.crossattention.output.LayerNorm.bias', 'bert.encoder.layer.4.crossattention.output.LayerNorm.weight', 'bert.encoder.layer.4.crossattention.output.dense.bias', 'bert.encoder.layer.4.crossattention.output.dense.weight', 'bert.encoder.layer.4.crossattention.self.key.bias', 'bert.encoder.layer.4.crossattention.self.key.weight', 'bert.encoder.layer.4.crossattention.self.query.bias', 'bert.encoder.layer.4.crossattention.self.query.weight', 'bert.encoder.layer.4.crossattention.self.value.bias', 'bert.encoder.layer.4.crossattention.self.value.weight', 'bert.encoder.layer.5.crossattention.output.LayerNorm.bias', 'bert.encoder.layer.5.crossattention.output.LayerNorm.weight', 'bert.encoder.layer.5.crossattention.output.dense.bias', 'bert.encoder.layer.5.crossattention.output.dense.weight', 'bert.encoder.layer.5.crossattention.self.key.bias', 'bert.encoder.layer.5.crossattention.self.key.weight', 'bert.encoder.layer.5.crossattention.self.query.bias', 'bert.encoder.layer.5.crossattention.self.query.weight', 'bert.encoder.layer.5.crossattention.self.value.bias', 'bert.encoder.layer.5.crossattention.self.value.weight', 'bert.encoder.layer.6.crossattention.output.LayerNorm.bias', 'bert.encoder.layer.6.crossattention.output.LayerNorm.weight', 'bert.encoder.layer.6.crossattention.output.dense.bias', 'bert.encoder.layer.6.crossattention.output.dense.weight', 'bert.encoder.layer.6.crossattention.self.key.bias', 'bert.encoder.layer.6.crossattention.self.key.weight', 'bert.encoder.layer.6.crossattention.self.query.bias', 'bert.encoder.layer.6.crossattention.self.query.weight', 'bert.encoder.layer.6.crossattention.self.value.bias', 'bert.encoder.layer.6.crossattention.self.value.weight', 'bert.encoder.layer.7.crossattention.output.LayerNorm.bias', 'bert.encoder.layer.7.crossattention.output.LayerNorm.weight', 'bert.encoder.layer.7.crossattention.output.dense.bias', 'bert.encoder.layer.7.crossattention.output.dense.weight', 'bert.encoder.layer.7.crossattention.self.key.bias', 'bert.encoder.layer.7.crossattention.self.key.weight', 'bert.encoder.layer.7.crossattention.self.query.bias', 'bert.encoder.layer.7.crossattention.self.query.weight', 'bert.encoder.layer.7.crossattention.self.value.bias', 'bert.encoder.layer.7.crossattention.self.value.weight', 'bert.encoder.layer.8.crossattention.output.LayerNorm.bias', 'bert.encoder.layer.8.crossattention.output.LayerNorm.weight', 'bert.encoder.layer.8.crossattention.output.dense.bias', 'bert.encoder.layer.8.crossattention.output.dense.weight', 'bert.encoder.layer.8.crossattention.self.key.bias', 'bert.encoder.layer.8.crossattention.self.key.weight', 'bert.encoder.layer.8.crossattention.self.query.bias', 'bert.encoder.layer.8.crossattention.self.query.weight', 'bert.encoder.layer.8.crossattention.self.value.bias', 'bert.encoder.layer.8.crossattention.self.value.weight', 'bert.encoder.layer.9.crossattention.output.LayerNorm.bias', 'bert.encoder.layer.9.crossattention.output.LayerNorm.weight', 'bert.encoder.layer.9.crossattention.output.dense.bias', 'bert.encoder.layer.9.crossattention.output.dense.weight', 'bert.encoder.layer.9.crossattention.self.key.bias', 'bert.encoder.layer.9.crossattention.self.key.weight', 'bert.encoder.layer.9.crossattention.self.query.bias', 'bert.encoder.layer.9.crossattention.self.query.weight', 'bert.encoder.layer.9.crossattention.self.value.bias', 'bert.encoder.layer.9.crossattention.self.value.weight', 'lm_head.bias', 'lm_head.decoder.bias']\n",
      "You should probably TRAIN this model on a down-stream task to be able to use it for predictions and inference.\n"
     ]
    }
   ],
   "source": [
    "model = GenmixBert(model_cfg, device=device)\n",
    "tkz = model.tkz"
   ]
  },
  {
   "cell_type": "code",
   "execution_count": 8,
   "metadata": {},
   "outputs": [
    {
     "name": "stdout",
     "output_type": "stream",
     "text": [
      "Load /home/misha/data/train_mllm_genmix_bert/genmixbert-20250629_115912-bert-base-uncased-d768-inp128-dsWki-msktgtT-msklf0.2-mskl10-tgtallT-mxi1-nfem1-nsem128-emagFst-emexMat/best.pth\n"
     ]
    }
   ],
   "source": [
    "print(f'Load {genmix_snapshot_fpath}')\n",
    "checkpoint = torch.load(genmix_snapshot_fpath, map_location=device)\n",
    "model.load_state_dict(checkpoint['model'], strict=True)\n",
    "del checkpoint\n",
    "model.eval()\n",
    "None"
   ]
  },
  {
   "cell_type": "markdown",
   "metadata": {},
   "source": [
    "### Squad v2 Qna dataset"
   ]
  },
  {
   "cell_type": "code",
   "execution_count": 49,
   "metadata": {},
   "outputs": [
    {
     "data": {
      "application/vnd.jupyter.widget-view+json": {
       "model_id": "80e6c519302e4eccad4a2a629768e655",
       "version_major": 2,
       "version_minor": 0
      },
      "text/plain": [
       "README.md:   0%|          | 0.00/8.92k [00:00<?, ?B/s]"
      ]
     },
     "metadata": {},
     "output_type": "display_data"
    },
    {
     "data": {
      "application/vnd.jupyter.widget-view+json": {
       "model_id": "c057319fc9f54f859692dc252635f82e",
       "version_major": 2,
       "version_minor": 0
      },
      "text/plain": [
       "train-00000-of-00001.parquet:   0%|          | 0.00/16.4M [00:00<?, ?B/s]"
      ]
     },
     "metadata": {},
     "output_type": "display_data"
    },
    {
     "data": {
      "application/vnd.jupyter.widget-view+json": {
       "model_id": "8fc36520094d4559b880d67d1c67a7f8",
       "version_major": 2,
       "version_minor": 0
      },
      "text/plain": [
       "validation-00000-of-00001.parquet:   0%|          | 0.00/1.35M [00:00<?, ?B/s]"
      ]
     },
     "metadata": {},
     "output_type": "display_data"
    },
    {
     "data": {
      "application/vnd.jupyter.widget-view+json": {
       "model_id": "075edd7fdcf747b2afadfa53f00635b8",
       "version_major": 2,
       "version_minor": 0
      },
      "text/plain": [
       "Generating train split:   0%|          | 0/130319 [00:00<?, ? examples/s]"
      ]
     },
     "metadata": {},
     "output_type": "display_data"
    },
    {
     "data": {
      "application/vnd.jupyter.widget-view+json": {
       "model_id": "32d084c5c99f4a538e15502aa6927bb3",
       "version_major": 2,
       "version_minor": 0
      },
      "text/plain": [
       "Generating validation split:   0%|          | 0/11873 [00:00<?, ? examples/s]"
      ]
     },
     "metadata": {},
     "output_type": "display_data"
    },
    {
     "name": "stdout",
     "output_type": "stream",
     "text": [
      "Remove empty answers from dataset squad_v2. Size: 142192 --> 92749\n"
     ]
    }
   ],
   "source": [
    "np.random.seed(random_seed)\n",
    "# exclude_empty_answers = False\n",
    "exclude_empty_answers = True\n",
    "df_sq = get_squadv2_df(exclude_empty_answers=True)"
   ]
  },
  {
   "cell_type": "markdown",
   "metadata": {},
   "source": [
    "## Inference"
   ]
  },
  {
   "cell_type": "code",
   "execution_count": 48,
   "metadata": {},
   "outputs": [],
   "source": [
    "def predict_beam(model: GenmixBert, enc_emb: torch.Tensor, num_beams: int = 5, max_len: int = 10,\n",
    "                 temperature: float = 1) -> list[int]:\n",
    "    beam_search = BeamSearch(\n",
    "        num_beams=num_beams, max_len=max_len, temperature=temperature, next_token_id=tkz.cls_token_id,\n",
    "        last_token_id=tkz.sep_token_id, device=device, append_next_token_id=False,\n",
    "    )\n",
    "    # toks_inp: [n_active_beams, beam_seq_len] -> [n_active_beams, vocab_size]\n",
    "    def run_inference(beam_seq_batch: torch.Tensor) -> torch.Tensor:\n",
    "        n_active_beams = beam_seq_batch.shape[0]\n",
    "        dec_out: CausalLMOutputWithCrossAttentions = model(\n",
    "            inputs_embeds=enc_emb, decoder_input_ids=beam_seq_batch,\n",
    "        )\n",
    "        return dec_out.logits[:, -1, :]\n",
    "\n",
    "    beams = beam_search.run(run_inference)\n",
    "    for beam in beams:\n",
    "        print(tkz.decode(beam.tokens_cur))\n",
    "    return beams[0].tokens_cur\n"
   ]
  },
  {
   "cell_type": "code",
   "execution_count": 51,
   "metadata": {},
   "outputs": [
    {
     "name": "stdout",
     "output_type": "stream",
     "text": [
      "Context: Traditionally a carnival feast was the last opportunity to eat well before the time of food shortage at the end of the winter during which one was limited to the minimum necessary. On what nowadays is called vastenavond (the days before fasting) all the remaining winter stores of lard, butter and meat which were left would be eaten, for it would soon start to rot and decay. The selected livestock had in fact already been slaughtered in November and the meat would be no longer preservable. All the food that had survived the winter had to be eaten to assure that everyone was fed enough to survive until the coming spring would provide new food sources.\n",
      "Q: What was one limited to during the winter?\n",
      "A: the minimum necessary\n"
     ]
    }
   ],
   "source": [
    "i = 5\n",
    "row = df_sq.iloc[i]\n",
    "context, question, answers = row['context'], row['question'], row['answers']['text']\n",
    "print(f'Context: {context}')\n",
    "print(f'Q: {question}')\n",
    "for answer in answers:\n",
    "    print(f'A: {answer}')"
   ]
  },
  {
   "cell_type": "code",
   "execution_count": 52,
   "metadata": {},
   "outputs": [
    {
     "name": "stdout",
     "output_type": "stream",
     "text": [
      "tensor(4493)\n",
      "existing\n"
     ]
    }
   ],
   "source": [
    "# [1, n_cq, d_model]\n",
    "emb = model.context_question_to_emb(context, question)\n",
    "target_ids = torch.tensor([[tkz.cls_token_id]], device=device)\n",
    "# target_ids = torch.tensor([[2491]], device=device)\n",
    "gen_out: Seq2SeqLMOutput = model.gen(inputs_embeds=emb, decoder_input_ids=target_ids, use_cache=False)\n",
    "# [1, tgt_len, n_vocab]\n",
    "gen_logits = gen_out.logits\n",
    "\n",
    "# [tgt_len, n_vocab]\n",
    "logits = gen_logits.view(-1, model.gen.decoder.config.vocab_size)\n",
    "probs = torch.softmax(logits[-1], dim=-1)\n",
    "out_tok = torch.argmax(probs)\n",
    "print(out_tok)\n",
    "print(tkz.decode([out_tok]))\n"
   ]
  },
  {
   "cell_type": "code",
   "execution_count": 53,
   "metadata": {},
   "outputs": [
    {
     "data": {
      "text/plain": [
       "{'input_ids': [101, 1996, 6263, 4072, 102], 'token_type_ids': [0, 0, 0, 0, 0], 'attention_mask': [1, 1, 1, 1, 1]}"
      ]
     },
     "execution_count": 53,
     "metadata": {},
     "output_type": "execute_result"
    }
   ],
   "source": [
    "tkz(answer)"
   ]
  },
  {
   "cell_type": "code",
   "execution_count": 54,
   "metadata": {},
   "outputs": [
    {
     "name": "stdout",
     "output_type": "stream",
     "text": [
      "[CLS] existing law provides for the licensure and regulation of certain persons who are convicted of a crime.\n"
     ]
    }
   ],
   "source": [
    "out_toks = model.gen_on_qna_txt(context, question)\n",
    "out_ans = tkz.decode(out_toks.flatten())\n",
    "print(out_ans)"
   ]
  },
  {
   "cell_type": "code",
   "execution_count": 55,
   "metadata": {},
   "outputs": [
    {
     "name": "stdout",
     "output_type": "stream",
     "text": [
      "[CLS] table of contents : title i : amendments to\n",
      "[CLS] table of contents : title i : miscellaneous provisions\n",
      "[CLS] table of contents : title i : supplemental appropriations\n",
      "[CLS] directs the secretary of the interior to provide for\n",
      "[CLS] table of contents : title i : supplemental provisions\n",
      "[CLS] table of contents : title i : amendments to\n"
     ]
    }
   ],
   "source": [
    "enc_emb = model.context_question_to_emb(context=context, question=question)\n",
    "out_toks = predict_beam(model.gen, enc_emb)\n",
    "out_str = tkz.decode(out_toks)\n",
    "print(out_str)"
   ]
  },
  {
   "cell_type": "markdown",
   "metadata": {},
   "source": [
    "### Bilsum Summarization dataset"
   ]
  },
  {
   "cell_type": "code",
   "execution_count": 56,
   "metadata": {},
   "outputs": [
    {
     "data": {
      "text/html": [
       "<div>\n",
       "<style scoped>\n",
       "    .dataframe tbody tr th:only-of-type {\n",
       "        vertical-align: middle;\n",
       "    }\n",
       "\n",
       "    .dataframe tbody tr th {\n",
       "        vertical-align: top;\n",
       "    }\n",
       "\n",
       "    .dataframe thead th {\n",
       "        text-align: right;\n",
       "    }\n",
       "</style>\n",
       "<table border=\"1\" class=\"dataframe\">\n",
       "  <thead>\n",
       "    <tr style=\"text-align: right;\">\n",
       "      <th></th>\n",
       "      <th>text</th>\n",
       "      <th>summary</th>\n",
       "      <th>title</th>\n",
       "    </tr>\n",
       "  </thead>\n",
       "  <tbody>\n",
       "    <tr>\n",
       "      <th>0</th>\n",
       "      <td>SECTION 1. LIABILITY OF BUSINESS ENTITIES PROV...</td>\n",
       "      <td>Shields a business entity from civil liability...</td>\n",
       "      <td>A bill to limit the civil liability of busines...</td>\n",
       "    </tr>\n",
       "    <tr>\n",
       "      <th>1</th>\n",
       "      <td>SECTION 1. SHORT TITLE.\\n\\n    This Act may be...</td>\n",
       "      <td>Human Rights Information Act - Requires certai...</td>\n",
       "      <td>Human Rights Information Act</td>\n",
       "    </tr>\n",
       "    <tr>\n",
       "      <th>2</th>\n",
       "      <td>SECTION 1. SHORT TITLE.\\n\\n    This Act may be...</td>\n",
       "      <td>Jackie Robinson Commemorative Coin Act - Direc...</td>\n",
       "      <td>Jackie Robinson Commemorative Coin Act</td>\n",
       "    </tr>\n",
       "    <tr>\n",
       "      <th>3</th>\n",
       "      <td>SECTION 1. NONRECOGNITION OF GAIN WHERE ROLLOV...</td>\n",
       "      <td>Amends the Internal Revenue Code to provide (t...</td>\n",
       "      <td>To amend the Internal Revenue Code to provide ...</td>\n",
       "    </tr>\n",
       "    <tr>\n",
       "      <th>4</th>\n",
       "      <td>SECTION 1. SHORT TITLE.\\n\\n    This Act may be...</td>\n",
       "      <td>Native American Energy Act - (Sec. 3) Amends t...</td>\n",
       "      <td>Native American Energy Act</td>\n",
       "    </tr>\n",
       "    <tr>\n",
       "      <th>...</th>\n",
       "      <td>...</td>\n",
       "      <td>...</td>\n",
       "      <td>...</td>\n",
       "    </tr>\n",
       "    <tr>\n",
       "      <th>1232</th>\n",
       "      <td>The people of the State of California do enact...</td>\n",
       "      <td>Existing law, the Carpenter-Presley-Tanner Haz...</td>\n",
       "      <td>An act to amend Sections 25173.7 and 25205.6 o...</td>\n",
       "    </tr>\n",
       "    <tr>\n",
       "      <th>1233</th>\n",
       "      <td>The people of the State of California do enact...</td>\n",
       "      <td>(1) The Hazardous Waste Control Law authorizes...</td>\n",
       "      <td>An act to amend Sections 25185.6, 25358.1, 253...</td>\n",
       "    </tr>\n",
       "    <tr>\n",
       "      <th>1234</th>\n",
       "      <td>The people of the State of California do enact...</td>\n",
       "      <td>Under existing law, any employer or other pers...</td>\n",
       "      <td>An act to amend Section 1197.1 of the Labor Co...</td>\n",
       "    </tr>\n",
       "    <tr>\n",
       "      <th>1235</th>\n",
       "      <td>The people of the State of California do enact...</td>\n",
       "      <td>Existing law requires the Director of the Depa...</td>\n",
       "      <td>An act to amend Section 14838 of the Governmen...</td>\n",
       "    </tr>\n",
       "    <tr>\n",
       "      <th>1236</th>\n",
       "      <td>The people of the State of California do enact...</td>\n",
       "      <td>Existing federal law, the Indian Gaming Regula...</td>\n",
       "      <td>An act to amend Sections 12012.75 and 12012.90...</td>\n",
       "    </tr>\n",
       "  </tbody>\n",
       "</table>\n",
       "<p>23455 rows × 3 columns</p>\n",
       "</div>"
      ],
      "text/plain": [
       "                                                   text  \\\n",
       "0     SECTION 1. LIABILITY OF BUSINESS ENTITIES PROV...   \n",
       "1     SECTION 1. SHORT TITLE.\\n\\n    This Act may be...   \n",
       "2     SECTION 1. SHORT TITLE.\\n\\n    This Act may be...   \n",
       "3     SECTION 1. NONRECOGNITION OF GAIN WHERE ROLLOV...   \n",
       "4     SECTION 1. SHORT TITLE.\\n\\n    This Act may be...   \n",
       "...                                                 ...   \n",
       "1232  The people of the State of California do enact...   \n",
       "1233  The people of the State of California do enact...   \n",
       "1234  The people of the State of California do enact...   \n",
       "1235  The people of the State of California do enact...   \n",
       "1236  The people of the State of California do enact...   \n",
       "\n",
       "                                                summary  \\\n",
       "0     Shields a business entity from civil liability...   \n",
       "1     Human Rights Information Act - Requires certai...   \n",
       "2     Jackie Robinson Commemorative Coin Act - Direc...   \n",
       "3     Amends the Internal Revenue Code to provide (t...   \n",
       "4     Native American Energy Act - (Sec. 3) Amends t...   \n",
       "...                                                 ...   \n",
       "1232  Existing law, the Carpenter-Presley-Tanner Haz...   \n",
       "1233  (1) The Hazardous Waste Control Law authorizes...   \n",
       "1234  Under existing law, any employer or other pers...   \n",
       "1235  Existing law requires the Director of the Depa...   \n",
       "1236  Existing federal law, the Indian Gaming Regula...   \n",
       "\n",
       "                                                  title  \n",
       "0     A bill to limit the civil liability of busines...  \n",
       "1                          Human Rights Information Act  \n",
       "2                Jackie Robinson Commemorative Coin Act  \n",
       "3     To amend the Internal Revenue Code to provide ...  \n",
       "4                            Native American Energy Act  \n",
       "...                                                 ...  \n",
       "1232  An act to amend Sections 25173.7 and 25205.6 o...  \n",
       "1233  An act to amend Sections 25185.6, 25358.1, 253...  \n",
       "1234  An act to amend Section 1197.1 of the Labor Co...  \n",
       "1235  An act to amend Section 14838 of the Governmen...  \n",
       "1236  An act to amend Sections 12012.75 and 12012.90...  \n",
       "\n",
       "[23455 rows x 3 columns]"
      ]
     },
     "execution_count": 56,
     "metadata": {},
     "output_type": "execute_result"
    }
   ],
   "source": [
    "df_bs = get_billsum_df()\n",
    "df_bs"
   ]
  },
  {
   "cell_type": "code",
   "execution_count": 62,
   "metadata": {},
   "outputs": [
    {
     "name": "stdout",
     "output_type": "stream",
     "text": [
      "Title: A bill to amend title XVIII of the Social Security Act to provide coverage for kidney disease education services under the medicare program, and for other purposes.\n",
      "Text: SECTION 1. SHORT TITLE.\n",
      "\n",
      "    This Act may be cited as the ``Kidney Disease Educational Benefits \n",
      "Act of 2002''.\n",
      "\n",
      "SEC. 2. MEDICARE COVERAGE OF KIDNEY DISEASE EDUCATION SERVICES.\n",
      "\n",
      "    (a) Coverage of Kidney Disease Education Services.--\n",
      "            (1) In general.--Section 1861 of the Social Security Act \n",
      "        (42 U.S.C. 1395x), as amended by section 105 of the Medicare, \n",
      "        Medicaid, and SC\n",
      "Summary: Kidney Disease Educational Benefits Act of 2002 - Amends title XVIII (Medicare) of the Social Security Act, as amended by the Medicare, Medicaid, and SCHIP Benefits Improvement and Protection Act of 2000, to provide coverage for kidney disease education services furnished, upon the managing physician's referral, to an individual with kidney disease who will require dialysis or a kidney transplant. Requires such services to: (1) impart comprehensive information regarding management, prevention, and options regarding treatment of kidney disease; and (2) ensure that such individuals have the opportunity to participate actively in the choice of therapy.\n"
     ]
    }
   ],
   "source": [
    "i = 10\n",
    "row = df_bs.iloc[i]\n",
    "text, summary, title = row['text'], row['summary'], row['title']\n",
    "print('Title:', title)\n",
    "print('Text:', text[:400])\n",
    "print('Summary:', summary)"
   ]
  },
  {
   "cell_type": "code",
   "execution_count": 63,
   "metadata": {},
   "outputs": [
    {
     "name": "stdout",
     "output_type": "stream",
     "text": [
      "[CLS] medicare medicare prescription drug access act of 2003 - amends title xviii ( medicare ) of the social\n"
     ]
    }
   ],
   "source": [
    "out_toks = model.gen_on_sum_txt(text=text, title=title)\n",
    "out_ans = tkz.decode(out_toks.flatten())\n",
    "print(out_ans)"
   ]
  },
  {
   "cell_type": "code",
   "execution_count": 64,
   "metadata": {},
   "outputs": [
    {
     "name": "stdout",
     "output_type": "stream",
     "text": [
      "[CLS] amends title xviii ( medicare ) of the social security act to require the secretary of health\n",
      "[CLS] amends title xviii ( medicare ) of the social security act ( ssa ) to provide\n",
      "[CLS] amends title xviii ( medicare ) of the social security act ( ssa ) to require\n",
      "[CLS] amends title xix ( medicaid ) of the social security act to require the secretary\n",
      "[CLS] amends title xviii ( medicare ) of the social security act to : ( 1 ) provide\n",
      "[CLS] amends title xviii ( medicare ) of the social security act to require the secretary of health\n"
     ]
    }
   ],
   "source": [
    "enc_emb = model.text_title_to_emb(text=text, title=title)\n",
    "out_toks = predict_beam(model.gen, enc_emb, max_len=20)\n",
    "out_str = tkz.decode(out_toks)\n",
    "print(out_str)"
   ]
  },
  {
   "cell_type": "code",
   "execution_count": 38,
   "metadata": {},
   "outputs": [
    {
     "data": {
      "text/plain": [
       "10243.284331698998"
      ]
     },
     "execution_count": 38,
     "metadata": {},
     "output_type": "execute_result"
    }
   ],
   "source": [
    "df_bs['text'].str.len().mean()"
   ]
  },
  {
   "cell_type": "markdown",
   "metadata": {},
   "source": [
    "### Wiki dataset"
   ]
  },
  {
   "cell_type": "code",
   "execution_count": 9,
   "metadata": {},
   "outputs": [],
   "source": [
    "tkz = model.tkz\n",
    "max_len = 10"
   ]
  },
  {
   "cell_type": "code",
   "execution_count": 10,
   "metadata": {},
   "outputs": [
    {
     "name": "stdout",
     "output_type": "stream",
     "text": [
      "mask_tgt = True. max_tgt_len_freq = 0.2. max_tgt_len = 10\n"
     ]
    }
   ],
   "source": [
    "def parse_subdir(subdir: str) -> tuple[bool, float, int]:\n",
    "    mask_tgt, max_tgt_len_freq, max_tgt_len = None, None, None\n",
    "    parts = subdir.split('-')\n",
    "    for part in parts:\n",
    "        if part.startswith('msktgt'):\n",
    "            c = part[-1]\n",
    "            assert c in ('T', 'F')\n",
    "            mask_tgt = c == 'T'\n",
    "        elif part.startswith('msklf'):\n",
    "            max_tgt_len_freq = float(part[5:])\n",
    "        elif part.startswith('mskl'):\n",
    "            max_tgt_len = int(part[4:])\n",
    "    assert mask_tgt is not None\n",
    "    assert max_tgt_len_freq is not None\n",
    "    assert max_tgt_len is not None\n",
    "    return mask_tgt, max_tgt_len_freq, max_tgt_len\n",
    "\n",
    "\n",
    "mask_tgt, max_tgt_len_freq, max_tgt_len = parse_subdir(genmix_subdir)\n",
    "print(f'mask_tgt = {mask_tgt}. max_tgt_len_freq = {max_tgt_len_freq}. max_tgt_len = {max_tgt_len}')"
   ]
  },
  {
   "cell_type": "code",
   "execution_count": 11,
   "metadata": {},
   "outputs": [
    {
     "data": {
      "application/vnd.jupyter.widget-view+json": {
       "model_id": "6ef12bf0183c4ae1a79f921a2a2ea378",
       "version_major": 2,
       "version_minor": 0
      },
      "text/plain": [
       "Loading dataset shards:   0%|          | 0/41 [00:00<?, ?it/s]"
      ]
     },
     "metadata": {},
     "output_type": "display_data"
    },
    {
     "name": "stdout",
     "output_type": "stream",
     "text": [
      "Wikipedia 20220301.en docs: 6458670\n"
     ]
    }
   ],
   "source": [
    "wiki_ds_name, wiki_ds_subdir = '20220301.en', 'wikipedia'\n",
    "dss = load_dataset(wiki_ds_subdir, wiki_ds_name, cache_dir=str(DATA_PATH))\n",
    "ds = dss['train']\n",
    "n_docs = len(ds)\n",
    "print(f'Wikipedia {wiki_ds_name} docs: {n_docs}')\n"
   ]
  },
  {
   "cell_type": "code",
   "execution_count": 12,
   "metadata": {},
   "outputs": [
    {
     "data": {
      "text/plain": [
       "{'id': '39',\n",
       " 'url': 'https://en.wikipedia.org/wiki/Albedo',\n",
       " 'title': 'Albedo',\n",
       " 'text': 'Albedo (; ) is the measure of the diffuse reflection of solar radiation out of the total solar radiation and measured on a scale from 0, corresponding to a black body that absorbs all incident radiation, to 1, corresponding to a body that reflects all incident radiation.\\n\\nSurface albedo is defined as the ratio of radiosity Je to the irradiance Ee (flux per unit area) received by a surface. The proportion reflected is not only determined by properties of the surface itself, but also by the spectral and angular distribution of solar radiation reaching the Earth\\'s surface. These factors vary with atmospheric composition, geographic location, and time (see position of the Sun). While bi-hemispherical reflectance is calculated for a single angle of incidence (i.e., for a given position of the Sun), albedo is the directional integration of reflectance over all solar angles in a given period. The temporal resolution may range from seconds (as obtained from flux measurements) to daily, monthly, or annual averages.\\n\\nUnless given for a specific wavelength (spectral albedo), albedo refers to the entire spectrum of solar radiation. Due to measurement constraints, it is often given for the spectrum in which most solar energy reaches the surface (between 0.3 and 3 μm). This spectrum includes visible light (0.4–0.7 μm), which explains why surfaces with a low albedo appear dark (e.g., trees absorb most radiation), whereas surfaces with a high albedo appear bright (e.g., snow reflects most radiation).\\n\\nAlbedo is an important concept in climatology, astronomy, and environmental management (e.g., as part of the Leadership in Energy and Environmental Design (LEED) program for sustainable rating of buildings). The average albedo of the Earth from the upper atmosphere, its planetary albedo, is 30–35% because of cloud cover, but widely varies locally across the surface because of different geological and environmental features.\\n\\nThe term albedo was introduced into optics by Johann Heinrich Lambert in his 1760 work Photometria.\\n\\nTerrestrial albedo\\n\\nAny albedo in visible light falls within a range of about 0.9 for fresh snow to about 0.04 for charcoal, one of the darkest substances. Deeply shadowed cavities can achieve an effective albedo approaching the zero of a black body. When seen from a distance, the ocean surface has a low albedo, as do most forests, whereas desert areas have some of the highest albedos among landforms. Most land areas are in an albedo range of 0.1 to 0.4. The average albedo of Earth is about 0.3. This is far higher than for the ocean primarily because of the contribution of clouds.\\n\\nEarth\\'s surface albedo is regularly estimated via Earth observation satellite sensors such as NASA\\'s MODIS instruments on board the Terra and Aqua satellites, and the CERES instrument on the Suomi NPP and JPSS. As the amount of reflected radiation is only measured for a single direction by satellite, not all directions, a mathematical model is used to translate a sample set of satellite reflectance measurements into estimates of directional-hemispherical reflectance and bi-hemispherical reflectance (e.g.,). These calculations are based on the bidirectional reflectance distribution function (BRDF), which describes how the reflectance of a given surface depends on the view angle of the observer and the solar angle. BDRF can facilitate translations of observations of reflectance into albedo.\\n\\nEarth\\'s average surface temperature due to its albedo and the greenhouse effect is currently about . If Earth were frozen entirely (and hence be more reflective), the average temperature of the planet would drop below . If only the continental land masses became covered by glaciers, the mean temperature of the planet would drop to about . In contrast, if the entire Earth was covered by water – a so-called ocean planet – the average temperature on the planet would rise to almost .\\n\\nIn 2021, scientists reported that Earth dimmed by ~0.5% over two decades (1998-2017) as measured by earthshine using modern photometric techniques. This may have both been co-caused by climate change as well as a substantial increase in global warming. However, the link to climate change has not been explored to date and it is unclear whether or not this represents an ongoing trend.\\n\\nWhite-sky, black-sky, and blue-sky albedo\\nFor land surfaces, it has been shown that the albedo at a particular solar zenith angle θi can be approximated by the proportionate sum of two terms:\\n the directional-hemispherical reflectance at that solar zenith angle, , sometimes referred to as black-sky albedo, and\\n the bi-hemispherical reflectance, , sometimes referred to as white-sky albedo.\\nwith  being the proportion of direct radiation from a given solar angle, and  being the proportion of diffuse illumination, the actual albedo  (also called blue-sky albedo) can then be given as:\\n\\nThis formula is important because it allows the albedo to be calculated for any given illumination conditions from a knowledge of the intrinsic properties of the surface.\\n\\nExamples of terrestrial albedo effects\\n\\nIllumination\\nAlbedo is not directly dependent on illumination because changing the amount of incoming light proportionally changes the amount of reflected light, except in circumstances where a change in illumination induces a change in the Earth\\'s surface at that location (e.g. through melting of reflective ice). That said, albedo and illumination both vary by latitude. Albedo is highest near the poles and lowest in the subtropics, with a local maximum in the tropics.\\n\\nInsolation effects\\nThe intensity of albedo temperature effects depends on the amount of albedo and the level of local insolation (solar irradiance); high albedo areas in the Arctic and Antarctic regions are cold due to low insolation, whereas areas such as the Sahara Desert, which also have a relatively high albedo, will be hotter due to high insolation. Tropical and sub-tropical rainforest areas have low albedo, and are much hotter than their temperate forest counterparts, which have lower insolation. Because insolation plays such a big role in the heating and cooling effects of albedo, high insolation areas like the tropics will tend to show a more pronounced fluctuation in local temperature when local albedo changes.\\n\\nArctic regions notably release more heat back into space than what they absorb, effectively cooling the Earth. This has been a concern since arctic ice and snow has been melting at higher rates due to higher temperatures, creating regions in the arctic that are notably darker (being water or ground which is darker color) and reflects less heat back into space. This feedback loop results in a reduced albedo effect.\\n\\nClimate and weather\\nAlbedo affects climate by determining how much radiation a planet absorbs. The uneven heating of Earth from albedo variations between land, ice, or ocean surfaces can drive weather.\\n\\nAlbedo–temperature feedback\\nWhen an area\\'s albedo changes due to snowfall, a snow–temperature feedback results. A layer of snowfall increases local albedo, reflecting away sunlight, leading to local cooling. In principle, if no outside temperature change affects this area (e.g., a warm air mass), the raised albedo and lower temperature would maintain the current snow and invite further snowfall, deepening the snow–temperature feedback. However, because local weather is dynamic due to the change of seasons, eventually warm air masses and a more direct angle of sunlight (higher insolation) cause melting. When the melted area reveals surfaces with lower albedo, such as grass, soil, or ocean, the effect is reversed: the darkening surface lowers albedo, increasing local temperatures, which induces more melting and thus reducing the albedo further, resulting in still more heating.\\n\\nSnow\\nSnow albedo is highly variable, ranging from as high as 0.9 for freshly fallen snow, to about 0.4 for melting snow, and as low as 0.2 for dirty snow. Over Antarctica snow albedo averages a little more than 0.8. If a marginally snow-covered area warms, snow tends to melt, lowering the albedo, and hence leading to more snowmelt because more radiation is being absorbed by the snowpack (the ice–albedo positive feedback).\\n\\nJust as fresh snow has a higher albedo than does dirty snow, the albedo of snow-covered sea ice is far higher than that of sea water. Sea water absorbs more solar radiation than would the same surface covered with reflective snow. When sea ice melts, either due to a rise in sea temperature or in response to increased solar radiation from above, the snow-covered surface is reduced, and more surface of sea water is exposed, so the rate of energy absorption increases. The extra absorbed energy heats the sea water, which in turn increases the rate at which sea ice melts. As with the preceding example of snowmelt, the process of melting of sea ice is thus another example of a positive feedback. Both positive feedback loops have long been recognized as important for global warming.\\n\\nCryoconite, powdery windblown dust containing soot, sometimes reduces albedo on glaciers and ice sheets.\\n\\nThe dynamical nature of albedo in response to positive feedback, together with the effects of small errors in the measurement of albedo, can lead to large errors in energy estimates. Because of this, in order to reduce the error of energy estimates, it is important to measure the albedo of snow-covered areas through remote sensing techniques rather than applying a single value for albedo over broad regions.\\n\\nSmall-scale effects\\nAlbedo works on a smaller scale, too. In sunlight, dark clothes absorb more heat and light-coloured clothes reflect it better, thus allowing some control over body temperature by exploiting the albedo effect of the colour of external clothing.\\n\\nSolar photovoltaic effects \\nAlbedo can affect the electrical energy output of solar photovoltaic devices. For example, the effects of a spectrally responsive albedo are illustrated by the differences between the spectrally weighted albedo of solar photovoltaic technology based on hydrogenated amorphous silicon (a-Si:H) and crystalline silicon (c-Si)-based compared to traditional spectral-integrated albedo predictions. Research showed impacts of over 10%. More recently, the analysis was extended to the effects of spectral bias due to the specular reflectivity of 22 commonly occurring surface materials (both human-made and natural) and analyzes the albedo effects on the performance of seven photovoltaic materials covering three common photovoltaic system topologies: industrial (solar farms), commercial flat rooftops and residential pitched-roof applications.\\n\\nTrees\\nBecause forests generally have a low albedo, (the majority of the ultraviolet and visible spectrum is absorbed through photosynthesis), some scientists have suggested that greater heat absorption by trees could offset some of the carbon benefits of afforestation (or offset the negative climate impacts of deforestation). In the case of evergreen forests with seasonal snow cover albedo reduction may be great enough for deforestation to cause a net cooling effect. Trees also impact climate in extremely complicated ways through evapotranspiration. The water vapor causes cooling on the land surface, causes heating where it condenses, acts a strong greenhouse gas, and can increase albedo when it condenses into clouds. Scientists generally treat evapotranspiration as a net cooling impact, and the net climate impact of albedo and evapotranspiration changes from deforestation depends greatly on local climate.\\n\\nIn seasonally snow-covered zones, winter albedos of treeless areas are 10% to 50% higher than nearby forested areas because snow does not cover the trees as readily. Deciduous trees have an albedo value of about 0.15 to 0.18 whereas coniferous trees have a value of about 0.09 to 0.15. Variation in summer albedo across both forest types is associated with maximum rates of photosynthesis because plants with high growth capacity display a greater fraction of their foliage for direct interception of incoming radiation in the upper canopy. The result is that wavelengths of light not used in photosynthesis are more likely to be reflected back to space rather than being absorbed by other surfaces lower in the canopy.\\n\\nStudies by the Hadley Centre have investigated the relative (generally warming) effect of albedo change and (cooling) effect of carbon sequestration on planting forests. They found that new forests in tropical and midlatitude areas tended to cool; new forests in high latitudes (e.g., Siberia) were neutral or perhaps warming.\\n\\nWater\\n\\nWater reflects light very differently from typical terrestrial materials. The reflectivity of a water surface is calculated using the Fresnel equations.\\n\\nAt the scale of the wavelength of light even wavy water is always smooth so the light is reflected in a locally specular manner (not diffusely). The glint of light off water is a commonplace effect of this. At small angles of incident light, waviness results in reduced reflectivity because of the steepness of the reflectivity-vs.-incident-angle curve and a locally increased average incident angle.\\n\\nAlthough the reflectivity of water is very low at low and medium angles of incident light, it becomes very high at high angles of incident light such as those that occur on the illuminated side of Earth near the terminator (early morning, late afternoon, and near the poles). However, as mentioned above, waviness causes an appreciable reduction. Because light specularly reflected from water does not usually reach the viewer, water is usually considered to have a very low albedo in spite of its high reflectivity at high angles of incident light.\\n\\nNote that white caps on waves look white (and have high albedo) because the water is foamed up, so there are many superimposed bubble surfaces which reflect, adding up their reflectivities. Fresh \\'black\\' ice exhibits Fresnel reflection.\\nSnow on top of this sea ice increases the albedo to 0.9.\\n\\nClouds\\nCloud albedo has substantial influence over atmospheric temperatures. Different types of clouds exhibit different reflectivity, theoretically ranging in albedo from a minimum of near 0 to a maximum approaching 0.8. \"On any given day, about half of Earth is covered by clouds, which reflect more sunlight than land and water. Clouds keep Earth cool by reflecting sunlight, but they can also serve as blankets to trap warmth.\"\\n\\nAlbedo and climate in some areas are affected by artificial clouds, such as those created by the contrails of heavy commercial airliner traffic. A study following the burning of the Kuwaiti oil fields during Iraqi occupation showed that temperatures under the burning oil fires were as much as  colder than temperatures several miles away under clear skies.\\n\\nAerosol effects\\nAerosols (very fine particles/droplets in the atmosphere) have both direct and indirect effects on Earth\\'s radiative balance. The direct (albedo) effect is generally to cool the planet; the indirect effect (the particles act as cloud condensation nuclei and thereby change cloud properties) is less certain. As per Spracklen et al. the effects are:\\n Aerosol direct effect. Aerosols directly scatter and absorb radiation. The scattering of radiation causes atmospheric cooling, whereas absorption can cause atmospheric warming.\\n Aerosol indirect effect. Aerosols modify the properties of clouds through a subset of the aerosol population called cloud condensation nuclei. Increased nuclei concentrations lead to increased cloud droplet number concentrations, which in turn leads to increased cloud albedo, increased light scattering and radiative cooling (first indirect effect), but also leads to reduced precipitation efficiency and increased lifetime of the cloud (second indirect effect).\\n\\nIn extremely polluted cities like Delhi, aerosol pollutants influence local weather and induce an urban cool island effect during the day.\\n\\nBlack carbon\\nAnother albedo-related effect on the climate is from black carbon particles. The size of this effect is difficult to quantify: the Intergovernmental Panel on Climate Change estimates that the global mean radiative forcing for black carbon aerosols from fossil fuels is +0.2 W m−2, with a range +0.1 to +0.4 W m−2. Black carbon is a bigger cause of the melting of the polar ice cap in the Arctic than carbon dioxide due to its effect on the albedo.\\n\\nHuman activities\\nHuman activities (e.g., deforestation, farming, and urbanization) change the albedo of various areas around the globe. However, quantification of this effect on the global scale is difficult, further study is required to determine anthropogenic effects.\\n\\nAlbedo in Astronomy \\nIn astronomy, the term albedo can be defined in several different ways, depending upon the application and the wavelength of electromagnetic radiation involved.\\n\\nOptical or Visual Albedo\\nThe albedos of planets, satellites and minor planets such as asteroids can be used to infer much about their properties. The study of albedos, their dependence on wavelength, lighting angle (\"phase angle\"), and variation in time composes a major part of the astronomical field of photometry. For small and far objects that cannot be resolved by telescopes, much of what we know comes from the study of their albedos. For example, the absolute albedo can indicate the surface ice content of outer Solar System objects, the variation of albedo with phase angle gives information about regolith properties, whereas unusually high radar albedo is indicative of high metal content in asteroids.\\n\\nEnceladus, a moon of Saturn, has one of the highest known optical albedos of any body in the Solar System, with an albedo of 0.99. Another notable high-albedo body is Eris, with an albedo of 0.96. Many small objects in the outer Solar System and asteroid belt have low albedos down to about 0.05. A typical comet nucleus has an albedo of 0.04. Such a dark surface is thought to be indicative of a primitive and heavily space weathered surface containing some organic compounds.\\n\\nThe overall albedo of the Moon is measured to be around 0.14, but it is strongly directional and non-Lambertian, displaying also a strong opposition effect. Although such reflectance properties are different from those of any terrestrial terrains, they are typical of the regolith surfaces of airless Solar System bodies.\\n\\nTwo common optical albedos that are used in astronomy are the (V-band) geometric albedo (measuring brightness when illumination comes from directly behind the observer) and the Bond albedo (measuring total proportion of electromagnetic energy reflected). Their values can differ significantly, which is a common source of confusion.\\n\\nIn detailed studies, the directional reflectance properties of astronomical bodies are often expressed in terms of the five Hapke parameters which semi-empirically describe the variation of albedo with phase angle, including a characterization of the opposition effect of regolith surfaces. One of these five parameters is yet another type of albedo called the single-scattering albedo. It is used to define scattering of electromagnetic waves on small particles. It depends on properties of the material (refractive index), the size of the particle, and the wavelength of the incoming radiation. \\n\\nAn important relationship between an object\\'s astronomical (geometric) albedo, absolute magnitude and diameter is given by:\\n\\nwhere  is the astronomical albedo,  is the diameter in kilometers, and  is the absolute magnitude.\\n\\nRadar Albedo\\nIn planetary radar astronomy, a microwave (or radar) pulse is transmitted toward a planetary target (e.g. Moon, asteroid, etc.) and the echo from the target is measured. In most instances, the transmitted pulse is circularly polarized and the received pulse is measured in the same sense of polarization as the transmitted pulse (SC) and the opposite sense (OC). The echo power is measured in terms of radar cross-section, , , or  (total power, SC + OC) and is equal to the cross-sectional area of a metallic sphere (perfect reflector) at the same distance as the target that would return the same echo power.\\n\\nThose components of the received echo that return from first-surface reflections (as from a smooth or mirror-like surface) are dominated by the OC component as there is a reversal in polarization upon reflection. If the surface is rough at the wavelength scale or there is significant penetration into the regolith, there will be a significant SC component in the echo caused by multiple scattering.\\n\\nFor most objects in the solar system, the OC echo dominates and the most commonly reported radar albedo parameter is the (normalized) OC radar albedo (often shortened to radar albedo):\\n\\nwhere the denominator is the effective cross-sectional area of the target object with mean radius, . A smooth metallic sphere would have .\\n\\nRadar Albedos of Solar System Objects\\n\\nThe values reported for the Moon, Mercury, Mars, Venus, and Comet P/2005 JQ5 are derived from the total (OC+SC) radar albedo reported in those references.\\n\\nRelationship to Surface Bulk Density\\nIn the event that most of the echo is from first surface reflections ( or so), the OC radar albedo is a first-order approximation of the Fresnel reflection coefficient (aka reflectivity) and can be used to estimate the bulk density of a planetary surface to a depth of a meter or so (a few wavelengths of the radar wavelength which is typically at the decimeter scale) using the following empirical relationships:\\n\\n \\n\\n.\\n\\nSee also\\n\\n Cool roof\\n Daisyworld\\n Emissivity\\n Exitance\\n Global dimming\\n Irradiance\\n Kirchhoff\\'s law of thermal radiation\\n Opposition surge\\n Polar see-saw\\n Radar astronomy\\n Solar radiation management\\n\\nReferences\\n\\nExternal links\\n\\n Albedo Project\\n Albedo – Encyclopedia of Earth\\n NASA MODIS BRDF/albedo product site\\n Ocean surface albedo look-up-table\\n Surface albedo derived from Meteosat observations\\n A discussion of Lunar albedos\\n reflectivity of metals (chart)\\n\\nLand surface effects on climate\\nClimate change feedbacks\\nClimate forcing\\nClimatology\\nElectromagnetic radiation\\nRadiometry\\nScattering, absorption and radiative transfer (optics)\\nRadiation\\n1760s neologisms'}"
      ]
     },
     "execution_count": 12,
     "metadata": {},
     "output_type": "execute_result"
    }
   ],
   "source": [
    "i = 2\n",
    "item = ds[i]\n",
    "item"
   ]
  },
  {
   "cell_type": "code",
   "execution_count": 13,
   "metadata": {},
   "outputs": [
    {
     "data": {
      "text/plain": [
       "22273"
      ]
     },
     "execution_count": 13,
     "metadata": {},
     "output_type": "execute_result"
    }
   ],
   "source": [
    "text = item['text']\n",
    "len(text)"
   ]
  },
  {
   "cell_type": "markdown",
   "metadata": {},
   "source": [
    "#### Mask prediction"
   ]
  },
  {
   "cell_type": "code",
   "execution_count": 14,
   "metadata": {},
   "outputs": [
    {
     "name": "stderr",
     "output_type": "stream",
     "text": [
      "Token indices sequence length is longer than the specified maximum sequence length for this model (4568 > 512). Running this sequence through the model will result in indexing errors\n"
     ]
    },
    {
     "name": "stdout",
     "output_type": "stream",
     "text": [
      "torch.Size([1, 128, 768])\n"
     ]
    }
   ],
   "source": [
    "max_toks = 0\n",
    "if model.cfg.max_inp_chunks > 0:\n",
    "    max_toks = (model.cfg.inp_len - 2) * model.cfg.max_inp_chunks - 17 - 14 - 5\n",
    "wt = WordToks(\n",
    "    tkz=tkz, s=text, max_tgt_len_freq=max_tgt_len_freq, max_tgt_len=max_tgt_len, max_toks=max_toks,\n",
    ")\n",
    "# tags_list_str = ', '.join(wt.tags_names)\n",
    "tags_list_str = ', '.join(wt.tags_dict.values())\n",
    "inp_str = wt.inp_masked_str if mask_tgt else wt.inp_str\n",
    "prompt = f'Cite the text between the tags: {tags_list_str}. Text: {inp_str}'\n",
    "prompt_toks, emb = model.prompt_to_emb(prompt=prompt)\n",
    "print(emb.shape)"
   ]
  },
  {
   "cell_type": "code",
   "execution_count": 53,
   "metadata": {},
   "outputs": [
    {
     "name": "stdout",
     "output_type": "stream",
     "text": [
      "Cite the text between the tags: <|cite_begin|>, <|cite_end|>. Text: albedo ( ; ) is the measure of the diffuse reflection of solar radiation out of the total solar radiation and measured on a scale from < | cite _ begin | > [MASK] [MASK] < | cite _ end | > corresponding to a black body that absorbs all incident radiation, to 1, corresponding to a body that reflects all incident radiation. surface albedo is defined as the ratio of radiosity je to the irradiance ee ( flux per unit area ) received by a surface. the proportion reflected is not only determined\n",
      "albedo ( ; ) is the measure of the diffuse reflection of solar radiation out of the total solar radiation and measured on a scale from < | cite _ begin | > 0, < | cite _ end | > corresponding to a black body that absorbs all incident radiation, to 1, corresponding to a body that reflects all incident radiation. surface albedo is defined as the ratio of radiosity je to the irradiance ee ( flux per unit area ) received by a surface. the proportion reflected is not only determined\n",
      "albedo ( ; ) is the measure of the diffuse reflection of solar radiation out of the total solar radiation and measured on a scale from < | cite _ begin | > [MASK] [MASK] < | cite _ end | > corresponding to a black body that absorbs all incident radiation, to 1, corresponding to a body that reflects all incident radiation. surface albedo is defined as the ratio of radiosity je to the irradiance ee ( flux per unit area ) received by a surface. the proportion reflected is not only determined\n",
      "0,\n"
     ]
    }
   ],
   "source": [
    "print(prompt)\n",
    "print(wt.inp_str)\n",
    "print(wt.inp_masked_str)\n",
    "print(wt.tgt_str)"
   ]
  },
  {
   "cell_type": "code",
   "execution_count": 54,
   "metadata": {},
   "outputs": [
    {
     "name": "stdout",
     "output_type": "stream",
     "text": [
      "[CLS] the first [SEP] the [SEP] the [SEP] the [SEP]\n"
     ]
    }
   ],
   "source": [
    "out_toks = model.gen.generate(inputs_embeds=emb, decoder_start_token_id=tkz.cls_token_id, max_length=max_len)\n",
    "\n",
    "out_ans = tkz.decode(out_toks.flatten())\n",
    "print(out_ans)"
   ]
  },
  {
   "cell_type": "code",
   "execution_count": 55,
   "metadata": {},
   "outputs": [
    {
     "name": "stdout",
     "output_type": "stream",
     "text": [
      "[CLS]. it is [SEP]\n",
      "[CLS]. it is a [SEP]\n",
      "[CLS]. it is a first [SEP]\n",
      "[CLS]. it is a family of the [SEP]\n",
      "[CLS]. it is a family of the first [SEP]\n",
      "[CLS]. it is [SEP]\n"
     ]
    }
   ],
   "source": [
    "out_toks = predict_beam(model.gen, emb, max_len=20)\n",
    "out_str = tkz.decode(out_toks)\n",
    "print(out_str)"
   ]
  },
  {
   "cell_type": "markdown",
   "metadata": {},
   "source": [
    "#### Predict all"
   ]
  },
  {
   "cell_type": "code",
   "execution_count": 15,
   "metadata": {},
   "outputs": [
    {
     "name": "stdout",
     "output_type": "stream",
     "text": [
      "1\n",
      "albedo ( ; ) is the measure of the diffuse reflection of solar radiation out of the total solar radiation and measured on a scale from 0, corresponding to a black body that absorbs all incident radiation, to 1, corresponding to a body that reflects all incident radiation. [MASK] albedo is defined as the ratio of radiosity je to the irradiance ee ( flux per unit area ) received by a surface. the proportion reflected is not only determined by properties of the surface itself, but also by the spectral and angular distribution of solar radiation reaching the earth's surface. these factors vary with atmospheric composition, geographic location, and\n",
      "tensor(6.6980, grad_fn=<MeanBackward0>)\n"
     ]
    }
   ],
   "source": [
    "text_toks = tkz(text, add_special_tokens=False, return_tensors='pt').input_ids.to(device)\n",
    "text_toks = text_toks[:, :inp_len - 2].clone()\n",
    "masked_text_toks = text_toks.clone()\n",
    "max_tgt_len = min(max_tgt_len, text_toks.shape[1] - 1)\n",
    "tgt_len = np.random.randint(1, max_tgt_len + 1)\n",
    "print(tgt_len)\n",
    "n_rest = text_toks.shape[1] - tgt_len\n",
    "off = np.random.randint(n_rest)\n",
    "masked_text_toks[:, off:off + tgt_len] = tkz.mask_token_id\n",
    "\n",
    "masked_text = tkz.decode(masked_text_toks[0].detach().cpu().numpy())\n",
    "masked_toks, emb = model.prompt_to_emb(prompt=masked_text)\n",
    "\n",
    "# print(text)\n",
    "print(masked_text)\n",
    "\n",
    "# # [1, n_sum]\n",
    "cite_toks = masked_toks[:1]\n",
    "\n",
    "# [n_sum]\n",
    "cite_toks = cite_toks[0]\n",
    "i1, i2 = 0, len(cite_toks)\n",
    "if cite_toks[0] == tkz.cls_token_id:\n",
    "    i1 += 1\n",
    "if cite_toks[-1] == tkz.sep_token_id:\n",
    "    i2 -= 1\n",
    "# [1, tgt_len]\n",
    "cite_toks = cite_toks[i1:i2].unsqueeze(0)\n",
    "# [1, tgt_len]\n",
    "inp_ids = torch.ones_like(cite_toks) * tkz.mask_token_id\n",
    "# [1, tgt_len]\n",
    "inp_mask = inp_ids > 0\n",
    "gen_out: Seq2SeqLMOutput = model.gen(\n",
    "    inputs_embeds=emb, decoder_input_ids=inp_ids, decoder_attention_mask=inp_mask, use_cache=False,\n",
    "    do_not_transform_embeds=True,\n",
    ")\n",
    "# [1, tgt_len, n_vocab]\n",
    "gen_logits = gen_out.logits\n",
    "\n",
    "# [tgt_len, n_vocab]\n",
    "logits = gen_logits[0]\n",
    "# [tgt_len]\n",
    "labels = cite_toks[0]\n",
    "# [tgt_len]\n",
    "loss = F.cross_entropy(logits, labels, reduction='none')\n",
    "# The last one is sep_token_id\n",
    "assert loss.shape[0] > 0\n",
    "loss = loss.mean()\n",
    "print(loss)"
   ]
  },
  {
   "cell_type": "code",
   "execution_count": 16,
   "metadata": {},
   "outputs": [
    {
     "name": "stdout",
     "output_type": "stream",
     "text": [
      "torch.Size([1, 126])\n",
      "the is ( is is is is a of of of the the the the the the the the the the the the the the the the the the the the the the the the the the the the the the the the the the the the the the the the the the the the the the the the the the the the the the the the the the the the the the the the the the the the the the the the the the the the the the the the the the the the the the the the the the the the the the the the the the the the the the the the the the the the the the the the the the the\n"
     ]
    }
   ],
   "source": [
    "probs = torch.softmax(gen_logits, dim=-1)\n",
    "ids = torch.argmax(probs, dim=-1)\n",
    "print(ids.shape)\n",
    "txt_out = tkz.decode(ids.flatten().detach().cpu().numpy())\n",
    "print(txt_out)"
   ]
  },
  {
   "cell_type": "code",
   "execution_count": null,
   "metadata": {},
   "outputs": [],
   "source": []
  },
  {
   "cell_type": "code",
   "execution_count": null,
   "metadata": {},
   "outputs": [],
   "source": []
  }
 ],
 "metadata": {
  "kernelspec": {
   "display_name": "mllm",
   "language": "python",
   "name": "python3"
  },
  "language_info": {
   "codemirror_mode": {
    "name": "ipython",
    "version": 3
   },
   "file_extension": ".py",
   "mimetype": "text/x-python",
   "name": "python",
   "nbconvert_exporter": "python",
   "pygments_lexer": "ipython3",
   "version": "3.10.14"
  }
 },
 "nbformat": 4,
 "nbformat_minor": 2
}
