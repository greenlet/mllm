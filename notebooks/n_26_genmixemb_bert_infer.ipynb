{
 "cells": [
  {
   "cell_type": "code",
   "execution_count": 1,
   "metadata": {},
   "outputs": [],
   "source": [
    "%load_ext autoreload\n",
    "%autoreload 2"
   ]
  },
  {
   "cell_type": "code",
   "execution_count": 3,
   "metadata": {},
   "outputs": [],
   "source": [
    "from dataclasses import dataclass\n",
    "import io\n",
    "import json\n",
    "import os\n",
    "from pathlib import Path\n",
    "from pprint import pprint\n",
    "import re\n",
    "import requests\n",
    "import sys\n",
    "from typing import Optional\n",
    "\n",
    "if '..' not in sys.path: sys.path.append('..')\n",
    "\n",
    "from datasets import load_dataset\n",
    "import numpy as np\n",
    "import pandas as pd\n",
    "from pydantic_yaml import parse_yaml_file_as, to_yaml_file\n",
    "import torch\n",
    "from torch import nn\n",
    "import torch.nn.functional as F\n",
    "from transformers import BertGenerationEncoder, BertGenerationDecoder, EncoderDecoderModel, BertTokenizer, AutoTokenizer\n",
    "from transformers.modeling_outputs import Seq2SeqLMOutput, BaseModelOutputWithPastAndCrossAttentions, CausalLMOutputWithCrossAttentions\n",
    "\n",
    "from mllm.config.model import GenmixTrainDsType, TokensAggType, GenmixembBertCfg, copy_override_genmixemb_bert_cfg, \\\n",
    "    gen_prefpostfix_genmixemb_bert\n",
    "from mllm.exp.args import GENMIXEMB_BERT_MODEL_CFG_FNAME, create_bool_str_field, is_arg_true\n",
    "from mllm.model.genmixemb_bert import GenmixembBert\n",
    "from mllm.train.mask_utils import MaskCfg\n",
    "from mllm.train.utils import find_create_train_path, log_weights_grads_stats, SumTuple, QnaTuple\n",
    "from mllm.data.wiki.itwiki import WikiItem, get_wiki_batch_iterators, WikiBatch\n",
    "from mllm.utils.utils import rethrow\n"
   ]
  },
  {
   "cell_type": "markdown",
   "metadata": {},
   "source": [
    "# BERT Generator model inference\n",
    "## Configs and paths"
   ]
  },
  {
   "cell_type": "code",
   "execution_count": 160,
   "metadata": {},
   "outputs": [
    {
     "name": "stdout",
     "output_type": "stream",
     "text": [
      "cpu\n",
      "n_toks_max = 512\n",
      "None\n",
      "pred_next_sent = True\n"
     ]
    }
   ],
   "source": [
    "DATA_PATH = Path(os.path.expandvars('$HOME')) / 'data'\n",
    "\n",
    "bert_model_name = 'bert-base-uncased'\n",
    "random_seed = 111\n",
    "train_genmixemb_bert_path = DATA_PATH / 'train_mllm_genmixemb_bert'\n",
    "genmixemb_subdir = 'genmixemb-20250713_202718-bertbaseuncased-d768-mxo50-aggBrt-sub0-dsWki-tmax100-tragF'\n",
    "genmixemb_subdir = 'genmixemb-20250715_035750-bertbaseuncased-d768-mxo50-aggBrt-sub2-dsWki-tmax100-tragT'\n",
    "genmixemb_subdir = 'genmixemb-20250716_213252-bertbaseuncased-d768-mxo50-aggBrt-sub0-dsWki-tmax100-msk_sep_0.5/0.15_seq_0.5/0.2/20-tragF'\n",
    "genmixemb_subdir = 'genmixemb-20250718_220105-bertbaseuncased-d768-mxo50-aggBrt-sub2-dsWki-tmax100-tragT'\n",
    "genmixemb_subdir = 'genmixemb-20250721_083250-bertbaseuncased-d768-mxo50-aggPyr-agtDecim-stp0-lvl1-lrs2-dsWki-tmax256-tragF-nxtsnt'\n",
    "genmixemb_subdir = 'genmixemb-20250721_212402-bertbaseuncased-d768-mxo50-aggPyr-agtDecim-stp2-lvl2-lrs2-dsWki-tmax512-tragT-nxtsnt'\n",
    "genmixemb_subdir = 'genmixemb-20250722_213424-bertbaseuncased-d768-mxo50-aggPyr-agtDecim-stp2-lvl3-lrs2-dsWki-tmax512-tragT-nxtsnt'\n",
    "\n",
    "genmixemb_train_path = train_genmixemb_bert_path / genmixemb_subdir\n",
    "genmixemb_snapshot_fpath = genmixemb_train_path / 'best.pth'\n",
    "\n",
    "device_name = 'cpu'\n",
    "# device_name = 'cuda'\n",
    "\n",
    "device = torch.device(device_name)\n",
    "print(device)\n",
    "\n",
    "parts = genmixemb_subdir.split('-')\n",
    "n_toks_max = 0\n",
    "mask_cfg = None\n",
    "pred_next_sent = False\n",
    "for part in parts:\n",
    "    if part.startswith('tmax'):\n",
    "        n_toks_max = int(part[4:])\n",
    "    elif part.startswith('msk_'):\n",
    "        subparts = part.split('_')\n",
    "        # postfix_parts.append(f'msk_sep_{sep_freq}/{sep_frac}_seq_{seq_freq}/{seq_max_frac}/{mask_cfg.seq_max_len}')\n",
    "        sep_part, seq_part = subparts[2], subparts[4]\n",
    "        sep_freq, sep_frac = sep_part.split('/')\n",
    "        seq_freq, seq_max_frac, seq_max_len = seq_part.split('/')\n",
    "        sep_freq, sep_frac = float(sep_freq), float(sep_frac)\n",
    "        seq_freq, seq_max_frac, seq_max_len = float(seq_freq), float(seq_max_frac), int(seq_max_len)\n",
    "        mask_cfg = MaskCfg(\n",
    "            sep_freq=sep_freq, sep_frac=sep_frac, seq_freq=seq_freq, seq_max_frac=seq_max_frac,\n",
    "            seq_max_len=seq_max_len,\n",
    "        )\n",
    "    elif part == 'nxtsnt':\n",
    "        pred_next_sent = True\n",
    "\n",
    "print(f'n_toks_max = {n_toks_max}')\n",
    "print(mask_cfg)\n",
    "print(f'pred_next_sent = {pred_next_sent}')\n",
    "\n",
    "batch_size = 5\n"
   ]
  },
  {
   "cell_type": "code",
   "execution_count": 161,
   "metadata": {},
   "outputs": [
    {
     "name": "stdout",
     "output_type": "stream",
     "text": [
      "{'bert_agg_n_subseq_toks': 2,\n",
      " 'bert_model_name': 'bert-base-uncased',\n",
      " 'd_model': 768,\n",
      " 'max_out_toks': 50,\n",
      " 'pyr_agg_n_layers_per_level': 2,\n",
      " 'pyr_agg_n_levels': 3,\n",
      " 'pyr_agg_step': 2,\n",
      " 'pyr_agg_type': <HgReductType.Decim: 'decim'>,\n",
      " 'toks_agg_type': <TokensAggType.Pyramid: 'pyr'>,\n",
      " 'train_agg_model': True}\n"
     ]
    }
   ],
   "source": [
    "model_cfg = parse_yaml_file_as(GenmixembBertCfg, genmixemb_train_path / GENMIXEMB_BERT_MODEL_CFG_FNAME)\n",
    "pprint(model_cfg.dict())"
   ]
  },
  {
   "cell_type": "markdown",
   "metadata": {},
   "source": [
    "## Load models and dataset\n",
    "### Model"
   ]
  },
  {
   "cell_type": "code",
   "execution_count": 162,
   "metadata": {},
   "outputs": [
    {
     "name": "stderr",
     "output_type": "stream",
     "text": [
      "You are using a model of type bert to instantiate a model of type bert-generation. This is not supported for all configurations of models and can yield errors.\n",
      "You are using a model of type bert to instantiate a model of type bert-generation. This is not supported for all configurations of models and can yield errors.\n",
      "Some weights of BertGenerationDecoder were not initialized from the model checkpoint at bert-base-uncased and are newly initialized: ['bert.encoder.layer.0.crossattention.output.LayerNorm.bias', 'bert.encoder.layer.0.crossattention.output.LayerNorm.weight', 'bert.encoder.layer.0.crossattention.output.dense.bias', 'bert.encoder.layer.0.crossattention.output.dense.weight', 'bert.encoder.layer.0.crossattention.self.key.bias', 'bert.encoder.layer.0.crossattention.self.key.weight', 'bert.encoder.layer.0.crossattention.self.query.bias', 'bert.encoder.layer.0.crossattention.self.query.weight', 'bert.encoder.layer.0.crossattention.self.value.bias', 'bert.encoder.layer.0.crossattention.self.value.weight', 'bert.encoder.layer.1.crossattention.output.LayerNorm.bias', 'bert.encoder.layer.1.crossattention.output.LayerNorm.weight', 'bert.encoder.layer.1.crossattention.output.dense.bias', 'bert.encoder.layer.1.crossattention.output.dense.weight', 'bert.encoder.layer.1.crossattention.self.key.bias', 'bert.encoder.layer.1.crossattention.self.key.weight', 'bert.encoder.layer.1.crossattention.self.query.bias', 'bert.encoder.layer.1.crossattention.self.query.weight', 'bert.encoder.layer.1.crossattention.self.value.bias', 'bert.encoder.layer.1.crossattention.self.value.weight', 'bert.encoder.layer.10.crossattention.output.LayerNorm.bias', 'bert.encoder.layer.10.crossattention.output.LayerNorm.weight', 'bert.encoder.layer.10.crossattention.output.dense.bias', 'bert.encoder.layer.10.crossattention.output.dense.weight', 'bert.encoder.layer.10.crossattention.self.key.bias', 'bert.encoder.layer.10.crossattention.self.key.weight', 'bert.encoder.layer.10.crossattention.self.query.bias', 'bert.encoder.layer.10.crossattention.self.query.weight', 'bert.encoder.layer.10.crossattention.self.value.bias', 'bert.encoder.layer.10.crossattention.self.value.weight', 'bert.encoder.layer.11.crossattention.output.LayerNorm.bias', 'bert.encoder.layer.11.crossattention.output.LayerNorm.weight', 'bert.encoder.layer.11.crossattention.output.dense.bias', 'bert.encoder.layer.11.crossattention.output.dense.weight', 'bert.encoder.layer.11.crossattention.self.key.bias', 'bert.encoder.layer.11.crossattention.self.key.weight', 'bert.encoder.layer.11.crossattention.self.query.bias', 'bert.encoder.layer.11.crossattention.self.query.weight', 'bert.encoder.layer.11.crossattention.self.value.bias', 'bert.encoder.layer.11.crossattention.self.value.weight', 'bert.encoder.layer.2.crossattention.output.LayerNorm.bias', 'bert.encoder.layer.2.crossattention.output.LayerNorm.weight', 'bert.encoder.layer.2.crossattention.output.dense.bias', 'bert.encoder.layer.2.crossattention.output.dense.weight', 'bert.encoder.layer.2.crossattention.self.key.bias', 'bert.encoder.layer.2.crossattention.self.key.weight', 'bert.encoder.layer.2.crossattention.self.query.bias', 'bert.encoder.layer.2.crossattention.self.query.weight', 'bert.encoder.layer.2.crossattention.self.value.bias', 'bert.encoder.layer.2.crossattention.self.value.weight', 'bert.encoder.layer.3.crossattention.output.LayerNorm.bias', 'bert.encoder.layer.3.crossattention.output.LayerNorm.weight', 'bert.encoder.layer.3.crossattention.output.dense.bias', 'bert.encoder.layer.3.crossattention.output.dense.weight', 'bert.encoder.layer.3.crossattention.self.key.bias', 'bert.encoder.layer.3.crossattention.self.key.weight', 'bert.encoder.layer.3.crossattention.self.query.bias', 'bert.encoder.layer.3.crossattention.self.query.weight', 'bert.encoder.layer.3.crossattention.self.value.bias', 'bert.encoder.layer.3.crossattention.self.value.weight', 'bert.encoder.layer.4.crossattention.output.LayerNorm.bias', 'bert.encoder.layer.4.crossattention.output.LayerNorm.weight', 'bert.encoder.layer.4.crossattention.output.dense.bias', 'bert.encoder.layer.4.crossattention.output.dense.weight', 'bert.encoder.layer.4.crossattention.self.key.bias', 'bert.encoder.layer.4.crossattention.self.key.weight', 'bert.encoder.layer.4.crossattention.self.query.bias', 'bert.encoder.layer.4.crossattention.self.query.weight', 'bert.encoder.layer.4.crossattention.self.value.bias', 'bert.encoder.layer.4.crossattention.self.value.weight', 'bert.encoder.layer.5.crossattention.output.LayerNorm.bias', 'bert.encoder.layer.5.crossattention.output.LayerNorm.weight', 'bert.encoder.layer.5.crossattention.output.dense.bias', 'bert.encoder.layer.5.crossattention.output.dense.weight', 'bert.encoder.layer.5.crossattention.self.key.bias', 'bert.encoder.layer.5.crossattention.self.key.weight', 'bert.encoder.layer.5.crossattention.self.query.bias', 'bert.encoder.layer.5.crossattention.self.query.weight', 'bert.encoder.layer.5.crossattention.self.value.bias', 'bert.encoder.layer.5.crossattention.self.value.weight', 'bert.encoder.layer.6.crossattention.output.LayerNorm.bias', 'bert.encoder.layer.6.crossattention.output.LayerNorm.weight', 'bert.encoder.layer.6.crossattention.output.dense.bias', 'bert.encoder.layer.6.crossattention.output.dense.weight', 'bert.encoder.layer.6.crossattention.self.key.bias', 'bert.encoder.layer.6.crossattention.self.key.weight', 'bert.encoder.layer.6.crossattention.self.query.bias', 'bert.encoder.layer.6.crossattention.self.query.weight', 'bert.encoder.layer.6.crossattention.self.value.bias', 'bert.encoder.layer.6.crossattention.self.value.weight', 'bert.encoder.layer.7.crossattention.output.LayerNorm.bias', 'bert.encoder.layer.7.crossattention.output.LayerNorm.weight', 'bert.encoder.layer.7.crossattention.output.dense.bias', 'bert.encoder.layer.7.crossattention.output.dense.weight', 'bert.encoder.layer.7.crossattention.self.key.bias', 'bert.encoder.layer.7.crossattention.self.key.weight', 'bert.encoder.layer.7.crossattention.self.query.bias', 'bert.encoder.layer.7.crossattention.self.query.weight', 'bert.encoder.layer.7.crossattention.self.value.bias', 'bert.encoder.layer.7.crossattention.self.value.weight', 'bert.encoder.layer.8.crossattention.output.LayerNorm.bias', 'bert.encoder.layer.8.crossattention.output.LayerNorm.weight', 'bert.encoder.layer.8.crossattention.output.dense.bias', 'bert.encoder.layer.8.crossattention.output.dense.weight', 'bert.encoder.layer.8.crossattention.self.key.bias', 'bert.encoder.layer.8.crossattention.self.key.weight', 'bert.encoder.layer.8.crossattention.self.query.bias', 'bert.encoder.layer.8.crossattention.self.query.weight', 'bert.encoder.layer.8.crossattention.self.value.bias', 'bert.encoder.layer.8.crossattention.self.value.weight', 'bert.encoder.layer.9.crossattention.output.LayerNorm.bias', 'bert.encoder.layer.9.crossattention.output.LayerNorm.weight', 'bert.encoder.layer.9.crossattention.output.dense.bias', 'bert.encoder.layer.9.crossattention.output.dense.weight', 'bert.encoder.layer.9.crossattention.self.key.bias', 'bert.encoder.layer.9.crossattention.self.key.weight', 'bert.encoder.layer.9.crossattention.self.query.bias', 'bert.encoder.layer.9.crossattention.self.query.weight', 'bert.encoder.layer.9.crossattention.self.value.bias', 'bert.encoder.layer.9.crossattention.self.value.weight', 'lm_head.bias', 'lm_head.decoder.bias']\n",
      "You should probably TRAIN this model on a down-stream task to be able to use it for predictions and inference.\n"
     ]
    }
   ],
   "source": [
    "model = GenmixembBert(model_cfg, device=device)\n",
    "tkz = model.tkz"
   ]
  },
  {
   "cell_type": "code",
   "execution_count": 163,
   "metadata": {},
   "outputs": [
    {
     "name": "stdout",
     "output_type": "stream",
     "text": [
      "Load /home/misha/data/train_mllm_genmixemb_bert/genmixemb-20250722_213424-bertbaseuncased-d768-mxo50-aggPyr-agtDecim-stp2-lvl3-lrs2-dsWki-tmax512-tragT-nxtsnt/best.pth\n"
     ]
    }
   ],
   "source": [
    "print(f'Load {genmixemb_snapshot_fpath}')\n",
    "checkpoint = torch.load(genmixemb_snapshot_fpath, map_location=device)\n",
    "model.load_state_dict(checkpoint['model'], strict=True)\n",
    "del checkpoint\n",
    "model.eval()\n",
    "None"
   ]
  },
  {
   "cell_type": "markdown",
   "metadata": {},
   "source": [
    "## Wiki dataset\n",
    "### Loading"
   ]
  },
  {
   "cell_type": "code",
   "execution_count": 112,
   "metadata": {},
   "outputs": [
    {
     "data": {
      "application/vnd.jupyter.widget-view+json": {
       "model_id": "bed5ef8e09b245fb994ad49ed149c20a",
       "version_major": 2,
       "version_minor": 0
      },
      "text/plain": [
       "Loading dataset shards:   0%|          | 0/41 [00:00<?, ?it/s]"
      ]
     },
     "metadata": {},
     "output_type": "display_data"
    },
    {
     "name": "stdout",
     "output_type": "stream",
     "text": [
      "Wikipedia 20220301.en docs: 6458670\n"
     ]
    }
   ],
   "source": [
    "wiki_ds_name, wiki_ds_subdir = '20220301.en', 'wikipedia'\n",
    "dss_wiki = load_dataset(wiki_ds_subdir, wiki_ds_name, cache_dir=str(DATA_PATH))\n",
    "ds_wiki = dss_wiki['train']\n",
    "n_docs = len(ds_wiki)\n",
    "print(f'Wikipedia {wiki_ds_name} docs: {n_docs}')"
   ]
  },
  {
   "cell_type": "code",
   "execution_count": 123,
   "metadata": {},
   "outputs": [],
   "source": [
    "def get_wiki_batch(i_batch: int, batch_size: int = batch_size) -> WikiBatch:\n",
    "    i1 = i_batch * batch_size\n",
    "    i2 = i1 + batch_size\n",
    "    items = []\n",
    "    for i in range(i1, i2):\n",
    "        row = ds_wiki[i]\n",
    "        wiki_item = WikiItem(\n",
    "            tkz=tkz, ind=i, title=row['title'], text=row['text'], max_len=n_toks_max, mask_cfg=mask_cfg, pred_next_sent=pred_next_sent,\n",
    "            max_pred_len=model_cfg.max_out_toks,\n",
    "        )\n",
    "        items.append(wiki_item)\n",
    "    batch = WikiBatch(items=items, device=device)\n",
    "    return batch"
   ]
  },
  {
   "cell_type": "markdown",
   "metadata": {},
   "source": [
    "### Wiki inference"
   ]
  },
  {
   "cell_type": "code",
   "execution_count": 164,
   "metadata": {},
   "outputs": [
    {
     "name": "stderr",
     "output_type": "stream",
     "text": [
      "Token indices sequence length is longer than the specified maximum sequence length for this model (531 > 512). Running this sequence through the model will result in indexing errors\n"
     ]
    }
   ],
   "source": [
    "i_batch = 0\n",
    "batch = get_wiki_batch(i_batch)\n",
    "# [n_batch, max_len]\n",
    "b_toks, b_masked_toks, b_mask, b_tgt_toks = batch.get_tensors()"
   ]
  },
  {
   "cell_type": "code",
   "execution_count": 165,
   "metadata": {},
   "outputs": [
    {
     "name": "stdout",
     "output_type": "stream",
     "text": [
      "000. Inp: , among them respect for child autonomy and relying on reasoning rather than indoctrination as a teaching method, have spread among mainstream educational institutions. judith suissa names three schools as explicitly anarchists schools, namely the free skool santa cruz in the united states which is part of a wider american - canadian network of schools, the self - managed learning college in brighton, england, and the paideia school in spain. anarchism and the state objection to the state and its institutions is a sine qua non of anarchism. anarchists consider the state as a tool of domination and believe it to be illegitimate regardless of its political tendencies. instead of people being able to control the aspects of their life, major decisions are taken by a small elite. authority ultimately rests solely on power, regardless of whether that power is open or transparent, as it still has the ability to coerce people. another anarchist argument against states is that the people constituting a government, even the most altruistic among officials, will unavoidably seek to gain more power, leading to corruption. anarchists consider the idea that the state is the collective will of the people to be an unachievable fiction due to the fact that the ruling class is distinct from the rest of society. specific anarchist attitudes towards the state vary. robert paul wolff believed that the tension between authority and autonomy would mean the state could never be legitimate. bakunin saw the state as meaning \" coercion, domination by means of coercion, camouflaged if possible but unceremonious and overt if need be. \" a. john simmons and leslie green, who leaned toward philosophical anarchism, believed that the state could be legitimate if it is governed by consensus, although they saw this as highly unlikely. beliefs on how to abolish the state also differ. anarchism and the arts the connection between anarchism and art was quite profound during the classical era of anarchism, especially among artistic currents that were developing during that era such as futurists, surrealists and others. in literature, anarchism was mostly associated with the new apocalyptics and the neo - romanticism movement. in music, anarchism has been associated with music scenes such as punk. anarchists such as leo tolstoy and herbert read stated that the border between the artist and the non - artist, what separates art from a daily act, is a construct produced by the alienation caused by capitalism and it prevents humans from living a joyful life.\n",
      "000. Tgt: other anarchists advocated for or used art as a means to achieve anarchist ends. in his book breaking the spell : a history of anarchist filmmakers, videotape guerrillas, and digital ninjas, chris robe claims that \" anarchist - inflected practices\n",
      "000. Out: [CLS] ( in a 2005 interview with the new york times \" that i was a journalist and a student, but with no authority, was i just like, \" the new york times called it \" one of the most difficult, even when it isn't\n",
      "001. Inp: ##types ( observable traits ) that can be viewed on brain scans, to help further neurogenetic studies of autism ; one example is lowered activity in the fusiform face area of the brain, which is associated with impaired perception of people versus objects. it has been proposed to classify autism using genetics as well as behavior. ( for more, see brett abrahams, geneticist and neuroscientist ) spectrum autism has long been thought to cover a wide spectrum, ranging from individuals with severe impairments — who may be silent, developmentally disabled, and prone to frequent repetitive behavior such as hand flapping and rocking — to high functioning individuals who may have active but distinctly odd social approaches, narrowly focused interests, and verbose, pedantic communication. because the behavior spectrum is continuous, boundaries between diagnostic categories are necessarily somewhat arbitrary. screening about half of parents of children with asd notice their child's unusual behaviors by age 18 months, and about four - fifths notice by age 24 months. according to an article, failure to meet any of the following milestones \" is an absolute indication to proceed with further evaluations. delay in referral for such testing may delay early diagnosis and treatment and affect the long - term outcome \". no response to name ( or eye - to - eye gaze ) by 6 months. no babbling by 12 months. no gesturing ( pointing, waving, etc. ) by 12 months. no single words by 16 months. no two - word ( spontaneous, not just echolalic ) phrases by 24 months. loss of any language or social skills, at any age. the united states preventive services task force in 2016 found it was unclear if screening was beneficial or harmful among children in whom there is no concern. the japanese practice is to screen all children for asd at 18 and 24 months, using autism - specific formal screening tests. in contrast, in the uk, children whose families or doctors recognize possible signs of autism are screened. it is not known which approach is more effective. screening tools include the modified checklist for autism in toddlers ( m - chat ), the early screening of autistic traits questionnaire, and the first year inventory ; initial data on m - chat and its predecessor, the checklist for autism in toddlers ( chat ), on children aged 18 – 30 months suggests that it is best used in a clinical setting and that it has low sensitivity ( many false - negatives ) but good specificity ( few false - positives ).\n",
      "001. Tgt: it may be more accurate to precede these tests with a broadband screener that does not distinguish asd from other developmental disorders. screening tools designed for one culture's norms for behaviors like eye contact may be inappropriate for a different culture. although genetic\n",
      "001. Out: [CLS] the study found that both studies of child psychology ( 1 ) and child psychology ( 2 ) were \" less of a study that can provide an identification of the \" child cognitive, or emotional cognitive, and developmental differences in speech. \" research on child perception\n",
      "002. Inp: on the planet would rise to almost. in 2021, scientists reported that earth dimmed by ~ 0. 5 % over two decades ( 1998 - 2017 ) as measured by earthshine using modern photometric techniques. this may have both been co - caused by climate change as well as a substantial increase in global warming. however, the link to climate change has not been explored to date and it is unclear whether or not this represents an ongoing trend. white - sky, black - sky, and blue - sky albedo for land surfaces, it has been shown that the albedo at a particular solar zenith angle θi can be approximated by the proportionate sum of two terms : the directional - hemispherical reflectance at that solar zenith angle,, sometimes referred to as black - sky albedo, and the bi - hemispherical reflectance,, sometimes referred to as white - sky albedo. with being the proportion of direct radiation from a given solar angle, and being the proportion of diffuse illumination, the actual albedo ( also called blue - sky albedo ) can then be given as : this formula is important because it allows the albedo to be calculated for any given illumination conditions from a knowledge of the intrinsic properties of the surface. examples of terrestrial albedo effects illumination albedo is not directly dependent on illumination because changing the amount of incoming light proportionally changes the amount of reflected light, except in circumstances where a change in illumination induces a change in the earth's surface at that location ( e. g. through melting of reflective ice ). that said, albedo and illumination both vary by latitude. albedo is highest near the poles and lowest in the subtropics, with a local maximum in the tropics. insolation effects the intensity of albedo temperature effects depends on the amount of albedo and the level of local insolation ( solar irradiance ) ; high albedo areas in the arctic and antarctic regions are cold due to low insolation, whereas areas such as the sahara desert, which also have a relatively high albedo, will be hotter due to high insolation. tropical and sub - tropical rainforest areas have low albedo, and are much hotter than their temperate forest counterparts, which have lower insolation. because insolation plays such a big role in the heating and cooling effects of albedo, high insolation areas like the tropics will tend to show a more pronounced fluctuation in local temperature when local albedo changes.\n",
      "002. Tgt: arctic regions notably release more heat back into space than what they absorb, effectively cooling the earth. this has been a concern since arctic ice and snow has been melting at higher rates due to higher temperatures, creating regions in the arctic that are notably darker (\n",
      "002. Out: [CLS] in other words, the global economic risk can be calculated using the current - day climate change change and the total impact of climate change. however, the annual impact of climate change is not as than the amount of global impact of the climate change, and\n",
      "003. Inp: - storey a and single - storey ɑ. the latter is commonly used in handwriting and fonts based on it, especially fonts intended to be read by children, and is also found in italic type. in the english grammar, \" a \", and its variant \" an \", are indefinite articles. history the earliest certain ancestor of \" a \" is aleph ( also written'aleph ), the first letter of the phoenician alphabet, which consisted entirely of consonants ( for that reason, it is also called an abjad to distinguish it from a true alphabet ). in turn, the ancestor of aleph may have been a pictogram of an ox head in proto - sinaitic script influenced by egyptian hieroglyphs, styled as a triangular head with two horns extended. when the ancient greeks adopted the alphabet, they had no use for a letter to represent the glottal stop — the consonant sound that the letter denoted in phoenician and other semitic languages, and that was the first phoneme of the phoenician pronunciation of the letter — so they used their version of the sign to represent the vowel, and called it by the similar name of alpha. in the earliest greek inscriptions after the greek dark ages, dating to the 8th century bc, the letter rests upon its side, but in the greek alphabet of later times it generally resembles the modern capital letter, although many local varieties can be distinguished by the shortening of one leg, or by the angle at which the cross line is set. the etruscans brought the greek alphabet to their civilization in the italian peninsula and left the letter unchanged. the romans later adopted the etruscan alphabet to write the latin language, and the resulting letter was preserved in the latin alphabet that would come to be used to write many languages, including english. typographic variants during roman times, there were many variant forms of the letter \" a \". first was the monumental or lapidary style, which was used when inscribing on stone or other \" permanent \" media. there was also a cursive style used for everyday or utilitarian writing, which was done on more perishable surfaces. due to the \" perishable \" nature of these surfaces, there are not as many examples of this style as there are of the monumental, but there are still many surviving examples of different types of cursive, such as majuscule cursive, minuscule cursive, and semicursive minuscule.\n",
      "003. Tgt: variants also existed that were intermediate between the monumental and cursive styles. the known variants include the early semi - uncial, the uncial, and the later semi - uncial. at the end of the roman empire ( 5th century ad )\n",
      "003. Out: [CLS] in many languages that have since become common and present in many languages, there are also additional varieties of the \" letter \" and \" letter \" which have been derived from the english words \" letter \" and \" symbol \". these are the first variants of\n",
      "004. Inp: to more than in the northeast, to mount cheaha at. alabama's land consists of of forest or 67 % of the state's total land area. suburban baldwin county, along the gulf coast, is the largest county in the state in both land area and water area. areas in alabama administered by the national park service include horseshoe bend national military park near alexander city ; little river canyon national preserve near fort payne ; russell cave national monument in bridgeport ; tuskegee airmen national historic site in tuskegee ; and tuskegee institute national historic site near tuskegee. additionally, alabama has four national forests : conecuh, talladega, tuskegee, and william b. bankhead. alabama also contains the natchez trace parkway, the selma to montgomery national historic trail, and the trail of tears national historic trail. notable natural wonders include : the \" natural bridge \" rock, the longest natural bridge east of the rockies, located just south of haleyville ; cathedral caverns in marshall county, named for its cathedral - like appearance, features one of the largest cave entrances and stalagmites in the world ; ecor rouge in fairhope, the highest coastline point between maine and mexico ; desoto caverns in childersburg, the first officially recorded cave in the united states ; noccalula falls in gadsden features a 90 - foot waterfall ; dismals canyon near phil campbell, home to two waterfalls, six natural bridges and allegedly served as a hideout for legendary outlaw jesse james ; stephens gap cave in jackson county boasts a 143 - foot pit, two waterfalls and is one of the most photographed wild cave scenes in america ; little river canyon near fort payne, one of the nation's longest mountaintop rivers ; rickwood caverns near warrior features an underground pool, blind cave fish and 260 - million - year - old limestone formations ; and the walls of jericho canyon on the alabama - tennessee state line. a - wide meteorite impact crater is located in elmore county, just north of montgomery. this is the wetumpka crater, the site of \" alabama's greatest natural disaster \". a - wide meteorite hit the area about 80 million years ago. the hills just east of downtown wetumpka showcase the eroded remains of the impact crater that was blasted into the bedrock, with the area labeled the wetumpka crater or astrobleme ( \" star - wound \" ) because of the concentric rings of fractures and zones of shattered rock that can be found beneath the surface.\n",
      "004. Tgt: in 2002, christian koeberl with the institute of geochemistry university of vienna published evidence and established the site as the 157th recognized impact crater on earth. climate the state is classified as humid subtropical ( cfa ) under the koppen climate classification.\n",
      "004. Out: [CLS] lake jason is part of the major regional regional regional regions in alabama. within the area are the historic arkansas state park, the united states - united states - louisiana state park, the arkansas state park, the arkansas state forest, the georgia state park and\n"
     ]
    }
   ],
   "source": [
    "with_mask = False\n",
    "# with_mask = True\n",
    "for i in range(batch_size):\n",
    "    toks, masked_toks, mask = b_toks[i], b_masked_toks[i], b_mask[i]\n",
    "    tgt_toks = None\n",
    "    if b_tgt_toks is not None:\n",
    "        tgt_toks = b_tgt_toks[i]\n",
    "    toks_inp = masked_toks if with_mask else toks\n",
    "    toks_out = model.gen_on_wiki(toks=toks_inp)\n",
    "    toks_out = toks_out.squeeze(0)\n",
    "    s_inp = tkz.decode(toks_inp)\n",
    "    s_out = tkz.decode(toks_out)\n",
    "    if with_mask:\n",
    "        s_src = tkz.decode(toks)\n",
    "        print(f'{i:03d}. Msk: {s_src}')\n",
    "    print(f'{i:03d}. Inp: {s_inp}')\n",
    "    if tgt_toks is not None:\n",
    "        s_tgt = tkz.decode(tgt_toks)\n",
    "        print(f'{i:03d}. Tgt: {s_tgt}')\n",
    "    print(f'{i:03d}. Out: {s_out}')\n",
    "    # break"
   ]
  },
  {
   "cell_type": "code",
   "execution_count": 67,
   "metadata": {},
   "outputs": [
    {
     "data": {
      "text/plain": [
       "tensor(100)"
      ]
     },
     "execution_count": 67,
     "metadata": {},
     "output_type": "execute_result"
    }
   ],
   "source": [
    "(b_masked_toks == tkz.mask_token_id).sum()"
   ]
  },
  {
   "cell_type": "markdown",
   "metadata": {},
   "source": [
    "### Custom text"
   ]
  },
  {
   "cell_type": "code",
   "execution_count": 172,
   "metadata": {},
   "outputs": [],
   "source": [
    "context = '''\n",
    "Lithuania,[b] officially the Republic of Lithuania,[c] is a country in the Baltic region of Europe.[d] It is one of three Baltic states and lies on the eastern shore of the Baltic Sea, bordered by Latvia to the north, Belarus to the east and south, Poland to the south, and the Russian semi-exclave of Kaliningrad Oblast to the southwest, with a maritime border with Sweden to the west. Lithuania covers an area of 65,300 km2 (25,200 sq mi), with a population of 2.89 million. Its capital and largest city is Vilnius; other major cities include Kaunas, Klaipėda, Šiauliai and Panevėžys. Lithuanians who are the titular nation and form the majority of the country's population, belong to the ethnolinguistic group of Balts and speak Lithuanian. For millennia, the southeastern shores of the Baltic Sea were inhabited by various Baltic tribes. In the 1230s, Lithuanian lands were united for the first time by Mindaugas, who formed the Kingdom of Lithuania on 6 July 1253. Subsequent expansion and consolidation resulted in the Grand Duchy of Lithuania, which by the 14th century was the largest country in Europe. In 1386, the Grand Duchy entered into a de facto personal union with the Crown of the Kingdom of Poland. The two realms were united into the bi-confederal Polish-Lithuanian Commonwealth in 1569, forming one of the largest and most prosperous states in Europe. The Commonwealth lasted more than two centuries, until neighbouring countries gradually dismantled it between 1772 and 1795, with the Russian Empire annexing most of Lithuania's territory. Towards the end of World War I, Lithuania declared independence in 1918, founding the modern Republic of Lithuania. In World War II, Lithuania was occupied by the Soviet Union, then by Nazi Germany, before being reoccupied by the Soviets in 1944. Lithuanian armed resistance to the Soviet occupation lasted until the early 1950s. On 11 March 1990, a year before the formal dissolution of the Soviet Union, Lithuania became the first Soviet republic to break away when it proclaimed the restoration of its independence. Lithuania is a developed country with a high-income and an advanced economy ranking very high in Human Development Index.'''\n",
    "context2 = 'Lithuania ranks highly in digital infrastructure,[25][26] press freedom and happiness.[27] Lithuania is a member of the United Nations, the European Union, the Council of Europe, the Council of the Baltic Sea States, the Eurozone, the Nordic Investment Bank, the International Monetary Fund, the Schengen Agreement, NATO, OECD and the World Trade Organization. It also participates in the Nordic-Baltic Eight (NB8) regional co-operation format.'\n",
    "\n",
    "question = 'When Lithuania declared its independence and from whom?'\n",
    "question = 'What is a capital of Lithuania?'\n",
    "text = f'''\n",
    "Context: {context.strip()}. Question: {question}. Answer: \n",
    "'''\n",
    "text = f'''\n",
    "<context>{context.strip()}</context> <question>{question}</question> <answer> The capital of Lithuania is\n",
    "'''\n",
    "text = text.strip()\n",
    "title = 'Lithuania'"
   ]
  },
  {
   "cell_type": "code",
   "execution_count": 173,
   "metadata": {},
   "outputs": [
    {
     "data": {
      "text/plain": [
       "'[CLS] in addition, the central economic development commission ( cei ) of the european union, which was established in 1946, is a separate independent state. these countries are not a separate state, but an entirely administrative unit of the voivodeship, the administrative region and'"
      ]
     },
     "execution_count": 173,
     "metadata": {},
     "output_type": "execute_result"
    }
   ],
   "source": [
    "toks_in = tkz(text).input_ids\n",
    "toks_in = torch.tensor(toks_in, dtype=torch.long, device=device)\n",
    "toks_out = model.gen_on_wiki(toks_in)\n",
    "s_out = tkz.decode(toks_out.squeeze())\n",
    "s_out"
   ]
  },
  {
   "cell_type": "code",
   "execution_count": 171,
   "metadata": {},
   "outputs": [
    {
     "data": {
      "text/plain": [
       "\"[CLS] < context > lithuania, [ b ] officially the republic of lithuania, [ c ] is a country in the baltic region of europe. [ d ] it is one of three baltic states and lies on the eastern shore of the baltic sea, bordered by latvia to the north, belarus to the east and south, poland to the south, and the russian semi - exclave of kaliningrad oblast to the southwest, with a maritime border with sweden to the west. lithuania covers an area of 65, 300 km2 ( 25, 200 sq mi ), with a population of 2. 89 million. its capital and largest city is vilnius ; other major cities include kaunas, klaipeda, siauliai and panevezys. lithuanians who are the titular nation and form the majority of the country's population, belong to the ethnolinguistic group of balts and speak lithuanian. for millennia, the southeastern shores of the baltic sea were inhabited by various baltic tribes. in the 1230s, lithuanian lands were united for the first time by mindaugas, who formed the kingdom of lithuania on 6 july 1253. subsequent expansion and consolidation resulted in the grand duchy of lithuania, which by the 14th century was the largest country in europe. in 1386, the grand duchy entered into a de facto personal union with the crown of the kingdom of poland. the two realms were united into the bi - confederal polish - lithuanian commonwealth in 1569, forming one of the largest and most prosperous states in europe. the commonwealth lasted more than two centuries, until neighbouring countries gradually dismantled it between 1772 and 1795, with the russian empire annexing most of lithuania's territory. towards the end of world war i, lithuania declared independence in 1918, founding the modern republic of lithuania. in world war ii, lithuania was occupied by the soviet union, then by nazi germany, before being reoccupied by the soviets in 1944. lithuanian armed resistance to the soviet occupation lasted until the early 1950s. on 11 march 1990, a year before the formal dissolution of the soviet union, lithuania became the first soviet republic to break away when it proclaimed the restoration of its independence. lithuania is a developed country with a high - income and an advanced economy ranking very high in human development index. < / context > < question > what is a capital of lithuania < / question > < answer > [SEP]\""
      ]
     },
     "execution_count": 171,
     "metadata": {},
     "output_type": "execute_result"
    }
   ],
   "source": [
    "tkz.decode(toks_in)"
   ]
  },
  {
   "cell_type": "markdown",
   "metadata": {},
   "source": [
    "### Try nltk for sentence splitting"
   ]
  },
  {
   "cell_type": "code",
   "execution_count": 96,
   "metadata": {},
   "outputs": [
    {
     "name": "stderr",
     "output_type": "stream",
     "text": [
      "[nltk_data] Downloading package punkt_tab to /home/misha/nltk_data...\n",
      "[nltk_data]   Unzipping tokenizers/punkt_tab.zip.\n"
     ]
    },
    {
     "data": {
      "text/plain": [
       "True"
      ]
     },
     "execution_count": 96,
     "metadata": {},
     "output_type": "execute_result"
    }
   ],
   "source": [
    "import nltk\n",
    "from nltk.tokenize import sent_tokenize\n",
    "from timeit import default_timer as timer\n",
    "\n",
    "nltk.download('punkt_tab')"
   ]
  },
  {
   "cell_type": "code",
   "execution_count": 101,
   "metadata": {},
   "outputs": [
    {
     "name": "stdout",
     "output_type": "stream",
     "text": [
      "43985 559 Anarchism is a political philosophy and movement that is sceptical of authority and rejects all involuntary, coercive forms of hierarchy. Anarchism calls for the abolition of the state, which it holds to be unnecessary, undesirable, and harmful. As a historically left-wing movement, placed on the farthest left of the political spectrum, it is usually described alongside communalism and libertarian Marxism as the libertarian wing (libertarian socialism) of the socialist movement, and has a strong historical association with anti-capitalism and socialism.\n"
     ]
    }
   ],
   "source": [
    "item = ds_wiki[0]\n",
    "txt = item['text']\n",
    "s = txt.split('\\n')[0]\n",
    "print(len(txt), len(s), s)"
   ]
  },
  {
   "cell_type": "code",
   "execution_count": 97,
   "metadata": {},
   "outputs": [
    {
     "name": "stdout",
     "output_type": "stream",
     "text": [
      "Anarchism is a political philosophy and movement that is sceptical of authority and rejects all involuntary, coercive forms of hierarchy.\n",
      "Anarchism calls for the abolition of the state, which it holds to be unnecessary, undesirable, and harmful.\n",
      "As a historically left-wing movement, placed on the farthest left of the political spectrum, it is usually described alongside communalism and libertarian Marxism as the libertarian wing (libertarian socialism) of the socialist movement, and has a strong historical association with anti-capitalism and socialism.\n"
     ]
    }
   ],
   "source": [
    "sents = sent_tokenize(s)\n",
    "for sent in sents:\n",
    "    print(sent)"
   ]
  },
  {
   "cell_type": "code",
   "execution_count": 100,
   "metadata": {},
   "outputs": [
    {
     "name": "stdout",
     "output_type": "stream",
     "text": [
      "sent_tokenize avg time: 0.005308\n"
     ]
    }
   ],
   "source": [
    "N = 1000\n",
    "t1 = timer()\n",
    "for i in range(N):\n",
    "    sents = sent_tokenize(txt)\n",
    "t2 = timer()\n",
    "delta = (t2 - t1) / N\n",
    "print(f'sent_tokenize avg time: {delta:0.6f}')\n"
   ]
  },
  {
   "cell_type": "code",
   "execution_count": null,
   "metadata": {},
   "outputs": [],
   "source": []
  },
  {
   "cell_type": "code",
   "execution_count": null,
   "metadata": {},
   "outputs": [],
   "source": []
  },
  {
   "cell_type": "code",
   "execution_count": null,
   "metadata": {},
   "outputs": [],
   "source": []
  },
  {
   "cell_type": "code",
   "execution_count": null,
   "metadata": {},
   "outputs": [],
   "source": []
  },
  {
   "cell_type": "code",
   "execution_count": null,
   "metadata": {},
   "outputs": [],
   "source": []
  }
 ],
 "metadata": {
  "kernelspec": {
   "display_name": "mllm",
   "language": "python",
   "name": "python3"
  },
  "language_info": {
   "codemirror_mode": {
    "name": "ipython",
    "version": 3
   },
   "file_extension": ".py",
   "mimetype": "text/x-python",
   "name": "python",
   "nbconvert_exporter": "python",
   "pygments_lexer": "ipython3",
   "version": "3.10.14"
  }
 },
 "nbformat": 4,
 "nbformat_minor": 2
}
