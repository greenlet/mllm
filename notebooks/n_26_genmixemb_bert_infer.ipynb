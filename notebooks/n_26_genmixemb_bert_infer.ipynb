{
 "cells": [
  {
   "cell_type": "code",
   "execution_count": 1,
   "metadata": {},
   "outputs": [],
   "source": [
    "%load_ext autoreload\n",
    "%autoreload 2"
   ]
  },
  {
   "cell_type": "code",
   "execution_count": 2,
   "metadata": {},
   "outputs": [
    {
     "name": "stderr",
     "output_type": "stream",
     "text": [
      "/home/misha/miniconda3/envs/mllm/lib/python3.10/site-packages/torchtext/datasets/__init__.py:4: UserWarning: \n",
      "/!\\ IMPORTANT WARNING ABOUT TORCHTEXT STATUS /!\\ \n",
      "Torchtext is deprecated and the last released version will be 0.18 (this one). You can silence this warning by calling the following at the beginnign of your scripts: `import torchtext; torchtext.disable_torchtext_deprecation_warning()`\n",
      "  warnings.warn(torchtext._TORCHTEXT_DEPRECATION_MSG)\n",
      "/home/misha/miniconda3/envs/mllm/lib/python3.10/site-packages/torchtext/data/__init__.py:4: UserWarning: \n",
      "/!\\ IMPORTANT WARNING ABOUT TORCHTEXT STATUS /!\\ \n",
      "Torchtext is deprecated and the last released version will be 0.18 (this one). You can silence this warning by calling the following at the beginnign of your scripts: `import torchtext; torchtext.disable_torchtext_deprecation_warning()`\n",
      "  warnings.warn(torchtext._TORCHTEXT_DEPRECATION_MSG)\n"
     ]
    }
   ],
   "source": [
    "from dataclasses import dataclass\n",
    "import io\n",
    "import json\n",
    "import os\n",
    "from pathlib import Path\n",
    "from pprint import pprint\n",
    "import re\n",
    "import requests\n",
    "import sys\n",
    "from typing import Optional\n",
    "\n",
    "if '..' not in sys.path: sys.path.append('..')\n",
    "\n",
    "from datasets import load_dataset\n",
    "import numpy as np\n",
    "import pandas as pd\n",
    "from pydantic_yaml import parse_yaml_file_as, to_yaml_file\n",
    "import torch\n",
    "from torch import nn\n",
    "import torch.nn.functional as F\n",
    "from transformers import BertGenerationEncoder, BertGenerationDecoder, EncoderDecoderModel, BertTokenizer, AutoTokenizer\n",
    "from transformers.modeling_outputs import Seq2SeqLMOutput, BaseModelOutputWithPastAndCrossAttentions, CausalLMOutputWithCrossAttentions\n",
    "\n",
    "from mllm.config.model import GenmixTrainDsType, TokensAggType, GenmixembBertCfg, copy_override_genmixemb_bert_cfg, \\\n",
    "    gen_prefpostfix_genmixemb_bert\n",
    "from mllm.exp.args import GENMIXEMB_BERT_MODEL_CFG_FNAME, create_bool_str_field, is_arg_true\n",
    "from mllm.model.genmixemb_bert import GenmixembBert\n",
    "from mllm.train.mask_utils import MaskCfg\n",
    "from mllm.train.utils import find_create_train_path, log_weights_grads_stats, SumTuple, QnaTuple\n",
    "from mllm.data.wiki.itwiki import WikiItem, get_wiki_batch_iterators, WikiBatch\n",
    "from mllm.utils.utils import rethrow\n",
    "from mllm.data.utils import get_squadv2_df\n"
   ]
  },
  {
   "cell_type": "markdown",
   "metadata": {},
   "source": [
    "# BERT Generator model inference\n",
    "## Configs and paths"
   ]
  },
  {
   "cell_type": "code",
   "execution_count": null,
   "metadata": {},
   "outputs": [
    {
     "name": "stdout",
     "output_type": "stream",
     "text": [
      "Device: cpu\n",
      "n_toks_max = 384\n",
      "Mask cfg: None\n",
      "pred_next_sent = False\n"
     ]
    }
   ],
   "source": [
    "from mllm.model import genmixemb_bert\n",
    "\n",
    "\n",
    "DATA_PATH = Path(os.path.expandvars('$HOME')) / 'data'\n",
    "\n",
    "bert_model_name = 'bert-base-uncased'\n",
    "random_seed = 111\n",
    "train_genmixemb_bert_path = DATA_PATH / 'train_mllm_genmixemb_bert'\n",
    "genmixemb_subdir = 'genmixemb-20250713_202718-bertbaseuncased-d768-mxo50-aggBrt-sub0-dsWki-tmax100-tragF'\n",
    "genmixemb_subdir = 'genmixemb-20250715_035750-bertbaseuncased-d768-mxo50-aggBrt-sub2-dsWki-tmax100-tragT'\n",
    "genmixemb_subdir = 'genmixemb-20250716_213252-bertbaseuncased-d768-mxo50-aggBrt-sub0-dsWki-tmax100-msk_sep_0.5/0.15_seq_0.5/0.2/20-tragF'\n",
    "genmixemb_subdir = 'genmixemb-20250718_220105-bertbaseuncased-d768-mxo50-aggBrt-sub2-dsWki-tmax100-tragT'\n",
    "genmixemb_subdir = 'genmixemb-20250721_083250-bertbaseuncased-d768-mxo50-aggPyr-agtDecim-stp0-lvl1-lrs2-dsWki-tmax256-tragF-nxtsnt'\n",
    "genmixemb_subdir = 'genmixemb-20250721_212402-bertbaseuncased-d768-mxo50-aggPyr-agtDecim-stp2-lvl2-lrs2-dsWki-tmax512-tragT-nxtsnt'\n",
    "genmixemb_subdir = 'genmixemb-20250722_213424-bertbaseuncased-d768-mxo50-aggPyr-agtDecim-stp2-lvl3-lrs2-dsWki-tmax512-tragT-nxtsnt'\n",
    "\n",
    "train_genmixemb_bert_path = DATA_PATH / 'train_mllm_genmixembbert_qna'\n",
    "genmixemb_subdir = 'genmixemb-20250726_122548-bertbaseuncased-d768-mxi384-mxo50-dsQna'\n",
    "\n",
    "genmixemb_train_path = train_genmixemb_bert_path / genmixemb_subdir\n",
    "genmixemb_snapshot_fpath = genmixemb_train_path / 'best.pth'\n",
    "# genmixemb_snapshot_fpath = genmixemb_train_path / 'last.pth'\n",
    "\n",
    "device_name = 'cpu'\n",
    "# device_name = 'cuda'\n",
    "\n",
    "device = torch.device(device_name)\n",
    "print('Device:', device)\n",
    "\n",
    "parts = genmixemb_subdir.split('-')\n",
    "n_toks_max = 0\n",
    "mask_cfg = None\n",
    "pred_next_sent = False\n",
    "for part in parts:\n",
    "    if part.startswith('tmax'):\n",
    "        n_toks_max = int(part[4:])\n",
    "    elif part.startswith('msk_'):\n",
    "        subparts = part.split('_')\n",
    "        # postfix_parts.append(f'msk_sep_{sep_freq}/{sep_frac}_seq_{seq_freq}/{seq_max_frac}/{mask_cfg.seq_max_len}')\n",
    "        sep_part, seq_part = subparts[2], subparts[4]\n",
    "        sep_freq, sep_frac = sep_part.split('/')\n",
    "        seq_freq, seq_max_frac, seq_max_len = seq_part.split('/')\n",
    "        sep_freq, sep_frac = float(sep_freq), float(sep_frac)\n",
    "        seq_freq, seq_max_frac, seq_max_len = float(seq_freq), float(seq_max_frac), int(seq_max_len)\n",
    "        mask_cfg = MaskCfg(\n",
    "            sep_freq=sep_freq, sep_frac=sep_frac, seq_freq=seq_freq, seq_max_frac=seq_max_frac,\n",
    "            seq_max_len=seq_max_len,\n",
    "        )\n",
    "    elif part == 'nxtsnt':\n",
    "        pred_next_sent = True\n",
    "\n",
    "print(f'n_toks_max = {n_toks_max}')\n",
    "print('Mask cfg:', mask_cfg)\n",
    "print(f'pred_next_sent = {pred_next_sent}')\n",
    "\n",
    "batch_size = 5\n"
   ]
  },
  {
   "cell_type": "code",
   "execution_count": 4,
   "metadata": {},
   "outputs": [
    {
     "name": "stdout",
     "output_type": "stream",
     "text": [
      "{'bert_agg_n_subseq_toks': 8,\n",
      " 'bert_model_name': 'bert-base-uncased',\n",
      " 'd_model': 768,\n",
      " 'max_out_toks': 50,\n",
      " 'pyr_agg_n_layers_per_level': 2,\n",
      " 'pyr_agg_n_levels': 3,\n",
      " 'pyr_agg_step': 2,\n",
      " 'pyr_agg_type': <HgReductType.Decim: 'decim'>,\n",
      " 'toks_agg_type': <TokensAggType.Bert: 'brt'>,\n",
      " 'train_agg_model': True}\n"
     ]
    }
   ],
   "source": [
    "model_cfg = parse_yaml_file_as(GenmixembBertCfg, genmixemb_train_path / GENMIXEMB_BERT_MODEL_CFG_FNAME)\n",
    "pprint(model_cfg.dict())"
   ]
  },
  {
   "cell_type": "markdown",
   "metadata": {},
   "source": [
    "## Load models and dataset\n",
    "### Model"
   ]
  },
  {
   "cell_type": "code",
   "execution_count": 5,
   "metadata": {},
   "outputs": [
    {
     "name": "stderr",
     "output_type": "stream",
     "text": [
      "You are using a model of type bert to instantiate a model of type bert-generation. This is not supported for all configurations of models and can yield errors.\n",
      "You are using a model of type bert to instantiate a model of type bert-generation. This is not supported for all configurations of models and can yield errors.\n",
      "Some weights of BertGenerationDecoder were not initialized from the model checkpoint at bert-base-uncased and are newly initialized: ['bert.encoder.layer.0.crossattention.output.LayerNorm.bias', 'bert.encoder.layer.0.crossattention.output.LayerNorm.weight', 'bert.encoder.layer.0.crossattention.output.dense.bias', 'bert.encoder.layer.0.crossattention.output.dense.weight', 'bert.encoder.layer.0.crossattention.self.key.bias', 'bert.encoder.layer.0.crossattention.self.key.weight', 'bert.encoder.layer.0.crossattention.self.query.bias', 'bert.encoder.layer.0.crossattention.self.query.weight', 'bert.encoder.layer.0.crossattention.self.value.bias', 'bert.encoder.layer.0.crossattention.self.value.weight', 'bert.encoder.layer.1.crossattention.output.LayerNorm.bias', 'bert.encoder.layer.1.crossattention.output.LayerNorm.weight', 'bert.encoder.layer.1.crossattention.output.dense.bias', 'bert.encoder.layer.1.crossattention.output.dense.weight', 'bert.encoder.layer.1.crossattention.self.key.bias', 'bert.encoder.layer.1.crossattention.self.key.weight', 'bert.encoder.layer.1.crossattention.self.query.bias', 'bert.encoder.layer.1.crossattention.self.query.weight', 'bert.encoder.layer.1.crossattention.self.value.bias', 'bert.encoder.layer.1.crossattention.self.value.weight', 'bert.encoder.layer.10.crossattention.output.LayerNorm.bias', 'bert.encoder.layer.10.crossattention.output.LayerNorm.weight', 'bert.encoder.layer.10.crossattention.output.dense.bias', 'bert.encoder.layer.10.crossattention.output.dense.weight', 'bert.encoder.layer.10.crossattention.self.key.bias', 'bert.encoder.layer.10.crossattention.self.key.weight', 'bert.encoder.layer.10.crossattention.self.query.bias', 'bert.encoder.layer.10.crossattention.self.query.weight', 'bert.encoder.layer.10.crossattention.self.value.bias', 'bert.encoder.layer.10.crossattention.self.value.weight', 'bert.encoder.layer.11.crossattention.output.LayerNorm.bias', 'bert.encoder.layer.11.crossattention.output.LayerNorm.weight', 'bert.encoder.layer.11.crossattention.output.dense.bias', 'bert.encoder.layer.11.crossattention.output.dense.weight', 'bert.encoder.layer.11.crossattention.self.key.bias', 'bert.encoder.layer.11.crossattention.self.key.weight', 'bert.encoder.layer.11.crossattention.self.query.bias', 'bert.encoder.layer.11.crossattention.self.query.weight', 'bert.encoder.layer.11.crossattention.self.value.bias', 'bert.encoder.layer.11.crossattention.self.value.weight', 'bert.encoder.layer.2.crossattention.output.LayerNorm.bias', 'bert.encoder.layer.2.crossattention.output.LayerNorm.weight', 'bert.encoder.layer.2.crossattention.output.dense.bias', 'bert.encoder.layer.2.crossattention.output.dense.weight', 'bert.encoder.layer.2.crossattention.self.key.bias', 'bert.encoder.layer.2.crossattention.self.key.weight', 'bert.encoder.layer.2.crossattention.self.query.bias', 'bert.encoder.layer.2.crossattention.self.query.weight', 'bert.encoder.layer.2.crossattention.self.value.bias', 'bert.encoder.layer.2.crossattention.self.value.weight', 'bert.encoder.layer.3.crossattention.output.LayerNorm.bias', 'bert.encoder.layer.3.crossattention.output.LayerNorm.weight', 'bert.encoder.layer.3.crossattention.output.dense.bias', 'bert.encoder.layer.3.crossattention.output.dense.weight', 'bert.encoder.layer.3.crossattention.self.key.bias', 'bert.encoder.layer.3.crossattention.self.key.weight', 'bert.encoder.layer.3.crossattention.self.query.bias', 'bert.encoder.layer.3.crossattention.self.query.weight', 'bert.encoder.layer.3.crossattention.self.value.bias', 'bert.encoder.layer.3.crossattention.self.value.weight', 'bert.encoder.layer.4.crossattention.output.LayerNorm.bias', 'bert.encoder.layer.4.crossattention.output.LayerNorm.weight', 'bert.encoder.layer.4.crossattention.output.dense.bias', 'bert.encoder.layer.4.crossattention.output.dense.weight', 'bert.encoder.layer.4.crossattention.self.key.bias', 'bert.encoder.layer.4.crossattention.self.key.weight', 'bert.encoder.layer.4.crossattention.self.query.bias', 'bert.encoder.layer.4.crossattention.self.query.weight', 'bert.encoder.layer.4.crossattention.self.value.bias', 'bert.encoder.layer.4.crossattention.self.value.weight', 'bert.encoder.layer.5.crossattention.output.LayerNorm.bias', 'bert.encoder.layer.5.crossattention.output.LayerNorm.weight', 'bert.encoder.layer.5.crossattention.output.dense.bias', 'bert.encoder.layer.5.crossattention.output.dense.weight', 'bert.encoder.layer.5.crossattention.self.key.bias', 'bert.encoder.layer.5.crossattention.self.key.weight', 'bert.encoder.layer.5.crossattention.self.query.bias', 'bert.encoder.layer.5.crossattention.self.query.weight', 'bert.encoder.layer.5.crossattention.self.value.bias', 'bert.encoder.layer.5.crossattention.self.value.weight', 'bert.encoder.layer.6.crossattention.output.LayerNorm.bias', 'bert.encoder.layer.6.crossattention.output.LayerNorm.weight', 'bert.encoder.layer.6.crossattention.output.dense.bias', 'bert.encoder.layer.6.crossattention.output.dense.weight', 'bert.encoder.layer.6.crossattention.self.key.bias', 'bert.encoder.layer.6.crossattention.self.key.weight', 'bert.encoder.layer.6.crossattention.self.query.bias', 'bert.encoder.layer.6.crossattention.self.query.weight', 'bert.encoder.layer.6.crossattention.self.value.bias', 'bert.encoder.layer.6.crossattention.self.value.weight', 'bert.encoder.layer.7.crossattention.output.LayerNorm.bias', 'bert.encoder.layer.7.crossattention.output.LayerNorm.weight', 'bert.encoder.layer.7.crossattention.output.dense.bias', 'bert.encoder.layer.7.crossattention.output.dense.weight', 'bert.encoder.layer.7.crossattention.self.key.bias', 'bert.encoder.layer.7.crossattention.self.key.weight', 'bert.encoder.layer.7.crossattention.self.query.bias', 'bert.encoder.layer.7.crossattention.self.query.weight', 'bert.encoder.layer.7.crossattention.self.value.bias', 'bert.encoder.layer.7.crossattention.self.value.weight', 'bert.encoder.layer.8.crossattention.output.LayerNorm.bias', 'bert.encoder.layer.8.crossattention.output.LayerNorm.weight', 'bert.encoder.layer.8.crossattention.output.dense.bias', 'bert.encoder.layer.8.crossattention.output.dense.weight', 'bert.encoder.layer.8.crossattention.self.key.bias', 'bert.encoder.layer.8.crossattention.self.key.weight', 'bert.encoder.layer.8.crossattention.self.query.bias', 'bert.encoder.layer.8.crossattention.self.query.weight', 'bert.encoder.layer.8.crossattention.self.value.bias', 'bert.encoder.layer.8.crossattention.self.value.weight', 'bert.encoder.layer.9.crossattention.output.LayerNorm.bias', 'bert.encoder.layer.9.crossattention.output.LayerNorm.weight', 'bert.encoder.layer.9.crossattention.output.dense.bias', 'bert.encoder.layer.9.crossattention.output.dense.weight', 'bert.encoder.layer.9.crossattention.self.key.bias', 'bert.encoder.layer.9.crossattention.self.key.weight', 'bert.encoder.layer.9.crossattention.self.query.bias', 'bert.encoder.layer.9.crossattention.self.query.weight', 'bert.encoder.layer.9.crossattention.self.value.bias', 'bert.encoder.layer.9.crossattention.self.value.weight', 'lm_head.bias', 'lm_head.decoder.bias']\n",
      "You should probably TRAIN this model on a down-stream task to be able to use it for predictions and inference.\n"
     ]
    }
   ],
   "source": [
    "model = GenmixembBert(model_cfg, device=device)\n",
    "tkz = model.tkz"
   ]
  },
  {
   "cell_type": "code",
   "execution_count": 6,
   "metadata": {},
   "outputs": [
    {
     "name": "stdout",
     "output_type": "stream",
     "text": [
      "Load /home/misha/data/train_mllm_genmixembbert_qna/genmixemb-20250728_194743-bertbaseuncased-d768-mxo50-aggBrt-sub8-dsQna-tmax384-tragT/best.pth\n"
     ]
    }
   ],
   "source": [
    "print(f'Load {genmixemb_snapshot_fpath}')\n",
    "checkpoint = torch.load(genmixemb_snapshot_fpath, map_location=device)\n",
    "model.load_state_dict(checkpoint['model'], strict=True)\n",
    "del checkpoint\n",
    "model.eval()\n",
    "None"
   ]
  },
  {
   "cell_type": "markdown",
   "metadata": {},
   "source": [
    "## Wiki dataset\n",
    "### Loading"
   ]
  },
  {
   "cell_type": "code",
   "execution_count": 7,
   "metadata": {},
   "outputs": [
    {
     "data": {
      "application/vnd.jupyter.widget-view+json": {
       "model_id": "b171f823aa104a61aaff7961c9752488",
       "version_major": 2,
       "version_minor": 0
      },
      "text/plain": [
       "Loading dataset shards:   0%|          | 0/41 [00:00<?, ?it/s]"
      ]
     },
     "metadata": {},
     "output_type": "display_data"
    },
    {
     "name": "stdout",
     "output_type": "stream",
     "text": [
      "Wikipedia 20220301.en docs: 6458670\n"
     ]
    }
   ],
   "source": [
    "wiki_ds_name, wiki_ds_subdir = '20220301.en', 'wikipedia'\n",
    "dss_wiki = load_dataset(wiki_ds_subdir, wiki_ds_name, cache_dir=str(DATA_PATH))\n",
    "ds_wiki = dss_wiki['train']\n",
    "n_docs = len(ds_wiki)\n",
    "print(f'Wikipedia {wiki_ds_name} docs: {n_docs}')"
   ]
  },
  {
   "cell_type": "code",
   "execution_count": 8,
   "metadata": {},
   "outputs": [],
   "source": [
    "def get_wiki_batch(i_batch: int, batch_size: int = batch_size) -> WikiBatch:\n",
    "    i1 = i_batch * batch_size\n",
    "    i2 = i1 + batch_size\n",
    "    items = []\n",
    "    for i in range(i1, i2):\n",
    "        row = ds_wiki[i]\n",
    "        wiki_item = WikiItem(\n",
    "            tkz=tkz, ind=i, title=row['title'], text=row['text'], max_len=n_toks_max, mask_cfg=mask_cfg, pred_next_sent=pred_next_sent,\n",
    "            max_pred_len=model_cfg.max_out_toks,\n",
    "        )\n",
    "        items.append(wiki_item)\n",
    "    batch = WikiBatch(items=items, device=device)\n",
    "    return batch"
   ]
  },
  {
   "cell_type": "markdown",
   "metadata": {},
   "source": [
    "### Wiki inference"
   ]
  },
  {
   "cell_type": "code",
   "execution_count": 9,
   "metadata": {},
   "outputs": [
    {
     "name": "stderr",
     "output_type": "stream",
     "text": [
      "Token indices sequence length is longer than the specified maximum sequence length for this model (8349 > 512). Running this sequence through the model will result in indexing errors\n"
     ]
    }
   ],
   "source": [
    "i_batch = 0\n",
    "batch = get_wiki_batch(i_batch)\n",
    "# [n_batch, max_len]\n",
    "b_toks, b_masked_toks, b_mask, b_tgt_toks = batch.get_tensors()"
   ]
  },
  {
   "cell_type": "code",
   "execution_count": 10,
   "metadata": {},
   "outputs": [
    {
     "name": "stderr",
     "output_type": "stream",
     "text": [
      "`generation_config` default values have been modified to match model-specific defaults: {'pad_token_id': 0}. If this is not desired, please set these values explicitly.\n",
      "We strongly recommend passing in an `attention_mask` since your input_ids may be padded. See https://huggingface.co/docs/transformers/troubleshooting#incorrect-output-when-padding-tokens-arent-masked.\n"
     ]
    },
    {
     "name": "stdout",
     "output_type": "stream",
     "text": [
      "000. Inp: anarchism is a political philosophy and movement that is sceptical of authority and rejects all involuntary, coercive forms of hierarchy. anarchism calls for the abolition of the state, which it holds to be unnecessary, undesirable, and harmful. as a historically left - wing movement, placed on the farthest left of the political spectrum, it is usually described alongside communalism and libertarian marxism as the libertarian wing ( libertarian socialism ) of the socialist movement, and has a strong historical association with anti - capitalism and socialism. humans lived in societies without formal hierarchies long before the establishment of formal states, realms, or empires. with the rise of organised hierarchical bodies, scepticism toward authority also rose. although traces of anarchist thought are found throughout history, modern anarchism emerged from the enlightenment. during the latter half of the 19th and the first decades of the 20th century, the anarchist movement flourished in most parts of the world and had a significant role in workers'struggles for emancipation. various anarchist schools of thought formed during this period. anarchists have taken part in several revolutions, most notably in the paris commune, the russian civil war and the spanish civil war, whose end marked the end of the classical era of anarchism. in the last decades of the 20th and into the 21st century, the anarchist movement has been resurgent once more. anarchism employs a diversity of tactics in order to meet its ideal ends which can be broadly separated into revolutionary and evolutionary tactics ; there is significant overlap between the two, which are merely descriptive. revolutionary tactics aim to bring down authority and state, having taken a violent turn in the past, while evolutionary tactics aim to prefigure what an anarchist society would be like. anarchist thought, criticism, and praxis have played a part in diverse areas of human society. criticism of anarchism include claims that it is\n",
      "000. Out: [CLS] among a.yat house dronejj cy cyjyam in li ra y yj.. for atkarly house cy yya workerji [PAD] [PAD] [PAD] [PAD] [PAD] [PAD] [PAD] [PAD] [PAD] [PAD] [PAD] [PAD] [PAD] [PAD] [PAD] [PAD] [PAD] [PAD] [PAD]\n",
      "001. Inp: autism is a neurodevelopmental disorder characterized by difficulties with social interaction and communication, and by restricted and repetitive behavior. parents often notice signs during the first three years of their child's life. these signs often develop gradually, though some autistic children experience regression in their communication and social skills after reaching developmental milestones at a normal pace. autism is associated with a combination of genetic and environmental factors. risk factors during pregnancy include certain infections, such as rubella, toxins including valproic acid, alcohol, cocaine, pesticides, lead, and air pollution, fetal growth restriction, and autoimmune diseases. controversies surround other proposed environmental causes ; for example, the vaccine hypothesis, which has been disproven. autism affects information processing in the brain and how nerve cells and their synapses connect and organize ; how this occurs is not well understood. the diagnostic and statistical manual of mental disorders ( dsm - 5 ) combines forms of the condition, including asperger syndrome and pervasive developmental disorder not otherwise specified ( pdd - nos ) into the diagnosis of autism spectrum disorder ( asd ). several interventions have been shown to reduce symptoms and improve the ability of autistic people to function and participate independently in the community. behavioral, psychological, education, and / or skill - building interventions may be used to assist autistic people to learn life skills necessary for living independently, as well as other social, communication, and language skills. therapy also aims to reduce challenging behaviors and build upon strengths. some autistic adults are unable to live independently. an autistic culture has developed, with some individuals seeking a cure and others believing autism should be accepted as a difference to be accommodated instead of cured. globally, autism is estimated to affect 24. 8 million people. in the 2000s, the number of autistic people worldwide was estimated at 1 –\n",
      "001. Out: [CLS] a substantially significant ti ancestry capital in a $ jar dollar cy substantially increased at a majoryi¢ $ 17 colonyly a. 5 significant ancestry [PAD] [PAD] [PAD] [PAD] [PAD] [PAD] [PAD] [PAD] [PAD] [PAD] [PAD] [PAD] [PAD] [PAD] [PAD] [PAD] [PAD] [PAD] [PAD] [PAD] [PAD]\n",
      "002. Inp: albedo ( ; ) is the measure of the diffuse reflection of solar radiation out of the total solar radiation and measured on a scale from 0, corresponding to a black body that absorbs all incident radiation, to 1, corresponding to a body that reflects all incident radiation. surface albedo is defined as the ratio of radiosity je to the irradiance ee ( flux per unit area ) received by a surface. the proportion reflected is not only determined by properties of the surface itself, but also by the spectral and angular distribution of solar radiation reaching the earth's surface. these factors vary with atmospheric composition, geographic location, and time ( see position of the sun ). while bi - hemispherical reflectance is calculated for a single angle of incidence ( i. e., for a given position of the sun ), albedo is the directional integration of reflectance over all solar angles in a given period. the temporal resolution may range from seconds ( as obtained from flux measurements ) to daily, monthly, or annual averages. unless given for a specific wavelength ( spectral albedo ), albedo refers to the entire spectrum of solar radiation. due to measurement constraints, it is often given for the spectrum in which most solar energy reaches the surface ( between 0. 3 and 3 μm ). this spectrum includes visible light ( 0. 4 – 0. 7 μm ), which explains why surfaces with a low albedo appear dark ( e. g., trees absorb most radiation ), whereas surfaces with a high albedo appear bright ( e. g., snow reflects most radiation ). albedo is an important concept in climatology, astronomy, and environmental management ( e. g., as part of the leadership in energy and environmental design ( leed ) program for sustainable rating of buildings ). the average albedo of the earth from the upper atmosphere, its planetary albedo,\n",
      "002. Out: [CLS] about $ $ 5, virginia [PAD] [PAD] [PAD] [PAD] [PAD] [PAD] [PAD] [PAD] [PAD] [PAD] [PAD] [PAD] [PAD] [PAD] [PAD] [PAD] [PAD] [PAD] [PAD] [PAD] [PAD] [PAD] [PAD] [PAD] [PAD] [PAD] [PAD] [PAD] [PAD] [PAD] [PAD] [PAD] [PAD] [PAD] [PAD] [PAD] [PAD] [PAD] [PAD] [PAD] [PAD] [PAD] [PAD] [PAD]\n",
      "003. Inp: a, or a, is the first letter and the first vowel of the modern english alphabet and the iso basic latin alphabet. its name in english is a ( pronounced ), plural aes. it is similar in shape to the ancient greek letter alpha, from which it derives. the uppercase version consists of the two slanting sides of a triangle, crossed in the middle by a horizontal bar. the lowercase version can be written in two forms : the double - storey a and single - storey ɑ. the latter is commonly used in handwriting and fonts based on it, especially fonts intended to be read by children, and is also found in italic type. in the english grammar, \" a \", and its variant \" an \", are indefinite articles. history the earliest certain ancestor of \" a \" is aleph ( also written'aleph ), the first letter of the phoenician alphabet, which consisted entirely of consonants ( for that reason, it is also called an abjad to distinguish it from a true alphabet ). in turn, the ancestor of aleph may have been a pictogram of an ox head in proto - sinaitic script influenced by egyptian hieroglyphs, styled as a triangular head with two horns extended. when the ancient greeks adopted the alphabet, they had no use for a letter to represent the glottal stop — the consonant sound that the letter denoted in phoenician and other semitic languages, and that was the first phoneme of the phoenician pronunciation of the letter — so they used their version of the sign to represent the vowel, and called it by the similar name of alpha. in the earliest greek inscriptions after the greek dark ages, dating to the 8th century bc, the letter rests upon its side, but in the greek alphabet of later times it generally resembles the modern capital letter, although many local varieties can be distinguished\n",
      "003. Out: [CLS] abu saudiya tu taftji khalifa [PAD] [PAD] [PAD] [PAD] [PAD] [PAD] [PAD] [PAD] [PAD] [PAD] [PAD] [PAD] [PAD] [PAD] [PAD] [PAD] [PAD] [PAD] [PAD] [PAD] [PAD] [PAD] [PAD] [PAD] [PAD] [PAD] [PAD] [PAD] [PAD] [PAD] [PAD] [PAD] [PAD] [PAD] [PAD] [PAD] [PAD] [PAD] [PAD] [PAD] [PAD] [PAD]\n",
      "004. Inp: alabama ( ) is a state in the southeastern region of the united states, bordered by tennessee to the north ; georgia to the east ; florida and the gulf of mexico to the south ; and mississippi to the west. alabama is the 30th largest by area and the 24th - most populous of the u. s. states. with a total of of inland waterways, alabama has among the most of any state. alabama is nicknamed the yellowhammer state, after the state bird. alabama is also known as the \" heart of dixie \" and the \" cotton state \". the state tree is the longleaf pine, and the state flower is the camellia. alabama's capital is montgomery, and its largest city by population and area is huntsville. its oldest city is mobile, founded by french colonists in 1702 as the capital of french louisiana. greater birmingham is alabama's largest metropolitan area and its economic center. originally home to many native tribes, present - day alabama was a spanish territory beginning in the sixteenth century until the french acquired it in the early eighteenth century. the british won the territory in 1763 until losing it in the american revolutionary war. spain held mobile as part of spanish west florida until 1813. in december 1819, alabama was recognized as a state. during the antebellum period, alabama was a major producer of cotton, and widely used african american slave labor. in 1861, the state seceded from the united states to become part of the confederate states of america, with montgomery acting as its first capital, and rejoined the union in 1868. following the american civil war, alabama would suffer decades of economic hardship, in part due to agriculture and a few cash crops being the main driver of the states economy. similar to other former slave states, alabamian legislators employed jim crow laws to disenfranchise and discriminate against african americans from the late 19th century up until the 1960s. in the\n",
      "004. Out: [CLS] a coalition, nonet a variation [PAD] [PAD] [PAD] [PAD] [PAD] [PAD] [PAD] [PAD] [PAD] [PAD] [PAD] [PAD] [PAD] [PAD] [PAD] [PAD] [PAD] [PAD] [PAD] [PAD] [PAD] [PAD] [PAD] [PAD] [PAD] [PAD] [PAD] [PAD] [PAD] [PAD] [PAD] [PAD] [PAD] [PAD] [PAD] [PAD] [PAD] [PAD] [PAD] [PAD] [PAD] [PAD] [PAD]\n"
     ]
    }
   ],
   "source": [
    "with_mask = False\n",
    "# with_mask = True\n",
    "for i in range(batch_size):\n",
    "    toks, masked_toks, mask = b_toks[i], b_masked_toks[i], b_mask[i]\n",
    "    tgt_toks = None\n",
    "    if b_tgt_toks is not None:\n",
    "        tgt_toks = b_tgt_toks[i]\n",
    "    toks_inp = masked_toks if with_mask else toks\n",
    "    toks_out = model.gen_on_wiki(toks=toks_inp)\n",
    "    toks_out = toks_out.squeeze(0)\n",
    "    s_inp = tkz.decode(toks_inp)\n",
    "    s_out = tkz.decode(toks_out)\n",
    "    if with_mask:\n",
    "        s_src = tkz.decode(toks)\n",
    "        print(f'{i:03d}. Msk: {s_src}')\n",
    "    print(f'{i:03d}. Inp: {s_inp}')\n",
    "    if tgt_toks is not None:\n",
    "        s_tgt = tkz.decode(tgt_toks)\n",
    "        print(f'{i:03d}. Tgt: {s_tgt}')\n",
    "    print(f'{i:03d}. Out: {s_out}')\n",
    "    # break"
   ]
  },
  {
   "cell_type": "code",
   "execution_count": 11,
   "metadata": {},
   "outputs": [
    {
     "data": {
      "text/plain": [
       "tensor(0)"
      ]
     },
     "execution_count": 11,
     "metadata": {},
     "output_type": "execute_result"
    }
   ],
   "source": [
    "(b_masked_toks == tkz.mask_token_id).sum()"
   ]
  },
  {
   "cell_type": "markdown",
   "metadata": {},
   "source": [
    "### Custom text"
   ]
  },
  {
   "cell_type": "code",
   "execution_count": 172,
   "metadata": {},
   "outputs": [],
   "source": [
    "context = '''\n",
    "Lithuania,[b] officially the Republic of Lithuania,[c] is a country in the Baltic region of Europe.[d] It is one of three Baltic states and lies on the eastern shore of the Baltic Sea, bordered by Latvia to the north, Belarus to the east and south, Poland to the south, and the Russian semi-exclave of Kaliningrad Oblast to the southwest, with a maritime border with Sweden to the west. Lithuania covers an area of 65,300 km2 (25,200 sq mi), with a population of 2.89 million. Its capital and largest city is Vilnius; other major cities include Kaunas, Klaipėda, Šiauliai and Panevėžys. Lithuanians who are the titular nation and form the majority of the country's population, belong to the ethnolinguistic group of Balts and speak Lithuanian. For millennia, the southeastern shores of the Baltic Sea were inhabited by various Baltic tribes. In the 1230s, Lithuanian lands were united for the first time by Mindaugas, who formed the Kingdom of Lithuania on 6 July 1253. Subsequent expansion and consolidation resulted in the Grand Duchy of Lithuania, which by the 14th century was the largest country in Europe. In 1386, the Grand Duchy entered into a de facto personal union with the Crown of the Kingdom of Poland. The two realms were united into the bi-confederal Polish-Lithuanian Commonwealth in 1569, forming one of the largest and most prosperous states in Europe. The Commonwealth lasted more than two centuries, until neighbouring countries gradually dismantled it between 1772 and 1795, with the Russian Empire annexing most of Lithuania's territory. Towards the end of World War I, Lithuania declared independence in 1918, founding the modern Republic of Lithuania. In World War II, Lithuania was occupied by the Soviet Union, then by Nazi Germany, before being reoccupied by the Soviets in 1944. Lithuanian armed resistance to the Soviet occupation lasted until the early 1950s. On 11 March 1990, a year before the formal dissolution of the Soviet Union, Lithuania became the first Soviet republic to break away when it proclaimed the restoration of its independence. Lithuania is a developed country with a high-income and an advanced economy ranking very high in Human Development Index.'''\n",
    "context2 = 'Lithuania ranks highly in digital infrastructure,[25][26] press freedom and happiness.[27] Lithuania is a member of the United Nations, the European Union, the Council of Europe, the Council of the Baltic Sea States, the Eurozone, the Nordic Investment Bank, the International Monetary Fund, the Schengen Agreement, NATO, OECD and the World Trade Organization. It also participates in the Nordic-Baltic Eight (NB8) regional co-operation format.'\n",
    "\n",
    "question = 'When Lithuania declared its independence and from whom?'\n",
    "question = 'What is a capital of Lithuania?'\n",
    "text = f'''\n",
    "Context: {context.strip()}. Question: {question}. Answer: \n",
    "'''\n",
    "text = f'''\n",
    "<context>{context.strip()}</context> <question>{question}</question> <answer> The capital of Lithuania is\n",
    "'''\n",
    "text = text.strip()\n",
    "title = 'Lithuania'"
   ]
  },
  {
   "cell_type": "code",
   "execution_count": 173,
   "metadata": {},
   "outputs": [
    {
     "data": {
      "text/plain": [
       "'[CLS] in addition, the central economic development commission ( cei ) of the european union, which was established in 1946, is a separate independent state. these countries are not a separate state, but an entirely administrative unit of the voivodeship, the administrative region and'"
      ]
     },
     "execution_count": 173,
     "metadata": {},
     "output_type": "execute_result"
    }
   ],
   "source": [
    "toks_in = tkz(text).input_ids\n",
    "toks_in = torch.tensor(toks_in, dtype=torch.long, device=device)\n",
    "toks_out = model.gen_on_wiki(toks_in)\n",
    "s_out = tkz.decode(toks_out.squeeze())\n",
    "s_out"
   ]
  },
  {
   "cell_type": "code",
   "execution_count": 171,
   "metadata": {},
   "outputs": [
    {
     "data": {
      "text/plain": [
       "\"[CLS] < context > lithuania, [ b ] officially the republic of lithuania, [ c ] is a country in the baltic region of europe. [ d ] it is one of three baltic states and lies on the eastern shore of the baltic sea, bordered by latvia to the north, belarus to the east and south, poland to the south, and the russian semi - exclave of kaliningrad oblast to the southwest, with a maritime border with sweden to the west. lithuania covers an area of 65, 300 km2 ( 25, 200 sq mi ), with a population of 2. 89 million. its capital and largest city is vilnius ; other major cities include kaunas, klaipeda, siauliai and panevezys. lithuanians who are the titular nation and form the majority of the country's population, belong to the ethnolinguistic group of balts and speak lithuanian. for millennia, the southeastern shores of the baltic sea were inhabited by various baltic tribes. in the 1230s, lithuanian lands were united for the first time by mindaugas, who formed the kingdom of lithuania on 6 july 1253. subsequent expansion and consolidation resulted in the grand duchy of lithuania, which by the 14th century was the largest country in europe. in 1386, the grand duchy entered into a de facto personal union with the crown of the kingdom of poland. the two realms were united into the bi - confederal polish - lithuanian commonwealth in 1569, forming one of the largest and most prosperous states in europe. the commonwealth lasted more than two centuries, until neighbouring countries gradually dismantled it between 1772 and 1795, with the russian empire annexing most of lithuania's territory. towards the end of world war i, lithuania declared independence in 1918, founding the modern republic of lithuania. in world war ii, lithuania was occupied by the soviet union, then by nazi germany, before being reoccupied by the soviets in 1944. lithuanian armed resistance to the soviet occupation lasted until the early 1950s. on 11 march 1990, a year before the formal dissolution of the soviet union, lithuania became the first soviet republic to break away when it proclaimed the restoration of its independence. lithuania is a developed country with a high - income and an advanced economy ranking very high in human development index. < / context > < question > what is a capital of lithuania < / question > < answer > [SEP]\""
      ]
     },
     "execution_count": 171,
     "metadata": {},
     "output_type": "execute_result"
    }
   ],
   "source": [
    "tkz.decode(toks_in)"
   ]
  },
  {
   "cell_type": "markdown",
   "metadata": {},
   "source": [
    "### Try nltk for sentence splitting"
   ]
  },
  {
   "cell_type": "code",
   "execution_count": 96,
   "metadata": {},
   "outputs": [
    {
     "name": "stderr",
     "output_type": "stream",
     "text": [
      "[nltk_data] Downloading package punkt_tab to /home/misha/nltk_data...\n",
      "[nltk_data]   Unzipping tokenizers/punkt_tab.zip.\n"
     ]
    },
    {
     "data": {
      "text/plain": [
       "True"
      ]
     },
     "execution_count": 96,
     "metadata": {},
     "output_type": "execute_result"
    }
   ],
   "source": [
    "import nltk\n",
    "from nltk.tokenize import sent_tokenize\n",
    "from timeit import default_timer as timer\n",
    "\n",
    "nltk.download('punkt_tab')"
   ]
  },
  {
   "cell_type": "code",
   "execution_count": 101,
   "metadata": {},
   "outputs": [
    {
     "name": "stdout",
     "output_type": "stream",
     "text": [
      "43985 559 Anarchism is a political philosophy and movement that is sceptical of authority and rejects all involuntary, coercive forms of hierarchy. Anarchism calls for the abolition of the state, which it holds to be unnecessary, undesirable, and harmful. As a historically left-wing movement, placed on the farthest left of the political spectrum, it is usually described alongside communalism and libertarian Marxism as the libertarian wing (libertarian socialism) of the socialist movement, and has a strong historical association with anti-capitalism and socialism.\n"
     ]
    }
   ],
   "source": [
    "item = ds_wiki[0]\n",
    "txt = item['text']\n",
    "s = txt.split('\\n')[0]\n",
    "print(len(txt), len(s), s)"
   ]
  },
  {
   "cell_type": "code",
   "execution_count": 97,
   "metadata": {},
   "outputs": [
    {
     "name": "stdout",
     "output_type": "stream",
     "text": [
      "Anarchism is a political philosophy and movement that is sceptical of authority and rejects all involuntary, coercive forms of hierarchy.\n",
      "Anarchism calls for the abolition of the state, which it holds to be unnecessary, undesirable, and harmful.\n",
      "As a historically left-wing movement, placed on the farthest left of the political spectrum, it is usually described alongside communalism and libertarian Marxism as the libertarian wing (libertarian socialism) of the socialist movement, and has a strong historical association with anti-capitalism and socialism.\n"
     ]
    }
   ],
   "source": [
    "sents = sent_tokenize(s)\n",
    "for sent in sents:\n",
    "    print(sent)"
   ]
  },
  {
   "cell_type": "code",
   "execution_count": 100,
   "metadata": {},
   "outputs": [
    {
     "name": "stdout",
     "output_type": "stream",
     "text": [
      "sent_tokenize avg time: 0.005308\n"
     ]
    }
   ],
   "source": [
    "N = 1000\n",
    "t1 = timer()\n",
    "for i in range(N):\n",
    "    sents = sent_tokenize(txt)\n",
    "t2 = timer()\n",
    "delta = (t2 - t1) / N\n",
    "print(f'sent_tokenize avg time: {delta:0.6f}')\n"
   ]
  },
  {
   "cell_type": "code",
   "execution_count": null,
   "metadata": {},
   "outputs": [],
   "source": []
  },
  {
   "cell_type": "markdown",
   "metadata": {},
   "source": [
    "## Squad v2 dataset\n",
    "### Loading"
   ]
  },
  {
   "cell_type": "code",
   "execution_count": 23,
   "metadata": {},
   "outputs": [
    {
     "name": "stdout",
     "output_type": "stream",
     "text": [
      "Remove empty answers from dataset squad_v2. Size: 142192 --> 92749\n",
      "92749\n",
      "                              id                                title  \\\n",
      "116987  5730ad472461fd1900a9cf7d  Super_Nintendo_Entertainment_System   \n",
      "90433   5728ab5aff5b5019007da402                             Mandolin   \n",
      "101175  572ec240cb0c0d14000f1514                   Seven_Years%27_War   \n",
      "40704   570da764df2f5219002ed0c6                Anti-aircraft_warfare   \n",
      "52085   57268f9cf1498d1400e8e3d2                       Dutch_language   \n",
      "\n",
      "                                                  context  \\\n",
      "116987  In October 1997, Nintendo released a redesigne...   \n",
      "90433   The Sydney Mandolins (Artistic Director: Adria...   \n",
      "101175  Things were looking grim for Prussia now, with...   \n",
      "40704   German air attacks on the British Isles increa...   \n",
      "52085   Like in English, Dutch has generalised the dat...   \n",
      "\n",
      "                                                 question  \\\n",
      "116987           How much did the SNS-101 cost in the US?   \n",
      "90433      On what media was most of these work released?   \n",
      "101175  What German areas were beginning to oppose Pru...   \n",
      "40704             What was used because of night attacks?   \n",
      "52085   What language besides Dutch uses the dative ca...   \n",
      "\n",
      "                                                  answers  \n",
      "116987         {'text': ['US$99'], 'answer_start': [107]}  \n",
      "90433   {'text': ['Compact Disks'], 'answer_start': [2...  \n",
      "101175  {'text': ['a number of smaller German states s...  \n",
      "40704   {'text': ['searchlights'], 'answer_start': [515]}  \n",
      "52085          {'text': ['English'], 'answer_start': [8]}  \n"
     ]
    }
   ],
   "source": [
    "df_squad = get_squadv2_df(exclude_empty_answers=True)\n",
    "print(len(df_squad))\n",
    "print(df_squad.head())"
   ]
  },
  {
   "cell_type": "code",
   "execution_count": 24,
   "metadata": {},
   "outputs": [],
   "source": [
    "from mllm.data.itsquadv2 import QnaItemV2, QnaBatchV2\n",
    "\n",
    "\n",
    "def get_qna_batch(i_batch: int, batch_size: int = batch_size) -> QnaBatchV2:\n",
    "    i1 = i_batch * batch_size\n",
    "    i2 = i1 + batch_size\n",
    "    items = []\n",
    "    for i in range(i1, i2):\n",
    "        row = df_squad.iloc[i]\n",
    "        answer = row.answers['text'][0]\n",
    "        qna_item = QnaItemV2(\n",
    "            tkz=tkz, ind=i, context=row.context, question=row.question, answer=answer,\n",
    "        )\n",
    "        items.append(qna_item)\n",
    "    batch = QnaBatchV2(\n",
    "        items=items, max_inp_len=n_toks_max, max_out_len=model_cfg.max_out_toks, device=device,\n",
    "    )\n",
    "    return batch"
   ]
  },
  {
   "cell_type": "markdown",
   "metadata": {},
   "source": [
    "### QnA inference"
   ]
  },
  {
   "cell_type": "code",
   "execution_count": 25,
   "metadata": {},
   "outputs": [],
   "source": [
    "i_batch = 0\n",
    "batch = get_qna_batch(i_batch)\n",
    "# [n_batch, max_len]\n",
    "b_ctx_toks, b_que_toks, b_ans_toks, b_cq_toks = batch.get_tensors()"
   ]
  },
  {
   "cell_type": "code",
   "execution_count": 26,
   "metadata": {},
   "outputs": [
    {
     "name": "stdout",
     "output_type": "stream",
     "text": [
      "000. Inp: [CLS] in october 1997, nintendo released a redesigned model of the snes ( the sns - 101 model ) in north america for us $ 99, which sometimes included the pack - in game super mario world 2 : yoshi's island. like the earlier redesign of the nes ( the nes - 101 model ), the new model was slimmer and lighter than its predecessor, but it lacked s - video and rgb output, and it was among the last major snes - related releases in the region. a similarly redesigned super famicom jr. was released in japan at around the same time. [SEP] how much did the sns - 101 cost in the us? [SEP] [PAD] [PAD] [PAD] [PAD] [PAD] [PAD] [PAD] [PAD] [PAD] [PAD] [PAD] [PAD] [PAD] [PAD] [PAD] [PAD] [PAD] [PAD] [PAD] [PAD] [PAD] [PAD] [PAD] [PAD] [PAD] [PAD] [PAD] [PAD] [PAD] [PAD] [PAD] [PAD] [PAD] [PAD] [PAD] [PAD] [PAD] [PAD] [PAD] [PAD] [PAD] [PAD] [PAD] [PAD] [PAD] [PAD] [PAD] [PAD] [PAD] [PAD] [PAD] [PAD] [PAD] [PAD] [PAD] [PAD] [PAD] [PAD] [PAD] [PAD] [PAD] [PAD] [PAD] [PAD]\n",
      "000. Tgt: us $ 99 [PAD] [PAD] [PAD] [PAD] [PAD] [PAD] [PAD] [PAD] [PAD] [PAD] [PAD] [PAD]\n",
      "000. Out: [CLS] us $ 99 per year [PAD] [PAD] [PAD] [PAD] [PAD] [PAD] [PAD] [PAD] [PAD] [PAD] [PAD] [PAD] [PAD] [PAD] [PAD] [PAD] [PAD] [PAD] [PAD] [PAD] [PAD] [PAD] [PAD] [PAD] [PAD] [PAD] [PAD] [PAD] [PAD] [PAD] [PAD] [PAD] [PAD] [PAD] [PAD] [PAD] [PAD] [PAD] [PAD] [PAD] [PAD] [PAD] [PAD] [PAD] [PAD]\n",
      "001. Inp: [CLS] the sydney mandolins ( artistic director : adrian hooper ) have contributed greatly to the repertoire through commissioning over 200 works by australian and international composers. most of these works have been released on compact disks and can regularly be heard on radio stations on the abc and mbs networks. one of their members, mandolin virtuoso paul hooper, has had a number of concertos written for him by composers such as eric gross. he has performed and recorded these works with the sydney symphony orchestra and the tasmanian symphony orchestra. as well, paul hooper has had many solo works dedicated to him by australian composers e. g., caroline szeto, ian shanahan, larry sitsky and michael smetanin. [SEP] on what media was most of these work released? [SEP] [PAD] [PAD] [PAD] [PAD] [PAD] [PAD] [PAD] [PAD] [PAD] [PAD] [PAD] [PAD] [PAD] [PAD] [PAD] [PAD] [PAD] [PAD] [PAD] [PAD] [PAD] [PAD] [PAD] [PAD] [PAD] [PAD] [PAD] [PAD] [PAD] [PAD] [PAD] [PAD] [PAD] [PAD] [PAD] [PAD] [PAD] [PAD] [PAD] [PAD] [PAD] [PAD] [PAD] [PAD] [PAD] [PAD]\n",
      "001. Tgt: compact disks [PAD] [PAD] [PAD] [PAD] [PAD] [PAD] [PAD] [PAD] [PAD] [PAD] [PAD] [PAD] [PAD]\n",
      "001. Out: [CLS] compact compact discs [PAD] [PAD] [PAD] [PAD] [PAD] [PAD] [PAD] [PAD] [PAD] [PAD] [PAD] [PAD] [PAD] [PAD] [PAD] [PAD] [PAD] [PAD] [PAD] [PAD] [PAD] [PAD] [PAD] [PAD] [PAD] [PAD] [PAD] [PAD] [PAD] [PAD] [PAD] [PAD] [PAD] [PAD] [PAD] [PAD] [PAD] [PAD] [PAD] [PAD] [PAD] [PAD] [PAD] [PAD] [PAD] [PAD] [PAD]\n",
      "002. Inp: [CLS] things were looking grim for prussia now, with the austrians mobilising to attack prussian - controlled soil and a french army under soubise approaching from the west. however, in november and december of 1757, the whole situation in germany was reversed. first, frederick devastated prince soubise's french force at the battle of rossbach on 5 november 1757 and then routed a vastly superior austrian force at the battle of leuthen on 5 december 1757 with these victories, frederick once again established himself as europe's premier general and his men as europe's most accomplished soldiers. in spite of this, the prussians were now facing the prospect of four major powers attacking on four fronts ( france from the west, austria from the south, russia from the east and sweden from the north ). meanwhile, a combined force from a number of smaller german states such as bavaria had been established under austrian leadership, thus threatening prussian control of saxony. [SEP] what german areas were beginning to oppose prussia? [SEP]\n",
      "002. Tgt: a number of smaller german states such as bavaria had been established under austrian leadership\n",
      "002. Out: [CLS] brandenburg and sweden [PAD] [PAD] [PAD] [PAD] [PAD] [PAD] [PAD] [PAD] [PAD] [PAD] [PAD] [PAD] [PAD] [PAD] [PAD] [PAD] [PAD] [PAD] [PAD] [PAD] [PAD] [PAD] [PAD] [PAD] [PAD] [PAD] [PAD] [PAD] [PAD] [PAD] [PAD] [PAD] [PAD] [PAD] [PAD] [PAD] [PAD] [PAD] [PAD] [PAD] [PAD] [PAD] [PAD] [PAD] [PAD] [PAD] [PAD]\n",
      "003. Inp: [CLS] german air attacks on the british isles increased in 1915 and the aa efforts were deemed somewhat ineffective, so a royal navy gunnery expert, admiral sir percy scott, was appointed to make improvements, particularly an integrated aa defence for london. the air defences were expanded with more rnvr aa guns, 75 mm and 3 - inch, the pom - poms being ineffective. the naval 3 - inch was also adopted by the army, the qf 3 inch 20 cwt ( 76 mm ), a new field mounting was introduced in 1916. since most attacks were at night, searchlights were soon used, and acoustic methods of detection and locating were developed. by december 1916 there were 183 aa sections defending britain ( most with the 3 - inch ), 74 with the bef in france and 10 in the middle east. [SEP] what was used because of night attacks? [SEP] [PAD] [PAD] [PAD] [PAD] [PAD] [PAD] [PAD] [PAD] [PAD] [PAD] [PAD] [PAD] [PAD] [PAD] [PAD] [PAD] [PAD] [PAD] [PAD] [PAD] [PAD] [PAD] [PAD] [PAD] [PAD] [PAD] [PAD]\n",
      "003. Tgt: searchlights [PAD] [PAD] [PAD] [PAD] [PAD] [PAD] [PAD] [PAD] [PAD] [PAD] [PAD] [PAD] [PAD]\n",
      "003. Out: [CLS] searchlights and searchlights. [PAD] [PAD] [PAD] [PAD] [PAD] [PAD] [PAD] [PAD] [PAD] [PAD] [PAD] [PAD] [PAD] [PAD] [PAD] [PAD] [PAD] [PAD] [PAD] [PAD] [PAD] [PAD] [PAD] [PAD] [PAD] [PAD] [PAD] [PAD] [PAD] [PAD] [PAD] [PAD] [PAD] [PAD] [PAD] [PAD] [PAD] [PAD] [PAD] [PAD] [PAD] [PAD] [PAD] [PAD]\n",
      "004. Inp: [CLS] like in english, dutch has generalised the dative over the accusative case for all pronouns, e. g. du me, je, eng me, you, vs. germ mich / mir dich / dir. there is one exception : the standard language prescribes that in the third person plural, hen is to be used for the direct object, and hun for the indirect object. this distinction was artificially introduced in the 17th century by grammarians, and is largely ignored in spoken language and not well understood by dutch speakers. consequently, the third person plural forms hun and hen are interchangeable in normal usage, with hun being more common. the shared unstressed form ze is also often used as both direct and indirect objects and is a useful avoidance strategy when people are unsure which form to use. [SEP] what language besides dutch uses the dative case instead of the accusative for pronouns? [SEP] [PAD] [PAD] [PAD] [PAD] [PAD] [PAD] [PAD] [PAD] [PAD] [PAD]\n",
      "004. Tgt: english [PAD] [PAD] [PAD] [PAD] [PAD] [PAD] [PAD] [PAD] [PAD] [PAD] [PAD] [PAD] [PAD] [PAD]\n",
      "004. Out: [CLS] english [PAD] [PAD] [PAD] [PAD] [PAD] [PAD] [PAD] [PAD] [PAD] [PAD] [PAD] [PAD] [PAD] [PAD] [PAD] [PAD] [PAD] [PAD] [PAD] [PAD] [PAD] [PAD] [PAD] [PAD] [PAD] [PAD] [PAD] [PAD] [PAD] [PAD] [PAD] [PAD] [PAD] [PAD] [PAD] [PAD] [PAD] [PAD] [PAD] [PAD] [PAD] [PAD] [PAD] [PAD] [PAD] [PAD] [PAD] [PAD] [PAD]\n"
     ]
    }
   ],
   "source": [
    "for i in range(batch_size):\n",
    "    ctx_toks, que_toks, ans_toks, cq_toks = b_ctx_toks[i], b_que_toks[i], b_ans_toks[i], b_cq_toks[i]\n",
    "    tgt_toks = ans_toks\n",
    "    toks_inp = cq_toks\n",
    "    toks_out = model.gen_on_qna(ctx_toks=ctx_toks, que_toks=que_toks, cq_toks=cq_toks)\n",
    "    toks_out = toks_out.squeeze(0)\n",
    "    s_inp = tkz.decode(toks_inp)\n",
    "    s_out = tkz.decode(toks_out)\n",
    "    s_tgt = tkz.decode(tgt_toks)\n",
    "    print(f'{i:03d}. Inp: {s_inp}')\n",
    "    print(f'{i:03d}. Tgt: {s_tgt}')\n",
    "    print(f'{i:03d}. Out: {s_out}')\n",
    "    # break"
   ]
  },
  {
   "cell_type": "markdown",
   "metadata": {},
   "source": [
    "### Custom text"
   ]
  },
  {
   "cell_type": "code",
   "execution_count": 99,
   "metadata": {},
   "outputs": [],
   "source": [
    "context = '''\n",
    "Lithuania,[b] officially the Republic of Lithuania,[c] is a country in the Baltic region of Europe.[d] It is one of three Baltic states and lies on the eastern shore of the Baltic Sea, bordered by Latvia to the north, Belarus to the east and south, Poland to the south, and the Russian semi-exclave of Kaliningrad Oblast to the southwest, with a maritime border with Sweden to the west. Lithuania covers an area of 65,300 km2 (25,200 sq mi), with a population of 2.89 million. Its capital and largest city is Vilnius; other major cities include Kaunas, Klaipėda, Šiauliai and Panevėžys. Lithuanians who are the titular nation and form the majority of the country's population, belong to the ethnolinguistic group of Balts and speak Lithuanian. For millennia, the southeastern shores of the Baltic Sea were inhabited by various Baltic tribes. In the 1230s, Lithuanian lands were united for the first time by Mindaugas, who formed the Kingdom of Lithuania on 6 July 1253. Subsequent expansion and consolidation resulted in the Grand Duchy of Lithuania, which by the 14th century was the largest country in Europe. In 1386, the Grand Duchy entered into a de facto personal union with the Crown of the Kingdom of Poland. The two realms were united into the bi-confederal Polish-Lithuanian Commonwealth in 1569, forming one of the largest and most prosperous states in Europe. The Commonwealth lasted more than two centuries, until neighbouring countries gradually dismantled it between 1772 and 1795, with the Russian Empire annexing most of Lithuania's territory. Towards the end of World War I, Lithuania declared independence in 1918, founding the modern Republic of Lithuania. In World War II, Lithuania was occupied by the Soviet Union, then by Nazi Germany, before being reoccupied by the Soviets in 1944. Lithuanian armed resistance to the Soviet occupation lasted until the early 1950s. On 11 March 1990, a year before the formal dissolution of the Soviet Union, Lithuania became the first Soviet republic to break away when it proclaimed the restoration of its independence. Lithuania is a developed country with a high-income and an advanced economy ranking very high in Human Development Index.'''\n",
    "context2 = 'Lithuania ranks highly in digital infrastructure,[25][26] press freedom and happiness.[27] Lithuania is a member of the United Nations, the European Union, the Council of Europe, the Council of the Baltic Sea States, the Eurozone, the Nordic Investment Bank, the International Monetary Fund, the Schengen Agreement, NATO, OECD and the World Trade Organization. It also participates in the Nordic-Baltic Eight (NB8) regional co-operation format.'\n",
    "\n",
    "question = 'When Lithuania declared its independence?'\n",
    "question = 'What is an area of Lithuania?'\n",
    "# question = 'What is a population of Lithuania?'\n",
    "# question = 'What is a capital of Lithuania?'\n",
    "text = f'''\n",
    "[CLS] {context.strip()} [SEP] {question} [SEP]: \n",
    "'''\n",
    "text = text.strip()"
   ]
  },
  {
   "cell_type": "code",
   "execution_count": 100,
   "metadata": {},
   "outputs": [
    {
     "data": {
      "text/plain": [
       "'[CLS] latvia ( including pan - baltic commonwealth ), the czech republic ( south part ), and the northwestern united states, as a separate state in northwestern lithuania, the northern region ( now a part of lithuania in latvia, latvia ). [PAD] [PAD] [PAD] [PAD]'"
      ]
     },
     "execution_count": 100,
     "metadata": {},
     "output_type": "execute_result"
    }
   ],
   "source": [
    "toks_in = tkz(text).input_ids\n",
    "toks_in = torch.tensor(toks_in, dtype=torch.long, device=device)\n",
    "ctx_toks = tkz(context, return_tensors='pt', add_special_tokens=False).input_ids\n",
    "que_toks = tkz(question, return_tensors='pt', add_special_tokens=False).input_ids\n",
    "toks_out = model.gen_on_qna(ctx_toks=ctx_toks, que_toks=que_toks)\n",
    "s_out = tkz.decode(toks_out.squeeze())\n",
    "s_out"
   ]
  },
  {
   "cell_type": "code",
   "execution_count": 33,
   "metadata": {},
   "outputs": [
    {
     "data": {
      "text/plain": [
       "(472, 1)"
      ]
     },
     "execution_count": 33,
     "metadata": {},
     "output_type": "execute_result"
    }
   ],
   "source": [
    "len(toks_in), len(toks_out)"
   ]
  },
  {
   "cell_type": "code",
   "execution_count": 27,
   "metadata": {},
   "outputs": [
    {
     "data": {
      "text/plain": [
       "tensor([[0.5378, 0.6574],\n",
       "        [0.0254, 0.6032],\n",
       "        [0.2640, 0.5040]])"
      ]
     },
     "execution_count": 27,
     "metadata": {},
     "output_type": "execute_result"
    }
   ],
   "source": [
    "torch.rand((3, 2))"
   ]
  },
  {
   "cell_type": "code",
   "execution_count": null,
   "metadata": {},
   "outputs": [],
   "source": []
  }
 ],
 "metadata": {
  "kernelspec": {
   "display_name": "mllm",
   "language": "python",
   "name": "python3"
  },
  "language_info": {
   "codemirror_mode": {
    "name": "ipython",
    "version": 3
   },
   "file_extension": ".py",
   "mimetype": "text/x-python",
   "name": "python",
   "nbconvert_exporter": "python",
   "pygments_lexer": "ipython3",
   "version": "3.10.14"
  }
 },
 "nbformat": 4,
 "nbformat_minor": 2
}
