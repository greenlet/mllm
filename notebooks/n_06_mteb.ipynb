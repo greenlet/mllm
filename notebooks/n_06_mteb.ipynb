{
 "cells": [
  {
   "cell_type": "code",
   "execution_count": 2,
   "metadata": {
    "dotnet_interactive": {
     "language": "csharp"
    },
    "polyglot_notebook": {
     "kernelName": "csharp"
    }
   },
   "outputs": [],
   "source": [
    "%load_ext autoreload\n",
    "%autoreload 2"
   ]
  },
  {
   "cell_type": "code",
   "execution_count": 3,
   "metadata": {},
   "outputs": [],
   "source": [
    "from collections import defaultdict\n",
    "import csv\n",
    "from dataclasses import dataclass\n",
    "import gzip\n",
    "import itertools\n",
    "import os\n",
    "from pathlib import Path\n",
    "from pprint import pprint\n",
    "import re\n",
    "import sys\n",
    "from typing import Optional\n",
    "if '..' not in sys.path: sys.path.append('..')\n",
    "\n",
    "import mteb\n",
    "import numpy as np\n",
    "import pandas as pd\n",
    "from tqdm import tqdm\n",
    "\n",
    "from mllm.utils.utils import write_tsv, read_tsv"
   ]
  },
  {
   "cell_type": "markdown",
   "metadata": {},
   "source": [
    "# MTEB Datasets\n",
    "## Common"
   ]
  },
  {
   "cell_type": "code",
   "execution_count": 4,
   "metadata": {},
   "outputs": [],
   "source": [
    "DATA_PATH = Path(os.path.expandvars('$HOME')) / 'data'\n",
    "MTEB_PATH = DATA_PATH / 'mteb'\n",
    "FEVER_PATH = DATA_PATH / 'fever'\n",
    "FEVER_PATH.mkdir(parents=True, exist_ok=True)\n",
    "FEVER_QS_FPATH = FEVER_PATH / 'queries.tsv'\n",
    "FEVER_QRELS_FPATH = FEVER_PATH / 'qrels.tsv'\n",
    "FEVER_DOCS_FPATH = FEVER_PATH / 'docs.tsv'\n",
    "FEVER_DOCS_OFF_FPATH = FEVER_PATH / 'docs_offsets.tsv'"
   ]
  },
  {
   "cell_type": "code",
   "execution_count": 4,
   "metadata": {},
   "outputs": [
    {
     "name": "stdout",
     "output_type": "stream",
     "text": [
      "SadeemQuestionRetrieval(name='SadeemQuestionRetrieval', languages=['ara'])\n",
      "AppsRetrieval(name='AppsRetrieval', languages=['eng', 'python'])\n",
      "CodeEditSearchRetrieval(name='CodeEditSearchRetrieval', languages=['c', 'c++', 'go', '...'])\n",
      "CodeFeedbackMT(name='CodeFeedbackMT', languages=['c', 'eng', 'python', '...'])\n",
      "CodeFeedbackST(name='CodeFeedbackST', languages=['eng', 'go', 'java', '...'])\n",
      "CodeSearchNetCCRetrieval(name='CodeSearchNetCCRetrieval', languages=['go', 'java', 'javascript', '...'])\n",
      "CodeSearchNetRetrieval(name='CodeSearchNetRetrieval', languages=['go', 'java', 'javascript', '...'])\n",
      "CodeTransOceanContestRetrieval(name='CodeTransOceanContest', languages=['c++', 'python'])\n",
      "CodeTransOceanDLRetrieval(name='CodeTransOceanDL', languages=['eng'])\n",
      "CosQARetrieval(name='CosQA', languages=['eng', 'python'])\n",
      "StackOverflowQARetrieval(name='StackOverflowQA', languages=['eng'])\n",
      "SyntheticText2SQLRetrieval(name='SyntheticText2SQL', languages=['eng', 'sql'])\n",
      "DanFeverRetrieval(name='DanFeverRetrieval', languages=['dan'])\n",
      "TV2Nordretrieval(name='TV2Nordretrieval', languages=['dan'])\n",
      "TwitterHjerneRetrieval(name='TwitterHjerneRetrieval', languages=['dan'])\n",
      "GerDaLIR(name='GerDaLIR', languages=['deu'])\n",
      "GerDaLIRSmall(name='GerDaLIRSmall', languages=['deu'])\n",
      "GermanDPR(name='GermanDPR', languages=['deu'])\n",
      "GermanGovServiceRetrieval(name='GermanGovServiceRetrieval', languages=['deu'])\n",
      "GermanQuADRetrieval(name='GermanQuAD-Retrieval', languages=['deu'])\n",
      "LegalQuAD(name='LegalQuAD', languages=['deu'])\n",
      "GreekCivicsQA(name='GreekCivicsQA', languages=['ell'])\n",
      "AILACasedocs(name='AILACasedocs', languages=['eng'])\n",
      "AILAStatutes(name='AILAStatutes', languages=['eng'])\n",
      "AlphaNLI(name='AlphaNLI', languages=['eng'])\n",
      "ARCChallenge(name='ARCChallenge', languages=['eng'])\n",
      "ArguAna(name='ArguAna', languages=['eng'])\n",
      "BrightRetrieval(name='BrightRetrieval', languages=['eng'])\n",
      "ClimateFEVER(name='ClimateFEVER', languages=['eng'])\n",
      "CQADupstackAndroidRetrieval(name='CQADupstackAndroidRetrieval', languages=['eng'])\n",
      "CQADupstackEnglishRetrieval(name='CQADupstackEnglishRetrieval', languages=['eng'])\n",
      "CQADupstackGamingRetrieval(name='CQADupstackGamingRetrieval', languages=['eng'])\n",
      "CQADupstackGisRetrieval(name='CQADupstackGisRetrieval', languages=['eng'])\n",
      "CQADupstackMathematicaRetrieval(name='CQADupstackMathematicaRetrieval', languages=['eng'])\n",
      "CQADupstackPhysicsRetrieval(name='CQADupstackPhysicsRetrieval', languages=['eng'])\n",
      "CQADupstackProgrammersRetrieval(name='CQADupstackProgrammersRetrieval', languages=['eng'])\n",
      "CQADupstackStatsRetrieval(name='CQADupstackStatsRetrieval', languages=['eng'])\n",
      "CQADupstackTexRetrieval(name='CQADupstackTexRetrieval', languages=['eng'])\n",
      "CQADupstackUnixRetrieval(name='CQADupstackUnixRetrieval', languages=['eng'])\n",
      "CQADupstackWebmastersRetrieval(name='CQADupstackWebmastersRetrieval', languages=['eng'])\n",
      "CQADupstackWordpressRetrieval(name='CQADupstackWordpressRetrieval', languages=['eng'])\n",
      "DBPedia(name='DBPedia', languages=['eng'])\n",
      "FaithDialRetrieval(name='FaithDial', languages=['eng'])\n",
      "FeedbackQARetrieval(name='FeedbackQARetrieval', languages=['eng'])\n",
      "FEVER(name='FEVER', languages=['eng'])\n",
      "FiQA2018(name='FiQA2018', languages=['eng'])\n",
      "HagridRetrieval(name='HagridRetrieval', languages=['eng'])\n",
      "HellaSwag(name='HellaSwag', languages=['eng'])\n",
      "HotpotQA(name='HotpotQA', languages=['eng'])\n",
      "LegalBenchConsumerContractsQA(name='LegalBenchConsumerContractsQA', languages=['eng'])\n",
      "LegalBenchCorporateLobbying(name='LegalBenchCorporateLobbying', languages=['eng'])\n",
      "LegalSummarization(name='LegalSummarization', languages=['eng'])\n",
      "LEMBNarrativeQARetrieval(name='LEMBNarrativeQARetrieval', languages=['eng'])\n",
      "LEMBNeedleRetrieval(name='LEMBNeedleRetrieval', languages=['eng'])\n",
      "LEMBPasskeyRetrieval(name='LEMBPasskeyRetrieval', languages=['eng'])\n",
      "LEMBQMSumRetrieval(name='LEMBQMSumRetrieval', languages=['eng'])\n",
      "LEMBSummScreenFDRetrieval(name='LEMBSummScreenFDRetrieval', languages=['eng'])\n",
      "LEMBWikimQARetrieval(name='LEMBWikimQARetrieval', languages=['eng'])\n",
      "LitSearchRetrieval(name='LitSearchRetrieval', languages=['eng'])\n",
      "MedicalQARetrieval(name='MedicalQARetrieval', languages=['eng'])\n",
      "MLQuestionsRetrieval(name='MLQuestions', languages=['eng'])\n",
      "MSMARCO(name='MSMARCO', languages=['eng'])\n",
      "MSMARCOv2(name='MSMARCOv2', languages=['eng'])\n",
      "NarrativeQARetrieval(name='NarrativeQARetrieval', languages=['eng'])\n",
      "NFCorpus(name='NFCorpus', languages=['eng'])\n",
      "NQ(name='NQ', languages=['eng'])\n",
      "PIQA(name='PIQA', languages=['eng'])\n",
      "Quail(name='Quail', languages=['eng'])\n",
      "QuoraRetrieval(name='QuoraRetrieval', languages=['eng'])\n",
      "RARbCode(name='RARbCode', languages=['eng'])\n",
      "RARbMath(name='RARbMath', languages=['eng'])\n",
      "SCIDOCS(name='SCIDOCS', languages=['eng'])\n",
      "SciFact(name='SciFact', languages=['eng'])\n",
      "SIQA(name='SIQA', languages=['eng'])\n",
      "SpartQA(name='SpartQA', languages=['eng'])\n",
      "TempReasonL1(name='TempReasonL1', languages=['eng'])\n",
      "TempReasonL2Context(name='TempReasonL2Context', languages=['eng'])\n",
      "TempReasonL2Fact(name='TempReasonL2Fact', languages=['eng'])\n",
      "TempReasonL2Pure(name='TempReasonL2Pure', languages=['eng'])\n",
      "TempReasonL3Context(name='TempReasonL3Context', languages=['eng'])\n",
      "TempReasonL3Fact(name='TempReasonL3Fact', languages=['eng'])\n",
      "TempReasonL3Pure(name='TempReasonL3Pure', languages=['eng'])\n",
      "TopiOCQARetrieval(name='TopiOCQA', languages=['eng'])\n",
      "Touche2020(name='Touche2020', languages=['eng'])\n",
      "TRECCOVID(name='TRECCOVID', languages=['eng'])\n",
      "WinoGrande(name='WinoGrande', languages=['eng'])\n",
      "EstQA(name='EstQA', languages=['est'])\n",
      "AlloprofRetrieval(name='AlloprofRetrieval', languages=['fra'])\n",
      "BSARDRetrieval(name='BSARDRetrieval', languages=['fra'])\n",
      "FQuADRetrieval(name='FQuADRetrieval', languages=['fra'])\n",
      "SyntecRetrieval(name='SyntecRetrieval', languages=['fra'])\n",
      "HunSum2AbstractiveRetrieval(name='HunSum2AbstractiveRetrieval', languages=['hun'])\n",
      "JaGovFaqsRetrieval(name='JaGovFaqsRetrieval', languages=['jpn'])\n",
      "JaQuADRetrieval(name='JaQuADRetrieval', languages=['jpn'])\n",
      "NLPJournalAbsIntroRetrieval(name='NLPJournalAbsIntroRetrieval', languages=['jpn'])\n",
      "NLPJournalTitleAbsRetrieval(name='NLPJournalTitleAbsRetrieval', languages=['jpn'])\n",
      "NLPJournalTitleIntroRetrieval(name='NLPJournalTitleIntroRetrieval', languages=['jpn'])\n",
      "GeorgianFAQRetrieval(name='GeorgianFAQRetrieval', languages=['kat'])\n",
      "KoStrategyQA(name='Ko-StrategyQA', languages=['kor'])\n",
      "BelebeleRetrieval(name='BelebeleRetrieval', languages=['acm', 'afr', 'als', '...'])\n",
      "CrossLingualSemanticDiscriminationWMT19(name='CrossLingualSemanticDiscriminationWMT19', languages=['deu', 'fra'])\n",
      "CrossLingualSemanticDiscriminationWMT21(name='CrossLingualSemanticDiscriminationWMT21', languages=['deu', 'fra'])\n",
      "IndicQARetrieval(name='IndicQARetrieval', languages=['asm', 'ben', 'guj', '...'])\n",
      "MintakaRetrieval(name='MintakaRetrieval', languages=['ara', 'deu', 'fra', '...'])\n",
      "MIRACLRetrieval(name='MIRACLRetrieval', languages=['ara', 'ben', 'deu', '...'])\n",
      "MLQARetrieval(name='MLQARetrieval', languages=['ara', 'deu', 'eng', '...'])\n",
      "MultiLongDocRetrieval(name='MultiLongDocRetrieval', languages=['ara', 'cmn', 'deu', '...'])\n",
      "NeuCLIR2022Retrieval(name='NeuCLIR2022Retrieval', languages=['fas', 'rus', 'zho'])\n",
      "NeuCLIR2023Retrieval(name='NeuCLIR2023Retrieval', languages=['fas', 'rus', 'zho'])\n",
      "PublicHealthQARetrieval(name='PublicHealthQA', languages=['ara', 'eng', 'fra', '...'])\n",
      "StatcanDialogueDatasetRetrieval(name='StatcanDialogueDatasetRetrieval', languages=['eng', 'fra'])\n",
      "WikipediaRetrievalMultilingual(name='WikipediaRetrievalMultilingual', languages=['ben', 'bul', 'ces', '...'])\n",
      "XMarket(name='XMarket', languages=['deu', 'eng', 'spa'])\n",
      "XPQARetrieval(name='XPQARetrieval', languages=['ara', 'cmn', 'deu', '...'])\n",
      "XQuADRetrieval(name='XQuADRetrieval', languages=['arb', 'deu', 'ell', '...'])\n",
      "NorQuadRetrieval(name='NorQuadRetrieval', languages=['nob'])\n",
      "SNLRetrieval(name='SNLRetrieval', languages=['nob'])\n",
      "ArguAnaPL(name='ArguAna-PL', languages=['pol'])\n",
      "DBPediaPL(name='DBPedia-PL', languages=['pol'])\n",
      "FiQAPLRetrieval(name='FiQA-PL', languages=['pol'])\n",
      "HotpotQAPL(name='HotpotQA-PL', languages=['pol'])\n",
      "MSMARCOPL(name='MSMARCO-PL', languages=['pol'])\n",
      "NFCorpusPL(name='NFCorpus-PL', languages=['pol'])\n",
      "NQPL(name='NQ-PL', languages=['pol'])\n",
      "QuoraPLRetrieval(name='Quora-PL', languages=['pol'])\n",
      "SCIDOCSPL(name='SCIDOCS-PL', languages=['pol'])\n",
      "SciFactPL(name='SciFact-PL', languages=['pol'])\n",
      "TRECCOVIDPL(name='TRECCOVID-PL', languages=['pol'])\n",
      "RiaNewsRetrieval(name='RiaNewsRetrieval', languages=['rus'])\n",
      "RuBQRetrieval(name='RuBQRetrieval', languages=['rus'])\n",
      "SlovakSumRetrieval(name='SlovakSumRetrieval', languages=['slk'])\n",
      "SpanishPassageRetrievalS2P(name='SpanishPassageRetrievalS2P', languages=['spa'])\n",
      "SpanishPassageRetrievalS2S(name='SpanishPassageRetrievalS2S', languages=['spa'])\n",
      "SwednRetrieval(name='SwednRetrieval', languages=['swe'])\n",
      "SweFaqRetrieval(name='SweFaqRetrieval', languages=['swe'])\n",
      "TurHistQuadRetrieval(name='TurHistQuadRetrieval', languages=['tur'])\n",
      "VieQuADRetrieval(name='VieQuADRetrieval', languages=['vie'])\n",
      "T2Retrieval(name='T2Retrieval', languages=['cmn'])\n",
      "MMarcoRetrieval(name='MMarcoRetrieval', languages=['cmn'])\n",
      "DuRetrieval(name='DuRetrieval', languages=['cmn'])\n",
      "CovidRetrieval(name='CovidRetrieval', languages=['cmn'])\n",
      "CmedqaRetrieval(name='CmedqaRetrieval', languages=['cmn'])\n",
      "EcomRetrieval(name='EcomRetrieval', languages=['cmn'])\n",
      "MedicalRetrieval(name='MedicalRetrieval', languages=['cmn'])\n",
      "VideoRetrieval(name='VideoRetrieval', languages=['cmn'])\n",
      "LeCaRDv2(name='LeCaRDv2', languages=['zho'])\n"
     ]
    }
   ],
   "source": [
    "tasks = mteb.get_tasks(task_types=['Retrieval'])\n",
    "for task in tasks:\n",
    "    print(task)"
   ]
  },
  {
   "cell_type": "code",
   "execution_count": 5,
   "metadata": {},
   "outputs": [
    {
     "name": "stdout",
     "output_type": "stream",
     "text": [
      "[('ara', 7), ('eng', 81), ('python', 8), ('go', 4), ('java', 4), ('javascript', 4), ('php', 4), ('ruby', 4), ('dan', 5), ('deu', 17), ('ell', 3), ('fra', 13), ('jpn', 10), ('kor', 6), ('ben', 4), ('fin', 3), ('hin', 9), ('ita', 5), ('nob', 3), ('pol', 13), ('por', 5), ('ron', 3), ('rus', 9), ('spa', 11), ('swe', 4), ('tam', 3), ('tel', 3), ('tha', 4), ('tur', 3), ('vie', 5), ('zho', 8), ('fas', 4), ('cmn', 10)]\n"
     ]
    }
   ],
   "source": [
    "langs = defaultdict(lambda: 0)\n",
    "for task in tasks:\n",
    "    for lang in task.languages:\n",
    "        langs[lang] += 1\n",
    "print([(lang, cnt) for (lang, cnt) in langs.items() if cnt >= 3])"
   ]
  },
  {
   "cell_type": "markdown",
   "metadata": {},
   "source": [
    "## Fever"
   ]
  },
  {
   "cell_type": "code",
   "execution_count": 11,
   "metadata": {},
   "outputs": [],
   "source": [
    "from mteb import FEVER"
   ]
  },
  {
   "cell_type": "code",
   "execution_count": 12,
   "metadata": {},
   "outputs": [
    {
     "data": {
      "text/plain": [
       "FEVER(name='FEVER', languages=['eng'])"
      ]
     },
     "execution_count": 12,
     "metadata": {},
     "output_type": "execute_result"
    }
   ],
   "source": [
    "fever = FEVER()\n",
    "fever"
   ]
  },
  {
   "cell_type": "code",
   "execution_count": 14,
   "metadata": {},
   "outputs": [
    {
     "data": {
      "application/vnd.jupyter.widget-view+json": {
       "model_id": "07984697ed3d47babaac8bb89850c416",
       "version_major": 2,
       "version_minor": 0
      },
      "text/plain": [
       "Map:   0%|          | 0/140085 [00:00<?, ? examples/s]"
      ]
     },
     "metadata": {},
     "output_type": "display_data"
    },
    {
     "data": {
      "application/vnd.jupyter.widget-view+json": {
       "model_id": "f41e11fc718840d5b07d9f6df93181eb",
       "version_major": 2,
       "version_minor": 0
      },
      "text/plain": [
       "Map:   0%|          | 0/8079 [00:00<?, ? examples/s]"
      ]
     },
     "metadata": {},
     "output_type": "display_data"
    },
    {
     "data": {
      "application/vnd.jupyter.widget-view+json": {
       "model_id": "2fda7b463d6544cc9378c2323a17059a",
       "version_major": 2,
       "version_minor": 0
      },
      "text/plain": [
       "Map:   0%|          | 0/7937 [00:00<?, ? examples/s]"
      ]
     },
     "metadata": {},
     "output_type": "display_data"
    }
   ],
   "source": [
    "fever.load_data()"
   ]
  },
  {
   "cell_type": "code",
   "execution_count": 10,
   "metadata": {},
   "outputs": [],
   "source": [
    "print('splits:', list(fever.corpus.keys()))\n",
    "for split, docs in fever.corpus.items():\n",
    "    print(f'{split}. Docs: {len(docs)}')\n",
    "    docids = itertools.islice(docs.keys(), 2)\n",
    "    for doc_id in docids:\n",
    "        print(f'{split}. {doc_id}. {docs[doc_id]}')"
   ]
  },
  {
   "cell_type": "code",
   "execution_count": 13,
   "metadata": {},
   "outputs": [
    {
     "ename": "AttributeError",
     "evalue": "'FEVER' object has no attribute 'corpus'",
     "output_type": "error",
     "traceback": [
      "\u001b[0;31m---------------------------------------------------------------------------\u001b[0m",
      "\u001b[0;31mAttributeError\u001b[0m                            Traceback (most recent call last)",
      "Cell \u001b[0;32mIn[13], line 1\u001b[0m\n\u001b[0;32m----> 1\u001b[0m \u001b[38;5;28;01massert\u001b[39;00m \u001b[43mfever\u001b[49m\u001b[38;5;241;43m.\u001b[39;49m\u001b[43mcorpus\u001b[49m[\u001b[38;5;124m'\u001b[39m\u001b[38;5;124mtrain\u001b[39m\u001b[38;5;124m'\u001b[39m] \u001b[38;5;241m==\u001b[39m fever\u001b[38;5;241m.\u001b[39mcorpus[\u001b[38;5;124m'\u001b[39m\u001b[38;5;124mdev\u001b[39m\u001b[38;5;124m'\u001b[39m] \u001b[38;5;241m==\u001b[39m fever\u001b[38;5;241m.\u001b[39mcorpus[\u001b[38;5;124m'\u001b[39m\u001b[38;5;124mtest\u001b[39m\u001b[38;5;124m'\u001b[39m]\n\u001b[1;32m      2\u001b[0m fever\u001b[38;5;241m.\u001b[39mcorpus[\u001b[38;5;124m'\u001b[39m\u001b[38;5;124mdev\u001b[39m\u001b[38;5;124m'\u001b[39m] \u001b[38;5;241m=\u001b[39m \u001b[38;5;28;01mNone\u001b[39;00m\n\u001b[1;32m      3\u001b[0m fever\u001b[38;5;241m.\u001b[39mcorpus[\u001b[38;5;124m'\u001b[39m\u001b[38;5;124mtest\u001b[39m\u001b[38;5;124m'\u001b[39m] \u001b[38;5;241m=\u001b[39m \u001b[38;5;28;01mNone\u001b[39;00m\n",
      "\u001b[0;31mAttributeError\u001b[0m: 'FEVER' object has no attribute 'corpus'"
     ]
    }
   ],
   "source": [
    "assert fever.corpus['train'] == fever.corpus['dev'] == fever.corpus['test']\n",
    "fever.corpus['dev'] = None\n",
    "fever.corpus['test'] = None"
   ]
  },
  {
   "cell_type": "code",
   "execution_count": 12,
   "metadata": {},
   "outputs": [],
   "source": [
    "for split, qs in fever.queries.items():\n",
    "    print(f'{split}. Queries: {len(qs)}')\n",
    "    qids = itertools.islice(qs.keys(), 2)\n",
    "    for qid in qids:\n",
    "        print(f'{split}. {qid}: {type(qid)}. {qs[qid]}')"
   ]
  },
  {
   "cell_type": "code",
   "execution_count": 20,
   "metadata": {},
   "outputs": [],
   "source": [
    "fever.queries['train']['150448']"
   ]
  },
  {
   "cell_type": "code",
   "execution_count": 24,
   "metadata": {},
   "outputs": [],
   "source": [
    "for split, reldocs in fever.relevant_docs.items():\n",
    "    print(f'{split}. Reldocs: {len(reldocs)}')\n",
    "    qids = itertools.islice(reldocs.keys(), 2)\n",
    "    for qid in qids:\n",
    "        query = fever.queries[split][qid]\n",
    "        print(f'{split}. {qid}. {query}\\n    {reldocs[qid]}')"
   ]
  },
  {
   "cell_type": "code",
   "execution_count": 13,
   "metadata": {},
   "outputs": [],
   "source": [
    "corpus = fever.corpus['train']\n",
    "for split in 'train', 'dev', 'test':\n",
    "    reldocs = fever.relevant_docs[split]\n",
    "    max_sz = 0\n",
    "    vals = set()\n",
    "    for reldoc in reldocs.values():\n",
    "        max_sz = max(max_sz, len(reldoc))\n",
    "        for docid, val in reldoc.items():\n",
    "            docid_src = docid\n",
    "            if docid not in corpus:\n",
    "                print(docid)\n",
    "            if docid[0] == '\"' and docid[-1] == '\"':\n",
    "                docid = docid[1:-1].replace('\"\"', '\"')\n",
    "            assert docid in corpus, f'`{docid_src}` -> `{docid}`'\n",
    "            vals.add(val)\n",
    "    print(f'{split}. max_sz: {max_sz}. vals: {vals}')"
   ]
  },
  {
   "cell_type": "code",
   "execution_count": 14,
   "metadata": {},
   "outputs": [],
   "source": [
    "def write_qs(queries: dict[str, str], fpath: Path) -> pd.DataFrame:\n",
    "    qids, qs = [], []\n",
    "    for qid, query in queries.items():\n",
    "        assert '\\t' not in query, query\n",
    "        qid = int(qid)\n",
    "        qids.append(qid)\n",
    "        qs.append(query)\n",
    "    df = pd.DataFrame({'queryid': qids, 'query': qs})\n",
    "    write_tsv(df, fpath)\n",
    "    return df\n",
    "\n",
    "for split, qs in fever.queries.items():\n",
    "    fname = FEVER_QS_FPATH.with_suffix('')\n",
    "    fname = f'{fname}_{split}.tsv'\n",
    "    fpath = FEVER_QS_FPATH.parent / fname\n",
    "    print(f'Writing {len(qs)} queries into {fpath}')\n",
    "    write_qs(qs, fpath)"
   ]
  },
  {
   "cell_type": "code",
   "execution_count": 15,
   "metadata": {},
   "outputs": [],
   "source": [
    "def write_docs(docs: dict[str, dict[str, str]], docs_fpath: Path, docs_off_fpath: Path) -> tuple[pd.DataFrame, dict[str, int]]:\n",
    "    n_docs = len(docs)\n",
    "    docids = sorted(docs.keys())\n",
    "    pbar = tqdm(docids, total=n_docs, desc='Fever corpus dump', unit='doc')\n",
    "    docidn, docoff = np.arange(n_docs), np.full(n_docs, 0, dtype=int)\n",
    "    docid_to_num = {}\n",
    "    with open(docs_fpath, 'w', encoding='utf-8') as f:\n",
    "        for i, docid in enumerate(pbar):\n",
    "            docid_to_num[docid] = docidn[i]\n",
    "            doc = docs[docid]\n",
    "            off = f.tell()\n",
    "            docoff[i] = off\n",
    "            title, text = doc['title'], doc['text']\n",
    "            assert '\\t' not in title and '\\t' not in text\n",
    "            f.write(f'{docidn[i]}\\t{docid}\\t{title}\\t{text}\\n')\n",
    "    df_off = pd.DataFrame({'docidn': docidn, 'offset': docoff})\n",
    "    write_tsv(df_off, docs_off_fpath)\n",
    "    return df_off, docid_to_num\n",
    "\n",
    "df_off, docid_to_num = write_docs(corpus, FEVER_DOCS_FPATH, FEVER_DOCS_OFF_FPATH)"
   ]
  },
  {
   "cell_type": "code",
   "execution_count": 17,
   "metadata": {},
   "outputs": [],
   "source": [
    "def write_qrels(qrels: dict[str, dict[str, int]], docid_to_num: dict[str, int], fpath: Path) -> pd.DataFrame:\n",
    "    qids, dids = [], []\n",
    "    for qid, reldocs in qrels.items():\n",
    "        qid = int(qid)\n",
    "        for docid, num in reldocs.items():\n",
    "            assert num == 1\n",
    "            # This fix is needed to find docid in Fever corpus\n",
    "            if docid[0] == '\"' and docid[-1] == '\"':\n",
    "                docid = docid[1:-1].replace('\"\"', '\"')\n",
    "            docid_num = docid_to_num[docid]\n",
    "            qids.append(qid)\n",
    "            dids.append(docid_num)\n",
    "    df_qrels = pd.DataFrame({'queryid': qids, 'docidn': dids})\n",
    "    write_tsv(df_qrels, fpath)\n",
    "    return df_qrels\n",
    "\n",
    "for split, qrels in fever.relevant_docs.items():\n",
    "    fname = FEVER_QRELS_FPATH.with_suffix('')\n",
    "    fname = f'{fname}_{split}.tsv'\n",
    "    fpath = FEVER_QRELS_FPATH.parent / fname\n",
    "    print(f'Writing {len(qrels)} qrels into {fpath}')\n",
    "    write_qrels(qrels, docid_to_num, fpath)"
   ]
  },
  {
   "cell_type": "markdown",
   "metadata": {},
   "source": [
    "## SadeemQuestionRetrieval"
   ]
  },
  {
   "cell_type": "code",
   "execution_count": 6,
   "metadata": {},
   "outputs": [],
   "source": [
    "from mteb import SadeemQuestionRetrieval"
   ]
  },
  {
   "cell_type": "code",
   "execution_count": 7,
   "metadata": {},
   "outputs": [
    {
     "name": "stdout",
     "output_type": "stream",
     "text": [
      "SadeemQuestionRetrieval(name='SadeemQuestionRetrieval', languages=['ara'])\n"
     ]
    }
   ],
   "source": [
    "ds = SadeemQuestionRetrieval()\n",
    "print(ds)"
   ]
  },
  {
   "cell_type": "code",
   "execution_count": 8,
   "metadata": {},
   "outputs": [
    {
     "data": {
      "application/vnd.jupyter.widget-view+json": {
       "model_id": "c34f541994704266a16dad10d20b95e0",
       "version_major": 2,
       "version_minor": 0
      },
      "text/plain": [
       "Downloading readme:   0%|          | 0.00/614 [00:00<?, ?B/s]"
      ]
     },
     "metadata": {},
     "output_type": "display_data"
    },
    {
     "data": {
      "application/vnd.jupyter.widget-view+json": {
       "model_id": "e53f25aba8cb45b7a2a51d8d8e9c8c44",
       "version_major": 2,
       "version_minor": 0
      },
      "text/plain": [
       "Downloading data:   0%|          | 0.00/27.1k [00:00<?, ?B/s]"
      ]
     },
     "metadata": {},
     "output_type": "display_data"
    },
    {
     "data": {
      "application/vnd.jupyter.widget-view+json": {
       "model_id": "8c4cd6d0b2ba467f886b2979a4921987",
       "version_major": 2,
       "version_minor": 0
      },
      "text/plain": [
       "Downloading data:   0%|          | 0.00/9.89M [00:00<?, ?B/s]"
      ]
     },
     "metadata": {},
     "output_type": "display_data"
    },
    {
     "data": {
      "application/vnd.jupyter.widget-view+json": {
       "model_id": "199141288cc14bfbb2025fc82dc05fea",
       "version_major": 2,
       "version_minor": 0
      },
      "text/plain": [
       "Downloading data:   0%|          | 0.00/152k [00:00<?, ?B/s]"
      ]
     },
     "metadata": {},
     "output_type": "display_data"
    },
    {
     "data": {
      "application/vnd.jupyter.widget-view+json": {
       "model_id": "55fa45ee5a4f49048667c47d1d875788",
       "version_major": 2,
       "version_minor": 0
      },
      "text/plain": [
       "Generating qrels split:   0%|          | 0/2089 [00:00<?, ? examples/s]"
      ]
     },
     "metadata": {},
     "output_type": "display_data"
    },
    {
     "data": {
      "application/vnd.jupyter.widget-view+json": {
       "model_id": "940d9ea97a574ee0bb52a23a3b058868",
       "version_major": 2,
       "version_minor": 0
      },
      "text/plain": [
       "Generating corpus split:   0%|          | 0/22979 [00:00<?, ? examples/s]"
      ]
     },
     "metadata": {},
     "output_type": "display_data"
    },
    {
     "data": {
      "application/vnd.jupyter.widget-view+json": {
       "model_id": "acaa1af42e534774802758ef8200347a",
       "version_major": 2,
       "version_minor": 0
      },
      "text/plain": [
       "Generating queries split:   0%|          | 0/2089 [00:00<?, ? examples/s]"
      ]
     },
     "metadata": {},
     "output_type": "display_data"
    }
   ],
   "source": [
    "ds.load_data()"
   ]
  },
  {
   "cell_type": "code",
   "execution_count": 9,
   "metadata": {},
   "outputs": [
    {
     "name": "stdout",
     "output_type": "stream",
     "text": [
      "test 2089\n",
      "1 ['29'] [1]\n",
      "2 ['50'] [1]\n",
      "3 ['83'] [1]\n"
     ]
    }
   ],
   "source": [
    "for split, item in ds.corpus.items():\n",
    "    reldocs = ds.relevant_docs[split]\n",
    "    print(split, len(reldocs))\n",
    "    for doc_id, doc in itertools.islice(reldocs.items(), 3):\n",
    "        print(doc_id, list(doc.keys()), list(doc.values()))"
   ]
  },
  {
   "cell_type": "code",
   "execution_count": 44,
   "metadata": {},
   "outputs": [],
   "source": [
    "print('splits:', list(ds.corpus.keys()))\n",
    "for split, docs in ds.corpus.items():\n",
    "    print(f'{split}. Docs: {len(docs)}')\n",
    "    docids = itertools.islice(docs.keys(), 2)\n",
    "    for doc_id in docids:\n",
    "        txt = docs[doc_id]['text'].replace('\\n', '\\\\n')\n",
    "        print(f'{split}. {doc_id}. {txt[:200]}')"
   ]
  },
  {
   "cell_type": "code",
   "execution_count": 45,
   "metadata": {},
   "outputs": [],
   "source": [
    "list(ds.relevant_docs['test'].items())[:3]"
   ]
  },
  {
   "cell_type": "markdown",
   "metadata": {},
   "source": [
    "## StackOverflowQARetrieval"
   ]
  },
  {
   "cell_type": "code",
   "execution_count": 10,
   "metadata": {},
   "outputs": [],
   "source": [
    "from mteb import StackOverflowQARetrieval"
   ]
  },
  {
   "cell_type": "code",
   "execution_count": 11,
   "metadata": {},
   "outputs": [
    {
     "data": {
      "application/vnd.jupyter.widget-view+json": {
       "model_id": "87e923bcfcc540fb80d0437c3ba66d91",
       "version_major": 2,
       "version_minor": 0
      },
      "text/plain": [
       "Downloading readme:   0%|          | 0.00/1.30k [00:00<?, ?B/s]"
      ]
     },
     "metadata": {},
     "output_type": "display_data"
    },
    {
     "data": {
      "application/vnd.jupyter.widget-view+json": {
       "model_id": "cb26e100a63e468eb9ca4cfe2c1f16e4",
       "version_major": 2,
       "version_minor": 0
      },
      "text/plain": [
       "Downloading data:   0%|          | 0.00/13.4M [00:00<?, ?B/s]"
      ]
     },
     "metadata": {},
     "output_type": "display_data"
    },
    {
     "data": {
      "application/vnd.jupyter.widget-view+json": {
       "model_id": "c4926239a48b4ebe91871a36fd3cad2c",
       "version_major": 2,
       "version_minor": 0
      },
      "text/plain": [
       "Generating corpus split:   0%|          | 0/19931 [00:00<?, ? examples/s]"
      ]
     },
     "metadata": {},
     "output_type": "display_data"
    },
    {
     "data": {
      "application/vnd.jupyter.widget-view+json": {
       "model_id": "e226f8960f9f4e21b79bf598e61ef660",
       "version_major": 2,
       "version_minor": 0
      },
      "text/plain": [
       "Casting the dataset:   0%|          | 0/19931 [00:00<?, ? examples/s]"
      ]
     },
     "metadata": {},
     "output_type": "display_data"
    },
    {
     "data": {
      "application/vnd.jupyter.widget-view+json": {
       "model_id": "591a38500974466ba35c86ab3dd8d6d6",
       "version_major": 2,
       "version_minor": 0
      },
      "text/plain": [
       "Downloading data:   0%|          | 0.00/14.3M [00:00<?, ?B/s]"
      ]
     },
     "metadata": {},
     "output_type": "display_data"
    },
    {
     "data": {
      "application/vnd.jupyter.widget-view+json": {
       "model_id": "848066a1fcf44ad9aac20777a2e10110",
       "version_major": 2,
       "version_minor": 0
      },
      "text/plain": [
       "Generating queries split:   0%|          | 0/19931 [00:00<?, ? examples/s]"
      ]
     },
     "metadata": {},
     "output_type": "display_data"
    },
    {
     "data": {
      "application/vnd.jupyter.widget-view+json": {
       "model_id": "8fd82e9ebe514e61ad0ee5ffafe9fd14",
       "version_major": 2,
       "version_minor": 0
      },
      "text/plain": [
       "Casting the dataset:   0%|          | 0/19931 [00:00<?, ? examples/s]"
      ]
     },
     "metadata": {},
     "output_type": "display_data"
    },
    {
     "data": {
      "application/vnd.jupyter.widget-view+json": {
       "model_id": "5f53bf6e05d54e93b742a7125cdb92f5",
       "version_major": 2,
       "version_minor": 0
      },
      "text/plain": [
       "Downloading data:   0%|          | 0.00/159k [00:00<?, ?B/s]"
      ]
     },
     "metadata": {},
     "output_type": "display_data"
    },
    {
     "data": {
      "application/vnd.jupyter.widget-view+json": {
       "model_id": "5eeaf5b4e1cb4c49b801cb4c32fd701d",
       "version_major": 2,
       "version_minor": 0
      },
      "text/plain": [
       "Downloading data:   0%|          | 0.00/23.9k [00:00<?, ?B/s]"
      ]
     },
     "metadata": {},
     "output_type": "display_data"
    },
    {
     "data": {
      "application/vnd.jupyter.widget-view+json": {
       "model_id": "e06aa5cda1bc420985aef515c7b9a38d",
       "version_major": 2,
       "version_minor": 0
      },
      "text/plain": [
       "Generating train split:   0%|          | 0/13951 [00:00<?, ? examples/s]"
      ]
     },
     "metadata": {},
     "output_type": "display_data"
    },
    {
     "data": {
      "application/vnd.jupyter.widget-view+json": {
       "model_id": "fbe9d87575ec4eb2a6e9f2376ae53c99",
       "version_major": 2,
       "version_minor": 0
      },
      "text/plain": [
       "Generating test split:   0%|          | 0/1994 [00:00<?, ? examples/s]"
      ]
     },
     "metadata": {},
     "output_type": "display_data"
    },
    {
     "data": {
      "application/vnd.jupyter.widget-view+json": {
       "model_id": "e8c62869ce994a379c0f0fc4f3f3117a",
       "version_major": 2,
       "version_minor": 0
      },
      "text/plain": [
       "Casting the dataset:   0%|          | 0/1994 [00:00<?, ? examples/s]"
      ]
     },
     "metadata": {},
     "output_type": "display_data"
    },
    {
     "data": {
      "application/vnd.jupyter.widget-view+json": {
       "model_id": "0df03063991746f986017ee703447604",
       "version_major": 2,
       "version_minor": 0
      },
      "text/plain": [
       "Map:   0%|          | 0/1994 [00:00<?, ? examples/s]"
      ]
     },
     "metadata": {},
     "output_type": "display_data"
    },
    {
     "data": {
      "application/vnd.jupyter.widget-view+json": {
       "model_id": "18c038da811348e7b1c2cb4f69af88fc",
       "version_major": 2,
       "version_minor": 0
      },
      "text/plain": [
       "Filter:   0%|          | 0/19931 [00:00<?, ? examples/s]"
      ]
     },
     "metadata": {},
     "output_type": "display_data"
    }
   ],
   "source": [
    "ds = StackOverflowQARetrieval()\n",
    "ds.load_data()"
   ]
  },
  {
   "cell_type": "code",
   "execution_count": 12,
   "metadata": {},
   "outputs": [
    {
     "name": "stdout",
     "output_type": "stream",
     "text": [
      "['test']\n"
     ]
    }
   ],
   "source": [
    "print(list(ds.relevant_docs.keys()))\n"
   ]
  },
  {
   "cell_type": "code",
   "execution_count": 15,
   "metadata": {},
   "outputs": [
    {
     "name": "stdout",
     "output_type": "stream",
     "text": [
      "splits: ['test']\n",
      "test. Docs: 19931\n",
      "test. d1. `` The SearchDatabase class that SphinxSearch extends was changed from REL1_31 to REL1_32. It now requires you to define doSearchTextInDB and doSearchTitleInDB methods.\\nSee REL1_31 https://doc.wikimedia\n",
      "test. d2. `` you have to write below way because CTE is part of the SELECT not the UPDATE\\nupdate work_request \\nset name = name || '_old'\\n\\n   where exists (\\n      with wr_double as\\n         (select...)\\n     \n"
     ]
    }
   ],
   "source": [
    "print('splits:', list(ds.corpus.keys()))\n",
    "for split, docs in ds.corpus.items():\n",
    "    print(f'{split}. Docs: {len(docs)}')\n",
    "    docids = itertools.islice(docs.keys(), 2)\n",
    "    for doc_id in docids:\n",
    "        title, text = docs[doc_id]['title'], docs[doc_id]['text']\n",
    "        text = text.replace('\\n', '\\\\n')\n",
    "        print(f'{split}. {doc_id}. `{title[:50]}` {text[:200]}')\n"
   ]
  },
  {
   "cell_type": "code",
   "execution_count": 26,
   "metadata": {},
   "outputs": [],
   "source": [
    "list(ds.relevant_docs['test'].items())[:3]"
   ]
  },
  {
   "cell_type": "markdown",
   "metadata": {},
   "source": [
    "## CodeFeedbackMT"
   ]
  },
  {
   "cell_type": "code",
   "execution_count": 15,
   "metadata": {},
   "outputs": [],
   "source": [
    "from mteb import AILACasedocs"
   ]
  },
  {
   "cell_type": "code",
   "execution_count": 16,
   "metadata": {},
   "outputs": [],
   "source": [
    "from datasets import Split\n",
    "\n",
    "ds = AILACasedocs()\n",
    "# eval_splits = ['train', 'dev', 'test']\n",
    "# eval_splits = [Split.TRAIN, Split.VALIDATION, Split.TEST]\n",
    "# eval_splits = ['test']\n",
    "# ds.load_data(eval_splits=eval_splits)"
   ]
  },
  {
   "cell_type": "code",
   "execution_count": 19,
   "metadata": {},
   "outputs": [
    {
     "name": "stdout",
     "output_type": "stream",
     "text": [
      "splits: ['test']\n",
      "test. Docs: 186\n",
      "test. FCIX3BYOtD. `` Central Inland Water Transport Corporation Limited and Another v Brojo Nath Ganguly and Another\\nSupreme Court of India\\n\\n6 April 1986\\nC.A. No. 4412 and 4413 of 1985\\nThe Judgment was delivered by :\n",
      "test. YsP6ihgIqL. `` West Bengal State Electricity Board and Others v Desh Bandhu Ghosh and Others\\nSupreme Court of India\\n\\n26 February 1985\\nCivil Appeal No. 562 of 1985\\nThe Judgment was delivered by : O. Chinnappa Re\n"
     ]
    }
   ],
   "source": [
    "print('splits:', list(ds.corpus.keys()))\n",
    "for split, docs in ds.corpus.items():\n",
    "    print(f'{split}. Docs: {len(docs)}')\n",
    "    docids = itertools.islice(docs.keys(), 2)\n",
    "    for doc_id in docids:\n",
    "        title, text = docs[doc_id]['title'], docs[doc_id]['text']\n",
    "        text = text.replace('\\n', '\\\\n')\n",
    "        print(f'{split}. {doc_id}. `{title[:50]}` {text[:200]}')"
   ]
  },
  {
   "cell_type": "code",
   "execution_count": 20,
   "metadata": {},
   "outputs": [
    {
     "data": {
      "text/plain": [
       "mteb.tasks.Retrieval.eng.AILACasedocsRetrieval.AILACasedocs"
      ]
     },
     "execution_count": 20,
     "metadata": {},
     "output_type": "execute_result"
    }
   ],
   "source": [
    "type(ds)"
   ]
  },
  {
   "cell_type": "code",
   "execution_count": 22,
   "metadata": {},
   "outputs": [],
   "source": [
    "from mteb.tasks.Retrieval.eng import AILACasedocsRetrieval"
   ]
  },
  {
   "cell_type": "code",
   "execution_count": null,
   "metadata": {},
   "outputs": [],
   "source": []
  },
  {
   "cell_type": "code",
   "execution_count": null,
   "metadata": {},
   "outputs": [],
   "source": []
  },
  {
   "cell_type": "code",
   "execution_count": null,
   "metadata": {},
   "outputs": [],
   "source": []
  }
 ],
 "metadata": {
  "kernelspec": {
   "display_name": "mllm2",
   "language": "python",
   "name": "python3"
  },
  "language_info": {
   "codemirror_mode": {
    "name": "ipython",
    "version": 3
   },
   "file_extension": ".py",
   "mimetype": "text/x-python",
   "name": "python",
   "nbconvert_exporter": "python",
   "pygments_lexer": "ipython3",
   "version": "3.10.14"
  },
  "polyglot_notebook": {
   "kernelInfo": {
    "defaultKernelName": "csharp",
    "items": [
     {
      "aliases": [],
      "name": "csharp"
     }
    ]
   }
  }
 },
 "nbformat": 4,
 "nbformat_minor": 2
}
