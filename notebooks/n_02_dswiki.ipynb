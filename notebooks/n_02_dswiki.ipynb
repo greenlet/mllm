{
 "cells": [
  {
   "cell_type": "code",
   "execution_count": 3,
   "metadata": {},
   "outputs": [],
   "source": [
    "from dataclasses import dataclass\n",
    "import os\n",
    "from pathlib import Path\n",
    "import re\n",
    "\n",
    "import numpy as np\n",
    "\n",
    "from datasets import load_dataset\n",
    "from transformers import AutoTokenizer, PreTrainedTokenizer"
   ]
  },
  {
   "cell_type": "markdown",
   "metadata": {},
   "source": [
    "## Dataset loading"
   ]
  },
  {
   "cell_type": "code",
   "execution_count": 4,
   "metadata": {},
   "outputs": [],
   "source": [
    "DATA_PATH = Path(os.path.expandvars('$HOME')) / 'data'"
   ]
  },
  {
   "cell_type": "code",
   "execution_count": null,
   "metadata": {},
   "outputs": [
    {
     "data": {
      "application/vnd.jupyter.widget-view+json": {
       "model_id": "e418581d25944129b9645a0c6aec736c",
       "version_major": 2,
       "version_minor": 0
      },
      "text/plain": [
       "Downloading data:   0%|          | 0/41 [00:00<?, ?files/s]"
      ]
     },
     "metadata": {},
     "output_type": "display_data"
    },
    {
     "data": {
      "application/vnd.jupyter.widget-view+json": {
       "model_id": "6d744704ddde46d982b0c745b997b0d4",
       "version_major": 2,
       "version_minor": 0
      },
      "text/plain": [
       "train-00000-of-00041.parquet:   1%|          | 10.5M/1.05G [00:00<?, ?B/s]"
      ]
     },
     "metadata": {},
     "output_type": "display_data"
    }
   ],
   "source": [
    "# ds = load_dataset('wikipedia', '20200501.en',  beam_runner='DirectRunner', cache_dir=str(DATA_PATH))\n",
    "ds = load_dataset('wikipedia', '20220301.en', cache_dir=str(DATA_PATH))"
   ]
  },
  {
   "cell_type": "code",
   "execution_count": 4,
   "metadata": {},
   "outputs": [
    {
     "data": {
      "text/plain": [
       "['train']"
      ]
     },
     "execution_count": 4,
     "metadata": {},
     "output_type": "execute_result"
    }
   ],
   "source": [
    "list(ds.keys())"
   ]
  },
  {
   "cell_type": "code",
   "execution_count": 5,
   "metadata": {},
   "outputs": [],
   "source": [
    "dst = ds['train']"
   ]
  },
  {
   "cell_type": "code",
   "execution_count": 6,
   "metadata": {},
   "outputs": [
    {
     "data": {
      "text/plain": [
       "6078422"
      ]
     },
     "execution_count": 6,
     "metadata": {},
     "output_type": "execute_result"
    }
   ],
   "source": [
    "len(dst)"
   ]
  },
  {
   "cell_type": "code",
   "execution_count": 7,
   "metadata": {},
   "outputs": [
    {
     "data": {
      "text/plain": [
       "{'title': 'Overload (novel)',\n",
       " 'text': 'Overload (1979) is a novel by Arthur Hailey, concerning the electricity production industry in California and the activities of the employees and others involved with Golden State Power and Light, a fictional California public service company. The plot follows many of the issues of the day, including race relations, corporate politics, business ethics, terrorism and journalism. (Hailey would later explore (television) journalism in another novel, The Evening News.)\\n\\nPlot Synopsis\\nThe novel is described from the point of view of vice-president of Golden State Power and Light, Nimrod \"Nim\" Goldman, who, despite being married, tends to be somewhat of a Lothario and has many extramarital affairs. The geographic area of service of the fictional electric utility, Golden State Power and Light, matches the actual Northern California footprint of the real-life Pacific Gas and Electric Company.\\n\\nGolden State Power and Light is a public utility, supplying two-thirds of California\\'s electric power. During a hot summer, GSP&L as it is called, loses a major part of its capacity to supply power due to a terrorist attack on its largest \"oil burner\" (an oil-fired power plant), called Big Lil. There is a board meeting about the incident. The chairman of GSP&L, Eric Humphrey, leaves the matter in the hands of Nim Goldman, one of the utility\\'s many vice-presidents, and head of security Ray Paulsen. After the explosion at Big Lil, which killed chief engineer Walter Talbot, Nim visits Ardythe, Walter\\'s widow, and Wally, his son. After some time, Nim and Ardythe make love.\\n\\nAs a result of Nim noticing how some customers were marked for emergency restoration (because they depend on electric power for survival, such as iron lung users and certain disabled persons), utility billing supervisor Teresa Van Buren convinces Nim go visit one of these emergency restoration customers, Karen Sloan, a quadriplegic who uses a portable respirator on her wheelchair, whom he instantly befriends, angering Ruth, his wife and his children Leah and Benjamin. Later, Nim and Harry London, property protection president, go to Brookside, to catch power thieves. And surprisingly, they catch many. Nim later learns that the terrorist attacks were by a group called \"Friends of Freedom\". Later the leader of the group, Georgos Archambault, mails letter bombs and kills five people including utility president Fraser Fenton. Because of this, Nim forms a think group with utility General Counsel Oscar O\\'Brien, Teresa Van Buren and Harry London.\\n\\nLaura Bo Carmichael, chairman of environmental group Sequoia Clubs (a thinly veiled reference to the real-life Sierra Club) meets with Nim to protest the building of three coal-fired plants at Tunipah, Fincastle valley and Devil\\'s Gate, fearing the environmental damage. Not having much experience with coal, Nim decides to take a trip to Colorado and visit a power plant operated by Public Service Company of Colorado (now known as Xcel Energy). Noticing that a worker on the furnace feed conveyor was in danger, Nim instinctively runs down to the plant floor and saves the man from otherwise certain death. A comely young lady who is part of the group saw what happened and decides she wants to invite herself into Nim\\'s bed and offer him sex as a thank you for what he did. When Nim is back in his bedroom a woman slips in, and he discovers it\\'s not the lady who propositioned him, it\\'s the wife of one of the executives of the Colorado electric company where he is staying, who asks Nim to impregnate her so she can have a child (the other executive had privately admitted to Nim that he is \"shooting blanks\", i.e. infertile and unable to get his wife pregnant.) Then, later, the lady who originally wanted to bed Nim arrives, and is able to get Nim to have sex with her as well.\\n\\nReturning to California after his trip, Nim decides the benefits of coal power outweigh the environmental risks, but also decides to continue the startup of other power plants, as a result a geothermal plant at Fincastle and a hydro at Devil\\'s Gate are launched. At Devil\\'s Gate, Nim and the press end up seeing a gruesome electrocution of a plant employee after he tries to save a technician\\'s child (similar to the successful effort of Nim in saving a worker at the Colorado coal plant). A California Examiner (the local newspaper for San Francisco) reporter, Nancy Molineaux, reports Nim to be selfish when she sees him arrive in a utility-owned helicopter. David Birdsong, leader of Power and Light for People, and the Sequoia Club, hold a trial against GSP&L.  Birdsong and Georgos later plan to destroy the power workers, including Nim Goldman who would meet for a conference at a hotel. Unknown to Georgos, Yvette, his mistress, knows of his plans and betrays him to Nancy Molineaux, who reports it to the police thirty-six minutes before the bombs go off. In an attempt to secure the last remaining bomb, Art Romeo, London\\'s assistant, is blown to pieces when the bomb goes off.\\n\\nThe think group, using coded incoming mail, finally arrest David Birdsong and expose Georgos. Georgos attempts to bomb Big Lil, but he is killed by the pump\\'s turbine blades. The plant manager, noticing that someone had gotten into the reservoir, realizes that if the plant is bombed while it is operating, the damage would put the plant out of operation for months, but a bomb when the plant is shut down would only cause minor damage, chooses to shut the plant down, causing a major power shortage. Georgio\\'s corpse floats up after the turbines stop, essentially confirming the manager\\'s concern. This shut down, however, causes a major blackout throughout the region. Karen Sloan dies after her respirator fails due to this power outage. Nim discovers his wife is dying of cancer, and the novel ends as Nim finally befriends Nancy Molineaux and visits her at her house as she offers Nim a one-time opportunity to be her lover.\\n\\nReception\\n\\nKirkus Reviews called the novel \"timely\" and \"certain to move fast\", but also noted that Hailey \"heavily stack(s) the argument against nice-nelly ecologists\".\\n\\nReferences\\n\\nCategory:Novels by Arthur Hailey\\nCategory:1979 British novels\\nCategory:Novels set in California\\nCategory:Doubleday (publisher) books\\nCategory:1979 Canadian novels'}"
      ]
     },
     "execution_count": 7,
     "metadata": {},
     "output_type": "execute_result"
    }
   ],
   "source": [
    "dst[6078421]"
   ]
  },
  {
   "cell_type": "markdown",
   "metadata": {},
   "source": [
    "## Tokenization"
   ]
  },
  {
   "cell_type": "code",
   "execution_count": 11,
   "metadata": {},
   "outputs": [
    {
     "data": {
      "text/plain": [
       "BertTokenizerFast(name_or_path='bert-base-uncased', vocab_size=30522, model_max_length=512, is_fast=True, padding_side='right', truncation_side='right', special_tokens={'unk_token': '[UNK]', 'sep_token': '[SEP]', 'pad_token': '[PAD]', 'cls_token': '[CLS]', 'mask_token': '[MASK]'}, clean_up_tokenization_spaces=True),  added_tokens_decoder={\n",
       "\t0: AddedToken(\"[PAD]\", rstrip=False, lstrip=False, single_word=False, normalized=False, special=True),\n",
       "\t100: AddedToken(\"[UNK]\", rstrip=False, lstrip=False, single_word=False, normalized=False, special=True),\n",
       "\t101: AddedToken(\"[CLS]\", rstrip=False, lstrip=False, single_word=False, normalized=False, special=True),\n",
       "\t102: AddedToken(\"[SEP]\", rstrip=False, lstrip=False, single_word=False, normalized=False, special=True),\n",
       "\t103: AddedToken(\"[MASK]\", rstrip=False, lstrip=False, single_word=False, normalized=False, special=True),\n",
       "}"
      ]
     },
     "execution_count": 11,
     "metadata": {},
     "output_type": "execute_result"
    }
   ],
   "source": [
    "pretrained_model_name = 'bert-base-uncased'\n",
    "tkz = AutoTokenizer.from_pretrained(pretrained_model_name)\n",
    "tkz"
   ]
  },
  {
   "cell_type": "code",
   "execution_count": 13,
   "metadata": {},
   "outputs": [
    {
     "data": {
      "text/plain": [
       "{'title': 'Ollombo District',\n",
       " 'text': 'Ollombo is a district in the Plateaux  Department of Republic of the Congo.\\n\\nReferences \\n\\nCategory:Plateaux Department (Republic of the Congo)\\nCategory:Districts of the Republic of the Congo'}"
      ]
     },
     "execution_count": 13,
     "metadata": {},
     "output_type": "execute_result"
    }
   ],
   "source": [
    "item = dst[10]\n",
    "item"
   ]
  },
  {
   "cell_type": "code",
   "execution_count": 14,
   "metadata": {},
   "outputs": [
    {
     "name": "stdout",
     "output_type": "stream",
     "text": [
      "Ollombo District. Text len: 190\n",
      "['ol', '##lom', '##bo', 'is', 'a', 'district', 'in', 'the', 'plateau', '##x', 'department', 'of', 'republic', 'of', 'the', 'congo', '.', 'references', 'category', ':', 'plateau', '##x', 'department', '(', 'republic', 'of', 'the', 'congo', ')', 'category', ':', 'districts', 'of', 'the', 'republic', 'of', 'the', 'congo']\n"
     ]
    }
   ],
   "source": [
    "title, text = item['title'], item['text']\n",
    "print(f'{title}. Text len: {len(text)}')\n",
    "toks = tkz.tokenize(text)\n",
    "print(toks)"
   ]
  },
  {
   "cell_type": "code",
   "execution_count": 26,
   "metadata": {},
   "outputs": [
    {
     "name": "stdout",
     "output_type": "stream",
     "text": [
      "{'input_ids': [101, 19330, 21297, 5092, 2003, 1037, 2212, 1999, 1996, 9814, 2595, 2533, 1997, 3072, 1997, 1996, 9030, 1012, 7604, 4696, 1024, 9814, 2595, 2533, 1006, 3072, 1997, 1996, 9030, 1007, 4696, 1024, 4733, 1997, 1996, 3072, 1997, 1996, 9030, 102], 'token_type_ids': [0, 0, 0, 0, 0, 0, 0, 0, 0, 0, 0, 0, 0, 0, 0, 0, 0, 0, 0, 0, 0, 0, 0, 0, 0, 0, 0, 0, 0, 0, 0, 0, 0, 0, 0, 0, 0, 0, 0, 0], 'attention_mask': [1, 1, 1, 1, 1, 1, 1, 1, 1, 1, 1, 1, 1, 1, 1, 1, 1, 1, 1, 1, 1, 1, 1, 1, 1, 1, 1, 1, 1, 1, 1, 1, 1, 1, 1, 1, 1, 1, 1, 1]}\n"
     ]
    }
   ],
   "source": [
    "res1 = tkz(text, is_split_into_words=False)\n",
    "print(res1)"
   ]
  },
  {
   "cell_type": "code",
   "execution_count": 27,
   "metadata": {},
   "outputs": [
    {
     "name": "stdout",
     "output_type": "stream",
     "text": [
      "{'input_ids': [101, 19330, 21297, 5092, 2003, 1037, 2212, 1999, 1996, 9814, 2595, 2533, 1997, 3072, 1997, 1996, 9030, 1012, 7604, 4696, 1024, 9814, 2595, 2533, 1006, 3072, 1997, 1996, 9030, 1007, 4696, 1024, 4733, 1997, 1996, 3072, 1997, 1996, 9030, 102], 'token_type_ids': [0, 0, 0, 0, 0, 0, 0, 0, 0, 0, 0, 0, 0, 0, 0, 0, 0, 0, 0, 0, 0, 0, 0, 0, 0, 0, 0, 0, 0, 0, 0, 0, 0, 0, 0, 0, 0, 0, 0, 0], 'attention_mask': [1, 1, 1, 1, 1, 1, 1, 1, 1, 1, 1, 1, 1, 1, 1, 1, 1, 1, 1, 1, 1, 1, 1, 1, 1, 1, 1, 1, 1, 1, 1, 1, 1, 1, 1, 1, 1, 1, 1, 1]}\n"
     ]
    }
   ],
   "source": [
    "res2 = tkz(text.split(), is_split_into_words=True)\n",
    "print(res2)"
   ]
  },
  {
   "cell_type": "code",
   "execution_count": 28,
   "metadata": {},
   "outputs": [
    {
     "data": {
      "text/plain": [
       "True"
      ]
     },
     "execution_count": 28,
     "metadata": {},
     "output_type": "execute_result"
    }
   ],
   "source": [
    "res1 == res2"
   ]
  },
  {
   "cell_type": "code",
   "execution_count": 37,
   "metadata": {},
   "outputs": [
    {
     "name": "stdout",
     "output_type": "stream",
     "text": [
      "['Ollombo', 'is', 'a', 'district', 'in', 'the', 'Plateaux', 'Department', 'of', 'Republic', 'of', 'the', 'Congo.', 'References', 'Category:Plateaux', 'Department', '(Republic', 'of', 'the', 'Congo)', 'Category:Districts', 'of', 'the', 'Republic', 'of', 'the', 'Congo']\n"
     ]
    },
    {
     "data": {
      "text/plain": [
       "{'input_ids': [[19330, 21297, 5092], [2003], [1037], [2212], [1999], [1996], [9814, 2595], [2533], [1997], [3072], [1997], [1996], [9030, 1012], [7604], [4696, 1024, 9814, 2595], [2533], [1006, 3072], [1997], [1996], [9030, 1007], [4696, 1024, 4733], [1997], [1996], [3072], [1997], [1996], [9030]], 'token_type_ids': [[0, 0, 0], [0], [0], [0], [0], [0], [0, 0], [0], [0], [0], [0], [0], [0, 0], [0], [0, 0, 0, 0], [0], [0, 0], [0], [0], [0, 0], [0, 0, 0], [0], [0], [0], [0], [0], [0]], 'attention_mask': [[1, 1, 1], [1], [1], [1], [1], [1], [1, 1], [1], [1], [1], [1], [1], [1, 1], [1], [1, 1, 1, 1], [1], [1, 1], [1], [1], [1, 1], [1, 1, 1], [1], [1], [1], [1], [1], [1]]}"
      ]
     },
     "execution_count": 37,
     "metadata": {},
     "output_type": "execute_result"
    }
   ],
   "source": [
    "res3 = tkz(text.split(), add_special_tokens=False)\n",
    "print(text.split())\n",
    "res3\n"
   ]
  },
  {
   "cell_type": "code",
   "execution_count": 34,
   "metadata": {},
   "outputs": [
    {
     "data": {
      "text/plain": [
       "['ollombo',\n",
       " 'is',\n",
       " 'a',\n",
       " 'district',\n",
       " 'in',\n",
       " 'the',\n",
       " 'plateaux',\n",
       " 'department',\n",
       " 'of',\n",
       " 'republic',\n",
       " 'of',\n",
       " 'the',\n",
       " 'congo.',\n",
       " 'references',\n",
       " 'category : plateaux',\n",
       " 'department',\n",
       " '( republic',\n",
       " 'of',\n",
       " 'the',\n",
       " 'congo )',\n",
       " 'category : districts',\n",
       " 'of',\n",
       " 'the',\n",
       " 'republic',\n",
       " 'of',\n",
       " 'the',\n",
       " 'congo']"
      ]
     },
     "execution_count": 34,
     "metadata": {},
     "output_type": "execute_result"
    }
   ],
   "source": [
    "words3 = tkz.batch_decode(res3.input_ids)\n",
    "words3"
   ]
  },
  {
   "cell_type": "code",
   "execution_count": 36,
   "metadata": {},
   "outputs": [
    {
     "name": "stdout",
     "output_type": "stream",
     "text": [
      "ollombo is a district in the plateaux department of republic of the congo. references category : plateaux department ( republic of the congo ) category : districts of the republic of the congo\n"
     ]
    },
    {
     "data": {
      "text/plain": [
       "True"
      ]
     },
     "execution_count": 36,
     "metadata": {},
     "output_type": "execute_result"
    }
   ],
   "source": [
    "s1 = tkz.decode(res1.input_ids, skip_special_tokens=True)\n",
    "s2 = ' '.join(words3)\n",
    "print(s2)\n",
    "s1 == s2"
   ]
  },
  {
   "cell_type": "code",
   "execution_count": null,
   "metadata": {},
   "outputs": [],
   "source": [
    "tkz.tokenize()"
   ]
  },
  {
   "cell_type": "code",
   "execution_count": 41,
   "metadata": {},
   "outputs": [
    {
     "data": {
      "text/plain": [
       "True"
      ]
     },
     "execution_count": 41,
     "metadata": {},
     "output_type": "execute_result"
    }
   ],
   "source": [
    "pat = re.compile(r'\\b')\n",
    "parts = pat.split(text)\n",
    "''.join(parts) == text"
   ]
  },
  {
   "cell_type": "code",
   "execution_count": 47,
   "metadata": {},
   "outputs": [
    {
     "data": {
      "text/plain": [
       "['ollombo',\n",
       " 'is',\n",
       " 'a',\n",
       " 'district',\n",
       " 'in',\n",
       " 'the',\n",
       " 'plateaux',\n",
       " 'department',\n",
       " 'of',\n",
       " 'republic',\n",
       " 'of',\n",
       " 'the',\n",
       " 'congo',\n",
       " '.',\n",
       " 'references',\n",
       " 'category',\n",
       " ':',\n",
       " 'plateaux',\n",
       " 'department',\n",
       " '(',\n",
       " 'republic',\n",
       " 'of',\n",
       " 'the',\n",
       " 'congo',\n",
       " ')',\n",
       " 'category',\n",
       " ':',\n",
       " 'districts',\n",
       " 'of',\n",
       " 'the',\n",
       " 'republic',\n",
       " 'of',\n",
       " 'the',\n",
       " 'congo']"
      ]
     },
     "execution_count": 47,
     "metadata": {},
     "output_type": "execute_result"
    }
   ],
   "source": [
    "parts_nospace = [p.lower().strip() for p in parts]\n",
    "parts_nospace = filter(None, parts_nospace)\n",
    "parts_nospace = list(parts_nospace)\n",
    "parts_nospace"
   ]
  },
  {
   "cell_type": "code",
   "execution_count": 49,
   "metadata": {},
   "outputs": [
    {
     "data": {
      "text/plain": [
       "False"
      ]
     },
     "execution_count": 49,
     "metadata": {},
     "output_type": "execute_result"
    }
   ],
   "source": [
    "s2 = ' '.join([p.lower() for p in parts_nospace])\n",
    "s1 == s2"
   ]
  },
  {
   "cell_type": "code",
   "execution_count": 50,
   "metadata": {},
   "outputs": [
    {
     "data": {
      "text/plain": [
       "'ollombo is a district in the plateaux department of republic of the congo. references category : plateaux department ( republic of the congo ) category : districts of the republic of the congo'"
      ]
     },
     "execution_count": 50,
     "metadata": {},
     "output_type": "execute_result"
    }
   ],
   "source": [
    "s1"
   ]
  },
  {
   "cell_type": "code",
   "execution_count": 51,
   "metadata": {},
   "outputs": [
    {
     "data": {
      "text/plain": [
       "'ollombo is a district in the plateaux department of republic of the congo . references category : plateaux department ( republic of the congo ) category : districts of the republic of the congo'"
      ]
     },
     "execution_count": 51,
     "metadata": {},
     "output_type": "execute_result"
    }
   ],
   "source": [
    "s2"
   ]
  },
  {
   "cell_type": "code",
   "execution_count": 59,
   "metadata": {},
   "outputs": [
    {
     "data": {
      "text/plain": [
       "[(19330, 'ol'),\n",
       " (21297, '##lom'),\n",
       " (5092, '##bo'),\n",
       " (2003, 'is'),\n",
       " (1037, 'a'),\n",
       " (2212, 'district'),\n",
       " (1999, 'in'),\n",
       " (1996, 'the'),\n",
       " (9814, 'plateau'),\n",
       " (2595, '##x'),\n",
       " (2533, 'department'),\n",
       " (1997, 'of'),\n",
       " (3072, 'republic'),\n",
       " (1997, 'of'),\n",
       " (1996, 'the'),\n",
       " (9030, 'congo'),\n",
       " (1012, '.'),\n",
       " (7604, 'references'),\n",
       " (4696, 'category'),\n",
       " (1024, ':'),\n",
       " (9814, 'plateau'),\n",
       " (2595, '##x'),\n",
       " (2533, 'department'),\n",
       " (1006, '('),\n",
       " (3072, 'republic'),\n",
       " (1997, 'of'),\n",
       " (1996, 'the'),\n",
       " (9030, 'congo'),\n",
       " (1007, ')'),\n",
       " (4696, 'category'),\n",
       " (1024, ':'),\n",
       " (4733, 'districts'),\n",
       " (1997, 'of'),\n",
       " (1996, 'the'),\n",
       " (3072, 'republic'),\n",
       " (1997, 'of'),\n",
       " (1996, 'the'),\n",
       " (9030, 'congo'),\n",
       " (5925, 'abc'),\n",
       " (1001, '#'),\n",
       " (1001, '#'),\n",
       " (1001, '#'),\n",
       " (1001, '#'),\n",
       " (1001, '#'),\n",
       " (1001, '#'),\n",
       " (1001, '#'),\n",
       " (1001, '#'),\n",
       " (22038, 'xx'),\n",
       " (2595, '##x')]"
      ]
     },
     "execution_count": 59,
     "metadata": {},
     "output_type": "execute_result"
    }
   ],
   "source": [
    "s = s1 + ' abc## ## ####xxx'\n",
    "toks_ids = tkz(s, add_special_tokens=False).input_ids\n",
    "toks_str = tkz.convert_ids_to_tokens(toks_ids)\n",
    "assert len(toks_ids) == len(toks_str)\n",
    "ids_to_str = [(tid, tis) for tid, tis in zip(toks_ids, toks_str)]\n",
    "ids_to_str"
   ]
  },
  {
   "cell_type": "code",
   "execution_count": 57,
   "metadata": {},
   "outputs": [
    {
     "data": {
      "text/plain": [
       "'ollombo is a district in the plateaux department of republic of the congo. references category : plateaux department ( republic of the congo ) category : districts of the republic of the congo abc # # # # # # # #'"
      ]
     },
     "execution_count": 57,
     "metadata": {},
     "output_type": "execute_result"
    }
   ],
   "source": [
    "tkz.decode(toks_ids)"
   ]
  },
  {
   "cell_type": "code",
   "execution_count": null,
   "metadata": {},
   "outputs": [],
   "source": [
    "class WordToks:\n",
    "    tkz: PreTrainedTokenizer\n",
    "    s: str\n",
    "    toks_ids: list[int]\n",
    "    toks_strs: list[str]\n",
    "    words_inds_lens: list[tuple[int, int]]\n",
    "    tags_names: list[str] = ['cite_begin', 'cite_end']\n",
    "    tags_dict: dict[str, str]\n",
    "    max_tgt_len_fraq: float\n",
    "    max_tgt_len: int\n",
    "    words_inds_tgt: tuple[int, int]\n",
    "    off_words_tgt: int\n",
    "    n_words_tgt: int\n",
    "\n",
    "    def __init__(self, tkz: PreTrainedTokenizer, s: str, max_tgt_len_fraq: float = 0, max_tgt_len: int = 0):\n",
    "        self.tkz = tkz\n",
    "        self.s = s\n",
    "        self.toks_ids = self.tkz(s, add_special_tokens=False).input_ids\n",
    "        self.toks_strs = self.tkz.convert_ids_to_tokens(self.toks_ids)\n",
    "        self.words_inds_lens = self.calc_inds_lens()\n",
    "        self.tags_dict = {tname: f'<{tname}>' for tname in self.tags_names}\n",
    "        assert max_tgt_len_fraq > 0 or max_tgt_len > 0, \\\n",
    "            f'At least max_tgt_len_fraq (={max_tgt_len_fraq}) or max_tgt_len (={max_tgt_len}) must be positive.'\n",
    "        self.max_tgt_len_fraq = max_tgt_len_fraq\n",
    "        self.max_tgt_len = max_tgt_len\n",
    "        self.words_inds_tgt = self.gen_words_inds()\n",
    "        self.off_words_tgt, self.n_words_tgt = self.gen_words_inds()\n",
    "    \n",
    "    def calc_inds_lens(self) -> list[tuple[int, int]]:\n",
    "        res = []\n",
    "        n_toks_ids, n_toks_strs = len(self.toks_ids), len(self.toks_strs)\n",
    "        assert n_toks_ids == n_toks_strs, f'n_toks_ids (={n_toks_ids}) must be equal to n_toks_strs (={n_toks_strs})'\n",
    "        assert n_toks_ids > 0\n",
    "        assert not self.toks_strs[0].startswith('##'), f'First token cannot start from ##. Tokens: {self.toks_strs}'\n",
    "        if n_toks_ids == 0:\n",
    "            return res\n",
    "        off, len_ = 0, 1\n",
    "        for i in range(1, n_toks_strs):\n",
    "            tok_str = self.toks_strs[i]\n",
    "            if not tok_str.startswith('##'):\n",
    "                res.append((off, len_))\n",
    "                off, len_ = i, 1\n",
    "            len_ += 1\n",
    "        res.append((off, len_))\n",
    "        return res\n",
    "\n",
    "    def gen_words_inds(self) -> tuple[int, int]:\n",
    "        n_words = len(self.words_inds_lens)\n",
    "        if self.max_tgt_len <= 0:\n",
    "            max_len = int(self.max_tgt_len_fraq * n_words)\n",
    "        elif self.max_tgt_len_fraq <= 0:\n",
    "            max_len = self.max_tgt_len\n",
    "        else:\n",
    "            max_len = min(self.max_tgt_len, int(self.max_tgt_len_fraq * n_words))\n",
    "        max_len = min(max_len, int(0.5 * n_words))\n",
    "        max_len = max(max_len, 1)\n",
    "        cite_len = np.random.randint(1, max_len + 1)\n",
    "        n_rest = n_words - cite_len\n",
    "        assert n_rest > 0, f'n_rest (={n_rest}) must be positive.'\n",
    "        off = np.random.randint(n_rest + 1)\n",
    "        return off, n_words\n",
    "    \n",
    "    def create_tgt(self) -> tuple[list[int], list[int]]:\n",
    "        pass\n",
    "        \n",
    "\n",
    "        \n"
   ]
  },
  {
   "cell_type": "code",
   "execution_count": null,
   "metadata": {},
   "outputs": [],
   "source": []
  }
 ],
 "metadata": {
  "kernelspec": {
   "display_name": "mllm",
   "language": "python",
   "name": "python3"
  },
  "language_info": {
   "codemirror_mode": {
    "name": "ipython",
    "version": 3
   },
   "file_extension": ".py",
   "mimetype": "text/x-python",
   "name": "python",
   "nbconvert_exporter": "python",
   "pygments_lexer": "ipython3",
   "version": "3.10.14"
  }
 },
 "nbformat": 4,
 "nbformat_minor": 2
}
