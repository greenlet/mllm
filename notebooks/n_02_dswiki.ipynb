{
 "cells": [
  {
   "cell_type": "code",
   "execution_count": 1,
   "metadata": {},
   "outputs": [],
   "source": [
    "import os\n",
    "from pathlib import Path\n",
    "\n",
    "import numpy as np\n",
    "\n",
    "from datasets import load_dataset"
   ]
  },
  {
   "cell_type": "code",
   "execution_count": 2,
   "metadata": {},
   "outputs": [],
   "source": [
    "DATA_PATH = Path(os.path.expandvars('$HOME')) / 'data'"
   ]
  },
  {
   "cell_type": "code",
   "execution_count": 3,
   "metadata": {},
   "outputs": [
    {
     "name": "stderr",
     "output_type": "stream",
     "text": [
      "Reusing dataset wikipedia (/Users/misha/data/wikipedia/20200501.en/1.0.0/009f923d9b6dd00c00c8cdc7f408f2b47f45dd4f5fb7982a21f9448f4afbe475)\n"
     ]
    },
    {
     "data": {
      "application/vnd.jupyter.widget-view+json": {
       "model_id": "b51577e19f45475680d9c33109b3f1a2",
       "version_major": 2,
       "version_minor": 0
      },
      "text/plain": [
       "  0%|          | 0/1 [00:00<?, ?it/s]"
      ]
     },
     "metadata": {},
     "output_type": "display_data"
    }
   ],
   "source": [
    "ds = load_dataset('wikipedia', '20200501.en',  beam_runner='DirectRunner', cache_dir=str(DATA_PATH))\n",
    "# ds = load_dataset('wikipedia', '20220301.en', cache_dir=str(DATA_PATH))"
   ]
  },
  {
   "cell_type": "code",
   "execution_count": 4,
   "metadata": {},
   "outputs": [
    {
     "data": {
      "text/plain": [
       "['train']"
      ]
     },
     "execution_count": 4,
     "metadata": {},
     "output_type": "execute_result"
    }
   ],
   "source": [
    "list(ds.keys())"
   ]
  },
  {
   "cell_type": "code",
   "execution_count": 5,
   "metadata": {},
   "outputs": [],
   "source": [
    "dst = ds['train']"
   ]
  },
  {
   "cell_type": "code",
   "execution_count": 7,
   "metadata": {},
   "outputs": [
    {
     "data": {
      "text/plain": [
       "6078422"
      ]
     },
     "execution_count": 7,
     "metadata": {},
     "output_type": "execute_result"
    }
   ],
   "source": [
    "len(dst)"
   ]
  },
  {
   "cell_type": "code",
   "execution_count": 11,
   "metadata": {},
   "outputs": [
    {
     "data": {
      "text/plain": [
       "{'title': 'Overload (novel)',\n",
       " 'text': 'Overload (1979) is a novel by Arthur Hailey, concerning the electricity production industry in California and the activities of the employees and others involved with Golden State Power and Light, a fictional California public service company. The plot follows many of the issues of the day, including race relations, corporate politics, business ethics, terrorism and journalism. (Hailey would later explore (television) journalism in another novel, The Evening News.)\\n\\nPlot Synopsis\\nThe novel is described from the point of view of vice-president of Golden State Power and Light, Nimrod \"Nim\" Goldman, who, despite being married, tends to be somewhat of a Lothario and has many extramarital affairs. The geographic area of service of the fictional electric utility, Golden State Power and Light, matches the actual Northern California footprint of the real-life Pacific Gas and Electric Company.\\n\\nGolden State Power and Light is a public utility, supplying two-thirds of California\\'s electric power. During a hot summer, GSP&L as it is called, loses a major part of its capacity to supply power due to a terrorist attack on its largest \"oil burner\" (an oil-fired power plant), called Big Lil. There is a board meeting about the incident. The chairman of GSP&L, Eric Humphrey, leaves the matter in the hands of Nim Goldman, one of the utility\\'s many vice-presidents, and head of security Ray Paulsen. After the explosion at Big Lil, which killed chief engineer Walter Talbot, Nim visits Ardythe, Walter\\'s widow, and Wally, his son. After some time, Nim and Ardythe make love.\\n\\nAs a result of Nim noticing how some customers were marked for emergency restoration (because they depend on electric power for survival, such as iron lung users and certain disabled persons), utility billing supervisor Teresa Van Buren convinces Nim go visit one of these emergency restoration customers, Karen Sloan, a quadriplegic who uses a portable respirator on her wheelchair, whom he instantly befriends, angering Ruth, his wife and his children Leah and Benjamin. Later, Nim and Harry London, property protection president, go to Brookside, to catch power thieves. And surprisingly, they catch many. Nim later learns that the terrorist attacks were by a group called \"Friends of Freedom\". Later the leader of the group, Georgos Archambault, mails letter bombs and kills five people including utility president Fraser Fenton. Because of this, Nim forms a think group with utility General Counsel Oscar O\\'Brien, Teresa Van Buren and Harry London.\\n\\nLaura Bo Carmichael, chairman of environmental group Sequoia Clubs (a thinly veiled reference to the real-life Sierra Club) meets with Nim to protest the building of three coal-fired plants at Tunipah, Fincastle valley and Devil\\'s Gate, fearing the environmental damage. Not having much experience with coal, Nim decides to take a trip to Colorado and visit a power plant operated by Public Service Company of Colorado (now known as Xcel Energy). Noticing that a worker on the furnace feed conveyor was in danger, Nim instinctively runs down to the plant floor and saves the man from otherwise certain death. A comely young lady who is part of the group saw what happened and decides she wants to invite herself into Nim\\'s bed and offer him sex as a thank you for what he did. When Nim is back in his bedroom a woman slips in, and he discovers it\\'s not the lady who propositioned him, it\\'s the wife of one of the executives of the Colorado electric company where he is staying, who asks Nim to impregnate her so she can have a child (the other executive had privately admitted to Nim that he is \"shooting blanks\", i.e. infertile and unable to get his wife pregnant.) Then, later, the lady who originally wanted to bed Nim arrives, and is able to get Nim to have sex with her as well.\\n\\nReturning to California after his trip, Nim decides the benefits of coal power outweigh the environmental risks, but also decides to continue the startup of other power plants, as a result a geothermal plant at Fincastle and a hydro at Devil\\'s Gate are launched. At Devil\\'s Gate, Nim and the press end up seeing a gruesome electrocution of a plant employee after he tries to save a technician\\'s child (similar to the successful effort of Nim in saving a worker at the Colorado coal plant). A California Examiner (the local newspaper for San Francisco) reporter, Nancy Molineaux, reports Nim to be selfish when she sees him arrive in a utility-owned helicopter. David Birdsong, leader of Power and Light for People, and the Sequoia Club, hold a trial against GSP&L.  Birdsong and Georgos later plan to destroy the power workers, including Nim Goldman who would meet for a conference at a hotel. Unknown to Georgos, Yvette, his mistress, knows of his plans and betrays him to Nancy Molineaux, who reports it to the police thirty-six minutes before the bombs go off. In an attempt to secure the last remaining bomb, Art Romeo, London\\'s assistant, is blown to pieces when the bomb goes off.\\n\\nThe think group, using coded incoming mail, finally arrest David Birdsong and expose Georgos. Georgos attempts to bomb Big Lil, but he is killed by the pump\\'s turbine blades. The plant manager, noticing that someone had gotten into the reservoir, realizes that if the plant is bombed while it is operating, the damage would put the plant out of operation for months, but a bomb when the plant is shut down would only cause minor damage, chooses to shut the plant down, causing a major power shortage. Georgio\\'s corpse floats up after the turbines stop, essentially confirming the manager\\'s concern. This shut down, however, causes a major blackout throughout the region. Karen Sloan dies after her respirator fails due to this power outage. Nim discovers his wife is dying of cancer, and the novel ends as Nim finally befriends Nancy Molineaux and visits her at her house as she offers Nim a one-time opportunity to be her lover.\\n\\nReception\\n\\nKirkus Reviews called the novel \"timely\" and \"certain to move fast\", but also noted that Hailey \"heavily stack(s) the argument against nice-nelly ecologists\".\\n\\nReferences\\n\\nCategory:Novels by Arthur Hailey\\nCategory:1979 British novels\\nCategory:Novels set in California\\nCategory:Doubleday (publisher) books\\nCategory:1979 Canadian novels'}"
      ]
     },
     "execution_count": 11,
     "metadata": {},
     "output_type": "execute_result"
    }
   ],
   "source": [
    "dst[6078421]"
   ]
  },
  {
   "cell_type": "code",
   "execution_count": 22,
   "metadata": {},
   "outputs": [
    {
     "name": "stdout",
     "output_type": "stream",
     "text": [
      "Yangliuqing\n",
      "Orana Australia Ltd\n",
      "St. Mary's Church, Sønderborg\n",
      "Kalitta\n",
      "Where Is Freedom?\n",
      "Latin liturgical rites\n",
      "Fernaldia pandurata\n",
      "Chester Earl Merrow\n",
      "Hightech Information System\n",
      "AD 47\n",
      "Ollombo District\n",
      "Yohmor\n",
      "Clancy Rofique\n",
      "List of Punjabi media\n",
      "Nenad Stojanović\n",
      "Canadian Association for Free Expression\n",
      "British Motor Museum\n",
      "World Art Nouveau Day\n",
      "Alyse Black\n",
      "Martin Delaney\n",
      "Leonardo Vinicius Pereira Luiz\n",
      "Dallas Bay Skypark\n",
      "Jason McEndoo\n",
      "Anne Parr, Countess of Pembroke\n",
      "General Luna, Surigao del Norte\n",
      "NGC 319\n",
      "The Wasps\n",
      "Rakha Mines railway station\n",
      "António Garrido (referee)\n",
      "Welding of advanced thermoplastic composites\n"
     ]
    }
   ],
   "source": [
    "for i in range(30):\n",
    "    a = dst[i]\n",
    "    print(a['title'])\n",
    "    # print(len(a['title']), len(a['text'].split()))"
   ]
  },
  {
   "cell_type": "code",
   "execution_count": 16,
   "metadata": {},
   "outputs": [],
   "source": [
    "import numpy as np"
   ]
  },
  {
   "cell_type": "code",
   "execution_count": 23,
   "metadata": {},
   "outputs": [],
   "source": [
    "n = 19697\n",
    "for i in range(2, int(np.floor(np.sqrt(n))) + 1):\n",
    "    if n % i == 0:\n",
    "        print(i)"
   ]
  },
  {
   "cell_type": "code",
   "execution_count": 25,
   "metadata": {},
   "outputs": [
    {
     "name": "stdout",
     "output_type": "stream",
     "text": [
      "DatasetDict({\n",
      "    train: Dataset({\n",
      "        features: ['title', 'text'],\n",
      "        num_rows: 6078422\n",
      "    })\n",
      "})\n"
     ]
    }
   ],
   "source": [
    "print(ds)"
   ]
  },
  {
   "cell_type": "code",
   "execution_count": null,
   "metadata": {},
   "outputs": [],
   "source": []
  },
  {
   "cell_type": "code",
   "execution_count": 11,
   "metadata": {},
   "outputs": [],
   "source": [
    "l = [1, 2]\n",
    "np.random.shuffle(l)"
   ]
  },
  {
   "cell_type": "code",
   "execution_count": 12,
   "metadata": {},
   "outputs": [
    {
     "data": {
      "text/plain": [
       "[1, 2]"
      ]
     },
     "execution_count": 12,
     "metadata": {},
     "output_type": "execute_result"
    }
   ],
   "source": [
    "l"
   ]
  },
  {
   "cell_type": "code",
   "execution_count": null,
   "metadata": {},
   "outputs": [],
   "source": []
  }
 ],
 "metadata": {
  "kernelspec": {
   "display_name": "mllm",
   "language": "python",
   "name": "python3"
  },
  "language_info": {
   "codemirror_mode": {
    "name": "ipython",
    "version": 3
   },
   "file_extension": ".py",
   "mimetype": "text/x-python",
   "name": "python",
   "nbconvert_exporter": "python",
   "pygments_lexer": "ipython3",
   "version": "3.10.13"
  }
 },
 "nbformat": 4,
 "nbformat_minor": 2
}
