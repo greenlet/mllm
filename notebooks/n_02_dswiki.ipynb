{
 "cells": [
  {
   "cell_type": "code",
   "execution_count": 1,
   "metadata": {},
   "outputs": [],
   "source": [
    "%load_ext autoreload\n",
    "%autoreload 2"
   ]
  },
  {
   "cell_type": "code",
   "execution_count": 2,
   "metadata": {},
   "outputs": [],
   "source": [
    "from dataclasses import dataclass\n",
    "from functools import partial\n",
    "import os\n",
    "from pathlib import Path\n",
    "import re\n",
    "import sys\n",
    "from typing import Dict, List, Optional, Tuple, Any\n",
    "\n",
    "if '..' not in sys.path: sys.path.append('..')\n",
    "\n",
    "import numpy as np\n",
    "\n",
    "from datasets import load_dataset\n",
    "from transformers import AutoTokenizer, PreTrainedTokenizer\n",
    "\n",
    "import torch\n",
    "\n",
    "# from mllm.train.utils import WordToks"
   ]
  },
  {
   "cell_type": "markdown",
   "metadata": {},
   "source": [
    "## Dataset loading"
   ]
  },
  {
   "cell_type": "code",
   "execution_count": 36,
   "metadata": {},
   "outputs": [
    {
     "name": "stdout",
     "output_type": "stream",
     "text": [
      "DATA_PATH: Q:\\data\n"
     ]
    }
   ],
   "source": [
    "DATA_PATH = Path(os.path.expandvars('$HOME')) / 'data'\n",
    "DATA_PATH = Path('Q:/data')\n",
    "print(f\"DATA_PATH: {DATA_PATH}\")"
   ]
  },
  {
   "cell_type": "code",
   "execution_count": 4,
   "metadata": {},
   "outputs": [
    {
     "data": {
      "application/vnd.jupyter.widget-view+json": {
       "model_id": "401b5512b2af42f48c896dfe45b53238",
       "version_major": 2,
       "version_minor": 0
      },
      "text/plain": [
       "Loading dataset shards:   0%|          | 0/41 [00:00<?, ?it/s]"
      ]
     },
     "metadata": {},
     "output_type": "display_data"
    }
   ],
   "source": [
    "# ds = load_dataset('wikipedia', '20200501.en',  beam_runner='DirectRunner', cache_dir=str(DATA_PATH), trust_remote_code=True)\n",
    "ds = load_dataset('wikipedia', '20220301.en', cache_dir=str(DATA_PATH), trust_remote_code=True)\n",
    "# ds = load_dataset('wikipedia', '20220301.en', cache_dir=str(DATA_PATH))"
   ]
  },
  {
   "cell_type": "code",
   "execution_count": 5,
   "metadata": {},
   "outputs": [
    {
     "data": {
      "text/plain": [
       "['train']"
      ]
     },
     "execution_count": 5,
     "metadata": {},
     "output_type": "execute_result"
    }
   ],
   "source": [
    "list(ds.keys())"
   ]
  },
  {
   "cell_type": "code",
   "execution_count": 6,
   "metadata": {},
   "outputs": [],
   "source": [
    "dst = ds['train']"
   ]
  },
  {
   "cell_type": "code",
   "execution_count": 7,
   "metadata": {},
   "outputs": [
    {
     "data": {
      "text/plain": [
       "6458670"
      ]
     },
     "execution_count": 7,
     "metadata": {},
     "output_type": "execute_result"
    }
   ],
   "source": [
    "len(dst)"
   ]
  },
  {
   "cell_type": "code",
   "execution_count": 9,
   "metadata": {},
   "outputs": [
    {
     "data": {
      "text/plain": [
       "{'title': 'Overload (novel)',\n",
       " 'text': 'Overload (1979) is a novel by Arthur Hailey, concerning the electricity production industry in California and the activities of the employees and others involved with Golden State Power and Light, a fictional California public service company. The plot follows many of the issues of the day, including race relations, corporate politics, business ethics, terrorism and journalism. (Hailey would later explore (television) journalism in another novel, The Evening News.)\\n\\nPlot Synopsis\\nThe novel is described from the point of view of vice-president of Golden State Power and Light, Nimrod \"Nim\" Goldman, who, despite being married, tends to be somewhat of a Lothario and has many extramarital affairs. The geographic area of service of the fictional electric utility, Golden State Power and Light, matches the actual Northern California footprint of the real-life Pacific Gas and Electric Company.\\n\\nGolden State Power and Light is a public utility, supplying two-thirds of California\\'s electric power. During a hot summer, GSP&L as it is called, loses a major part of its capacity to supply power due to a terrorist attack on its largest \"oil burner\" (an oil-fired power plant), called Big Lil. There is a board meeting about the incident. The chairman of GSP&L, Eric Humphrey, leaves the matter in the hands of Nim Goldman, one of the utility\\'s many vice-presidents, and head of security Ray Paulsen. After the explosion at Big Lil, which killed chief engineer Walter Talbot, Nim visits Ardythe, Walter\\'s widow, and Wally, his son. After some time, Nim and Ardythe make love.\\n\\nAs a result of Nim noticing how some customers were marked for emergency restoration (because they depend on electric power for survival, such as iron lung users and certain disabled persons), utility billing supervisor Teresa Van Buren convinces Nim go visit one of these emergency restoration customers, Karen Sloan, a quadriplegic who uses a portable respirator on her wheelchair, whom he instantly befriends, angering Ruth, his wife and his children Leah and Benjamin. Later, Nim and Harry London, property protection president, go to Brookside, to catch power thieves. And surprisingly, they catch many. Nim later learns that the terrorist attacks were by a group called \"Friends of Freedom\". Later the leader of the group, Georgos Archambault, mails letter bombs and kills five people including utility president Fraser Fenton. Because of this, Nim forms a think group with utility General Counsel Oscar O\\'Brien, Teresa Van Buren and Harry London.\\n\\nLaura Bo Carmichael, chairman of environmental group Sequoia Clubs (a thinly veiled reference to the real-life Sierra Club) meets with Nim to protest the building of three coal-fired plants at Tunipah, Fincastle valley and Devil\\'s Gate, fearing the environmental damage. Not having much experience with coal, Nim decides to take a trip to Colorado and visit a power plant operated by Public Service Company of Colorado (now known as Xcel Energy). Noticing that a worker on the furnace feed conveyor was in danger, Nim instinctively runs down to the plant floor and saves the man from otherwise certain death. A comely young lady who is part of the group saw what happened and decides she wants to invite herself into Nim\\'s bed and offer him sex as a thank you for what he did. When Nim is back in his bedroom a woman slips in, and he discovers it\\'s not the lady who propositioned him, it\\'s the wife of one of the executives of the Colorado electric company where he is staying, who asks Nim to impregnate her so she can have a child (the other executive had privately admitted to Nim that he is \"shooting blanks\", i.e. infertile and unable to get his wife pregnant.) Then, later, the lady who originally wanted to bed Nim arrives, and is able to get Nim to have sex with her as well.\\n\\nReturning to California after his trip, Nim decides the benefits of coal power outweigh the environmental risks, but also decides to continue the startup of other power plants, as a result a geothermal plant at Fincastle and a hydro at Devil\\'s Gate are launched. At Devil\\'s Gate, Nim and the press end up seeing a gruesome electrocution of a plant employee after he tries to save a technician\\'s child (similar to the successful effort of Nim in saving a worker at the Colorado coal plant). A California Examiner (the local newspaper for San Francisco) reporter, Nancy Molineaux, reports Nim to be selfish when she sees him arrive in a utility-owned helicopter. David Birdsong, leader of Power and Light for People, and the Sequoia Club, hold a trial against GSP&L.  Birdsong and Georgos later plan to destroy the power workers, including Nim Goldman who would meet for a conference at a hotel. Unknown to Georgos, Yvette, his mistress, knows of his plans and betrays him to Nancy Molineaux, who reports it to the police thirty-six minutes before the bombs go off. In an attempt to secure the last remaining bomb, Art Romeo, London\\'s assistant, is blown to pieces when the bomb goes off.\\n\\nThe think group, using coded incoming mail, finally arrest David Birdsong and expose Georgos. Georgos attempts to bomb Big Lil, but he is killed by the pump\\'s turbine blades. The plant manager, noticing that someone had gotten into the reservoir, realizes that if the plant is bombed while it is operating, the damage would put the plant out of operation for months, but a bomb when the plant is shut down would only cause minor damage, chooses to shut the plant down, causing a major power shortage. Georgio\\'s corpse floats up after the turbines stop, essentially confirming the manager\\'s concern. This shut down, however, causes a major blackout throughout the region. Karen Sloan dies after her respirator fails due to this power outage. Nim discovers his wife is dying of cancer, and the novel ends as Nim finally befriends Nancy Molineaux and visits her at her house as she offers Nim a one-time opportunity to be her lover.\\n\\nReception\\n\\nKirkus Reviews called the novel \"timely\" and \"certain to move fast\", but also noted that Hailey \"heavily stack(s) the argument against nice-nelly ecologists\".\\n\\nReferences\\n\\nCategory:Novels by Arthur Hailey\\nCategory:1979 British novels\\nCategory:Novels set in California\\nCategory:Doubleday (publisher) books\\nCategory:1979 Canadian novels'}"
      ]
     },
     "execution_count": 9,
     "metadata": {},
     "output_type": "execute_result"
    }
   ],
   "source": [
    "dst[6078421]"
   ]
  },
  {
   "cell_type": "code",
   "execution_count": 10,
   "metadata": {},
   "outputs": [
    {
     "data": {
      "text/plain": [
       "['title', 'text']"
      ]
     },
     "execution_count": 10,
     "metadata": {},
     "output_type": "execute_result"
    }
   ],
   "source": [
    "dst.column_names"
   ]
  },
  {
   "cell_type": "markdown",
   "metadata": {},
   "source": [
    "## Tokenization"
   ]
  },
  {
   "cell_type": "code",
   "execution_count": 8,
   "metadata": {},
   "outputs": [
    {
     "data": {
      "text/plain": [
       "BertTokenizerFast(name_or_path='bert-base-uncased', vocab_size=30522, model_max_length=512, is_fast=True, padding_side='right', truncation_side='right', special_tokens={'unk_token': '[UNK]', 'sep_token': '[SEP]', 'pad_token': '[PAD]', 'cls_token': '[CLS]', 'mask_token': '[MASK]'}, clean_up_tokenization_spaces=False, added_tokens_decoder={\n",
       "\t0: AddedToken(\"[PAD]\", rstrip=False, lstrip=False, single_word=False, normalized=False, special=True),\n",
       "\t100: AddedToken(\"[UNK]\", rstrip=False, lstrip=False, single_word=False, normalized=False, special=True),\n",
       "\t101: AddedToken(\"[CLS]\", rstrip=False, lstrip=False, single_word=False, normalized=False, special=True),\n",
       "\t102: AddedToken(\"[SEP]\", rstrip=False, lstrip=False, single_word=False, normalized=False, special=True),\n",
       "\t103: AddedToken(\"[MASK]\", rstrip=False, lstrip=False, single_word=False, normalized=False, special=True),\n",
       "}\n",
       ")"
      ]
     },
     "execution_count": 8,
     "metadata": {},
     "output_type": "execute_result"
    }
   ],
   "source": [
    "pretrained_model_name = 'bert-base-uncased'\n",
    "tkz = AutoTokenizer.from_pretrained(pretrained_model_name)\n",
    "tkz"
   ]
  },
  {
   "cell_type": "code",
   "execution_count": 30,
   "metadata": {},
   "outputs": [
    {
     "data": {
      "text/plain": [
       "{'id': '569',\n",
       " 'url': 'https://en.wikipedia.org/wiki/Anthropology',\n",
       " 'title': 'Anthropology',\n",
       " 'text': 'Anthropology is the scientific study of humanity, concerned with human behavior, human biology, cultures, societies, and linguistics, in both the present and past, including past human species. Social anthropology studies patterns of behaviour, while cultural anthropology studies cultural meaning, including norms and values. A portmanteau sociocultural anthropology is commonly used today. Linguistic anthropology studies how language influences social life. Biological or physical anthropology studies the biological development of humans.\\n\\nArchaeological anthropology, often termed as \\'anthropology of the past\\', studies human activity through investigation of physical evidence. It is considered a branch of anthropology in North America and Asia, while in Europe archaeology is viewed as a discipline in its own right or grouped under other related disciplines, such as history.\\n\\nEtymology\\nThe abstract noun anthropology is first attested in reference to history. Its present use first appeared in Renaissance Germany in the works of Magnus Hundt and Otto Casmann. Their New Latin  derived from the combining forms of the Greek words ánthrōpos (, \"human\") and lógos (, \"study\"). (Its adjectival form appeared in the works of Aristotle.) It began to be used in English, possibly via French , by the early 18th century.\\n\\nHistory\\n\\nThrough the 19th century\\nIn 1647, the Bartholins, founders of the University of Copenhagen, defined  as follows:\\n\\nSporadic use of the term for some of the subject matter occurred subsequently, such as the use by Étienne Serres in 1839 to describe the natural history, or paleontology, of man, based on comparative anatomy, and the creation of a chair in anthropology and ethnography in 1850 at the French National Museum of Natural History by Jean Louis Armand de Quatrefages de Bréau. Various short-lived organizations of anthropologists had already been formed. The Société Ethnologique de Paris, the first to use the term ethnology, was formed in 1839. Its members were primarily anti-slavery activists. When slavery was abolished in France in 1848, the Société was abandoned.\\n\\nMeanwhile, the Ethnological Society of New York, currently the American Ethnological Society, was founded on its model in 1842, as well as the Ethnological Society of London in 1843, a break-away group of the Aborigines\\' Protection Society. These anthropologists of the times were liberal, anti-slavery, and pro-human-rights activists. They maintained international connections.\\n\\nAnthropology and many other current fields are the intellectual results of the comparative methods developed in the earlier 19th century. Theorists in such diverse fields as anatomy, linguistics, and ethnology, making feature-by-feature comparisons of their subject matters, were beginning to suspect that similarities between animals, languages, and folkways were the result of processes or laws unknown to them then. For them, the publication of Charles Darwin\\'s On the Origin of Species was the epiphany of everything they had begun to suspect. Darwin himself arrived at his conclusions through comparison of species he had seen in agronomy and in the wild.\\n\\nDarwin and Wallace unveiled evolution in the late 1850s. There was an immediate rush to bring it into the social sciences. Paul Broca in Paris was in the process of breaking away from the Société de biologie to form the first of the explicitly anthropological societies, the Société d\\'Anthropologie de Paris, meeting for the first time in Paris in 1859. When he read Darwin, he became an immediate convert to Transformisme, as the French called evolutionism. His definition now became \"the study of the human group, considered as a whole, in its details, and in relation to the rest of nature\".\\n\\nBroca, being what today would be called a neurosurgeon, had taken an interest in the pathology of speech. He wanted to localize the difference between man and the other animals, which appeared to reside in speech. He discovered the speech center of the human brain, today called Broca\\'s area after him. His interest was mainly in Biological anthropology, but a German philosopher specializing in psychology, Theodor Waitz, took up the theme of general and social anthropology in his six-volume work, entitled Die Anthropologie der Naturvölker, 1859–1864. The title was soon translated as \"The Anthropology of Primitive Peoples\". The last two volumes were published posthumously.\\n\\nWaitz defined anthropology as \"the science of the nature of man\". Following Broca\\'s lead, Waitz points out that anthropology is a new field, which would gather material from other fields, but would differ from them in the use of comparative anatomy, physiology, and psychology to differentiate man from \"the animals nearest to him\". He stresses that the data of comparison must be empirical, gathered by experimentation. The history of civilization, as well as ethnology, are to be brought into the comparison. It is to be presumed fundamentally that the species, man, is a unity, and that \"the same laws of thought are applicable to all men\".\\n\\nWaitz was influential among British ethnologists. In 1863, the explorer Richard Francis Burton and the speech therapist James Hunt broke away from the Ethnological Society of London to form the Anthropological Society of London, which henceforward would follow the path of the new anthropology rather than just ethnology. It was the 2nd society dedicated to general anthropology in existence. Representatives from the French Société were present, though not Broca. In his keynote address, printed in the first volume of its new publication, The Anthropological Review, Hunt stressed the work of Waitz, adopting his definitions as a standard. Among the first associates were the young Edward Burnett Tylor, inventor of cultural anthropology, and his brother Alfred Tylor, a geologist. Previously Edward had referred to himself as an ethnologist; subsequently, an anthropologist.\\n\\nSimilar organizations in other countries followed: The Anthropological Society of Madrid (1865), the American Anthropological Association in 1902, the Anthropological Society of Vienna (1870), the Italian Society of Anthropology and Ethnology (1871), and many others subsequently. The majority of these were evolutionists. One notable exception was the Berlin Society for Anthropology, Ethnology, and Prehistory (1869) founded by Rudolph Virchow, known for his vituperative attacks on the evolutionists. Not religious himself, he insisted that Darwin\\'s conclusions lacked empirical foundation.\\n\\nDuring the last three decades of the 19th century, a proliferation of anthropological societies and associations occurred, most independent, most publishing their own journals, and all international in membership and association. The major theorists belonged to these organizations. They supported the gradual osmosis of anthropology curricula into the major institutions of higher learning. By 1898, 48 educational institutions in 13 countries had some curriculum in anthropology. None of the 75 faculty members were under a department named anthropology.\\n\\n20th and 21st centuries\\nThis meager statistic expanded in the 20th century to comprise anthropology departments in the majority of the world\\'s higher educational institutions, many thousands in number. Anthropology has diversified from a few major subdivisions to dozens more. Practical anthropology, the use of anthropological knowledge and technique to solve specific problems, has arrived; for example, the presence of buried victims might stimulate the use of a forensic archaeologist to recreate the final scene. The organization has reached a global level. For example, the World Council of Anthropological Associations (WCAA), \"a network of national, regional and international associations that aims to promote worldwide communication and cooperation in anthropology\", currently contains members from about three dozen nations.\\n\\nSince the work of Franz Boas and Bronisław Malinowski in the late 19th and early 20th centuries, social anthropology in Great Britain and cultural anthropology in the US have been distinguished from other social sciences by their emphasis on cross-cultural comparisons, long-term in-depth examination of context, and the importance they place on participant-observation or experiential immersion in the area of research. Cultural anthropology, in particular, has emphasized cultural relativism, holism, and the use of findings to frame cultural critiques. This has been particularly prominent in the United States, from Boas\\' arguments against 19th-century racial ideology, through Margaret Mead\\'s advocacy for gender equality and sexual liberation, to current criticisms of post-colonial oppression and promotion of multiculturalism. Ethnography is one of its primary research designs as well as the text that is generated from anthropological fieldwork.\\n\\nIn Great Britain and the Commonwealth countries, the British tradition of social anthropology tends to dominate. In the United States, anthropology has traditionally been divided into the four field approach developed by Franz Boas in the early 20th century: biological or physical anthropology; social, cultural, or sociocultural anthropology; and archaeological anthropology; plus linguistic anthropology. These fields frequently overlap but tend to use different methodologies and techniques.\\n\\nEuropean countries with overseas colonies tended to practice more ethnology (a term coined and defined by Adam F. Kollár in 1783). It is sometimes referred to as sociocultural anthropology in the parts of the world that were influenced by the European tradition.\\n\\nFields\\n\\nAnthropology is a global discipline involving humanities, social sciences and natural sciences. Anthropology builds upon knowledge from natural sciences, including the discoveries about the origin and evolution of Homo sapiens, human physical traits, human behavior, the variations among different groups of humans, how the evolutionary past of Homo sapiens has influenced its social organization and culture, and from social sciences, including the organization of human social and cultural relations, institutions, social conflicts, etc. Early anthropology originated in Classical Greece and Persia and studied and tried to understand observable cultural diversity, such as by Al-Biruni of the Islamic Golden Age. As such, anthropology has been central in the development of several new (late 20th century) interdisciplinary fields such as cognitive science, global studies, and various ethnic studies.\\n\\nAccording to Clifford Geertz,\\n\\nSociocultural anthropology has been heavily influenced by structuralist and postmodern theories, as well as a shift toward the analysis of modern societies. During the 1970s and 1990s, there was an epistemological shift away from the positivist traditions that had largely informed the discipline. During this shift, enduring questions about the nature and production of knowledge came to occupy a central place in cultural and social anthropology. In contrast, archaeology and biological anthropology remained largely positivist. Due to this difference in epistemology, the four sub-fields of anthropology have lacked cohesion over the last several decades.\\n\\nSociocultural\\n\\nSociocultural anthropology draws together the principle axes of cultural anthropology and social anthropology. Cultural anthropology is the comparative study of the manifold ways in which people make sense of the world around them, while social anthropology is the study of the relationships among individuals and groups. Cultural anthropology is more related to philosophy, literature and the arts (how one\\'s culture affects the experience for self and group, contributing to a more complete understanding of the people\\'s knowledge, customs, and institutions), while social anthropology is more related to sociology and history. In that, it helps develop an understanding of social structures, typically of others and other populations (such as minorities, subgroups, dissidents, etc.). There is no hard-and-fast distinction between them, and these categories overlap to a considerable degree.\\n\\nInquiry in sociocultural anthropology is guided in part by cultural relativism, the attempt to understand other societies in terms of their own cultural symbols and values. Accepting other cultures in their own terms moderates reductionism in cross-cultural comparison. This project is often accommodated in the field of ethnography. Ethnography can refer to both a methodology and the product of ethnographic research, i.e. an ethnographic monograph. As a methodology, ethnography is based upon long-term fieldwork within a community or other research site. Participant observation is one of the foundational methods of social and cultural anthropology. Ethnology involves the systematic comparison of different cultures. The process of participant-observation can be especially helpful to understanding a culture from an emic (conceptual, vs. etic, or technical) point of view.\\n\\nThe study of kinship and social organization is a central focus of sociocultural anthropology, as kinship is a human universal. Sociocultural anthropology also covers economic and political organization, law and conflict resolution, patterns of consumption and exchange, material culture, technology, infrastructure, gender relations, ethnicity, childrearing and socialization, religion, myth, symbols, values, etiquette, worldview, sports, music, nutrition, recreation, games, food, festivals, and language (which is also the object of study in linguistic anthropology).\\n\\nComparison across cultures is a key element of method in sociocultural anthropology, including the industrialized (and de-industrialized) West. The Standard Cross-Cultural Sample (SCCS) includes 186 such cultures.\\n\\nBiological\\n\\nBiological anthropology and physical anthropology are synonymous terms to describe anthropological research focused on the study of humans and non-human primates in their biological, evolutionary, and demographic dimensions. It examines the biological and social factors that have affected the evolution of humans and other primates, and that generate, maintain or change contemporary genetic and physiological variation.\\n\\nArchaeological\\n\\nArchaeology is the study of the human past through its material remains. Artifacts, faunal remains, and human altered landscapes are evidence of the cultural and material lives of past societies. Archaeologists examine material remains in order to deduce patterns of past human behavior and cultural practices. Ethnoarchaeology is a type of archaeology that studies the practices and material remains of living human groups in order to gain a better understanding of the evidence left behind by past human groups, who are presumed to have lived in similar ways.\\n\\nLinguistic\\n\\nLinguistic anthropology (not to be confused with anthropological linguistics) seeks to understand the processes of human communications, verbal and non-verbal, variation in language across time and space, the social uses of language, and the relationship between language and culture. It is the branch of anthropology that brings linguistic methods to bear on anthropological problems, linking the analysis of linguistic forms and processes to the interpretation of sociocultural processes. Linguistic anthropologists often draw on related fields including sociolinguistics, pragmatics, cognitive linguistics, semiotics, discourse analysis, and narrative analysis.\\n\\nEthnography \\nEthnography is a method of analysing social or cultural interaction. It often involves participant observation though an ethnographer may also draw from texts written by participants of in social interactions. Ethnography views first-hand experience and social context as important.\\n\\nTim Ingold distinguishes ethnography from anthropology arguing that anthropology tries to construct general theories of human experience, applicable in general and novel settings, while ethnography concerns itself with fidelity. He argues that the anthropologist must make his writing consistent with their understanding of literature and other theory, but notes that ethnography may be of use to the anthropologists and the fields inform one another.\\n\\nKey topics by field: sociocultural\\n\\nArt, media, music, dance and film\\n\\nArt \\n\\nOne of the central problems in the anthropology of art concerns the universality of \\'art\\' as a cultural phenomenon. Several anthropologists have noted that the Western categories of \\'painting\\', \\'sculpture\\', or \\'literature\\', conceived as independent artistic activities, do not exist, or exist in a significantly different form, in most non-Western contexts. To surmount this difficulty, anthropologists of art have focused on formal features in objects which, without exclusively being \\'artistic\\', have certain evident \\'aesthetic\\' qualities. Boas\\' Primitive Art, Claude Lévi-Strauss\\' The Way of the Masks (1982) or Geertz\\'s \\'Art as Cultural System\\' (1983) are some examples in this trend to transform the anthropology of \\'art\\' into an anthropology of culturally specific \\'aesthetics\\'.\\n\\nMedia \\n\\nMedia anthropology (also known as the anthropology of media or mass media) emphasizes ethnographic studies as a means of understanding producers, audiences, and other cultural and social aspects of mass media. The types of ethnographic contexts explored range from contexts of media production (e.g., ethnographies of newsrooms in newspapers, journalists in the field, film production) to contexts of media reception, following audiences in their everyday responses to media. Other types include cyber anthropology, a relatively new area of internet research, as well as ethnographies of other areas of research which happen to involve media, such as development work, social movements, or health education. This is in addition to many classic ethnographic contexts, where media such as radio, the press, new media, and television have started to make their presences felt since the early 1990s.\\n\\nMusic \\n\\nEthnomusicology is an academic field encompassing various approaches to the study of music (broadly defined), that emphasize its cultural, social, material, cognitive, biological, and other dimensions or contexts instead of or in addition to its isolated sound component or any particular repertoire.\\n\\nEthnomusicology can be used in a wide variety of fields, such as teaching, politics, cultural anthropology etc.\\xa0 While the origins of ethnomusicology date back to the 18th and 19th centuries, it was formally introduced as “ethnomusicology” by Dutch scholar Jaap Kunst around 1950. Later, the influence of study in this area spawned the creation of the periodical Ethnomusicology and the Society of Ethnomusicology.\\n\\nVisual \\n\\nVisual anthropology is concerned, in part, with the study and production of ethnographic photography, film and, since the mid-1990s, new media. While the term is sometimes used interchangeably with ethnographic film, visual anthropology also encompasses the anthropological study of visual representation, including areas such as performance, museums, art, and the production and reception of mass media. Visual representations from all cultures, such as sandpaintings, tattoos, sculptures and reliefs, cave paintings, scrimshaw, jewelry, hieroglyphics, paintings, and photographs are included in the focus of visual anthropology.\\n\\nEconomic, political economic, applied and development\\n\\nEconomic \\n\\nEconomic anthropology attempts to explain human economic behavior in its widest historic, geographic and cultural scope. It has a complex relationship with the discipline of economics, of which it is highly critical. Its origins as a sub-field of anthropology begin with the Polish-British founder of anthropology, Bronisław Malinowski, and his French compatriot, Marcel Mauss, on the nature of gift-giving exchange (or reciprocity) as an alternative to market exchange. Economic Anthropology remains, for the most part, focused upon exchange. The school of thought derived from Marx and known as Political Economy focuses on production, in contrast. Economic anthropologists have abandoned the primitivist niche they were relegated to by economists, and have now turned to examine corporations, banks, and the global financial system from an anthropological perspective.\\n\\nPolitical economy\\n\\nPolitical economy in anthropology is the application of the theories and methods of historical materialism to the traditional concerns of anthropology, including, but not limited to, non-capitalist societies. Political economy introduced questions of history and colonialism to ahistorical anthropological theories of social structure and culture. Three main areas of interest rapidly developed. The first of these areas was concerned with the \"pre-capitalist\" societies that were subject to evolutionary \"tribal\" stereotypes. Sahlin\\'s work on hunter-gatherers as the \"original affluent society\" did much to dissipate that image. The second area was concerned with the vast majority of the world\\'s population at the time, the peasantry, many of whom were involved in complex revolutionary wars such as in Vietnam. The third area was on colonialism, imperialism, and the creation of the capitalist world-system. More recently, these political economists have more directly addressed issues of industrial (and post-industrial) capitalism around the world.\\n\\nApplied \\n\\nApplied anthropology refers to the application of the method and theory of anthropology to the analysis and solution of practical problems. It is a \"complex of related, research-based, instrumental methods which produce change or stability in specific cultural systems through the provision of data, initiation of direct action, and/or the formulation of policy\". More simply, applied anthropology is the practical side of anthropological research; it includes researcher involvement and activism within the participating community. It is closely related to development anthropology (distinct from the more critical anthropology of development).\\n\\nDevelopment\\n\\nAnthropology of development tends to view development from a critical perspective. The kind of issues addressed and implications for the approach simply involve pondering why, if a key development goal is to alleviate poverty, is poverty increasing? Why is there such a gap between plans and outcomes? Why are those working in development so willing to disregard history and the lessons it might offer? Why is development so externally driven rather than having an internal basis? In short, why does so much planned development fail?\\n\\nKinship, feminism, gender and sexuality\\n\\nKinship \\n\\nKinship can refer both to the study of the patterns of social relationships in one or more human cultures, or it can refer to the patterns of social relationships themselves. Over its history, anthropology has developed a number of related concepts and terms, such as \"descent\", \"descent groups\", \"lineages\", \"affines\", \"cognates\", and even \"fictive kinship\". Broadly, kinship patterns may be considered to include people related both by descent (one\\'s social relations during development), and also relatives by marriage. Within kinship you have two different families. People have their biological families and it is the people they share DNA with. This is called consanguineal relations or \"blood ties\". People can also have a chosen family Finding Connection Through \"Chosen Family\" in which they chose who they want to be a part of their family. In some cases people are closer with their chosen family more than with their biological families.\\n\\nFeminist \\n\\nFeminist anthropology is a four field approach to anthropology (archeological, biological, cultural, linguistic) that seeks to reduce male bias in research findings, anthropological hiring practices, and the scholarly production of knowledge. Anthropology engages often with feminists from non-Western traditions, whose perspectives and experiences can differ from those of white feminists of Europe, America, and elsewhere. From the perspective of the Western world, historically such \\'peripheral\\' perspectives have been ignored, observed only from an outsider perspective, and regarded as less-valid or less-important than knowledge from the Western world. Exploring and addressing that double bias against women from marginalized racial or ethnic groups is of particular interest in intersectional feminist anthropology.\\n\\nFeminist anthropologists have stated that their publications have contributed to anthropology, along the way correcting against the systemic biases beginning with the \"patriarchal origins of anthropology (and (academia)\" and note that from 1891 to 1930 doctorates in anthropology went to males more than 85%, more than 81% were under 35, and only 7.2% to anyone over 40 years old, thus reflecting an age gap in the pursuit of anthropology by first-wave feminists until later in life. This correction of systemic bias may include mainstream feminist theory, history, linguistics, archaeology, and anthropology. Feminist anthropologists are often concerned with the construction of gender across societies. Gender constructs are of particular interest when studying sexism.\\n\\nAccording to St. Clair Drake, Vera Mae Green was, until \"[w]ell into the 1960s\", the only African-American female anthropologist who was also a Caribbeanist. She studied ethnic and family relations in the Caribbean as well as the United States, and thereby tried to improve the way black life, experiences, and culture were studied. However, Zora Neale Hurston, although often primarily considered to be a literary author, was trained in anthropology by Franz Boas, and published Tell my Horse about her \"anthropological observations\" of voodoo in the Caribbean (1938).\\n\\nFeminist anthropology is inclusive of the anthropology of birth as a specialization, which is the anthropological study of pregnancy and childbirth within cultures and societies.\\n\\nMedical, nutritional, psychological, cognitive and transpersonal\\n\\nMedical \\n\\nMedical anthropology is an interdisciplinary field which studies \"human health and disease, health care systems, and biocultural adaptation\". It is believed that William Caudell was the first to discover the field of medical anthropology. Currently, research in medical anthropology is one of the main growth areas in the field of anthropology as a whole. It focuses on the following six basic fields:\\n\\nOther subjects that have become central to medical anthropology worldwide are violence and social suffering (Farmer, 1999, 2003; Beneduce, 2010) as well as other issues that involve physical and psychological harm and suffering that are not a result of illness. On the other hand, there are fields that intersect with medical anthropology in terms of research methodology and theoretical production, such as cultural psychiatry and transcultural psychiatry or ethnopsychiatry.\\n\\nNutritional \\n\\nNutritional anthropology is a synthetic concept that deals with the interplay between economic systems, nutritional status and food security, and how changes in the former affect the latter. If economic and environmental changes in a community affect access to food, food security, and dietary health, then this interplay between culture and biology is in turn connected to broader historical and economic trends associated with globalization. Nutritional status affects overall health status, work performance potential, and the overall potential for economic development (either in terms of human development or traditional western models) for any given group of people.\\n\\nPsychological \\n\\nPsychological anthropology is an interdisciplinary subfield of anthropology that studies the interaction of cultural and mental processes. This subfield tends to focus on ways in which humans\\' development and enculturation within a particular cultural group\\xa0–  with its own history, language, practices, and conceptual categories\\xa0–  shape processes of human cognition, emotion, perception, motivation, and mental health. It also examines how the understanding of cognition, emotion, motivation, and similar psychological processes inform or constrain our models of cultural and social processes.\\n\\nCognitive \\n\\nCognitive anthropology seeks to explain patterns of shared knowledge, cultural innovation, and transmission over time and space using the methods and theories of the cognitive sciences (especially experimental psychology and evolutionary biology) often through close collaboration with historians, ethnographers, archaeologists, linguists, musicologists and other specialists engaged in the description and interpretation of cultural forms. Cognitive anthropology is concerned with what people from different groups know and how that implicit knowledge changes the way people perceive and relate to the world around them.\\n\\nTranspersonal \\n\\nTranspersonal anthropology studies the relationship between altered states of consciousness and culture. As with transpersonal psychology, the field is much concerned with altered states of consciousness (ASC) and transpersonal experience. However, the field differs from mainstream transpersonal psychology in taking more cognizance of cross-cultural issues –  for instance, the roles of myth, ritual, diet, and texts in evoking and interpreting extraordinary experiences.\\n\\nPolitical and legal\\n\\nPolitical \\n\\nPolitical anthropology concerns the structure of political systems, looked at from the basis of the structure of societies. Political anthropology developed as a discipline concerned primarily with politics in stateless societies, a new development started from the 1960s, and is still unfolding: anthropologists started increasingly to study more \"complex\" social settings in which the presence of states, bureaucracies and markets entered both ethnographic accounts and analysis of local phenomena. The turn towards complex societies meant that political themes were taken up at two main levels. Firstly, anthropologists continued to study political organization and political phenomena that lay outside the state-regulated sphere (as in patron-client relations or tribal political organization). Secondly, anthropologists slowly started to develop a disciplinary concern with states and their institutions (and on the relationship between formal and informal political institutions). An anthropology of the state developed, and it is a most thriving field today. Geertz\\' comparative work on \"Negara\", the Balinese state, is an early, famous example.\\n\\nLegal\\n\\nLegal anthropology or anthropology of law specializes in \"the cross-cultural study of social ordering\". Earlier legal anthropological research often focused more narrowly on conflict management, crime, sanctions, or formal regulation. More recent applications include issues such as human rights, legal pluralism, and political uprisings.\\n\\nPublic\\n\\nPublic anthropology was created by Robert Borofsky, a professor at Hawaii Pacific University, to \"demonstrate the ability of anthropology and anthropologists to effectively address problems beyond the discipline – illuminating larger social issues of our times as well as encouraging broad, public conversations about them with the explicit goal of fostering social change\".\\n\\nNature, science, and technology\\n\\nCyborg\\n\\nCyborg anthropology originated as a sub-focus group within the American Anthropological Association\\'s annual meeting in 1993. The sub-group was very closely related to STS and the Society for the Social Studies of Science. Donna Haraway\\'s 1985 Cyborg Manifesto could be considered the founding document of cyborg anthropology by first exploring the philosophical and sociological ramifications of the term. Cyborg anthropology studies humankind and its relations with the technological systems it has built, specifically modern technological systems that have reflexively shaped notions of what it means to be human beings.\\n\\nDigital \\n\\nDigital anthropology is the study of the relationship between humans and digital-era technology, and extends to various areas where anthropology and technology intersect. It is sometimes grouped with sociocultural anthropology, and sometimes considered part of material culture. The field is new, and thus has a variety of names with a variety of emphases. These include techno-anthropology, digital ethnography, cyberanthropology, and virtual anthropology.\\n\\nEcological \\n\\nEcological anthropology is defined as the \"study of cultural adaptations to environments\". The sub-field is also defined as, \"the study of relationships between a population of humans and their biophysical environment\". The focus of its research concerns \"how cultural beliefs and practices helped human populations adapt to their environments, and how their environments change across space and time. The contemporary perspective of environmental anthropology, and arguably at least the backdrop, if not the focus of most of the ethnographies and cultural fieldworks of today, is political ecology. Many characterize this new perspective as more informed with culture, politics and power, globalization, localized issues, century anthropology and more. The focus and data interpretation is often used for arguments for/against or creation of policy, and to prevent corporate exploitation and damage of land. Often, the observer has become an active part of the struggle either directly (organizing, participation) or indirectly (articles, documentaries, books, ethnographies). Such is the case with environmental justice advocate Melissa Checker and her relationship with the people of Hyde Park.\\n\\nEnvironment \\nSocial sciences, like anthropology, can provide interdisciplinary approaches to the environment. Professor Kay Milton, Director of the Anthropology research network in the School of History and Anthropology, describes anthropology as distinctive, with its most distinguishing feature being its interest in non-industrial indigenous and traditional societies. Anthropological theory is distinct because of the consistent presence of the concept of culture; not an exclusive topic but a central position in the study and a deep concern with the human condition. Milton describes three trends that are causing a fundamental shift in what characterizes anthropology: dissatisfaction with the cultural relativist perspective, reaction against cartesian dualisms which obstructs progress in theory (nature culture divide), and finally an increased attention to globalization (transcending the barriers or time/space).\\n\\nEnvironmental discourse appears to be characterized by a high degree of globalization. (The troubling problem is borrowing non indigenous practices and creating standards, concepts, philosophies and practices in western countries.) Anthropology and environmental discourse now have become a distinct position in anthropology as a discipline. Knowledge about diversities in human culture can be important in addressing environmental problems - anthropology is now a study of human ecology. Human activity is the most important agent in creating environmental change, a study commonly found in human ecology which can claim a central place in how environmental problems are examined and addressed. Other ways anthropology contributes to environmental discourse is by being theorists and analysts,\\xa0 or by refinement of definitions to become more neutral/universal, etc. In exploring environmentalism - the term typically refers to a concern that the environment should be protected, particularly from the harmful effects of human activities. Environmentalism itself can be expressed in many ways. Anthropologists can open the doors of environmentalism by looking beyond industrial society, understanding the opposition between industrial and non industrial relationships, knowing what ecosystem people and biosphere people are and are affected by, dependent and independent variables, “primitive” ecological wisdom, diverse environments, resource management, diverse cultural traditions, and knowing that environmentalism is a part of culture.\\n\\nHistorical\\n \\nEthnohistory is the study of ethnographic cultures and indigenous customs by examining historical records. It is also the study of the history of various ethnic groups that may or may not exist today. Ethnohistory uses both historical and ethnographic data as its foundation. Its historical methods and materials go beyond the standard use of documents and manuscripts. Practitioners recognize the utility of such source material as maps, music, paintings, photography, folklore, oral tradition, site exploration, archaeological materials, museum collections, enduring customs, language, and place names.\\n\\nReligion \\n\\nThe anthropology of religion involves the study of religious institutions in relation to other social institutions, and the comparison of religious beliefs and practices across cultures. Modern anthropology assumes that there is complete continuity between magical thinking and religion, and that every religion is a cultural product, created by the human community that worships it.\\n\\nUrban \\n\\nUrban anthropology is concerned with issues of urbanization, poverty, and neoliberalism. Ulf Hannerz quotes a 1960s remark that traditional anthropologists were \"a notoriously agoraphobic lot, anti-urban by definition\". Various social processes in the Western World as well as in the \"Third World\" (the latter being the habitual focus of attention of anthropologists) brought the attention of \"specialists in \\'other cultures\\'\" closer to their homes. There are two main approaches to urban anthropology: examining the types of cities or examining the social issues within the cities. These two methods are overlapping and dependent of each other. By defining different types of cities, one would use social factors as well as economic and political factors to categorize the cities. By directly looking at the different social issues, one would also be studying how they affect the dynamic of the city.\\n\\nKey topics by field: archaeological and biological\\n\\nAnthrozoology \\n\\nAnthrozoology (also known as \"human–animal studies\") is the study of interaction between living things. It is an interdisciplinary field that overlaps with a number of other disciplines, including anthropology, ethology, medicine, psychology, veterinary medicine and zoology. A major focus of anthrozoologic research is the quantifying of the positive effects of human-animal relationships on either party and the study of their interactions. It includes scholars from a diverse range of fields, including anthropology, sociology, biology, and philosophy.\\n\\nBiocultural \\n\\nBiocultural anthropology is the scientific exploration of the relationships between human biology and culture. Physical anthropologists throughout the first half of the 20th century viewed this relationship from a racial perspective; that is, from the assumption that typological human biological differences lead to cultural differences. After World War II the emphasis began to shift toward an effort to explore the role culture plays in shaping human biology.\\n\\nEvolutionary \\n\\nEvolutionary anthropology is the interdisciplinary study of the evolution of human physiology and human behaviour and the relation between hominins and non-hominin primates. Evolutionary anthropology is based in natural science and social science, combining the human development with socioeconomic factors. Evolutionary anthropology is concerned with both biological and cultural evolution of humans, past and present. It is based on a scientific approach, and brings together fields such as archaeology, behavioral ecology, psychology, primatology, and genetics. It is a dynamic and interdisciplinary field, drawing on many lines of evidence to understand the human experience, past and present.\\n\\nForensic \\n\\nForensic anthropology is the application of the science of physical anthropology and human osteology in a legal setting, most often in criminal cases where the victim\\'s remains are in the advanced stages of decomposition. A forensic anthropologist can assist in the identification of deceased individuals whose remains are decomposed, burned, mutilated or otherwise unrecognizable. The adjective \"forensic\" refers to the application of this subfield of science to a court of law.\\n\\nPalaeoanthropology \\n\\nPaleoanthropology combines the disciplines of paleontology and physical anthropology. It is the study of ancient humans, as found in fossil hominid evidence such as petrifacted bones and footprints. Genetics and morphology of specimens are crucially important to this field. Markers on specimens, such as enamel fractures and dental decay on teeth, can also give insight into the behaviour and diet of past populations.\\n\\nOrganizations \\nContemporary anthropology is an established science with academic departments at most universities and colleges. The single largest organization of anthropologists is the American Anthropological Association (AAA), which was founded in 1903. Its members are anthropologists from around the globe.\\n\\nIn 1989, a group of European and American scholars in the field of anthropology established the European Association of Social Anthropologists (EASA) which serves as a major professional organization for anthropologists working in Europe. The EASA seeks to advance the status of anthropology in Europe and to increase visibility of marginalized anthropological traditions and thereby contribute to the project of a global anthropology or world anthropology.\\n\\nHundreds of other organizations exist in the various sub-fields of anthropology, sometimes divided up by nation or region, and many anthropologists work with collaborators in other disciplines, such as geology, physics, zoology, paleontology, anatomy, music theory, art history, sociology and so on, belonging to professional societies in those disciplines as well.\\n\\nList of major organizations\\n\\n American Anthropological Association\\n American Ethnological Society\\n Asociación de Antropólogos Iberoamericanos en Red, AIBR\\n Moving Anthropology Student Network\\n Anthropological Society of London\\n Center for World Indigenous Studies\\n Ethnological Society of London\\n Max Planck Institute for Evolutionary Anthropology\\n Network of Concerned Anthropologists\\n N.N. Miklukho-Maklai Institute of Ethnology and Anthropology\\n Royal Anthropological Institute of Great Britain and Ireland\\n Society for anthropological sciences\\n Society for Applied Anthropology\\n USC Center for Visual Anthropology\\n\\nEthics\\nAs the field has matured it has debated and arrived at ethical principles aimed at protecting both the subjects of anthropological research as well as the researchers themselves, and professional societies have generated codes of ethics.\\n\\nAnthropologists, like other researchers (especially historians and scientists engaged in field research), have over time assisted state policies and projects, especially colonialism.\\n\\nSome commentators have contended:\\n That the discipline grew out of colonialism, perhaps was in league with it, and derives some of its key notions from it, consciously or not. (See, for example, Gough, Pels and Salemink, but cf. Lewis 2004).\\n That ethnographic work is often ahistorical, writing about people as if they were \"out of time\" in an \"ethnographic present\" (Johannes Fabian, Time and Its Other).\\nIn his article \"The Misrepresentation of Anthropology and Its Consequence,\" Herbert S. Lewis critiqued older anthropological works that presented other cultures as if they were strange and unusual. While the findings of those researchers should not be discarded, the field should learn from its mistakes.\\n\\nCultural relativism \\nAs part of their quest for scientific objectivity, present-day anthropologists typically urge cultural relativism, which has an influence on all the sub-fields of anthropology. This is the notion that cultures should not be judged by another\\'s values or viewpoints, but be examined dispassionately on their own terms. There should be no notions, in good anthropology, of one culture being better or worse than another culture.\\n\\nEthical commitments in anthropology include noticing and documenting genocide, infanticide, racism, sexism, mutilation (including circumcision and subincision), and torture. Topics like racism, slavery, and human sacrifice attract anthropological attention and theories ranging from nutritional deficiencies, to genes, to acculturation, to colonialism, have been proposed to explain their origins and continued recurrences.\\n\\nTo illustrate the depth of an anthropological approach, one can take just one of these topics, such as \"racism\" and find thousands of anthropological references, stretching across all the major and minor sub-fields.\\n\\nMilitary involvement\\nAnthropologists\\' involvement with the U.S. government, in particular, has caused bitter controversy within the discipline. Franz Boas publicly objected to US participation in World War I, and after the war he published a brief expose and condemnation of the participation of several American archaeologists in espionage in Mexico under their cover as scientists.\\n\\nBut by the 1940s, many of Boas\\' anthropologist contemporaries were active in the allied war effort against the Axis Powers (Nazi Germany, Fascist Italy, and Imperial Japan). Many served in the armed forces, while others worked in intelligence (for example, Office of Strategic Services and the Office of War Information). At the same time, David H. Price\\'s work on American anthropology during the Cold War provides detailed accounts of the pursuit and dismissal of several anthropologists from their jobs for communist sympathies.\\n\\nAttempts to accuse anthropologists of complicity with the CIA and government intelligence activities during the Vietnam War years have turned up surprisingly little. Many anthropologists (students and teachers) were active in the antiwar movement. Numerous resolutions condemning the war in all its aspects were passed overwhelmingly at the annual meetings of the American Anthropological Association (AAA).\\n\\nProfessional anthropological bodies often object to the use of anthropology for the benefit of the state. Their codes of ethics or statements may proscribe anthropologists from giving secret briefings. The Association of Social Anthropologists of the UK and Commonwealth (ASA) has called certain scholarship ethically dangerous. The \"Principles of Professional Responsibility\" issued by the American Anthropological Association and amended through November 1986 stated that \"in relation with their own government and with host governments\\xa0... no secret research, no secret reports or debriefings of any kind should be agreed to or given.\" The current \"Principles of Professional Responsibility\" does not make explicit mention of ethics surrounding state interactions.\\n\\nAnthropologists, along with other social scientists, are working with the US military as part of the US Army\\'s strategy in Afghanistan. The Christian Science Monitor reports that \"Counterinsurgency efforts focus on better grasping and meeting local needs\" in Afghanistan, under the Human Terrain System (HTS) program; in addition, HTS teams are working with the US military in Iraq. In 2009, the American Anthropological Association\\'s Commission on the Engagement of Anthropology with the US Security and Intelligence Communities released its final report concluding, in part, that, \"When ethnographic investigation is determined by military missions, not subject to external review, where data collection occurs in the context of war, integrated into the goals of counterinsurgency, and in a potentially coercive environment – all characteristic factors of the HTS concept and its application – it can no longer be considered a legitimate professional exercise of anthropology. In summary, while we stress that constructive engagement between anthropology and the military is possible, CEAUSSIC suggests that the AAA emphasize the incompatibility of HTS with disciplinary ethics and practice for job seekers and that it further recognize the problem of allowing HTS to define the meaning of \"anthropology\" within DoD.\"\\n\\nPost–World War II developments\\nBefore WWII British \\'social anthropology\\' and American \\'cultural anthropology\\' were still distinct traditions. After the war, enough British and American anthropologists borrowed ideas and methodological approaches from one another that some began to speak of them collectively as \\'sociocultural\\' anthropology.\\n\\nBasic trends\\nThere are several characteristics that tend to unite anthropological work. One of the central characteristics is that anthropology tends to provide a comparatively more holistic account of phenomena and tends to be highly empirical. The quest for holism leads most anthropologists to study a particular place, problem or phenomenon in detail, using a variety of methods, over a more extensive period than normal in many parts of academia.\\n\\nIn the 1990s and 2000s, calls for clarification of what constitutes a culture, of how an observer knows where his or her own culture ends and another begins, and other crucial topics in writing anthropology were heard. These dynamic relationships, between what can be observed on the ground, as opposed to what can be observed by compiling many local observations remain fundamental in any kind of anthropology, whether cultural, biological, linguistic or archaeological.\\n\\nBiological anthropologists are interested in both human variation and in the possibility of human universals (behaviors, ideas or concepts shared by virtually all human cultures). They use many different methods of study, but modern population genetics, participant observation and other techniques often take anthropologists \"into the field,\" which means traveling to a community in its own setting, to do something called \"fieldwork.\"  On the biological or physical side, human measurements, genetic samples, nutritional data may be gathered and published as articles or monographs.\\n\\nAlong with dividing up their project by theoretical emphasis, anthropologists typically divide the world up into relevant time periods and geographic regions. Human time on Earth is divided up into relevant cultural traditions based on material, such as the Paleolithic and the Neolithic, of particular use in archaeology. Further cultural subdivisions according to tool types, such as Olduwan or Mousterian or Levalloisian help archaeologists and other anthropologists in understanding major trends in the human past. Anthropologists and geographers share approaches to culture regions as well, since mapping cultures is central to both sciences. By making comparisons across cultural traditions (time-based) and cultural regions (space-based), anthropologists have developed various kinds of comparative method, a central part of their science.\\n\\nCommonalities between fields\\nBecause anthropology developed from so many different enterprises (see History of anthropology), including but not limited to fossil-hunting, exploring, documentary film-making, paleontology, primatology, antiquity dealings and curatorship, philology, etymology, genetics, regional analysis, ethnology, history, philosophy, and religious studies, it is difficult to characterize the entire field in a brief article, although attempts to write histories of the entire field have been made.\\n\\nSome authors argue that anthropology originated and developed as the study of \"other cultures\", both in terms of time (past societies) and space (non-European/non-Western societies). For example, the classic of urban anthropology, Ulf Hannerz in the introduction to his seminal Exploring the City: Inquiries Toward an Urban Anthropology mentions that the \"Third World\" had habitually received most of attention; anthropologists who traditionally specialized in \"other cultures\" looked for them far away and started to look \"across the tracks\" only in late 1960s.\\n\\nNow there exist many works focusing on peoples and topics very close to the author\\'s \"home\". It is also argued that other fields of study, like History and Sociology, on the contrary focus disproportionately on the West.\\n\\nIn France, the study of Western societies has been traditionally left to sociologists, but this is increasingly changing, starting in the 1970s from scholars like Isac Chiva and journals like Terrain (\"fieldwork\"), and developing with the center founded by Marc Augé (Le Centre d\\'anthropologie des mondes contemporains, the Anthropological Research Center of Contemporary Societies).\\n\\nSince the 1980s it has become common for social and cultural anthropologists to set ethnographic research in the North Atlantic region, frequently examining the connections between locations rather than limiting research to a single locale. There has also been a related shift toward broadening the focus beyond the daily life of ordinary people; increasingly, research is set in settings such as scientific laboratories, social movements, governmental and nongovernmental organizations and businesses.\\n\\nSee also\\n\\n Anthropological science fiction\\n Christian anthropology, a sub-field of theology\\n Circumscription theory\\n Culture\\n Dual inheritance theory\\n Engaged theory\\n Ethnobiology\\n Human behavioral ecology\\n Human ethology\\n Human Relations Area Files\\n Intangible cultural heritage\\n Origins of society\\n Philosophical anthropology, a sub-field of philosophy\\n Prehistoric medicine\\n Qualitative research\\n\\nLists\\n\\n Outline of anthropology\\n List of indigenous peoples\\n List of anthropologists\\n\\nNotes\\n\\nReferences\\n\\nFurther reading\\n\\nDictionaries and encyclopedias\\n\\nFieldnotes and memoirs\\n\\nHistories\\n\\n \\n \\n \\n \\n \\n \\n \\n \\n \\n \\n \\n .\\n\\nTextbooks and key theoretical works\\n\\nExternal links\\n\\n \\n \\n \\n \\n \\n \\n \\n \\n \\n \\n \\n \\n \\n  (AIO)'}"
      ]
     },
     "execution_count": 30,
     "metadata": {},
     "output_type": "execute_result"
    }
   ],
   "source": [
    "item = dst[20]\n",
    "item"
   ]
  },
  {
   "cell_type": "code",
   "execution_count": 32,
   "metadata": {},
   "outputs": [
    {
     "name": "stdout",
     "output_type": "stream",
     "text": [
      "Anthropology. Text len: 150\n",
      "['anthropology', 'is', 'the', 'scientific', 'study', 'of', 'humanity', ',', 'concerned', 'with', 'human', 'behavior', ',', 'human', 'biology', ',', 'cultures', ',', 'societies', ',', 'and', 'linguistics', ',', 'in', 'both', 'the', 'pre', '##s']\n"
     ]
    }
   ],
   "source": [
    "title, text = item['title'], item['text'][:150]\n",
    "print(f'{title}. Text len: {len(text)}')\n",
    "inp_toks = tkz.tokenize(text)\n",
    "print(inp_toks)"
   ]
  },
  {
   "cell_type": "code",
   "execution_count": 33,
   "metadata": {},
   "outputs": [
    {
     "name": "stdout",
     "output_type": "stream",
     "text": [
      "{'input_ids': [101, 12795, 2003, 1996, 4045, 2817, 1997, 8438, 1010, 4986, 2007, 2529, 5248, 1010, 2529, 7366, 1010, 8578, 1010, 8384, 1010, 1998, 15397, 1010, 1999, 2119, 1996, 3653, 2015, 102], 'token_type_ids': [0, 0, 0, 0, 0, 0, 0, 0, 0, 0, 0, 0, 0, 0, 0, 0, 0, 0, 0, 0, 0, 0, 0, 0, 0, 0, 0, 0, 0, 0], 'attention_mask': [1, 1, 1, 1, 1, 1, 1, 1, 1, 1, 1, 1, 1, 1, 1, 1, 1, 1, 1, 1, 1, 1, 1, 1, 1, 1, 1, 1, 1, 1]}\n"
     ]
    }
   ],
   "source": [
    "res1 = tkz(text, is_split_into_words=False)\n",
    "print(res1)"
   ]
  },
  {
   "cell_type": "code",
   "execution_count": 34,
   "metadata": {},
   "outputs": [
    {
     "name": "stdout",
     "output_type": "stream",
     "text": [
      "{'input_ids': [101, 12795, 2003, 1996, 4045, 2817, 1997, 8438, 1010, 4986, 2007, 2529, 5248, 1010, 2529, 7366, 1010, 8578, 1010, 8384, 1010, 1998, 15397, 1010, 1999, 2119, 1996, 3653, 2015, 102], 'token_type_ids': [0, 0, 0, 0, 0, 0, 0, 0, 0, 0, 0, 0, 0, 0, 0, 0, 0, 0, 0, 0, 0, 0, 0, 0, 0, 0, 0, 0, 0, 0], 'attention_mask': [1, 1, 1, 1, 1, 1, 1, 1, 1, 1, 1, 1, 1, 1, 1, 1, 1, 1, 1, 1, 1, 1, 1, 1, 1, 1, 1, 1, 1, 1]}\n"
     ]
    }
   ],
   "source": [
    "res2 = tkz(text.split(), is_split_into_words=True)\n",
    "print(res2)"
   ]
  },
  {
   "cell_type": "code",
   "execution_count": 35,
   "metadata": {},
   "outputs": [
    {
     "data": {
      "text/plain": [
       "True"
      ]
     },
     "execution_count": 35,
     "metadata": {},
     "output_type": "execute_result"
    }
   ],
   "source": [
    "res1 == res2"
   ]
  },
  {
   "cell_type": "code",
   "execution_count": 36,
   "metadata": {},
   "outputs": [
    {
     "name": "stdout",
     "output_type": "stream",
     "text": [
      "['Anthropology', 'is', 'the', 'scientific', 'study', 'of', 'humanity,', 'concerned', 'with', 'human', 'behavior,', 'human', 'biology,', 'cultures,', 'societies,', 'and', 'linguistics,', 'in', 'both', 'the', 'pres']\n"
     ]
    },
    {
     "data": {
      "text/plain": [
       "{'input_ids': [[12795], [2003], [1996], [4045], [2817], [1997], [8438, 1010], [4986], [2007], [2529], [5248, 1010], [2529], [7366, 1010], [8578, 1010], [8384, 1010], [1998], [15397, 1010], [1999], [2119], [1996], [3653, 2015]], 'token_type_ids': [[0], [0], [0], [0], [0], [0], [0, 0], [0], [0], [0], [0, 0], [0], [0, 0], [0, 0], [0, 0], [0], [0, 0], [0], [0], [0], [0, 0]], 'attention_mask': [[1], [1], [1], [1], [1], [1], [1, 1], [1], [1], [1], [1, 1], [1], [1, 1], [1, 1], [1, 1], [1], [1, 1], [1], [1], [1], [1, 1]]}"
      ]
     },
     "execution_count": 36,
     "metadata": {},
     "output_type": "execute_result"
    }
   ],
   "source": [
    "res3 = tkz(text.split(), add_special_tokens=False)\n",
    "print(text.split())\n",
    "res3\n"
   ]
  },
  {
   "cell_type": "code",
   "execution_count": 37,
   "metadata": {},
   "outputs": [
    {
     "data": {
      "text/plain": [
       "['anthropology',\n",
       " 'is',\n",
       " 'the',\n",
       " 'scientific',\n",
       " 'study',\n",
       " 'of',\n",
       " 'humanity,',\n",
       " 'concerned',\n",
       " 'with',\n",
       " 'human',\n",
       " 'behavior,',\n",
       " 'human',\n",
       " 'biology,',\n",
       " 'cultures,',\n",
       " 'societies,',\n",
       " 'and',\n",
       " 'linguistics,',\n",
       " 'in',\n",
       " 'both',\n",
       " 'the',\n",
       " 'pres']"
      ]
     },
     "execution_count": 37,
     "metadata": {},
     "output_type": "execute_result"
    }
   ],
   "source": [
    "words3 = tkz.batch_decode(res3.input_ids)\n",
    "words3"
   ]
  },
  {
   "cell_type": "code",
   "execution_count": 38,
   "metadata": {},
   "outputs": [
    {
     "name": "stdout",
     "output_type": "stream",
     "text": [
      "anthropology is the scientific study of humanity, concerned with human behavior, human biology, cultures, societies, and linguistics, in both the pres\n"
     ]
    },
    {
     "data": {
      "text/plain": [
       "True"
      ]
     },
     "execution_count": 38,
     "metadata": {},
     "output_type": "execute_result"
    }
   ],
   "source": [
    "s1 = tkz.decode(res1.input_ids, skip_special_tokens=True)\n",
    "s2 = ' '.join(words3)\n",
    "print(s2)\n",
    "s1 == s2"
   ]
  },
  {
   "cell_type": "code",
   "execution_count": 40,
   "metadata": {},
   "outputs": [
    {
     "data": {
      "text/plain": [
       "True"
      ]
     },
     "execution_count": 40,
     "metadata": {},
     "output_type": "execute_result"
    }
   ],
   "source": [
    "pat = re.compile(r'\\b')\n",
    "parts = pat.split(text)\n",
    "''.join(parts) == text"
   ]
  },
  {
   "cell_type": "code",
   "execution_count": 41,
   "metadata": {},
   "outputs": [
    {
     "data": {
      "text/plain": [
       "['anthropology',\n",
       " 'is',\n",
       " 'the',\n",
       " 'scientific',\n",
       " 'study',\n",
       " 'of',\n",
       " 'humanity',\n",
       " ',',\n",
       " 'concerned',\n",
       " 'with',\n",
       " 'human',\n",
       " 'behavior',\n",
       " ',',\n",
       " 'human',\n",
       " 'biology',\n",
       " ',',\n",
       " 'cultures',\n",
       " ',',\n",
       " 'societies',\n",
       " ',',\n",
       " 'and',\n",
       " 'linguistics',\n",
       " ',',\n",
       " 'in',\n",
       " 'both',\n",
       " 'the',\n",
       " 'pres']"
      ]
     },
     "execution_count": 41,
     "metadata": {},
     "output_type": "execute_result"
    }
   ],
   "source": [
    "parts_nospace = [p.lower().strip() for p in parts]\n",
    "parts_nospace = filter(None, parts_nospace)\n",
    "parts_nospace = list(parts_nospace)\n",
    "parts_nospace"
   ]
  },
  {
   "cell_type": "code",
   "execution_count": 42,
   "metadata": {},
   "outputs": [
    {
     "data": {
      "text/plain": [
       "False"
      ]
     },
     "execution_count": 42,
     "metadata": {},
     "output_type": "execute_result"
    }
   ],
   "source": [
    "s2 = ' '.join([p.lower() for p in parts_nospace])\n",
    "s1 == s2"
   ]
  },
  {
   "cell_type": "code",
   "execution_count": 43,
   "metadata": {},
   "outputs": [
    {
     "data": {
      "text/plain": [
       "'anthropology is the scientific study of humanity, concerned with human behavior, human biology, cultures, societies, and linguistics, in both the pres'"
      ]
     },
     "execution_count": 43,
     "metadata": {},
     "output_type": "execute_result"
    }
   ],
   "source": [
    "s1"
   ]
  },
  {
   "cell_type": "code",
   "execution_count": 44,
   "metadata": {},
   "outputs": [
    {
     "data": {
      "text/plain": [
       "'anthropology is the scientific study of humanity , concerned with human behavior , human biology , cultures , societies , and linguistics , in both the pres'"
      ]
     },
     "execution_count": 44,
     "metadata": {},
     "output_type": "execute_result"
    }
   ],
   "source": [
    "s2"
   ]
  },
  {
   "cell_type": "code",
   "execution_count": 45,
   "metadata": {},
   "outputs": [
    {
     "data": {
      "text/plain": [
       "[(12795, 'anthropology'),\n",
       " (2003, 'is'),\n",
       " (1996, 'the'),\n",
       " (4045, 'scientific'),\n",
       " (2817, 'study'),\n",
       " (1997, 'of'),\n",
       " (8438, 'humanity'),\n",
       " (1010, ','),\n",
       " (4986, 'concerned'),\n",
       " (2007, 'with'),\n",
       " (2529, 'human'),\n",
       " (5248, 'behavior'),\n",
       " (1010, ','),\n",
       " (2529, 'human'),\n",
       " (7366, 'biology'),\n",
       " (1010, ','),\n",
       " (8578, 'cultures'),\n",
       " (1010, ','),\n",
       " (8384, 'societies'),\n",
       " (1010, ','),\n",
       " (1998, 'and'),\n",
       " (15397, 'linguistics'),\n",
       " (1010, ','),\n",
       " (1999, 'in'),\n",
       " (2119, 'both'),\n",
       " (1996, 'the'),\n",
       " (3653, 'pre'),\n",
       " (2015, '##s'),\n",
       " (5925, 'abc'),\n",
       " (1001, '#'),\n",
       " (1001, '#'),\n",
       " (1001, '#'),\n",
       " (1001, '#'),\n",
       " (1001, '#'),\n",
       " (1001, '#'),\n",
       " (1001, '#'),\n",
       " (1001, '#'),\n",
       " (22038, 'xx'),\n",
       " (2595, '##x')]"
      ]
     },
     "execution_count": 45,
     "metadata": {},
     "output_type": "execute_result"
    }
   ],
   "source": [
    "s = s1 + ' abc## ## ####xxx'\n",
    "toks_ids = tkz(s, add_special_tokens=False).input_ids\n",
    "toks_str = tkz.convert_ids_to_tokens(toks_ids)\n",
    "assert len(toks_ids) == len(toks_str)\n",
    "ids_to_str = [(tid, tis) for tid, tis in zip(toks_ids, toks_str)]\n",
    "ids_to_str"
   ]
  },
  {
   "cell_type": "code",
   "execution_count": 46,
   "metadata": {},
   "outputs": [
    {
     "data": {
      "text/plain": [
       "'anthropology is the scientific study of humanity, concerned with human behavior, human biology, cultures, societies, and linguistics, in both the pres abc # # # # # # # # xxx'"
      ]
     },
     "execution_count": 46,
     "metadata": {},
     "output_type": "execute_result"
    }
   ],
   "source": [
    "tkz.decode(toks_ids)"
   ]
  },
  {
   "cell_type": "code",
   "execution_count": null,
   "metadata": {},
   "outputs": [
    {
     "name": "stdout",
     "output_type": "stream",
     "text": [
      "anthropology is the scientific study of humanity, concerned with human behavior, < | cite _ begin | > human biology, cultures < | cite _ end | >, societies, and linguistics, in both the pres abc # # # # # # # # xxx\n",
      "anthropology is the scientific study of humanity, concerned with human behavior, < | cite _ begin | > [MASK] [MASK] [MASK] [MASK] < | cite _ end | >, societies, and linguistics, in both the pres abc # # # # # # # # xxx\n",
      "human biology, cultures\n"
     ]
    }
   ],
   "source": [
    "wt = WordToks(tkz, s, max_tgt_len_freq=0.2, max_tgt_len=10)\n",
    "inp_str, inp_masked_str, tgt_str = tkz.decode(wt.inp_toks), tkz.decode(wt.inp_masked_toks), tkz.decode(wt.tgt_toks)\n",
    "print(inp_str)\n",
    "print(inp_masked_str)\n",
    "print(tgt_str)"
   ]
  },
  {
   "cell_type": "markdown",
   "metadata": {},
   "source": [
    "## Mapping and processing the dataset"
   ]
  },
  {
   "cell_type": "code",
   "execution_count": 6,
   "metadata": {},
   "outputs": [
    {
     "data": {
      "text/plain": [
       "BertTokenizerFast(name_or_path='bert-base-uncased', vocab_size=30522, model_max_length=512, is_fast=True, padding_side='right', truncation_side='right', special_tokens={'unk_token': '[UNK]', 'sep_token': '[SEP]', 'pad_token': '[PAD]', 'cls_token': '[CLS]', 'mask_token': '[MASK]'}, clean_up_tokenization_spaces=False, added_tokens_decoder={\n",
       "\t0: AddedToken(\"[PAD]\", rstrip=False, lstrip=False, single_word=False, normalized=False, special=True),\n",
       "\t100: AddedToken(\"[UNK]\", rstrip=False, lstrip=False, single_word=False, normalized=False, special=True),\n",
       "\t101: AddedToken(\"[CLS]\", rstrip=False, lstrip=False, single_word=False, normalized=False, special=True),\n",
       "\t102: AddedToken(\"[SEP]\", rstrip=False, lstrip=False, single_word=False, normalized=False, special=True),\n",
       "\t103: AddedToken(\"[MASK]\", rstrip=False, lstrip=False, single_word=False, normalized=False, special=True),\n",
       "}\n",
       ")"
      ]
     },
     "execution_count": 6,
     "metadata": {},
     "output_type": "execute_result"
    }
   ],
   "source": [
    "tkz = AutoTokenizer.from_pretrained('bert-base-uncased', use_fast=True)\n",
    "tkz"
   ]
  },
  {
   "cell_type": "code",
   "execution_count": 26,
   "metadata": {},
   "outputs": [
    {
     "data": {
      "text/plain": [
       "(5, ['id', 'url', 'title', 'text'])"
      ]
     },
     "execution_count": 26,
     "metadata": {},
     "output_type": "execute_result"
    }
   ],
   "source": [
    "n = 5\n",
    "ds_sub = ds['train'].select(range(n))\n",
    "len(ds_sub), ds_sub.column_names"
   ]
  },
  {
   "cell_type": "code",
   "execution_count": 27,
   "metadata": {},
   "outputs": [],
   "source": [
    "def tokenize_item(tokenizer: PreTrainedTokenizer, item):\n",
    "    text = item['text']\n",
    "    toks = tokenizer(text, add_special_tokens=False).input_ids\n",
    "    return {\n",
    "        **item,\n",
    "        'toks': toks,\n",
    "        'toks_len': len(toks),\n",
    "    }\n",
    "\n",
    "def extract_masked_input(item: Dict, mask_token_id: int = 103, pad_token_id: int = 0, max_seq_length: int = 512) -> Dict:\n",
    "    input_ids = item['toks'][:max_seq_length]\n",
    "\n",
    "    return {\n",
    "        **item,\n",
    "        'input_ids': torch.tensor(input_ids, dtype=torch.long),\n",
    "    }\n",
    "\n",
    "def extract_masked_input_rnd(item: Dict, mask_token_id: int = 103, pad_token_id: int = 0, max_seq_len: int = 512) -> Dict:\n",
    "    cur_len = item['toks_len']\n",
    "    max_seq_len = min(cur_len, max_seq_len)\n",
    "    input_ids = item['toks']\n",
    "    if max_seq_len < cur_len:\n",
    "        ind_off_max = cur_len - max_seq_len + 1\n",
    "        ind_off_max = min(ind_off_max, 3)\n",
    "        ind_off = np.random.randint(0, ind_off_max)\n",
    "        input_ids = input_ids[ind_off:ind_off + max_seq_len]\n",
    "\n",
    "    return {\n",
    "        **item,\n",
    "        'input_ids': torch.tensor(input_ids, dtype=torch.long),\n",
    "    }\n",
    "\n"
   ]
  },
  {
   "cell_type": "code",
   "execution_count": 28,
   "metadata": {},
   "outputs": [
    {
     "data": {
      "application/vnd.jupyter.widget-view+json": {
       "model_id": "a5b01ec8682042f1b214a8eac698e43c",
       "version_major": 2,
       "version_minor": 0
      },
      "text/plain": [
       "Map:   0%|          | 0/5 [00:00<?, ? examples/s]"
      ]
     },
     "metadata": {},
     "output_type": "display_data"
    },
    {
     "name": "stderr",
     "output_type": "stream",
     "text": [
      "Token indices sequence length is longer than the specified maximum sequence length for this model (8349 > 512). Running this sequence through the model will result in indexing errors\n"
     ]
    },
    {
     "data": {
      "text/plain": [
       "[8349, 9058, 4568, 2322, 15590]"
      ]
     },
     "execution_count": 28,
     "metadata": {},
     "output_type": "execute_result"
    }
   ],
   "source": [
    "ds_sub1 = ds_sub.map(partial(tokenize_item, tkz))\n",
    "ds_sub1['toks_len']"
   ]
  },
  {
   "cell_type": "code",
   "execution_count": 29,
   "metadata": {},
   "outputs": [
    {
     "data": {
      "application/vnd.jupyter.widget-view+json": {
       "model_id": "a80b515bfd294fce89c64beadc9bf913",
       "version_major": 2,
       "version_minor": 0
      },
      "text/plain": [
       "Map:   0%|          | 0/5 [00:00<?, ? examples/s]"
      ]
     },
     "metadata": {},
     "output_type": "display_data"
    },
    {
     "data": {
      "text/plain": [
       "[[9617, 11140, 2964, 2003, 1037],\n",
       " [19465, 2003, 1037, 11265, 10976],\n",
       " [2632, 28759, 1006, 1025, 1007],\n",
       " [1037, 1010, 2030, 1037, 1010],\n",
       " [6041, 1006, 1007, 2003, 1037]]"
      ]
     },
     "execution_count": 29,
     "metadata": {},
     "output_type": "execute_result"
    }
   ],
   "source": [
    "ds_sub2 = ds_sub1\n",
    "ds_sub2 = ds_sub2.map(extract_masked_input, fn_kwargs={'mask_token_id': tkz.mask_token_id, 'max_seq_length': 5})\n",
    "ds_sub2['input_ids']"
   ]
  },
  {
   "cell_type": "code",
   "execution_count": 30,
   "metadata": {},
   "outputs": [
    {
     "data": {
      "application/vnd.jupyter.widget-view+json": {
       "model_id": "3341a34df1fa4eb4bb08cd3cadc5a5f0",
       "version_major": 2,
       "version_minor": 0
      },
      "text/plain": [
       "Map:   0%|          | 0/5 [00:00<?, ? examples/s]"
      ]
     },
     "metadata": {},
     "output_type": "display_data"
    },
    {
     "data": {
      "text/plain": [
       "[[11140, 2964, 2003, 1037, 2576],\n",
       " [2003, 1037, 11265, 10976, 24844],\n",
       " [1006, 1025, 1007, 2003, 1996],\n",
       " [1037, 1010, 2030, 1037, 1010],\n",
       " [6041, 1006, 1007, 2003, 1037]]"
      ]
     },
     "execution_count": 30,
     "metadata": {},
     "output_type": "execute_result"
    }
   ],
   "source": [
    "ds_sub3 = ds_sub1\n",
    "ds_sub3 = ds_sub3.map(extract_masked_input_rnd, fn_kwargs={'mask_token_id': tkz.mask_token_id, 'max_seq_len': 5})\n",
    "ds_sub3['input_ids']"
   ]
  },
  {
   "cell_type": "code",
   "execution_count": null,
   "metadata": {},
   "outputs": [],
   "source": [
    "\n"
   ]
  },
  {
   "cell_type": "code",
   "execution_count": null,
   "metadata": {},
   "outputs": [],
   "source": []
  },
  {
   "cell_type": "code",
   "execution_count": null,
   "metadata": {},
   "outputs": [],
   "source": []
  }
 ],
 "metadata": {
  "kernelspec": {
   "display_name": "mllm",
   "language": "python",
   "name": "python3"
  },
  "language_info": {
   "codemirror_mode": {
    "name": "ipython",
    "version": 3
   },
   "file_extension": ".py",
   "mimetype": "text/x-python",
   "name": "python",
   "nbconvert_exporter": "python",
   "pygments_lexer": "ipython3",
   "version": "3.10.19"
  }
 },
 "nbformat": 4,
 "nbformat_minor": 2
}
