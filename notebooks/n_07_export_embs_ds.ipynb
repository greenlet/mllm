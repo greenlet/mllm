{
 "cells": [
  {
   "cell_type": "code",
   "execution_count": null,
   "metadata": {},
   "outputs": [],
   "source": [
    "%load_ext autoreload\n",
    "%autoreload 2"
   ]
  },
  {
   "cell_type": "code",
   "execution_count": 16,
   "metadata": {},
   "outputs": [],
   "source": [
    "from collections import defaultdict\n",
    "import csv\n",
    "from dataclasses import dataclass\n",
    "import gzip\n",
    "import itertools\n",
    "import os\n",
    "from pathlib import Path\n",
    "from pprint import pprint\n",
    "import re\n",
    "import shutil\n",
    "import sys\n",
    "from typing import Optional\n",
    "if '..' not in sys.path: sys.path.append('..')\n",
    "\n",
    "import numpy as np\n",
    "import pandas as pd\n",
    "from pydantic_yaml import to_yaml_file, parse_yaml_file_as\n",
    "from tqdm import tqdm\n",
    "\n",
    "from mllm.utils.utils import write_tsv, read_tsv\n",
    "from s_04_run_01_ranker_embs import RunInfo"
   ]
  },
  {
   "cell_type": "code",
   "execution_count": 8,
   "metadata": {},
   "outputs": [],
   "source": [
    "DATA_PATH = Path(os.path.expandvars('$HOME')) / 'data'\n",
    "EMBS_DS_PATH = DATA_PATH / 'ranker_embs_msmarco_fever'\n",
    "DST_PATH = DATA_PATH / 'ranker_embs_msmarco_fever_part'\n",
    "DST_PATH.mkdir(exist_ok=True)"
   ]
  },
  {
   "cell_type": "code",
   "execution_count": 13,
   "metadata": {},
   "outputs": [],
   "source": [
    "run_info_fpath = EMBS_DS_PATH / 'run_info.yaml'\n",
    "docs_ids_fpath = EMBS_DS_PATH / 'docs_ids.tsv'\n",
    "qs_ids_fpath = EMBS_DS_PATH / 'qs_ids.tsv'\n",
    "qrels_fpath = EMBS_DS_PATH / 'qrels.tsv'\n",
    "docs_embs_fpath = EMBS_DS_PATH / 'docs_embs.npy'\n",
    "qs_embs_fpath = EMBS_DS_PATH / 'qs_embs.npy'"
   ]
  },
  {
   "cell_type": "code",
   "execution_count": 15,
   "metadata": {},
   "outputs": [
    {
     "data": {
      "text/html": [
       "<div>\n",
       "<style scoped>\n",
       "    .dataframe tbody tr th:only-of-type {\n",
       "        vertical-align: middle;\n",
       "    }\n",
       "\n",
       "    .dataframe tbody tr th {\n",
       "        vertical-align: top;\n",
       "    }\n",
       "\n",
       "    .dataframe thead th {\n",
       "        text-align: right;\n",
       "    }\n",
       "</style>\n",
       "<table border=\"1\" class=\"dataframe\">\n",
       "  <thead>\n",
       "    <tr style=\"text-align: right;\">\n",
       "      <th></th>\n",
       "      <th>ds_id</th>\n",
       "      <th>ds_doc_id</th>\n",
       "      <th>doc_emb_id</th>\n",
       "    </tr>\n",
       "  </thead>\n",
       "  <tbody>\n",
       "    <tr>\n",
       "      <th>0</th>\n",
       "      <td>1</td>\n",
       "      <td>0</td>\n",
       "      <td>0</td>\n",
       "    </tr>\n",
       "    <tr>\n",
       "      <th>1</th>\n",
       "      <td>1</td>\n",
       "      <td>0</td>\n",
       "      <td>1</td>\n",
       "    </tr>\n",
       "    <tr>\n",
       "      <th>2</th>\n",
       "      <td>1</td>\n",
       "      <td>0</td>\n",
       "      <td>2</td>\n",
       "    </tr>\n",
       "    <tr>\n",
       "      <th>3</th>\n",
       "      <td>1</td>\n",
       "      <td>0</td>\n",
       "      <td>3</td>\n",
       "    </tr>\n",
       "    <tr>\n",
       "      <th>4</th>\n",
       "      <td>1</td>\n",
       "      <td>0</td>\n",
       "      <td>4</td>\n",
       "    </tr>\n",
       "    <tr>\n",
       "      <th>...</th>\n",
       "      <td>...</td>\n",
       "      <td>...</td>\n",
       "      <td>...</td>\n",
       "    </tr>\n",
       "    <tr>\n",
       "      <th>3488391</th>\n",
       "      <td>1</td>\n",
       "      <td>188306</td>\n",
       "      <td>3488391</td>\n",
       "    </tr>\n",
       "    <tr>\n",
       "      <th>3488392</th>\n",
       "      <td>1</td>\n",
       "      <td>188306</td>\n",
       "      <td>3488392</td>\n",
       "    </tr>\n",
       "    <tr>\n",
       "      <th>3488393</th>\n",
       "      <td>1</td>\n",
       "      <td>188306</td>\n",
       "      <td>3488393</td>\n",
       "    </tr>\n",
       "    <tr>\n",
       "      <th>3488394</th>\n",
       "      <td>1</td>\n",
       "      <td>188306</td>\n",
       "      <td>3488394</td>\n",
       "    </tr>\n",
       "    <tr>\n",
       "      <th>3488395</th>\n",
       "      <td>1</td>\n",
       "      <td>188306</td>\n",
       "      <td>3488395</td>\n",
       "    </tr>\n",
       "  </tbody>\n",
       "</table>\n",
       "<p>3488396 rows × 3 columns</p>\n",
       "</div>"
      ],
      "text/plain": [
       "         ds_id  ds_doc_id  doc_emb_id\n",
       "0            1          0           0\n",
       "1            1          0           1\n",
       "2            1          0           2\n",
       "3            1          0           3\n",
       "4            1          0           4\n",
       "...        ...        ...         ...\n",
       "3488391      1     188306     3488391\n",
       "3488392      1     188306     3488392\n",
       "3488393      1     188306     3488393\n",
       "3488394      1     188306     3488394\n",
       "3488395      1     188306     3488395\n",
       "\n",
       "[3488396 rows x 3 columns]"
      ]
     },
     "execution_count": 15,
     "metadata": {},
     "output_type": "execute_result"
    }
   ],
   "source": [
    "df_docs_ids = read_tsv(docs_ids_fpath)\n",
    "n_docs = len(df_docs_ids)\n",
    "n_docs_part = int(n_docs * 0.05)\n",
    "df_docs_ids = df_docs_ids.iloc[:n_docs_part].copy()\n",
    "df_docs_ids"
   ]
  },
  {
   "cell_type": "code",
   "execution_count": 20,
   "metadata": {},
   "outputs": [],
   "source": [
    "ds_docs_ids = np.unique(df_docs_ids['ds_doc_id'])"
   ]
  },
  {
   "cell_type": "code",
   "execution_count": 19,
   "metadata": {},
   "outputs": [
    {
     "data": {
      "text/html": [
       "<div>\n",
       "<style scoped>\n",
       "    .dataframe tbody tr th:only-of-type {\n",
       "        vertical-align: middle;\n",
       "    }\n",
       "\n",
       "    .dataframe tbody tr th {\n",
       "        vertical-align: top;\n",
       "    }\n",
       "\n",
       "    .dataframe thead th {\n",
       "        text-align: right;\n",
       "    }\n",
       "</style>\n",
       "<table border=\"1\" class=\"dataframe\">\n",
       "  <thead>\n",
       "    <tr style=\"text-align: right;\">\n",
       "      <th></th>\n",
       "      <th>qid</th>\n",
       "      <th>did</th>\n",
       "      <th>dsid</th>\n",
       "      <th>dsdid</th>\n",
       "    </tr>\n",
       "    <tr>\n",
       "      <th>dsqid</th>\n",
       "      <th></th>\n",
       "      <th></th>\n",
       "      <th></th>\n",
       "      <th></th>\n",
       "    </tr>\n",
       "  </thead>\n",
       "  <tbody>\n",
       "    <tr>\n",
       "      <th>0</th>\n",
       "      <td>1185869</td>\n",
       "      <td>59219</td>\n",
       "      <td>1</td>\n",
       "      <td>2376038</td>\n",
       "    </tr>\n",
       "    <tr>\n",
       "      <th>1</th>\n",
       "      <td>1185868</td>\n",
       "      <td>59235</td>\n",
       "      <td>1</td>\n",
       "      <td>100673</td>\n",
       "    </tr>\n",
       "    <tr>\n",
       "      <th>2</th>\n",
       "      <td>1183785</td>\n",
       "      <td>576811</td>\n",
       "      <td>1</td>\n",
       "      <td>1201976</td>\n",
       "    </tr>\n",
       "    <tr>\n",
       "      <th>3</th>\n",
       "      <td>645590</td>\n",
       "      <td>576840</td>\n",
       "      <td>1</td>\n",
       "      <td>1232741</td>\n",
       "    </tr>\n",
       "    <tr>\n",
       "      <th>4</th>\n",
       "      <td>186154</td>\n",
       "      <td>114789</td>\n",
       "      <td>1</td>\n",
       "      <td>403227</td>\n",
       "    </tr>\n",
       "    <tr>\n",
       "      <th>...</th>\n",
       "      <td>...</td>\n",
       "      <td>...</td>\n",
       "      <td>...</td>\n",
       "      <td>...</td>\n",
       "    </tr>\n",
       "    <tr>\n",
       "      <th>188302</th>\n",
       "      <td>848127</td>\n",
       "      <td>1053563</td>\n",
       "      <td>1</td>\n",
       "      <td>2589733</td>\n",
       "    </tr>\n",
       "    <tr>\n",
       "      <th>188303</th>\n",
       "      <td>950430</td>\n",
       "      <td>2127827</td>\n",
       "      <td>1</td>\n",
       "      <td>1115121</td>\n",
       "    </tr>\n",
       "    <tr>\n",
       "      <th>188304</th>\n",
       "      <td>255570</td>\n",
       "      <td>2127829</td>\n",
       "      <td>1</td>\n",
       "      <td>938911</td>\n",
       "    </tr>\n",
       "    <tr>\n",
       "      <th>188305</th>\n",
       "      <td>986614</td>\n",
       "      <td>183106</td>\n",
       "      <td>1</td>\n",
       "      <td>79644</td>\n",
       "    </tr>\n",
       "    <tr>\n",
       "      <th>188306</th>\n",
       "      <td>1071916</td>\n",
       "      <td>2127847</td>\n",
       "      <td>1</td>\n",
       "      <td>3045848</td>\n",
       "    </tr>\n",
       "  </tbody>\n",
       "</table>\n",
       "<p>188307 rows × 4 columns</p>\n",
       "</div>"
      ],
      "text/plain": [
       "            qid      did  dsid    dsdid\n",
       "dsqid                                  \n",
       "0       1185869    59219     1  2376038\n",
       "1       1185868    59235     1   100673\n",
       "2       1183785   576811     1  1201976\n",
       "3        645590   576840     1  1232741\n",
       "4        186154   114789     1   403227\n",
       "...         ...      ...   ...      ...\n",
       "188302   848127  1053563     1  2589733\n",
       "188303   950430  2127827     1  1115121\n",
       "188304   255570  2127829     1   938911\n",
       "188305   986614   183106     1    79644\n",
       "188306  1071916  2127847     1  3045848\n",
       "\n",
       "[188307 rows x 4 columns]"
      ]
     },
     "execution_count": 19,
     "metadata": {},
     "output_type": "execute_result"
    }
   ],
   "source": [
    "df_qrels = read_tsv(qrels_fpath)\n",
    "df_qrels.set_index('dsqid', inplace=True)\n",
    "df_qrels = df_qrels.loc[ds_doc_ids].copy()\n",
    "df_qrels"
   ]
  },
  {
   "cell_type": "code",
   "execution_count": 21,
   "metadata": {},
   "outputs": [],
   "source": [
    "df_qrels.reset_index(drop=False, inplace=True)\n",
    "ds_qs_ids = np.unique(df_qrels['dsqid'])"
   ]
  },
  {
   "cell_type": "code",
   "execution_count": 29,
   "metadata": {},
   "outputs": [
    {
     "data": {
      "text/html": [
       "<div>\n",
       "<style scoped>\n",
       "    .dataframe tbody tr th:only-of-type {\n",
       "        vertical-align: middle;\n",
       "    }\n",
       "\n",
       "    .dataframe tbody tr th {\n",
       "        vertical-align: top;\n",
       "    }\n",
       "\n",
       "    .dataframe thead th {\n",
       "        text-align: right;\n",
       "    }\n",
       "</style>\n",
       "<table border=\"1\" class=\"dataframe\">\n",
       "  <thead>\n",
       "    <tr style=\"text-align: right;\">\n",
       "      <th></th>\n",
       "      <th>ds_query_id</th>\n",
       "      <th>ds_id</th>\n",
       "      <th>query_emb_id</th>\n",
       "    </tr>\n",
       "  </thead>\n",
       "  <tbody>\n",
       "    <tr>\n",
       "      <th>0</th>\n",
       "      <td>0</td>\n",
       "      <td>1</td>\n",
       "      <td>0</td>\n",
       "    </tr>\n",
       "    <tr>\n",
       "      <th>1</th>\n",
       "      <td>1</td>\n",
       "      <td>1</td>\n",
       "      <td>1</td>\n",
       "    </tr>\n",
       "    <tr>\n",
       "      <th>2</th>\n",
       "      <td>2</td>\n",
       "      <td>1</td>\n",
       "      <td>2</td>\n",
       "    </tr>\n",
       "    <tr>\n",
       "      <th>3</th>\n",
       "      <td>3</td>\n",
       "      <td>1</td>\n",
       "      <td>3</td>\n",
       "    </tr>\n",
       "    <tr>\n",
       "      <th>4</th>\n",
       "      <td>4</td>\n",
       "      <td>1</td>\n",
       "      <td>4</td>\n",
       "    </tr>\n",
       "    <tr>\n",
       "      <th>...</th>\n",
       "      <td>...</td>\n",
       "      <td>...</td>\n",
       "      <td>...</td>\n",
       "    </tr>\n",
       "    <tr>\n",
       "      <th>188302</th>\n",
       "      <td>188302</td>\n",
       "      <td>1</td>\n",
       "      <td>188302</td>\n",
       "    </tr>\n",
       "    <tr>\n",
       "      <th>188303</th>\n",
       "      <td>188303</td>\n",
       "      <td>1</td>\n",
       "      <td>188303</td>\n",
       "    </tr>\n",
       "    <tr>\n",
       "      <th>188304</th>\n",
       "      <td>188304</td>\n",
       "      <td>1</td>\n",
       "      <td>188304</td>\n",
       "    </tr>\n",
       "    <tr>\n",
       "      <th>188305</th>\n",
       "      <td>188305</td>\n",
       "      <td>1</td>\n",
       "      <td>188305</td>\n",
       "    </tr>\n",
       "    <tr>\n",
       "      <th>188306</th>\n",
       "      <td>188306</td>\n",
       "      <td>1</td>\n",
       "      <td>188306</td>\n",
       "    </tr>\n",
       "  </tbody>\n",
       "</table>\n",
       "<p>188307 rows × 3 columns</p>\n",
       "</div>"
      ],
      "text/plain": [
       "        ds_query_id  ds_id  query_emb_id\n",
       "0                 0      1             0\n",
       "1                 1      1             1\n",
       "2                 2      1             2\n",
       "3                 3      1             3\n",
       "4                 4      1             4\n",
       "...             ...    ...           ...\n",
       "188302       188302      1        188302\n",
       "188303       188303      1        188303\n",
       "188304       188304      1        188304\n",
       "188305       188305      1        188305\n",
       "188306       188306      1        188306\n",
       "\n",
       "[188307 rows x 3 columns]"
      ]
     },
     "execution_count": 29,
     "metadata": {},
     "output_type": "execute_result"
    }
   ],
   "source": [
    "df_qs_ids = read_tsv(qs_ids_fpath)\n",
    "df_qs_ids.set_index('ds_query_id', inplace=True)\n",
    "df_qs_ids = df_qs_ids.loc[ds_qs_ids].copy()\n",
    "df_qs_ids.reset_index(drop=False, inplace=True)\n",
    "df_qs_ids"
   ]
  },
  {
   "cell_type": "code",
   "execution_count": 30,
   "metadata": {},
   "outputs": [
    {
     "name": "stdout",
     "output_type": "stream",
     "text": [
      "{'ds_dir_paths': [PosixPath('/home/misha/data/msmarco'),\n",
      "                  PosixPath('/home/misha/data/fever')],\n",
      " 'emb_chunk_size': 100,\n",
      " 'model_fpath': PosixPath('/home/misha/data/train_mllm_ranker_qrels/ranker-20240903_215749-msmarco-fever/best.pth'),\n",
      " 'n_docs': 8630403,\n",
      " 'n_docs_chunks': 69767925,\n",
      " 'n_qs': 495348,\n",
      " 'n_qs_chunks': 495373}\n"
     ]
    }
   ],
   "source": [
    "run_info = parse_yaml_file_as(RunInfo, run_info_fpath)\n",
    "pprint(run_info.dict())"
   ]
  },
  {
   "cell_type": "code",
   "execution_count": 31,
   "metadata": {},
   "outputs": [
    {
     "name": "stdout",
     "output_type": "stream",
     "text": [
      "{'ds_dir_paths': [PosixPath('/home/misha/data/msmarco'),\n",
      "                  PosixPath('/home/misha/data/fever')],\n",
      " 'emb_chunk_size': 100,\n",
      " 'model_fpath': PosixPath('/home/misha/data/train_mllm_ranker_qrels/ranker-20240903_215749-msmarco-fever/best.pth'),\n",
      " 'n_docs': 188307,\n",
      " 'n_docs_chunks': 3488396,\n",
      " 'n_qs': 188307,\n",
      " 'n_qs_chunks': 188307}\n"
     ]
    }
   ],
   "source": [
    "run_info.n_docs = len(df_docs_ids['ds_doc_id'].unique())\n",
    "run_info.n_docs_chunks = len(df_docs_ids)\n",
    "run_info.n_qs = len(df_qs_ids['ds_query_id'].unique())\n",
    "run_info.n_qs_chunks = len(df_qs_ids)\n",
    "pprint(run_info.dict())"
   ]
  },
  {
   "cell_type": "code",
   "execution_count": 26,
   "metadata": {},
   "outputs": [
    {
     "data": {
      "text/plain": [
       "188307"
      ]
     },
     "execution_count": 26,
     "metadata": {},
     "output_type": "execute_result"
    }
   ],
   "source": [
    "len(df_docs_ids['ds_doc_id'].unique())"
   ]
  },
  {
   "cell_type": "code",
   "execution_count": 32,
   "metadata": {},
   "outputs": [],
   "source": [
    "write_tsv(df_docs_ids, DST_PATH / docs_ids_fpath.name)\n",
    "write_tsv(df_qs_ids, DST_PATH / qs_ids_fpath.name)\n",
    "write_tsv(df_qrels, DST_PATH / qrels_fpath.name)"
   ]
  },
  {
   "cell_type": "code",
   "execution_count": 33,
   "metadata": {},
   "outputs": [
    {
     "data": {
      "text/plain": [
       "'/home/misha/data/ranker_embs_msmarco_fever_part/qs_embs.npy'"
      ]
     },
     "execution_count": 33,
     "metadata": {},
     "output_type": "execute_result"
    }
   ],
   "source": [
    "shutil.copy(qs_embs_fpath, DST_PATH)"
   ]
  },
  {
   "cell_type": "code",
   "execution_count": 34,
   "metadata": {},
   "outputs": [],
   "source": [
    "to_yaml_file(DST_PATH / run_info_fpath.name, run_info)"
   ]
  },
  {
   "cell_type": "code",
   "execution_count": 37,
   "metadata": {},
   "outputs": [],
   "source": [
    "n_bytes = len(df_docs_ids) * 256 * 4\n",
    "n_chunk = 1024 * 1024\n",
    "n_read = 0\n",
    "with open(docs_embs_fpath, 'rb') as f_src, open(DST_PATH / docs_embs_fpath.name, 'wb') as f_dst:\n",
    "    n_to_read = n_chunk\n",
    "    while n_to_read > 0:\n",
    "        n_to_read = min(n_bytes - n_read, n_chunk)\n",
    "        bts = f_src.read(n_to_read)\n",
    "        f_dst.write(bts)\n",
    "        n_read += n_to_read\n"
   ]
  },
  {
   "cell_type": "code",
   "execution_count": null,
   "metadata": {},
   "outputs": [],
   "source": []
  },
  {
   "cell_type": "code",
   "execution_count": null,
   "metadata": {},
   "outputs": [],
   "source": []
  }
 ],
 "metadata": {
  "kernelspec": {
   "display_name": "mllm",
   "language": "python",
   "name": "python3"
  },
  "language_info": {
   "codemirror_mode": {
    "name": "ipython",
    "version": 3
   },
   "file_extension": ".py",
   "mimetype": "text/x-python",
   "name": "python",
   "nbconvert_exporter": "python",
   "pygments_lexer": "ipython3",
   "version": "3.10.14"
  }
 },
 "nbformat": 4,
 "nbformat_minor": 2
}
