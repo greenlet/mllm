{
 "cells": [
  {
   "cell_type": "code",
   "execution_count": 1,
   "metadata": {},
   "outputs": [],
   "source": [
    "%load_ext autoreload\n",
    "%autoreload 2"
   ]
  },
  {
   "cell_type": "code",
   "execution_count": 2,
   "metadata": {},
   "outputs": [],
   "source": [
    "import io\n",
    "import json\n",
    "import os\n",
    "from pathlib import Path\n",
    "from pprint import pprint\n",
    "import requests\n",
    "import sys\n",
    "from typing import Optional\n",
    "\n",
    "if '..' not in sys.path: sys.path.append('..')\n",
    "\n",
    "from datasets import load_dataset\n",
    "from datasets.arrow_dataset import Dataset\n",
    "import numpy as np\n",
    "from matplotlib import pyplot as plt\n",
    "import pandas as pd\n",
    "from pydantic_yaml import parse_yaml_file_as\n",
    "import torch\n",
    "from torch import nn\n",
    "import torch.nn.functional as F\n",
    "from transformers import GPT2Tokenizer, AddedToken, PreTrainedTokenizer, AutoTokenizer\n",
    "\n",
    "\n",
    "from mllm.utils.utils import read_tsv, write_tsv\n",
    "\n"
   ]
  },
  {
   "cell_type": "markdown",
   "metadata": {},
   "source": [
    "# QnA datasets exploration\n",
    "## Config and paths"
   ]
  },
  {
   "cell_type": "code",
   "execution_count": 3,
   "metadata": {},
   "outputs": [],
   "source": [
    "DATA_PATH = Path(os.path.expandvars('$HOME')) / 'data'\n",
    "HOTPOTQA_URL = 'http://curtis.ml.cmu.edu/datasets/hotpot/hotpot_train_v1.1.json'\n",
    "HOTPOTQA_DATA_PATH = DATA_PATH / 'hotpotqa'\n",
    "\n",
    "HOTPOTQA_DATA_PATH.mkdir(exist_ok=True)"
   ]
  },
  {
   "cell_type": "markdown",
   "metadata": {},
   "source": [
    "## Hotpot QA\n",
    "### Load"
   ]
  },
  {
   "cell_type": "code",
   "execution_count": 4,
   "metadata": {},
   "outputs": [],
   "source": [
    "\n",
    "def get_hotpotqa(url: str, dir_path: Path) -> pd.DataFrame:\n",
    "    fname = url.split('/')[-1]\n",
    "    fpath = dir_path / fname\n",
    "    fpath = fpath.with_suffix('.tsv')\n",
    "    if fpath.exists():\n",
    "        print(f'Load {fpath}')\n",
    "        df = read_tsv(fpath)\n",
    "    else:\n",
    "        print(f'Load {url}')\n",
    "        resp = requests.get(url)\n",
    "        data = resp.json()\n",
    "        df = pd.DataFrame.from_records(data)\n",
    "        print(f'Write {fpath}')\n",
    "        write_tsv(df, fpath)\n",
    "    return df\n"
   ]
  },
  {
   "cell_type": "code",
   "execution_count": 5,
   "metadata": {},
   "outputs": [
    {
     "name": "stdout",
     "output_type": "stream",
     "text": [
      "Load /home/misha/data/hotpotqa/hotpot_train_v1.1.tsv\n"
     ]
    },
    {
     "data": {
      "text/html": [
       "<div>\n",
       "<style scoped>\n",
       "    .dataframe tbody tr th:only-of-type {\n",
       "        vertical-align: middle;\n",
       "    }\n",
       "\n",
       "    .dataframe tbody tr th {\n",
       "        vertical-align: top;\n",
       "    }\n",
       "\n",
       "    .dataframe thead th {\n",
       "        text-align: right;\n",
       "    }\n",
       "</style>\n",
       "<table border=\"1\" class=\"dataframe\">\n",
       "  <thead>\n",
       "    <tr style=\"text-align: right;\">\n",
       "      <th></th>\n",
       "      <th>supporting_facts</th>\n",
       "      <th>level</th>\n",
       "      <th>question</th>\n",
       "      <th>context</th>\n",
       "      <th>answer</th>\n",
       "      <th>_id</th>\n",
       "      <th>type</th>\n",
       "    </tr>\n",
       "  </thead>\n",
       "  <tbody>\n",
       "    <tr>\n",
       "      <th>0</th>\n",
       "      <td>[[\"Arthur's Magazine\", 0], ['First for Women',...</td>\n",
       "      <td>medium</td>\n",
       "      <td>Which magazine was started first Arthur's Maga...</td>\n",
       "      <td>[['Radio City (Indian radio station)', [\"Radio...</td>\n",
       "      <td>Arthur's Magazine</td>\n",
       "      <td>5a7a06935542990198eaf050</td>\n",
       "      <td>comparison</td>\n",
       "    </tr>\n",
       "    <tr>\n",
       "      <th>1</th>\n",
       "      <td>[['Oberoi family', 0], ['The Oberoi Group', 0]]</td>\n",
       "      <td>medium</td>\n",
       "      <td>The Oberoi family is part of a hotel company t...</td>\n",
       "      <td>[['Ritz-Carlton Jakarta', ['The Ritz-Carlton J...</td>\n",
       "      <td>Delhi</td>\n",
       "      <td>5a879ab05542996e4f30887e</td>\n",
       "      <td>bridge</td>\n",
       "    </tr>\n",
       "    <tr>\n",
       "      <th>2</th>\n",
       "      <td>[['Allie Goertz', 0], ['Allie Goertz', 1], ['A...</td>\n",
       "      <td>hard</td>\n",
       "      <td>Musician and satirist Allie Goertz wrote a son...</td>\n",
       "      <td>[['Lisa Simpson', ['Lisa Marie Simpson is a fi...</td>\n",
       "      <td>President Richard Nixon</td>\n",
       "      <td>5a8d7341554299441c6b9fe5</td>\n",
       "      <td>bridge</td>\n",
       "    </tr>\n",
       "    <tr>\n",
       "      <th>3</th>\n",
       "      <td>[['Peggy Seeger', 0], ['Peggy Seeger', 1], ['E...</td>\n",
       "      <td>medium</td>\n",
       "      <td>What nationality was James Henry Miller's wife?</td>\n",
       "      <td>[['Moloch: or, This Gentile World', ['Moloch: ...</td>\n",
       "      <td>American</td>\n",
       "      <td>5a82171f5542990a1d231f4a</td>\n",
       "      <td>bridge</td>\n",
       "    </tr>\n",
       "    <tr>\n",
       "      <th>4</th>\n",
       "      <td>[['Cadmium chloride', 1], ['Ethanol', 0]]</td>\n",
       "      <td>medium</td>\n",
       "      <td>Cadmium Chloride is slightly soluble in this c...</td>\n",
       "      <td>[['Cadmium chloride', ['Cadmium chloride is a ...</td>\n",
       "      <td>alcohol</td>\n",
       "      <td>5a84dd955542997b5ce3ff79</td>\n",
       "      <td>bridge</td>\n",
       "    </tr>\n",
       "    <tr>\n",
       "      <th>...</th>\n",
       "      <td>...</td>\n",
       "      <td>...</td>\n",
       "      <td>...</td>\n",
       "      <td>...</td>\n",
       "      <td>...</td>\n",
       "      <td>...</td>\n",
       "      <td>...</td>\n",
       "    </tr>\n",
       "    <tr>\n",
       "      <th>90442</th>\n",
       "      <td>[['Kerry Remsen', 1], ['Bert Remsen', 0]]</td>\n",
       "      <td>medium</td>\n",
       "      <td>Kerry Remsen is the daughter of an actor with ...</td>\n",
       "      <td>[['Kerry Remsen', ['Kerry Remsen is an America...</td>\n",
       "      <td>American</td>\n",
       "      <td>5a8f8db25542997ba9cb32b9</td>\n",
       "      <td>bridge</td>\n",
       "    </tr>\n",
       "    <tr>\n",
       "      <th>90443</th>\n",
       "      <td>[['Northshore Mall', 0], ['Northshore Mall', 4...</td>\n",
       "      <td>easy</td>\n",
       "      <td>Who manages both Northshore Mall in Peabody, M...</td>\n",
       "      <td>[['Green Tree Mall', ['Green Tree Mall is a sh...</td>\n",
       "      <td>Simon Property Group</td>\n",
       "      <td>5ae4f3615542993aec5ec0fd</td>\n",
       "      <td>bridge</td>\n",
       "    </tr>\n",
       "    <tr>\n",
       "      <th>90444</th>\n",
       "      <td>[['Charlee Johnson', 4], ['DreamWorks', 0]]</td>\n",
       "      <td>medium</td>\n",
       "      <td>Charlee Johnson was part of a band that signed...</td>\n",
       "      <td>[['Simon M. Woods', ['Simon M. Woods is a Brit...</td>\n",
       "      <td>Amblin Partners</td>\n",
       "      <td>5a903fc95542990a984935bd</td>\n",
       "      <td>bridge</td>\n",
       "    </tr>\n",
       "    <tr>\n",
       "      <th>90445</th>\n",
       "      <td>[['Salt to the Sea', 1], ['MV Wilhelm Gustloff...</td>\n",
       "      <td>medium</td>\n",
       "      <td>What is the ship that sank in the Baltic sea a...</td>\n",
       "      <td>[['The I.V. Stalin White Sea – Baltic Sea Cana...</td>\n",
       "      <td>MV \"Wilhelm Gustloff</td>\n",
       "      <td>5ab56e71554299494045efc8</td>\n",
       "      <td>bridge</td>\n",
       "    </tr>\n",
       "    <tr>\n",
       "      <th>90446</th>\n",
       "      <td>[['Vietnam national cricket team', 0], ['Vietn...</td>\n",
       "      <td>medium</td>\n",
       "      <td>Vietnam national cricket team will debut at wh...</td>\n",
       "      <td>[['Vietnam national cricket team', ['The Vietn...</td>\n",
       "      <td>2017 Southeast Asian Games</td>\n",
       "      <td>5ac28e915542996366519a0a</td>\n",
       "      <td>bridge</td>\n",
       "    </tr>\n",
       "  </tbody>\n",
       "</table>\n",
       "<p>90447 rows × 7 columns</p>\n",
       "</div>"
      ],
      "text/plain": [
       "                                        supporting_facts   level  \\\n",
       "0      [[\"Arthur's Magazine\", 0], ['First for Women',...  medium   \n",
       "1        [['Oberoi family', 0], ['The Oberoi Group', 0]]  medium   \n",
       "2      [['Allie Goertz', 0], ['Allie Goertz', 1], ['A...    hard   \n",
       "3      [['Peggy Seeger', 0], ['Peggy Seeger', 1], ['E...  medium   \n",
       "4              [['Cadmium chloride', 1], ['Ethanol', 0]]  medium   \n",
       "...                                                  ...     ...   \n",
       "90442          [['Kerry Remsen', 1], ['Bert Remsen', 0]]  medium   \n",
       "90443  [['Northshore Mall', 0], ['Northshore Mall', 4...    easy   \n",
       "90444        [['Charlee Johnson', 4], ['DreamWorks', 0]]  medium   \n",
       "90445  [['Salt to the Sea', 1], ['MV Wilhelm Gustloff...  medium   \n",
       "90446  [['Vietnam national cricket team', 0], ['Vietn...  medium   \n",
       "\n",
       "                                                question  \\\n",
       "0      Which magazine was started first Arthur's Maga...   \n",
       "1      The Oberoi family is part of a hotel company t...   \n",
       "2      Musician and satirist Allie Goertz wrote a son...   \n",
       "3        What nationality was James Henry Miller's wife?   \n",
       "4      Cadmium Chloride is slightly soluble in this c...   \n",
       "...                                                  ...   \n",
       "90442  Kerry Remsen is the daughter of an actor with ...   \n",
       "90443  Who manages both Northshore Mall in Peabody, M...   \n",
       "90444  Charlee Johnson was part of a band that signed...   \n",
       "90445  What is the ship that sank in the Baltic sea a...   \n",
       "90446  Vietnam national cricket team will debut at wh...   \n",
       "\n",
       "                                                 context  \\\n",
       "0      [['Radio City (Indian radio station)', [\"Radio...   \n",
       "1      [['Ritz-Carlton Jakarta', ['The Ritz-Carlton J...   \n",
       "2      [['Lisa Simpson', ['Lisa Marie Simpson is a fi...   \n",
       "3      [['Moloch: or, This Gentile World', ['Moloch: ...   \n",
       "4      [['Cadmium chloride', ['Cadmium chloride is a ...   \n",
       "...                                                  ...   \n",
       "90442  [['Kerry Remsen', ['Kerry Remsen is an America...   \n",
       "90443  [['Green Tree Mall', ['Green Tree Mall is a sh...   \n",
       "90444  [['Simon M. Woods', ['Simon M. Woods is a Brit...   \n",
       "90445  [['The I.V. Stalin White Sea – Baltic Sea Cana...   \n",
       "90446  [['Vietnam national cricket team', ['The Vietn...   \n",
       "\n",
       "                           answer                       _id        type  \n",
       "0               Arthur's Magazine  5a7a06935542990198eaf050  comparison  \n",
       "1                           Delhi  5a879ab05542996e4f30887e      bridge  \n",
       "2         President Richard Nixon  5a8d7341554299441c6b9fe5      bridge  \n",
       "3                        American  5a82171f5542990a1d231f4a      bridge  \n",
       "4                         alcohol  5a84dd955542997b5ce3ff79      bridge  \n",
       "...                           ...                       ...         ...  \n",
       "90442                    American  5a8f8db25542997ba9cb32b9      bridge  \n",
       "90443        Simon Property Group  5ae4f3615542993aec5ec0fd      bridge  \n",
       "90444             Amblin Partners  5a903fc95542990a984935bd      bridge  \n",
       "90445        MV \"Wilhelm Gustloff  5ab56e71554299494045efc8      bridge  \n",
       "90446  2017 Southeast Asian Games  5ac28e915542996366519a0a      bridge  \n",
       "\n",
       "[90447 rows x 7 columns]"
      ]
     },
     "execution_count": 5,
     "metadata": {},
     "output_type": "execute_result"
    }
   ],
   "source": [
    "df_hpqa = get_hotpotqa(HOTPOTQA_URL, HOTPOTQA_DATA_PATH)\n",
    "df_hpqa"
   ]
  },
  {
   "cell_type": "markdown",
   "metadata": {},
   "source": [
    "### Statistics"
   ]
  },
  {
   "cell_type": "code",
   "execution_count": 8,
   "metadata": {},
   "outputs": [
    {
     "data": {
      "text/plain": [
       "level\n",
       "medium    56814\n",
       "easy      17972\n",
       "hard      15661\n",
       "Name: count, dtype: int64"
      ]
     },
     "execution_count": 8,
     "metadata": {},
     "output_type": "execute_result"
    }
   ],
   "source": [
    "level_vc = df_hpqa.level.value_counts()\n",
    "level_vc"
   ]
  },
  {
   "cell_type": "code",
   "execution_count": 9,
   "metadata": {},
   "outputs": [
    {
     "data": {
      "text/plain": [
       "<Axes: xlabel='level'>"
      ]
     },
     "execution_count": 9,
     "metadata": {},
     "output_type": "execute_result"
    },
    {
     "data": {
      "image/png": "[encoded data removed]",
      "text/plain": [
       "<Figure size 640x480 with 1 Axes>"
      ]
     },
     "metadata": {},
     "output_type": "display_data"
    }
   ],
   "source": [
    "level_vc.plot.bar()"
   ]
  },
  {
   "cell_type": "code",
   "execution_count": 11,
   "metadata": {},
   "outputs": [
    {
     "data": {
      "text/plain": [
       "type\n",
       "bridge        72991\n",
       "comparison    17456\n",
       "Name: count, dtype: int64"
      ]
     },
     "execution_count": 11,
     "metadata": {},
     "output_type": "execute_result"
    }
   ],
   "source": [
    "type_vc = df_hpqa.type.value_counts()\n",
    "type_vc"
   ]
  },
  {
   "cell_type": "code",
   "execution_count": 33,
   "metadata": {},
   "outputs": [
    {
     "data": {
      "text/plain": [
       "<Axes: xlabel='type'>"
      ]
     },
     "execution_count": 33,
     "metadata": {},
     "output_type": "execute_result"
    },
    {
     "data": {
      "image/png": "[encoded data removed]",
      "text/plain": [
       "<Figure size 640x480 with 1 Axes>"
      ]
     },
     "metadata": {},
     "output_type": "display_data"
    }
   ],
   "source": [
    "type_vc.plot.bar()"
   ]
  },
  {
   "cell_type": "code",
   "execution_count": 34,
   "metadata": {},
   "outputs": [
    {
     "data": {
      "text/plain": [
       "<Axes: xlabel='type,level'>"
      ]
     },
     "execution_count": 34,
     "metadata": {},
     "output_type": "execute_result"
    },
    {
     "data": {
      "image/png": "[encoded data removed]",
      "text/plain": [
       "<Figure size 640x480 with 1 Axes>"
      ]
     },
     "metadata": {},
     "output_type": "display_data"
    }
   ],
   "source": [
    "df_hpqa[['type', 'level']].value_counts().plot.bar()"
   ]
  },
  {
   "cell_type": "markdown",
   "metadata": {},
   "source": [
    "### Comparison Questions"
   ]
  },
  {
   "cell_type": "code",
   "execution_count": 14,
   "metadata": {},
   "outputs": [
    {
     "data": {
      "text/html": [
       "<div>\n",
       "<style scoped>\n",
       "    .dataframe tbody tr th:only-of-type {\n",
       "        vertical-align: middle;\n",
       "    }\n",
       "\n",
       "    .dataframe tbody tr th {\n",
       "        vertical-align: top;\n",
       "    }\n",
       "\n",
       "    .dataframe thead th {\n",
       "        text-align: right;\n",
       "    }\n",
       "</style>\n",
       "<table border=\"1\" class=\"dataframe\">\n",
       "  <thead>\n",
       "    <tr style=\"text-align: right;\">\n",
       "      <th></th>\n",
       "      <th>supporting_facts</th>\n",
       "      <th>level</th>\n",
       "      <th>question</th>\n",
       "      <th>context</th>\n",
       "      <th>answer</th>\n",
       "      <th>_id</th>\n",
       "      <th>type</th>\n",
       "    </tr>\n",
       "  </thead>\n",
       "  <tbody>\n",
       "    <tr>\n",
       "      <th>37191</th>\n",
       "      <td>[['Suor Angelica', 0], ['Louise (opera)', 0]]</td>\n",
       "      <td>medium</td>\n",
       "      <td>what do Suor Angelica and Louise have in common?</td>\n",
       "      <td>[['Louise (opera)', ['Louise is an opera (\"rom...</td>\n",
       "      <td>opera</td>\n",
       "      <td>5a8d2bac554299653c1aa13a</td>\n",
       "      <td>comparison</td>\n",
       "    </tr>\n",
       "  </tbody>\n",
       "</table>\n",
       "</div>"
      ],
      "text/plain": [
       "                                    supporting_facts   level  \\\n",
       "37191  [['Suor Angelica', 0], ['Louise (opera)', 0]]  medium   \n",
       "\n",
       "                                               question  \\\n",
       "37191  what do Suor Angelica and Louise have in common?   \n",
       "\n",
       "                                                 context answer  \\\n",
       "37191  [['Louise (opera)', ['Louise is an opera (\"rom...  opera   \n",
       "\n",
       "                            _id        type  \n",
       "37191  5a8d2bac554299653c1aa13a  comparison  "
      ]
     },
     "execution_count": 14,
     "metadata": {},
     "output_type": "execute_result"
    }
   ],
   "source": [
    "sample_question = df_hpqa[df_hpqa.type == 'comparison'].sample()\n",
    "sample_question"
   ]
  },
  {
   "cell_type": "code",
   "execution_count": 16,
   "metadata": {},
   "outputs": [
    {
     "data": {
      "text/plain": [
       "'what do Suor Angelica and Louise have in common?'"
      ]
     },
     "execution_count": 16,
     "metadata": {},
     "output_type": "execute_result"
    }
   ],
   "source": [
    "qrow = sample_question.iloc[0]\n",
    "qrow.question"
   ]
  },
  {
   "cell_type": "code",
   "execution_count": null,
   "metadata": {},
   "outputs": [
    {
     "data": {
      "text/plain": [
       "[['Suor Angelica', 0], ['Louise (opera)', 0]]"
      ]
     },
     "metadata": {},
     "output_type": "display_data"
    }
   ],
   "source": [
    "supp_facts = eval(qrow.supporting_facts)\n",
    "supp_facts"
   ]
  },
  {
   "cell_type": "code",
   "execution_count": 26,
   "metadata": {},
   "outputs": [
    {
     "data": {
      "text/plain": [
       "[['Louise (opera)',\n",
       "  ['Louise is an opera (\"roman musical\" ) in four acts by Gustave Charpentier to an original French libretto by the composer, with some contributions by Saint-Pol-Roux, a symbolist poet and inspiration of the surrealists.']],\n",
       " ['Il trittico',\n",
       "  ['Il trittico (\"The Triptych\") is the title of a collection of three one-act operas, \"Il tabarro\", \"Suor Angelica\", and \"Gianni Schicchi\", by Giacomo Puccini.',\n",
       "   ' The work received its world premiere at the Metropolitan Opera on 14 December 1918.']],\n",
       " ['Jane Henschel',\n",
       "  ['Jane Henschel (born 2 March 1952) is an American operatic mezzo soprano.',\n",
       "   ' Henschel, who was born in Wisconsin, studied at the University of Southern California, and then pursued further studies in Germany, where she has made her home.',\n",
       "   ' Her numerous opera appearances include Baba the Turk in Igor Stravinsky\\'s \"The Rake’s Progress\" with Glyndebourne Festival Opera, the Saito Kinen Festival Matsumoto, and the Salzburg festival; Brangäne in Richard Wagner’s \"Die Walküre\" with Paris Opéra and the Los Angeles Opera; the Principessa in Giacomo Puccini’s \"Suor Angelica\" with conductor Riccardo Chailly and the Royal Concertgebouw Orchestra; Blanche de la Force in Francis Poulenc’s \"Dialogues des Carmélites\" in Amsterdam; Kostelnicka Buryjovka in Leoš Janáček’s \"Jenůfa\" under Seiji Ozawa in Japan; and the Kabanicka in Janáček’s \"Katya Kabanova\" at the Salzburg Festival among others.']],\n",
       " ['Marie-Josée Lord',\n",
       "  ['Marie-Josée Lord is a Haitian-born Canadian soprano.',\n",
       "   ' Lord was adopted from Haiti at the age of six and grew up in Lévis.',\n",
       "   ' She made her professional debut as Liù in Turandot in 2003 at the Opéra de Québec.',\n",
       "   ' She was particularly noted for her Suor Angelica in 2006.',\n",
       "   \" Her debut album of arias was released in 2011, becoming one of the Canadian label Atma's best-selling recordings.\"]],\n",
       " ['Norine Burgess',\n",
       "  ['Norine Burgess is a Canadian singer.',\n",
       "   ' She is a graduate of the University of Calgary and the University of Toronto’s Opera School, mezzo-soprano.',\n",
       "   ' She received additional training as a member of the Canadian Opera Company (COC) Ensemble where she appeared in Electra, Suor Angelica, Lulu and Der Rosenkavalier.',\n",
       "   ' Ms. Burgess also performed Le Nozze di Figaro(Cherubino), Ariadne auf Naxos (Dryad), La Traviata(Flora) and Die Zauberflöte (Second Lady) with the COC.',\n",
       "   ' Additional operatic successes include Le Nozze di Figaro (Cherubino) and Carmen (Mercedes) with the Vancouver Opera, Fenena in Nabucco with Manitoba Opera, Albert Herring (Nancy) with the Calgary Opera and many appearances with the Edmonton Opera.']],\n",
       " ['Rita Fornia',\n",
       "  ['Rita Fornia (17 July 1878 – 27 October 1922) was an American opera singer.',\n",
       "   ' She began her career in Europe at the beginning of the 20th century singing coloratura soprano roles.',\n",
       "   ' Early on in her career her voice darkened and dropped slightly causing her to focus more within the mezzo-soprano repertoire while still singing some soprano roles.',\n",
       "   ' She joined the Metropolitan Opera company in 1907 where she performed regularly in mostly supporting roles until her retirement in 1922.',\n",
       "   ' She is best remembered today for portraying the role of the Abbess in the original production of Puccini\\'s \"Suor Angelica\" in 1918.']],\n",
       " ['Suor Angelica',\n",
       "  ['Suor Angelica (Sister Angelica) is an opera in one act by Giacomo Puccini to an original Italian libretto by Giovacchino Forzano.',\n",
       "   ' It is the second opera of the trio of operas known as \"Il trittico\" (\"Triptych\").',\n",
       "   ' It received its world premiere at the Metropolitan Opera on December 14, 1918.']],\n",
       " ['Giovacchino Forzano',\n",
       "  ['Giovacchino Forzano (] ; 19 November 1884 – 28 October 1970) was an Italian playwright, librettist, stage director, and film director.',\n",
       "   ' A resourceful writer, he authored numerous popular plays and produced opera librettos for most of the major Italian composers of the early twentieth century, including the librettos for Giacomo Puccini\\'s \"Suor Angelica\" and \"Gianni Schicchi\".']],\n",
       " ['Barbara Frittoli',\n",
       "  ['Barbara Frittoli (born 19 April 1967) is an Italian operatic soprano who has sung leading roles in opera houses throughout Europe and in the United States.',\n",
       "   ' She was born in Milan and graduated from the Milan Conservatory.',\n",
       "   ' She made her Metropolitan Opera debut in 1995 as Micaela in \"Carmen\" and has gone on to sing in over 80 performances there including Donna Elvira in \"Don Giovanni\", Fiordiligi in \"Così fan tutte\", Angelica in \"Suor Angelica\", Desdemona in \"Otello\", the title role in \"Luisa Miller\", Amelia in \"Simon Boccanegra\", Vitellia in \"La clemenza di Tito\" and Alicia Ford in \"Falstaff\".']],\n",
       " ['Anna Nechaeva',\n",
       "  ['Anna Nechaeva is Russian soprano singer who was born in Saratov and used attend its Conservatory in 1996.',\n",
       "   ' Later she was offered to perform the role of \"Tatiana\" in \"Eugene Onegin\" at the Saint Petersburg Conservatory and by 2003 became a soloist at the Saint Petersburg Opera where she continued her original role as well as other title roles in Giacomo Puccini\\'s \"Gianni Schicchi\", Madama Butterfly, and \"Suor Angelica\".',\n",
       "   ' From 2008 to 2011 she became a soloist at the Mikhaylovsky Theatre where she performed roles of \"Nedda\" in \"Pagliacci\" and \"Rachel\" in \"The Jews\" as well as the title roles of \"Rusalka\" and of course \"Tatiana\" in \"Eugene Onegin\".',\n",
       "   ' In 2012, she made her first public appearance with Bolshoi Theatre where she sang in \"The Enchantress\" portraying \"Nastasya\" becoming soloist there the same year.',\n",
       "   ' After her debut, she performed such roles as \"Iolanta\" in an opera of the same name as well as \"Liu\" in \"Turandot\" and \"Yaroslavna\" in \"Prince Igor\".']]]"
      ]
     },
     "execution_count": 26,
     "metadata": {},
     "output_type": "execute_result"
    }
   ],
   "source": [
    "context = eval(qrow.context)\n",
    "context"
   ]
  },
  {
   "cell_type": "markdown",
   "metadata": {},
   "source": [
    "### Bridge Questions"
   ]
  },
  {
   "cell_type": "code",
   "execution_count": 29,
   "metadata": {},
   "outputs": [
    {
     "data": {
      "text/html": [
       "<div>\n",
       "<style scoped>\n",
       "    .dataframe tbody tr th:only-of-type {\n",
       "        vertical-align: middle;\n",
       "    }\n",
       "\n",
       "    .dataframe tbody tr th {\n",
       "        vertical-align: top;\n",
       "    }\n",
       "\n",
       "    .dataframe thead th {\n",
       "        text-align: right;\n",
       "    }\n",
       "</style>\n",
       "<table border=\"1\" class=\"dataframe\">\n",
       "  <thead>\n",
       "    <tr style=\"text-align: right;\">\n",
       "      <th></th>\n",
       "      <th>supporting_facts</th>\n",
       "      <th>level</th>\n",
       "      <th>question</th>\n",
       "      <th>context</th>\n",
       "      <th>answer</th>\n",
       "      <th>_id</th>\n",
       "      <th>type</th>\n",
       "    </tr>\n",
       "  </thead>\n",
       "  <tbody>\n",
       "    <tr>\n",
       "      <th>24328</th>\n",
       "      <td>[['No. 22 Squadron RAF', 0], ['No. 22 Squadron...</td>\n",
       "      <td>easy</td>\n",
       "      <td>During the Second World War, the No. 22 Squadr...</td>\n",
       "      <td>[['Fairey Swordfish', ['The Fairey Swordfish w...</td>\n",
       "      <td>The North Sea</td>\n",
       "      <td>5ae772d85542997ec272765d</td>\n",
       "      <td>bridge</td>\n",
       "    </tr>\n",
       "  </tbody>\n",
       "</table>\n",
       "</div>"
      ],
      "text/plain": [
       "                                        supporting_facts level  \\\n",
       "24328  [['No. 22 Squadron RAF', 0], ['No. 22 Squadron...  easy   \n",
       "\n",
       "                                                question  \\\n",
       "24328  During the Second World War, the No. 22 Squadr...   \n",
       "\n",
       "                                                 context         answer  \\\n",
       "24328  [['Fairey Swordfish', ['The Fairey Swordfish w...  The North Sea   \n",
       "\n",
       "                            _id    type  \n",
       "24328  5ae772d85542997ec272765d  bridge  "
      ]
     },
     "execution_count": 29,
     "metadata": {},
     "output_type": "execute_result"
    }
   ],
   "source": [
    "sample_question = df_hpqa[(df_hpqa.type == 'bridge') & (df_hpqa.level == 'easy')].sample()\n",
    "sample_question"
   ]
  },
  {
   "cell_type": "code",
   "execution_count": 32,
   "metadata": {},
   "outputs": [
    {
     "data": {
      "text/plain": [
       "'During the Second World War, the No. 22 Squadron of the Royal Air Force operated in the torpedo bomber role over this body of water located between Great Britain, Scandinavia, Germany, the Netherlands, Belgium, and France?'"
      ]
     },
     "execution_count": 32,
     "metadata": {},
     "output_type": "execute_result"
    }
   ],
   "source": [
    "qrow.question"
   ]
  },
  {
   "cell_type": "code",
   "execution_count": 30,
   "metadata": {},
   "outputs": [
    {
     "data": {
      "text/plain": [
       "\"[['No. 22 Squadron RAF', 0], ['No. 22 Squadron RAF', 3], ['North Sea', 0]]\""
      ]
     },
     "execution_count": 30,
     "metadata": {},
     "output_type": "execute_result"
    }
   ],
   "source": [
    "qrow = sample_question.iloc[0]\n",
    "qrow['supporting_facts']"
   ]
  },
  {
   "cell_type": "code",
   "execution_count": 31,
   "metadata": {},
   "outputs": [
    {
     "data": {
      "text/plain": [
       "[['Fairey Swordfish',\n",
       "  ['The Fairey Swordfish was a biplane torpedo bomber designed by the Fairey Aviation Company.',\n",
       "   ' Originating in the early 1930s, the Swordfish, nicknamed \"Stringbag\", was operated by the Fleet Air Arm of the Royal Navy, in addition to having been equipped by the Royal Air Force (RAF) alongside multiple overseas operators, including the Royal Canadian Air Force (RCAF) and the Royal Netherlands Navy.',\n",
       "   ' It was initially operated primarily as a fleet attack aircraft; during its later years, the Swordfish became increasingly used as an anti-submarine and training platform.',\n",
       "   ' The type was in frontline service throughout the Second World War, but it was already considered obsolescent at the outbreak of the conflict in 1939.']],\n",
       " ['No. 76 Squadron RAF',\n",
       "  ['No. 76 Squadron was a squadron of the Royal Air Force.',\n",
       "   ' It was formed during World War I as a home defence fighter squadron and in its second incarnation during World War II flew as a bomber squadron, first as an operational training unit and later as an active bomber squadron.',\n",
       "   ' With the end of the war the squadron converted to the role of transport squadron, to be reactivated shortly in the bomber role during the 1950s.',\n",
       "   ' From 2007 to 2011, it was a training unit, equipped with the Short Tucano at RAF Linton-on-Ouse.']],\n",
       " ['RCAF Western Air Command',\n",
       "  [\"Western Air Command was the part of the Royal Canadian Air Force's Home War Establishment responsible for air operations on the Pacific coast of Canada during the Second World War.\",\n",
       "   ' When Canada declared war against Germany in September 1939 the command consisted of only five squadrons.',\n",
       "   ' Four of them equipped with obsolete aircraft including a bomber squadron with aircraft from the Great War and there were no fighter aircraft at all for its only fighter squadron (113 Fighter Squadron was thus disbanded).',\n",
       "   ' With the Japanese threat after Pearl Harbor it grew rapidly and played a critical role in fighter and anti-submarine operations in Canadian and American waters during the Aleutian Islands Campaign.',\n",
       "   \" It was there that Squadron Leader K.A. Boomer of No. 111 Squadron shot down a Rufe fighter, the RCAF's only kill in the Pacific Theatre.\",\n",
       "   ' On 7 July 1942 a Bristol Bolingbroke pressed home an attack on the Japanese Submarine Ro 32 the pilot F/Sgt.',\n",
       "   ' P.M.G. Thomas of No. 115 Squadron RCAF then led American Destroyers to sink the damaged submarine.',\n",
       "   ' By January 1943 Western Air Command had expanded to include many bomber, fighter and operational units under its control.',\n",
       "   ' By the end of the war the command would involve some twenty squadrons when the last units to join were added in 1943.',\n",
       "   ' These were the 163 Army Cooperation Squadron in March flying Bristol Bolingbrokes and Hawker Hurricanes, in May the 160 Bomber-Reconnaissance Squadron was added flying Cansos from Sea Island BC (before moving to Yarmouth NS in July) and the 166 Communication Squadron formed in September flying various types.',\n",
       "   \" In addition to the new squadrons, new aircraft types came on line replacing the command's remaining Supermarine Stranraers and Blackburn Sharks with Canso's and the Bolingbrokes and Beauforts with the Lockheed Ventura.\",\n",
       "   \" Countless training missions and operational patrols bolstered the air activity over the coastal areas but there was not much action until RCAF Western Command was on the look out for General Kusaba's Fire Balloons that the Japanese called the Fūsen Bakudan Campaign.\",\n",
       "   ' In February and March 1945, P-40 fighter pilots from 133 Squadron, Royal Canadian Air Force operating out of RCAF Patricia Bay (Victoria, British Columbia), intercepted and destroyed two fire balloons, On 21 February, Pilot Officer E. E. Maxwell While shot down a balloon, which landed on Sumas Mountain, in Washington State.',\n",
       "   ' On 10 March, Pilot Officer J. O. Patten destroyed a balloon near Saltspring Island, British Columbia.',\n",
       "   ' During another interception a Canso forced down a fire balloon which was examined at the army headquarters.',\n",
       "   ' Patrol activity was joined by the Operational Training Schools (OTS) operated by Number 4 Training Command of the BCATP.',\n",
       "   ' They were the No. 3 OTS flying the Canso and Catalina and No. 32 OTS with Ansons, Beauforts and Swordfish at Patricia Bay.',\n",
       "   ' In April, 1944 the No. 5 OTS Heavy Conversion unit stood up at Boundary Bay when 16 B-24 Liberators arrived fresh from American factories.',\n",
       "   ' By the end of September 1944 RCAF 5 O.T.U. had grown to sizeable force of some 87 aircraft including 38 B-24 Liberators, 35 B-25 Mitchells, 5 Bolingbrokes, 8 P-40 Kittyhawks and a single Norseman.',\n",
       "   \" With the end of the war in Europe these aircraft were joined by a number of Victory Aircraft Lancaster X bombers which were to be used to train the British Commonwealth's Very Long Range Bomber Tiger Force that would soon be sent to bomb the Japanese mainland from Okinawa.\",\n",
       "   \" With the unconditional surrender of Japan the RCAF's Tiger Force bomber squadrons were disbanded before they flew overseas and the total draw down of the Western Air Command was suddenly undertaken.\",\n",
       "   ' Within several months almost all the flying squadrons would be completely stood down.']],\n",
       " ['Charles Portal, 1st Viscount Portal of Hungerford',\n",
       "  ['Marshal of the Royal Air Force Charles Frederick Algernon Portal, 1st Viscount Portal of Hungerford, (21 May 1893 – 22 April 1971) was a senior Royal Air Force officer.',\n",
       "   ' He served as a bomber pilot in the First World War, and rose to become first a flight commander and then a squadron commander, flying light bombers on the Western Front.',\n",
       "   ' In the early stages of the Second World War he was commander-in-chief of Bomber Command.',\n",
       "   ' He was an advocate of strategic area bombing against German industrial areas, and viewed it as a war winning strategy.',\n",
       "   ' In October 1940 he was made Chief of the Air Staff, and remained in this post for the rest of the war.',\n",
       "   ' During his time as Chief he continuously supported the strategic bombing offensive against Germany, and advocated the formation of the Pathfinder Force, critical to improving the destructive force of Bomber Command.',\n",
       "   ' He fended off attempts by the Royal Navy to take command over RAF Coastal Command, and resisted attempts by the British Army to establish their own Army Air Arm.',\n",
       "   ' Portal retired from the RAF following the end of the war.',\n",
       "   ' He served as Controller of Production (Atomic Energy) at the Ministry of Supply for six years.',\n",
       "   ' Portal was then made chairman of British Aluminium.',\n",
       "   ' He was unsuccessful in fending off a hostile takeover of British Aluminum by Sir Ivan Stedeford\\'s Tube Investments, in what was known as the \"Aluminium War\".',\n",
       "   ' Afterward he served as chairman of the British Aircraft Corporation.']],\n",
       " ['Arthur Tedder, 1st Baron Tedder',\n",
       "  ['Marshal of the Royal Air Force Arthur William Tedder, 1st Baron Tedder, {\\'1\\': \", \\'2\\': \", \\'3\\': \", \\'4\\': \"} (11 July 1890 – 3 June 1967) was a senior Royal Air Force commander.',\n",
       "   ' He was a pilot and squadron commander in the Royal Flying Corps in the First World War and he went on to serve as a senior officer in the Royal Air Force during the inter-war years when he served in Turkey, Great Britain and the Far East.',\n",
       "   ' During the Second World War, as Air Officer Commanding RAF Middle East Command, Tedder directed air operations in the Mediterranean and North Africa, including the evacuation of Crete and \"Operation Crusader\" in North Africa.',\n",
       "   ' His bombing tactics became known as the \"Tedder Carpet\".',\n",
       "   ' Later in the war Tedder took command of Mediterranean Air Command and in that role was closely involved in the planning of the Allied invasion of Sicily and then the Allied invasion of Italy.',\n",
       "   ' When Operation Overlord—the invasion of France—came to be planned, Tedder was appointed Deputy Supreme Commander at Supreme Headquarters Allied Expeditionary Force under General Eisenhower.',\n",
       "   ' After the war he served as Chief of the Air Staff, in which role he advocated increased recruiting in the face of many airmen leaving the service, doubled the size of RAF Fighter Command and implemented arrangements for the Berlin Airlift in 1948.',\n",
       "   ' After the war he held senior positions in business and academia.']],\n",
       " ['No. 22 Squadron RAF',\n",
       "  ['No. 22 Squadron of the Royal Air Force operated the Westland Sea King HAR.3 and HAR.3A at three stations in the southern United Kingdom.',\n",
       "   ' The squadron was originally formed in 1915 as an aerial reconnaissance unit of the Royal Flying Corps serving on the Western Front during First World War.',\n",
       "   ' Becoming part of the Royal Air Force on its formation in 1918, it was disbanded the following year as part of the post-First World War scaling back of the RAF.',\n",
       "   ' During the Second World War the squadron operated in the torpedo bomber role over the North Sea and then in the Mediterranean and the Far East.',\n",
       "   ' Between 1955 and 2015 the squadron provided military search and rescue over the United Kingdom.']],\n",
       " ['North Sea',\n",
       "  ['The North Sea is a marginal sea of the Atlantic Ocean located between Great Britain, Scandinavia, Germany, the Netherlands, Belgium, and France.',\n",
       "   ' An epeiric (or \"shelf\") sea on the European continental shelf, it connects to the ocean through the English Channel in the south and the Norwegian Sea in the north.',\n",
       "   ' It is more than 970 km long and 580 km wide, with an area of around 570000 km2 .']],\n",
       " ['No. 6 Squadron RCAF',\n",
       "  ['No. 6 (Bomber Reconnaissance) Squadron was a Royal Canadian Air Force squadron that was active during the Second World War.',\n",
       "   ' It was formed on 4 March 1936 at RCAF Station Trenton as a Torpedo Bomber squadron before moving to RCAF Station Jericho Beach in 1938.',\n",
       "   ' During the war it was primarily used in an anti-submarine role with Western Air Command, flying from Jericho Beach and Coal Harbour.',\n",
       "   ' The squadron flew the Blackburn Shark, Supermarine Stranraer, Consolidated Canso and Consolidated Catalina before disbanding on 7 August 1945.']],\n",
       " ['No. 608 Squadron RAF',\n",
       "  ['No. 608 (North Riding) Squadron was an Auxiliary Air Force squadron of the Royal Air Force during the Second World War.',\n",
       "   ' It flew during its existence as a bomber, fighter and reconnaissance unit and was the only RAF squadron to be equipped with the unsuccessful Blackburn Botha torpedo bomber.']],\n",
       " ['No. 25 Squadron RAAF',\n",
       "  ['No. 25 (City of Perth) Squadron is a general reserve squadron of the Royal Australian Air Force (RAAF).',\n",
       "   ' It is based at RAAF Base Pearce in Perth, Western Australia, and forms part of the Combat Reserve Wing.',\n",
       "   ' The squadron was formed in early 1937 and until early 1939 was designated as \"No. 23 Squadron\".',\n",
       "   ' During World War II, it provided local air defence for the Perth region, before undertaking Army co-operation duties in 1943–44 and then converting to the heavy bomber role in 1945.',\n",
       "   ' In the heavy bomber role, the squadron took part in operations against Japanese targets in the Netherlands East Indies and supported Allied ground operations during the Borneo Campaign.',\n",
       "   ' Following the end of hostilities, No. 25 Squadron was disbanded in mid-1946 but was re-raised two years later as a Citizen Air Force unit based out of Pearce.',\n",
       "   \" From 1948 the squadron's reservists flew jet fighters to provide air defence over Western Australia, but the squadron ceased flying duties in 1960 and switched to the ground support role.\",\n",
       "   ' In 1989, flying operations resumed as No. 25 Squadron assumed responsibility for jet introduction training and fleet support; this role ceased in 1998 and since then the squadron has been tasked with providing a pool of trained personnel to the Air Force.']]]"
      ]
     },
     "execution_count": 31,
     "metadata": {},
     "output_type": "execute_result"
    }
   ],
   "source": [
    "eval(qrow.context)"
   ]
  },
  {
   "cell_type": "code",
   "execution_count": null,
   "metadata": {},
   "outputs": [],
   "source": []
  },
  {
   "cell_type": "code",
   "execution_count": null,
   "metadata": {},
   "outputs": [],
   "source": []
  }
 ],
 "metadata": {
  "kernelspec": {
   "display_name": "mllm",
   "language": "python",
   "name": "python3"
  },
  "language_info": {
   "codemirror_mode": {
    "name": "ipython",
    "version": 3
   },
   "file_extension": ".py",
   "mimetype": "text/x-python",
   "name": "python",
   "nbconvert_exporter": "python",
   "pygments_lexer": "ipython3",
   "version": "3.10.14"
  }
 },
 "nbformat": 4,
 "nbformat_minor": 2
}
