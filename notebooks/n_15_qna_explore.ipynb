{
 "cells": [
  {
   "cell_type": "code",
   "execution_count": 2,
   "metadata": {},
   "outputs": [],
   "source": [
    "%load_ext autoreload\n",
    "%autoreload 2"
   ]
  },
  {
   "cell_type": "code",
   "execution_count": 3,
   "metadata": {},
   "outputs": [],
   "source": [
    "import io\n",
    "import json\n",
    "import os\n",
    "from pathlib import Path\n",
    "from pprint import pprint\n",
    "import requests\n",
    "import sys\n",
    "from typing import Optional\n",
    "\n",
    "if '..' not in sys.path: sys.path.append('..')\n",
    "\n",
    "from datasets import load_dataset\n",
    "from datasets.arrow_dataset import Dataset\n",
    "import numpy as np\n",
    "from matplotlib import pyplot as plt\n",
    "import pandas as pd\n",
    "from pydantic_yaml import parse_yaml_file_as\n",
    "import torch\n",
    "from torch import nn\n",
    "import torch.nn.functional as F\n",
    "from transformers import GPT2Tokenizer, AddedToken, PreTrainedTokenizer, AutoTokenizer\n",
    "\n",
    "\n",
    "from mllm.utils.utils import read_tsv, write_tsv\n",
    "\n"
   ]
  },
  {
   "cell_type": "markdown",
   "metadata": {},
   "source": [
    "# QnA datasets exploration\n",
    "## Config and paths"
   ]
  },
  {
   "cell_type": "code",
   "execution_count": 4,
   "metadata": {},
   "outputs": [],
   "source": [
    "DATA_PATH = Path(os.path.expandvars('$HOME')) / 'data'\n",
    "HOTPOTQA_URL = 'http://curtis.ml.cmu.edu/datasets/hotpot/hotpot_train_v1.1.json'\n",
    "HOTPOTQA_DATA_PATH = DATA_PATH / 'hotpotqa'\n",
    "\n",
    "HOTPOTQA_DATA_PATH.mkdir(exist_ok=True)"
   ]
  },
  {
   "cell_type": "markdown",
   "metadata": {},
   "source": [
    "## Hotpot QA\n",
    "### Load"
   ]
  },
  {
   "cell_type": "code",
   "execution_count": 5,
   "metadata": {},
   "outputs": [],
   "source": [
    "\n",
    "def get_hotpotqa(url: str, dir_path: Path) -> pd.DataFrame:\n",
    "    fname = url.split('/')[-1]\n",
    "    fpath = dir_path / fname\n",
    "    if fpath.exists():\n",
    "        print(f'Load {fpath}')\n",
    "        data = json.loads(fpath.read_text())\n",
    "    else:\n",
    "        print(f'Load {url}')\n",
    "        resp = requests.get(url)\n",
    "        data = resp.json()\n",
    "        print(f'Write {fpath}')\n",
    "        fpath.write_text(resp.text)\n",
    "    df = pd.DataFrame.from_records(data)\n",
    "    return df\n"
   ]
  },
  {
   "cell_type": "code",
   "execution_count": 6,
   "metadata": {},
   "outputs": [
    {
     "name": "stdout",
     "output_type": "stream",
     "text": [
      "Load /home/misha/data/hotpotqa/hotpot_train_v1.1.json\n"
     ]
    },
    {
     "data": {
      "text/html": [
       "<div>\n",
       "<style scoped>\n",
       "    .dataframe tbody tr th:only-of-type {\n",
       "        vertical-align: middle;\n",
       "    }\n",
       "\n",
       "    .dataframe tbody tr th {\n",
       "        vertical-align: top;\n",
       "    }\n",
       "\n",
       "    .dataframe thead th {\n",
       "        text-align: right;\n",
       "    }\n",
       "</style>\n",
       "<table border=\"1\" class=\"dataframe\">\n",
       "  <thead>\n",
       "    <tr style=\"text-align: right;\">\n",
       "      <th></th>\n",
       "      <th>supporting_facts</th>\n",
       "      <th>level</th>\n",
       "      <th>question</th>\n",
       "      <th>context</th>\n",
       "      <th>answer</th>\n",
       "      <th>_id</th>\n",
       "      <th>type</th>\n",
       "    </tr>\n",
       "  </thead>\n",
       "  <tbody>\n",
       "    <tr>\n",
       "      <th>0</th>\n",
       "      <td>[[Arthur's Magazine, 0], [First for Women, 0]]</td>\n",
       "      <td>medium</td>\n",
       "      <td>Which magazine was started first Arthur's Maga...</td>\n",
       "      <td>[[Radio City (Indian radio station), [Radio Ci...</td>\n",
       "      <td>Arthur's Magazine</td>\n",
       "      <td>5a7a06935542990198eaf050</td>\n",
       "      <td>comparison</td>\n",
       "    </tr>\n",
       "    <tr>\n",
       "      <th>1</th>\n",
       "      <td>[[Oberoi family, 0], [The Oberoi Group, 0]]</td>\n",
       "      <td>medium</td>\n",
       "      <td>The Oberoi family is part of a hotel company t...</td>\n",
       "      <td>[[Ritz-Carlton Jakarta, [The Ritz-Carlton Jaka...</td>\n",
       "      <td>Delhi</td>\n",
       "      <td>5a879ab05542996e4f30887e</td>\n",
       "      <td>bridge</td>\n",
       "    </tr>\n",
       "    <tr>\n",
       "      <th>2</th>\n",
       "      <td>[[Allie Goertz, 0], [Allie Goertz, 1], [Allie ...</td>\n",
       "      <td>hard</td>\n",
       "      <td>Musician and satirist Allie Goertz wrote a son...</td>\n",
       "      <td>[[Lisa Simpson, [Lisa Marie Simpson is a ficti...</td>\n",
       "      <td>President Richard Nixon</td>\n",
       "      <td>5a8d7341554299441c6b9fe5</td>\n",
       "      <td>bridge</td>\n",
       "    </tr>\n",
       "    <tr>\n",
       "      <th>3</th>\n",
       "      <td>[[Peggy Seeger, 0], [Peggy Seeger, 1], [Ewan M...</td>\n",
       "      <td>medium</td>\n",
       "      <td>What nationality was James Henry Miller's wife?</td>\n",
       "      <td>[[Moloch: or, This Gentile World, [Moloch: or,...</td>\n",
       "      <td>American</td>\n",
       "      <td>5a82171f5542990a1d231f4a</td>\n",
       "      <td>bridge</td>\n",
       "    </tr>\n",
       "    <tr>\n",
       "      <th>4</th>\n",
       "      <td>[[Cadmium chloride, 1], [Ethanol, 0]]</td>\n",
       "      <td>medium</td>\n",
       "      <td>Cadmium Chloride is slightly soluble in this c...</td>\n",
       "      <td>[[Cadmium chloride, [Cadmium chloride is a whi...</td>\n",
       "      <td>alcohol</td>\n",
       "      <td>5a84dd955542997b5ce3ff79</td>\n",
       "      <td>bridge</td>\n",
       "    </tr>\n",
       "    <tr>\n",
       "      <th>...</th>\n",
       "      <td>...</td>\n",
       "      <td>...</td>\n",
       "      <td>...</td>\n",
       "      <td>...</td>\n",
       "      <td>...</td>\n",
       "      <td>...</td>\n",
       "      <td>...</td>\n",
       "    </tr>\n",
       "    <tr>\n",
       "      <th>90442</th>\n",
       "      <td>[[Kerry Remsen, 1], [Bert Remsen, 0]]</td>\n",
       "      <td>medium</td>\n",
       "      <td>Kerry Remsen is the daughter of an actor with ...</td>\n",
       "      <td>[[Kerry Remsen, [Kerry Remsen is an American a...</td>\n",
       "      <td>American</td>\n",
       "      <td>5a8f8db25542997ba9cb32b9</td>\n",
       "      <td>bridge</td>\n",
       "    </tr>\n",
       "    <tr>\n",
       "      <th>90443</th>\n",
       "      <td>[[Northshore Mall, 0], [Northshore Mall, 4], [...</td>\n",
       "      <td>easy</td>\n",
       "      <td>Who manages both Northshore Mall in Peabody, M...</td>\n",
       "      <td>[[Green Tree Mall, [Green Tree Mall is a shopp...</td>\n",
       "      <td>Simon Property Group</td>\n",
       "      <td>5ae4f3615542993aec5ec0fd</td>\n",
       "      <td>bridge</td>\n",
       "    </tr>\n",
       "    <tr>\n",
       "      <th>90444</th>\n",
       "      <td>[[Charlee Johnson, 4], [DreamWorks, 0]]</td>\n",
       "      <td>medium</td>\n",
       "      <td>Charlee Johnson was part of a band that signed...</td>\n",
       "      <td>[[Simon M. Woods, [Simon M. Woods is a British...</td>\n",
       "      <td>Amblin Partners</td>\n",
       "      <td>5a903fc95542990a984935bd</td>\n",
       "      <td>bridge</td>\n",
       "    </tr>\n",
       "    <tr>\n",
       "      <th>90445</th>\n",
       "      <td>[[Salt to the Sea, 1], [MV Wilhelm Gustloff, 0]]</td>\n",
       "      <td>medium</td>\n",
       "      <td>What is the ship that sank in the Baltic sea a...</td>\n",
       "      <td>[[The I.V. Stalin White Sea – Baltic Sea Canal...</td>\n",
       "      <td>MV \"Wilhelm Gustloff</td>\n",
       "      <td>5ab56e71554299494045efc8</td>\n",
       "      <td>bridge</td>\n",
       "    </tr>\n",
       "    <tr>\n",
       "      <th>90446</th>\n",
       "      <td>[[Vietnam national cricket team, 0], [Vietnam ...</td>\n",
       "      <td>medium</td>\n",
       "      <td>Vietnam national cricket team will debut at wh...</td>\n",
       "      <td>[[Vietnam national cricket team, [The Vietnam ...</td>\n",
       "      <td>2017 Southeast Asian Games</td>\n",
       "      <td>5ac28e915542996366519a0a</td>\n",
       "      <td>bridge</td>\n",
       "    </tr>\n",
       "  </tbody>\n",
       "</table>\n",
       "<p>90447 rows × 7 columns</p>\n",
       "</div>"
      ],
      "text/plain": [
       "                                        supporting_facts   level  \\\n",
       "0         [[Arthur's Magazine, 0], [First for Women, 0]]  medium   \n",
       "1            [[Oberoi family, 0], [The Oberoi Group, 0]]  medium   \n",
       "2      [[Allie Goertz, 0], [Allie Goertz, 1], [Allie ...    hard   \n",
       "3      [[Peggy Seeger, 0], [Peggy Seeger, 1], [Ewan M...  medium   \n",
       "4                  [[Cadmium chloride, 1], [Ethanol, 0]]  medium   \n",
       "...                                                  ...     ...   \n",
       "90442              [[Kerry Remsen, 1], [Bert Remsen, 0]]  medium   \n",
       "90443  [[Northshore Mall, 0], [Northshore Mall, 4], [...    easy   \n",
       "90444            [[Charlee Johnson, 4], [DreamWorks, 0]]  medium   \n",
       "90445   [[Salt to the Sea, 1], [MV Wilhelm Gustloff, 0]]  medium   \n",
       "90446  [[Vietnam national cricket team, 0], [Vietnam ...  medium   \n",
       "\n",
       "                                                question  \\\n",
       "0      Which magazine was started first Arthur's Maga...   \n",
       "1      The Oberoi family is part of a hotel company t...   \n",
       "2      Musician and satirist Allie Goertz wrote a son...   \n",
       "3        What nationality was James Henry Miller's wife?   \n",
       "4      Cadmium Chloride is slightly soluble in this c...   \n",
       "...                                                  ...   \n",
       "90442  Kerry Remsen is the daughter of an actor with ...   \n",
       "90443  Who manages both Northshore Mall in Peabody, M...   \n",
       "90444  Charlee Johnson was part of a band that signed...   \n",
       "90445  What is the ship that sank in the Baltic sea a...   \n",
       "90446  Vietnam national cricket team will debut at wh...   \n",
       "\n",
       "                                                 context  \\\n",
       "0      [[Radio City (Indian radio station), [Radio Ci...   \n",
       "1      [[Ritz-Carlton Jakarta, [The Ritz-Carlton Jaka...   \n",
       "2      [[Lisa Simpson, [Lisa Marie Simpson is a ficti...   \n",
       "3      [[Moloch: or, This Gentile World, [Moloch: or,...   \n",
       "4      [[Cadmium chloride, [Cadmium chloride is a whi...   \n",
       "...                                                  ...   \n",
       "90442  [[Kerry Remsen, [Kerry Remsen is an American a...   \n",
       "90443  [[Green Tree Mall, [Green Tree Mall is a shopp...   \n",
       "90444  [[Simon M. Woods, [Simon M. Woods is a British...   \n",
       "90445  [[The I.V. Stalin White Sea – Baltic Sea Canal...   \n",
       "90446  [[Vietnam national cricket team, [The Vietnam ...   \n",
       "\n",
       "                           answer                       _id        type  \n",
       "0               Arthur's Magazine  5a7a06935542990198eaf050  comparison  \n",
       "1                           Delhi  5a879ab05542996e4f30887e      bridge  \n",
       "2         President Richard Nixon  5a8d7341554299441c6b9fe5      bridge  \n",
       "3                        American  5a82171f5542990a1d231f4a      bridge  \n",
       "4                         alcohol  5a84dd955542997b5ce3ff79      bridge  \n",
       "...                           ...                       ...         ...  \n",
       "90442                    American  5a8f8db25542997ba9cb32b9      bridge  \n",
       "90443        Simon Property Group  5ae4f3615542993aec5ec0fd      bridge  \n",
       "90444             Amblin Partners  5a903fc95542990a984935bd      bridge  \n",
       "90445        MV \"Wilhelm Gustloff  5ab56e71554299494045efc8      bridge  \n",
       "90446  2017 Southeast Asian Games  5ac28e915542996366519a0a      bridge  \n",
       "\n",
       "[90447 rows x 7 columns]"
      ]
     },
     "execution_count": 6,
     "metadata": {},
     "output_type": "execute_result"
    }
   ],
   "source": [
    "df_hpqa = get_hotpotqa(HOTPOTQA_URL, HOTPOTQA_DATA_PATH)\n",
    "df_hpqa"
   ]
  },
  {
   "cell_type": "markdown",
   "metadata": {},
   "source": [
    "### Statistics"
   ]
  },
  {
   "cell_type": "code",
   "execution_count": 7,
   "metadata": {},
   "outputs": [
    {
     "data": {
      "text/plain": [
       "level\n",
       "medium    56814\n",
       "easy      17972\n",
       "hard      15661\n",
       "Name: count, dtype: int64"
      ]
     },
     "execution_count": 7,
     "metadata": {},
     "output_type": "execute_result"
    }
   ],
   "source": [
    "level_vc = df_hpqa.level.value_counts()\n",
    "level_vc"
   ]
  },
  {
   "cell_type": "code",
   "execution_count": 8,
   "metadata": {},
   "outputs": [
    {
     "data": {
      "text/plain": [
       "<Axes: xlabel='level'>"
      ]
     },
     "execution_count": 8,
     "metadata": {},
     "output_type": "execute_result"
    },
    {
     "data": {
      "image/png": "[encoded data removed]",
      "text/plain": [
       "<Figure size 640x480 with 1 Axes>"
      ]
     },
     "metadata": {},
     "output_type": "display_data"
    }
   ],
   "source": [
    "level_vc.plot.bar()"
   ]
  },
  {
   "cell_type": "code",
   "execution_count": 9,
   "metadata": {},
   "outputs": [
    {
     "data": {
      "text/plain": [
       "type\n",
       "bridge        72991\n",
       "comparison    17456\n",
       "Name: count, dtype: int64"
      ]
     },
     "execution_count": 9,
     "metadata": {},
     "output_type": "execute_result"
    }
   ],
   "source": [
    "type_vc = df_hpqa.type.value_counts()\n",
    "type_vc"
   ]
  },
  {
   "cell_type": "code",
   "execution_count": 10,
   "metadata": {},
   "outputs": [
    {
     "data": {
      "text/plain": [
       "<Axes: xlabel='type'>"
      ]
     },
     "execution_count": 10,
     "metadata": {},
     "output_type": "execute_result"
    },
    {
     "data": {
      "image/png": "[encoded data removed]",
      "text/plain": [
       "<Figure size 640x480 with 1 Axes>"
      ]
     },
     "metadata": {},
     "output_type": "display_data"
    }
   ],
   "source": [
    "type_vc.plot.bar()"
   ]
  },
  {
   "cell_type": "code",
   "execution_count": 11,
   "metadata": {},
   "outputs": [
    {
     "data": {
      "text/plain": [
       "<Axes: xlabel='type,level'>"
      ]
     },
     "execution_count": 11,
     "metadata": {},
     "output_type": "execute_result"
    },
    {
     "data": {
      "image/png": "[encoded data removed]",
      "text/plain": [
       "<Figure size 640x480 with 1 Axes>"
      ]
     },
     "metadata": {},
     "output_type": "display_data"
    }
   ],
   "source": [
    "df_hpqa[['type', 'level']].value_counts().plot.bar()"
   ]
  },
  {
   "cell_type": "markdown",
   "metadata": {},
   "source": [
    "### Comparison Questions"
   ]
  },
  {
   "cell_type": "code",
   "execution_count": 12,
   "metadata": {},
   "outputs": [
    {
     "data": {
      "text/html": [
       "<div>\n",
       "<style scoped>\n",
       "    .dataframe tbody tr th:only-of-type {\n",
       "        vertical-align: middle;\n",
       "    }\n",
       "\n",
       "    .dataframe tbody tr th {\n",
       "        vertical-align: top;\n",
       "    }\n",
       "\n",
       "    .dataframe thead th {\n",
       "        text-align: right;\n",
       "    }\n",
       "</style>\n",
       "<table border=\"1\" class=\"dataframe\">\n",
       "  <thead>\n",
       "    <tr style=\"text-align: right;\">\n",
       "      <th></th>\n",
       "      <th>supporting_facts</th>\n",
       "      <th>level</th>\n",
       "      <th>question</th>\n",
       "      <th>context</th>\n",
       "      <th>answer</th>\n",
       "      <th>_id</th>\n",
       "      <th>type</th>\n",
       "    </tr>\n",
       "  </thead>\n",
       "  <tbody>\n",
       "    <tr>\n",
       "      <th>82061</th>\n",
       "      <td>[[Treasure Island (1950 film), 0], [That Darn ...</td>\n",
       "      <td>easy</td>\n",
       "      <td>Which was filmed first, Treasure Island or Tha...</td>\n",
       "      <td>[[Silver (Andrew Motion novel), [Silver: Retur...</td>\n",
       "      <td>Treasure Island</td>\n",
       "      <td>5ae2c03e554299492dc91c5a</td>\n",
       "      <td>comparison</td>\n",
       "    </tr>\n",
       "  </tbody>\n",
       "</table>\n",
       "</div>"
      ],
      "text/plain": [
       "                                        supporting_facts level  \\\n",
       "82061  [[Treasure Island (1950 film), 0], [That Darn ...  easy   \n",
       "\n",
       "                                                question  \\\n",
       "82061  Which was filmed first, Treasure Island or Tha...   \n",
       "\n",
       "                                                 context           answer  \\\n",
       "82061  [[Silver (Andrew Motion novel), [Silver: Retur...  Treasure Island   \n",
       "\n",
       "                            _id        type  \n",
       "82061  5ae2c03e554299492dc91c5a  comparison  "
      ]
     },
     "execution_count": 12,
     "metadata": {},
     "output_type": "execute_result"
    }
   ],
   "source": [
    "sample_question = df_hpqa[df_hpqa.type == 'comparison'].sample()\n",
    "sample_question"
   ]
  },
  {
   "cell_type": "code",
   "execution_count": 13,
   "metadata": {},
   "outputs": [
    {
     "data": {
      "text/plain": [
       "'Which was filmed first, Treasure Island or That Darn Cat?'"
      ]
     },
     "execution_count": 13,
     "metadata": {},
     "output_type": "execute_result"
    }
   ],
   "source": [
    "qrow = sample_question.iloc[0]\n",
    "qrow.question"
   ]
  },
  {
   "cell_type": "code",
   "execution_count": 14,
   "metadata": {},
   "outputs": [
    {
     "data": {
      "text/plain": [
       "[['Treasure Island (1950 film)', 0], ['That Darn Cat (1997 film)', 0]]"
      ]
     },
     "execution_count": 14,
     "metadata": {},
     "output_type": "execute_result"
    }
   ],
   "source": [
    "qrow.supporting_facts"
   ]
  },
  {
   "cell_type": "code",
   "execution_count": 15,
   "metadata": {},
   "outputs": [
    {
     "data": {
      "text/plain": [
       "[['Silver (Andrew Motion novel)',\n",
       "  ['Silver: Return to Treasure Island, is a novel by former British Poet Laureate Andrew Motion, published by Jonathan Cape on 15 March 2012.',\n",
       "   ' The book follows Jim Hawkins, son of the character of the same name in Robert Louis Stevenson\\'s 1883 novel \"Treasure Island\", as he and Nat, daughter of Long John Silver, also a character in \"Treasure Island\", return to the island visited by their fathers to claim abandoned bar silver.']],\n",
       " ['Treasure Island (1985 film)',\n",
       "  [\"Treasure Island (French: L'île au trésor ) is a 1985 adventure film directed by Chilean filmmaker Raúl Ruiz.\",\n",
       "   ' It was screened in the Un Certain Regard section at the 1991 Cannes Film Festival.',\n",
       "   ' France, Great Britain and the United States funded Ruiz’s obscure and complex adaptation of the classic coming-of-age novel \"Treasure Island\" written by Robert Louis Stevenson.',\n",
       "   ' \"Treasure Island\" stars Melvil Poupaud as Jim Hawkins/Jonathan, a familiar face in Ruiz filmography, along with a few other popular actors like Anna Karina playing his mother.']],\n",
       " ['That Darn Cat (1997 film)',\n",
       "  ['That Darn Cat is a 1997 American mystery comedy film starring Christina Ricci and Doug E. Doug.',\n",
       "   ' It is a remake of the 1965 film \"That Darn Cat!',\n",
       "   '\", which in turn was based on the book \"Undercover Cat\" by Gordon and Mildred Gordon.',\n",
       "   ' It is directed by British TV veteran Bob Spiers (most famous for \"Fawlty Towers\", as well as \"Spice World\") and written by Scott Alexander and Larry Karaszewski, best known for \"Ed Wood\" and the first two \"Problem Child\" films.']],\n",
       " ['Treasure Island (1950 film)',\n",
       "  ['Treasure Island is a 1950 live action adventure film produced by Walt Disney Productions, adapted from the Robert Louis Stevenson\\'s 1883 novel \"Treasure Island\".',\n",
       "   ' It stars Bobby Driscoll as Jim Hawkins and Robert Newton as Long John Silver.',\n",
       "   ' \"Treasure Island\" is notable for being Disney\\'s first completely live-action film and the first screen version of \"Treasure Island\" made in color.',\n",
       "   ' It was filmed in England on location and at Denham Film Studios, Buckinghamshire.']],\n",
       " ['Treasure Island Causeway',\n",
       "  ['Treasure Island Causeway, part of County Road 150, is a series of three bridges (the outer ones fixed, the middle one a bascule drawbridge) crossing Boca Ciega Bay between Treasure Island and St. Petersburg in Pinellas County, Florida.',\n",
       "   ' The bridge is owned and maintained by the City of Treasure Island, which used to charge all motorists $1.00 toll, until June, 2006, when the first span of the bridge was reopened with no toll booth.',\n",
       "   ' Residents of two St. Petersburg waterfront communities (Causeway Isles and Yacht Club Estates) used to pay a $10 annual road tax to the City of Treasure Island to help support road and median maintenance.',\n",
       "   ' That tax was eliminated in the spring of 2007.',\n",
       "   \" Treasure Island's ownership of the causeway in St. Petersburg was part of a land agreement entered into when these two cities were born: St. Petersburg's founding fathers purchased the Municipal Beach on the shores of the neighboring Gulf of Mexico community, Treasure Island, outside its own city limits to ensure that residents would have direct access to the Gulf of Mexico for generations to come.\"]],\n",
       " ['Administration Building, Treasure Island',\n",
       "  ['The Administration Building, Treasure Island, on Treasure Island, California, is a Moderne style building designed by William Peyton Day and George William Kelham that was built in 1938.',\n",
       "   ' It has also been known as Building 1, as Command Naval Base San Francisco Headquarters, and as Naval Station Treasure Island.',\n",
       "   ' It was listed on the National Register of Historic Places in 2008.']],\n",
       " ['Treasure Island Development',\n",
       "  ['The Treasure Island Development is a 405 acre major redevelopment project under construction on Treasure Island and parts of Yerba Buena Island in San Francisco Bay between San Francisco and Oakland, within San Francisco city limits.',\n",
       "   ' The Treasure Island Development Authority (TIDA) is a nonprofit organization formed to oversee the economic development of the former naval station.',\n",
       "   \" Treasure Island's development was set to break ground during mid-2012.\",\n",
       "   ' However, on April 12, 2013, The San Francisco Chronicle reported that the deal has collapsed, with the Chinese investors from China Development Bank and China Railway Construction Corporation withdrawing from the project.',\n",
       "   ' The Treasure Island Project is now being developed by a joint venture between Lennar Corporation and Kenwood Investments.',\n",
       "   ' The development is expected to cost US$ .']],\n",
       " ['The Secret of Treasure Island',\n",
       "  ['The Secret of Treasure Island is a 1938 Columbia movie serial based on Robert Louis Stevenson\\'s novel \"Treasure Island\".',\n",
       "   ' The serial is broken into fifteen chapters.',\n",
       "   ' Reporter Larry Kent travels to an island in the Caribbean to investigate the disappearance of his colleague, and discovers that the island contains a lost treasure trove of gold.',\n",
       "   ' Kent meets Toni Morrell, the daughter of a shipmate whose partner knew the location of the treasure, who helps him in his investigation and they search for the treasure together.',\n",
       "   ' During their investigation they are opposed by a villain named Collins and Dr. X., who attempts to kill Kent.',\n",
       "   ' Kent defeats Dr. X. in the final installment of the serial.']],\n",
       " ['That Darn Cat!',\n",
       "  ['That Darn Cat!',\n",
       "   ' is a 1965 American Walt Disney Productions thriller comedy film starring Hayley Mills (in her last of the six films she made for the Walt Disney Studios) and Dean Jones (starring in his first film for Disney) in a story about bank robbers, a kidnapping and a mischievous cat.',\n",
       "   ' The film was based on the 1963 novel \"Undercover Cat\" by Gordon and Mildred Gordon and was directed by Robert Stevenson.',\n",
       "   ' The title song was written by the Sherman Brothers and sung by Bobby Darin.',\n",
       "   ' The 1997 remake includes a cameo appearance by Dean Jones.']],\n",
       " ['Treasure Island Resort &amp; Casino',\n",
       "  ['Treasure Island Resort & Casino began as a bingo hall in 1984 called Island Bingo.',\n",
       "   ' This building started as a 30,000-square-foot space that seated 1,400 people.',\n",
       "   ' Through its time of success it began to grow further into Treasure Island after Congress passed the Indian Gaming Regulatory Act of 1988.',\n",
       "   ' This act required states to negotiate gaming compacts with the Tribe as a way to strengthen tribal governments and improve the quality of life on reservations.',\n",
       "   ' This act contributed to much tribal success for Prairie Island Indian Community in addition to the entire state of Minnesota.',\n",
       "   ' Shortly after this in 1989, Prairie Island Indian Community signed a compact with the State of Minnesota which allowed it to expand its gaming operation.',\n",
       "   ' In 1991, the 30,000-square-foot building was expanded with a 25,000-square-foot addition that created room for additional games.',\n",
       "   ' Not long after this in 1992, the casino was expanded by an additional 25,000 square feet.',\n",
       "   ' Growth in the Prairie Island Indian Community was shown through this with the opening of a community center, health care facility as well as improvement to tribal water and sewer systems.',\n",
       "   ' In 1993, a 78,000-square-foot expansion was added which created three new restaurants, valet parking, state-of-the-art kitchen, a gift shop, players club, ballroom and a new entertainment area.',\n",
       "   ' In the following year, a 137-slip marina and 95-site RV park would open.',\n",
       "   ' Growth continued as 9,854-square-foot addition for business offices is established in 1995.',\n",
       "   ' In 1996, Treasure Island made a big step with a $20 million addition and redesign.',\n",
       "   ' A strategic marketing shift changed the name to Treasure Island Resort & Casino with the addition of new theming and a 250-room hotel transformed Treasure Island into a destination resort.',\n",
       "   ' The total square footage has 350,000 with 25,000 square feet designed for meeting space.',\n",
       "   ' In 2001, an additional 200,000 feet were added to the casino, which included a new great entry, higher ceilings to improve air quality, additional games, 70,000-square-foot office space and 60,000-square-foot warehouse.',\n",
       "   ' An expansion that was completed in fall 2008 included 230 new hotel rooms, 30,000-square-foot event center and a bowling center complete with an arcade area.',\n",
       "   ' In 2015, Tado Steakhouse was constructed, Tradewinds Buffet was remodeled and the water park & spa construction began.',\n",
       "   ' The Lagoon and Wave Spa opened February 9, 2016.']]]"
      ]
     },
     "execution_count": 15,
     "metadata": {},
     "output_type": "execute_result"
    }
   ],
   "source": [
    "qrow.context"
   ]
  },
  {
   "cell_type": "markdown",
   "metadata": {},
   "source": [
    "### Bridge Questions"
   ]
  },
  {
   "cell_type": "code",
   "execution_count": 16,
   "metadata": {},
   "outputs": [
    {
     "data": {
      "text/html": [
       "<div>\n",
       "<style scoped>\n",
       "    .dataframe tbody tr th:only-of-type {\n",
       "        vertical-align: middle;\n",
       "    }\n",
       "\n",
       "    .dataframe tbody tr th {\n",
       "        vertical-align: top;\n",
       "    }\n",
       "\n",
       "    .dataframe thead th {\n",
       "        text-align: right;\n",
       "    }\n",
       "</style>\n",
       "<table border=\"1\" class=\"dataframe\">\n",
       "  <thead>\n",
       "    <tr style=\"text-align: right;\">\n",
       "      <th></th>\n",
       "      <th>supporting_facts</th>\n",
       "      <th>level</th>\n",
       "      <th>question</th>\n",
       "      <th>context</th>\n",
       "      <th>answer</th>\n",
       "      <th>_id</th>\n",
       "      <th>type</th>\n",
       "    </tr>\n",
       "  </thead>\n",
       "  <tbody>\n",
       "    <tr>\n",
       "      <th>82559</th>\n",
       "      <td>[[Visceral Games, 0], [Visceral Games, 1], [De...</td>\n",
       "      <td>easy</td>\n",
       "      <td>Who created the horror media franchise that be...</td>\n",
       "      <td>[[Paradigm Entertainment, [Paradigm Entertainm...</td>\n",
       "      <td>Glen Schofield</td>\n",
       "      <td>5ac55c915542993e66e8234f</td>\n",
       "      <td>bridge</td>\n",
       "    </tr>\n",
       "  </tbody>\n",
       "</table>\n",
       "</div>"
      ],
      "text/plain": [
       "                                        supporting_facts level  \\\n",
       "82559  [[Visceral Games, 0], [Visceral Games, 1], [De...  easy   \n",
       "\n",
       "                                                question  \\\n",
       "82559  Who created the horror media franchise that be...   \n",
       "\n",
       "                                                 context          answer  \\\n",
       "82559  [[Paradigm Entertainment, [Paradigm Entertainm...  Glen Schofield   \n",
       "\n",
       "                            _id    type  \n",
       "82559  5ac55c915542993e66e8234f  bridge  "
      ]
     },
     "execution_count": 16,
     "metadata": {},
     "output_type": "execute_result"
    }
   ],
   "source": [
    "sample_question = df_hpqa[(df_hpqa.type == 'bridge') & (df_hpqa.level == 'easy')].sample()\n",
    "sample_question"
   ]
  },
  {
   "cell_type": "code",
   "execution_count": 17,
   "metadata": {},
   "outputs": [
    {
     "data": {
      "text/plain": [
       "'Which was filmed first, Treasure Island or That Darn Cat?'"
      ]
     },
     "execution_count": 17,
     "metadata": {},
     "output_type": "execute_result"
    }
   ],
   "source": [
    "qrow.question"
   ]
  },
  {
   "cell_type": "code",
   "execution_count": 18,
   "metadata": {},
   "outputs": [
    {
     "data": {
      "text/plain": [
       "[['Visceral Games', 0],\n",
       " ['Visceral Games', 1],\n",
       " ['Dead Space (series)', 0],\n",
       " ['Dead Space (series)', 2]]"
      ]
     },
     "execution_count": 18,
     "metadata": {},
     "output_type": "execute_result"
    }
   ],
   "source": [
    "qrow = sample_question.iloc[0]\n",
    "qrow['supporting_facts']"
   ]
  },
  {
   "cell_type": "code",
   "execution_count": 19,
   "metadata": {},
   "outputs": [
    {
     "data": {
      "text/plain": [
       "[['Paradigm Entertainment',\n",
       "  ['Paradigm Entertainment (previously part of Paradigm Simulation) was an American video game development company.',\n",
       "   ' Paradigm is perhaps best known for its vehicle simulation games. Founded as a 3D computer graphics company in 1990, Paradigm primarily worked on realistic flight simulation technology for major space and aviation clients.',\n",
       "   ' The company got its start in game development when it was contacted by Nintendo in 1994 to aid in the creation of one of the Nintendo 64\\'s launch titles, \"Pilotwings 64\".',\n",
       "   ' The game was a critical and commercial success for the developer, causing the simulation and entertainment divisions of Paradigm to separate and focus on their respective products.',\n",
       "   \" The newly independent Paradigm Entertainment continued to develop for Nintendo's 64-bit console.\",\n",
       "   ' After a short partnership with Video System, Paradigm was acquired as a wholly owned subsidiary of Infogrames in 2000 and began developing games for sixth-generation video game consoles.',\n",
       "   ' Paradigm was sold to THQ in 2006 and was ultimately closed in 2008.']],\n",
       " ['Brianna Wu',\n",
       "  ['Brianna Wu is an American video game developer and computer programmer.',\n",
       "   ' She cofounded Giant Spacekat, an independent video game development studio with Amanda Warner in Boston, Massachusetts.',\n",
       "   ' She is also a blogger and podcaster on matters relating to the video game industry, and is currently running for Congress.']],\n",
       " ['Rockstar San Diego',\n",
       "  ['Rockstar San Diego, Inc. (formerly Angel Studios, Inc.) is an American video game development studio under the Rockstar Games umbrella, located in Carlsbad, California.',\n",
       "   ' The studio pioneered open world racing games with the \"Midtown Madness\" and the award-winning \"Midnight Club\" series.',\n",
       "   ' It is also responsible for the \"Red Dead\" series of western games, \"Red Dead Revolver\" in 2004 and \"Red Dead Redemption\" in 2010.',\n",
       "   ' The studio also houses the RAGE Technology Group which developed the RAGE engine that is used in almost all Rockstar games, including \"Grand Theft Auto IV\", \"Red Dead Redemption\", \"Max Payne 3\" and \"Grand Theft Auto V\".',\n",
       "   ' The studio was acquired by Take-Two Interactive in November 2002.']],\n",
       " ['Respawn Entertainment',\n",
       "  ['Respawn Entertainment, LLC is an American video game development studio founded by Jason West and Vince Zampella, who created and were responsible for the development of the \"Call of Duty\" franchise at Infinity Ward before 2010.']],\n",
       " ['Arjan Brussee',\n",
       "  ['Arjan Brussee (born 1972) is a Dutch video game programmer and entrepreneur, the main coder behind both \"Jazz Jackrabbit\" games, co-founder of Guerrilla Games and recently the co-founder of Boss Key Productions.',\n",
       "   ' At Guerrilla he worked on the \"Killzone\" series as a development director and part of the management team.',\n",
       "   ' He is often credited with being the first successful Dutch game developer, sometimes mentioned as \"the godfather of Dutch game development\".',\n",
       "   ' On 23 February 2012 Brussee announced that he was leaving Guerilla and would be joining the EA Games studio Visceral Games as an executive producer working on \"Battlefield Hardline\".']],\n",
       " ['Visceral Games',\n",
       "  ['Visceral Games (formerly EA Redwood Shores) is an American video game development studio owned by Electronic Arts.',\n",
       "   ' The studio is best known for the \"Dead Space\" series.']],\n",
       " ['Sledgehammer Games',\n",
       "  ['Sledgehammer Games, Inc. is an American video game developer, formed in 2009 by industry veterans Glen Schofield and Michael Condrey.',\n",
       "   ' The pair formerly worked at Visceral Games and are responsible for the creation of \"Dead Space\", but left before the development of the sequels.',\n",
       "   ' The company is an independent, wholly owned subsidiary of Activision and is based in Foster City, California.',\n",
       "   ' This studio is known for co-developing \"\" with Infinity Ward, and developing \"\", and they have finished developing the Beta version of \"\".']],\n",
       " ['Alex Garden',\n",
       "  ['Alex Garden is the CEO of Vancouver-based game developer Relic Entertainment, which he co-founded with Luke Moloney in 1997.',\n",
       "   ' In February 2005, he founded the company iVALET Systems Inc. to develop an advanced parking system.',\n",
       "   ' In July 2005, he co-founded Klei Entertainment, a Vancouver-based video game development studio, with Jamie Cheng.',\n",
       "   \" On November 3, 2006, Alex Garden joined Nexon to run Nexon's North American game development studio, Nexon Publishing North America.\",\n",
       "   ' In October, 2009, Alex Garden joined Microsoft to work in their games division, Microsoft Game Studios.',\n",
       "   ' On April 23, 2014, Zynga announced that Alex Garden was hired to become President of Zynga Studios with a start date of May 5, 2014.',\n",
       "   ' Since 13 April 2016 Alex Garden return to Relic Entertainment as CEO.',\n",
       "   ' In 2016 Garden founded Zume Pizza.']],\n",
       " ['Motive Studios',\n",
       "  ['Motive Studios is a Canadian video game development studio owned and operated by Electronic Arts.',\n",
       "   ' Founded in July 2015 by Jade Raymond, a former Ubisoft executive and \"Assassin\\'s Creed\" producer, Motive Studios was created to specialize in action-adventure games as well as incubate new intellectual properties.',\n",
       "   ' Their first announced project is to work with Redwood Shores-based Visceral Games on an upcoming \"Star Wars video game.']],\n",
       " ['Dead Space (series)',\n",
       "  ['Dead Space is a horror media franchise created by Glen Schofield, developed by Visceral Games and published by Electronic Arts.',\n",
       "   ' The franchise centers on a series of video games, and includes two films and a comic book series, with more media planned for the future.',\n",
       "   ' The series began in 2008 as an eponymous video game aimed at creating, in Schofield\\'s words, \"the most terrifying game we could\"; the game was a success and spawned a prequel and later a sequel released in 2011.']]]"
      ]
     },
     "execution_count": 19,
     "metadata": {},
     "output_type": "execute_result"
    }
   ],
   "source": [
    "qrow.context"
   ]
  },
  {
   "cell_type": "markdown",
   "metadata": {},
   "source": [
    "### Supporting Facts"
   ]
  },
  {
   "cell_type": "code",
   "execution_count": 20,
   "metadata": {},
   "outputs": [
    {
     "data": {
      "text/plain": [
       "count    90447.000000\n",
       "mean         2.384645\n",
       "std          0.672890\n",
       "min          2.000000\n",
       "25%          2.000000\n",
       "50%          2.000000\n",
       "75%          3.000000\n",
       "max         12.000000\n",
       "Name: supporting_facts_num, dtype: float64"
      ]
     },
     "execution_count": 20,
     "metadata": {},
     "output_type": "execute_result"
    }
   ],
   "source": [
    "df_hpqa['supporting_facts_num'] = df_hpqa.supporting_facts.map(len)\n",
    "df_hpqa['supporting_facts_num'].describe()"
   ]
  },
  {
   "cell_type": "code",
   "execution_count": 21,
   "metadata": {},
   "outputs": [
    {
     "data": {
      "text/plain": [
       "supporting_facts_num\n",
       "2     63676\n",
       "3     20017\n",
       "4      5814\n",
       "5       724\n",
       "6       141\n",
       "7        52\n",
       "8        17\n",
       "9         4\n",
       "12        1\n",
       "11        1\n",
       "Name: count, dtype: int64"
      ]
     },
     "execution_count": 21,
     "metadata": {},
     "output_type": "execute_result"
    }
   ],
   "source": [
    "sup_facts_vc = df_hpqa['supporting_facts_num'].value_counts()\n",
    "sup_facts_vc"
   ]
  },
  {
   "cell_type": "code",
   "execution_count": 22,
   "metadata": {},
   "outputs": [
    {
     "data": {
      "text/plain": [
       "<Axes: xlabel='supporting_facts_num'>"
      ]
     },
     "execution_count": 22,
     "metadata": {},
     "output_type": "execute_result"
    },
    {
     "data": {
      "image/png": "[encoded data removed]",
      "text/plain": [
       "<Figure size 640x480 with 1 Axes>"
      ]
     },
     "metadata": {},
     "output_type": "display_data"
    }
   ],
   "source": [
    "sup_facts_vc.plot.bar()"
   ]
  },
  {
   "cell_type": "markdown",
   "metadata": {},
   "source": [
    "### Yes or No Questions"
   ]
  },
  {
   "cell_type": "code",
   "execution_count": null,
   "metadata": {},
   "outputs": [
    {
     "data": {
      "text/plain": [
       "type        level \n",
       "comparison  medium    3961\n",
       "            hard      1034\n",
       "            easy       533\n",
       "bridge      hard        24\n",
       "            medium      22\n",
       "            easy        12\n",
       "Name: count, dtype: int64"
      ]
     },
     "execution_count": 24,
     "metadata": {},
     "output_type": "execute_result"
    }
   ],
   "source": [
    "yn_mask = df_hpqa.answer.str.startswith('yes') | df_hpqa.answer.str.startswith('no')\n",
    "df_hpqa[yn_mask][['type', 'level']].value_counts()"
   ]
  },
  {
   "cell_type": "markdown",
   "metadata": {},
   "source": [
    "## Squad v2"
   ]
  },
  {
   "cell_type": "code",
   "execution_count": 5,
   "metadata": {},
   "outputs": [
    {
     "data": {
      "application/vnd.jupyter.widget-view+json": {
       "model_id": "bd5b13b53a1f4fc0833308ca05a160a1",
       "version_major": 2,
       "version_minor": 0
      },
      "text/plain": [
       "Downloading:   0%|          | 0.00/1.87k [00:00<?, ?B/s]"
      ]
     },
     "metadata": {},
     "output_type": "display_data"
    },
    {
     "data": {
      "application/vnd.jupyter.widget-view+json": {
       "model_id": "5fc9a1892c4b45ecbffa04f4b022defc",
       "version_major": 2,
       "version_minor": 0
      },
      "text/plain": [
       "Downloading:   0%|          | 0.00/1.02k [00:00<?, ?B/s]"
      ]
     },
     "metadata": {},
     "output_type": "display_data"
    },
    {
     "name": "stdout",
     "output_type": "stream",
     "text": [
      "Downloading and preparing dataset squad_v2/squad_v2 (download: 44.34 MiB, generated: 122.41 MiB, post-processed: Unknown size, total: 166.75 MiB) to /home/misha/.cache/huggingface/datasets/squad_v2/squad_v2/2.0.0/09187c73c1b837c95d9a249cd97c2c3f1cebada06efe667b4427714b27639b1d...\n"
     ]
    },
    {
     "data": {
      "application/vnd.jupyter.widget-view+json": {
       "model_id": "c938604d41a3437db0ce7275814db4ca",
       "version_major": 2,
       "version_minor": 0
      },
      "text/plain": [
       "  0%|          | 0/2 [00:00<?, ?it/s]"
      ]
     },
     "metadata": {},
     "output_type": "display_data"
    },
    {
     "data": {
      "application/vnd.jupyter.widget-view+json": {
       "model_id": "6df52f640e384bd6ae84972181b68b45",
       "version_major": 2,
       "version_minor": 0
      },
      "text/plain": [
       "Downloading:   0%|          | 0.00/9.55M [00:00<?, ?B/s]"
      ]
     },
     "metadata": {},
     "output_type": "display_data"
    },
    {
     "data": {
      "application/vnd.jupyter.widget-view+json": {
       "model_id": "8cd8225b1dc946c293782e68d129cd47",
       "version_major": 2,
       "version_minor": 0
      },
      "text/plain": [
       "Downloading:   0%|          | 0.00/801k [00:00<?, ?B/s]"
      ]
     },
     "metadata": {},
     "output_type": "display_data"
    },
    {
     "data": {
      "application/vnd.jupyter.widget-view+json": {
       "model_id": "045d2b89d0f04d17aafe3ff9a684ae47",
       "version_major": 2,
       "version_minor": 0
      },
      "text/plain": [
       "  0%|          | 0/2 [00:00<?, ?it/s]"
      ]
     },
     "metadata": {},
     "output_type": "display_data"
    },
    {
     "data": {
      "application/vnd.jupyter.widget-view+json": {
       "model_id": "fe4889ce31dc49ee85ed4472f0bbe687",
       "version_major": 2,
       "version_minor": 0
      },
      "text/plain": [
       "0 examples [00:00, ? examples/s]"
      ]
     },
     "metadata": {},
     "output_type": "display_data"
    },
    {
     "data": {
      "application/vnd.jupyter.widget-view+json": {
       "model_id": "86bb775290b2425082f0c1f0005218c9",
       "version_major": 2,
       "version_minor": 0
      },
      "text/plain": [
       "0 examples [00:00, ? examples/s]"
      ]
     },
     "metadata": {},
     "output_type": "display_data"
    },
    {
     "name": "stdout",
     "output_type": "stream",
     "text": [
      "Dataset squad_v2 downloaded and prepared to /home/misha/.cache/huggingface/datasets/squad_v2/squad_v2/2.0.0/09187c73c1b837c95d9a249cd97c2c3f1cebada06efe667b4427714b27639b1d. Subsequent calls will reuse this data.\n"
     ]
    },
    {
     "data": {
      "application/vnd.jupyter.widget-view+json": {
       "model_id": "219ee5868518451cb9ddd2cb4b3330ec",
       "version_major": 2,
       "version_minor": 0
      },
      "text/plain": [
       "  0%|          | 0/2 [00:00<?, ?it/s]"
      ]
     },
     "metadata": {},
     "output_type": "display_data"
    },
    {
     "data": {
      "text/plain": [
       "DatasetDict({\n",
       "    train: Dataset({\n",
       "        features: ['id', 'title', 'context', 'question', 'answers'],\n",
       "        num_rows: 130319\n",
       "    })\n",
       "    validation: Dataset({\n",
       "        features: ['id', 'title', 'context', 'question', 'answers'],\n",
       "        num_rows: 11873\n",
       "    })\n",
       "})"
      ]
     },
     "execution_count": 5,
     "metadata": {},
     "output_type": "execute_result"
    }
   ],
   "source": [
    "ds_sq = load_dataset('squad_v2')\n",
    "ds_sq"
   ]
  },
  {
   "cell_type": "code",
   "execution_count": 8,
   "metadata": {},
   "outputs": [
    {
     "data": {
      "text/plain": [
       "Dataset({\n",
       "    features: ['id', 'title', 'context', 'question', 'answers'],\n",
       "    num_rows: 130319\n",
       "})"
      ]
     },
     "execution_count": 8,
     "metadata": {},
     "output_type": "execute_result"
    }
   ],
   "source": [
    "ds_sq_t, ds_sq_v = ds_sq['train'], ds_sq['validation']\n",
    "ds_sq_t"
   ]
  },
  {
   "cell_type": "code",
   "execution_count": 9,
   "metadata": {},
   "outputs": [
    {
     "data": {
      "text/plain": [
       "{'id': '56be85543aeaaa14008c9063',\n",
       " 'title': 'Beyoncé',\n",
       " 'context': 'Beyoncé Giselle Knowles-Carter (/biːˈjɒnseɪ/ bee-YON-say) (born September 4, 1981) is an American singer, songwriter, record producer and actress. Born and raised in Houston, Texas, she performed in various singing and dancing competitions as a child, and rose to fame in the late 1990s as lead singer of R&B girl-group Destiny\\'s Child. Managed by her father, Mathew Knowles, the group became one of the world\\'s best-selling girl groups of all time. Their hiatus saw the release of Beyoncé\\'s debut album, Dangerously in Love (2003), which established her as a solo artist worldwide, earned five Grammy Awards and featured the Billboard Hot 100 number-one singles \"Crazy in Love\" and \"Baby Boy\".',\n",
       " 'question': 'When did Beyonce start becoming popular?',\n",
       " 'answers': {'text': ['in the late 1990s'], 'answer_start': [269]}}"
      ]
     },
     "execution_count": 9,
     "metadata": {},
     "output_type": "execute_result"
    }
   ],
   "source": [
    "ds_sq_t[0]"
   ]
  },
  {
   "cell_type": "code",
   "execution_count": 17,
   "metadata": {},
   "outputs": [
    {
     "data": {
      "text/plain": [
       "{'id': '56ddde6b9a695914005b9629',\n",
       " 'title': 'Normans',\n",
       " 'context': 'The Normans (Norman: Nourmands; French: Normands; Latin: Normanni) were the people who in the 10th and 11th centuries gave their name to Normandy, a region in France. They were descended from Norse (\"Norman\" comes from \"Norseman\") raiders and pirates from Denmark, Iceland and Norway who, under their leader Rollo, agreed to swear fealty to King Charles III of West Francia. Through generations of assimilation and mixing with the native Frankish and Roman-Gaulish populations, their descendants would gradually merge with the Carolingian-based cultures of West Francia. The distinct cultural and ethnic identity of the Normans emerged initially in the first half of the 10th century, and it continued to evolve over the succeeding centuries.',\n",
       " 'question': 'When were the Normans in Normandy?',\n",
       " 'answers': {'text': ['10th and 11th centuries',\n",
       "   'in the 10th and 11th centuries',\n",
       "   '10th and 11th centuries',\n",
       "   '10th and 11th centuries'],\n",
       "  'answer_start': [94, 87, 94, 94]}}"
      ]
     },
     "execution_count": 17,
     "metadata": {},
     "output_type": "execute_result"
    }
   ],
   "source": [
    "item = ds_sq_v[1]\n",
    "item"
   ]
  },
  {
   "cell_type": "code",
   "execution_count": 19,
   "metadata": {},
   "outputs": [
    {
     "name": "stdout",
     "output_type": "stream",
     "text": [
      "Answer: \"10th and 11th centuries\". Context answer: \"10th and 11th centuries\", with offset: \"ho in the 10th and 11th centuries gave thei\"\n",
      "Answer: \"in the 10th and 11th centuries\". Context answer: \"in the 10th and 11th centuries\", with offset: \"eople who in the 10th and 11th centuries gave thei\"\n"
     ]
    }
   ],
   "source": [
    "inds = set()\n",
    "for ans_txt, ctx_ind in zip(item['answers']['text'], item['answers']['answer_start']):\n",
    "    if ctx_ind in inds: continue\n",
    "    inds.add(ctx_ind)\n",
    "    ans_len = len(ans_txt)\n",
    "    ctx_txt = item['context'][ctx_ind:ctx_ind + ans_len]\n",
    "    ctx_off = 10\n",
    "    ctx_ind_beg, ctx_ind_end = max(ctx_ind - ctx_off, 0), min(ctx_ind + ans_len + ctx_off, len(item['context']))\n",
    "    ctx_txt_off = item['context'][ctx_ind_beg:ctx_ind_end]\n",
    "    print(f'Answer: \"{ans_txt}\". Context answer: \"{ctx_txt}\", with offset: \"{ctx_txt_off}\"')"
   ]
  },
  {
   "cell_type": "code",
   "execution_count": 20,
   "metadata": {},
   "outputs": [
    {
     "data": {
      "text/plain": [
       "{'id': Value(dtype='string', id=None),\n",
       " 'title': Value(dtype='string', id=None),\n",
       " 'context': Value(dtype='string', id=None),\n",
       " 'question': Value(dtype='string', id=None),\n",
       " 'answers': Sequence(feature={'text': Value(dtype='string', id=None), 'answer_start': Value(dtype='int32', id=None)}, length=-1, id=None)}"
      ]
     },
     "execution_count": 20,
     "metadata": {},
     "output_type": "execute_result"
    }
   ],
   "source": [
    "ds_sq_t.features"
   ]
  },
  {
   "cell_type": "code",
   "execution_count": 23,
   "metadata": {},
   "outputs": [
    {
     "data": {
      "text/plain": [
       "{'id': '5a7de9b570df9f001a87530a',\n",
       " 'title': 'Matter',\n",
       " 'context': 'Isaac Newton (1643–1727) inherited Descartes\\' mechanical conception of matter. In the third of his \"Rules of Reasoning in Philosophy\", Newton lists the universal qualities of matter as \"extension, hardness, impenetrability, mobility, and inertia\". Similarly in Optics he conjectures that God created matter as \"solid, massy, hard, impenetrable, movable particles\", which were \"...even so very hard as never to wear or break in pieces\". The \"primary\" properties of matter were amenable to mathematical description, unlike \"secondary\" qualities such as color or taste. Like Descartes, Newton rejected the essential nature of secondary qualities.',\n",
       " 'question': 'What did Descartes say were the universal qualities of matter?',\n",
       " 'answers': {'text': [], 'answer_start': []}}"
      ]
     },
     "execution_count": 23,
     "metadata": {},
     "output_type": "execute_result"
    }
   ],
   "source": [
    "ds_sq_t[-22]"
   ]
  },
  {
   "cell_type": "code",
   "execution_count": null,
   "metadata": {},
   "outputs": [],
   "source": []
  }
 ],
 "metadata": {
  "kernelspec": {
   "display_name": "mllm",
   "language": "python",
   "name": "python3"
  },
  "language_info": {
   "codemirror_mode": {
    "name": "ipython",
    "version": 3
   },
   "file_extension": ".py",
   "mimetype": "text/x-python",
   "name": "python",
   "nbconvert_exporter": "python",
   "pygments_lexer": "ipython3",
   "version": "3.10.14"
  }
 },
 "nbformat": 4,
 "nbformat_minor": 2
}
