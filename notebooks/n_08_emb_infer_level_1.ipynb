{
 "cells": [
  {
   "cell_type": "code",
   "execution_count": 1,
   "metadata": {},
   "outputs": [],
   "source": [
    "%load_ext autoreload\n",
    "%autoreload 2"
   ]
  },
  {
   "cell_type": "code",
   "execution_count": 4,
   "metadata": {},
   "outputs": [],
   "source": [
    "import os\n",
    "from pathlib import Path\n",
    "import sys\n",
    "from typing import Optional\n",
    "if '..' not in sys.path: sys.path.append('..')\n",
    "\n",
    "import numpy as np\n",
    "from matplotlib import pyplot as plt\n",
    "from pydantic_yaml import parse_yaml_file_as\n",
    "import torch\n",
    "from torch import nn\n",
    "from transformers import GPT2Tokenizer, AddedToken, PreTrainedTokenizer\n",
    "\n",
    "from mllm.config.model import MllmRankerCfg, MllmEncdecCfg, TokenizerCfg\n",
    "from mllm.data.dsqrels_embs import DsQrelsEmbs, QrelsEmbsBatch\n",
    "from mllm.data.utils import load_qrels_datasets\n",
    "from mllm.exp.args import ENCDEC_MODEL_CFG_FNAME, RANKER_MODEL_CFG_FNAME\n",
    "from mllm.model.mllm_encdec import MllmEncdecLevel\n",
    "from mllm.model.mllm_ranker import RankProbLoss, MllmRanker, MllmRankerLevel\n",
    "from mllm.tokenization.chunk_tokenizer import gen_all_tokens, ChunkTokenizer, tokenizer_from_config\n",
    "from mllm.train.utils import find_create_train_path, calc_print_batches\n",
    "\n"
   ]
  },
  {
   "cell_type": "markdown",
   "metadata": {},
   "source": [
    "# Ranker level 1 inference\n",
    "## Config and paths"
   ]
  },
  {
   "cell_type": "code",
   "execution_count": 12,
   "metadata": {},
   "outputs": [
    {
     "name": "stdout",
     "output_type": "stream",
     "text": [
      "Ranker cfg fpath: /home/misha/data/train_mllm_ranker_qrels_0/ranker-20241021_062053-msmarco-fever/ranker_model_cfg.yaml. Exists: True\n",
      "Ranker cfg fpath: /home/misha/data/train_mllm_ranker_qrels_1/ranker-lvl1-20241023_220614-enc-lrs2-embmatTrue-d256-h8-dec-lrs2-d256-h8-encdec-20241022_224217/ranker_model_cfg.yaml. Exists: True\n"
     ]
    }
   ],
   "source": [
    "DATA_PATH = Path(os.path.expandvars('$HOME')) / 'data'\n",
    "DS_MSMARCO_DIR_PATH = DATA_PATH / 'msmarco'\n",
    "DS_FEVER_DIR_PATH = DATA_PATH / 'fever'\n",
    "TRAIN_RANKER_PATH = DATA_PATH / 'train_mllm_ranker_qrels_0'\n",
    "TRAIN_RANKER_EMBS_PATH = DATA_PATH / 'train_mllm_ranker_qrels_1'\n",
    "DS_WIKI_DIR_PATH = DATA_PATH / 'wiki_20200501_en/ch_100_fixed'\n",
    "DS_EMBS_DIR_PATH = DATA_PATH / 'ranker_embs_msmarco_fever'\n",
    "CFG_DIR_PATH = Path(os.path.abspath('.')).parent / 'mllm/config/cfg'\n",
    "\n",
    "tokenizer_cfg_fpath = CFG_DIR_PATH / 'tokenizer_cfg_02.yaml'\n",
    "\n",
    "ranker0_subdir = 'ranker-20241021_062053-msmarco-fever'\n",
    "ranker0_train_path = TRAIN_RANKER_PATH / ranker0_subdir\n",
    "ranker0_snapshot_fpath = ranker0_train_path / 'best.pth'\n",
    "\n",
    "ranker1_subdir = 'ranker-lvl1-20241023_220614-enc-lrs2-embmatTrue-d256-h8-dec-lrs2-d256-h8-encdec-20241022_224217'\n",
    "ranker1_train_path = TRAIN_RANKER_EMBS_PATH / ranker1_subdir\n",
    "ranker1_snapshot_fpath = ranker1_train_path / 'best.pth'\n",
    "\n",
    "ranker0_model_cfg_fpath = ranker0_train_path / RANKER_MODEL_CFG_FNAME\n",
    "print(f'Ranker cfg fpath: {ranker0_model_cfg_fpath}. Exists: {ranker0_model_cfg_fpath.exists()}')\n",
    "ranker1_model_cfg_fpath = ranker1_train_path / RANKER_MODEL_CFG_FNAME\n",
    "print(f'Ranker cfg fpath: {ranker1_model_cfg_fpath}. Exists: {ranker1_model_cfg_fpath.exists()}')"
   ]
  },
  {
   "cell_type": "code",
   "execution_count": 13,
   "metadata": {},
   "outputs": [
    {
     "name": "stdout",
     "output_type": "stream",
     "text": [
      "cpu\n"
     ]
    }
   ],
   "source": [
    "emb_chunk_size = 100\n",
    "embs_chunk_size = 100\n",
    "docs_batch_size = 10\n",
    "chunk_size = 100\n",
    "max_docs_embs = 10\n",
    "docs_per_chunk = chunk_size // max_docs_embs\n",
    "\n",
    "device = 'cpu'\n",
    "# device = 'cuda'\n",
    "\n",
    "device = torch.device(device)\n",
    "print(device)\n",
    "ranker0_model_cfg: MllmRankerCfg = parse_yaml_file_as(MllmRankerCfg, ranker0_model_cfg_fpath)\n",
    "ranker1_model_cfg: MllmRankerCfg = parse_yaml_file_as(MllmRankerCfg, ranker1_model_cfg_fpath)\n",
    "enc_cfg_1 = ranker1_model_cfg.encoders[1]\n"
   ]
  },
  {
   "cell_type": "markdown",
   "metadata": {},
   "source": [
    "## Load models and datasets"
   ]
  },
  {
   "cell_type": "code",
   "execution_count": 14,
   "metadata": {},
   "outputs": [],
   "source": [
    "tkz_cfg = parse_yaml_file_as(TokenizerCfg, tokenizer_cfg_fpath)\n",
    "ch_tkz = tokenizer_from_config(tkz_cfg)"
   ]
  },
  {
   "cell_type": "code",
   "execution_count": 15,
   "metadata": {},
   "outputs": [
    {
     "name": "stdout",
     "output_type": "stream",
     "text": [
      "Join datasets:\n",
      "   Msmarco. Queries: 372206. Docs: 3213835. QueryDocRels: 372206\n",
      "   Fever. Queries: 123142. Docs: 5416568. QueryDocRels: 156101\n"
     ]
    }
   ],
   "source": [
    "ds_qrels = load_qrels_datasets([DS_MSMARCO_DIR_PATH, DS_FEVER_DIR_PATH], ch_tkz, emb_chunk_size, device)"
   ]
  },
  {
   "cell_type": "code",
   "execution_count": 16,
   "metadata": {},
   "outputs": [],
   "source": [
    "ds_embs = DsQrelsEmbs(\n",
    "    ds_dir_path=DS_EMBS_DIR_PATH, chunk_size=embs_chunk_size, emb_size=enc_cfg_1.d_model, emb_dtype=np.float32,\n",
    "    doc_id_driven=True, max_docs_embs=max_docs_embs, device=device,\n",
    ")"
   ]
  },
  {
   "cell_type": "code",
   "execution_count": 21,
   "metadata": {},
   "outputs": [
    {
     "name": "stdout",
     "output_type": "stream",
     "text": [
      "vocab_encoder.src_word_emb.weight (50271, 256) -0.010897174 3.2431778e-06 0.010897168\n",
      "vocab_encoder.layer_norm.weight (256,) -0.09924302 -0.0019709559 0.099181\n",
      "vocab_encoder.layer_norm.bias (256,) -0.09945156 -0.003854694 0.09921739\n",
      "encoder.a_em () 0.027928842 0.027928842 0.027928842\n",
      "encoder.layer_stack.0.slf_attn.w_qs.weight (256, 256) -0.10824769 -3.121439e-05 0.10824582\n",
      "encoder.layer_stack.0.slf_attn.w_ks.weight (256, 256) -0.10824748 -6.0666946e-05 0.10825218\n",
      "encoder.layer_stack.0.slf_attn.w_vs.weight (256, 256) -0.1082516 -2.6242898e-05 0.10824809\n",
      "encoder.layer_stack.0.slf_attn.fc.weight (256, 256) -0.10825094 0.0003963641 0.10825312\n",
      "encoder.layer_stack.0.slf_attn.layer_norm.weight (256,) -0.099667266 0.0017616183 0.09951814\n",
      "encoder.layer_stack.0.slf_attn.layer_norm.bias (256,) -0.098205104 -0.00443795 0.09944582\n",
      "encoder.layer_stack.0.pos_ffn.w_1.weight (1024, 256) -0.06846493 3.4025892e-05 0.06846483\n",
      "encoder.layer_stack.0.pos_ffn.w_1.bias (1024,) -0.0999995 -0.002172865 0.09996672\n",
      "encoder.layer_stack.0.pos_ffn.w_2.weight (256, 1024) -0.06846441 -6.0208295e-05 0.068464644\n",
      "encoder.layer_stack.0.pos_ffn.w_2.bias (256,) -0.09977092 -0.0014280602 0.0994361\n",
      "encoder.layer_stack.0.pos_ffn.layer_norm.weight (256,) -0.099113956 0.0012486791 0.099555984\n",
      "encoder.layer_stack.0.pos_ffn.layer_norm.bias (256,) -0.097746395 0.009007534 0.09949672\n",
      "encoder.layer_stack.1.slf_attn.w_qs.weight (256, 256) -0.10824489 0.0002921977 0.10825249\n",
      "encoder.layer_stack.1.slf_attn.w_ks.weight (256, 256) -0.108253054 9.7335535e-05 0.108250014\n",
      "encoder.layer_stack.1.slf_attn.w_vs.weight (256, 256) -0.108251676 0.0001804356 0.10824801\n",
      "encoder.layer_stack.1.slf_attn.fc.weight (256, 256) -0.10825226 -0.00034155138 0.10825315\n",
      "encoder.layer_stack.1.slf_attn.layer_norm.weight (256,) -0.098992184 0.0029423798 0.09993219\n",
      "encoder.layer_stack.1.slf_attn.layer_norm.bias (256,) -0.0990374 0.0023578273 0.099700235\n",
      "encoder.layer_stack.1.pos_ffn.w_1.weight (1024, 256) -0.06846525 -1.6491058e-05 0.06846504\n",
      "encoder.layer_stack.1.pos_ffn.w_1.bias (1024,) -0.09984528 -0.00020540704 0.09960749\n",
      "encoder.layer_stack.1.pos_ffn.w_2.weight (256, 1024) -0.068465285 5.5301985e-05 0.06846522\n",
      "encoder.layer_stack.1.pos_ffn.w_2.bias (256,) -0.09877713 -0.0004325573 0.09993813\n",
      "encoder.layer_stack.1.pos_ffn.layer_norm.weight (256,) -0.09976822 0.004177799 0.09902119\n",
      "encoder.layer_stack.1.pos_ffn.layer_norm.bias (256,) -0.09915795 -0.003881327 0.09843006\n",
      "encoder.layer_norm.weight (256,) -0.09872538 0.0015149647 0.099259734\n",
      "encoder.layer_norm.bias (256,) -0.09954176 -0.00036337427 0.09974388\n",
      "decoder.w.weight (256, 256) -0.108250126 0.00024766035 0.10824875\n",
      "decoder.layer_norm.weight (256,) -0.0991316 0.0034592687 0.09907889\n",
      "decoder.layer_norm.bias (256,) -0.099463835 -0.007508844 0.097546004\n",
      "Loading model weights from /home/misha/data/train_mllm_ranker_qrels_0/ranker-20241021_062053-msmarco-fever/best.pth\n"
     ]
    }
   ],
   "source": [
    "model_ranker_0 = MllmRankerLevel(ranker0_model_cfg, 0).to(device)\n",
    "print(f'Loading model weights from {ranker0_snapshot_fpath}')\n",
    "checkpoint = torch.load(ranker0_snapshot_fpath, map_location=device)\n",
    "model_ranker_0.load_state_dict(checkpoint['model'])\n",
    "model_ranker_0.eval()\n",
    "None"
   ]
  },
  {
   "cell_type": "code",
   "execution_count": 20,
   "metadata": {},
   "outputs": [
    {
     "name": "stdout",
     "output_type": "stream",
     "text": [
      "encoder.layer_stack.0.slf_attn.w_qs.weight (256, 256) -0.10825261 -5.5802517e-05 0.10825173\n",
      "encoder.layer_stack.0.slf_attn.w_ks.weight (256, 256) -0.10825261 0.00031761464 0.108252\n",
      "encoder.layer_stack.0.slf_attn.w_vs.weight (256, 256) -0.108244516 0.00034677965 0.108246915\n",
      "encoder.layer_stack.0.slf_attn.fc.weight (256, 256) -0.108252995 0.00018068234 0.108252764\n",
      "encoder.layer_stack.0.slf_attn.layer_norm.weight (256,) -0.099787556 0.0006585007 0.09933175\n",
      "encoder.layer_stack.0.slf_attn.layer_norm.bias (256,) -0.09794102 0.0020022742 0.09789349\n",
      "encoder.layer_stack.0.pos_ffn.w_1.weight (1024, 256) -0.06846473 -0.00012958856 0.06846424\n",
      "encoder.layer_stack.0.pos_ffn.w_1.bias (1024,) -0.099623226 0.0017477174 0.09999601\n",
      "encoder.layer_stack.0.pos_ffn.w_2.weight (256, 1024) -0.06846489 -1.03440125e-05 0.068465084\n",
      "encoder.layer_stack.0.pos_ffn.w_2.bias (256,) -0.099925615 0.0061488203 0.09897119\n",
      "encoder.layer_stack.0.pos_ffn.layer_norm.weight (256,) -0.099364296 0.0023797723 0.09973752\n",
      "encoder.layer_stack.0.pos_ffn.layer_norm.bias (256,) -0.09979546 0.0007068245 0.09960308\n",
      "encoder.layer_stack.1.slf_attn.w_qs.weight (256, 256) -0.10825069 9.136447e-05 0.10825009\n",
      "encoder.layer_stack.1.slf_attn.w_ks.weight (256, 256) -0.108252 -7.53627e-05 0.10825076\n",
      "encoder.layer_stack.1.slf_attn.w_vs.weight (256, 256) -0.10825227 2.035499e-05 0.10825247\n",
      "encoder.layer_stack.1.slf_attn.fc.weight (256, 256) -0.10825054 0.00016611814 0.10824708\n",
      "encoder.layer_stack.1.slf_attn.layer_norm.weight (256,) -0.09992194 0.0016759812 0.09872927\n",
      "encoder.layer_stack.1.slf_attn.layer_norm.bias (256,) -0.09984447 0.004380046 0.097728245\n",
      "encoder.layer_stack.1.pos_ffn.w_1.weight (1024, 256) -0.06846527 -0.00011034359 0.0684646\n",
      "encoder.layer_stack.1.pos_ffn.w_1.bias (1024,) -0.09996682 0.0021236325 0.099768065\n",
      "encoder.layer_stack.1.pos_ffn.w_2.weight (256, 1024) -0.06846524 -3.989778e-05 0.06846479\n",
      "encoder.layer_stack.1.pos_ffn.w_2.bias (256,) -0.09982933 0.0033660498 0.09869734\n",
      "encoder.layer_stack.1.pos_ffn.layer_norm.weight (256,) -0.099514246 -0.0039279843 0.099276654\n",
      "encoder.layer_stack.1.pos_ffn.layer_norm.bias (256,) -0.09930962 0.0005026085 0.09929191\n",
      "encoder.w_em.weight (1, 100) -0.24356498 -0.008925099 0.24280462\n",
      "encoder.layer_norm.weight (256,) -0.09990682 0.0013302516 0.0994025\n",
      "encoder.layer_norm.bias (256,) -0.09700339 -0.002195668 0.099667445\n",
      "decoder.w.weight (256, 256) -0.10824991 5.8166515e-05 0.10824995\n",
      "decoder.layer_norm.weight (256,) -0.09992676 -0.0038114127 0.099600635\n",
      "decoder.layer_norm.bias (256,) -0.0990379 -0.004684284 0.09931846\n",
      "Loading model weights from /home/misha/data/train_mllm_ranker_qrels_1/ranker-lvl1-20241023_220614-enc-lrs2-embmatTrue-d256-h8-dec-lrs2-d256-h8-encdec-20241022_224217/best.pth\n"
     ]
    }
   ],
   "source": [
    "model_ranker_1 = MllmRankerLevel(ranker1_model_cfg, level=1).to(device)\n",
    "print(f'Loading model weights from {ranker1_snapshot_fpath}')\n",
    "checkpoint = torch.load(ranker1_snapshot_fpath, map_location=device)\n",
    "model_ranker_1.load_state_dict(checkpoint['model'])\n",
    "model_ranker_1.eval()\n",
    "None"
   ]
  },
  {
   "cell_type": "markdown",
   "metadata": {},
   "source": [
    "### Using dataset queries"
   ]
  },
  {
   "cell_type": "code",
   "execution_count": 22,
   "metadata": {},
   "outputs": [],
   "source": [
    "embs_view = ds_embs.get_embs_view(batch_size=docs_batch_size * docs_per_chunk)"
   ]
  },
  {
   "cell_type": "code",
   "execution_count": 23,
   "metadata": {},
   "outputs": [],
   "source": [
    "i_batch = 0\n",
    "embs_batch_it = embs_view.get_batch_iterator(with_queries=True)\n",
    "for _ in range(i_batch):\n",
    "    embs_batch = next(embs_batch_it)\n",
    "embs_batch = next(embs_batch_it)"
   ]
  },
  {
   "cell_type": "code",
   "execution_count": 24,
   "metadata": {},
   "outputs": [
    {
     "name": "stdout",
     "output_type": "stream",
     "text": [
      "Batch 0. Docs embs: (10, 100, 256). Queries embs: (149, 256) 149\n"
     ]
    }
   ],
   "source": [
    "assert embs_batch.qs_embs is not None and embs_batch.qs_ind_len is not None\n",
    "print(f'Batch {i_batch}. Docs embs: {embs_batch.docs_embs.shape}. Queries embs: {embs_batch.qs_embs.shape} {len(embs_batch.qs_ind_len)}')\n"
   ]
  },
  {
   "cell_type": "code",
   "execution_count": 25,
   "metadata": {},
   "outputs": [
    {
     "data": {
      "text/plain": [
       "(769, 149, 149)"
      ]
     },
     "execution_count": 25,
     "metadata": {},
     "output_type": "execute_result"
    }
   ],
   "source": [
    "len(embs_batch.df_docs_ids), len(embs_batch.df_qrels), len(embs_batch.df_qs_ids)"
   ]
  },
  {
   "cell_type": "code",
   "execution_count": 26,
   "metadata": {},
   "outputs": [
    {
     "name": "stdout",
     "output_type": "stream",
     "text": [
      "out_rank. min, mean, max: 0.0889, 0.1000, 0.1130\n"
     ]
    }
   ],
   "source": [
    "docs_embs_t = embs_batch.get_docs_embs_tensor()\n",
    "qs_embs_t, qs_masks_t = embs_batch.get_qs_tensors()\n",
    "out_rank = model_ranker_1.run_qs_embs(docs_embs_t, qs_embs_t, embs_batch.qs_ind_len)\n",
    "print(f'out_rank. min, mean, max: {out_rank.min():0.4f}, {out_rank.mean():0.4f}, {out_rank.max():0.4f}')"
   ]
  },
  {
   "cell_type": "code",
   "execution_count": 27,
   "metadata": {},
   "outputs": [
    {
     "name": "stdout",
     "output_type": "stream",
     "text": [
      "torch.Size([149, 10])\n"
     ]
    }
   ],
   "source": [
    "print(out_rank.shape)"
   ]
  },
  {
   "cell_type": "code",
   "execution_count": 50,
   "metadata": {},
   "outputs": [
    {
     "name": "stdout",
     "output_type": "stream",
     "text": [
      "Query 3 11791: +where does the pacific walrus ive\n"
     ]
    }
   ],
   "source": [
    "query_ind = 3\n",
    "dsqid = embs_batch.qs_ind_len[query_ind][0]\n",
    "print(f'Query {query_ind} {dsqid}: {ds_qrels.df_qs.loc[dsqid].query}')\n"
   ]
  },
  {
   "cell_type": "code",
   "execution_count": 51,
   "metadata": {},
   "outputs": [
    {
     "data": {
      "text/plain": [
       "tensor([0.1035, 0.0996, 0.1007, 0.0982, 0.0997, 0.0989, 0.1043, 0.1006, 0.1004,\n",
       "        0.0940], grad_fn=<SelectBackward0>)"
      ]
     },
     "execution_count": 51,
     "metadata": {},
     "output_type": "execute_result"
    }
   ],
   "source": [
    "out_rank[query_ind]"
   ]
  },
  {
   "cell_type": "code",
   "execution_count": 52,
   "metadata": {},
   "outputs": [
    {
     "data": {
      "text/plain": [
       "tensor([False, False, False, False, False, False, False,  True, False, False])"
      ]
     },
     "execution_count": 52,
     "metadata": {},
     "output_type": "execute_result"
    }
   ],
   "source": [
    "qs_masks_t[query_ind]"
   ]
  },
  {
   "cell_type": "code",
   "execution_count": 53,
   "metadata": {},
   "outputs": [
    {
     "data": {
      "text/plain": [
       "array([1369469, 1901654,  632008, 2724055, 2305197, 1019421, 2345255,\n",
       "       2805343, 3182944,  655573])"
      ]
     },
     "execution_count": 53,
     "metadata": {},
     "output_type": "execute_result"
    }
   ],
   "source": [
    "dsdids = embs_batch.ids.reshape((docs_batch_size, docs_per_chunk))\n",
    "i_doc = 7\n",
    "dsdids[i_doc]"
   ]
  },
  {
   "cell_type": "code",
   "execution_count": 54,
   "metadata": {},
   "outputs": [
    {
     "name": "stdout",
     "output_type": "stream",
     "text": [
      "01. Doc 1369469: Morse Code & the Telegraph. \"Early Forms of Long-Distance Communication Before the development of the electric telegraph in the 19th century revolutionized how information was transmitted across long distances, ancient civilizat\n",
      "02. Doc 1901654: When Did Mardi Gras Start?. \"Listen H urray! It's Tuesday! How often do you hear that? If you've had a bad Monday, then maybe Tuesday rolling around might brighten your spirits. Otherwise, Tuesday usually doesn't get too much at\n",
      "03. Doc 632008: Walrus. \"From Wikipedia, the free encyclopedianavigation search For other uses, see Walrus (disambiguation). Walrus Temporal range: Pleistocene to Recent Male Female with young Conservation status Vulnerable \n",
      "04. Doc 2724055: Where Is Bactria?. \"Humanities ›History & Culture Where Is Bactria? Share Flipboard Email Printvia Wikipediaby Kallie Szczepanski Updated December 27, 2017Bactria is an ancient region of Central Asia, between the Hindu \n",
      "05. Doc 2305197: Find the Routing Number on a Check. Home Banking Resources Basics Routing Number Routing Number on a Check Open a Checking Account Contact Us For Assistance Find the Routing Number on a Check At the bottom of a check, you will see three\n",
      "06. Doc 1019421: .. President John Tyler has two living grandsons At the Corner, Mark Krikorian mentions the amazing news that two grandsons of President John Tyler, who was president from 1841 to 1845, are still alive. \n",
      "07. Doc 2345255: Finding Flow. \"Finding Flow Reviews the book 'Finding Flow,' by Mihaly Csikszentmihalyi. By Mihaly Csikszentmihalyi, published July 1, 1997 - last reviewed on June 9, 2016SHARETWEETEMAILMOREWe all are capable of re\n",
      "08. Doc 2805343: Receptionist Job Description. Receptionist Job Description A receptionist's job takes an important share in the overall functioning of an organization. She is the face of a company; in fact, the first official professional to whom\n",
      "09. Doc 3182944: suffix. \"suffixsuf·fix Use suffix in a sentencenoun The definition of a suffix is a letter, syllable or group of syllables that are added to the end of a word to change it into something else. An example of s\n",
      "10. Doc 655573: Difference between nastic movements and tropism movements?. \"Science & Mathematics Biology Difference between nastic movements and tropism movements?title1 following 7 answers Answers Relevance Rating Newest Oldest Best Answer: Nastic Movement: \"\"Nastic moveme\n"
     ]
    }
   ],
   "source": [
    "for i, dsdid in enumerate(dsdids[i_doc]):\n",
    "    title, text = ds_qrels.get_doc(dsdid)\n",
    "    print(f'{i + 1:02d}. Doc {dsdid}: {title[:100]}. {text[:200]}')"
   ]
  },
  {
   "cell_type": "code",
   "execution_count": 36,
   "metadata": {},
   "outputs": [
    {
     "name": "stdout",
     "output_type": "stream",
     "text": [
      "qid                           265\n",
      "query    +what is fascia or facia\n",
      "dsid                            1\n",
      "dsqid                        9174\n",
      "Name: 9174, dtype: object\n",
      "qid         265\n",
      "did       97881\n",
      "dsid          1\n",
      "dsqid      9174\n",
      "dsdid    508390\n",
      "Name: 9174, dtype: int64\n"
     ]
    }
   ],
   "source": [
    "print(ds_qrels.df_qs.loc[dsqid])\n",
    "qrel = ds_qrels.df_qrels.loc[dsqid]\n",
    "print(qrel)"
   ]
  },
  {
   "cell_type": "code",
   "execution_count": 38,
   "metadata": {},
   "outputs": [
    {
     "name": "stdout",
     "output_type": "stream",
     "text": [
      "fascia. \"fascia Also found in: Thesaurus, Medical, Legal, Encyclopedia, Wikipedia. Related to fascia: Colles fasciafas·cia (făsh′ə, fä′shə)n. pl. fas·ci·ae (făsh′ē-ē′, fä′shē-ē′)1. Anatomya. A sheet or band of fibrous connective tissue enveloping, separating, or bindingtogether muscles, organs, and other soft structures of the body.b. The tissue of which such a sheet or band is composed.2. Biology A broad\n"
     ]
    }
   ],
   "source": [
    "title, text = ds_qrels.get_doc(qrel.dsdid)\n",
    "print(f'{title[:100]}. {text[:400]}')"
   ]
  },
  {
   "cell_type": "code",
   "execution_count": 39,
   "metadata": {},
   "outputs": [
    {
     "data": {
      "text/plain": [
       "True"
      ]
     },
     "execution_count": 39,
     "metadata": {},
     "output_type": "execute_result"
    }
   ],
   "source": [
    "qrel.dsdid in embs_batch.ids"
   ]
  },
  {
   "cell_type": "code",
   "execution_count": 35,
   "metadata": {},
   "outputs": [
    {
     "data": {
      "text/plain": [
       "True"
      ]
     },
     "execution_count": 35,
     "metadata": {},
     "output_type": "execute_result"
    }
   ],
   "source": [
    "set(ds_qrels.df_qrels.index) == set(ds_qrels.df_qs.index)"
   ]
  },
  {
   "cell_type": "code",
   "execution_count": 40,
   "metadata": {},
   "outputs": [
    {
     "data": {
      "text/plain": [
       "array([ 895028, 3085932, 1616445, 2396834,  465048,  679478, 1282538,\n",
       "       2558828, 1918243, 1184395, 1931964,  991350, 1141254, 2247720,\n",
       "       2726870, 1461296, 2434362,  127982, 1479578, 1000903,  509488,\n",
       "       1161217, 3026873,  109872, 1446407, 1152228,  598469, 2971199,\n",
       "       2951585, 1365772, 2635634, 2588840, 2495189,   38604, 1537726,\n",
       "        699367, 2268633,  517965,  796713,  416362,  299777, 1742059,\n",
       "        544317, 2520629, 1436264, 2858298,  412377,  456861,  688057,\n",
       "        826758,  294285, 3081347,  650865, 2410836, 1107353, 3195243,\n",
       "       1505331, 1627906, 2145371,  739799, 1234207,  508390,  198804,\n",
       "       1895725,  239631, 1388082, 2056134,   51362,  760521,   38219,\n",
       "       1369469, 1901654,  632008, 2724055, 2305197, 1019421, 2345255,\n",
       "       2805343, 3182944,  655573,  308315,  580376, 1664242, 3115493,\n",
       "       2165184, 2810761,   58275,  525091,  919745, 1647851,  406509,\n",
       "       1163151, 2521349,  207467, 1206529,  803368,  597726,  874445,\n",
       "        314351, 1573595])"
      ]
     },
     "execution_count": 40,
     "metadata": {},
     "output_type": "execute_result"
    }
   ],
   "source": [
    "embs_batch.ids"
   ]
  },
  {
   "cell_type": "code",
   "execution_count": 41,
   "metadata": {},
   "outputs": [
    {
     "name": "stdout",
     "output_type": "stream",
     "text": [
      "61\n"
     ]
    }
   ],
   "source": [
    "for i, did in enumerate(embs_batch.ids):\n",
    "    if did == 508390:\n",
    "        print(i)\n",
    "        break"
   ]
  },
  {
   "cell_type": "code",
   "execution_count": 42,
   "metadata": {},
   "outputs": [
    {
     "data": {
      "text/html": [
       "<div>\n",
       "<style scoped>\n",
       "    .dataframe tbody tr th:only-of-type {\n",
       "        vertical-align: middle;\n",
       "    }\n",
       "\n",
       "    .dataframe tbody tr th {\n",
       "        vertical-align: top;\n",
       "    }\n",
       "\n",
       "    .dataframe thead th {\n",
       "        text-align: right;\n",
       "    }\n",
       "</style>\n",
       "<table border=\"1\" class=\"dataframe\">\n",
       "  <thead>\n",
       "    <tr style=\"text-align: right;\">\n",
       "      <th></th>\n",
       "      <th>did</th>\n",
       "      <th>offset</th>\n",
       "      <th>dsid</th>\n",
       "      <th>dsdid</th>\n",
       "    </tr>\n",
       "    <tr>\n",
       "      <th>dsdid</th>\n",
       "      <th></th>\n",
       "      <th></th>\n",
       "      <th></th>\n",
       "      <th></th>\n",
       "    </tr>\n",
       "  </thead>\n",
       "  <tbody>\n",
       "    <tr>\n",
       "      <th>0</th>\n",
       "      <td>1555982</td>\n",
       "      <td>0</td>\n",
       "      <td>1</td>\n",
       "      <td>0</td>\n",
       "    </tr>\n",
       "    <tr>\n",
       "      <th>1</th>\n",
       "      <td>301595</td>\n",
       "      <td>1852</td>\n",
       "      <td>1</td>\n",
       "      <td>1</td>\n",
       "    </tr>\n",
       "    <tr>\n",
       "      <th>2</th>\n",
       "      <td>1359209</td>\n",
       "      <td>7973</td>\n",
       "      <td>1</td>\n",
       "      <td>2</td>\n",
       "    </tr>\n",
       "    <tr>\n",
       "      <th>3</th>\n",
       "      <td>2147834</td>\n",
       "      <td>23656</td>\n",
       "      <td>1</td>\n",
       "      <td>3</td>\n",
       "    </tr>\n",
       "    <tr>\n",
       "      <th>4</th>\n",
       "      <td>1568809</td>\n",
       "      <td>31104</td>\n",
       "      <td>1</td>\n",
       "      <td>4</td>\n",
       "    </tr>\n",
       "  </tbody>\n",
       "</table>\n",
       "</div>"
      ],
      "text/plain": [
       "           did  offset  dsid  dsdid\n",
       "dsdid                              \n",
       "0      1555982       0     1      0\n",
       "1       301595    1852     1      1\n",
       "2      1359209    7973     1      2\n",
       "3      2147834   23656     1      3\n",
       "4      1568809   31104     1      4"
      ]
     },
     "execution_count": 42,
     "metadata": {},
     "output_type": "execute_result"
    }
   ],
   "source": [
    "df_off = ds_qrels.df_off\n",
    "df_off.iloc[:5]"
   ]
  },
  {
   "cell_type": "code",
   "execution_count": 43,
   "metadata": {},
   "outputs": [
    {
     "data": {
      "text/html": [
       "<div>\n",
       "<style scoped>\n",
       "    .dataframe tbody tr th:only-of-type {\n",
       "        vertical-align: middle;\n",
       "    }\n",
       "\n",
       "    .dataframe tbody tr th {\n",
       "        vertical-align: top;\n",
       "    }\n",
       "\n",
       "    .dataframe thead th {\n",
       "        text-align: right;\n",
       "    }\n",
       "</style>\n",
       "<table border=\"1\" class=\"dataframe\">\n",
       "  <thead>\n",
       "    <tr style=\"text-align: right;\">\n",
       "      <th></th>\n",
       "      <th>did</th>\n",
       "      <th>offset</th>\n",
       "      <th>dsid</th>\n",
       "      <th>dsdid</th>\n",
       "    </tr>\n",
       "    <tr>\n",
       "      <th>dsdid</th>\n",
       "      <th></th>\n",
       "      <th></th>\n",
       "      <th></th>\n",
       "      <th></th>\n",
       "    </tr>\n",
       "  </thead>\n",
       "  <tbody>\n",
       "    <tr>\n",
       "      <th>1</th>\n",
       "      <td>301595</td>\n",
       "      <td>1852</td>\n",
       "      <td>1</td>\n",
       "      <td>1</td>\n",
       "    </tr>\n",
       "    <tr>\n",
       "      <th>0</th>\n",
       "      <td>1555982</td>\n",
       "      <td>0</td>\n",
       "      <td>1</td>\n",
       "      <td>0</td>\n",
       "    </tr>\n",
       "    <tr>\n",
       "      <th>3</th>\n",
       "      <td>2147834</td>\n",
       "      <td>23656</td>\n",
       "      <td>1</td>\n",
       "      <td>3</td>\n",
       "    </tr>\n",
       "    <tr>\n",
       "      <th>2</th>\n",
       "      <td>1359209</td>\n",
       "      <td>7973</td>\n",
       "      <td>1</td>\n",
       "      <td>2</td>\n",
       "    </tr>\n",
       "    <tr>\n",
       "      <th>4</th>\n",
       "      <td>1568809</td>\n",
       "      <td>31104</td>\n",
       "      <td>1</td>\n",
       "      <td>4</td>\n",
       "    </tr>\n",
       "  </tbody>\n",
       "</table>\n",
       "</div>"
      ],
      "text/plain": [
       "           did  offset  dsid  dsdid\n",
       "dsdid                              \n",
       "1       301595    1852     1      1\n",
       "0      1555982       0     1      0\n",
       "3      2147834   23656     1      3\n",
       "2      1359209    7973     1      2\n",
       "4      1568809   31104     1      4"
      ]
     },
     "execution_count": 43,
     "metadata": {},
     "output_type": "execute_result"
    }
   ],
   "source": [
    "df_off.loc[[1,0,3,2,4]]"
   ]
  },
  {
   "cell_type": "code",
   "execution_count": 44,
   "metadata": {},
   "outputs": [
    {
     "data": {
      "text/plain": [
       "(Index([1, 0, 3, 2, 4], dtype='int64', name='dsdid'),\n",
       " dsdid\n",
       " 1     301595\n",
       " 0    1555982\n",
       " 3    2147834\n",
       " 2    1359209\n",
       " 4    1568809\n",
       " Name: did, dtype: int64)"
      ]
     },
     "execution_count": 44,
     "metadata": {},
     "output_type": "execute_result"
    }
   ],
   "source": [
    "df = df_off.loc[[1,0,3,2,4]]\n",
    "df.index, df.did"
   ]
  },
  {
   "cell_type": "code",
   "execution_count": null,
   "metadata": {},
   "outputs": [],
   "source": []
  },
  {
   "cell_type": "code",
   "execution_count": null,
   "metadata": {},
   "outputs": [],
   "source": [
    "pad_tok = tkz_cfg.custom_tokens['pad']\n",
    "inp_len = ranker1_model_cfg.vocab_encoder.inp_len\n",
    "\n",
    "def tokten_to_text(tokens: torch.Tensor) -> str:\n",
    "    tokens = tokens.flatten()\n",
    "    tokens = tokens[tokens != pad_tok]\n",
    "    tokens = list(tokens)\n",
    "    s = ch_tkz.decode(tokens)\n",
    "    return s\n",
    "\n",
    "def distance(x: np.ndarray, y: np.ndarray, cosine: bool = False):\n",
    "    if not cosine:\n",
    "        return np.linalg.norm(x - y)\n",
    "    x_norm, y_norm = np.linalg.norm(x), np.linalg.norm(y)\n",
    "    return np.sum(x * y) / (x_norm * y_norm)\n",
    "\n",
    "def text_to_tokens(s: str, qbeg_tok: Optional[int] = None, qend_tok: Optional[int] = None) -> torch.Tensor:\n",
    "    tokens = ch_tkz(s)['input_ids']\n",
    "    if qbeg_tok is not None:\n",
    "        assert qend_tok is not None\n",
    "        tokens = [qbeg_tok, *tokens, qend_tok]\n",
    "    n_tokens = len(tokens)\n",
    "    n_padded = n_tokens // inp_len + (n_tokens % inp_len > 0)\n",
    "    res = np.full((n_padded * inp_len, ), pad_tok, dtype=np.int32)\n",
    "    res[:n_tokens] = tokens\n",
    "    res = torch.from_numpy(res).to(device)\n",
    "    res = res.reshape(n_padded, inp_len)\n",
    "    return res\n",
    "\n",
    "def print_dist(target_embs: torch.Tensor, docs_embs: torch.Tensor, target_mask: torch.Tensor, cosine: bool = True):\n",
    "    for i, docs_emb in enumerate(docs_embs.detach().numpy()):\n",
    "        for target_emb in target_embs.detach().numpy():\n",
    "            dist = distance(target_emb, docs_emb, cosine)\n",
    "            print(f'{dist:0.6f} ', end='')\n",
    "        sfx = 'T' if target_mask[i] else 'F'\n",
    "        print(sfx)"
   ]
  },
  {
   "cell_type": "code",
   "execution_count": null,
   "metadata": {},
   "outputs": [],
   "source": []
  },
  {
   "cell_type": "code",
   "execution_count": null,
   "metadata": {},
   "outputs": [],
   "source": []
  }
 ],
 "metadata": {
  "kernelspec": {
   "display_name": "mllm",
   "language": "python",
   "name": "python3"
  },
  "language_info": {
   "codemirror_mode": {
    "name": "ipython",
    "version": 3
   },
   "file_extension": ".py",
   "mimetype": "text/x-python",
   "name": "python",
   "nbconvert_exporter": "python",
   "pygments_lexer": "ipython3",
   "version": "3.10.14"
  }
 },
 "nbformat": 4,
 "nbformat_minor": 2
}
