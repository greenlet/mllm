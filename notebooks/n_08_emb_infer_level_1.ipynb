{
 "cells": [
  {
   "cell_type": "code",
   "execution_count": 9,
   "metadata": {},
   "outputs": [
    {
     "name": "stdout",
     "output_type": "stream",
     "text": [
      "The autoreload extension is already loaded. To reload it, use:\n",
      "  %reload_ext autoreload\n"
     ]
    }
   ],
   "source": [
    "%load_ext autoreload\n",
    "%autoreload 2"
   ]
  },
  {
   "cell_type": "code",
   "execution_count": 10,
   "metadata": {},
   "outputs": [],
   "source": [
    "import os\n",
    "from pathlib import Path\n",
    "import sys\n",
    "from typing import Optional\n",
    "if '..' not in sys.path: sys.path.append('..')\n",
    "\n",
    "import numpy as np\n",
    "from matplotlib import pyplot as plt\n",
    "from pydantic_yaml import parse_yaml_file_as\n",
    "import torch\n",
    "from torch import nn\n",
    "from transformers import GPT2Tokenizer, AddedToken, PreTrainedTokenizer\n",
    "\n",
    "from mllm.config.model import MllmRankerCfg, MllmEncdecCfg, TokenizerCfg\n",
    "from mllm.data.dsqrels_embs import DsQrelsEmbs, QrelsEmbsBatch\n",
    "from mllm.data.utils import load_qrels_datasets\n",
    "from mllm.model.mllm_encdec import MllmEncdecLevel\n",
    "from mllm.model.mllm_ranker import RankProbLoss, MllmRankerLevel\n",
    "from mllm.tokenization.chunk_tokenizer import gen_all_tokens, ChunkTokenizer, tokenizer_from_config\n",
    "from mllm.train.utils import find_create_train_path, calc_print_batches\n",
    "\n"
   ]
  },
  {
   "cell_type": "code",
   "execution_count": 14,
   "metadata": {},
   "outputs": [
    {
     "name": "stdout",
     "output_type": "stream",
     "text": [
      "Ranker cfg fpath: /home/misha/prog/mllm/mllm/config/cfg/ranker_model_cfg_02.yaml. Exists: True\n"
     ]
    }
   ],
   "source": [
    "DATA_PATH = Path(os.path.expandvars('$HOME')) / 'data'\n",
    "DS_MSMARCO_DIR_PATH = DATA_PATH / 'msmarco'\n",
    "DS_FEVER_DIR_PATH = DATA_PATH / 'fever'\n",
    "TRAIN_RANKER_EMBS_PATH = DATA_PATH / 'train_mllm_ranker_qrels_1'\n",
    "DS_WIKI_DIR_PATH = DATA_PATH / 'wiki_20200501_en/ch_100_fixed'\n",
    "DS_EMBS_DIR_PATH = DATA_PATH / 'ranker_embs_msmarco_fever'\n",
    "CFG_DIR_PATH = Path(os.path.abspath('.')).parent / 'mllm/config/cfg'\n",
    "\n",
    "tokenizer_cfg_fpath = CFG_DIR_PATH / 'tokenizer_cfg_01.yaml'\n",
    "\n",
    "ranker_subdir = 'ranker-l1-20241012_102220-encdec-l1-20241005_175446-msmarco-fever'\n",
    "ranker_train_path = TRAIN_RANKER_EMBS_PATH / ranker_subdir\n",
    "ranker_snapshot_path = ranker_train_path / 'best.pth'\n",
    "\n",
    "ranker_model_cfg_fpath = CFG_DIR_PATH / 'ranker_model_cfg_02.yaml'\n",
    "print(f'Ranker cfg fpath: {ranker_model_cfg_fpath}. Exists: {ranker_model_cfg_fpath.exists()}')"
   ]
  },
  {
   "cell_type": "code",
   "execution_count": 15,
   "metadata": {},
   "outputs": [
    {
     "name": "stdout",
     "output_type": "stream",
     "text": [
      "cpu\n"
     ]
    }
   ],
   "source": [
    "emb_chunk_size = 100\n",
    "embs_chunk_size = 100\n",
    "docs_batch_size = 5\n",
    "max_chunks_per_doc = 3\n",
    "device = 'cpu'\n",
    "# device = 'cuda'\n",
    "\n",
    "device = torch.device(device)\n",
    "print(device)\n",
    "model_level = 1\n",
    "ranker_model_cfg: MllmRankerCfg = parse_yaml_file_as(MllmRankerCfg, ranker_model_cfg_fpath)\n",
    "enc_cfg = ranker_model_cfg.encoders[model_level]\n",
    "max_docs_embs = 0\n"
   ]
  },
  {
   "cell_type": "code",
   "execution_count": 16,
   "metadata": {},
   "outputs": [],
   "source": [
    "tkz_cfg = parse_yaml_file_as(TokenizerCfg, tokenizer_cfg_fpath)\n",
    "ch_tkz = tokenizer_from_config(tkz_cfg)"
   ]
  },
  {
   "cell_type": "code",
   "execution_count": 17,
   "metadata": {},
   "outputs": [
    {
     "name": "stdout",
     "output_type": "stream",
     "text": [
      "Join datasets:\n",
      "   Msmarco. Queries: 372206. Docs: 3213835. QueryDocRels: 372206\n",
      "   Fever. Queries: 123142. Docs: 5416568. QueryDocRels: 156101\n"
     ]
    }
   ],
   "source": [
    "ds_qrels = load_qrels_datasets([DS_MSMARCO_DIR_PATH, DS_FEVER_DIR_PATH], ch_tkz, emb_chunk_size, device)"
   ]
  },
  {
   "cell_type": "code",
   "execution_count": 18,
   "metadata": {},
   "outputs": [],
   "source": [
    "ds_embs = DsQrelsEmbs(\n",
    "    ds_dir_path=DS_EMBS_DIR_PATH, chunk_size=embs_chunk_size, emb_size=enc_cfg.d_model, emb_dtype=np.float32,\n",
    "    doc_id_driven=True, max_docs_embs=max_docs_embs, device=device,\n",
    ")"
   ]
  },
  {
   "cell_type": "code",
   "execution_count": 19,
   "metadata": {},
   "outputs": [
    {
     "name": "stdout",
     "output_type": "stream",
     "text": [
      "encoder.a_em () -0.04032854 -0.04032854 -0.04032854\n",
      "encoder.layer_stack.0.slf_attn.w_qs.weight (256, 256) -0.10824747 -0.00036556713 0.10825267\n",
      "encoder.layer_stack.0.slf_attn.w_ks.weight (256, 256) -0.108251445 -0.00040734917 0.108250014\n",
      "encoder.layer_stack.0.slf_attn.w_vs.weight (256, 256) -0.10825122 -0.00033577072 0.10825282\n",
      "encoder.layer_stack.0.slf_attn.fc.weight (256, 256) -0.108250886 -0.00018787659 0.10824925\n",
      "encoder.layer_stack.0.slf_attn.layer_norm.weight (256,) -0.099928476 -0.0032927117 0.098024465\n",
      "encoder.layer_stack.0.slf_attn.layer_norm.bias (256,) -0.09862503 0.0036262968 0.09957059\n",
      "encoder.layer_stack.0.pos_ffn.w_1.weight (1024, 256) -0.06846341 2.1765818e-05 0.068464585\n",
      "encoder.layer_stack.0.pos_ffn.w_1.bias (1024,) -0.09999468 -0.00026246576 0.09977813\n",
      "encoder.layer_stack.0.pos_ffn.w_2.weight (256, 1024) -0.06846482 5.7863457e-05 0.06846513\n",
      "encoder.layer_stack.0.pos_ffn.w_2.bias (256,) -0.09902563 0.00016542478 0.09985527\n",
      "encoder.layer_stack.0.pos_ffn.layer_norm.weight (256,) -0.099836186 0.0036942794 0.099251114\n",
      "encoder.layer_stack.0.pos_ffn.layer_norm.bias (256,) -0.09991222 -0.00341228 0.0990107\n",
      "encoder.layer_norm.weight (256,) -0.09939182 0.0054587247 0.09913918\n",
      "encoder.layer_norm.bias (256,) -0.0996532 -0.0007277732 0.09805214\n",
      "decoder.w.weight (256, 256) -0.10824928 0.0003726283 0.10825243\n",
      "decoder.layer_norm.weight (256,) -0.09977158 0.006421893 0.09976428\n",
      "decoder.layer_norm.bias (256,) -0.09947336 0.0010873638 0.098433234\n",
      "Loading model weights from /home/misha/data/train_mllm_ranker_qrels_1/ranker-l1-20241012_102220-encdec-l1-20241005_175446-msmarco-fever/best.pth\n"
     ]
    },
    {
     "data": {
      "text/plain": [
       "<All keys matched successfully>"
      ]
     },
     "execution_count": 19,
     "metadata": {},
     "output_type": "execute_result"
    }
   ],
   "source": [
    "model_ranker = MllmRankerLevel(ranker_model_cfg, model_level).to(device)\n",
    "print(f'Loading model weights from {ranker_snapshot_path}')\n",
    "checkpoint = torch.load(ranker_snapshot_path, map_location=device)\n",
    "model_ranker.load_state_dict(checkpoint['model'])"
   ]
  },
  {
   "cell_type": "code",
   "execution_count": null,
   "metadata": {},
   "outputs": [],
   "source": []
  },
  {
   "cell_type": "code",
   "execution_count": null,
   "metadata": {},
   "outputs": [],
   "source": []
  },
  {
   "cell_type": "code",
   "execution_count": null,
   "metadata": {},
   "outputs": [],
   "source": []
  },
  {
   "cell_type": "code",
   "execution_count": null,
   "metadata": {},
   "outputs": [],
   "source": []
  },
  {
   "cell_type": "code",
   "execution_count": null,
   "metadata": {},
   "outputs": [],
   "source": []
  },
  {
   "cell_type": "code",
   "execution_count": null,
   "metadata": {},
   "outputs": [],
   "source": []
  },
  {
   "cell_type": "code",
   "execution_count": null,
   "metadata": {},
   "outputs": [],
   "source": []
  },
  {
   "cell_type": "code",
   "execution_count": null,
   "metadata": {},
   "outputs": [],
   "source": []
  },
  {
   "cell_type": "code",
   "execution_count": null,
   "metadata": {},
   "outputs": [],
   "source": []
  },
  {
   "cell_type": "code",
   "execution_count": null,
   "metadata": {},
   "outputs": [],
   "source": []
  }
 ],
 "metadata": {
  "kernelspec": {
   "display_name": "mllm",
   "language": "python",
   "name": "python3"
  },
  "language_info": {
   "codemirror_mode": {
    "name": "ipython",
    "version": 3
   },
   "file_extension": ".py",
   "mimetype": "text/x-python",
   "name": "python",
   "nbconvert_exporter": "python",
   "pygments_lexer": "ipython3",
   "version": "3.10.14"
  }
 },
 "nbformat": 4,
 "nbformat_minor": 2
}
