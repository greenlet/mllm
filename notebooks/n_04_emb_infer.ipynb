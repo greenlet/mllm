{
 "cells": [
  {
   "cell_type": "code",
   "execution_count": 2,
   "metadata": {},
   "outputs": [],
   "source": [
    "%load_ext autoreload\n",
    "%autoreload 2"
   ]
  },
  {
   "cell_type": "code",
   "execution_count": 3,
   "metadata": {},
   "outputs": [],
   "source": [
    "import os\n",
    "from pathlib import Path\n",
    "import sys\n",
    "from typing import Optional\n",
    "if '..' not in sys.path: sys.path.append('..')\n",
    "\n",
    "import numpy as np\n",
    "from matplotlib import pyplot as plt\n",
    "import torch\n",
    "from torch import nn\n",
    "from transformers import GPT2Tokenizer, AddedToken, PreTrainedTokenizer\n",
    "\n",
    "from mllm.data.wiki.dswiki import WikiDsLoader\n",
    "from mllm.model.mllm_encdec import MllmEncdec\n",
    "from mllm.model.mllm_ranker import MllmRanker\n",
    "from mllm.exp.cfg import create_mllm_encdec_cfg, create_mllm_ranker_cfg\n",
    "from mllm.tokenization.chunk_tokenizer import calc_max_inp_size, gen_all_tokens\n",
    "\n"
   ]
  },
  {
   "cell_type": "code",
   "execution_count": 4,
   "metadata": {},
   "outputs": [],
   "source": [
    "DATA_PATH = Path(os.path.expandvars('$HOME')) / 'data'\n",
    "TRAIN_ENCDEC_PATH = DATA_PATH / 'train_mllm_encdec'\n",
    "# TRAIN_RANKER_PATH = DATA_PATH / 'train_mllm_ranker'\n",
    "TRAIN_RANKER_PATH = DATA_PATH / 'train_mllm_ranker_qs'\n",
    "DS_DIR_PATH = DATA_PATH / 'wiki_20200501_en' / 'ch_100_fixed'\n",
    "\n",
    "encdec_subdir = 'encdec-20240718_221554-wiki_20200501_en-ch_100_fixed'\n",
    "# ranker_subdir = 'ranker-20240722_225232-wiki_20200501_en-ch_100_fixed'\n",
    "# ranker_subdir = 'ranker-20240724_230827-wiki_20200501_en-ch_100_fixed'\n",
    "# ranker_subdir = 'ranker-20240726_232850-wiki_20200501_en-ch_100_fixed'\n",
    "# ranker_subdir = 'ranker-20240722_225232-wiki_20200501_en-ch_100_fixed'\n",
    "# ranker_subdir = 'ranker-20240730_213328-wiki_20200501_en-ch_100_fixed'\n",
    "# ranker_subdir = 'ranker-20240806_221913-msmarco'\n",
    "# ranker_subdir = 'ranker-20240815_180317-msmarco'\n",
    "ranker_subdir = 'ranker-20240830_232515-msmarco-fever'\n",
    "ranker_subdir = 'ranker-20240831_231551-msmarco-fever'\n",
    "encdec_train_path = TRAIN_ENCDEC_PATH / encdec_subdir\n",
    "# ranker_train_path = TRAIN_RANKER_PATH / ranker_subdir\n",
    "ranker_train_path = DATA_PATH / 'train_mllm_ranker_qrels' / ranker_subdir\n",
    "encdec_snapshot_path = encdec_train_path / 'best.pth'\n",
    "ranker_snapshot_path = ranker_train_path / 'best.pth'"
   ]
  },
  {
   "cell_type": "code",
   "execution_count": 5,
   "metadata": {},
   "outputs": [
    {
     "name": "stdout",
     "output_type": "stream",
     "text": [
      "cpu\n"
     ]
    }
   ],
   "source": [
    "docs_batch_size = 5\n",
    "max_chunks_per_doc = 3\n",
    "device = 'cpu'\n",
    "# device = 'cuda'\n",
    "\n",
    "device = torch.device(device)\n",
    "print(device)"
   ]
  },
  {
   "cell_type": "code",
   "execution_count": 6,
   "metadata": {},
   "outputs": [
    {
     "name": "stdout",
     "output_type": "stream",
     "text": [
      "Loading cache from /home/misha/data/wiki_20200501_en/ch_100_fixed/.mllm/ds.csv\n",
      "Loaded dataset size: 50989207\n"
     ]
    }
   ],
   "source": [
    "tokenizer = GPT2Tokenizer.from_pretrained('gpt2', model_max_length=100000)\n",
    "tok_dict = gen_all_tokens(tokenizer)\n",
    "pad_tok, qbeg_tok, qend_tok = tok_dict['pad'].ind, tok_dict['query_begin'].ind, tok_dict['query_end'].ind\n",
    "ds_loader = WikiDsLoader(\n",
    "    ds_path=DS_DIR_PATH, docs_batch_size=docs_batch_size, max_chunks_per_doc=max_chunks_per_doc,\n",
    "    pad_tok=pad_tok, qbeg_tok=qbeg_tok, qend_tok=qend_tok, device=device,\n",
    ")\n",
    "ds_loader.shuffle(train=True)\n",
    "ds_loader.shuffle(train=False)\n",
    "inp_len = ds_loader.emb_chunk_size if ds_loader.fixed_size else calc_max_inp_size(ds_loader.emb_chunk_size)"
   ]
  },
  {
   "cell_type": "code",
   "execution_count": 7,
   "metadata": {},
   "outputs": [],
   "source": [
    "def tokten_to_text(tokens: torch.Tensor) -> str:\n",
    "    tokens = tokens.flatten()\n",
    "    tokens = tokens[tokens != pad_tok]\n",
    "    tokens = list(tokens)\n",
    "    s = tokenizer.decode(tokens)\n",
    "    return s\n",
    "\n",
    "def distance(x: np.ndarray, y: np.ndarray, cosine: bool = False):\n",
    "    if not cosine:\n",
    "        return np.linalg.norm(x - y)\n",
    "    x_norm, y_norm = np.linalg.norm(x), np.linalg.norm(y)\n",
    "    return np.sum(x * y) / (x_norm * y_norm)\n",
    "\n",
    "def text_to_tokens(s: str, qbeg_tok: Optional[int] = None, qend_tok: Optional[int] = None) -> torch.Tensor:\n",
    "    tokens = tokenizer(s)['input_ids']\n",
    "    if qbeg_tok is not None:\n",
    "        assert qend_tok is not None\n",
    "        tokens = [qbeg_tok, *tokens, qend_tok]\n",
    "    n_tokens = len(tokens)\n",
    "    n_padded = n_tokens // inp_len + (n_tokens % inp_len > 0)\n",
    "    res = np.full((n_padded * inp_len, ), pad_tok, dtype=np.int32)\n",
    "    res[:n_tokens] = tokens\n",
    "    res = torch.from_numpy(res).to(device)\n",
    "    res = res.reshape(n_padded, inp_len)\n",
    "    return res\n",
    "\n",
    "def print_dist(target_embs: torch.Tensor, docs_embs: torch.Tensor, target_mask: torch.Tensor, cosine: bool = True):\n",
    "    for i, docs_emb in enumerate(docs_embs.detach().numpy()):\n",
    "        for target_emb in target_embs.detach().numpy():\n",
    "            dist = distance(target_emb, docs_emb, cosine)\n",
    "            print(f'{dist:0.6f} ', end='')\n",
    "        sfx = 'T' if target_mask[i] else 'F'\n",
    "        print(sfx)\n"
   ]
  },
  {
   "cell_type": "code",
   "execution_count": 8,
   "metadata": {},
   "outputs": [
    {
     "name": "stdout",
     "output_type": "stream",
     "text": [
      "vocab_encoder.src_word_emb.weight (50270, 256) -0.010897282 -2.0029593e-06 0.010897278\n",
      "vocab_encoder.layer_norm.weight (256,) -0.09956843 -0.0006340821 0.09903169\n",
      "vocab_encoder.layer_norm.bias (256,) -0.098254435 0.000537434 0.0998828\n",
      "encoder.layer_stack.0.slf_attn.w_qs.weight (256, 256) -0.10824963 0.00023863433 0.10825174\n",
      "encoder.layer_stack.0.slf_attn.w_ks.weight (256, 256) -0.10825088 -0.00010044141 0.108249225\n",
      "encoder.layer_stack.0.slf_attn.w_vs.weight (256, 256) -0.10824873 0.00037398466 0.10824713\n",
      "encoder.layer_stack.0.slf_attn.fc.weight (256, 256) -0.10825314 0.00017549611 0.108251445\n",
      "encoder.layer_stack.0.slf_attn.layer_norm.weight (256,) -0.09987368 -0.0007624241 0.09937713\n",
      "encoder.layer_stack.0.slf_attn.layer_norm.bias (256,) -0.09996825 0.005671611 0.09821061\n",
      "encoder.layer_stack.0.pos_ffn.w_1.weight (1024, 256) -0.06846527 1.2881355e-05 0.06846447\n",
      "encoder.layer_stack.0.pos_ffn.w_1.bias (1024,) -0.09981292 -0.0021504965 0.09989592\n",
      "encoder.layer_stack.0.pos_ffn.w_2.weight (256, 1024) -0.06846483 4.6405643e-05 0.06846521\n",
      "encoder.layer_stack.0.pos_ffn.w_2.bias (256,) -0.09983319 0.0047003827 0.09838128\n",
      "encoder.layer_stack.0.pos_ffn.layer_norm.weight (256,) -0.09796208 -0.005897161 0.099119544\n",
      "encoder.layer_stack.0.pos_ffn.layer_norm.bias (256,) -0.09937717 -0.003491233 0.09900365\n",
      "encoder.w_em.weight (1, 100) -0.24015498 -0.004943469 0.2384209\n",
      "encoder.layer_norm.weight (256,) -0.09920573 -0.005549009 0.0995541\n",
      "encoder.layer_norm.bias (256,) -0.099207155 -0.0016262513 0.09939348\n",
      "decoder.A_emb2sec (100, 256, 256) -0.008113918 7.8505684e-07 0.008113915\n",
      "decoder.att_layers.0.slf_attn.w_qs.weight (256, 256) -0.10825111 0.00023777445 0.10824965\n",
      "decoder.att_layers.0.slf_attn.w_ks.weight (256, 256) -0.108245894 -3.8708487e-05 0.1082515\n",
      "decoder.att_layers.0.slf_attn.w_vs.weight (256, 256) -0.10825254 0.0002052289 0.108252734\n",
      "decoder.att_layers.0.slf_attn.fc.weight (256, 256) -0.10825071 0.00025413965 0.10824896\n",
      "decoder.att_layers.0.slf_attn.layer_norm.weight (256,) -0.09925709 0.00048511772 0.09927829\n",
      "decoder.att_layers.0.slf_attn.layer_norm.bias (256,) -0.099934794 0.0010290274 0.099284686\n",
      "decoder.att_layers.0.pos_ffn.w_1.weight (1024, 256) -0.06846519 -8.107484e-05 0.06846448\n",
      "decoder.att_layers.0.pos_ffn.w_1.bias (1024,) -0.09988 -7.075316e-05 0.09992405\n",
      "decoder.att_layers.0.pos_ffn.w_2.weight (256, 1024) -0.06846524 -1.0160893e-06 0.06846518\n",
      "decoder.att_layers.0.pos_ffn.w_2.bias (256,) -0.09978719 -7.9283025e-05 0.09911424\n",
      "decoder.att_layers.0.pos_ffn.layer_norm.weight (256,) -0.09915914 -0.00042786822 0.09979341\n",
      "decoder.att_layers.0.pos_ffn.layer_norm.bias (256,) -0.099342726 0.0014467756 0.09988703\n",
      "vocab_decoder.word_prj.weight (50270, 256) -0.010897282 1.1378897e-07 0.010897278\n"
     ]
    }
   ],
   "source": [
    "model_encdec_cfg = create_mllm_encdec_cfg(\n",
    "    n_vocab=len(tokenizer), d_word_wec=256, inp_len=inp_len,\n",
    "    enc_n_layers=1, dec_n_layers=1,\n",
    "    n_heads=8, d_model=256, d_inner=1024,\n",
    "    pad_idx=pad_tok, dropout_rate=0.1, enc_with_emb_mat=True,\n",
    ")\n",
    "model_encdec = MllmEncdec(model_encdec_cfg).to(device)"
   ]
  },
  {
   "cell_type": "code",
   "execution_count": 9,
   "metadata": {},
   "outputs": [],
   "source": [
    "checkpoint_encdec = torch.load(encdec_snapshot_path)\n",
    "model_encdec.load_state_dict(checkpoint_encdec['model'], strict=False)\n",
    "model_encdec.eval()\n",
    "del checkpoint_encdec"
   ]
  },
  {
   "cell_type": "code",
   "execution_count": 10,
   "metadata": {},
   "outputs": [
    {
     "data": {
      "text/plain": [
       "tensor([[15496,   612, 50267, 50267, 50267, 50267, 50267, 50267, 50267, 50267,\n",
       "         50267, 50267, 50267, 50267, 50267, 50267, 50267, 50267, 50267, 50267,\n",
       "         50267, 50267, 50267, 50267, 50267, 50267, 50267, 50267, 50267, 50267,\n",
       "         50267, 50267, 50267, 50267, 50267, 50267, 50267, 50267, 50267, 50267,\n",
       "         50267, 50267, 50267, 50267, 50267, 50267, 50267, 50267, 50267, 50267,\n",
       "         50267, 50267, 50267, 50267, 50267, 50267, 50267, 50267, 50267, 50267,\n",
       "         50267, 50267, 50267, 50267, 50267, 50267, 50267, 50267, 50267, 50267,\n",
       "         50267, 50267, 50267, 50267, 50267, 50267, 50267, 50267, 50267, 50267,\n",
       "         50267, 50267, 50267, 50267, 50267, 50267, 50267, 50267, 50267, 50267,\n",
       "         50267, 50267, 50267, 50267, 50267, 50267, 50267, 50267, 50267, 50267]],\n",
       "       dtype=torch.int32)"
      ]
     },
     "execution_count": 10,
     "metadata": {},
     "output_type": "execute_result"
    }
   ],
   "source": [
    "text_to_tokens('Hello there')"
   ]
  },
  {
   "cell_type": "code",
   "execution_count": 11,
   "metadata": {},
   "outputs": [
    {
     "data": {
      "text/plain": [
       "(torch.Size([13, 100]),\n",
       " torch.Size([2, 100]),\n",
       " tensor([ True,  True, False, False, False, False, False, False, False, False,\n",
       "         False, False, False]))"
      ]
     },
     "execution_count": 11,
     "metadata": {},
     "output_type": "execute_result"
    }
   ],
   "source": [
    "i = 10\n",
    "batch = ds_loader.get_batch(i, train=True)\n",
    "docs_chunks, target_chunks, target_mask = batch.gen_tensors()\n",
    "docs_chunks.shape, target_chunks.shape, target_mask"
   ]
  },
  {
   "cell_type": "code",
   "execution_count": 12,
   "metadata": {},
   "outputs": [
    {
     "data": {
      "text/plain": [
       "'<|query_begin|> Tremont station (Massachusetts)Tremont station (also known as West Wareham station) was located on Mill Street in West Wareham, Massachusetts. The station was located just east of the former junction of the Cape Cod Branch Railroad and the Fairhaven Branch Railroad.\\n\\nSee also\\nWareham Village station\\nOnset station\\n\\nReferences\\n\\nExternal links\\n\\nCategory:Buildings and structures in Wareham, Massachusetts\\nCategory:Former railway stations in Massachusetts\\nCategory:Stations along Old Colony Railroad lines <|query_end|>'"
      ]
     },
     "execution_count": 12,
     "metadata": {},
     "output_type": "execute_result"
    }
   ],
   "source": [
    "s_target = tokten_to_text(target_chunks)\n",
    "s_target"
   ]
  },
  {
   "cell_type": "code",
   "execution_count": 13,
   "metadata": {},
   "outputs": [
    {
     "name": "stdout",
     "output_type": "stream",
     "text": [
      "<|doc_begin|> <|doc_id_begin|> 596725 <|doc_id_end|> <|doc_offset_begin|> 0 <|doc_offset_end|> <|doc_title_begin|> Tremont station (Massachusetts) <|doc_title_end|> <|doc_body_begin|> Tremont station \n",
      "<|doc_begin|> <|doc_id_begin|> 596725 <|doc_id_end|> <|doc_offset_begin|> 91 <|doc_offset_end|>  Massachusetts\\nCategory:Former railway stations in Massachusetts\\nCategory:Stations along Old Colony Rail\n",
      "<|doc_begin|> <|doc_id_begin|> 5419405 <|doc_id_end|> <|doc_offset_begin|> 0 <|doc_offset_end|> <|doc_title_begin|> Vincenzo Marruocco <|doc_title_end|> <|doc_body_begin|> Vincenzo Marruocco (born 26 \n",
      "<|doc_begin|> <|doc_id_begin|> 5419405 <|doc_id_end|> <|doc_offset_begin|> 91 <|doc_offset_end|> azzetta dello Sport player profile \\n Profile at AIC.Football.it \\n\\nCategory:1979 births\\nCategory:Sportsp\n",
      "<|doc_begin|> <|doc_id_begin|> 5419405 <|doc_id_end|> <|doc_offset_begin|> 182 <|doc_offset_end|>.S. Salernitana 1919 players\\nCategory:S.S. Chieti Calcio players\\nCategory:Calcio Foggia 1920 S.S.D. pla\n",
      "<|doc_begin|> <|doc_id_begin|> 4512382 <|doc_id_end|> <|doc_offset_begin|> 0 <|doc_offset_end|> <|doc_title_begin|> Doğuş Özdemiroğlu <|doc_title_end|> <|doc_body_begin|> Doğuş Özdemiroğlu (born May 1\n",
      "<|doc_begin|> <|doc_id_begin|> 4512382 <|doc_id_end|> <|doc_offset_begin|> 91 <|doc_offset_end|> zdemiroğlu TBLStat.net Profile\\nDoğuş Özdemiroğlu Eurobasket Profile\\nDoğuş Özdemiroğlu TBL Profile\\n\\nCate\n",
      "<|doc_begin|> <|doc_id_begin|> 4512382 <|doc_id_end|> <|doc_offset_begin|> 182 <|doc_offset_end|> giresun Belediye players <|doc_body_end|> <|doc_end|>\n",
      "<|doc_begin|> <|doc_id_begin|> 1173334 <|doc_id_end|> <|doc_offset_begin|> 0 <|doc_offset_end|> <|doc_title_begin|> Pernarec <|doc_title_end|> <|doc_body_begin|> Pernarec is a village and municipality\n",
      "<|doc_begin|> <|doc_id_begin|> 1173334 <|doc_id_end|> <|doc_offset_begin|> 91 <|doc_offset_end|> Czech Statistical Office: Municipalities of Plzeň-North District\\n\\nCategory:Villages in Plzeň-North Dist\n",
      "<|doc_begin|> <|doc_id_begin|> 5416358 <|doc_id_end|> <|doc_offset_begin|> 727 <|doc_offset_end|> Category:American expatriate basketball people in Turkey\\nCategory:American sportspeople of Korean desc\n",
      "<|doc_begin|> <|doc_id_begin|> 5416358 <|doc_id_end|> <|doc_offset_begin|> 818 <|doc_offset_end|> :CB Girona players\\nCategory:Changwon LG Sakers players\\nCategory:Cholet Basket players\\nCategory:Connect\n",
      "<|doc_begin|> <|doc_id_begin|> 5416358 <|doc_id_end|> <|doc_offset_begin|> 908 <|doc_offset_end|> \\nCategory:South Korean expatriate basketball people in Spain\\nCategory:South Korean expatriate basketba\n"
     ]
    }
   ],
   "source": [
    "for toks in docs_chunks:\n",
    "    s = tokten_to_text(toks)\n",
    "    print(s[:200].replace('\\n', '\\\\n'))"
   ]
  },
  {
   "cell_type": "code",
   "execution_count": 14,
   "metadata": {},
   "outputs": [],
   "source": [
    "target_embs = model_encdec.run_enc_emb(target_chunks)\n",
    "docs_embs = model_encdec.run_enc_emb(docs_chunks)"
   ]
  },
  {
   "cell_type": "code",
   "execution_count": 15,
   "metadata": {},
   "outputs": [
    {
     "name": "stdout",
     "output_type": "stream",
     "text": [
      "0.816061 0.632926 T\n",
      "0.620468 0.952521 T\n",
      "0.684363 0.559971 F\n",
      "0.704369 0.581857 F\n",
      "0.641972 0.551100 F\n",
      "0.682536 0.475766 F\n",
      "0.637498 0.520983 F\n",
      "0.515539 0.858380 F\n",
      "0.754775 0.533331 F\n",
      "0.654432 0.770914 F\n",
      "0.639969 0.569131 F\n",
      "0.642570 0.606582 F\n",
      "0.653763 0.593339 F\n"
     ]
    }
   ],
   "source": [
    "cosine = False\n",
    "cosine = True\n",
    "print_dist(target_embs, docs_embs, target_mask, cosine=cosine)"
   ]
  },
  {
   "cell_type": "code",
   "execution_count": 16,
   "metadata": {},
   "outputs": [
    {
     "name": "stdout",
     "output_type": "stream",
     "text": [
      "vocab_encoder.src_word_emb.weight (50270, 256) -0.010897282 -2.0654518e-06 0.010897281\n",
      "vocab_encoder.layer_norm.weight (256,) -0.09975022 0.00761955 0.09980502\n",
      "vocab_encoder.layer_norm.bias (256,) -0.098543584 0.0020898443 0.099739425\n",
      "encoders.0.layer_stack.0.slf_attn.w_qs.weight (256, 256) -0.10825247 -0.0002024658 0.10825217\n",
      "encoders.0.layer_stack.0.slf_attn.w_ks.weight (256, 256) -0.10824628 0.0005351984 0.10825148\n",
      "encoders.0.layer_stack.0.slf_attn.w_vs.weight (256, 256) -0.108252965 0.00048539537 0.10825268\n",
      "encoders.0.layer_stack.0.slf_attn.fc.weight (256, 256) -0.10824868 -0.00010426881 0.10824799\n",
      "encoders.0.layer_stack.0.slf_attn.layer_norm.weight (256,) -0.09997978 -0.0027381293 0.099536434\n",
      "encoders.0.layer_stack.0.slf_attn.layer_norm.bias (256,) -0.099808775 -0.0068486356 0.099283114\n",
      "encoders.0.layer_stack.0.pos_ffn.w_1.weight (1024, 256) -0.06846521 1.4299577e-05 0.06846511\n",
      "encoders.0.layer_stack.0.pos_ffn.w_1.bias (1024,) -0.09997245 0.0017086698 0.09983479\n",
      "encoders.0.layer_stack.0.pos_ffn.w_2.weight (256, 1024) -0.06846525 -0.00012805786 0.068464234\n",
      "encoders.0.layer_stack.0.pos_ffn.w_2.bias (256,) -0.09974434 -0.007181125 0.09834452\n",
      "encoders.0.layer_stack.0.pos_ffn.layer_norm.weight (256,) -0.0976576 1.0069227e-05 0.09985875\n",
      "encoders.0.layer_stack.0.pos_ffn.layer_norm.bias (256,) -0.09930302 -0.005953625 0.09989748\n",
      "encoders.0.w_em.weight (1, 100) -0.24346209 0.005151791 0.24224307\n",
      "encoders.0.layer_norm.weight (256,) -0.099745214 -0.00088794436 0.09909165\n",
      "encoders.0.layer_norm.bias (256,) -0.09836783 0.0019637237 0.099588685\n",
      "decoders.0.w.weight (256, 256) -0.10825148 -8.408982e-05 0.10824732\n",
      "decoders.0.layer_norm.weight (256,) -0.098908916 -0.004328262 0.09919649\n",
      "decoders.0.layer_norm.bias (256,) -0.09986661 -0.0049455543 0.09899185\n"
     ]
    }
   ],
   "source": [
    "inp_len = ds_loader.emb_chunk_size if ds_loader.fixed_size else calc_max_inp_size(ds_loader.emb_chunk_size)\n",
    "model_ranker_cfg = create_mllm_ranker_cfg(\n",
    "    n_vocab=len(tokenizer), inp_len=inp_len, d_word_wec=256,\n",
    "    n_levels=1, enc_n_layers=1, dec_n_layers=1,\n",
    "    n_heads=8, d_k=32, d_v=32, d_model=256, d_inner=1024,\n",
    "    pad_idx=pad_tok, dropout_rate=0.1, enc_with_emb_mat=True,\n",
    ")\n",
    "\n",
    "model_ranker = MllmRanker(model_ranker_cfg).to(device)"
   ]
  },
  {
   "cell_type": "code",
   "execution_count": 17,
   "metadata": {},
   "outputs": [],
   "source": [
    "checkpoint_ranker = torch.load(ranker_snapshot_path)\n",
    "model_ranker.load_state_dict(checkpoint_ranker['model'])\n",
    "model_ranker.eval()\n",
    "del checkpoint_ranker"
   ]
  },
  {
   "cell_type": "code",
   "execution_count": 18,
   "metadata": {},
   "outputs": [
    {
     "data": {
      "text/plain": [
       "(torch.Size([13, 100]),\n",
       " torch.Size([3, 100]),\n",
       " tensor([False, False, False, False, False, False, False, False, False, False,\n",
       "          True,  True,  True]))"
      ]
     },
     "execution_count": 18,
     "metadata": {},
     "output_type": "execute_result"
    }
   ],
   "source": [
    "i = 10\n",
    "batch = ds_loader.get_batch(i, train=True)\n",
    "docs_chunks, target_chunks, target_mask = batch.gen_tensors()\n",
    "docs_chunks.shape, target_chunks.shape, target_mask"
   ]
  },
  {
   "cell_type": "code",
   "execution_count": 19,
   "metadata": {},
   "outputs": [
    {
     "data": {
      "text/plain": [
       "'<|query_begin|> FIBA Europe Cup Finalist -05\\nFIBA Europe Cup Final Four All-Star Team -05\\nFIBA EuroCup All-Star Game -06 (3-Points Contest Winner)\\nTurkish Cup Semifinals -06\\nULEB Cup Semifinals -07\\nRussian Cup Finalist -07\\nRussian A Superleague Regular Season Runner-Up -07\\nRussian A Superleague Finalist -07\\nRussian A Superleague All-Newcomers Team -07\\nGreek League Semifinals -08, 09\\nAll-Greek League Forward of the Year -08\\nAll-Greek League 1st Team -08\\nGreek A1 League All-Imports Team -08\\nGreek Cup Semifinals -09\\nAll-Greek A1 League Forward of the Year -09\\nAll-Greek A1 League 1st Team -09\\nGreek A1 League All-Imports Team -09\\nAdriatic League Semifinals -10\\nKorean KBL Regular Season Runner-Up -11\\nKorean KBL Semifinals -11\\nAll-Korean KBL Forward of the Year -11\\nAll-Korean KBL 1st Team -11\\nKorean KBL All-Domestic Players Team -11\\n\\nPersonal life\\nMoon earned his South Korean citizenship in 2011, alongside his brother <|query_end|>'"
      ]
     },
     "execution_count": 19,
     "metadata": {},
     "output_type": "execute_result"
    }
   ],
   "source": [
    "s_target = tokten_to_text(target_chunks)\n",
    "s_target"
   ]
  },
  {
   "cell_type": "code",
   "execution_count": 20,
   "metadata": {},
   "outputs": [
    {
     "name": "stdout",
     "output_type": "stream",
     "text": [
      "<|doc_begin|> <|doc_id_begin|> 596725 <|doc_id_end|> <|doc_offset_begin|> 0 <|doc_offset_end|> <|doc_title_begin|> Tremont station (Massachusetts) <|doc_title_end|> <|doc_body_begin|> Tremont station \n",
      "<|doc_begin|> <|doc_id_begin|> 596725 <|doc_id_end|> <|doc_offset_begin|> 91 <|doc_offset_end|>  Massachusetts\\nCategory:Former railway stations in Massachusetts\\nCategory:Stations along Old Colony Rail\n",
      "<|doc_begin|> <|doc_id_begin|> 5419405 <|doc_id_end|> <|doc_offset_begin|> 0 <|doc_offset_end|> <|doc_title_begin|> Vincenzo Marruocco <|doc_title_end|> <|doc_body_begin|> Vincenzo Marruocco (born 26 \n",
      "<|doc_begin|> <|doc_id_begin|> 5419405 <|doc_id_end|> <|doc_offset_begin|> 91 <|doc_offset_end|> azzetta dello Sport player profile \\n Profile at AIC.Football.it \\n\\nCategory:1979 births\\nCategory:Sportsp\n",
      "<|doc_begin|> <|doc_id_begin|> 5419405 <|doc_id_end|> <|doc_offset_begin|> 182 <|doc_offset_end|>.S. Salernitana 1919 players\\nCategory:S.S. Chieti Calcio players\\nCategory:Calcio Foggia 1920 S.S.D. pla\n",
      "<|doc_begin|> <|doc_id_begin|> 4512382 <|doc_id_end|> <|doc_offset_begin|> 0 <|doc_offset_end|> <|doc_title_begin|> Doğuş Özdemiroğlu <|doc_title_end|> <|doc_body_begin|> Doğuş Özdemiroğlu (born May 1\n",
      "<|doc_begin|> <|doc_id_begin|> 4512382 <|doc_id_end|> <|doc_offset_begin|> 91 <|doc_offset_end|> zdemiroğlu TBLStat.net Profile\\nDoğuş Özdemiroğlu Eurobasket Profile\\nDoğuş Özdemiroğlu TBL Profile\\n\\nCate\n",
      "<|doc_begin|> <|doc_id_begin|> 4512382 <|doc_id_end|> <|doc_offset_begin|> 182 <|doc_offset_end|> giresun Belediye players <|doc_body_end|> <|doc_end|>\n",
      "<|doc_begin|> <|doc_id_begin|> 1173334 <|doc_id_end|> <|doc_offset_begin|> 0 <|doc_offset_end|> <|doc_title_begin|> Pernarec <|doc_title_end|> <|doc_body_begin|> Pernarec is a village and municipality\n",
      "<|doc_begin|> <|doc_id_begin|> 1173334 <|doc_id_end|> <|doc_offset_begin|> 91 <|doc_offset_end|> Czech Statistical Office: Municipalities of Plzeň-North District\\n\\nCategory:Villages in Plzeň-North Dist\n",
      "<|doc_begin|> <|doc_id_begin|> 5416358 <|doc_id_end|> <|doc_offset_begin|> 273 <|doc_offset_end|> FIBA Europe Cup Finalist -05\\nFIBA Europe Cup Final Four All-Star Team -05\\nFIBA EuroCup All-Star Game -\n",
      "<|doc_begin|> <|doc_id_begin|> 5416358 <|doc_id_end|> <|doc_offset_begin|> 364 <|doc_offset_end|> -Newcomers Team -07\\nGreek League Semifinals -08, 09\\nAll-Greek League Forward of the Year -08\\nAll-Greek\n",
      "<|doc_begin|> <|doc_id_begin|> 5416358 <|doc_id_end|> <|doc_offset_begin|> 455 <|doc_offset_end|> ports Team -09\\nAdriatic League Semifinals -10\\nKorean KBL Regular Season Runner-Up -11\\nKorean KBL Semif\n"
     ]
    }
   ],
   "source": [
    "for toks in docs_chunks:\n",
    "    s = tokten_to_text(toks)\n",
    "    print(s[:200].replace('\\n', '\\\\n'))"
   ]
  },
  {
   "cell_type": "code",
   "execution_count": 21,
   "metadata": {},
   "outputs": [],
   "source": [
    "target_embs = model_ranker.run_enc_emb(target_chunks)\n",
    "docs_embs = model_ranker.run_enc_emb(docs_chunks)"
   ]
  },
  {
   "cell_type": "code",
   "execution_count": 22,
   "metadata": {},
   "outputs": [
    {
     "name": "stdout",
     "output_type": "stream",
     "text": [
      "0.121347 0.211301 0.151374 F\n",
      "0.106359 0.134949 0.083154 F\n",
      "0.542664 0.546598 0.366258 F\n",
      "0.649322 0.662912 0.389068 F\n",
      "0.534542 0.549585 0.469288 F\n",
      "0.623445 0.669031 0.601952 F\n",
      "0.650921 0.668230 0.596647 F\n",
      "0.477237 0.485762 0.637490 F\n",
      "0.189576 0.346300 0.208659 F\n",
      "0.207065 0.369143 0.313433 F\n",
      "0.980426 0.889673 0.710889 T\n",
      "0.903756 0.961016 0.713289 T\n",
      "0.790911 0.779341 0.923147 T\n"
     ]
    }
   ],
   "source": [
    "cosine = False\n",
    "cosine = True\n",
    "print_dist(target_embs, docs_embs, target_mask, cosine=cosine)"
   ]
  },
  {
   "cell_type": "code",
   "execution_count": 30,
   "metadata": {},
   "outputs": [
    {
     "name": "stdout",
     "output_type": "stream",
     "text": [
      "torch.Size([1, 100])\n",
      "0.023971 F\n",
      "0.225677 F\n",
      "0.394549 F\n",
      "0.441247 F\n",
      "0.328603 F\n",
      "0.478442 F\n",
      "0.493279 F\n",
      "0.442178 F\n",
      "0.226645 F\n",
      "0.348451 F\n",
      "0.641930 T\n",
      "0.626250 T\n",
      "0.467229 T\n"
     ]
    }
   ],
   "source": [
    "txt = 'Hong Kong 1987'\n",
    "txt = 'Climate Classification system, Mays Landing has a humid subtropical climate, abbreviated \"Cfa\"'\n",
    "# txt = 'Climate Classification system'\n",
    "txt = 'War and Peace'\n",
    "txt = 'Bandar Express, Ichhamati Express and Benapole Express'\n",
    "txt = 'Rick Anderson'\n",
    "txt = 'Makangarawe Temeke ward'\n",
    "# txt = 'graph sandwich'\n",
    "txt = 'james barry'\n",
    "txt = 'erigeron'\n",
    "txt = 'Dillon Gabriel america'\n",
    "txt = 'FIBA Europe'\n",
    "# txt = 'The graph sandwich problem for property Π is defined as follows:'\n",
    "cosine = True\n",
    "txt_tokens = text_to_tokens(txt, qbeg_tok=qbeg_tok, qend_tok=qend_tok)\n",
    "# txt_tokens = txt_tokens.repeat(3, 1)\n",
    "print(txt_tokens.shape)\n",
    "txt_embs = model_ranker.run_enc_emb(txt_tokens)\n",
    "print_dist(txt_embs, docs_embs, target_mask, cosine=cosine)\n"
   ]
  },
  {
   "cell_type": "code",
   "execution_count": 31,
   "metadata": {},
   "outputs": [
    {
     "data": {
      "text/plain": [
       "tensor([[7.3745e-04, 5.6199e-02, 1.6434e-01, 3.3226e-01, 1.1555e-01, 2.6521e-01,\n",
       "         6.3644e-01, 6.2138e-01, 1.1367e-02, 9.2394e-02, 9.6314e-01, 9.2693e-01,\n",
       "         2.9827e-01]], grad_fn=<SigmoidBackward0>)"
      ]
     },
     "execution_count": 31,
     "metadata": {},
     "output_type": "execute_result"
    }
   ],
   "source": [
    "\n",
    "rank = model_ranker.run_qs_infer(docs_chunks, txt_tokens)\n",
    "rank"
   ]
  },
  {
   "cell_type": "code",
   "execution_count": 48,
   "metadata": {},
   "outputs": [
    {
     "data": {
      "text/plain": [
       "442500"
      ]
     },
     "execution_count": 48,
     "metadata": {},
     "output_type": "execute_result"
    }
   ],
   "source": [
    "n_epochs = 59\n",
    "batch_size = 15\n",
    "train_steps = 500\n",
    "\n",
    "n_epochs * train_steps * batch_size\n"
   ]
  },
  {
   "cell_type": "code",
   "execution_count": 31,
   "metadata": {},
   "outputs": [
    {
     "data": {
      "text/plain": [
       "tensor([[0.8737, 0.8907, 0.7371, 0.5201, 0.4101, 0.8237, 0.7342, 0.8183, 0.8694,\n",
       "         0.6263, 0.6608, 0.6087, 0.2565, 0.3135, 0.3250]],\n",
       "       grad_fn=<SigmoidBackward0>)"
      ]
     },
     "execution_count": 31,
     "metadata": {},
     "output_type": "execute_result"
    }
   ],
   "source": [
    "rank = model_ranker(txt_tokens, docs_chunks)\n",
    "rank"
   ]
  },
  {
   "cell_type": "code",
   "execution_count": 35,
   "metadata": {},
   "outputs": [
    {
     "data": {
      "text/plain": [
       "tensor([[2.6538e-21, 3.7294e-11, 2.4412e-19, 3.4020e-23, 7.5630e-20, 3.8663e-25,\n",
       "         1.3986e-18, 7.2614e-22, 1.0000e+00, 1.0000e+00, 1.0000e+00, 4.7166e-09,\n",
       "         1.9997e-11, 1.3684e-08]], grad_fn=<SigmoidBackward0>)"
      ]
     },
     "execution_count": 35,
     "metadata": {},
     "output_type": "execute_result"
    }
   ],
   "source": [
    "rank = model_ranker(target_chunks, docs_chunks)\n",
    "rank"
   ]
  },
  {
   "cell_type": "code",
   "execution_count": 31,
   "metadata": {},
   "outputs": [
    {
     "data": {
      "text/plain": [
       "3"
      ]
     },
     "execution_count": 31,
     "metadata": {},
     "output_type": "execute_result"
    }
   ],
   "source": [
    "np.random.randint(0, 6)"
   ]
  },
  {
   "cell_type": "code",
   "execution_count": 2,
   "metadata": {},
   "outputs": [],
   "source": [
    "import torch"
   ]
  },
  {
   "cell_type": "code",
   "execution_count": 4,
   "metadata": {},
   "outputs": [],
   "source": [
    "device1 = torch.device('cpu')\n",
    "device2 = torch.device('cuda')\n",
    "device3 = torch.device('cpu')"
   ]
  },
  {
   "cell_type": "code",
   "execution_count": 5,
   "metadata": {},
   "outputs": [
    {
     "name": "stdout",
     "output_type": "stream",
     "text": [
      "False\n",
      "False\n",
      "True\n"
     ]
    }
   ],
   "source": [
    "print(device1 == device2)\n",
    "print(device2 == device3)\n",
    "print(device1 == device3)\n"
   ]
  },
  {
   "cell_type": "code",
   "execution_count": 7,
   "metadata": {},
   "outputs": [
    {
     "data": {
      "text/plain": [
       "('cpu', str)"
      ]
     },
     "execution_count": 7,
     "metadata": {},
     "output_type": "execute_result"
    }
   ],
   "source": [
    "device1.type, type(device1.type)"
   ]
  },
  {
   "cell_type": "code",
   "execution_count": 11,
   "metadata": {},
   "outputs": [
    {
     "data": {
      "text/plain": [
       "array([[ 0.5,  0.5,  0.5],\n",
       "       [ 1.7,  1.7,  1.7],\n",
       "       [-1. ,  7. , 33. ]])"
      ]
     },
     "execution_count": 11,
     "metadata": {},
     "output_type": "execute_result"
    }
   ],
   "source": [
    "import numpy as np\n",
    "toks = [\n",
    "    np.ones(3) * 0.5,\n",
    "    np.ones(3) * 1.7,\n",
    "    np.array([-1, 7, 33])\n",
    "]\n",
    "np.stack(toks, axis=0)"
   ]
  },
  {
   "cell_type": "code",
   "execution_count": 12,
   "metadata": {},
   "outputs": [
    {
     "data": {
      "text/plain": [
       "array([[ 0.5,  0.5,  0.5],\n",
       "       [ 1.7,  1.7,  1.7],\n",
       "       [-1. ,  7. , 33. ]])"
      ]
     },
     "execution_count": 12,
     "metadata": {},
     "output_type": "execute_result"
    }
   ],
   "source": [
    "np.array(toks)"
   ]
  },
  {
   "cell_type": "code",
   "execution_count": 13,
   "metadata": {},
   "outputs": [
    {
     "data": {
      "text/plain": [
       "True"
      ]
     },
     "execution_count": 13,
     "metadata": {},
     "output_type": "execute_result"
    }
   ],
   "source": [
    "np.allclose(np.array(toks), np.stack(toks, axis=0))"
   ]
  },
  {
   "cell_type": "code",
   "execution_count": null,
   "metadata": {},
   "outputs": [],
   "source": []
  },
  {
   "cell_type": "code",
   "execution_count": null,
   "metadata": {},
   "outputs": [],
   "source": []
  },
  {
   "cell_type": "code",
   "execution_count": null,
   "metadata": {},
   "outputs": [],
   "source": []
  },
  {
   "cell_type": "code",
   "execution_count": null,
   "metadata": {},
   "outputs": [],
   "source": []
  },
  {
   "cell_type": "code",
   "execution_count": null,
   "metadata": {},
   "outputs": [],
   "source": []
  },
  {
   "cell_type": "code",
   "execution_count": null,
   "metadata": {},
   "outputs": [],
   "source": []
  },
  {
   "cell_type": "code",
   "execution_count": null,
   "metadata": {},
   "outputs": [],
   "source": []
  },
  {
   "cell_type": "code",
   "execution_count": null,
   "metadata": {},
   "outputs": [],
   "source": []
  },
  {
   "cell_type": "code",
   "execution_count": null,
   "metadata": {},
   "outputs": [],
   "source": []
  },
  {
   "cell_type": "code",
   "execution_count": null,
   "metadata": {},
   "outputs": [],
   "source": []
  }
 ],
 "metadata": {
  "kernelspec": {
   "display_name": "mllm",
   "language": "python",
   "name": "python3"
  },
  "language_info": {
   "codemirror_mode": {
    "name": "ipython",
    "version": 3
   },
   "file_extension": ".py",
   "mimetype": "text/x-python",
   "name": "python",
   "nbconvert_exporter": "python",
   "pygments_lexer": "ipython3",
   "version": "3.10.14"
  }
 },
 "nbformat": 4,
 "nbformat_minor": 2
}
