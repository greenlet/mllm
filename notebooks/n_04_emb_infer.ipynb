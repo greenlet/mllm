{
 "cells": [
  {
   "cell_type": "code",
   "execution_count": 1,
   "metadata": {},
   "outputs": [],
   "source": [
    "%load_ext autoreload\n",
    "%autoreload 2"
   ]
  },
  {
   "cell_type": "code",
   "execution_count": 16,
   "metadata": {},
   "outputs": [],
   "source": [
    "import os\n",
    "from pathlib import Path\n",
    "import sys\n",
    "from typing import Optional\n",
    "if '..' not in sys.path: sys.path.append('..')\n",
    "\n",
    "import numpy as np\n",
    "from matplotlib import pyplot as plt\n",
    "from pydantic_yaml import parse_yaml_file_as\n",
    "import torch\n",
    "from torch import nn\n",
    "from transformers import GPT2Tokenizer, AddedToken, PreTrainedTokenizer\n",
    "\n",
    "from mllm.data.wiki.dswiki import WikiDsLoader\n",
    "from mllm.exp.args import TOKENIZER_CFG_FNAME, ENCDEC_MODEL_CFG_FNAME, RANKER_MODEL_CFG_FNAME\n",
    "from mllm.model.mllm_encdec import MllmEncdecLevel\n",
    "from mllm.model.mllm_ranker import MllmRankerLevel\n",
    "from mllm.config.model import TokenizerCfg, MllmEncdecCfg, MllmRankerCfg\n",
    "from mllm.tokenization.chunk_tokenizer import calc_max_inp_size, gen_all_tokens, ChunkTokenizer, tokenizer_from_config\n",
    "\n"
   ]
  },
  {
   "cell_type": "code",
   "execution_count": 3,
   "metadata": {},
   "outputs": [],
   "source": [
    "DATA_PATH = Path(os.path.expandvars('$HOME')) / 'data'\n",
    "DS_DIR_PATH = DATA_PATH / 'wiki_20200501_en' / 'ch_100_fixed'\n",
    "\n",
    "# TRAIN_ENCDEC_PATH = DATA_PATH / 'train_mllm_encdec'\n",
    "# TRAIN_RANKER_PATH = DATA_PATH / 'train_mllm_ranker_qrels'\n",
    "# encdec_subdir = 'encdec-20240718_221554-wiki_20200501_en-ch_100_fixed'\n",
    "# ranker_subdir = 'ranker-20240903_215749-msmarco-fever'\n",
    "\n",
    "TRAIN_ENCDEC_PATH = DATA_PATH / 'train_mllm_encdec_0'\n",
    "TRAIN_RANKER_PATH = DATA_PATH / 'train_mllm_ranker_qrels_0'\n",
    "encdec_subdir = 'encdec-20241018_092135-wiki_20200501_en-ch_100_fixed'\n",
    "ranker_subdir = 'ranker-20241018_230250-msmarco-fever'\n",
    "\n",
    "encdec_train_path = TRAIN_ENCDEC_PATH / encdec_subdir\n",
    "ranker_train_path = TRAIN_RANKER_PATH / ranker_subdir\n",
    "encdec_snapshot_fpath = encdec_train_path / 'best.pth'\n",
    "ranker_snapshot_fpath = ranker_train_path / 'best.pth'\n",
    "encdec_tkz_cfg_fpath = encdec_train_path / TOKENIZER_CFG_FNAME\n",
    "ranker_tkz_cfg_fpath = ranker_train_path / TOKENIZER_CFG_FNAME\n",
    "encdec_model_cfg_fpath = encdec_train_path / ENCDEC_MODEL_CFG_FNAME\n",
    "ranker_model_cfg_fpath = ranker_train_path / RANKER_MODEL_CFG_FNAME"
   ]
  },
  {
   "cell_type": "code",
   "execution_count": 4,
   "metadata": {},
   "outputs": [
    {
     "name": "stdout",
     "output_type": "stream",
     "text": [
      "cpu\n"
     ]
    }
   ],
   "source": [
    "docs_batch_size = 5\n",
    "max_chunks_per_doc = 3\n",
    "model_level = 0\n",
    "device = 'cpu'\n",
    "# device = 'cuda'\n",
    "\n",
    "device = torch.device(device)\n",
    "print(device)"
   ]
  },
  {
   "cell_type": "code",
   "execution_count": 5,
   "metadata": {},
   "outputs": [],
   "source": [
    "encdec_tkz_cfg = parse_yaml_file_as(TokenizerCfg, encdec_tkz_cfg_fpath)\n",
    "ranker_tkz_cfg = parse_yaml_file_as(TokenizerCfg, ranker_tkz_cfg_fpath)\n",
    "assert encdec_tkz_cfg == ranker_tkz_cfg\n",
    "tokenizer = tokenizer_from_config(encdec_tkz_cfg)\n",
    "tok_dict = encdec_tkz_cfg.custom_tokens\n",
    "pad_tok, qbeg_tok, qend_tok = tok_dict['pad'].ind, tok_dict['query_begin'].ind, tok_dict['query_end'].ind"
   ]
  },
  {
   "cell_type": "code",
   "execution_count": 6,
   "metadata": {},
   "outputs": [
    {
     "name": "stdout",
     "output_type": "stream",
     "text": [
      "Loading cache from /home/misha/data/wiki_20200501_en/ch_100_fixed/.mllm/ds.csv\n",
      "Loaded dataset size: 50989207\n"
     ]
    }
   ],
   "source": [
    "ds_loader = WikiDsLoader(\n",
    "    ds_path=DS_DIR_PATH, docs_batch_size=docs_batch_size, max_chunks_per_doc=max_chunks_per_doc,\n",
    "    pad_tok=pad_tok, qbeg_tok=qbeg_tok, qend_tok=qend_tok, device=device,\n",
    ")\n",
    "ds_loader.shuffle(train=True)\n",
    "ds_loader.shuffle(train=False)\n",
    "inp_len = ds_loader.emb_chunk_size if ds_loader.fixed_size else calc_max_inp_size(ds_loader.emb_chunk_size)"
   ]
  },
  {
   "cell_type": "code",
   "execution_count": 7,
   "metadata": {},
   "outputs": [],
   "source": [
    "def tokten_to_text(tokens: torch.Tensor) -> str:\n",
    "    tokens = tokens.flatten()\n",
    "    tokens = tokens[tokens != pad_tok]\n",
    "    tokens = list(tokens)\n",
    "    s = tokenizer.decode(tokens)\n",
    "    return s\n",
    "\n",
    "def distance(x: np.ndarray, y: np.ndarray, cosine: bool = False):\n",
    "    if not cosine:\n",
    "        return np.linalg.norm(x - y)\n",
    "    x_norm, y_norm = np.linalg.norm(x), np.linalg.norm(y)\n",
    "    return np.sum(x * y) / (x_norm * y_norm)\n",
    "\n",
    "def text_to_tokens(s: str, qbeg_tok: Optional[int] = None, qend_tok: Optional[int] = None) -> torch.Tensor:\n",
    "    tokens = tokenizer(s)['input_ids']\n",
    "    if qbeg_tok is not None:\n",
    "        assert qend_tok is not None\n",
    "        tokens = [qbeg_tok, *tokens, qend_tok]\n",
    "    n_tokens = len(tokens)\n",
    "    n_padded = n_tokens // inp_len + (n_tokens % inp_len > 0)\n",
    "    res = np.full((n_padded * inp_len, ), pad_tok, dtype=np.int32)\n",
    "    res[:n_tokens] = tokens\n",
    "    res = torch.from_numpy(res).to(device)\n",
    "    res = res.reshape(n_padded, inp_len)\n",
    "    return res\n",
    "\n",
    "def print_dist(target_embs: torch.Tensor, docs_embs: torch.Tensor, target_mask: torch.Tensor, cosine: bool = True):\n",
    "    for i, docs_emb in enumerate(docs_embs.detach().numpy()):\n",
    "        for target_emb in target_embs.detach().numpy():\n",
    "            dist = distance(target_emb, docs_emb, cosine)\n",
    "            print(f'{dist:0.6f} ', end='')\n",
    "        sfx = 'T' if target_mask[i] else 'F'\n",
    "        print(sfx)\n"
   ]
  },
  {
   "cell_type": "code",
   "execution_count": 9,
   "metadata": {},
   "outputs": [
    {
     "name": "stdout",
     "output_type": "stream",
     "text": [
      "vocab_encoder.src_word_emb.weight (50271, 256) -0.010897168 2.833078e-06 0.010897173\n",
      "vocab_encoder.layer_norm.weight (256,) -0.09988137 -0.0042997296 0.09879484\n",
      "vocab_encoder.layer_norm.bias (256,) -0.098634355 0.004373301 0.09782844\n",
      "vocab_decoder.word_prj.weight (50271, 256) -0.010897171 -3.3309432e-06 0.010897171\n",
      "encoder.a_em () 0.045746114 0.045746114 0.045746114\n",
      "encoder.layer_stack.0.slf_attn.w_qs.weight (256, 256) -0.10825307 0.00037836193 0.10825286\n",
      "encoder.layer_stack.0.slf_attn.w_ks.weight (256, 256) -0.108251706 8.872396e-05 0.10824464\n",
      "encoder.layer_stack.0.slf_attn.w_vs.weight (256, 256) -0.108242646 0.0004454744 0.1082503\n",
      "encoder.layer_stack.0.slf_attn.fc.weight (256, 256) -0.10825124 -0.00040385238 0.108252384\n",
      "encoder.layer_stack.0.slf_attn.layer_norm.weight (256,) -0.09982707 0.0031327584 0.09918846\n",
      "encoder.layer_stack.0.slf_attn.layer_norm.bias (256,) -0.09960126 0.0014409341 0.099286936\n",
      "encoder.layer_stack.0.pos_ffn.w_1.weight (1024, 256) -0.068465166 5.2775606e-05 0.06846517\n",
      "encoder.layer_stack.0.pos_ffn.w_1.bias (1024,) -0.09986242 0.0029439623 0.09981469\n",
      "encoder.layer_stack.0.pos_ffn.w_2.weight (256, 1024) -0.06846511 -1.1699896e-05 0.068463065\n",
      "encoder.layer_stack.0.pos_ffn.w_2.bias (256,) -0.09972674 -0.003588357 0.09941796\n",
      "encoder.layer_stack.0.pos_ffn.layer_norm.weight (256,) -0.099763945 0.005417168 0.099433415\n",
      "encoder.layer_stack.0.pos_ffn.layer_norm.bias (256,) -0.098136716 0.0010637598 0.09978484\n",
      "encoder.layer_stack.1.slf_attn.w_qs.weight (256, 256) -0.10825262 0.00020598153 0.10824746\n",
      "encoder.layer_stack.1.slf_attn.w_ks.weight (256, 256) -0.108248286 0.00024499898 0.10825118\n",
      "encoder.layer_stack.1.slf_attn.w_vs.weight (256, 256) -0.10825165 9.2604634e-05 0.10824969\n",
      "encoder.layer_stack.1.slf_attn.fc.weight (256, 256) -0.10824965 -2.957834e-05 0.108250156\n",
      "encoder.layer_stack.1.slf_attn.layer_norm.weight (256,) -0.099888556 -0.0033881268 0.09840995\n",
      "encoder.layer_stack.1.slf_attn.layer_norm.bias (256,) -0.09995611 -0.0020402146 0.09962391\n",
      "encoder.layer_stack.1.pos_ffn.w_1.weight (1024, 256) -0.068463005 3.325183e-07 0.068464704\n",
      "encoder.layer_stack.1.pos_ffn.w_1.bias (1024,) -0.09981296 0.003116609 0.09935986\n",
      "encoder.layer_stack.1.pos_ffn.w_2.weight (256, 1024) -0.06846531 -1.2610824e-05 0.068462774\n",
      "encoder.layer_stack.1.pos_ffn.w_2.bias (256,) -0.098808706 0.0044582197 0.09929311\n",
      "encoder.layer_stack.1.pos_ffn.layer_norm.weight (256,) -0.09805391 0.0047821067 0.09916774\n",
      "encoder.layer_stack.1.pos_ffn.layer_norm.bias (256,) -0.09847541 0.0047760014 0.0997149\n",
      "encoder.layer_norm.weight (256,) -0.09907607 0.00199052 0.09957565\n",
      "encoder.layer_norm.bias (256,) -0.09976355 0.0024980237 0.09879972\n",
      "decoder.A_emb2sec (100, 256, 256) -0.008113918 4.8370504e-07 0.008113917\n",
      "decoder.att_layers.0.slf_attn.w_qs.weight (256, 256) -0.10825106 0.00061674503 0.10825063\n",
      "decoder.att_layers.0.slf_attn.w_ks.weight (256, 256) -0.10825224 0.00019857785 0.10825214\n",
      "decoder.att_layers.0.slf_attn.w_vs.weight (256, 256) -0.1082479 0.00010082445 0.10824177\n",
      "decoder.att_layers.0.slf_attn.fc.weight (256, 256) -0.10825166 0.00033700094 0.10825081\n",
      "decoder.att_layers.0.slf_attn.layer_norm.weight (256,) -0.099950366 0.0030140746 0.099531114\n",
      "decoder.att_layers.0.slf_attn.layer_norm.bias (256,) -0.09915626 -0.001273728 0.09818331\n",
      "decoder.att_layers.0.pos_ffn.w_1.weight (1024, 256) -0.06846526 4.4042856e-05 0.06846525\n",
      "decoder.att_layers.0.pos_ffn.w_1.bias (1024,) -0.09884118 0.0001593547 0.09994271\n",
      "decoder.att_layers.0.pos_ffn.w_2.weight (256, 1024) -0.06846457 -0.00012540566 0.068463884\n",
      "decoder.att_layers.0.pos_ffn.w_2.bias (256,) -0.09909042 0.0039898194 0.09954639\n",
      "decoder.att_layers.0.pos_ffn.layer_norm.weight (256,) -0.09970807 0.0027632243 0.09915631\n",
      "decoder.att_layers.0.pos_ffn.layer_norm.bias (256,) -0.09993585 -0.000564173 0.09991808\n",
      "decoder.att_layers.1.slf_attn.w_qs.weight (256, 256) -0.10825305 -0.00022966939 0.10825192\n",
      "decoder.att_layers.1.slf_attn.w_ks.weight (256, 256) -0.108250156 8.8627225e-05 0.10825254\n",
      "decoder.att_layers.1.slf_attn.w_vs.weight (256, 256) -0.108247586 0.00039659636 0.108252816\n",
      "decoder.att_layers.1.slf_attn.fc.weight (256, 256) -0.10825124 -3.1433417e-05 0.10824868\n",
      "decoder.att_layers.1.slf_attn.layer_norm.weight (256,) -0.099779345 0.0007465723 0.099856056\n",
      "decoder.att_layers.1.slf_attn.layer_norm.bias (256,) -0.09860879 5.6218123e-06 0.0995902\n",
      "decoder.att_layers.1.pos_ffn.w_1.weight (1024, 256) -0.06846427 2.5465819e-05 0.06846347\n",
      "decoder.att_layers.1.pos_ffn.w_1.bias (1024,) -0.099873565 -0.00023481983 0.09876247\n",
      "decoder.att_layers.1.pos_ffn.w_2.weight (256, 1024) -0.06846529 0.00011029023 0.06846431\n",
      "decoder.att_layers.1.pos_ffn.w_2.bias (256,) -0.09953032 0.0021497877 0.09962882\n",
      "decoder.att_layers.1.pos_ffn.layer_norm.weight (256,) -0.09892205 -0.002394788 0.099766515\n",
      "decoder.att_layers.1.pos_ffn.layer_norm.bias (256,) -0.09680488 0.0015738137 0.09798627\n"
     ]
    }
   ],
   "source": [
    "model_encdec_cfg = parse_yaml_file_as(MllmEncdecCfg, encdec_model_cfg_fpath)\n",
    "model_encdec = MllmEncdecLevel(model_encdec_cfg, model_level).to(device)\n",
    "checkpoint_encdec = torch.load(encdec_snapshot_fpath)\n",
    "model_encdec.load_state_dict(checkpoint_encdec['model'], strict=False)\n",
    "model_encdec.eval()\n",
    "None"
   ]
  },
  {
   "cell_type": "code",
   "execution_count": 10,
   "metadata": {},
   "outputs": [
    {
     "data": {
      "text/plain": [
       "tensor([[15496,   612, 50267, 50267, 50267, 50267, 50267, 50267, 50267, 50267,\n",
       "         50267, 50267, 50267, 50267, 50267, 50267, 50267, 50267, 50267, 50267,\n",
       "         50267, 50267, 50267, 50267, 50267, 50267, 50267, 50267, 50267, 50267,\n",
       "         50267, 50267, 50267, 50267, 50267, 50267, 50267, 50267, 50267, 50267,\n",
       "         50267, 50267, 50267, 50267, 50267, 50267, 50267, 50267, 50267, 50267,\n",
       "         50267, 50267, 50267, 50267, 50267, 50267, 50267, 50267, 50267, 50267,\n",
       "         50267, 50267, 50267, 50267, 50267, 50267, 50267, 50267, 50267, 50267,\n",
       "         50267, 50267, 50267, 50267, 50267, 50267, 50267, 50267, 50267, 50267,\n",
       "         50267, 50267, 50267, 50267, 50267, 50267, 50267, 50267, 50267, 50267,\n",
       "         50267, 50267, 50267, 50267, 50267, 50267, 50267, 50267, 50267, 50267]],\n",
       "       dtype=torch.int32)"
      ]
     },
     "execution_count": 10,
     "metadata": {},
     "output_type": "execute_result"
    }
   ],
   "source": [
    "text_to_tokens('Hello there')"
   ]
  },
  {
   "cell_type": "code",
   "execution_count": 11,
   "metadata": {},
   "outputs": [
    {
     "data": {
      "text/plain": [
       "(torch.Size([9, 100]),\n",
       " torch.Size([1, 100]),\n",
       " tensor([False, False, False,  True,  True, False, False, False, False]))"
      ]
     },
     "execution_count": 11,
     "metadata": {},
     "output_type": "execute_result"
    }
   ],
   "source": [
    "i = 10\n",
    "batch = ds_loader.get_batch(i, train=True)\n",
    "docs_chunks, target_chunks, target_mask = batch.gen_tensors()\n",
    "docs_chunks.shape, target_chunks.shape, target_mask"
   ]
  },
  {
   "cell_type": "code",
   "execution_count": 12,
   "metadata": {},
   "outputs": [
    {
     "data": {
      "text/plain": [
       "'<|query_begin|> Janów, Krotoszyn CountyJanów  () is a village in the administrative district of Gmina Krotoszyn, within Krotoszyn County, Greater Poland Voivodeship, in west-central Poland. It lies approximately  east of Krotoszyn and  south-east of the regional capital Poznań.\\n\\nReferences\\n\\nCategory:Villages in Krotoszyn County <|query_end|>'"
      ]
     },
     "execution_count": 12,
     "metadata": {},
     "output_type": "execute_result"
    }
   ],
   "source": [
    "s_target = tokten_to_text(target_chunks)\n",
    "s_target"
   ]
  },
  {
   "cell_type": "code",
   "execution_count": 13,
   "metadata": {},
   "outputs": [
    {
     "name": "stdout",
     "output_type": "stream",
     "text": [
      "<|doc_begin|> <|doc_id_begin|> 4018364 <|doc_id_end|> <|doc_offset_begin|> 0 <|doc_offset_end|> <|doc_title_begin|> Wide Sargasso Sea (disambiguation) <|doc_title_end|> <|doc_body_begin|> Wide Sargass\n",
      "<|doc_begin|> <|doc_id_begin|> 4018364 <|doc_id_end|> <|doc_offset_begin|> 91 <|doc_offset_end|>  song on the Stevie Nicks album In Your Dreams\\n\\nSee also\\n Sargasso Sea (disambiguation) <|doc_body_end|\n",
      "<|doc_begin|> <|doc_id_begin|> 1500907 <|doc_id_end|> <|doc_offset_begin|> 0 <|doc_offset_end|> <|doc_title_begin|> Anarita <|doc_title_end|> <|doc_body_begin|> Anarita () is a village in the Paphos D\n",
      "<|doc_begin|> <|doc_id_begin|> 3392514 <|doc_id_end|> <|doc_offset_begin|> 0 <|doc_offset_end|> <|doc_title_begin|> Janów, Krotoszyn County <|doc_title_end|> <|doc_body_begin|> Janów  () is a village \n",
      "<|doc_begin|> <|doc_id_begin|> 3392514 <|doc_id_end|> <|doc_offset_begin|> 91 <|doc_offset_end|>  in Krotoszyn County <|doc_body_end|> <|doc_end|>\n",
      "<|doc_begin|> <|doc_id_begin|> 5624235 <|doc_id_end|> <|doc_offset_begin|> 182 <|doc_offset_end|>  into the river.\\n\\nHer primary training base is on the Gold Coast of Queensland. She was coached by Ton\n",
      "<|doc_begin|> <|doc_id_begin|> 5624235 <|doc_id_end|> <|doc_offset_begin|> 273 <|doc_offset_end|>  11th at the 2011 BMX World Championships in Copenhagen, Denmark. She finished 3rd  at the 2011 BMX Su\n",
      "<|doc_begin|> <|doc_id_begin|> 5624235 <|doc_id_end|> <|doc_offset_begin|> 364 <|doc_offset_end|> aberg, Norway. She finished 2nd at the 2012 Australian BMX Championships in Mt Gambier, Australia.\\n\\nRe\n",
      "<|doc_begin|> <|doc_id_begin|> 3809865 <|doc_id_end|> <|doc_offset_begin|> 0 <|doc_offset_end|> <|doc_title_begin|> Alanbaşı, Vezirköprü <|doc_title_end|> <|doc_body_begin|> Alanbaşı is a village in t\n"
     ]
    }
   ],
   "source": [
    "for toks in docs_chunks:\n",
    "    s = tokten_to_text(toks)\n",
    "    print(s[:200].replace('\\n', '\\\\n'))"
   ]
  },
  {
   "cell_type": "code",
   "execution_count": 14,
   "metadata": {},
   "outputs": [],
   "source": [
    "target_embs = model_encdec.run_enc_emb(target_chunks)\n",
    "docs_embs = model_encdec.run_enc_emb(docs_chunks)"
   ]
  },
  {
   "cell_type": "code",
   "execution_count": 15,
   "metadata": {},
   "outputs": [
    {
     "name": "stdout",
     "output_type": "stream",
     "text": [
      "0.100320 F\n",
      "0.161749 F\n",
      "0.295927 F\n",
      "0.241414 T\n",
      "0.087471 T\n",
      "0.023370 F\n",
      "0.035144 F\n",
      "0.209107 F\n",
      "0.225067 F\n"
     ]
    }
   ],
   "source": [
    "cosine = False\n",
    "cosine = True\n",
    "print_dist(target_embs, docs_embs, target_mask, cosine=cosine)"
   ]
  },
  {
   "cell_type": "code",
   "execution_count": 23,
   "metadata": {},
   "outputs": [
    {
     "name": "stdout",
     "output_type": "stream",
     "text": [
      "vocab_encoder.src_word_emb.weight (50271, 256) -0.010897174 -1.5446053e-06 0.010897171\n",
      "vocab_encoder.layer_norm.weight (256,) -0.0996469 0.0028574266 0.09866418\n",
      "vocab_encoder.layer_norm.bias (256,) -0.09998738 -0.006327389 0.099993505\n",
      "encoder.a_em () 0.035666432 0.035666432 0.035666432\n",
      "encoder.layer_stack.0.slf_attn.w_qs.weight (256, 256) -0.10825018 0.00018848208 0.10824925\n",
      "encoder.layer_stack.0.slf_attn.w_ks.weight (256, 256) -0.10825097 -9.785341e-05 0.10824983\n",
      "encoder.layer_stack.0.slf_attn.w_vs.weight (256, 256) -0.108253 -0.00036103325 0.10825155\n",
      "encoder.layer_stack.0.slf_attn.fc.weight (256, 256) -0.108247496 0.00013491296 0.10825311\n",
      "encoder.layer_stack.0.slf_attn.layer_norm.weight (256,) -0.09811924 0.001974782 0.098531544\n",
      "encoder.layer_stack.0.slf_attn.layer_norm.bias (256,) -0.09807801 0.0072465986 0.09969182\n",
      "encoder.layer_stack.0.pos_ffn.w_1.weight (1024, 256) -0.06846328 1.9215368e-05 0.068465255\n",
      "encoder.layer_stack.0.pos_ffn.w_1.bias (1024,) -0.09963577 0.00142563 0.09967525\n",
      "encoder.layer_stack.0.pos_ffn.w_2.weight (256, 1024) -0.06846363 9.86184e-06 0.06846516\n",
      "encoder.layer_stack.0.pos_ffn.w_2.bias (256,) -0.0981815 0.006852216 0.099362195\n",
      "encoder.layer_stack.0.pos_ffn.layer_norm.weight (256,) -0.09843085 0.0013949606 0.0994936\n",
      "encoder.layer_stack.0.pos_ffn.layer_norm.bias (256,) -0.0996651 -0.0007704949 0.09979912\n",
      "encoder.layer_stack.1.slf_attn.w_qs.weight (256, 256) -0.1082479 -0.00017448873 0.108250216\n",
      "encoder.layer_stack.1.slf_attn.w_ks.weight (256, 256) -0.108250245 0.0003780577 0.108253054\n",
      "encoder.layer_stack.1.slf_attn.w_vs.weight (256, 256) -0.108250156 0.00014605907 0.108245544\n",
      "encoder.layer_stack.1.slf_attn.fc.weight (256, 256) -0.10825019 8.323492e-05 0.10825213\n",
      "encoder.layer_stack.1.slf_attn.layer_norm.weight (256,) -0.09936889 -0.001257258 0.09912206\n",
      "encoder.layer_stack.1.slf_attn.layer_norm.bias (256,) -0.09977706 -0.0028176322 0.09990766\n",
      "encoder.layer_stack.1.pos_ffn.w_1.weight (1024, 256) -0.06846436 -2.062602e-05 0.06846506\n",
      "encoder.layer_stack.1.pos_ffn.w_1.bias (1024,) -0.09963339 0.0017916918 0.0997984\n",
      "encoder.layer_stack.1.pos_ffn.w_2.weight (256, 1024) -0.06846477 5.6341545e-05 0.06846516\n",
      "encoder.layer_stack.1.pos_ffn.w_2.bias (256,) -0.09825722 0.0009230743 0.09996648\n",
      "encoder.layer_stack.1.pos_ffn.layer_norm.weight (256,) -0.099684194 0.00050229416 0.09952366\n",
      "encoder.layer_stack.1.pos_ffn.layer_norm.bias (256,) -0.09959111 0.0035582557 0.09998625\n",
      "encoder.layer_norm.weight (256,) -0.09747634 0.0040095015 0.099478364\n",
      "encoder.layer_norm.bias (256,) -0.09988787 -0.0010734986 0.09989112\n",
      "decoder.w.weight (256, 256) -0.108250216 -0.00011138807 0.10825115\n",
      "decoder.layer_norm.weight (256,) -0.09947695 0.0030294955 0.09982232\n",
      "decoder.layer_norm.bias (256,) -0.09996875 -0.00073003315 0.0985071\n"
     ]
    }
   ],
   "source": [
    "inp_len = ds_loader.emb_chunk_size if ds_loader.fixed_size else calc_max_inp_size(ds_loader.emb_chunk_size)\n",
    "model_ranker_cfg = parse_yaml_file_as(MllmRankerCfg, ranker_model_cfg_fpath)\n",
    "model_ranker = MllmRankerLevel(model_ranker_cfg, model_level).to(device)\n",
    "checkpoint_ranker = torch.load(ranker_snapshot_fpath)\n",
    "model_ranker.load_state_dict(checkpoint_ranker['model'])\n",
    "model_ranker.eval()\n",
    "None"
   ]
  },
  {
   "cell_type": "code",
   "execution_count": 39,
   "metadata": {},
   "outputs": [
    {
     "data": {
      "text/plain": [
       "(torch.Size([9, 100]),\n",
       " torch.Size([1, 100]),\n",
       " tensor([False, False, False, False, False, False, False, False,  True]))"
      ]
     },
     "execution_count": 39,
     "metadata": {},
     "output_type": "execute_result"
    }
   ],
   "source": [
    "i = 10\n",
    "batch = ds_loader.get_batch(i, train=True)\n",
    "docs_chunks, target_chunks, target_mask = batch.gen_tensors()\n",
    "docs_chunks.shape, target_chunks.shape, target_mask"
   ]
  },
  {
   "cell_type": "code",
   "execution_count": 40,
   "metadata": {},
   "outputs": [
    {
     "data": {
      "text/plain": [
       "'<|query_begin|> Alanbaşı, VezirköprüAlanbaşı is a village in the District of Vezirköprü, Samsun Province, Turkey.\\n\\nReferences\\n\\nCategory:Populated places in Samsun Province\\nCategory:Villages in Turkey\\nCategory:Vezirköprü <|query_end|>'"
      ]
     },
     "execution_count": 40,
     "metadata": {},
     "output_type": "execute_result"
    }
   ],
   "source": [
    "s_target = tokten_to_text(target_chunks)\n",
    "s_target"
   ]
  },
  {
   "cell_type": "code",
   "execution_count": 41,
   "metadata": {},
   "outputs": [
    {
     "name": "stdout",
     "output_type": "stream",
     "text": [
      "<|doc_begin|> <|doc_id_begin|> 4018364 <|doc_id_end|> <|doc_offset_begin|> 0 <|doc_offset_end|> <|doc_title_begin|> Wide Sargasso Sea (disambiguation) <|doc_title_end|> <|doc_body_begin|> Wide Sargass\n",
      "<|doc_begin|> <|doc_id_begin|> 4018364 <|doc_id_end|> <|doc_offset_begin|> 91 <|doc_offset_end|>  song on the Stevie Nicks album In Your Dreams\\n\\nSee also\\n Sargasso Sea (disambiguation) <|doc_body_end|\n",
      "<|doc_begin|> <|doc_id_begin|> 1500907 <|doc_id_end|> <|doc_offset_begin|> 0 <|doc_offset_end|> <|doc_title_begin|> Anarita <|doc_title_end|> <|doc_body_begin|> Anarita () is a village in the Paphos D\n",
      "<|doc_begin|> <|doc_id_begin|> 3392514 <|doc_id_end|> <|doc_offset_begin|> 0 <|doc_offset_end|> <|doc_title_begin|> Janów, Krotoszyn County <|doc_title_end|> <|doc_body_begin|> Janów  () is a village \n",
      "<|doc_begin|> <|doc_id_begin|> 3392514 <|doc_id_end|> <|doc_offset_begin|> 91 <|doc_offset_end|>  in Krotoszyn County <|doc_body_end|> <|doc_end|>\n",
      "<|doc_begin|> <|doc_id_begin|> 5624235 <|doc_id_end|> <|doc_offset_begin|> 0 <|doc_offset_end|> <|doc_title_begin|> Lauren Reynolds <|doc_title_end|> <|doc_body_begin|> Lauren Reynolds (born 25 June 1\n",
      "<|doc_begin|> <|doc_id_begin|> 5624235 <|doc_id_end|> <|doc_offset_begin|> 91 <|doc_offset_end|>   Lauren quit competitive basketball in 2003. , she lives in Perth, Western Australia.\\n\\nReynolds is  ta\n",
      "<|doc_begin|> <|doc_id_begin|> 5624235 <|doc_id_end|> <|doc_offset_begin|> 182 <|doc_offset_end|>  into the river.\\n\\nHer primary training base is on the Gold Coast of Queensland. She was coached by Ton\n",
      "<|doc_begin|> <|doc_id_begin|> 3809865 <|doc_id_end|> <|doc_offset_begin|> 0 <|doc_offset_end|> <|doc_title_begin|> Alanbaşı, Vezirköprü <|doc_title_end|> <|doc_body_begin|> Alanbaşı is a village in t\n"
     ]
    }
   ],
   "source": [
    "for toks in docs_chunks:\n",
    "    s = tokten_to_text(toks)\n",
    "    print(s[:200].replace('\\n', '\\\\n'))"
   ]
  },
  {
   "cell_type": "code",
   "execution_count": 42,
   "metadata": {},
   "outputs": [],
   "source": [
    "target_embs = model_ranker.run_enc_emb(target_chunks)\n",
    "docs_embs = model_ranker.run_enc_emb(docs_chunks)"
   ]
  },
  {
   "cell_type": "code",
   "execution_count": 43,
   "metadata": {},
   "outputs": [
    {
     "name": "stdout",
     "output_type": "stream",
     "text": [
      "0.390766 F\n",
      "0.271421 F\n",
      "0.589987 F\n",
      "0.563101 F\n",
      "0.399155 F\n",
      "0.518974 F\n",
      "0.411905 F\n",
      "0.450434 F\n",
      "0.733288 T\n"
     ]
    }
   ],
   "source": [
    "cosine = False\n",
    "cosine = True\n",
    "print_dist(target_embs, docs_embs, target_mask, cosine=cosine)"
   ]
  },
  {
   "cell_type": "code",
   "execution_count": 66,
   "metadata": {},
   "outputs": [
    {
     "name": "stdout",
     "output_type": "stream",
     "text": [
      "torch.Size([1, 100])\n",
      "0.276059 F\n",
      "0.437344 F\n",
      "0.310923 F\n",
      "0.430023 F\n",
      "0.474101 F\n",
      "0.658779 F\n",
      "0.497670 F\n",
      "0.450341 F\n",
      "0.394595 T\n"
     ]
    }
   ],
   "source": [
    "txt = 'Hong Kong 1987'\n",
    "txt = 'Wide Sargasso Sea'\n",
    "txt = 'Alanbaşı, Vezirköprü'\n",
    "txt = 'Lauren Reynolds'\n",
    "txt = 'Lauren Raynolds'\n",
    "\n",
    "# txt = 'The graph sandwich problem for property Π is defined as follows:'\n",
    "cosine = True\n",
    "txt_tokens = text_to_tokens(txt, qbeg_tok=qbeg_tok, qend_tok=qend_tok)\n",
    "# txt_tokens = txt_tokens.repeat(3, 1)\n",
    "print(txt_tokens.shape)\n",
    "txt_embs = model_ranker.run_enc_emb(txt_tokens)\n",
    "print_dist(txt_embs, docs_embs, target_mask, cosine=cosine)\n"
   ]
  },
  {
   "cell_type": "code",
   "execution_count": 67,
   "metadata": {},
   "outputs": [
    {
     "data": {
      "text/plain": [
       "['0.000222',\n",
       " '0.005809',\n",
       " '0.000487',\n",
       " '0.002463',\n",
       " '0.005683',\n",
       " '0.957277',\n",
       " '0.011900',\n",
       " '0.014258',\n",
       " '0.001901']"
      ]
     },
     "execution_count": 67,
     "metadata": {},
     "output_type": "execute_result"
    }
   ],
   "source": [
    "\n",
    "rank = model_ranker.run_qs_infer(docs_chunks, txt_tokens)\n",
    "rank_str = [f'{r:.06f}' for r in rank.flatten()]\n",
    "rank_str"
   ]
  },
  {
   "cell_type": "code",
   "execution_count": 48,
   "metadata": {},
   "outputs": [
    {
     "data": {
      "text/plain": [
       "442500"
      ]
     },
     "execution_count": 48,
     "metadata": {},
     "output_type": "execute_result"
    }
   ],
   "source": []
  },
  {
   "cell_type": "code",
   "execution_count": 31,
   "metadata": {},
   "outputs": [
    {
     "data": {
      "text/plain": [
       "tensor([[0.8737, 0.8907, 0.7371, 0.5201, 0.4101, 0.8237, 0.7342, 0.8183, 0.8694,\n",
       "         0.6263, 0.6608, 0.6087, 0.2565, 0.3135, 0.3250]],\n",
       "       grad_fn=<SigmoidBackward0>)"
      ]
     },
     "execution_count": 31,
     "metadata": {},
     "output_type": "execute_result"
    }
   ],
   "source": [
    "rank = model_ranker(txt_tokens, docs_chunks)\n",
    "rank"
   ]
  },
  {
   "cell_type": "code",
   "execution_count": 35,
   "metadata": {},
   "outputs": [
    {
     "data": {
      "text/plain": [
       "tensor([[2.6538e-21, 3.7294e-11, 2.4412e-19, 3.4020e-23, 7.5630e-20, 3.8663e-25,\n",
       "         1.3986e-18, 7.2614e-22, 1.0000e+00, 1.0000e+00, 1.0000e+00, 4.7166e-09,\n",
       "         1.9997e-11, 1.3684e-08]], grad_fn=<SigmoidBackward0>)"
      ]
     },
     "execution_count": 35,
     "metadata": {},
     "output_type": "execute_result"
    }
   ],
   "source": [
    "rank = model_ranker(target_chunks, docs_chunks)\n",
    "rank"
   ]
  },
  {
   "cell_type": "code",
   "execution_count": 31,
   "metadata": {},
   "outputs": [
    {
     "data": {
      "text/plain": [
       "3"
      ]
     },
     "execution_count": 31,
     "metadata": {},
     "output_type": "execute_result"
    }
   ],
   "source": [
    "np.random.randint(0, 6)"
   ]
  },
  {
   "cell_type": "code",
   "execution_count": 2,
   "metadata": {},
   "outputs": [],
   "source": [
    "import torch"
   ]
  },
  {
   "cell_type": "code",
   "execution_count": 4,
   "metadata": {},
   "outputs": [],
   "source": [
    "device1 = torch.device('cpu')\n",
    "device2 = torch.device('cuda')\n",
    "device3 = torch.device('cpu')"
   ]
  },
  {
   "cell_type": "code",
   "execution_count": 5,
   "metadata": {},
   "outputs": [
    {
     "name": "stdout",
     "output_type": "stream",
     "text": [
      "False\n",
      "False\n",
      "True\n"
     ]
    }
   ],
   "source": [
    "print(device1 == device2)\n",
    "print(device2 == device3)\n",
    "print(device1 == device3)\n"
   ]
  },
  {
   "cell_type": "code",
   "execution_count": 7,
   "metadata": {},
   "outputs": [
    {
     "data": {
      "text/plain": [
       "('cpu', str)"
      ]
     },
     "execution_count": 7,
     "metadata": {},
     "output_type": "execute_result"
    }
   ],
   "source": [
    "device1.type, type(device1.type)"
   ]
  },
  {
   "cell_type": "code",
   "execution_count": 11,
   "metadata": {},
   "outputs": [
    {
     "data": {
      "text/plain": [
       "array([[ 0.5,  0.5,  0.5],\n",
       "       [ 1.7,  1.7,  1.7],\n",
       "       [-1. ,  7. , 33. ]])"
      ]
     },
     "execution_count": 11,
     "metadata": {},
     "output_type": "execute_result"
    }
   ],
   "source": [
    "import numpy as np\n",
    "toks = [\n",
    "    np.ones(3) * 0.5,\n",
    "    np.ones(3) * 1.7,\n",
    "    np.array([-1, 7, 33])\n",
    "]\n",
    "np.stack(toks, axis=0)"
   ]
  },
  {
   "cell_type": "code",
   "execution_count": 12,
   "metadata": {},
   "outputs": [
    {
     "data": {
      "text/plain": [
       "array([[ 0.5,  0.5,  0.5],\n",
       "       [ 1.7,  1.7,  1.7],\n",
       "       [-1. ,  7. , 33. ]])"
      ]
     },
     "execution_count": 12,
     "metadata": {},
     "output_type": "execute_result"
    }
   ],
   "source": [
    "np.array(toks)"
   ]
  },
  {
   "cell_type": "code",
   "execution_count": 13,
   "metadata": {},
   "outputs": [
    {
     "data": {
      "text/plain": [
       "True"
      ]
     },
     "execution_count": 13,
     "metadata": {},
     "output_type": "execute_result"
    }
   ],
   "source": [
    "np.allclose(np.array(toks), np.stack(toks, axis=0))"
   ]
  },
  {
   "cell_type": "code",
   "execution_count": null,
   "metadata": {},
   "outputs": [],
   "source": []
  },
  {
   "cell_type": "code",
   "execution_count": null,
   "metadata": {},
   "outputs": [],
   "source": []
  },
  {
   "cell_type": "code",
   "execution_count": null,
   "metadata": {},
   "outputs": [],
   "source": []
  },
  {
   "cell_type": "code",
   "execution_count": null,
   "metadata": {},
   "outputs": [],
   "source": []
  },
  {
   "cell_type": "code",
   "execution_count": null,
   "metadata": {},
   "outputs": [],
   "source": []
  },
  {
   "cell_type": "code",
   "execution_count": null,
   "metadata": {},
   "outputs": [],
   "source": []
  },
  {
   "cell_type": "code",
   "execution_count": null,
   "metadata": {},
   "outputs": [],
   "source": []
  },
  {
   "cell_type": "code",
   "execution_count": null,
   "metadata": {},
   "outputs": [],
   "source": []
  },
  {
   "cell_type": "code",
   "execution_count": null,
   "metadata": {},
   "outputs": [],
   "source": []
  },
  {
   "cell_type": "code",
   "execution_count": null,
   "metadata": {},
   "outputs": [],
   "source": []
  }
 ],
 "metadata": {
  "kernelspec": {
   "display_name": "mllm",
   "language": "python",
   "name": "python3"
  },
  "language_info": {
   "codemirror_mode": {
    "name": "ipython",
    "version": 3
   },
   "file_extension": ".py",
   "mimetype": "text/x-python",
   "name": "python",
   "nbconvert_exporter": "python",
   "pygments_lexer": "ipython3",
   "version": "3.10.14"
  }
 },
 "nbformat": 4,
 "nbformat_minor": 2
}
