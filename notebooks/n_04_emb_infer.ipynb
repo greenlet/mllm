{
 "cells": [
  {
   "cell_type": "code",
   "execution_count": 1,
   "metadata": {},
   "outputs": [],
   "source": [
    "%load_ext autoreload\n",
    "%autoreload 2"
   ]
  },
  {
   "cell_type": "code",
   "execution_count": 2,
   "metadata": {},
   "outputs": [],
   "source": [
    "import os\n",
    "from pathlib import Path\n",
    "import sys\n",
    "from typing import Optional\n",
    "if '..' not in sys.path: sys.path.append('..')\n",
    "\n",
    "import numpy as np\n",
    "from matplotlib import pyplot as plt\n",
    "from pydantic_yaml import parse_yaml_file_as\n",
    "import torch\n",
    "from torch import nn\n",
    "from transformers import GPT2Tokenizer, AddedToken, PreTrainedTokenizer\n",
    "\n",
    "from mllm.data.wiki.dswiki import WikiDsLoader\n",
    "from mllm.exp.args import TOKENIZER_CFG_FNAME, ENCDEC_MODEL_CFG_FNAME, RANKER_MODEL_CFG_FNAME\n",
    "from mllm.model.mllm_encdec import MllmEncdecLevel\n",
    "from mllm.model.mllm_ranker import MllmRankerLevel\n",
    "from mllm.config.model import TokenizerCfg, MllmEncdecCfg, MllmRankerCfg\n",
    "from mllm.tokenization.chunk_tokenizer import calc_max_inp_size, gen_all_tokens, ChunkTokenizer, tokenizer_from_config\n",
    "\n"
   ]
  },
  {
   "cell_type": "code",
   "execution_count": 14,
   "metadata": {},
   "outputs": [],
   "source": [
    "DATA_PATH = Path(os.path.expandvars('$HOME')) / 'data'\n",
    "DS_DIR_PATH = DATA_PATH / 'wiki_20200501_en' / 'ch_100_fixed'\n",
    "\n",
    "# TRAIN_ENCDEC_PATH = DATA_PATH / 'train_mllm_encdec'\n",
    "# TRAIN_RANKER_PATH = DATA_PATH / 'train_mllm_ranker_qrels'\n",
    "# encdec_subdir = 'encdec-20240718_221554-wiki_20200501_en-ch_100_fixed'\n",
    "# ranker_subdir = 'ranker-20240903_215749-msmarco-fever'\n",
    "\n",
    "TRAIN_ENCDEC_PATH = DATA_PATH / 'train_mllm_encdec_0'\n",
    "TRAIN_RANKER_PATH = DATA_PATH / 'train_mllm_ranker_qrels_0'\n",
    "encdec_subdir = 'encdec-lvl0-20241029_140645-wiki_20200501_en-ch_100_fixed-enc-lrs3-embmatFalse-d256-h8-dec-lrs3-seqlen100-d256-h8-vocdecTrue'\n",
    "ranker_subdir = 'ranker-lvl0-20241030_230226-msmarco-fever-enc-lrs3-embmatFalse-d256-h8-dec-lrs0-d256-h8'\n",
    "\n",
    "encdec_train_path = TRAIN_ENCDEC_PATH / encdec_subdir\n",
    "ranker_train_path = TRAIN_RANKER_PATH / ranker_subdir\n",
    "encdec_snapshot_fpath = encdec_train_path / 'best.pth'\n",
    "ranker_snapshot_fpath = ranker_train_path / 'best.pth'\n",
    "encdec_tkz_cfg_fpath = encdec_train_path / TOKENIZER_CFG_FNAME\n",
    "ranker_tkz_cfg_fpath = ranker_train_path / TOKENIZER_CFG_FNAME\n",
    "encdec_model_cfg_fpath = encdec_train_path / ENCDEC_MODEL_CFG_FNAME\n",
    "ranker_model_cfg_fpath = ranker_train_path / RANKER_MODEL_CFG_FNAME"
   ]
  },
  {
   "cell_type": "code",
   "execution_count": 15,
   "metadata": {},
   "outputs": [
    {
     "name": "stdout",
     "output_type": "stream",
     "text": [
      "cpu\n"
     ]
    }
   ],
   "source": [
    "docs_batch_size = 5\n",
    "max_chunks_per_doc = 3\n",
    "model_level = 0\n",
    "device_name = 'cpu'\n",
    "# device_name = 'cuda'\n",
    "\n",
    "device = torch.device(device_name)\n",
    "print(device)"
   ]
  },
  {
   "cell_type": "code",
   "execution_count": 16,
   "metadata": {},
   "outputs": [],
   "source": [
    "encdec_tkz_cfg = parse_yaml_file_as(TokenizerCfg, encdec_tkz_cfg_fpath)\n",
    "ranker_tkz_cfg = parse_yaml_file_as(TokenizerCfg, ranker_tkz_cfg_fpath)\n",
    "assert encdec_tkz_cfg == ranker_tkz_cfg\n",
    "tokenizer = tokenizer_from_config(encdec_tkz_cfg)\n",
    "tok_dict = encdec_tkz_cfg.custom_tokens\n",
    "pad_tok, qbeg_tok, qend_tok = tok_dict['pad'].ind, tok_dict['query_begin'].ind, tok_dict['query_end'].ind"
   ]
  },
  {
   "cell_type": "code",
   "execution_count": 17,
   "metadata": {},
   "outputs": [
    {
     "name": "stdout",
     "output_type": "stream",
     "text": [
      "Loading cache from /home/misha/data/wiki_20200501_en/ch_100_fixed/.mllm/ds.csv\n",
      "Loaded dataset size: 50989207\n"
     ]
    }
   ],
   "source": [
    "ds_loader = WikiDsLoader(\n",
    "    ds_path=DS_DIR_PATH, docs_batch_size=docs_batch_size, max_chunks_per_doc=max_chunks_per_doc,\n",
    "    pad_tok=pad_tok, qbeg_tok=qbeg_tok, qend_tok=qend_tok, device=device,\n",
    ")\n",
    "ds_loader.shuffle(train=True)\n",
    "ds_loader.shuffle(train=False)\n",
    "inp_len = ds_loader.emb_chunk_size if ds_loader.fixed_size else calc_max_inp_size(ds_loader.emb_chunk_size)"
   ]
  },
  {
   "cell_type": "code",
   "execution_count": 18,
   "metadata": {},
   "outputs": [],
   "source": [
    "def tokens_to_text(tokens: torch.Tensor) -> str:\n",
    "    tokens = tokens.flatten()\n",
    "    tokens = tokens[tokens != pad_tok]\n",
    "    tokens = list(tokens)\n",
    "    s = tokenizer.decode(tokens)\n",
    "    return s\n",
    "\n",
    "def distance(x: np.ndarray, y: np.ndarray, cosine: bool = False):\n",
    "    if not cosine:\n",
    "        return np.linalg.norm(x - y)\n",
    "    x_norm, y_norm = np.linalg.norm(x), np.linalg.norm(y)\n",
    "    return np.sum(x * y) / (x_norm * y_norm)\n",
    "\n",
    "def text_to_tokens(s: str, qbeg_tok: Optional[int] = None, qend_tok: Optional[int] = None) -> torch.Tensor:\n",
    "    tokens = tokenizer(s)['input_ids']\n",
    "    if qbeg_tok is not None:\n",
    "        assert qend_tok is not None\n",
    "        tokens = [qbeg_tok, *tokens, qend_tok]\n",
    "    n_tokens = len(tokens)\n",
    "    n_padded = n_tokens // inp_len + (n_tokens % inp_len > 0)\n",
    "    res = np.full((n_padded * inp_len, ), pad_tok, dtype=np.int32)\n",
    "    res[:n_tokens] = tokens\n",
    "    res = torch.from_numpy(res).to(device)\n",
    "    res = res.reshape(n_padded, inp_len)\n",
    "    return res\n",
    "\n",
    "def print_dist(target_embs: torch.Tensor, docs_embs: torch.Tensor, target_mask: torch.Tensor, cosine: bool = True):\n",
    "    for i, docs_emb in enumerate(docs_embs.detach().numpy()):\n",
    "        for target_emb in target_embs.detach().numpy():\n",
    "            dist = distance(target_emb, docs_emb, cosine)\n",
    "            print(f'{dist:0.6f} ', end='')\n",
    "        sfx = 'T' if target_mask[i] else 'F'\n",
    "        print(sfx)\n"
   ]
  },
  {
   "cell_type": "code",
   "execution_count": 19,
   "metadata": {},
   "outputs": [
    {
     "name": "stdout",
     "output_type": "stream",
     "text": [
      "vocab_encoder.src_word_emb.weight (50271, 256) -0.010897174 1.1518982e-09 0.010897171\n",
      "vocab_encoder.layer_norm.weight (256,) -0.09979006 -0.004591978 0.09982232\n",
      "vocab_encoder.layer_norm.bias (256,) -0.0992771 0.0019012922 0.099865995\n",
      "vocab_decoder.word_prj.weight (50271, 256) -0.010897173 -5.5364016e-08 0.010897173\n",
      "encoder.a_em () 0.07837709 0.07837709 0.07837709\n",
      "encoder.layer_stack.0.slf_attn.w_qs.weight (256, 256) -0.1082476 0.00034785352 0.10825298\n",
      "encoder.layer_stack.0.slf_attn.w_ks.weight (256, 256) -0.10825254 -0.00014614759 0.10825209\n",
      "encoder.layer_stack.0.slf_attn.w_vs.weight (256, 256) -0.10825053 -0.00016267816 0.108252786\n",
      "encoder.layer_stack.0.slf_attn.fc.weight (256, 256) -0.1082332 0.00021137326 0.10824482\n",
      "encoder.layer_stack.0.slf_attn.layer_norm.weight (256,) -0.09671755 0.003842628 0.09890232\n",
      "encoder.layer_stack.0.slf_attn.layer_norm.bias (256,) -0.09996575 -0.008670668 0.09937097\n",
      "encoder.layer_stack.0.pos_ffn.w_1.weight (1024, 256) -0.068464905 -6.7586116e-06 0.06846508\n",
      "encoder.layer_stack.0.pos_ffn.w_1.bias (1024,) -0.09998927 -0.001822111 0.09958766\n",
      "encoder.layer_stack.0.pos_ffn.w_2.weight (256, 1024) -0.0684645 -9.004655e-06 0.06846483\n",
      "encoder.layer_stack.0.pos_ffn.w_2.bias (256,) -0.099038534 0.004196371 0.099641226\n",
      "encoder.layer_stack.0.pos_ffn.layer_norm.weight (256,) -0.09989839 -0.0051626987 0.099958\n",
      "encoder.layer_stack.0.pos_ffn.layer_norm.bias (256,) -0.09851332 0.00077023427 0.09801189\n",
      "encoder.layer_stack.1.slf_attn.w_qs.weight (256, 256) -0.10825311 -0.00016145637 0.10825055\n",
      "encoder.layer_stack.1.slf_attn.w_ks.weight (256, 256) -0.10824877 -0.00054060575 0.10825275\n",
      "encoder.layer_stack.1.slf_attn.w_vs.weight (256, 256) -0.108252116 0.00043442514 0.10824665\n",
      "encoder.layer_stack.1.slf_attn.fc.weight (256, 256) -0.10825093 0.000110697896 0.1082512\n",
      "encoder.layer_stack.1.slf_attn.layer_norm.weight (256,) -0.0975194 0.0037225618 0.0993783\n",
      "encoder.layer_stack.1.slf_attn.layer_norm.bias (256,) -0.09983607 -0.0018755724 0.09931437\n",
      "encoder.layer_stack.1.pos_ffn.w_1.weight (1024, 256) -0.068465315 1.967247e-05 0.068465166\n",
      "encoder.layer_stack.1.pos_ffn.w_1.bias (1024,) -0.099794805 0.0014566074 0.09986637\n",
      "encoder.layer_stack.1.pos_ffn.w_2.weight (256, 1024) -0.06846486 -3.6886766e-05 0.06846524\n",
      "encoder.layer_stack.1.pos_ffn.w_2.bias (256,) -0.09871924 0.0032747793 0.098981395\n",
      "encoder.layer_stack.1.pos_ffn.layer_norm.weight (256,) -0.09988715 -0.0048572887 0.09846177\n",
      "encoder.layer_stack.1.pos_ffn.layer_norm.bias (256,) -0.0989532 0.0046500815 0.09786242\n",
      "encoder.layer_stack.2.slf_attn.w_qs.weight (256, 256) -0.108250596 -3.0083014e-05 0.108252525\n",
      "encoder.layer_stack.2.slf_attn.w_ks.weight (256, 256) -0.10825286 -9.7001335e-05 0.108252294\n",
      "encoder.layer_stack.2.slf_attn.w_vs.weight (256, 256) -0.10825291 -0.00016908407 0.10825307\n",
      "encoder.layer_stack.2.slf_attn.fc.weight (256, 256) -0.10825241 -0.00016926066 0.108250864\n",
      "encoder.layer_stack.2.slf_attn.layer_norm.weight (256,) -0.099466585 0.0025115705 0.09962139\n",
      "encoder.layer_stack.2.slf_attn.layer_norm.bias (256,) -0.0999973 0.0017387987 0.09963616\n",
      "encoder.layer_stack.2.pos_ffn.w_1.weight (1024, 256) -0.068464614 -4.7539084e-05 0.068464145\n",
      "encoder.layer_stack.2.pos_ffn.w_1.bias (1024,) -0.09979012 -0.0017941308 0.09989426\n",
      "encoder.layer_stack.2.pos_ffn.w_2.weight (256, 1024) -0.0684648 -4.9884977e-05 0.068464994\n",
      "encoder.layer_stack.2.pos_ffn.w_2.bias (256,) -0.098925285 -0.0036476708 0.09922009\n",
      "encoder.layer_stack.2.pos_ffn.layer_norm.weight (256,) -0.0999883 0.005991674 0.099712685\n",
      "encoder.layer_stack.2.pos_ffn.layer_norm.bias (256,) -0.09987601 -0.0003941327 0.099391714\n",
      "encoder.layer_norm.weight (256,) -0.098135784 -4.4668326e-05 0.09980092\n",
      "encoder.layer_norm.bias (256,) -0.099874906 0.0027111007 0.09940481\n",
      "decoder.A_emb2sec (100, 256, 256) -0.008113916 1.33203e-06 0.008113914\n",
      "decoder.att_layers.0.slf_attn.w_qs.weight (256, 256) -0.10825213 -0.00019479667 0.108252525\n",
      "decoder.att_layers.0.slf_attn.w_ks.weight (256, 256) -0.10824808 0.000115972376 0.10824862\n",
      "decoder.att_layers.0.slf_attn.w_vs.weight (256, 256) -0.10825317 -6.6055145e-06 0.10824968\n",
      "decoder.att_layers.0.slf_attn.fc.weight (256, 256) -0.108251624 -1.1762097e-05 0.108251885\n",
      "decoder.att_layers.0.slf_attn.layer_norm.weight (256,) -0.09920925 -0.001746421 0.09987859\n",
      "decoder.att_layers.0.slf_attn.layer_norm.bias (256,) -0.099178925 0.0005178689 0.098974004\n",
      "decoder.att_layers.0.pos_ffn.w_1.weight (1024, 256) -0.06846519 8.779603e-06 0.068464994\n",
      "decoder.att_layers.0.pos_ffn.w_1.bias (1024,) -0.09967182 0.0004553239 0.09994065\n",
      "decoder.att_layers.0.pos_ffn.w_2.weight (256, 1024) -0.06846495 6.659388e-05 0.06846428\n",
      "decoder.att_layers.0.pos_ffn.w_2.bias (256,) -0.09916605 -0.0014364538 0.09920241\n",
      "decoder.att_layers.0.pos_ffn.layer_norm.weight (256,) -0.09943386 0.00033318636 0.09981996\n",
      "decoder.att_layers.0.pos_ffn.layer_norm.bias (256,) -0.09907947 0.0050109634 0.0998642\n",
      "decoder.att_layers.1.slf_attn.w_qs.weight (256, 256) -0.10825293 -0.00011946632 0.10825191\n",
      "decoder.att_layers.1.slf_attn.w_ks.weight (256, 256) -0.108249456 0.00016197127 0.108252816\n",
      "decoder.att_layers.1.slf_attn.w_vs.weight (256, 256) -0.10825213 6.845548e-05 0.10825236\n",
      "decoder.att_layers.1.slf_attn.fc.weight (256, 256) -0.108250834 9.006405e-05 0.108252965\n",
      "decoder.att_layers.1.slf_attn.layer_norm.weight (256,) -0.09952505 -0.005051081 0.0987396\n",
      "decoder.att_layers.1.slf_attn.layer_norm.bias (256,) -0.0985825 -0.004874318 0.098422244\n",
      "decoder.att_layers.1.pos_ffn.w_1.weight (1024, 256) -0.06846509 1.16725205e-05 0.06846475\n",
      "decoder.att_layers.1.pos_ffn.w_1.bias (1024,) -0.099971645 0.0012402531 0.09997686\n",
      "decoder.att_layers.1.pos_ffn.w_2.weight (256, 1024) -0.06846532 5.5996257e-05 0.06846457\n",
      "decoder.att_layers.1.pos_ffn.w_2.bias (256,) -0.09944127 -0.005703859 0.099033296\n",
      "decoder.att_layers.1.pos_ffn.layer_norm.weight (256,) -0.09960029 0.00071911153 0.09994242\n",
      "decoder.att_layers.1.pos_ffn.layer_norm.bias (256,) -0.099714234 0.0013397074 0.09897953\n",
      "decoder.att_layers.2.slf_attn.w_qs.weight (256, 256) -0.108250864 -0.000467134 0.108246565\n",
      "decoder.att_layers.2.slf_attn.w_ks.weight (256, 256) -0.108251676 -0.00023396159 0.10824046\n",
      "decoder.att_layers.2.slf_attn.w_vs.weight (256, 256) -0.10824935 0.00012108921 0.108252734\n",
      "decoder.att_layers.2.slf_attn.fc.weight (256, 256) -0.108252384 -1.5724872e-05 0.10825257\n",
      "decoder.att_layers.2.slf_attn.layer_norm.weight (256,) -0.099978484 0.003507291 0.098880626\n",
      "decoder.att_layers.2.slf_attn.layer_norm.bias (256,) -0.099481024 -0.0038877712 0.09906554\n",
      "decoder.att_layers.2.pos_ffn.w_1.weight (1024, 256) -0.068464994 9.045332e-06 0.068465054\n",
      "decoder.att_layers.2.pos_ffn.w_1.bias (1024,) -0.09980839 -0.00049792824 0.099743426\n",
      "decoder.att_layers.2.pos_ffn.w_2.weight (256, 1024) -0.0684653 -0.00010127822 0.06846503\n",
      "decoder.att_layers.2.pos_ffn.w_2.bias (256,) -0.09840579 -0.0022101982 0.099259034\n",
      "decoder.att_layers.2.pos_ffn.layer_norm.weight (256,) -0.09993302 -0.0014188802 0.09965438\n",
      "decoder.att_layers.2.pos_ffn.layer_norm.bias (256,) -0.099997155 -0.00345618 0.09976661\n"
     ]
    }
   ],
   "source": [
    "model_encdec_cfg = parse_yaml_file_as(MllmEncdecCfg, encdec_model_cfg_fpath)\n",
    "model_encdec = MllmEncdecLevel(model_encdec_cfg, model_level).to(device)\n",
    "checkpoint_encdec = torch.load(encdec_snapshot_fpath)\n",
    "model_encdec.load_state_dict(checkpoint_encdec['model'], strict=False)\n",
    "model_encdec.eval()\n",
    "None"
   ]
  },
  {
   "cell_type": "code",
   "execution_count": 20,
   "metadata": {},
   "outputs": [
    {
     "data": {
      "text/plain": [
       "tensor([[15496,   612, 50267, 50267, 50267, 50267, 50267, 50267, 50267, 50267,\n",
       "         50267, 50267, 50267, 50267, 50267, 50267, 50267, 50267, 50267, 50267,\n",
       "         50267, 50267, 50267, 50267, 50267, 50267, 50267, 50267, 50267, 50267,\n",
       "         50267, 50267, 50267, 50267, 50267, 50267, 50267, 50267, 50267, 50267,\n",
       "         50267, 50267, 50267, 50267, 50267, 50267, 50267, 50267, 50267, 50267,\n",
       "         50267, 50267, 50267, 50267, 50267, 50267, 50267, 50267, 50267, 50267,\n",
       "         50267, 50267, 50267, 50267, 50267, 50267, 50267, 50267, 50267, 50267,\n",
       "         50267, 50267, 50267, 50267, 50267, 50267, 50267, 50267, 50267, 50267,\n",
       "         50267, 50267, 50267, 50267, 50267, 50267, 50267, 50267, 50267, 50267,\n",
       "         50267, 50267, 50267, 50267, 50267, 50267, 50267, 50267, 50267, 50267]],\n",
       "       dtype=torch.int32)"
      ]
     },
     "execution_count": 20,
     "metadata": {},
     "output_type": "execute_result"
    }
   ],
   "source": [
    "text_to_tokens('Hello there')"
   ]
  },
  {
   "cell_type": "code",
   "execution_count": 21,
   "metadata": {},
   "outputs": [
    {
     "data": {
      "text/plain": [
       "(torch.Size([12, 100]),\n",
       " torch.Size([1, 100]),\n",
       " tensor([False, False, False, False, False, False, False, False,  True, False,\n",
       "         False, False]))"
      ]
     },
     "execution_count": 21,
     "metadata": {},
     "output_type": "execute_result"
    }
   ],
   "source": [
    "i = 10\n",
    "batch = ds_loader.get_batch(i, train=True)\n",
    "docs_chunks, target_chunks, target_mask = batch.gen_tensors()\n",
    "docs_chunks.shape, target_chunks.shape, target_mask"
   ]
  },
  {
   "cell_type": "code",
   "execution_count": 22,
   "metadata": {},
   "outputs": [
    {
     "data": {
      "text/plain": [
       "'<|query_begin|> OsterbergerOsterberger is a surname. Notable people with the surname include:\\n\\nAndré Osterberger (1920–2009), French hammer thrower\\nKenneth Osterberger (1930–2016), American politician <|query_end|>'"
      ]
     },
     "execution_count": 22,
     "metadata": {},
     "output_type": "execute_result"
    }
   ],
   "source": [
    "s_target = tokens_to_text(target_chunks)\n",
    "s_target"
   ]
  },
  {
   "cell_type": "code",
   "execution_count": 23,
   "metadata": {},
   "outputs": [
    {
     "name": "stdout",
     "output_type": "stream",
     "text": [
      "<|doc_begin|> <|doc_id_begin|> 3827117 <|doc_id_end|> <|doc_offset_begin|> 0 <|doc_offset_end|> <|doc_title_begin|> Clark Township, Atchison County, Missouri <|doc_title_end|> <|doc_body_begin|> Clark\n",
      "<|doc_begin|> <|doc_id_begin|> 3827117 <|doc_id_end|> <|doc_offset_begin|> 91 <|doc_offset_end|>  and Pleasant Ridge.\\n\\nThe streams of Cow Branch, Old Channel Nishnabotna River and Rock Creek run throu\n",
      "<|doc_begin|> <|doc_id_begin|> 3827117 <|doc_id_end|> <|doc_offset_begin|> 182 <|doc_offset_end|>  in Missouri <|doc_body_end|> <|doc_end|>\n",
      "<|doc_begin|> <|doc_id_begin|> 3207145 <|doc_id_end|> <|doc_offset_begin|> 182 <|doc_offset_end|>  Tokyo. The club rapidly grew, climbing the Japanese football pyramid in five years.\\n\\nThe 2011 Tohoku \n",
      "<|doc_begin|> <|doc_id_begin|> 3207145 <|doc_id_end|> <|doc_offset_begin|> 273 <|doc_offset_end|>  of using their own stadium, which was used as a shelter, Cobaltore players - especially the Japanese \n",
      "<|doc_begin|> <|doc_id_begin|> 3207145 <|doc_id_end|> <|doc_offset_begin|> 364 <|doc_offset_end|>  season. From then, Cobaltore is trying to reach JFL, aiming towards pro-football. They also won the d\n",
      "<|doc_begin|> <|doc_id_begin|> 5462131 <|doc_id_end|> <|doc_offset_begin|> 0 <|doc_offset_end|> <|doc_title_begin|> Inge Glashörster <|doc_title_end|> <|doc_body_begin|> Inge Glashörster (13 May 1927 \n",
      "<|doc_begin|> <|doc_id_begin|> 5462131 <|doc_id_end|> <|doc_offset_begin|> 91 <|doc_offset_end|> letes (track and field) at the 1952 Summer Olympics\\nCategory:German female sprinters\\nCategory:Olympic a\n",
      "<|doc_begin|> <|doc_id_begin|> 693287 <|doc_id_end|> <|doc_offset_begin|> 0 <|doc_offset_end|> <|doc_title_begin|> Osterberger <|doc_title_end|> <|doc_body_begin|> Osterberger is a surname. Notable pe\n",
      "<|doc_begin|> <|doc_id_begin|> 2474337 <|doc_id_end|> <|doc_offset_begin|> 0 <|doc_offset_end|> <|doc_title_begin|> Ryan McCurdy <|doc_title_end|> <|doc_body_begin|> Ryan McCurdy (born 23 May 1991) is\n",
      "<|doc_begin|> <|doc_id_begin|> 2474337 <|doc_id_end|> <|doc_offset_begin|> 91 <|doc_offset_end|>  appearances for Kingston in league play.\\n\\nVictoria Higlanders\\nIn 2017, McCurdy captained PDL side Vict\n",
      "<|doc_begin|> <|doc_id_begin|> 2474337 <|doc_id_end|> <|doc_offset_begin|> 182 <|doc_offset_end|>  season. On 4 November 2019, the club announced it would not be offering McCurdy a new contract for th\n"
     ]
    }
   ],
   "source": [
    "for toks in docs_chunks:\n",
    "    s = tokens_to_text(toks)\n",
    "    print(s[:200].replace('\\n', '\\\\n'))"
   ]
  },
  {
   "cell_type": "code",
   "execution_count": 24,
   "metadata": {},
   "outputs": [],
   "source": [
    "target_embs = model_encdec.run_enc_emb(target_chunks)\n",
    "docs_embs = model_encdec.run_enc_emb(docs_chunks)"
   ]
  },
  {
   "cell_type": "code",
   "execution_count": 25,
   "metadata": {},
   "outputs": [
    {
     "name": "stdout",
     "output_type": "stream",
     "text": [
      "0.228719 F\n",
      "0.216974 F\n",
      "0.450167 F\n",
      "0.309689 F\n",
      "0.013322 F\n",
      "0.088775 F\n",
      "0.185869 F\n",
      "0.514710 F\n",
      "0.360943 T\n",
      "0.245026 F\n",
      "0.129973 F\n",
      "0.220127 F\n"
     ]
    }
   ],
   "source": [
    "cosine = False\n",
    "cosine = True\n",
    "print_dist(target_embs, docs_embs, target_mask, cosine=cosine)"
   ]
  },
  {
   "cell_type": "code",
   "execution_count": 26,
   "metadata": {},
   "outputs": [
    {
     "name": "stdout",
     "output_type": "stream",
     "text": [
      "vocab_encoder.src_word_emb.weight (50271, 256) -0.010897174 1.0176591e-06 0.010897173\n",
      "vocab_encoder.layer_norm.weight (256,) -0.099841975 -0.0012195851 0.09988719\n",
      "vocab_encoder.layer_norm.bias (256,) -0.099575795 0.0024385962 0.09852242\n",
      "encoder.a_em () 0.031294096 0.031294096 0.031294096\n",
      "encoder.layer_stack.0.slf_attn.w_qs.weight (256, 256) -0.10825192 -0.0002583892 0.10825303\n",
      "encoder.layer_stack.0.slf_attn.w_ks.weight (256, 256) -0.10824997 0.00010487764 0.10825076\n",
      "encoder.layer_stack.0.slf_attn.w_vs.weight (256, 256) -0.10825076 -0.0001962418 0.10825241\n",
      "encoder.layer_stack.0.slf_attn.fc.weight (256, 256) -0.108247586 5.2482348e-05 0.10825072\n",
      "encoder.layer_stack.0.slf_attn.layer_norm.weight (256,) -0.09981437 -0.0020973412 0.09952064\n",
      "encoder.layer_stack.0.slf_attn.layer_norm.bias (256,) -0.09966959 -0.006852148 0.09864878\n",
      "encoder.layer_stack.0.pos_ffn.w_1.weight (1024, 256) -0.068464585 1.5866732e-05 0.068464905\n",
      "encoder.layer_stack.0.pos_ffn.w_1.bias (1024,) -0.09997828 -0.00064508966 0.09985707\n",
      "encoder.layer_stack.0.pos_ffn.w_2.weight (256, 1024) -0.06846371 -2.4471477e-05 0.068465255\n",
      "encoder.layer_stack.0.pos_ffn.w_2.bias (256,) -0.09808053 -0.0008901675 0.09877048\n",
      "encoder.layer_stack.0.pos_ffn.layer_norm.weight (256,) -0.098734714 0.00643056 0.09996382\n",
      "encoder.layer_stack.0.pos_ffn.layer_norm.bias (256,) -0.09944891 -0.008132712 0.09891846\n",
      "encoder.layer_stack.1.slf_attn.w_qs.weight (256, 256) -0.10825296 0.00016555694 0.10824067\n",
      "encoder.layer_stack.1.slf_attn.w_ks.weight (256, 256) -0.10824641 6.990957e-05 0.108250074\n",
      "encoder.layer_stack.1.slf_attn.w_vs.weight (256, 256) -0.10824706 -3.3193297e-05 0.10825191\n",
      "encoder.layer_stack.1.slf_attn.fc.weight (256, 256) -0.108251944 0.0003640379 0.10825275\n",
      "encoder.layer_stack.1.slf_attn.layer_norm.weight (256,) -0.09791616 -0.0010499232 0.0998285\n",
      "encoder.layer_stack.1.slf_attn.layer_norm.bias (256,) -0.099963844 -0.002232886 0.09976729\n",
      "encoder.layer_stack.1.pos_ffn.w_1.weight (1024, 256) -0.06846521 3.207622e-05 0.068464726\n",
      "encoder.layer_stack.1.pos_ffn.w_1.bias (1024,) -0.09976059 -0.0011893428 0.09965668\n",
      "encoder.layer_stack.1.pos_ffn.w_2.weight (256, 1024) -0.06846484 7.713886e-05 0.068464994\n",
      "encoder.layer_stack.1.pos_ffn.w_2.bias (256,) -0.099655524 -0.00029118801 0.09945189\n",
      "encoder.layer_stack.1.pos_ffn.layer_norm.weight (256,) -0.099670045 0.0011069786 0.099606514\n",
      "encoder.layer_stack.1.pos_ffn.layer_norm.bias (256,) -0.09951563 -0.00079601037 0.09825789\n",
      "encoder.layer_stack.2.slf_attn.w_qs.weight (256, 256) -0.1082469 -0.00036983404 0.108251795\n",
      "encoder.layer_stack.2.slf_attn.w_ks.weight (256, 256) -0.1082485 -0.00026254304 0.10825302\n",
      "encoder.layer_stack.2.slf_attn.w_vs.weight (256, 256) -0.10825116 3.7525715e-06 0.10825156\n",
      "encoder.layer_stack.2.slf_attn.fc.weight (256, 256) -0.10825049 -2.7349204e-05 0.10825201\n",
      "encoder.layer_stack.2.slf_attn.layer_norm.weight (256,) -0.09899553 0.0057079364 0.097805016\n",
      "encoder.layer_stack.2.slf_attn.layer_norm.bias (256,) -0.09947888 -0.0025336999 0.09963731\n",
      "encoder.layer_stack.2.pos_ffn.w_1.weight (1024, 256) -0.0684653 0.00013066259 0.06846481\n",
      "encoder.layer_stack.2.pos_ffn.w_1.bias (1024,) -0.09999918 0.0021322253 0.09997008\n",
      "encoder.layer_stack.2.pos_ffn.w_2.weight (256, 1024) -0.06846433 2.2199909e-05 0.06846488\n",
      "encoder.layer_stack.2.pos_ffn.w_2.bias (256,) -0.09986768 0.0044191494 0.09746708\n",
      "encoder.layer_stack.2.pos_ffn.layer_norm.weight (256,) -0.0988486 -0.0021911478 0.0987739\n",
      "encoder.layer_stack.2.pos_ffn.layer_norm.bias (256,) -0.09996792 -0.0016103601 0.09986849\n",
      "encoder.layer_norm.weight (256,) -0.0982086 -0.0025829026 0.09963248\n",
      "encoder.layer_norm.bias (256,) -0.09890099 -0.00088446913 0.09986623\n",
      "decoder.w.weight (256, 256) -0.10825275 -8.924314e-05 0.108251415\n",
      "decoder.layer_norm.weight (256,) -0.09921439 -0.0055763656 0.099756055\n",
      "decoder.layer_norm.bias (256,) -0.09984908 -0.0056389757 0.09959947\n"
     ]
    }
   ],
   "source": [
    "inp_len = ds_loader.emb_chunk_size if ds_loader.fixed_size else calc_max_inp_size(ds_loader.emb_chunk_size)\n",
    "model_ranker_cfg = parse_yaml_file_as(MllmRankerCfg, ranker_model_cfg_fpath)\n",
    "model_ranker = MllmRankerLevel(model_ranker_cfg, model_level).to(device)\n",
    "checkpoint_ranker = torch.load(ranker_snapshot_fpath)\n",
    "model_ranker.load_state_dict(checkpoint_ranker['model'])\n",
    "model_ranker.eval()\n",
    "None"
   ]
  },
  {
   "cell_type": "code",
   "execution_count": 48,
   "metadata": {},
   "outputs": [
    {
     "data": {
      "text/plain": [
       "(torch.Size([12, 100]),\n",
       " torch.Size([3, 100]),\n",
       " tensor([False, False, False, False, False, False, False, False, False,  True,\n",
       "          True,  True]))"
      ]
     },
     "execution_count": 48,
     "metadata": {},
     "output_type": "execute_result"
    }
   ],
   "source": [
    "i = 10\n",
    "batch = ds_loader.get_batch(i, train=True)\n",
    "docs_chunks, target_chunks, target_mask = batch.gen_tensors()\n",
    "docs_chunks.shape, target_chunks.shape, target_mask"
   ]
  },
  {
   "cell_type": "code",
   "execution_count": 49,
   "metadata": {},
   "outputs": [
    {
     "data": {
      "text/plain": [
       "'<|query_begin|> Ryan McCurdyRyan McCurdy (born 23 May 1991) is a professional footballer who plays as a centre-back.\\n\\nClub career\\n\\nKingston FC\\nIn 2012, McCurdy signed with Kingston FC in the Canadian Soccer League, and in 2013 featured in the CSL Championship final.\\n\\nKingston Clippers\\nIn 2015 and 2016, McCurdy played for League1 Ontario side Kingston Clippers. In 2016, he made eight appearances for Kingston in league play.\\n\\nVictoria Higlanders\\nIn 2017, McCurdy captained PDL side Victoria Highlanders, making fourteen appearances.\\n\\nPacific FC\\nOn 17 April 2019, McCurdy signed with Canadian Premier League side Pacific FC. On 29 April 2019, McCurdy made his professional debut for Pacific as a substitute in a 1–0 win over HFX Wanderers. He made a total of ten league appearances for Pacific that season. On 4 November 2019, the club announced it would not be offering McCurdy a new contract for the following season.\\n\\nReferences\\n\\nExternal links\\n\\nCategory:1991 births\\nCategory:Living people\\nCategory:Association football defenders\\nCategory:Association footballers from Northern Ireland\\nCategory:Canadian soccer players\\nCategory:Sportspeople from Belfast\\nCategory:Northern Ireland emigrants to Canada\\nCategory:Naturalized citizens of Canada\\n <|query_end|>'"
      ]
     },
     "execution_count": 49,
     "metadata": {},
     "output_type": "execute_result"
    }
   ],
   "source": [
    "s_target = tokens_to_text(target_chunks)\n",
    "s_target"
   ]
  },
  {
   "cell_type": "code",
   "execution_count": 57,
   "metadata": {},
   "outputs": [
    {
     "name": "stdout",
     "output_type": "stream",
     "text": [
      "<|doc_begin|> <|doc_id_begin|> 3827117 <|doc_id_end|> <|doc_offset_begin|> 0 <|doc_offset_end|> <|doc_title_begin|> Clark Township, Atchison County, Missouri <|doc_title_end|> <|doc_body_begin|> Clark\n",
      "<|doc_begin|> <|doc_id_begin|> 3827117 <|doc_id_end|> <|doc_offset_begin|> 91 <|doc_offset_end|>  and Pleasant Ridge.\\n\\nThe streams of Cow Branch, Old Channel Nishnabotna River and Rock Creek run throu\n",
      "<|doc_begin|> <|doc_id_begin|> 3827117 <|doc_id_end|> <|doc_offset_begin|> 182 <|doc_offset_end|>  in Missouri <|doc_body_end|> <|doc_end|>\n",
      "<|doc_begin|> <|doc_id_begin|> 3207145 <|doc_id_end|> <|doc_offset_begin|> 182 <|doc_offset_end|>  Tokyo. The club rapidly grew, climbing the Japanese football pyramid in five years.\\n\\nThe 2011 Tohoku \n",
      "<|doc_begin|> <|doc_id_begin|> 3207145 <|doc_id_end|> <|doc_offset_begin|> 273 <|doc_offset_end|>  of using their own stadium, which was used as a shelter, Cobaltore players - especially the Japanese \n",
      "<|doc_begin|> <|doc_id_begin|> 3207145 <|doc_id_end|> <|doc_offset_begin|> 364 <|doc_offset_end|>  season. From then, Cobaltore is trying to reach JFL, aiming towards pro-football. They also won the d\n",
      "<|doc_begin|> <|doc_id_begin|> 5462131 <|doc_id_end|> <|doc_offset_begin|> 0 <|doc_offset_end|> <|doc_title_begin|> Inge Glashörster <|doc_title_end|> <|doc_body_begin|> Inge Glashörster (13 May 1927 \n",
      "<|doc_begin|> <|doc_id_begin|> 5462131 <|doc_id_end|> <|doc_offset_begin|> 91 <|doc_offset_end|> letes (track and field) at the 1952 Summer Olympics\\nCategory:German female sprinters\\nCategory:Olympic a\n",
      "<|doc_begin|> <|doc_id_begin|> 693287 <|doc_id_end|> <|doc_offset_begin|> 0 <|doc_offset_end|> <|doc_title_begin|> Osterberger <|doc_title_end|> <|doc_body_begin|> Osterberger is a surname. Notable pe\n",
      "<|doc_begin|> <|doc_id_begin|> 2474337 <|doc_id_end|> <|doc_offset_begin|> 0 <|doc_offset_end|> <|doc_title_begin|> Ryan McCurdy <|doc_title_end|> <|doc_body_begin|> Ryan McCurdy (born 23 May 1991) is\n",
      "<|doc_begin|> <|doc_id_begin|> 2474337 <|doc_id_end|> <|doc_offset_begin|> 91 <|doc_offset_end|>  appearances for Kingston in league play.\\n\\nVictoria Higlanders\\nIn 2017, McCurdy captained PDL side Vict\n",
      "<|doc_begin|> <|doc_id_begin|> 2474337 <|doc_id_end|> <|doc_offset_begin|> 182 <|doc_offset_end|>  season. On 4 November 2019, the club announced it would not be offering McCurdy a new contract for th\n"
     ]
    }
   ],
   "source": [
    "for toks in docs_chunks:\n",
    "    s = tokens_to_text(toks)\n",
    "    print(s[:200].replace('\\n', '\\\\n'))"
   ]
  },
  {
   "cell_type": "code",
   "execution_count": 58,
   "metadata": {},
   "outputs": [],
   "source": [
    "target_embs = model_ranker.run_enc_emb(target_chunks)\n",
    "docs_embs = model_ranker.run_enc_emb(docs_chunks)"
   ]
  },
  {
   "cell_type": "code",
   "execution_count": 59,
   "metadata": {},
   "outputs": [
    {
     "name": "stdout",
     "output_type": "stream",
     "text": [
      "0.259929 0.198473 0.211599 F\n",
      "0.214228 0.204655 0.272802 F\n",
      "0.147970 0.253623 0.364448 F\n",
      "0.325724 0.514725 0.540035 F\n",
      "0.350869 0.493751 0.501141 F\n",
      "0.576240 0.687341 0.609541 F\n",
      "0.253276 0.273880 0.550044 F\n",
      "0.249219 0.347751 0.539483 F\n",
      "0.490651 0.303308 0.554951 F\n",
      "0.807451 0.773970 0.613117 T\n",
      "0.656386 0.777317 0.622798 T\n",
      "0.631666 0.702860 0.766746 T\n"
     ]
    }
   ],
   "source": [
    "cosine = False\n",
    "cosine = True\n",
    "print_dist(target_embs, docs_embs, target_mask, cosine=cosine)"
   ]
  },
  {
   "cell_type": "code",
   "execution_count": 66,
   "metadata": {},
   "outputs": [
    {
     "name": "stdout",
     "output_type": "stream",
     "text": [
      "torch.Size([1, 100])\n",
      "0.126053 F\n",
      "0.104639 F\n",
      "0.176890 F\n",
      "0.075464 F\n",
      "0.085869 F\n",
      "0.099848 F\n",
      "0.568349 F\n",
      "0.253633 F\n",
      "0.432618 F\n",
      "0.131461 T\n",
      "0.046272 T\n",
      "0.021291 T\n"
     ]
    }
   ],
   "source": [
    "txt = 'El Charco del Cura Reservoir'\n",
    "# txt = 'Théodore Eugène César Ruyssen'\n",
    "# txt = 'Théodore Ruyssen'\n",
    "txt = 'orders in certain situations, and both required trade-offs'\n",
    "txt = 'Tritordeum hybrid crop'\n",
    "txt = 'etienne Lecroart ddd'\n",
    "txt = 'Ryan McCurdy'\n",
    "# txt = 'Osterberger'\n",
    "txt = 'Inge Glashörster'\n",
    "\n",
    "# txt = 'The graph sandwich problem for property Π is defined as follows:'\n",
    "cosine = True\n",
    "txt_tokens = text_to_tokens(txt, qbeg_tok=qbeg_tok, qend_tok=qend_tok)\n",
    "# txt_tokens = txt_tokens.repeat(3, 1)\n",
    "print(txt_tokens.shape)\n",
    "txt_embs = model_ranker.run_enc_emb(txt_tokens)\n",
    "print_dist(txt_embs, docs_embs, target_mask, cosine=cosine)\n"
   ]
  },
  {
   "cell_type": "code",
   "execution_count": 67,
   "metadata": {},
   "outputs": [
    {
     "data": {
      "text/plain": [
       "['0.000310',\n",
       " '0.000183',\n",
       " '0.002241',\n",
       " '0.000254',\n",
       " '0.000322',\n",
       " '0.000682',\n",
       " '0.693973',\n",
       " '0.005934',\n",
       " '0.294509',\n",
       " '0.001169',\n",
       " '0.000261',\n",
       " '0.000161']"
      ]
     },
     "execution_count": 67,
     "metadata": {},
     "output_type": "execute_result"
    }
   ],
   "source": [
    "\n",
    "rank = model_ranker.run_qs_infer(docs_chunks, txt_tokens)\n",
    "rank_str = [f'{r:.06f}' for r in rank.flatten()]\n",
    "rank_str"
   ]
  },
  {
   "cell_type": "code",
   "execution_count": 50,
   "metadata": {},
   "outputs": [
    {
     "data": {
      "text/plain": [
       "torch.Size([14, 100])"
      ]
     },
     "execution_count": 50,
     "metadata": {},
     "output_type": "execute_result"
    }
   ],
   "source": [
    "docs_chunks.shape"
   ]
  },
  {
   "cell_type": "code",
   "execution_count": 31,
   "metadata": {},
   "outputs": [
    {
     "data": {
      "text/plain": [
       "tensor([[0.8737, 0.8907, 0.7371, 0.5201, 0.4101, 0.8237, 0.7342, 0.8183, 0.8694,\n",
       "         0.6263, 0.6608, 0.6087, 0.2565, 0.3135, 0.3250]],\n",
       "       grad_fn=<SigmoidBackward0>)"
      ]
     },
     "execution_count": 31,
     "metadata": {},
     "output_type": "execute_result"
    }
   ],
   "source": [
    "rank = model_ranker(txt_tokens, docs_chunks)\n",
    "rank"
   ]
  },
  {
   "cell_type": "code",
   "execution_count": 35,
   "metadata": {},
   "outputs": [
    {
     "data": {
      "text/plain": [
       "tensor([[2.6538e-21, 3.7294e-11, 2.4412e-19, 3.4020e-23, 7.5630e-20, 3.8663e-25,\n",
       "         1.3986e-18, 7.2614e-22, 1.0000e+00, 1.0000e+00, 1.0000e+00, 4.7166e-09,\n",
       "         1.9997e-11, 1.3684e-08]], grad_fn=<SigmoidBackward0>)"
      ]
     },
     "execution_count": 35,
     "metadata": {},
     "output_type": "execute_result"
    }
   ],
   "source": [
    "rank = model_ranker(target_chunks, docs_chunks)\n",
    "rank"
   ]
  },
  {
   "cell_type": "code",
   "execution_count": 31,
   "metadata": {},
   "outputs": [
    {
     "data": {
      "text/plain": [
       "3"
      ]
     },
     "execution_count": 31,
     "metadata": {},
     "output_type": "execute_result"
    }
   ],
   "source": [
    "np.random.randint(0, 6)"
   ]
  },
  {
   "cell_type": "code",
   "execution_count": 2,
   "metadata": {},
   "outputs": [],
   "source": [
    "import torch"
   ]
  },
  {
   "cell_type": "code",
   "execution_count": 4,
   "metadata": {},
   "outputs": [],
   "source": [
    "device1 = torch.device('cpu')\n",
    "device2 = torch.device('cuda')\n",
    "device3 = torch.device('cpu')"
   ]
  },
  {
   "cell_type": "code",
   "execution_count": 5,
   "metadata": {},
   "outputs": [
    {
     "name": "stdout",
     "output_type": "stream",
     "text": [
      "False\n",
      "False\n",
      "True\n"
     ]
    }
   ],
   "source": [
    "print(device1 == device2)\n",
    "print(device2 == device3)\n",
    "print(device1 == device3)\n"
   ]
  },
  {
   "cell_type": "code",
   "execution_count": 7,
   "metadata": {},
   "outputs": [
    {
     "data": {
      "text/plain": [
       "('cpu', str)"
      ]
     },
     "execution_count": 7,
     "metadata": {},
     "output_type": "execute_result"
    }
   ],
   "source": [
    "device1.type, type(device1.type)"
   ]
  },
  {
   "cell_type": "code",
   "execution_count": 11,
   "metadata": {},
   "outputs": [
    {
     "data": {
      "text/plain": [
       "array([[ 0.5,  0.5,  0.5],\n",
       "       [ 1.7,  1.7,  1.7],\n",
       "       [-1. ,  7. , 33. ]])"
      ]
     },
     "execution_count": 11,
     "metadata": {},
     "output_type": "execute_result"
    }
   ],
   "source": [
    "import numpy as np\n",
    "toks = [\n",
    "    np.ones(3) * 0.5,\n",
    "    np.ones(3) * 1.7,\n",
    "    np.array([-1, 7, 33])\n",
    "]\n",
    "np.stack(toks, axis=0)"
   ]
  },
  {
   "cell_type": "code",
   "execution_count": 12,
   "metadata": {},
   "outputs": [
    {
     "data": {
      "text/plain": [
       "array([[ 0.5,  0.5,  0.5],\n",
       "       [ 1.7,  1.7,  1.7],\n",
       "       [-1. ,  7. , 33. ]])"
      ]
     },
     "execution_count": 12,
     "metadata": {},
     "output_type": "execute_result"
    }
   ],
   "source": [
    "np.array(toks)"
   ]
  },
  {
   "cell_type": "code",
   "execution_count": 13,
   "metadata": {},
   "outputs": [
    {
     "data": {
      "text/plain": [
       "True"
      ]
     },
     "execution_count": 13,
     "metadata": {},
     "output_type": "execute_result"
    }
   ],
   "source": [
    "np.allclose(np.array(toks), np.stack(toks, axis=0))"
   ]
  },
  {
   "cell_type": "code",
   "execution_count": null,
   "metadata": {},
   "outputs": [],
   "source": []
  },
  {
   "cell_type": "code",
   "execution_count": null,
   "metadata": {},
   "outputs": [],
   "source": []
  },
  {
   "cell_type": "code",
   "execution_count": null,
   "metadata": {},
   "outputs": [],
   "source": []
  },
  {
   "cell_type": "code",
   "execution_count": null,
   "metadata": {},
   "outputs": [],
   "source": []
  },
  {
   "cell_type": "code",
   "execution_count": null,
   "metadata": {},
   "outputs": [],
   "source": []
  },
  {
   "cell_type": "code",
   "execution_count": null,
   "metadata": {},
   "outputs": [],
   "source": []
  },
  {
   "cell_type": "code",
   "execution_count": null,
   "metadata": {},
   "outputs": [],
   "source": []
  },
  {
   "cell_type": "code",
   "execution_count": null,
   "metadata": {},
   "outputs": [],
   "source": []
  },
  {
   "cell_type": "code",
   "execution_count": null,
   "metadata": {},
   "outputs": [],
   "source": []
  },
  {
   "cell_type": "code",
   "execution_count": null,
   "metadata": {},
   "outputs": [],
   "source": []
  }
 ],
 "metadata": {
  "kernelspec": {
   "display_name": "mllm",
   "language": "python",
   "name": "python3"
  },
  "language_info": {
   "codemirror_mode": {
    "name": "ipython",
    "version": 3
   },
   "file_extension": ".py",
   "mimetype": "text/x-python",
   "name": "python",
   "nbconvert_exporter": "python",
   "pygments_lexer": "ipython3",
   "version": "3.10.14"
  }
 },
 "nbformat": 4,
 "nbformat_minor": 2
}
