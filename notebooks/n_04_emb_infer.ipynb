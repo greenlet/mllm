{
 "cells": [
  {
   "cell_type": "code",
   "execution_count": 1,
   "metadata": {},
   "outputs": [],
   "source": [
    "%load_ext autoreload\n",
    "%autoreload 2"
   ]
  },
  {
   "cell_type": "code",
   "execution_count": 2,
   "metadata": {},
   "outputs": [],
   "source": [
    "import os\n",
    "from pathlib import Path\n",
    "import sys\n",
    "from typing import Optional\n",
    "if '..' not in sys.path: sys.path.append('..')\n",
    "\n",
    "import numpy as np\n",
    "from matplotlib import pyplot as plt\n",
    "from pydantic_yaml import parse_yaml_file_as\n",
    "import torch\n",
    "from torch import nn\n",
    "from transformers import GPT2Tokenizer, AddedToken, PreTrainedTokenizer\n",
    "\n",
    "from mllm.data.wiki.dswiki import WikiDsLoader\n",
    "from mllm.exp.args import TOKENIZER_CFG_FNAME, ENCDEC_MODEL_CFG_FNAME, RANKER_MODEL_CFG_FNAME\n",
    "from mllm.model.mllm_encdec import MllmEncdecLevel\n",
    "from mllm.model.mllm_ranker import MllmRankerLevel\n",
    "from mllm.config.model import TokenizerCfg, MllmEncdecCfg, MllmRankerCfg\n",
    "from mllm.tokenization.chunk_tokenizer import calc_max_inp_size, gen_all_tokens, ChunkTokenizer, tokenizer_from_config\n",
    "\n"
   ]
  },
  {
   "cell_type": "code",
   "execution_count": 9,
   "metadata": {},
   "outputs": [],
   "source": [
    "DATA_PATH = Path(os.path.expandvars('$HOME')) / 'data'\n",
    "DS_DIR_PATH = DATA_PATH / 'wiki_20200501_en' / 'ch_100_fixed'\n",
    "\n",
    "# TRAIN_ENCDEC_PATH = DATA_PATH / 'train_mllm_encdec'\n",
    "# TRAIN_RANKER_PATH = DATA_PATH / 'train_mllm_ranker_qrels'\n",
    "# encdec_subdir = 'encdec-20240718_221554-wiki_20200501_en-ch_100_fixed'\n",
    "# ranker_subdir = 'ranker-20240903_215749-msmarco-fever'\n",
    "\n",
    "TRAIN_ENCDEC_PATH = DATA_PATH / 'train_mllm_encdec_0'\n",
    "TRAIN_RANKER_PATH = DATA_PATH / 'train_mllm_ranker_qrels_0'\n",
    "encdec_subdir = 'encdec-lvl0-20241026_120743-wiki_20200501_en-ch_100_fixed-enc-lrs2-embmatFalse-d256-h8-dec-lrs2-seqlen100-d256-h8'\n",
    "ranker_subdir = 'ranker-20241021_062053-msmarco-fever'\n",
    "\n",
    "encdec_train_path = TRAIN_ENCDEC_PATH / encdec_subdir\n",
    "ranker_train_path = TRAIN_RANKER_PATH / ranker_subdir\n",
    "encdec_snapshot_fpath = encdec_train_path / 'best.pth'\n",
    "ranker_snapshot_fpath = ranker_train_path / 'best.pth'\n",
    "encdec_tkz_cfg_fpath = encdec_train_path / TOKENIZER_CFG_FNAME\n",
    "ranker_tkz_cfg_fpath = ranker_train_path / TOKENIZER_CFG_FNAME\n",
    "encdec_model_cfg_fpath = encdec_train_path / ENCDEC_MODEL_CFG_FNAME\n",
    "ranker_model_cfg_fpath = ranker_train_path / RANKER_MODEL_CFG_FNAME"
   ]
  },
  {
   "cell_type": "code",
   "execution_count": 12,
   "metadata": {},
   "outputs": [
    {
     "name": "stdout",
     "output_type": "stream",
     "text": [
      "cpu\n"
     ]
    }
   ],
   "source": [
    "docs_batch_size = 5\n",
    "max_chunks_per_doc = 3\n",
    "model_level = 0\n",
    "device_name = 'cpu'\n",
    "# device_name = 'cuda'\n",
    "\n",
    "device = torch.device(device_name)\n",
    "print(device)"
   ]
  },
  {
   "cell_type": "code",
   "execution_count": 11,
   "metadata": {},
   "outputs": [],
   "source": [
    "encdec_tkz_cfg = parse_yaml_file_as(TokenizerCfg, encdec_tkz_cfg_fpath)\n",
    "ranker_tkz_cfg = parse_yaml_file_as(TokenizerCfg, ranker_tkz_cfg_fpath)\n",
    "assert encdec_tkz_cfg == ranker_tkz_cfg\n",
    "tokenizer = tokenizer_from_config(encdec_tkz_cfg)\n",
    "tok_dict = encdec_tkz_cfg.custom_tokens\n",
    "pad_tok, qbeg_tok, qend_tok = tok_dict['pad'].ind, tok_dict['query_begin'].ind, tok_dict['query_end'].ind"
   ]
  },
  {
   "cell_type": "code",
   "execution_count": 6,
   "metadata": {},
   "outputs": [
    {
     "name": "stdout",
     "output_type": "stream",
     "text": [
      "Loading cache from /home/misha/data/wiki_20200501_en/ch_100_fixed/.mllm/ds.csv\n",
      "Loaded dataset size: 50989207\n"
     ]
    }
   ],
   "source": [
    "ds_loader = WikiDsLoader(\n",
    "    ds_path=DS_DIR_PATH, docs_batch_size=docs_batch_size, max_chunks_per_doc=max_chunks_per_doc,\n",
    "    pad_tok=pad_tok, qbeg_tok=qbeg_tok, qend_tok=qend_tok, device=device,\n",
    ")\n",
    "ds_loader.shuffle(train=True)\n",
    "ds_loader.shuffle(train=False)\n",
    "inp_len = ds_loader.emb_chunk_size if ds_loader.fixed_size else calc_max_inp_size(ds_loader.emb_chunk_size)"
   ]
  },
  {
   "cell_type": "code",
   "execution_count": 13,
   "metadata": {},
   "outputs": [],
   "source": [
    "def tokens_to_text(tokens: torch.Tensor) -> str:\n",
    "    tokens = tokens.flatten()\n",
    "    tokens = tokens[tokens != pad_tok]\n",
    "    tokens = list(tokens)\n",
    "    s = tokenizer.decode(tokens)\n",
    "    return s\n",
    "\n",
    "def distance(x: np.ndarray, y: np.ndarray, cosine: bool = False):\n",
    "    if not cosine:\n",
    "        return np.linalg.norm(x - y)\n",
    "    x_norm, y_norm = np.linalg.norm(x), np.linalg.norm(y)\n",
    "    return np.sum(x * y) / (x_norm * y_norm)\n",
    "\n",
    "def text_to_tokens(s: str, qbeg_tok: Optional[int] = None, qend_tok: Optional[int] = None) -> torch.Tensor:\n",
    "    tokens = tokenizer(s)['input_ids']\n",
    "    if qbeg_tok is not None:\n",
    "        assert qend_tok is not None\n",
    "        tokens = [qbeg_tok, *tokens, qend_tok]\n",
    "    n_tokens = len(tokens)\n",
    "    n_padded = n_tokens // inp_len + (n_tokens % inp_len > 0)\n",
    "    res = np.full((n_padded * inp_len, ), pad_tok, dtype=np.int32)\n",
    "    res[:n_tokens] = tokens\n",
    "    res = torch.from_numpy(res).to(device)\n",
    "    res = res.reshape(n_padded, inp_len)\n",
    "    return res\n",
    "\n",
    "def print_dist(target_embs: torch.Tensor, docs_embs: torch.Tensor, target_mask: torch.Tensor, cosine: bool = True):\n",
    "    for i, docs_emb in enumerate(docs_embs.detach().numpy()):\n",
    "        for target_emb in target_embs.detach().numpy():\n",
    "            dist = distance(target_emb, docs_emb, cosine)\n",
    "            print(f'{dist:0.6f} ', end='')\n",
    "        sfx = 'T' if target_mask[i] else 'F'\n",
    "        print(sfx)\n"
   ]
  },
  {
   "cell_type": "code",
   "execution_count": 14,
   "metadata": {},
   "outputs": [
    {
     "name": "stdout",
     "output_type": "stream",
     "text": [
      "vocab_encoder.src_word_emb.weight (50271, 256) -0.010897171 -2.1372882e-06 0.010897173\n",
      "vocab_encoder.layer_norm.weight (256,) -0.099881224 -0.0013937813 0.099629484\n",
      "vocab_encoder.layer_norm.bias (256,) -0.09951439 0.0008212314 0.09990411\n",
      "vocab_decoder.word_prj.weight (50271, 256) -0.010897174 3.2899948e-06 0.010897171\n",
      "encoder.a_em () -0.04300162 -0.04300162 -0.04300162\n",
      "encoder.layer_stack.0.slf_attn.w_qs.weight (256, 256) -0.10825316 0.0003005474 0.10825196\n",
      "encoder.layer_stack.0.slf_attn.w_ks.weight (256, 256) -0.10824241 -5.927371e-05 0.10825134\n",
      "encoder.layer_stack.0.slf_attn.w_vs.weight (256, 256) -0.108251415 0.00027980836 0.10825148\n",
      "encoder.layer_stack.0.slf_attn.fc.weight (256, 256) -0.10825036 -5.612042e-05 0.10825201\n",
      "encoder.layer_stack.0.slf_attn.layer_norm.weight (256,) -0.099715784 -0.0025062833 0.099770285\n",
      "encoder.layer_stack.0.slf_attn.layer_norm.bias (256,) -0.09849216 0.0021831864 0.09905251\n",
      "encoder.layer_stack.0.pos_ffn.w_1.weight (1024, 256) -0.068464465 -1.3693819e-05 0.068465166\n",
      "encoder.layer_stack.0.pos_ffn.w_1.bias (1024,) -0.09968463 -0.00019339105 0.09993149\n",
      "encoder.layer_stack.0.pos_ffn.w_2.weight (256, 1024) -0.06846446 -6.975175e-05 0.06846512\n",
      "encoder.layer_stack.0.pos_ffn.w_2.bias (256,) -0.098454215 -0.0023497788 0.09890983\n",
      "encoder.layer_stack.0.pos_ffn.layer_norm.weight (256,) -0.09987563 -0.004430888 0.09933845\n",
      "encoder.layer_stack.0.pos_ffn.layer_norm.bias (256,) -0.09872688 0.006804394 0.09902946\n",
      "encoder.layer_stack.1.slf_attn.w_qs.weight (256, 256) -0.10825023 7.8718636e-05 0.108248234\n",
      "encoder.layer_stack.1.slf_attn.w_ks.weight (256, 256) -0.10825159 -2.6736503e-05 0.10824605\n",
      "encoder.layer_stack.1.slf_attn.w_vs.weight (256, 256) -0.10825148 0.00015464915 0.10825257\n",
      "encoder.layer_stack.1.slf_attn.fc.weight (256, 256) -0.1082521 0.00037501525 0.108249344\n",
      "encoder.layer_stack.1.slf_attn.layer_norm.weight (256,) -0.09900198 -0.00023310375 0.09871731\n",
      "encoder.layer_stack.1.slf_attn.layer_norm.bias (256,) -0.098810874 0.0022023208 0.09905151\n",
      "encoder.layer_stack.1.pos_ffn.w_1.weight (1024, 256) -0.068464465 9.041747e-05 0.06846503\n",
      "encoder.layer_stack.1.pos_ffn.w_1.bias (1024,) -0.09997963 -0.0019134899 0.09987476\n",
      "encoder.layer_stack.1.pos_ffn.w_2.weight (256, 1024) -0.06846526 4.3418375e-05 0.06846531\n",
      "encoder.layer_stack.1.pos_ffn.w_2.bias (256,) -0.09943167 -0.0024397643 0.09989095\n",
      "encoder.layer_stack.1.pos_ffn.layer_norm.weight (256,) -0.099258974 0.001617945 0.09991505\n",
      "encoder.layer_stack.1.pos_ffn.layer_norm.bias (256,) -0.0996054 0.0018104482 0.0952966\n",
      "encoder.layer_norm.weight (256,) -0.09996394 0.00450396 0.09992447\n",
      "encoder.layer_norm.bias (256,) -0.09597235 -0.0029830462 0.09965201\n",
      "decoder.A_emb2sec (100, 256, 256) -0.008113918 -1.3281181e-06 0.00811391\n",
      "decoder.att_layers.0.slf_attn.w_qs.weight (256, 256) -0.10825016 0.00012214022 0.108249664\n",
      "decoder.att_layers.0.slf_attn.w_ks.weight (256, 256) -0.10825067 1.823518e-05 0.10825065\n",
      "decoder.att_layers.0.slf_attn.w_vs.weight (256, 256) -0.10824893 -6.892789e-05 0.10824916\n",
      "decoder.att_layers.0.slf_attn.fc.weight (256, 256) -0.10825104 6.2892213e-06 0.10824787\n",
      "decoder.att_layers.0.slf_attn.layer_norm.weight (256,) -0.09953453 -0.00029765768 0.0993402\n",
      "decoder.att_layers.0.slf_attn.layer_norm.bias (256,) -0.09954295 -0.004546377 0.09841462\n",
      "decoder.att_layers.0.pos_ffn.w_1.weight (1024, 256) -0.06846524 -3.7664882e-05 0.0684633\n",
      "decoder.att_layers.0.pos_ffn.w_1.bias (1024,) -0.09984336 -0.00047150644 0.0999128\n",
      "decoder.att_layers.0.pos_ffn.w_2.weight (256, 1024) -0.06846465 2.6998205e-05 0.06846421\n",
      "decoder.att_layers.0.pos_ffn.w_2.bias (256,) -0.0991286 -0.0007848351 0.09905328\n",
      "decoder.att_layers.0.pos_ffn.layer_norm.weight (256,) -0.09962859 0.0017027885 0.099936485\n",
      "decoder.att_layers.0.pos_ffn.layer_norm.bias (256,) -0.09634446 0.0042743427 0.09898014\n",
      "decoder.att_layers.1.slf_attn.w_qs.weight (256, 256) -0.10824631 -0.000102533144 0.10825138\n",
      "decoder.att_layers.1.slf_attn.w_ks.weight (256, 256) -0.10825215 -0.00018879217 0.10825307\n",
      "decoder.att_layers.1.slf_attn.w_vs.weight (256, 256) -0.1082528 -1.2451295e-05 0.10825307\n",
      "decoder.att_layers.1.slf_attn.fc.weight (256, 256) -0.10824928 0.00010980608 0.10825103\n",
      "decoder.att_layers.1.slf_attn.layer_norm.weight (256,) -0.098791674 0.004011816 0.09924743\n",
      "decoder.att_layers.1.slf_attn.layer_norm.bias (256,) -0.099350214 0.0013377583 0.09958937\n",
      "decoder.att_layers.1.pos_ffn.w_1.weight (1024, 256) -0.0684653 1.5828044e-05 0.06846399\n",
      "decoder.att_layers.1.pos_ffn.w_1.bias (1024,) -0.09982058 -0.0009526124 0.099683605\n",
      "decoder.att_layers.1.pos_ffn.w_2.weight (256, 1024) -0.06846523 -5.883217e-05 0.068465166\n",
      "decoder.att_layers.1.pos_ffn.w_2.bias (256,) -0.098440304 -0.005974918 0.09939339\n",
      "decoder.att_layers.1.pos_ffn.layer_norm.weight (256,) -0.09966703 0.00031749078 0.098559834\n",
      "decoder.att_layers.1.pos_ffn.layer_norm.bias (256,) -0.0998195 0.0027402136 0.09972254\n"
     ]
    }
   ],
   "source": [
    "model_encdec_cfg = parse_yaml_file_as(MllmEncdecCfg, encdec_model_cfg_fpath)\n",
    "model_encdec = MllmEncdecLevel(model_encdec_cfg, model_level).to(device)\n",
    "checkpoint_encdec = torch.load(encdec_snapshot_fpath)\n",
    "model_encdec.load_state_dict(checkpoint_encdec['model'], strict=False)\n",
    "model_encdec.eval()\n",
    "None"
   ]
  },
  {
   "cell_type": "code",
   "execution_count": 15,
   "metadata": {},
   "outputs": [
    {
     "data": {
      "text/plain": [
       "tensor([[15496,   612, 50267, 50267, 50267, 50267, 50267, 50267, 50267, 50267,\n",
       "         50267, 50267, 50267, 50267, 50267, 50267, 50267, 50267, 50267, 50267,\n",
       "         50267, 50267, 50267, 50267, 50267, 50267, 50267, 50267, 50267, 50267,\n",
       "         50267, 50267, 50267, 50267, 50267, 50267, 50267, 50267, 50267, 50267,\n",
       "         50267, 50267, 50267, 50267, 50267, 50267, 50267, 50267, 50267, 50267,\n",
       "         50267, 50267, 50267, 50267, 50267, 50267, 50267, 50267, 50267, 50267,\n",
       "         50267, 50267, 50267, 50267, 50267, 50267, 50267, 50267, 50267, 50267,\n",
       "         50267, 50267, 50267, 50267, 50267, 50267, 50267, 50267, 50267, 50267,\n",
       "         50267, 50267, 50267, 50267, 50267, 50267, 50267, 50267, 50267, 50267,\n",
       "         50267, 50267, 50267, 50267, 50267, 50267, 50267, 50267, 50267, 50267]],\n",
       "       dtype=torch.int32)"
      ]
     },
     "execution_count": 15,
     "metadata": {},
     "output_type": "execute_result"
    }
   ],
   "source": [
    "text_to_tokens('Hello there')"
   ]
  },
  {
   "cell_type": "code",
   "execution_count": 16,
   "metadata": {},
   "outputs": [
    {
     "data": {
      "text/plain": [
       "(torch.Size([13, 100]),\n",
       " torch.Size([2, 100]),\n",
       " tensor([False, False, False, False, False, False, False, False,  True,  True,\n",
       "         False, False, False]))"
      ]
     },
     "execution_count": 16,
     "metadata": {},
     "output_type": "execute_result"
    }
   ],
   "source": [
    "i = 10\n",
    "batch = ds_loader.get_batch(i, train=True)\n",
    "docs_chunks, target_chunks, target_mask = batch.gen_tensors()\n",
    "docs_chunks.shape, target_chunks.shape, target_mask"
   ]
  },
  {
   "cell_type": "code",
   "execution_count": 17,
   "metadata": {},
   "outputs": [
    {
     "data": {
      "text/plain": [
       "'<|query_begin|> City West, Los AngelesCity West, also known as Central City West, is a name sometimes given to refer to the eastern edge of the neighborhood of Westlake in Los Angeles, California. The term is often used by residents, newspapers, and developers, as part of an attempt to include the area immediately west of the 110 Freeway as a part of Downtown Los Angeles. Although City West is occasionally considered either part of  or an outlying area of Westlake or Echo Park, its high-rise skyline mimics the adjacent Downtown Financial District more than any other surrounding neighborhood.\\n\\nThe area has also been called the \"New Jersey of downtown LA,\" though residents don\\'t actually refer to it as such.\\n\\nReferences\\n\\nCategory:Neighborhoods in Los Angeles\\nCategory:Pico-Union, Los Angeles <|query_end|>'"
      ]
     },
     "execution_count": 17,
     "metadata": {},
     "output_type": "execute_result"
    }
   ],
   "source": [
    "s_target = tokens_to_text(target_chunks)\n",
    "s_target"
   ]
  },
  {
   "cell_type": "code",
   "execution_count": 18,
   "metadata": {},
   "outputs": [
    {
     "name": "stdout",
     "output_type": "stream",
     "text": [
      "<|doc_begin|> <|doc_id_begin|> 3866606 <|doc_id_end|> <|doc_offset_begin|> 0 <|doc_offset_end|> <|doc_title_begin|> List of Sex and the City episodes <|doc_title_end|> <|doc_body_begin|> The following\n",
      "<|doc_begin|> <|doc_id_begin|> 3866606 <|doc_id_end|> <|doc_offset_begin|> 91 <|doc_offset_end|>  American comedy-drama television series episodes\\nCategory:Lists of American romance television series \n",
      "<|doc_begin|> <|doc_id_begin|> 1614478 <|doc_id_end|> <|doc_offset_begin|> 0 <|doc_offset_end|> <|doc_title_begin|> Walk Right Now <|doc_title_end|> <|doc_body_begin|> \"Walk Right Now\" is a 1981 song \n",
      "<|doc_begin|> <|doc_id_begin|> 1614478 <|doc_id_end|> <|doc_offset_begin|> 91 <|doc_offset_end|>  therefore delivering the message, \"walk right now/I'm not playing\" in a chant-like phrase.\\n\\nWhen relea\n",
      "<|doc_begin|> <|doc_id_begin|> 1614478 <|doc_id_end|> <|doc_offset_begin|> 182 <|doc_offset_end|>  few shows, meaning a performance of the song is very hard to track down.\\n\\nPersonnel\\nWritten and compo\n",
      "<|doc_begin|> <|doc_id_begin|> 109570 <|doc_id_end|> <|doc_offset_begin|> 0 <|doc_offset_end|> <|doc_title_begin|> LIG4 <|doc_title_end|> <|doc_body_begin|> DNA ligase 4 is an enzyme that in humans is\n",
      "<|doc_begin|> <|doc_id_begin|> 109570 <|doc_id_end|> <|doc_offset_begin|> 91 <|doc_offset_end|>  with XRCC4, and further interacts with the DNA-dependent protein kinase (DNA-PK) and XLF/Cernunnos, whi\n",
      "<|doc_begin|> <|doc_id_begin|> 109570 <|doc_id_end|> <|doc_offset_begin|> 182 <|doc_offset_end|> IG4 Syndrome\\nIn humans, deficiency of DNA ligase 4 results in a clinical condition known as LIG4 syndro\n",
      "<|doc_begin|> <|doc_id_begin|> 1898291 <|doc_id_end|> <|doc_offset_begin|> 0 <|doc_offset_end|> <|doc_title_begin|> City West, Los Angeles <|doc_title_end|> <|doc_body_begin|> City West, also known as\n",
      "<|doc_begin|> <|doc_id_begin|> 1898291 <|doc_id_end|> <|doc_offset_begin|> 91 <|doc_offset_end|> lying area of Westlake or Echo Park, its high-rise skyline mimics the adjacent Downtown Financial Distr\n",
      "<|doc_begin|> <|doc_id_begin|> 5694311 <|doc_id_end|> <|doc_offset_begin|> 630 <|doc_offset_end|>  himself, when asked why he had fixed the punishment of death for most offences, answered that he cons\n",
      "<|doc_begin|> <|doc_id_begin|> 5694311 <|doc_id_end|> <|doc_offset_begin|> 720 <|doc_offset_end|>  BC. The homicide law is a highly fragmented inscription but states that it is up to the victim's rela\n",
      "<|doc_begin|> <|doc_id_begin|> 5694311 <|doc_id_end|> <|doc_offset_begin|> 810 <|doc_offset_end|> � ‘κ [π]ρονοί[α]ς [κ]τ[ένει τίς τινα, φεύγ]ε[ν]', which is ambiguous and difficult to translate. One p\n"
     ]
    }
   ],
   "source": [
    "for toks in docs_chunks:\n",
    "    s = tokens_to_text(toks)\n",
    "    print(s[:200].replace('\\n', '\\\\n'))"
   ]
  },
  {
   "cell_type": "code",
   "execution_count": 19,
   "metadata": {},
   "outputs": [],
   "source": [
    "target_embs = model_encdec.run_enc_emb(target_chunks)\n",
    "docs_embs = model_encdec.run_enc_emb(docs_chunks)"
   ]
  },
  {
   "cell_type": "code",
   "execution_count": 20,
   "metadata": {},
   "outputs": [
    {
     "name": "stdout",
     "output_type": "stream",
     "text": [
      "0.021826 0.064542 F\n",
      "0.036552 0.154004 F\n",
      "0.073540 0.040314 F\n",
      "0.052470 0.048054 F\n",
      "0.025565 0.157371 F\n",
      "0.105763 -0.073031 F\n",
      "-0.046516 -0.008633 F\n",
      "-0.115693 -0.037547 F\n",
      "0.137008 -0.044763 T\n",
      "0.075081 -0.015282 T\n",
      "0.023856 0.165441 F\n",
      "0.109175 -0.019351 F\n",
      "-0.049983 -0.174804 F\n"
     ]
    }
   ],
   "source": [
    "cosine = False\n",
    "cosine = True\n",
    "print_dist(target_embs, docs_embs, target_mask, cosine=cosine)"
   ]
  },
  {
   "cell_type": "code",
   "execution_count": 79,
   "metadata": {},
   "outputs": [
    {
     "name": "stdout",
     "output_type": "stream",
     "text": [
      "vocab_encoder.src_word_emb.weight (50271, 256) -0.010897174 -8.0230694e-07 0.010897171\n",
      "vocab_encoder.layer_norm.weight (256,) -0.09996011 0.002452353 0.0998353\n",
      "vocab_encoder.layer_norm.bias (256,) -0.09894606 -0.0014543043 0.098527074\n",
      "encoder.a_em () 0.09004872 0.09004872 0.09004872\n",
      "encoder.layer_stack.0.slf_attn.w_qs.weight (256, 256) -0.10825315 0.00013853457 0.108247146\n",
      "encoder.layer_stack.0.slf_attn.w_ks.weight (256, 256) -0.108252436 0.00011188915 0.108251445\n",
      "encoder.layer_stack.0.slf_attn.w_vs.weight (256, 256) -0.10824739 0.00022007307 0.10824797\n",
      "encoder.layer_stack.0.slf_attn.fc.weight (256, 256) -0.10824961 0.00014514917 0.10825284\n",
      "encoder.layer_stack.0.slf_attn.layer_norm.weight (256,) -0.09991062 0.006778831 0.09973943\n",
      "encoder.layer_stack.0.slf_attn.layer_norm.bias (256,) -0.09960178 -0.0046932297 0.09947876\n",
      "encoder.layer_stack.0.pos_ffn.w_1.weight (1024, 256) -0.0684649 5.3948297e-05 0.068465285\n",
      "encoder.layer_stack.0.pos_ffn.w_1.bias (1024,) -0.09996933 0.00040751696 0.09993593\n",
      "encoder.layer_stack.0.pos_ffn.w_2.weight (256, 1024) -0.068464465 1.6364935e-05 0.06846524\n",
      "encoder.layer_stack.0.pos_ffn.w_2.bias (256,) -0.09997957 0.0010143847 0.099746406\n",
      "encoder.layer_stack.0.pos_ffn.layer_norm.weight (256,) -0.09979897 0.002435966 0.09972949\n",
      "encoder.layer_stack.0.pos_ffn.layer_norm.bias (256,) -0.09907605 0.002673266 0.09825591\n",
      "encoder.layer_stack.1.slf_attn.w_qs.weight (256, 256) -0.108252324 -3.6885904e-05 0.1082516\n",
      "encoder.layer_stack.1.slf_attn.w_ks.weight (256, 256) -0.1082509 7.633884e-06 0.10824995\n",
      "encoder.layer_stack.1.slf_attn.w_vs.weight (256, 256) -0.10824806 -0.00052938645 0.10825046\n",
      "encoder.layer_stack.1.slf_attn.fc.weight (256, 256) -0.10824975 -0.00010067315 0.10825164\n",
      "encoder.layer_stack.1.slf_attn.layer_norm.weight (256,) -0.0995317 -0.0058074603 0.09613144\n",
      "encoder.layer_stack.1.slf_attn.layer_norm.bias (256,) -0.09894307 0.0011485105 0.09941665\n",
      "encoder.layer_stack.1.pos_ffn.w_1.weight (1024, 256) -0.06846482 -0.00017792097 0.06846518\n",
      "encoder.layer_stack.1.pos_ffn.w_1.bias (1024,) -0.09962793 0.0017607731 0.09997129\n",
      "encoder.layer_stack.1.pos_ffn.w_2.weight (256, 1024) -0.06846531 -0.00015082766 0.068463966\n",
      "encoder.layer_stack.1.pos_ffn.w_2.bias (256,) -0.09893649 0.0011128087 0.09919633\n",
      "encoder.layer_stack.1.pos_ffn.layer_norm.weight (256,) -0.09995148 0.001842032 0.09843429\n",
      "encoder.layer_stack.1.pos_ffn.layer_norm.bias (256,) -0.09993446 0.0009032566 0.09993308\n",
      "encoder.layer_norm.weight (256,) -0.09936333 0.0027532426 0.09806138\n",
      "encoder.layer_norm.bias (256,) -0.09824897 0.0034417557 0.09962133\n",
      "decoder.w.weight (256, 256) -0.10823787 4.3609147e-05 0.10825289\n",
      "decoder.layer_norm.weight (256,) -0.09981865 0.0037350743 0.09973234\n",
      "decoder.layer_norm.bias (256,) -0.09984919 -0.00825671 0.09888097\n"
     ]
    }
   ],
   "source": [
    "inp_len = ds_loader.emb_chunk_size if ds_loader.fixed_size else calc_max_inp_size(ds_loader.emb_chunk_size)\n",
    "model_ranker_cfg = parse_yaml_file_as(MllmRankerCfg, ranker_model_cfg_fpath)\n",
    "model_ranker = MllmRankerLevel(model_ranker_cfg, model_level).to(device)\n",
    "checkpoint_ranker = torch.load(ranker_snapshot_fpath)\n",
    "model_ranker.load_state_dict(checkpoint_ranker['model'])\n",
    "model_ranker.eval()\n",
    "None"
   ]
  },
  {
   "cell_type": "code",
   "execution_count": 80,
   "metadata": {},
   "outputs": [
    {
     "data": {
      "text/plain": [
       "(torch.Size([25, 100]),\n",
       " torch.Size([3, 100]),\n",
       " tensor([ True,  True,  True, False, False, False, False, False, False, False,\n",
       "         False, False, False, False, False, False, False, False, False, False,\n",
       "         False, False, False, False, False]))"
      ]
     },
     "execution_count": 80,
     "metadata": {},
     "output_type": "execute_result"
    }
   ],
   "source": [
    "i = 12\n",
    "batch = ds_loader.get_batch(i, train=True)\n",
    "docs_chunks, target_chunks, target_mask = batch.gen_tensors()\n",
    "docs_chunks.shape, target_chunks.shape, target_mask"
   ]
  },
  {
   "cell_type": "code",
   "execution_count": 81,
   "metadata": {},
   "outputs": [
    {
     "data": {
      "text/plain": [
       "'<|query_begin|> TritordeumTritordeum is a hybrid crop, obtained by crossing durum wheat with the wild barley Hordeum chilense. It has less gliadin (gluten) than wheat, but still performs well in breads, both in terms of dough rising and texture qualities, and in taste-testing, where it substantially outperformed gluten-free breads. It has ten times more lutein, more oleic acid, and more fiber than wheat, giving products made from it a yellower hue and a pleasant flavor profile.\\n\\nUnder development by the Spanish National Research Council since 1977, it was launched onto the market in April 2013 by the start-up Agrasys company created under the auspices of the University of Barcelona to commercialize the cereal. It is planted on about 1300 ha in Portugal, Spain, France, Italy and Turkey. It does better in hotter and drier growing conditions than wheat, using less water. Because of this water-saving feature, it won first prize for a Sustainable Ingredient in the 2018 Sustainable Food Awards organized by Ecovia Intelligence.\\n\\nReferences\\n\\nCategory:Cereals\\nCategory:Pooideae\\nCategory:Food plant hybrids <|query_end|>'"
      ]
     },
     "execution_count": 81,
     "metadata": {},
     "output_type": "execute_result"
    }
   ],
   "source": [
    "s_target = tokens_to_text(target_chunks)\n",
    "s_target"
   ]
  },
  {
   "cell_type": "code",
   "execution_count": 82,
   "metadata": {},
   "outputs": [
    {
     "name": "stdout",
     "output_type": "stream",
     "text": [
      "<|doc_begin|> <|doc_id_begin|> 3382600 <|doc_id_end|> <|doc_offset_begin|> 0 <|doc_offset_end|> <|doc_title_begin|> Tritordeum <|doc_title_end|> <|doc_body_begin|> Tritordeum is a hybrid crop, obtaine\n",
      "<|doc_begin|> <|doc_id_begin|> 3382600 <|doc_id_end|> <|doc_offset_begin|> 91 <|doc_offset_end|> leic acid, and more fiber than wheat, giving products made from it a yellower hue and a pleasant flavor\n",
      "<|doc_begin|> <|doc_id_begin|> 3382600 <|doc_id_end|> <|doc_offset_begin|> 182 <|doc_offset_end|>  It does better in hotter and drier growing conditions than wheat, using less water. Because of this w\n",
      "<|doc_begin|> <|doc_id_begin|> 5770866 <|doc_id_end|> <|doc_offset_begin|> 0 <|doc_offset_end|> <|doc_title_begin|> Birami <|doc_title_end|> <|doc_body_begin|> Birami is a panchayat village in Rajasth\n",
      "<|doc_begin|> <|doc_id_begin|> 5770866 <|doc_id_end|> <|doc_offset_begin|> 91 <|doc_offset_end|> \\nGeography\\nThe village of Birami is 32 km by road southeast of the city of Jodhpur, located between the\n",
      "<|doc_begin|> <|doc_id_begin|> 5770866 <|doc_id_end|> <|doc_offset_begin|> 182 <|doc_offset_end|>  Tanawara, 30 km by road to the west.\\n\\nDemographics \\nIn the 2001 census, the village of Birami had 1,7\n",
      "<|doc_begin|> <|doc_id_begin|> 5770866 <|doc_id_end|> <|doc_offset_begin|> 273 <|doc_offset_end|> External links \\n \\n\\nCategory:Villages in Jodhpur district <|doc_body_end|> <|doc_end|>\n",
      "<|doc_begin|> <|doc_id_begin|> 2149109 <|doc_id_end|> <|doc_offset_begin|> 0 <|doc_offset_end|> <|doc_title_begin|> Ringer T-shirt <|doc_title_end|> <|doc_body_begin|> A ringer T-shirt is a T-shirt in\n",
      "<|doc_begin|> <|doc_id_begin|> 2149109 <|doc_id_end|> <|doc_offset_begin|> 91 <|doc_offset_end|> and-roll subculture. \\n\\nRingers grew in popularity even more as the 1970s began and remained popular thr\n",
      "<|doc_begin|> <|doc_id_begin|> 2149109 <|doc_id_end|> <|doc_offset_begin|> 182 <|doc_offset_end|> :1950s fashion\\nCategory:1970s fashion\\nCategory:2000s fashion\\nCategory:T-shirts <|doc_body_end|> <|doc_\n",
      "<|doc_begin|> <|doc_id_begin|> 4176085 <|doc_id_end|> <|doc_offset_begin|> 0 <|doc_offset_end|> <|doc_title_begin|> Étienne Lécroart <|doc_title_end|> <|doc_body_begin|> Étienne Lécroart (born 1960) i\n",
      "<|doc_begin|> <|doc_id_begin|> 4176085 <|doc_id_end|> <|doc_offset_begin|> 91 <|doc_offset_end|>  participates in several musical bands.\\n\\nAwards\\n 1999 : Lauréat du Trophée Presse-Citron, best French p\n",
      "<|doc_begin|> <|doc_id_begin|> 4176085 <|doc_id_end|> <|doc_offset_begin|> 182 <|doc_offset_end|>  et Tic (Hors Gabarit - 1995)\\nLa vie exemplaire de Saint Sinus (Cornélius - 1995)\\nPoil au Cupidon (Glé\n",
      "<|doc_begin|> <|doc_id_begin|> 4176085 <|doc_id_end|> <|doc_offset_begin|> 273 <|doc_offset_end|> uil - 1998)\\nRatatouille (Le Seuil - 1999)\\nCercle vicieux (L'Association - 2000) — the first half of th\n",
      "<|doc_begin|> <|doc_id_begin|> 4176085 <|doc_id_end|> <|doc_offset_begin|> 364 <|doc_offset_end|> énat - 2002)\\nSuperlipopette (Glénat - 2003)\\nLe Cycle (L'Association - 2003)\\nOupus 2 (L'Association - 2\n",
      "<|doc_begin|> <|doc_id_begin|> 1258156 <|doc_id_end|> <|doc_offset_begin|> 546 <|doc_offset_end|>  (Liquidambar styraciflua), and Pohutukawa tree (Metrosideros excelsa).  Leading up to the study one o\n",
      "<|doc_begin|> <|doc_id_begin|> 1258156 <|doc_id_end|> <|doc_offset_begin|> 637 <|doc_offset_end|>  author on the publication.\\n\\nLead author Deborah Springer said, \"Just as people who travel to South Am\n",
      "<|doc_begin|> <|doc_id_begin|> 1258156 <|doc_id_end|> <|doc_offset_begin|> 727 <|doc_offset_end|>  Papua New Guinea and Northern Australia. Cases have also been reported in other regions, indicating i\n",
      "<|doc_begin|> <|doc_id_begin|> 1258156 <|doc_id_end|> <|doc_offset_begin|> 818 <|doc_offset_end|>  extremely rapidly within white blood cells.\\n\\nIn the United States, C. gattii serotype B, subtype VGII\n",
      "<|doc_begin|> <|doc_id_begin|> 1258156 <|doc_id_end|> <|doc_offset_begin|> 908 <|doc_offset_end|>  from Washington, and one each from Idaho and California. Slightly more than half of these case were i\n",
      "<|doc_begin|> <|doc_id_begin|> 3563517 <|doc_id_end|> <|doc_offset_begin|> 637 <|doc_offset_end|> \\n\\nTours\\nThe band has toured with Despised Icon, Parkway Drive, Impending Doom, Danzig, Dimmu Borgir, V\n",
      "<|doc_begin|> <|doc_id_begin|> 3563517 <|doc_id_end|> <|doc_offset_begin|> 727 <|doc_offset_end|>, The Warriors, and Terror.\\nThey were featured on The Atticus Metal Tour with Emmure, All Shall Perish,\n",
      "<|doc_begin|> <|doc_id_begin|> 3563517 <|doc_id_end|> <|doc_offset_begin|> 818 <|doc_offset_end|> imation of the Nation tour.\\nOn January 20, 2010, it was announced that Winds of Plague would be playin\n",
      "<|doc_begin|> <|doc_id_begin|> 3563517 <|doc_id_end|> <|doc_offset_begin|> 908 <|doc_offset_end|>  the Burial and headliners As I Lay Dying. They played several songs from their then upcoming new albu\n",
      "<|doc_begin|> <|doc_id_begin|> 3563517 <|doc_id_end|> <|doc_offset_begin|> 998 <|doc_offset_end|>  Perish during Caliban's \"Get Infected\" Tour 2012 with support of We Butter The Bread With Butter, Eye\n"
     ]
    }
   ],
   "source": [
    "for toks in docs_chunks:\n",
    "    s = tokens_to_text(toks)\n",
    "    print(s[:200].replace('\\n', '\\\\n'))"
   ]
  },
  {
   "cell_type": "code",
   "execution_count": 97,
   "metadata": {},
   "outputs": [],
   "source": [
    "target_embs = model_ranker.run_enc_emb(target_chunks)\n",
    "docs_embs = model_ranker.run_enc_emb(docs_chunks)"
   ]
  },
  {
   "cell_type": "code",
   "execution_count": 98,
   "metadata": {},
   "outputs": [
    {
     "name": "stdout",
     "output_type": "stream",
     "text": [
      "0.851829 0.768325 0.717993 T\n",
      "0.710824 0.864115 0.791755 T\n",
      "0.751394 0.784505 0.901214 T\n",
      "0.601972 0.765515 0.664485 F\n",
      "0.506602 0.649703 0.602839 F\n",
      "0.574463 0.730713 0.660725 F\n",
      "0.385619 0.497914 0.482378 F\n",
      "0.592718 0.615067 0.464479 F\n",
      "0.415337 0.564398 0.493007 F\n",
      "0.590724 0.656549 0.577092 F\n",
      "0.516982 0.525026 0.389098 F\n",
      "0.691276 0.658016 0.652711 F\n",
      "0.466441 0.544165 0.483684 F\n",
      "0.521704 0.572658 0.464098 F\n",
      "0.583230 0.539854 0.519573 F\n",
      "0.464891 0.593930 0.624339 F\n",
      "0.446136 0.458801 0.597052 F\n",
      "0.523654 0.535276 0.620607 F\n",
      "0.393278 0.383729 0.532924 F\n",
      "0.473186 0.469718 0.547572 F\n",
      "0.421835 0.542141 0.402089 F\n",
      "0.443597 0.613942 0.547976 F\n",
      "0.482703 0.653324 0.531004 F\n",
      "0.495839 0.644287 0.531666 F\n",
      "0.453870 0.573715 0.463971 F\n"
     ]
    }
   ],
   "source": [
    "cosine = False\n",
    "cosine = True\n",
    "print_dist(target_embs, docs_embs, target_mask, cosine=cosine)"
   ]
  },
  {
   "cell_type": "code",
   "execution_count": 105,
   "metadata": {},
   "outputs": [
    {
     "name": "stdout",
     "output_type": "stream",
     "text": [
      "torch.Size([1, 100])\n",
      "0.281365 T\n",
      "0.378958 T\n",
      "0.301095 T\n",
      "0.381230 F\n",
      "0.428091 F\n",
      "0.460663 F\n",
      "0.501278 F\n",
      "0.475151 F\n",
      "0.510579 F\n",
      "0.420649 F\n",
      "0.636904 F\n",
      "0.370556 F\n",
      "0.539754 F\n",
      "0.610080 F\n",
      "0.480029 F\n",
      "0.353345 F\n",
      "0.226356 F\n",
      "0.358335 F\n",
      "0.394531 F\n",
      "0.479233 F\n",
      "0.359256 F\n",
      "0.500798 F\n",
      "0.417691 F\n",
      "0.460942 F\n",
      "0.405442 F\n"
     ]
    }
   ],
   "source": [
    "txt = 'El Charco del Cura Reservoir'\n",
    "# txt = 'Théodore Eugène César Ruyssen'\n",
    "# txt = 'Théodore Ruyssen'\n",
    "txt = 'orders in certain situations, and both required trade-offs'\n",
    "txt = 'Tritordeum hybrid crop'\n",
    "txt = 'etienne Lecroart ddd'\n",
    "txt = 'Ну приветики ну погоди'\n",
    "\n",
    "# txt = 'The graph sandwich problem for property Π is defined as follows:'\n",
    "cosine = True\n",
    "txt_tokens = text_to_tokens(txt, qbeg_tok=qbeg_tok, qend_tok=qend_tok)\n",
    "# txt_tokens = txt_tokens.repeat(3, 1)\n",
    "print(txt_tokens.shape)\n",
    "txt_embs = model_ranker.run_enc_emb(txt_tokens)\n",
    "print_dist(txt_embs, docs_embs, target_mask, cosine=cosine)\n"
   ]
  },
  {
   "cell_type": "code",
   "execution_count": 106,
   "metadata": {},
   "outputs": [
    {
     "data": {
      "text/plain": [
       "['0.001259',\n",
       " '0.003427',\n",
       " '0.001251',\n",
       " '0.003243',\n",
       " '0.007756',\n",
       " '0.014418',\n",
       " '0.033158',\n",
       " '0.038146',\n",
       " '0.018492',\n",
       " '0.008177',\n",
       " '0.388008',\n",
       " '0.003869',\n",
       " '0.064414',\n",
       " '0.174521',\n",
       " '0.030543',\n",
       " '0.006355',\n",
       " '0.000525',\n",
       " '0.003603',\n",
       " '0.003947',\n",
       " '0.080367',\n",
       " '0.003919',\n",
       " '0.048465',\n",
       " '0.010669',\n",
       " '0.039282',\n",
       " '0.012188']"
      ]
     },
     "execution_count": 106,
     "metadata": {},
     "output_type": "execute_result"
    }
   ],
   "source": [
    "\n",
    "rank = model_ranker.run_qs_infer(docs_chunks, txt_tokens)\n",
    "rank_str = [f'{r:.06f}' for r in rank.flatten()]\n",
    "rank_str"
   ]
  },
  {
   "cell_type": "code",
   "execution_count": 50,
   "metadata": {},
   "outputs": [
    {
     "data": {
      "text/plain": [
       "torch.Size([14, 100])"
      ]
     },
     "execution_count": 50,
     "metadata": {},
     "output_type": "execute_result"
    }
   ],
   "source": [
    "docs_chunks.shape"
   ]
  },
  {
   "cell_type": "code",
   "execution_count": 31,
   "metadata": {},
   "outputs": [
    {
     "data": {
      "text/plain": [
       "tensor([[0.8737, 0.8907, 0.7371, 0.5201, 0.4101, 0.8237, 0.7342, 0.8183, 0.8694,\n",
       "         0.6263, 0.6608, 0.6087, 0.2565, 0.3135, 0.3250]],\n",
       "       grad_fn=<SigmoidBackward0>)"
      ]
     },
     "execution_count": 31,
     "metadata": {},
     "output_type": "execute_result"
    }
   ],
   "source": [
    "rank = model_ranker(txt_tokens, docs_chunks)\n",
    "rank"
   ]
  },
  {
   "cell_type": "code",
   "execution_count": 35,
   "metadata": {},
   "outputs": [
    {
     "data": {
      "text/plain": [
       "tensor([[2.6538e-21, 3.7294e-11, 2.4412e-19, 3.4020e-23, 7.5630e-20, 3.8663e-25,\n",
       "         1.3986e-18, 7.2614e-22, 1.0000e+00, 1.0000e+00, 1.0000e+00, 4.7166e-09,\n",
       "         1.9997e-11, 1.3684e-08]], grad_fn=<SigmoidBackward0>)"
      ]
     },
     "execution_count": 35,
     "metadata": {},
     "output_type": "execute_result"
    }
   ],
   "source": [
    "rank = model_ranker(target_chunks, docs_chunks)\n",
    "rank"
   ]
  },
  {
   "cell_type": "code",
   "execution_count": 31,
   "metadata": {},
   "outputs": [
    {
     "data": {
      "text/plain": [
       "3"
      ]
     },
     "execution_count": 31,
     "metadata": {},
     "output_type": "execute_result"
    }
   ],
   "source": [
    "np.random.randint(0, 6)"
   ]
  },
  {
   "cell_type": "code",
   "execution_count": 2,
   "metadata": {},
   "outputs": [],
   "source": [
    "import torch"
   ]
  },
  {
   "cell_type": "code",
   "execution_count": 4,
   "metadata": {},
   "outputs": [],
   "source": [
    "device1 = torch.device('cpu')\n",
    "device2 = torch.device('cuda')\n",
    "device3 = torch.device('cpu')"
   ]
  },
  {
   "cell_type": "code",
   "execution_count": 5,
   "metadata": {},
   "outputs": [
    {
     "name": "stdout",
     "output_type": "stream",
     "text": [
      "False\n",
      "False\n",
      "True\n"
     ]
    }
   ],
   "source": [
    "print(device1 == device2)\n",
    "print(device2 == device3)\n",
    "print(device1 == device3)\n"
   ]
  },
  {
   "cell_type": "code",
   "execution_count": 7,
   "metadata": {},
   "outputs": [
    {
     "data": {
      "text/plain": [
       "('cpu', str)"
      ]
     },
     "execution_count": 7,
     "metadata": {},
     "output_type": "execute_result"
    }
   ],
   "source": [
    "device1.type, type(device1.type)"
   ]
  },
  {
   "cell_type": "code",
   "execution_count": 11,
   "metadata": {},
   "outputs": [
    {
     "data": {
      "text/plain": [
       "array([[ 0.5,  0.5,  0.5],\n",
       "       [ 1.7,  1.7,  1.7],\n",
       "       [-1. ,  7. , 33. ]])"
      ]
     },
     "execution_count": 11,
     "metadata": {},
     "output_type": "execute_result"
    }
   ],
   "source": [
    "import numpy as np\n",
    "toks = [\n",
    "    np.ones(3) * 0.5,\n",
    "    np.ones(3) * 1.7,\n",
    "    np.array([-1, 7, 33])\n",
    "]\n",
    "np.stack(toks, axis=0)"
   ]
  },
  {
   "cell_type": "code",
   "execution_count": 12,
   "metadata": {},
   "outputs": [
    {
     "data": {
      "text/plain": [
       "array([[ 0.5,  0.5,  0.5],\n",
       "       [ 1.7,  1.7,  1.7],\n",
       "       [-1. ,  7. , 33. ]])"
      ]
     },
     "execution_count": 12,
     "metadata": {},
     "output_type": "execute_result"
    }
   ],
   "source": [
    "np.array(toks)"
   ]
  },
  {
   "cell_type": "code",
   "execution_count": 13,
   "metadata": {},
   "outputs": [
    {
     "data": {
      "text/plain": [
       "True"
      ]
     },
     "execution_count": 13,
     "metadata": {},
     "output_type": "execute_result"
    }
   ],
   "source": [
    "np.allclose(np.array(toks), np.stack(toks, axis=0))"
   ]
  },
  {
   "cell_type": "code",
   "execution_count": null,
   "metadata": {},
   "outputs": [],
   "source": []
  },
  {
   "cell_type": "code",
   "execution_count": null,
   "metadata": {},
   "outputs": [],
   "source": []
  },
  {
   "cell_type": "code",
   "execution_count": null,
   "metadata": {},
   "outputs": [],
   "source": []
  },
  {
   "cell_type": "code",
   "execution_count": null,
   "metadata": {},
   "outputs": [],
   "source": []
  },
  {
   "cell_type": "code",
   "execution_count": null,
   "metadata": {},
   "outputs": [],
   "source": []
  },
  {
   "cell_type": "code",
   "execution_count": null,
   "metadata": {},
   "outputs": [],
   "source": []
  },
  {
   "cell_type": "code",
   "execution_count": null,
   "metadata": {},
   "outputs": [],
   "source": []
  },
  {
   "cell_type": "code",
   "execution_count": null,
   "metadata": {},
   "outputs": [],
   "source": []
  },
  {
   "cell_type": "code",
   "execution_count": null,
   "metadata": {},
   "outputs": [],
   "source": []
  },
  {
   "cell_type": "code",
   "execution_count": null,
   "metadata": {},
   "outputs": [],
   "source": []
  }
 ],
 "metadata": {
  "kernelspec": {
   "display_name": "mllm",
   "language": "python",
   "name": "python3"
  },
  "language_info": {
   "codemirror_mode": {
    "name": "ipython",
    "version": 3
   },
   "file_extension": ".py",
   "mimetype": "text/x-python",
   "name": "python",
   "nbconvert_exporter": "python",
   "pygments_lexer": "ipython3",
   "version": "3.10.14"
  }
 },
 "nbformat": 4,
 "nbformat_minor": 2
}
