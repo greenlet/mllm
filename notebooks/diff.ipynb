{
 "cells": [
  {
   "cell_type": "code",
   "execution_count": 29,
   "metadata": {},
   "outputs": [
    {
     "name": "stdout",
     "output_type": "stream",
     "text": [
      "The autoreload extension is already loaded. To reload it, use:\n",
      "  %reload_ext autoreload\n"
     ]
    }
   ],
   "source": [
    "%load_ext autoreload\n",
    "%autoreload 2"
   ]
  },
  {
   "cell_type": "code",
   "execution_count": 30,
   "metadata": {},
   "outputs": [],
   "source": [
    "import os\n",
    "from pathlib import Path\n",
    "import sys\n",
    "from typing import Optional\n",
    "if '..' not in sys.path: sys.path.append('..')\n",
    "\n",
    "import numpy as np\n",
    "from matplotlib import pyplot as plt\n",
    "import torch\n",
    "from torch import nn\n",
    "import torch.nn.functional as F\n",
    "from transformers import GPT2Tokenizer, AddedToken, PreTrainedTokenizer\n",
    "\n",
    "from mllm.data.wiki.dswiki import WikiDsLoader\n",
    "from mllm.model.mllm_encdec import MllmEncdecLevel\n",
    "from mllm.model.mllm_ranker import MllmRanker\n",
    "from mllm.config.model import create_mllm_encdec_cfg, create_mllm_ranker_cfg\n",
    "from mllm.tokenization.chunk_tokenizer import calc_max_inp_size, gen_all_tokens\n",
    "from mllm.utils.utils import read_tsv, write_tsv"
   ]
  },
  {
   "cell_type": "code",
   "execution_count": 17,
   "metadata": {},
   "outputs": [],
   "source": [
    "DATA_PATH = Path(os.path.expandvars('$HOME')) / 'data'\n",
    "TRAIN_ENCDEC_PATH = DATA_PATH / 'train_mllm_encdec'\n",
    "# TRAIN_RANKER_PATH = DATA_PATH / 'train_mllm_ranker'\n",
    "TRAIN_RANKER_PATH = DATA_PATH / 'train_mllm_ranker_qs'\n",
    "DS_DIR_PATH = DATA_PATH / 'wiki_20200501_en' / 'ch_100_fixed'\n"
   ]
  },
  {
   "cell_type": "code",
   "execution_count": 19,
   "metadata": {},
   "outputs": [
    {
     "data": {
      "text/html": [
       "<div>\n",
       "<style scoped>\n",
       "    .dataframe tbody tr th:only-of-type {\n",
       "        vertical-align: middle;\n",
       "    }\n",
       "\n",
       "    .dataframe tbody tr th {\n",
       "        vertical-align: top;\n",
       "    }\n",
       "\n",
       "    .dataframe thead th {\n",
       "        text-align: right;\n",
       "    }\n",
       "</style>\n",
       "<table border=\"1\" class=\"dataframe\">\n",
       "  <thead>\n",
       "    <tr style=\"text-align: right;\">\n",
       "      <th></th>\n",
       "      <th>ds_ids</th>\n",
       "      <th>ds_doc_ids</th>\n",
       "    </tr>\n",
       "  </thead>\n",
       "  <tbody>\n",
       "    <tr>\n",
       "      <th>0</th>\n",
       "      <td>1</td>\n",
       "      <td>0</td>\n",
       "    </tr>\n",
       "    <tr>\n",
       "      <th>1</th>\n",
       "      <td>1</td>\n",
       "      <td>0</td>\n",
       "    </tr>\n",
       "    <tr>\n",
       "      <th>2</th>\n",
       "      <td>1</td>\n",
       "      <td>0</td>\n",
       "    </tr>\n",
       "    <tr>\n",
       "      <th>3</th>\n",
       "      <td>1</td>\n",
       "      <td>0</td>\n",
       "    </tr>\n",
       "    <tr>\n",
       "      <th>4</th>\n",
       "      <td>1</td>\n",
       "      <td>0</td>\n",
       "    </tr>\n",
       "    <tr>\n",
       "      <th>...</th>\n",
       "      <td>...</td>\n",
       "      <td>...</td>\n",
       "    </tr>\n",
       "    <tr>\n",
       "      <th>69767920</th>\n",
       "      <td>2</td>\n",
       "      <td>8630399</td>\n",
       "    </tr>\n",
       "    <tr>\n",
       "      <th>69767921</th>\n",
       "      <td>2</td>\n",
       "      <td>8630400</td>\n",
       "    </tr>\n",
       "    <tr>\n",
       "      <th>69767922</th>\n",
       "      <td>2</td>\n",
       "      <td>8630401</td>\n",
       "    </tr>\n",
       "    <tr>\n",
       "      <th>69767923</th>\n",
       "      <td>2</td>\n",
       "      <td>8630402</td>\n",
       "    </tr>\n",
       "    <tr>\n",
       "      <th>69767924</th>\n",
       "      <td>2</td>\n",
       "      <td>8630402</td>\n",
       "    </tr>\n",
       "  </tbody>\n",
       "</table>\n",
       "<p>69767925 rows × 2 columns</p>\n",
       "</div>"
      ],
      "text/plain": [
       "          ds_ids  ds_doc_ids\n",
       "0              1           0\n",
       "1              1           0\n",
       "2              1           0\n",
       "3              1           0\n",
       "4              1           0\n",
       "...          ...         ...\n",
       "69767920       2     8630399\n",
       "69767921       2     8630400\n",
       "69767922       2     8630401\n",
       "69767923       2     8630402\n",
       "69767924       2     8630402\n",
       "\n",
       "[69767925 rows x 2 columns]"
      ]
     },
     "execution_count": 19,
     "metadata": {},
     "output_type": "execute_result"
    }
   ],
   "source": [
    "embs_dpath = DATA_PATH / 'ranker_embs_msmarco_fever'\n",
    "docs_ids_fpath = embs_dpath / 'docs_ids.tsv'\n",
    "qs_ids_fpath = embs_dpath / 'qs_ids.tsv'\n",
    "df_docs_ids = read_tsv(docs_ids_fpath)\n",
    "df_qs_ids = read_tsv(qs_ids_fpath)\n",
    "df_docs_ids"
   ]
  },
  {
   "cell_type": "code",
   "execution_count": 21,
   "metadata": {},
   "outputs": [
    {
     "data": {
      "text/html": [
       "<div>\n",
       "<style scoped>\n",
       "    .dataframe tbody tr th:only-of-type {\n",
       "        vertical-align: middle;\n",
       "    }\n",
       "\n",
       "    .dataframe tbody tr th {\n",
       "        vertical-align: top;\n",
       "    }\n",
       "\n",
       "    .dataframe thead th {\n",
       "        text-align: right;\n",
       "    }\n",
       "</style>\n",
       "<table border=\"1\" class=\"dataframe\">\n",
       "  <thead>\n",
       "    <tr style=\"text-align: right;\">\n",
       "      <th></th>\n",
       "      <th>ds_id</th>\n",
       "      <th>ds_query_id</th>\n",
       "    </tr>\n",
       "  </thead>\n",
       "  <tbody>\n",
       "    <tr>\n",
       "      <th>0</th>\n",
       "      <td>1</td>\n",
       "      <td>0</td>\n",
       "    </tr>\n",
       "    <tr>\n",
       "      <th>1</th>\n",
       "      <td>1</td>\n",
       "      <td>1</td>\n",
       "    </tr>\n",
       "    <tr>\n",
       "      <th>2</th>\n",
       "      <td>1</td>\n",
       "      <td>2</td>\n",
       "    </tr>\n",
       "    <tr>\n",
       "      <th>3</th>\n",
       "      <td>1</td>\n",
       "      <td>3</td>\n",
       "    </tr>\n",
       "    <tr>\n",
       "      <th>4</th>\n",
       "      <td>1</td>\n",
       "      <td>4</td>\n",
       "    </tr>\n",
       "    <tr>\n",
       "      <th>...</th>\n",
       "      <td>...</td>\n",
       "      <td>...</td>\n",
       "    </tr>\n",
       "    <tr>\n",
       "      <th>495368</th>\n",
       "      <td>2</td>\n",
       "      <td>495343</td>\n",
       "    </tr>\n",
       "    <tr>\n",
       "      <th>495369</th>\n",
       "      <td>2</td>\n",
       "      <td>495344</td>\n",
       "    </tr>\n",
       "    <tr>\n",
       "      <th>495370</th>\n",
       "      <td>2</td>\n",
       "      <td>495345</td>\n",
       "    </tr>\n",
       "    <tr>\n",
       "      <th>495371</th>\n",
       "      <td>2</td>\n",
       "      <td>495346</td>\n",
       "    </tr>\n",
       "    <tr>\n",
       "      <th>495372</th>\n",
       "      <td>2</td>\n",
       "      <td>495347</td>\n",
       "    </tr>\n",
       "  </tbody>\n",
       "</table>\n",
       "<p>495373 rows × 2 columns</p>\n",
       "</div>"
      ],
      "text/plain": [
       "        ds_id  ds_query_id\n",
       "0           1            0\n",
       "1           1            1\n",
       "2           1            2\n",
       "3           1            3\n",
       "4           1            4\n",
       "...       ...          ...\n",
       "495368      2       495343\n",
       "495369      2       495344\n",
       "495370      2       495345\n",
       "495371      2       495346\n",
       "495372      2       495347\n",
       "\n",
       "[495373 rows x 2 columns]"
      ]
     },
     "execution_count": 21,
     "metadata": {},
     "output_type": "execute_result"
    }
   ],
   "source": [
    "df_docs_ids.rename(columns={'ds_ids': 'ds_id', 'ds_doc_ids': 'ds_doc_id'}, inplace=True)\n",
    "df_qs_ids.rename(columns={'ds_ids': 'ds_id', 'ds_query_ids': 'ds_query_id'}, inplace=True)\n",
    "df_qs_ids"
   ]
  },
  {
   "cell_type": "code",
   "execution_count": 22,
   "metadata": {},
   "outputs": [
    {
     "data": {
      "text/html": [
       "<div>\n",
       "<style scoped>\n",
       "    .dataframe tbody tr th:only-of-type {\n",
       "        vertical-align: middle;\n",
       "    }\n",
       "\n",
       "    .dataframe tbody tr th {\n",
       "        vertical-align: top;\n",
       "    }\n",
       "\n",
       "    .dataframe thead th {\n",
       "        text-align: right;\n",
       "    }\n",
       "</style>\n",
       "<table border=\"1\" class=\"dataframe\">\n",
       "  <thead>\n",
       "    <tr style=\"text-align: right;\">\n",
       "      <th></th>\n",
       "      <th>ds_id</th>\n",
       "      <th>ds_doc_id</th>\n",
       "      <th>doc_emb_id</th>\n",
       "    </tr>\n",
       "  </thead>\n",
       "  <tbody>\n",
       "    <tr>\n",
       "      <th>0</th>\n",
       "      <td>1</td>\n",
       "      <td>0</td>\n",
       "      <td>0</td>\n",
       "    </tr>\n",
       "    <tr>\n",
       "      <th>1</th>\n",
       "      <td>1</td>\n",
       "      <td>0</td>\n",
       "      <td>1</td>\n",
       "    </tr>\n",
       "    <tr>\n",
       "      <th>2</th>\n",
       "      <td>1</td>\n",
       "      <td>0</td>\n",
       "      <td>2</td>\n",
       "    </tr>\n",
       "    <tr>\n",
       "      <th>3</th>\n",
       "      <td>1</td>\n",
       "      <td>0</td>\n",
       "      <td>3</td>\n",
       "    </tr>\n",
       "    <tr>\n",
       "      <th>4</th>\n",
       "      <td>1</td>\n",
       "      <td>0</td>\n",
       "      <td>4</td>\n",
       "    </tr>\n",
       "    <tr>\n",
       "      <th>...</th>\n",
       "      <td>...</td>\n",
       "      <td>...</td>\n",
       "      <td>...</td>\n",
       "    </tr>\n",
       "    <tr>\n",
       "      <th>69767920</th>\n",
       "      <td>2</td>\n",
       "      <td>8630399</td>\n",
       "      <td>69767920</td>\n",
       "    </tr>\n",
       "    <tr>\n",
       "      <th>69767921</th>\n",
       "      <td>2</td>\n",
       "      <td>8630400</td>\n",
       "      <td>69767921</td>\n",
       "    </tr>\n",
       "    <tr>\n",
       "      <th>69767922</th>\n",
       "      <td>2</td>\n",
       "      <td>8630401</td>\n",
       "      <td>69767922</td>\n",
       "    </tr>\n",
       "    <tr>\n",
       "      <th>69767923</th>\n",
       "      <td>2</td>\n",
       "      <td>8630402</td>\n",
       "      <td>69767923</td>\n",
       "    </tr>\n",
       "    <tr>\n",
       "      <th>69767924</th>\n",
       "      <td>2</td>\n",
       "      <td>8630402</td>\n",
       "      <td>69767924</td>\n",
       "    </tr>\n",
       "  </tbody>\n",
       "</table>\n",
       "<p>69767925 rows × 3 columns</p>\n",
       "</div>"
      ],
      "text/plain": [
       "          ds_id  ds_doc_id  doc_emb_id\n",
       "0             1          0           0\n",
       "1             1          0           1\n",
       "2             1          0           2\n",
       "3             1          0           3\n",
       "4             1          0           4\n",
       "...         ...        ...         ...\n",
       "69767920      2    8630399    69767920\n",
       "69767921      2    8630400    69767921\n",
       "69767922      2    8630401    69767922\n",
       "69767923      2    8630402    69767923\n",
       "69767924      2    8630402    69767924\n",
       "\n",
       "[69767925 rows x 3 columns]"
      ]
     },
     "execution_count": 22,
     "metadata": {},
     "output_type": "execute_result"
    }
   ],
   "source": [
    "df_docs_ids['doc_emb_id'] = np.arange(len(df_docs_ids))\n",
    "df_qs_ids['query_emb_id'] = np.arange(len(df_qs_ids))\n",
    "df_docs_ids"
   ]
  },
  {
   "cell_type": "code",
   "execution_count": 26,
   "metadata": {},
   "outputs": [
    {
     "name": "stdout",
     "output_type": "stream",
     "text": [
      "Save 69767925 docs ids in /home/misha/data/ranker_embs_msmarco_fever/docs_ids.tsv\n",
      "Save 495373 qs ids in /home/misha/data/ranker_embs_msmarco_fever/qs_ids.tsv\n"
     ]
    }
   ],
   "source": [
    "print(f'Save {len(df_docs_ids)} docs ids in {docs_ids_fpath}')\n",
    "write_tsv(df_docs_ids, docs_ids_fpath)\n",
    "print(f'Save {len(df_qs_ids)} qs ids in {qs_ids_fpath}')\n",
    "write_tsv(df_qs_ids, qs_ids_fpath)"
   ]
  },
  {
   "cell_type": "code",
   "execution_count": null,
   "metadata": {},
   "outputs": [],
   "source": []
  },
  {
   "cell_type": "code",
   "execution_count": 32,
   "metadata": {},
   "outputs": [
    {
     "name": "stdout",
     "output_type": "stream",
     "text": [
      "tensor([[ 0.0160],\n",
      "        [-0.2776],\n",
      "        [-0.2787],\n",
      "        [-0.2542],\n",
      "        [-0.3560],\n",
      "        [ 0.0086],\n",
      "        [-0.3117],\n",
      "        [-0.1231],\n",
      "        [ 0.4930],\n",
      "        [ 0.0494]])\n"
     ]
    }
   ],
   "source": [
    "input1 = torch.randn(10, 12)\n",
    "input2 = torch.randn(10, 12)\n",
    "output = F.cosine_similarity(input1, input2).unsqueeze(-1)\n",
    "print(output)"
   ]
  },
  {
   "cell_type": "code",
   "execution_count": 33,
   "metadata": {},
   "outputs": [
    {
     "data": {
      "text/plain": [
       "Bernoulli(probs: 0.30000001192092896)"
      ]
     },
     "execution_count": 33,
     "metadata": {},
     "output_type": "execute_result"
    }
   ],
   "source": [
    "p = 0.3\n",
    "bernoulli = torch.distributions.Bernoulli(probs=p)\n",
    "bernoulli"
   ]
  },
  {
   "cell_type": "code",
   "execution_count": 43,
   "metadata": {},
   "outputs": [
    {
     "data": {
      "text/plain": [
       "tensor([[False, False,  True],\n",
       "        [ True, False, False]])"
      ]
     },
     "execution_count": 43,
     "metadata": {},
     "output_type": "execute_result"
    }
   ],
   "source": [
    "m = bernoulli.sample((2, 3)).to(bool)\n",
    "m"
   ]
  },
  {
   "cell_type": "code",
   "execution_count": 44,
   "metadata": {},
   "outputs": [
    {
     "data": {
      "text/plain": [
       "tensor([[[2, 3],\n",
       "         [4, 4],\n",
       "         [2, 6]],\n",
       "\n",
       "        [[1, 7],\n",
       "         [4, 9],\n",
       "         [4, 9]]])"
      ]
     },
     "execution_count": 44,
     "metadata": {},
     "output_type": "execute_result"
    }
   ],
   "source": [
    "t = torch.randint(1, 10, (2, 3, 2))\n",
    "t"
   ]
  },
  {
   "cell_type": "code",
   "execution_count": 45,
   "metadata": {},
   "outputs": [
    {
     "data": {
      "text/plain": [
       "tensor([[[2, 3],\n",
       "         [4, 4],\n",
       "         [0, 0]],\n",
       "\n",
       "        [[0, 0],\n",
       "         [4, 9],\n",
       "         [4, 9]]])"
      ]
     },
     "execution_count": 45,
     "metadata": {},
     "output_type": "execute_result"
    }
   ],
   "source": [
    "t[m] = 0\n",
    "t"
   ]
  },
  {
   "cell_type": "code",
   "execution_count": null,
   "metadata": {},
   "outputs": [],
   "source": []
  }
 ],
 "metadata": {
  "kernelspec": {
   "display_name": "mllm",
   "language": "python",
   "name": "python3"
  },
  "language_info": {
   "codemirror_mode": {
    "name": "ipython",
    "version": 3
   },
   "file_extension": ".py",
   "mimetype": "text/x-python",
   "name": "python",
   "nbconvert_exporter": "python",
   "pygments_lexer": "ipython3",
   "version": "3.10.14"
  }
 },
 "nbformat": 4,
 "nbformat_minor": 2
}
