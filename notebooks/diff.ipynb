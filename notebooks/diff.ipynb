{
 "cells": [
  {
   "cell_type": "code",
   "execution_count": 1,
   "metadata": {},
   "outputs": [],
   "source": [
    "%load_ext autoreload\n",
    "%autoreload 2"
   ]
  },
  {
   "cell_type": "code",
   "execution_count": 2,
   "metadata": {},
   "outputs": [
    {
     "name": "stderr",
     "output_type": "stream",
     "text": [
      "/home/misha/miniconda3/envs/mllm/lib/python3.10/site-packages/torchtext/datasets/__init__.py:4: UserWarning: \n",
      "/!\\ IMPORTANT WARNING ABOUT TORCHTEXT STATUS /!\\ \n",
      "Torchtext is deprecated and the last released version will be 0.18 (this one). You can silence this warning by calling the following at the beginnign of your scripts: `import torchtext; torchtext.disable_torchtext_deprecation_warning()`\n",
      "  warnings.warn(torchtext._TORCHTEXT_DEPRECATION_MSG)\n",
      "/home/misha/miniconda3/envs/mllm/lib/python3.10/site-packages/torchtext/data/__init__.py:4: UserWarning: \n",
      "/!\\ IMPORTANT WARNING ABOUT TORCHTEXT STATUS /!\\ \n",
      "Torchtext is deprecated and the last released version will be 0.18 (this one). You can silence this warning by calling the following at the beginnign of your scripts: `import torchtext; torchtext.disable_torchtext_deprecation_warning()`\n",
      "  warnings.warn(torchtext._TORCHTEXT_DEPRECATION_MSG)\n"
     ]
    }
   ],
   "source": [
    "import os\n",
    "from pathlib import Path\n",
    "import sys\n",
    "from typing import Optional\n",
    "if '..' not in sys.path: sys.path.append('..')\n",
    "\n",
    "import numpy as np\n",
    "from matplotlib import pyplot as plt\n",
    "from pydantic_yaml import parse_yaml_file_as\n",
    "import torch\n",
    "from torch import nn\n",
    "import torch.nn.functional as F\n",
    "from transformers import GPT2Tokenizer, AddedToken, PreTrainedTokenizer\n",
    "\n",
    "from mllm.data.wiki.dswiki import WikiDsLoader\n",
    "from mllm.model.mllm_encdec import MllmEncdecLevel\n",
    "from mllm.model.mllm_ranker import MllmRanker\n",
    "from mllm.config.model import MllmEncdecCfg\n",
    "from mllm.tokenization.chunk_tokenizer import calc_max_inp_size, gen_all_tokens\n",
    "from mllm.utils.utils import read_tsv, write_tsv"
   ]
  },
  {
   "cell_type": "code",
   "execution_count": 3,
   "metadata": {},
   "outputs": [],
   "source": [
    "DATA_PATH = Path(os.path.expandvars('$HOME')) / 'data'\n",
    "TRAIN_ENCDEC_PATH = DATA_PATH / 'train_mllm_encdec'\n",
    "# TRAIN_RANKER_PATH = DATA_PATH / 'train_mllm_ranker'\n",
    "TRAIN_RANKER_PATH = DATA_PATH / 'train_mllm_ranker_qs'\n",
    "DS_DIR_PATH = DATA_PATH / 'wiki_20200501_en' / 'ch_100_fixed'\n"
   ]
  },
  {
   "cell_type": "code",
   "execution_count": 19,
   "metadata": {},
   "outputs": [
    {
     "data": {
      "text/html": [
       "<div>\n",
       "<style scoped>\n",
       "    .dataframe tbody tr th:only-of-type {\n",
       "        vertical-align: middle;\n",
       "    }\n",
       "\n",
       "    .dataframe tbody tr th {\n",
       "        vertical-align: top;\n",
       "    }\n",
       "\n",
       "    .dataframe thead th {\n",
       "        text-align: right;\n",
       "    }\n",
       "</style>\n",
       "<table border=\"1\" class=\"dataframe\">\n",
       "  <thead>\n",
       "    <tr style=\"text-align: right;\">\n",
       "      <th></th>\n",
       "      <th>ds_ids</th>\n",
       "      <th>ds_doc_ids</th>\n",
       "    </tr>\n",
       "  </thead>\n",
       "  <tbody>\n",
       "    <tr>\n",
       "      <th>0</th>\n",
       "      <td>1</td>\n",
       "      <td>0</td>\n",
       "    </tr>\n",
       "    <tr>\n",
       "      <th>1</th>\n",
       "      <td>1</td>\n",
       "      <td>0</td>\n",
       "    </tr>\n",
       "    <tr>\n",
       "      <th>2</th>\n",
       "      <td>1</td>\n",
       "      <td>0</td>\n",
       "    </tr>\n",
       "    <tr>\n",
       "      <th>3</th>\n",
       "      <td>1</td>\n",
       "      <td>0</td>\n",
       "    </tr>\n",
       "    <tr>\n",
       "      <th>4</th>\n",
       "      <td>1</td>\n",
       "      <td>0</td>\n",
       "    </tr>\n",
       "    <tr>\n",
       "      <th>...</th>\n",
       "      <td>...</td>\n",
       "      <td>...</td>\n",
       "    </tr>\n",
       "    <tr>\n",
       "      <th>69767920</th>\n",
       "      <td>2</td>\n",
       "      <td>8630399</td>\n",
       "    </tr>\n",
       "    <tr>\n",
       "      <th>69767921</th>\n",
       "      <td>2</td>\n",
       "      <td>8630400</td>\n",
       "    </tr>\n",
       "    <tr>\n",
       "      <th>69767922</th>\n",
       "      <td>2</td>\n",
       "      <td>8630401</td>\n",
       "    </tr>\n",
       "    <tr>\n",
       "      <th>69767923</th>\n",
       "      <td>2</td>\n",
       "      <td>8630402</td>\n",
       "    </tr>\n",
       "    <tr>\n",
       "      <th>69767924</th>\n",
       "      <td>2</td>\n",
       "      <td>8630402</td>\n",
       "    </tr>\n",
       "  </tbody>\n",
       "</table>\n",
       "<p>69767925 rows × 2 columns</p>\n",
       "</div>"
      ],
      "text/plain": [
       "          ds_ids  ds_doc_ids\n",
       "0              1           0\n",
       "1              1           0\n",
       "2              1           0\n",
       "3              1           0\n",
       "4              1           0\n",
       "...          ...         ...\n",
       "69767920       2     8630399\n",
       "69767921       2     8630400\n",
       "69767922       2     8630401\n",
       "69767923       2     8630402\n",
       "69767924       2     8630402\n",
       "\n",
       "[69767925 rows x 2 columns]"
      ]
     },
     "execution_count": 19,
     "metadata": {},
     "output_type": "execute_result"
    }
   ],
   "source": [
    "embs_dpath = DATA_PATH / 'ranker_embs_msmarco_fever'\n",
    "docs_ids_fpath = embs_dpath / 'docs_ids.tsv'\n",
    "qs_ids_fpath = embs_dpath / 'qs_ids.tsv'\n",
    "df_docs_ids = read_tsv(docs_ids_fpath)\n",
    "df_qs_ids = read_tsv(qs_ids_fpath)\n",
    "df_docs_ids"
   ]
  },
  {
   "cell_type": "code",
   "execution_count": 21,
   "metadata": {},
   "outputs": [
    {
     "data": {
      "text/html": [
       "<div>\n",
       "<style scoped>\n",
       "    .dataframe tbody tr th:only-of-type {\n",
       "        vertical-align: middle;\n",
       "    }\n",
       "\n",
       "    .dataframe tbody tr th {\n",
       "        vertical-align: top;\n",
       "    }\n",
       "\n",
       "    .dataframe thead th {\n",
       "        text-align: right;\n",
       "    }\n",
       "</style>\n",
       "<table border=\"1\" class=\"dataframe\">\n",
       "  <thead>\n",
       "    <tr style=\"text-align: right;\">\n",
       "      <th></th>\n",
       "      <th>ds_id</th>\n",
       "      <th>ds_query_id</th>\n",
       "    </tr>\n",
       "  </thead>\n",
       "  <tbody>\n",
       "    <tr>\n",
       "      <th>0</th>\n",
       "      <td>1</td>\n",
       "      <td>0</td>\n",
       "    </tr>\n",
       "    <tr>\n",
       "      <th>1</th>\n",
       "      <td>1</td>\n",
       "      <td>1</td>\n",
       "    </tr>\n",
       "    <tr>\n",
       "      <th>2</th>\n",
       "      <td>1</td>\n",
       "      <td>2</td>\n",
       "    </tr>\n",
       "    <tr>\n",
       "      <th>3</th>\n",
       "      <td>1</td>\n",
       "      <td>3</td>\n",
       "    </tr>\n",
       "    <tr>\n",
       "      <th>4</th>\n",
       "      <td>1</td>\n",
       "      <td>4</td>\n",
       "    </tr>\n",
       "    <tr>\n",
       "      <th>...</th>\n",
       "      <td>...</td>\n",
       "      <td>...</td>\n",
       "    </tr>\n",
       "    <tr>\n",
       "      <th>495368</th>\n",
       "      <td>2</td>\n",
       "      <td>495343</td>\n",
       "    </tr>\n",
       "    <tr>\n",
       "      <th>495369</th>\n",
       "      <td>2</td>\n",
       "      <td>495344</td>\n",
       "    </tr>\n",
       "    <tr>\n",
       "      <th>495370</th>\n",
       "      <td>2</td>\n",
       "      <td>495345</td>\n",
       "    </tr>\n",
       "    <tr>\n",
       "      <th>495371</th>\n",
       "      <td>2</td>\n",
       "      <td>495346</td>\n",
       "    </tr>\n",
       "    <tr>\n",
       "      <th>495372</th>\n",
       "      <td>2</td>\n",
       "      <td>495347</td>\n",
       "    </tr>\n",
       "  </tbody>\n",
       "</table>\n",
       "<p>495373 rows × 2 columns</p>\n",
       "</div>"
      ],
      "text/plain": [
       "        ds_id  ds_query_id\n",
       "0           1            0\n",
       "1           1            1\n",
       "2           1            2\n",
       "3           1            3\n",
       "4           1            4\n",
       "...       ...          ...\n",
       "495368      2       495343\n",
       "495369      2       495344\n",
       "495370      2       495345\n",
       "495371      2       495346\n",
       "495372      2       495347\n",
       "\n",
       "[495373 rows x 2 columns]"
      ]
     },
     "execution_count": 21,
     "metadata": {},
     "output_type": "execute_result"
    }
   ],
   "source": [
    "df_docs_ids.rename(columns={'ds_ids': 'ds_id', 'ds_doc_ids': 'ds_doc_id'}, inplace=True)\n",
    "df_qs_ids.rename(columns={'ds_ids': 'ds_id', 'ds_query_ids': 'ds_query_id'}, inplace=True)\n",
    "df_qs_ids"
   ]
  },
  {
   "cell_type": "code",
   "execution_count": 22,
   "metadata": {},
   "outputs": [
    {
     "data": {
      "text/html": [
       "<div>\n",
       "<style scoped>\n",
       "    .dataframe tbody tr th:only-of-type {\n",
       "        vertical-align: middle;\n",
       "    }\n",
       "\n",
       "    .dataframe tbody tr th {\n",
       "        vertical-align: top;\n",
       "    }\n",
       "\n",
       "    .dataframe thead th {\n",
       "        text-align: right;\n",
       "    }\n",
       "</style>\n",
       "<table border=\"1\" class=\"dataframe\">\n",
       "  <thead>\n",
       "    <tr style=\"text-align: right;\">\n",
       "      <th></th>\n",
       "      <th>ds_id</th>\n",
       "      <th>ds_doc_id</th>\n",
       "      <th>doc_emb_id</th>\n",
       "    </tr>\n",
       "  </thead>\n",
       "  <tbody>\n",
       "    <tr>\n",
       "      <th>0</th>\n",
       "      <td>1</td>\n",
       "      <td>0</td>\n",
       "      <td>0</td>\n",
       "    </tr>\n",
       "    <tr>\n",
       "      <th>1</th>\n",
       "      <td>1</td>\n",
       "      <td>0</td>\n",
       "      <td>1</td>\n",
       "    </tr>\n",
       "    <tr>\n",
       "      <th>2</th>\n",
       "      <td>1</td>\n",
       "      <td>0</td>\n",
       "      <td>2</td>\n",
       "    </tr>\n",
       "    <tr>\n",
       "      <th>3</th>\n",
       "      <td>1</td>\n",
       "      <td>0</td>\n",
       "      <td>3</td>\n",
       "    </tr>\n",
       "    <tr>\n",
       "      <th>4</th>\n",
       "      <td>1</td>\n",
       "      <td>0</td>\n",
       "      <td>4</td>\n",
       "    </tr>\n",
       "    <tr>\n",
       "      <th>...</th>\n",
       "      <td>...</td>\n",
       "      <td>...</td>\n",
       "      <td>...</td>\n",
       "    </tr>\n",
       "    <tr>\n",
       "      <th>69767920</th>\n",
       "      <td>2</td>\n",
       "      <td>8630399</td>\n",
       "      <td>69767920</td>\n",
       "    </tr>\n",
       "    <tr>\n",
       "      <th>69767921</th>\n",
       "      <td>2</td>\n",
       "      <td>8630400</td>\n",
       "      <td>69767921</td>\n",
       "    </tr>\n",
       "    <tr>\n",
       "      <th>69767922</th>\n",
       "      <td>2</td>\n",
       "      <td>8630401</td>\n",
       "      <td>69767922</td>\n",
       "    </tr>\n",
       "    <tr>\n",
       "      <th>69767923</th>\n",
       "      <td>2</td>\n",
       "      <td>8630402</td>\n",
       "      <td>69767923</td>\n",
       "    </tr>\n",
       "    <tr>\n",
       "      <th>69767924</th>\n",
       "      <td>2</td>\n",
       "      <td>8630402</td>\n",
       "      <td>69767924</td>\n",
       "    </tr>\n",
       "  </tbody>\n",
       "</table>\n",
       "<p>69767925 rows × 3 columns</p>\n",
       "</div>"
      ],
      "text/plain": [
       "          ds_id  ds_doc_id  doc_emb_id\n",
       "0             1          0           0\n",
       "1             1          0           1\n",
       "2             1          0           2\n",
       "3             1          0           3\n",
       "4             1          0           4\n",
       "...         ...        ...         ...\n",
       "69767920      2    8630399    69767920\n",
       "69767921      2    8630400    69767921\n",
       "69767922      2    8630401    69767922\n",
       "69767923      2    8630402    69767923\n",
       "69767924      2    8630402    69767924\n",
       "\n",
       "[69767925 rows x 3 columns]"
      ]
     },
     "execution_count": 22,
     "metadata": {},
     "output_type": "execute_result"
    }
   ],
   "source": [
    "df_docs_ids['doc_emb_id'] = np.arange(len(df_docs_ids))\n",
    "df_qs_ids['query_emb_id'] = np.arange(len(df_qs_ids))\n",
    "df_docs_ids"
   ]
  },
  {
   "cell_type": "code",
   "execution_count": 26,
   "metadata": {},
   "outputs": [
    {
     "name": "stdout",
     "output_type": "stream",
     "text": [
      "Save 69767925 docs ids in /home/misha/data/ranker_embs_msmarco_fever/docs_ids.tsv\n",
      "Save 495373 qs ids in /home/misha/data/ranker_embs_msmarco_fever/qs_ids.tsv\n"
     ]
    }
   ],
   "source": [
    "print(f'Save {len(df_docs_ids)} docs ids in {docs_ids_fpath}')\n",
    "write_tsv(df_docs_ids, docs_ids_fpath)\n",
    "print(f'Save {len(df_qs_ids)} qs ids in {qs_ids_fpath}')\n",
    "write_tsv(df_qs_ids, qs_ids_fpath)"
   ]
  },
  {
   "cell_type": "code",
   "execution_count": null,
   "metadata": {},
   "outputs": [],
   "source": []
  },
  {
   "cell_type": "code",
   "execution_count": 17,
   "metadata": {},
   "outputs": [],
   "source": [
    "model_level = 1\n",
    "model_cfg_fpath = Path('../mllm/config/cfg/encdec_model_cfg_02.yaml')\n",
    "model_cfg = parse_yaml_file_as(MllmEncdecCfg, model_cfg_fpath)\n",
    "model_cfg.encoders[model_level].with_emb_mat = False\n",
    "\n",
    "# train_subdir = 'encdec-l1-20240918_063547-msmarco-fever'\n",
    "train_subdir = 'encdec-l1-20241005_175446-msmarco-fever'\n",
    "train_dir_path = DATA_PATH / 'train_mllm_encdec_1' / train_subdir\n",
    "checkpoint_path = train_dir_path / 'best.pth'\n",
    "checkpoint = torch.load(checkpoint_path)"
   ]
  },
  {
   "cell_type": "code",
   "execution_count": 18,
   "metadata": {},
   "outputs": [
    {
     "name": "stdout",
     "output_type": "stream",
     "text": [
      "encoder.a_em () 0.09967066 0.09967066 0.09967066\n",
      "encoder.layer_stack.0.slf_attn.w_qs.weight (256, 256) -0.10825093 -0.00042184087 0.108251125\n",
      "encoder.layer_stack.0.slf_attn.w_ks.weight (256, 256) -0.108249776 7.992712e-05 0.10824896\n",
      "encoder.layer_stack.0.slf_attn.w_vs.weight (256, 256) -0.10824746 0.00020865718 0.108252384\n",
      "encoder.layer_stack.0.slf_attn.fc.weight (256, 256) -0.108241595 -0.00026560333 0.10825174\n",
      "encoder.layer_stack.0.slf_attn.layer_norm.weight (256,) -0.09946153 -0.0003807206 0.09928878\n",
      "encoder.layer_stack.0.slf_attn.layer_norm.bias (256,) -0.098331094 0.0021152585 0.099065565\n",
      "encoder.layer_stack.0.pos_ffn.w_1.weight (1024, 256) -0.06846515 2.9833169e-05 0.06846509\n",
      "encoder.layer_stack.0.pos_ffn.w_1.bias (1024,) -0.09996591 0.0009740598 0.09976818\n",
      "encoder.layer_stack.0.pos_ffn.w_2.weight (256, 1024) -0.06846526 3.0548663e-06 0.06846491\n",
      "encoder.layer_stack.0.pos_ffn.w_2.bias (256,) -0.09884465 0.0037791403 0.099840425\n",
      "encoder.layer_stack.0.pos_ffn.layer_norm.weight (256,) -0.09986808 5.582912e-05 0.09912421\n",
      "encoder.layer_stack.0.pos_ffn.layer_norm.bias (256,) -0.098759465 0.0077726636 0.097583525\n",
      "encoder.layer_norm.weight (256,) -0.09822662 0.005283581 0.09878323\n",
      "encoder.layer_norm.bias (256,) -0.09963169 -0.00029896013 0.099654816\n",
      "decoder.A_emb2sec (100, 256, 256) -0.008113918 -5.6991996e-07 0.008113917\n",
      "decoder.att_layers.0.slf_attn.w_qs.weight (256, 256) -0.108249895 -9.080108e-05 0.108252294\n",
      "decoder.att_layers.0.slf_attn.w_ks.weight (256, 256) -0.108251415 -0.00031611155 0.10825259\n",
      "decoder.att_layers.0.slf_attn.w_vs.weight (256, 256) -0.108248994 0.00024670752 0.10825079\n",
      "decoder.att_layers.0.slf_attn.fc.weight (256, 256) -0.10825039 0.00017164834 0.1082521\n",
      "decoder.att_layers.0.slf_attn.layer_norm.weight (256,) -0.0999218 -0.008175738 0.099608295\n",
      "decoder.att_layers.0.slf_attn.layer_norm.bias (256,) -0.09956577 0.00083820487 0.09620941\n",
      "decoder.att_layers.0.pos_ffn.w_1.weight (1024, 256) -0.06846531 -5.6452136e-05 0.06846406\n",
      "decoder.att_layers.0.pos_ffn.w_1.bias (1024,) -0.099968396 -0.002433677 0.09885619\n",
      "decoder.att_layers.0.pos_ffn.w_2.weight (256, 1024) -0.068464376 -8.080274e-05 0.06846518\n",
      "decoder.att_layers.0.pos_ffn.w_2.bias (256,) -0.09987586 0.002002746 0.09827965\n",
      "decoder.att_layers.0.pos_ffn.layer_norm.weight (256,) -0.09998357 -0.0009792357 0.0994398\n",
      "decoder.att_layers.0.pos_ffn.layer_norm.bias (256,) -0.099257186 -0.0010986642 0.09960015\n"
     ]
    },
    {
     "data": {
      "text/plain": [
       "<All keys matched successfully>"
      ]
     },
     "execution_count": 18,
     "metadata": {},
     "output_type": "execute_result"
    }
   ],
   "source": [
    "\n",
    "model = MllmEncdecLevel(model_cfg, model_level)\n",
    "model.load_state_dict(checkpoint['model'])"
   ]
  },
  {
   "cell_type": "code",
   "execution_count": null,
   "metadata": {},
   "outputs": [],
   "source": [
    "w, b = model.encoder.w_em.weight, model.encoder.w_em.bias\n",
    "print(b)"
   ]
  },
  {
   "cell_type": "code",
   "execution_count": 11,
   "metadata": {},
   "outputs": [
    {
     "name": "stdout",
     "output_type": "stream",
     "text": [
      "torch.Size([1, 100])\n"
     ]
    }
   ],
   "source": [
    "print(w.shape)"
   ]
  },
  {
   "cell_type": "code",
   "execution_count": 3,
   "metadata": {},
   "outputs": [
    {
     "name": "stderr",
     "output_type": "stream",
     "text": [
      "Device set to use cuda:0\n"
     ]
    },
    {
     "data": {
      "text/plain": [
       "[{'generated_text': 'two humpbacks swimming in the ocean'}]"
      ]
     },
     "execution_count": 3,
     "metadata": {},
     "output_type": "execute_result"
    }
   ],
   "source": [
    "from transformers import pipeline\n",
    "\n",
    "captioner = pipeline(\"image-to-text\", model=\"Salesforce/blip-image-captioning-base\")\n",
    "img_url = 'https://huggingface.co/datasets/Narsil/image_dummy/resolve/main/parrots.png'\n",
    "img_url = 'https://media.gettyimages.com/id/1245486932/photo/lusail-city-qatar-lionel-messi-of-argentina-has-a-shot-at-goal-from-the-free-kick-during-the.jpg?s=612x612&w=gi&k=20&c=_VOAohhrtnB__my2cBZza_ohApNdmO9vhesozECG5X0='\n",
    "img_url = 'https://encrypted-tbn0.gstatic.com/images?q=tbn:ANd9GcSkCqcoHGJvI-tl_P5xabXjeCjRWKkH4fJqbQ&s'\n",
    "captioner(img_url)\n"
   ]
  },
  {
   "cell_type": "code",
   "execution_count": null,
   "metadata": {},
   "outputs": [],
   "source": []
  },
  {
   "cell_type": "code",
   "execution_count": 11,
   "metadata": {},
   "outputs": [
    {
     "data": {
      "text/plain": [
       "'{k}: {x:.8f}'"
      ]
     },
     "execution_count": 11,
     "metadata": {},
     "output_type": "execute_result"
    }
   ],
   "source": [
    "prec = 8\n",
    "x = 44 / 27\n",
    "k = 'key'\n",
    "s = '{k}: {x:.%df}' % prec\n",
    "s"
   ]
  },
  {
   "cell_type": "code",
   "execution_count": 12,
   "metadata": {},
   "outputs": [
    {
     "data": {
      "text/plain": [
       "'key: 1.62962963'"
      ]
     },
     "execution_count": 12,
     "metadata": {},
     "output_type": "execute_result"
    }
   ],
   "source": [
    "s.format(k=k, x=x)"
   ]
  },
  {
   "cell_type": "code",
   "execution_count": null,
   "metadata": {},
   "outputs": [],
   "source": []
  }
 ],
 "metadata": {
  "kernelspec": {
   "display_name": "mllm",
   "language": "python",
   "name": "python3"
  },
  "language_info": {
   "codemirror_mode": {
    "name": "ipython",
    "version": 3
   },
   "file_extension": ".py",
   "mimetype": "text/x-python",
   "name": "python",
   "nbconvert_exporter": "python",
   "pygments_lexer": "ipython3",
   "version": "3.10.18"
  }
 },
 "nbformat": 4,
 "nbformat_minor": 2
}
