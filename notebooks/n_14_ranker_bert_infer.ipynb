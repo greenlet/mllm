{
 "cells": [
  {
   "cell_type": "code",
   "execution_count": 3,
   "metadata": {},
   "outputs": [],
   "source": [
    "%load_ext autoreload\n",
    "%autoreload 2"
   ]
  },
  {
   "cell_type": "code",
   "execution_count": 6,
   "metadata": {},
   "outputs": [],
   "source": [
    "import os\n",
    "from pathlib import Path\n",
    "from pprint import pprint\n",
    "import sys\n",
    "from typing import Optional\n",
    "\n",
    "if '..' not in sys.path: sys.path.append('..')\n",
    "\n",
    "from datasets import load_dataset\n",
    "from datasets.arrow_dataset import Dataset\n",
    "import numpy as np\n",
    "from matplotlib import pyplot as plt\n",
    "from pydantic_yaml import parse_yaml_file_as\n",
    "import torch\n",
    "from torch import nn\n",
    "import torch.nn.functional as F\n",
    "from transformers import GPT2Tokenizer, AddedToken, PreTrainedTokenizer, AutoTokenizer\n",
    "\n",
    "from mllm.data.dsqrels import QrelsPlainBatch\n",
    "from mllm.data.utils import load_qrels_datasets\n",
    "from mllm.data.wiki.dswiki import WikiDsLoader\n",
    "from mllm.exp.args import RANKER_BERT_MODEL_CFG_FNAME\n",
    "from mllm.model.encdec_ranker_hg import RankerBert\n",
    "from mllm.config.model import TokenizerCfg, RankerBertCfg\n",
    "from mllm.tokenization.chunk_tokenizer import ChunkTokenizer, gen_all_tokens\n",
    "from mllm.model.losses import RankerCosEmbLoss\n",
    "\n"
   ]
  },
  {
   "cell_type": "markdown",
   "metadata": {},
   "source": [
    "# RankerHg inference\n",
    "## Config and paths"
   ]
  },
  {
   "cell_type": "code",
   "execution_count": 9,
   "metadata": {},
   "outputs": [
    {
     "name": "stdout",
     "output_type": "stream",
     "text": [
      "cpu\n"
     ]
    }
   ],
   "source": [
    "DATA_PATH = Path(os.path.expandvars('$HOME')) / 'data'\n",
    "WIKI_DS_NAME = '20200501.en'\n",
    "DS_MSMARCO_DIR_PATH = DATA_PATH / 'msmarco'\n",
    "DS_FEVER_DIR_PATH = DATA_PATH / 'fever'\n",
    "ds_dir_paths = [DS_MSMARCO_DIR_PATH, DS_FEVER_DIR_PATH]\n",
    "\n",
    "TRAIN_RANKER_BERT_PATH = DATA_PATH / 'train_mllm_ranker_bert_qrels'\n",
    "ranker_subdir = 'rankerbert-20250203_234515-msmarco-fever-bert-base-uncased-inp128-d768-emb_cls-dmlp_none-tdo_f'\n",
    "\n",
    "ranker_train_path = TRAIN_RANKER_BERT_PATH / ranker_subdir\n",
    "ranker_snapshot_fpath = ranker_train_path / 'best.pth'\n",
    "ranker_model_cfg_fpath = ranker_train_path / RANKER_BERT_MODEL_CFG_FNAME\n",
    "\n",
    "device_name = 'cpu'\n",
    "# device_name = 'cuda'\n",
    "\n",
    "device = torch.device(device_name)\n",
    "print(device)"
   ]
  },
  {
   "cell_type": "markdown",
   "metadata": {},
   "source": [
    "## Load models and datasets"
   ]
  },
  {
   "cell_type": "code",
   "execution_count": 14,
   "metadata": {},
   "outputs": [
    {
     "name": "stdout",
     "output_type": "stream",
     "text": [
      "Load model from /home/misha/data/train_mllm_ranker_bert_qrels/rankerbert-20250203_234515-msmarco-fever-bert-base-uncased-inp128-d768-emb_cls-dmlp_none-tdo_f/best.pth\n"
     ]
    },
    {
     "data": {
      "text/plain": [
       "RankerBert(\n",
       "  (enc_bert): EncoderBert(\n",
       "    (bert_model): BertModel(\n",
       "      (embeddings): BertEmbeddings(\n",
       "        (word_embeddings): Embedding(30522, 768, padding_idx=0)\n",
       "        (position_embeddings): Embedding(512, 768)\n",
       "        (token_type_embeddings): Embedding(2, 768)\n",
       "        (LayerNorm): LayerNorm((768,), eps=1e-12, elementwise_affine=True)\n",
       "        (dropout): Dropout(p=0.1, inplace=False)\n",
       "      )\n",
       "      (encoder): BertEncoder(\n",
       "        (layer): ModuleList(\n",
       "          (0-11): 12 x BertLayer(\n",
       "            (attention): BertAttention(\n",
       "              (self): BertSdpaSelfAttention(\n",
       "                (query): Linear(in_features=768, out_features=768, bias=True)\n",
       "                (key): Linear(in_features=768, out_features=768, bias=True)\n",
       "                (value): Linear(in_features=768, out_features=768, bias=True)\n",
       "                (dropout): Dropout(p=0.1, inplace=False)\n",
       "              )\n",
       "              (output): BertSelfOutput(\n",
       "                (dense): Linear(in_features=768, out_features=768, bias=True)\n",
       "                (LayerNorm): LayerNorm((768,), eps=1e-12, elementwise_affine=True)\n",
       "                (dropout): Dropout(p=0.1, inplace=False)\n",
       "              )\n",
       "            )\n",
       "            (intermediate): BertIntermediate(\n",
       "              (dense): Linear(in_features=768, out_features=3072, bias=True)\n",
       "              (intermediate_act_fn): GELUActivation()\n",
       "            )\n",
       "            (output): BertOutput(\n",
       "              (dense): Linear(in_features=3072, out_features=768, bias=True)\n",
       "              (LayerNorm): LayerNorm((768,), eps=1e-12, elementwise_affine=True)\n",
       "              (dropout): Dropout(p=0.1, inplace=False)\n",
       "            )\n",
       "          )\n",
       "        )\n",
       "      )\n",
       "      (pooler): BertPooler(\n",
       "        (dense): Linear(in_features=768, out_features=768, bias=True)\n",
       "        (activation): Tanh()\n",
       "      )\n",
       "    )\n",
       "  )\n",
       "  (dec_rank): DecoderRankHg(\n",
       "    (mlp_layers): ModuleList()\n",
       "  )\n",
       ")"
      ]
     },
     "execution_count": 14,
     "metadata": {},
     "output_type": "execute_result"
    }
   ],
   "source": [
    "model_cfg: RankerBertCfg = parse_yaml_file_as(RankerBertCfg, ranker_model_cfg_fpath)\n",
    "inp_len = model_cfg.enc_bert.inp_len\n",
    "model = RankerBert(model_cfg).to(device)\n",
    "print(f'Load model from {ranker_snapshot_fpath}')\n",
    "checkpoint = torch.load(ranker_snapshot_fpath)\n",
    "model.load_state_dict(checkpoint['model'], strict=True)\n",
    "model.eval()"
   ]
  },
  {
   "cell_type": "code",
   "execution_count": 12,
   "metadata": {},
   "outputs": [
    {
     "name": "stdout",
     "output_type": "stream",
     "text": [
      "BertTokenizerFast(name_or_path='bert-base-uncased', vocab_size=30522, model_max_length=512, is_fast=True, padding_side='right', truncation_side='right', special_tokens={'unk_token': '[UNK]', 'sep_token': '[SEP]', 'pad_token': '[PAD]', 'cls_token': '[CLS]', 'mask_token': '[MASK]'}, clean_up_tokenization_spaces=True),  added_tokens_decoder={\n",
      "\t0: AddedToken(\"[PAD]\", rstrip=False, lstrip=False, single_word=False, normalized=False, special=True),\n",
      "\t100: AddedToken(\"[UNK]\", rstrip=False, lstrip=False, single_word=False, normalized=False, special=True),\n",
      "\t101: AddedToken(\"[CLS]\", rstrip=False, lstrip=False, single_word=False, normalized=False, special=True),\n",
      "\t102: AddedToken(\"[SEP]\", rstrip=False, lstrip=False, single_word=False, normalized=False, special=True),\n",
      "\t103: AddedToken(\"[MASK]\", rstrip=False, lstrip=False, single_word=False, normalized=False, special=True),\n",
      "}\n",
      "Msmarco. Queries: 372206. Docs: 3213835. QueryDocRels: 372206\n",
      "Fever. Queries: 123142. Docs: 5416568. QueryDocRels: 156101\n"
     ]
    }
   ],
   "source": [
    "tkz = AutoTokenizer.from_pretrained(model_cfg.enc_bert.pretrained_model_name)\n",
    "print(tkz)\n",
    "custom_tokens = gen_all_tokens()\n",
    "ch_tkz = ChunkTokenizer(custom_tokens, tkz, n_emb_tokens=inp_len, fixed_size=True)\n",
    "dss = load_qrels_datasets(ds_dir_paths, ch_tkz, inp_len, device, join=False)\n",
    "for ds in dss:\n",
    "    print(ds)"
   ]
  },
  {
   "cell_type": "code",
   "execution_count": 13,
   "metadata": {},
   "outputs": [
    {
     "data": {
      "text/plain": [
       "Msmarco. Queries: 372206. Docs: 3213835. QueryDocRels: 372206"
      ]
     },
     "execution_count": 13,
     "metadata": {},
     "output_type": "execute_result"
    }
   ],
   "source": [
    "ds1, ds2 = dss[0], dss[1]\n",
    "ds1"
   ]
  },
  {
   "cell_type": "markdown",
   "metadata": {},
   "source": [
    "## Inference on Qrels batch"
   ]
  },
  {
   "cell_type": "code",
   "execution_count": 16,
   "metadata": {},
   "outputs": [],
   "source": [
    "loss_fn = RankerCosEmbLoss()\n",
    "ds = ds1\n",
    "dsqids = ds.df_qs['dsqid']"
   ]
  },
  {
   "cell_type": "code",
   "execution_count": 17,
   "metadata": {},
   "outputs": [
    {
     "name": "stderr",
     "output_type": "stream",
     "text": [
      "Token indices sequence length is longer than the specified maximum sequence length for this model (5237 > 512). Running this sequence through the model will result in indexing errors\n"
     ]
    }
   ],
   "source": [
    "batch_size = 10\n",
    "ib = 0\n",
    "batch_off = ib * batch_size\n",
    "dsqids_batch = dsqids.iloc[batch_off:batch_off + batch_size]\n",
    "\n",
    "batch: QrelsPlainBatch = ds.get_batch_plain_qids(dsqids_batch)"
   ]
  },
  {
   "cell_type": "code",
   "execution_count": 18,
   "metadata": {},
   "outputs": [
    {
     "data": {
      "text/html": [
       "<div>\n",
       "<style scoped>\n",
       "    .dataframe tbody tr th:only-of-type {\n",
       "        vertical-align: middle;\n",
       "    }\n",
       "\n",
       "    .dataframe tbody tr th {\n",
       "        vertical-align: top;\n",
       "    }\n",
       "\n",
       "    .dataframe thead th {\n",
       "        text-align: right;\n",
       "    }\n",
       "</style>\n",
       "<table border=\"1\" class=\"dataframe\">\n",
       "  <thead>\n",
       "    <tr style=\"text-align: right;\">\n",
       "      <th></th>\n",
       "      <th>qid</th>\n",
       "      <th>query</th>\n",
       "      <th>dsid</th>\n",
       "      <th>dsqid</th>\n",
       "    </tr>\n",
       "    <tr>\n",
       "      <th>dsqid</th>\n",
       "      <th></th>\n",
       "      <th></th>\n",
       "      <th></th>\n",
       "      <th></th>\n",
       "    </tr>\n",
       "  </thead>\n",
       "  <tbody>\n",
       "    <tr>\n",
       "      <th>0</th>\n",
       "      <td>1185869</td>\n",
       "      <td>)what was the immediate impact of the success ...</td>\n",
       "      <td>1</td>\n",
       "      <td>0</td>\n",
       "    </tr>\n",
       "    <tr>\n",
       "      <th>1</th>\n",
       "      <td>1185868</td>\n",
       "      <td>_________ justice is designed to repair the ha...</td>\n",
       "      <td>1</td>\n",
       "      <td>1</td>\n",
       "    </tr>\n",
       "    <tr>\n",
       "      <th>2</th>\n",
       "      <td>1183785</td>\n",
       "      <td>elegxo meaning</td>\n",
       "      <td>1</td>\n",
       "      <td>2</td>\n",
       "    </tr>\n",
       "    <tr>\n",
       "      <th>3</th>\n",
       "      <td>645590</td>\n",
       "      <td>what does physical medicine do</td>\n",
       "      <td>1</td>\n",
       "      <td>3</td>\n",
       "    </tr>\n",
       "    <tr>\n",
       "      <th>4</th>\n",
       "      <td>186154</td>\n",
       "      <td>feeding rice cereal how many times per day</td>\n",
       "      <td>1</td>\n",
       "      <td>4</td>\n",
       "    </tr>\n",
       "    <tr>\n",
       "      <th>5</th>\n",
       "      <td>457407</td>\n",
       "      <td>most dependable affordable cars</td>\n",
       "      <td>1</td>\n",
       "      <td>5</td>\n",
       "    </tr>\n",
       "    <tr>\n",
       "      <th>6</th>\n",
       "      <td>441383</td>\n",
       "      <td>lithophile definition</td>\n",
       "      <td>1</td>\n",
       "      <td>6</td>\n",
       "    </tr>\n",
       "    <tr>\n",
       "      <th>7</th>\n",
       "      <td>683408</td>\n",
       "      <td>what is a flail chest</td>\n",
       "      <td>1</td>\n",
       "      <td>7</td>\n",
       "    </tr>\n",
       "    <tr>\n",
       "      <th>8</th>\n",
       "      <td>484187</td>\n",
       "      <td>put yourself on child support in texas</td>\n",
       "      <td>1</td>\n",
       "      <td>8</td>\n",
       "    </tr>\n",
       "    <tr>\n",
       "      <th>9</th>\n",
       "      <td>666321</td>\n",
       "      <td>what happens in a wrist sprain</td>\n",
       "      <td>1</td>\n",
       "      <td>9</td>\n",
       "    </tr>\n",
       "  </tbody>\n",
       "</table>\n",
       "</div>"
      ],
      "text/plain": [
       "           qid                                              query  dsid  dsqid\n",
       "dsqid                                                                         \n",
       "0      1185869  )what was the immediate impact of the success ...     1      0\n",
       "1      1185868  _________ justice is designed to repair the ha...     1      1\n",
       "2      1183785                                     elegxo meaning     1      2\n",
       "3       645590                     what does physical medicine do     1      3\n",
       "4       186154         feeding rice cereal how many times per day     1      4\n",
       "5       457407                    most dependable affordable cars     1      5\n",
       "6       441383                              lithophile definition     1      6\n",
       "7       683408                              what is a flail chest     1      7\n",
       "8       484187             put yourself on child support in texas     1      8\n",
       "9       666321                     what happens in a wrist sprain     1      9"
      ]
     },
     "execution_count": 18,
     "metadata": {},
     "output_type": "execute_result"
    }
   ],
   "source": [
    "batch.df_qs"
   ]
  },
  {
   "cell_type": "code",
   "execution_count": 19,
   "metadata": {},
   "outputs": [
    {
     "data": {
      "text/html": [
       "<div>\n",
       "<style scoped>\n",
       "    .dataframe tbody tr th:only-of-type {\n",
       "        vertical-align: middle;\n",
       "    }\n",
       "\n",
       "    .dataframe tbody tr th {\n",
       "        vertical-align: top;\n",
       "    }\n",
       "\n",
       "    .dataframe thead th {\n",
       "        text-align: right;\n",
       "    }\n",
       "</style>\n",
       "<table border=\"1\" class=\"dataframe\">\n",
       "  <thead>\n",
       "    <tr style=\"text-align: right;\">\n",
       "      <th></th>\n",
       "      <th>did</th>\n",
       "      <th>offset</th>\n",
       "      <th>dsid</th>\n",
       "      <th>dsdid</th>\n",
       "      <th>text</th>\n",
       "      <th>title</th>\n",
       "    </tr>\n",
       "    <tr>\n",
       "      <th>dsdid</th>\n",
       "      <th></th>\n",
       "      <th></th>\n",
       "      <th></th>\n",
       "      <th></th>\n",
       "      <th></th>\n",
       "      <th></th>\n",
       "    </tr>\n",
       "  </thead>\n",
       "  <tbody>\n",
       "    <tr>\n",
       "      <th>2376038</th>\n",
       "      <td>59219</td>\n",
       "      <td>16949087845</td>\n",
       "      <td>1</td>\n",
       "      <td>2376038</td>\n",
       "      <td>The Manhattan Project Introduction Importance ...</td>\n",
       "      <td>Introduction</td>\n",
       "    </tr>\n",
       "    <tr>\n",
       "      <th>100673</th>\n",
       "      <td>59235</td>\n",
       "      <td>722556427</td>\n",
       "      <td>1</td>\n",
       "      <td>100673</td>\n",
       "      <td>\"From Wikipedia, the free encyclopedianavigati...</td>\n",
       "      <td>Restorative justice</td>\n",
       "    </tr>\n",
       "    <tr>\n",
       "      <th>1201976</th>\n",
       "      <td>576811</td>\n",
       "      <td>8572285503</td>\n",
       "      <td>1</td>\n",
       "      <td>1201976</td>\n",
       "      <td>John, Sermons 2001The Ministry of the Holy Spi...</td>\n",
       "      <td>The Ministry of the Holy Spirit</td>\n",
       "    </tr>\n",
       "    <tr>\n",
       "      <th>1232741</th>\n",
       "      <td>576840</td>\n",
       "      <td>8792350091</td>\n",
       "      <td>1</td>\n",
       "      <td>1232741</td>\n",
       "      <td>\"Looking for a Physiatrist? Find a Physiatrist...</td>\n",
       "      <td>What Is a Physiatrist?</td>\n",
       "    </tr>\n",
       "    <tr>\n",
       "      <th>403227</th>\n",
       "      <td>114789</td>\n",
       "      <td>2878807930</td>\n",
       "      <td>1</td>\n",
       "      <td>403227</td>\n",
       "      <td>\"FEEDING GUIDELINES AGES 4 TO 6 MONTHSSTARTING...</td>\n",
       "      <td>FEEDING GUIDELINES AGES 4 TO 6 MONTHS</td>\n",
       "    </tr>\n",
       "    <tr>\n",
       "      <th>958172</th>\n",
       "      <td>389790</td>\n",
       "      <td>6827227963</td>\n",
       "      <td>1</td>\n",
       "      <td>958172</td>\n",
       "      <td>\"Surmount the snow with 7 of the best used all...</td>\n",
       "      <td>Surmount the snow with 7 of the best used all-...</td>\n",
       "    </tr>\n",
       "    <tr>\n",
       "      <th>2470237</th>\n",
       "      <td>576852</td>\n",
       "      <td>17619697389</td>\n",
       "      <td>1</td>\n",
       "      <td>2470237</td>\n",
       "      <td>\"From Wikipedia, the free encyclopedianavigati...</td>\n",
       "      <td>Goldschmidt classification</td>\n",
       "    </tr>\n",
       "    <tr>\n",
       "      <th>1380756</th>\n",
       "      <td>576861</td>\n",
       "      <td>9848986903</td>\n",
       "      <td>1</td>\n",
       "      <td>1380756</td>\n",
       "      <td>Flail chest describes a situation in which a p...</td>\n",
       "      <td>Flail Chest</td>\n",
       "    </tr>\n",
       "    <tr>\n",
       "      <th>277403</th>\n",
       "      <td>275258</td>\n",
       "      <td>1973432619</td>\n",
       "      <td>1</td>\n",
       "      <td>277403</td>\n",
       "      <td>Welcome!Notice ×THE TEXAS OAG CHILD SUPPORT WE...</td>\n",
       "      <td>Welcome!</td>\n",
       "    </tr>\n",
       "    <tr>\n",
       "      <th>2660349</th>\n",
       "      <td>576889</td>\n",
       "      <td>18969142686</td>\n",
       "      <td>1</td>\n",
       "      <td>2660349</td>\n",
       "      <td>Expert Reviewed How to Look After a Sprained W...</td>\n",
       "      <td>How to Look After a Sprained Wrist</td>\n",
       "    </tr>\n",
       "  </tbody>\n",
       "</table>\n",
       "</div>"
      ],
      "text/plain": [
       "            did       offset  dsid    dsdid  \\\n",
       "dsdid                                         \n",
       "2376038   59219  16949087845     1  2376038   \n",
       "100673    59235    722556427     1   100673   \n",
       "1201976  576811   8572285503     1  1201976   \n",
       "1232741  576840   8792350091     1  1232741   \n",
       "403227   114789   2878807930     1   403227   \n",
       "958172   389790   6827227963     1   958172   \n",
       "2470237  576852  17619697389     1  2470237   \n",
       "1380756  576861   9848986903     1  1380756   \n",
       "277403   275258   1973432619     1   277403   \n",
       "2660349  576889  18969142686     1  2660349   \n",
       "\n",
       "                                                      text  \\\n",
       "dsdid                                                        \n",
       "2376038  The Manhattan Project Introduction Importance ...   \n",
       "100673   \"From Wikipedia, the free encyclopedianavigati...   \n",
       "1201976  John, Sermons 2001The Ministry of the Holy Spi...   \n",
       "1232741  \"Looking for a Physiatrist? Find a Physiatrist...   \n",
       "403227   \"FEEDING GUIDELINES AGES 4 TO 6 MONTHSSTARTING...   \n",
       "958172   \"Surmount the snow with 7 of the best used all...   \n",
       "2470237  \"From Wikipedia, the free encyclopedianavigati...   \n",
       "1380756  Flail chest describes a situation in which a p...   \n",
       "277403   Welcome!Notice ×THE TEXAS OAG CHILD SUPPORT WE...   \n",
       "2660349  Expert Reviewed How to Look After a Sprained W...   \n",
       "\n",
       "                                                     title  \n",
       "dsdid                                                       \n",
       "2376038                                       Introduction  \n",
       "100673                                 Restorative justice  \n",
       "1201976                    The Ministry of the Holy Spirit  \n",
       "1232741                             What Is a Physiatrist?  \n",
       "403227               FEEDING GUIDELINES AGES 4 TO 6 MONTHS  \n",
       "958172   Surmount the snow with 7 of the best used all-...  \n",
       "2470237                         Goldschmidt classification  \n",
       "1380756                                        Flail Chest  \n",
       "277403                                            Welcome!  \n",
       "2660349                 How to Look After a Sprained Wrist  "
      ]
     },
     "execution_count": 19,
     "metadata": {},
     "output_type": "execute_result"
    }
   ],
   "source": [
    "batch.df_docs"
   ]
  },
  {
   "cell_type": "code",
   "execution_count": 20,
   "metadata": {},
   "outputs": [
    {
     "data": {
      "text/html": [
       "<div>\n",
       "<style scoped>\n",
       "    .dataframe tbody tr th:only-of-type {\n",
       "        vertical-align: middle;\n",
       "    }\n",
       "\n",
       "    .dataframe tbody tr th {\n",
       "        vertical-align: top;\n",
       "    }\n",
       "\n",
       "    .dataframe thead th {\n",
       "        text-align: right;\n",
       "    }\n",
       "</style>\n",
       "<table border=\"1\" class=\"dataframe\">\n",
       "  <thead>\n",
       "    <tr style=\"text-align: right;\">\n",
       "      <th></th>\n",
       "      <th>qid</th>\n",
       "      <th>did</th>\n",
       "      <th>dsid</th>\n",
       "      <th>dsqid</th>\n",
       "      <th>dsdid</th>\n",
       "    </tr>\n",
       "    <tr>\n",
       "      <th>dsqid</th>\n",
       "      <th></th>\n",
       "      <th></th>\n",
       "      <th></th>\n",
       "      <th></th>\n",
       "      <th></th>\n",
       "    </tr>\n",
       "  </thead>\n",
       "  <tbody>\n",
       "    <tr>\n",
       "      <th>0</th>\n",
       "      <td>1185869</td>\n",
       "      <td>59219</td>\n",
       "      <td>1</td>\n",
       "      <td>0</td>\n",
       "      <td>2376038</td>\n",
       "    </tr>\n",
       "    <tr>\n",
       "      <th>1</th>\n",
       "      <td>1185868</td>\n",
       "      <td>59235</td>\n",
       "      <td>1</td>\n",
       "      <td>1</td>\n",
       "      <td>100673</td>\n",
       "    </tr>\n",
       "    <tr>\n",
       "      <th>2</th>\n",
       "      <td>1183785</td>\n",
       "      <td>576811</td>\n",
       "      <td>1</td>\n",
       "      <td>2</td>\n",
       "      <td>1201976</td>\n",
       "    </tr>\n",
       "    <tr>\n",
       "      <th>3</th>\n",
       "      <td>645590</td>\n",
       "      <td>576840</td>\n",
       "      <td>1</td>\n",
       "      <td>3</td>\n",
       "      <td>1232741</td>\n",
       "    </tr>\n",
       "    <tr>\n",
       "      <th>4</th>\n",
       "      <td>186154</td>\n",
       "      <td>114789</td>\n",
       "      <td>1</td>\n",
       "      <td>4</td>\n",
       "      <td>403227</td>\n",
       "    </tr>\n",
       "    <tr>\n",
       "      <th>5</th>\n",
       "      <td>457407</td>\n",
       "      <td>389790</td>\n",
       "      <td>1</td>\n",
       "      <td>5</td>\n",
       "      <td>958172</td>\n",
       "    </tr>\n",
       "    <tr>\n",
       "      <th>6</th>\n",
       "      <td>441383</td>\n",
       "      <td>576852</td>\n",
       "      <td>1</td>\n",
       "      <td>6</td>\n",
       "      <td>2470237</td>\n",
       "    </tr>\n",
       "    <tr>\n",
       "      <th>7</th>\n",
       "      <td>683408</td>\n",
       "      <td>576861</td>\n",
       "      <td>1</td>\n",
       "      <td>7</td>\n",
       "      <td>1380756</td>\n",
       "    </tr>\n",
       "    <tr>\n",
       "      <th>8</th>\n",
       "      <td>484187</td>\n",
       "      <td>275258</td>\n",
       "      <td>1</td>\n",
       "      <td>8</td>\n",
       "      <td>277403</td>\n",
       "    </tr>\n",
       "    <tr>\n",
       "      <th>9</th>\n",
       "      <td>666321</td>\n",
       "      <td>576889</td>\n",
       "      <td>1</td>\n",
       "      <td>9</td>\n",
       "      <td>2660349</td>\n",
       "    </tr>\n",
       "  </tbody>\n",
       "</table>\n",
       "</div>"
      ],
      "text/plain": [
       "           qid     did  dsid  dsqid    dsdid\n",
       "dsqid                                       \n",
       "0      1185869   59219     1      0  2376038\n",
       "1      1185868   59235     1      1   100673\n",
       "2      1183785  576811     1      2  1201976\n",
       "3       645590  576840     1      3  1232741\n",
       "4       186154  114789     1      4   403227\n",
       "5       457407  389790     1      5   958172\n",
       "6       441383  576852     1      6  2470237\n",
       "7       683408  576861     1      7  1380756\n",
       "8       484187  275258     1      8   277403\n",
       "9       666321  576889     1      9  2660349"
      ]
     },
     "execution_count": 20,
     "metadata": {},
     "output_type": "execute_result"
    }
   ],
   "source": [
    "batch.df_qrels"
   ]
  },
  {
   "cell_type": "code",
   "execution_count": 21,
   "metadata": {},
   "outputs": [
    {
     "name": "stdout",
     "output_type": "stream",
     "text": [
      ")what was the immediate impact of the success of the manhattan project?\n",
      "_________ justice is designed to repair the harm to victim, the community and the offender caused by the offender criminal act. question 19 options:\n",
      "elegxo meaning\n",
      "what does physical medicine do\n",
      "feeding rice cereal how many times per day\n",
      "most dependable affordable cars\n",
      "lithophile definition\n",
      "what is a flail chest\n",
      "put yourself on child support in texas\n",
      "what happens in a wrist sprain\n"
     ]
    }
   ],
   "source": [
    "for query in batch.df_qs['query']:\n",
    "    print(query)"
   ]
  },
  {
   "cell_type": "code",
   "execution_count": 22,
   "metadata": {},
   "outputs": [
    {
     "data": {
      "text/plain": [
       "array([[ True, False, False, False, False, False, False, False, False,\n",
       "        False],\n",
       "       [False,  True, False, False, False, False, False, False, False,\n",
       "        False],\n",
       "       [False, False,  True, False, False, False, False, False, False,\n",
       "        False],\n",
       "       [False, False, False,  True, False, False, False, False, False,\n",
       "        False],\n",
       "       [False, False, False, False,  True, False, False, False, False,\n",
       "        False],\n",
       "       [False, False, False, False, False,  True, False, False, False,\n",
       "        False],\n",
       "       [False, False, False, False, False, False,  True, False, False,\n",
       "        False],\n",
       "       [False, False, False, False, False, False, False,  True, False,\n",
       "        False],\n",
       "       [False, False, False, False, False, False, False, False,  True,\n",
       "        False],\n",
       "       [False, False, False, False, False, False, False, False, False,\n",
       "         True]])"
      ]
     },
     "execution_count": 22,
     "metadata": {},
     "output_type": "execute_result"
    }
   ],
   "source": [
    "batch.qrels_masks"
   ]
  },
  {
   "cell_type": "code",
   "execution_count": 23,
   "metadata": {},
   "outputs": [
    {
     "name": "stdout",
     "output_type": "stream",
     "text": [
      "[[ 63  -2  -9  66  -3 -11  -6 -22 -12 -11]\n",
      " [ 44  94  -2  -2  -4 -10   1  -2  10  -6]\n",
      " [ 38   6  10  -3  -1 -32   8 -16 -22 -10]\n",
      " [ -8  -7 -13  35 -24 -14   0  49  -9  81]\n",
      " [-12  -3 -16  -2  95  -8 -12 -19  -1  -9]\n",
      " [ -4 -15  -4 -11  -4  96 -34   0 -10  -2]\n",
      " [  2  -5 -15  -3  -8 -19  56 -14 -12 -27]\n",
      " [-13   5 -14 -15 -17   1 -22 100  -7  61]\n",
      " [-23  30  -5 -12  -2   8 -13  -5  98  -3]\n",
      " [ -7   0 -13  -9  -6  -3 -40  63  -3  99]]\n"
     ]
    }
   ],
   "source": [
    "qs_toks, qs_masks, docs_toks, docs_masks, qrels_masks = batch.gen_tensors()\n",
    "out_rank = model(docs_toks, qs_toks)\n",
    "out_rank = out_rank.detach().cpu().numpy()\n",
    "out_rank = np.round(100 * out_rank).astype(int)\n",
    "print(out_rank)"
   ]
  },
  {
   "cell_type": "code",
   "execution_count": 34,
   "metadata": {},
   "outputs": [
    {
     "data": {
      "text/plain": [
       "(tensor(0.3631, grad_fn=<DivBackward0>),\n",
       " tensor(0.5339, grad_fn=<DivBackward0>),\n",
       " tensor(0.1923, grad_fn=<DivBackward0>))"
      ]
     },
     "execution_count": 34,
     "metadata": {},
     "output_type": "execute_result"
    }
   ],
   "source": [
    "loss_fn(out_rank, qrels_masks)"
   ]
  },
  {
   "cell_type": "code",
   "execution_count": 25,
   "metadata": {},
   "outputs": [
    {
     "name": "stdout",
     "output_type": "stream",
     "text": [
      "What Is a Physiatrist?\n",
      "\"Looking for a Physiatrist? Find a Physiatrist in Spine-health's growing Doctor Directory. A physiatrist practices in the field of physiatry - also called physical medicine and rehabilitation - which is a branch of medicine that specializes in diagnosis, treatment, and management of disease primarily using \"\"physical\"\" means, such as physical therapy and medications. Essentially, physiatrists specialize in a wide variety of treatments for the musculoskeletal system - the muscles, bones, and associated nerves, ligaments, tendons, and other structures - and the musculoskeletal disorders that cause pain and/or difficulty with functioning. Physiatrists do not perform surgery. Physiatry for Back Pain Video A physiatrist's treatment focuses on helping the patient become as functional and pain-free as possible in order to participate in and enjoy life as fully as possible. A physiatrist can be either a medical doctor (MD) or a doctor of osteopathic medicine (DO). A physiatrist may be referred to as a: Physiatrist Physical medicine and rehabilitation physician PM&R physician Article continues below Physiatry Training and Specialization A physiatrist's training includes four years of medical school as well as four years of residency training. The first year of residency training focuses on internal medicine (general practice), and the following three years of residency emphasize specialty training. After residency, further specialization and training is available through Fellowships in a particular field. A Fellowship is typically one to two years of training in a particular specialty. In This Article: What Is a Physiatrist? Physical Medicine and Rehabilitation Approach Physiatry for Back Pain Video Physiatrists may complete one of the following Fellowships that provide additional focus and training in particular forms of treatment: Spine - for treatment of back pain, sciatica, and any form of pain or dysfunction that originates in the spine Pain management - for treatment of many types of chronic pain (e.g. chronic lower back pain, osteoarthritis). Physiatrists who specialize in pain medicine have additional specialty training in injections used to treat pain. Sports medicine - for sports injuries Brain injury (e.g. stroke) - for rehabilitation Spinal cord injury - for rehabilitation Pediatric medicine - for patients under age 18Article continues below Physiatry and the Spine Physiatrists treat a wide range of problems that affect the musculoskeletal system. The following is a list of back conditions commonly treated by physiatrists: Back pain, sciatica Muscle and ligament injuries Work injuries Myofacial pain Fibromyalgia Spinal cord injury Osteoarthritis Ankylosing spondylitis Osteoporosis Because the spine is the locus of most of the body's musculoskeletal system, many physiatrists focus on treating back pain. For those who specialize who treating spinal problems, their focus may be more on rehabilitation or on injections (pain management), depending on their training and personal preference. Physical Medicine and Rehabilitation Specialty When to See a Doctor for Back Pain Video The specialty of Physical Medicine and Rehabilitation, or physiatry, is approximately 60 years old. Today, there are over 8,000 physicians practicing physical medicine and rehabilitation. 1Many PM&R physicians who treat back pain are part of a Spine Center or Spine Hospital, treating patients within a practice that includes other specialists, such as physical therapists, spine surgeons, rehabilitation specialists, and more. Whether or not they work in a multispecialty spine practice, many physiatrists also serve to coordinate the patient's care with a multidisciplinary team of other doctors and specialists - for example, physical therapists, spine surgeons, psychologists, chiropractors, and more. References:\"\"Information for Patients and Family,\"\" American Academy of Pain Medicine and Rehabilitation, accessed August 2011. Next Page: Physical Medicine and Rehabilitation Approach Pages:1 2 3 \"\n"
     ]
    }
   ],
   "source": [
    "doc_ind = 3\n",
    "print(batch.df_docs.iloc[doc_ind]['title'])\n",
    "print(batch.df_docs.iloc[doc_ind]['text'])"
   ]
  },
  {
   "cell_type": "code",
   "execution_count": null,
   "metadata": {},
   "outputs": [],
   "source": []
  },
  {
   "cell_type": "code",
   "execution_count": null,
   "metadata": {},
   "outputs": [],
   "source": []
  },
  {
   "cell_type": "code",
   "execution_count": null,
   "metadata": {},
   "outputs": [],
   "source": []
  },
  {
   "cell_type": "code",
   "execution_count": null,
   "metadata": {},
   "outputs": [],
   "source": []
  }
 ],
 "metadata": {
  "kernelspec": {
   "display_name": "mllm",
   "language": "python",
   "name": "python3"
  },
  "language_info": {
   "codemirror_mode": {
    "name": "ipython",
    "version": 3
   },
   "file_extension": ".py",
   "mimetype": "text/x-python",
   "name": "python",
   "nbconvert_exporter": "python",
   "pygments_lexer": "ipython3",
   "version": "3.10.14"
  }
 },
 "nbformat": 4,
 "nbformat_minor": 2
}
