{
 "cells": [
  {
   "cell_type": "code",
   "execution_count": 1,
   "metadata": {},
   "outputs": [],
   "source": [
    "%load_ext autoreload\n",
    "%autoreload 2"
   ]
  },
  {
   "cell_type": "code",
   "execution_count": 2,
   "metadata": {},
   "outputs": [],
   "source": [
    "from dataclasses import dataclass\n",
    "import io\n",
    "import json\n",
    "import os\n",
    "from pathlib import Path\n",
    "from pprint import pprint\n",
    "import re\n",
    "import requests\n",
    "import sys\n",
    "from typing import Optional\n",
    "\n",
    "if '..' not in sys.path: sys.path.append('..')\n",
    "\n",
    "from datasets import load_dataset\n",
    "import numpy as np\n",
    "import pandas as pd\n",
    "from pydantic_yaml import parse_yaml_file_as, to_yaml_file\n",
    "import torch\n",
    "from torch import nn\n",
    "import torch.nn.functional as F\n",
    "from transformers import BertGenerationEncoder, BertGenerationDecoder, EncoderDecoderModel, BertTokenizer, AutoTokenizer\n",
    "from transformers.modeling_outputs import Seq2SeqLMOutput, BaseModelOutputWithPastAndCrossAttentions, CausalLMOutputWithCrossAttentions\n",
    "\n",
    "from mllm.config.model import GenmixTrainDsType, TokensAggType, GenmixembCfg, copy_override_genmixemb_cfg, \\\n",
    "    gen_prefpostfix_genmixemb\n",
    "from mllm.exp.args import GENMIXEMB_BERT_MODEL_CFG_FNAME, create_bool_str_field, is_arg_true\n",
    "from mllm.model.genmixemb import Genmixemb\n",
    "from mllm.train.mask_utils import MaskCfg\n",
    "from mllm.train.utils import find_create_train_path, log_weights_grads_stats, SumTuple, QnaTuple\n",
    "from mllm.data.wiki.itwiki import WikiItem, get_wiki_batch_iterators, WikiBatch\n",
    "from mllm.utils.utils import rethrow\n",
    "from mllm.data.utils import get_squadv2_df\n"
   ]
  },
  {
   "cell_type": "markdown",
   "metadata": {},
   "source": [
    "# BERT Generator model inference\n",
    "## Configs and paths"
   ]
  },
  {
   "cell_type": "code",
   "execution_count": 27,
   "metadata": {},
   "outputs": [
    {
     "name": "stdout",
     "output_type": "stream",
     "text": [
      "Device: cuda\n",
      "n_toks_max = 448\n",
      "Mask cfg: None\n",
      "pred_next_sent = False\n",
      "self_supervise_type = nxttok\n"
     ]
    }
   ],
   "source": [
    "from mllm.config.model import SelfSuperviseType\n",
    "from mllm.model import genmixemb\n",
    "\n",
    "\n",
    "DATA_PATH = Path(os.path.expandvars('$HOME')) / 'data'\n",
    "\n",
    "model_name = 'bert-base-uncased'\n",
    "random_seed = 111\n",
    "train_genmixemb_path = DATA_PATH / 'train_mllm_genmixemb_wki'\n",
    "genmixemb_subdir = 'genmixemb-20250713_202718-bertbaseuncased-d768-mxo50-aggBrt-sub0-dsWki-tmax100-tragF'\n",
    "genmixemb_subdir = 'genmixemb-20250715_035750-bertbaseuncased-d768-mxo50-aggBrt-sub2-dsWki-tmax100-tragT'\n",
    "genmixemb_subdir = 'genmixemb-20250716_213252-bertbaseuncased-d768-mxo50-aggBrt-sub0-dsWki-tmax100-msk_sep_0.5/0.15_seq_0.5/0.2/20-tragF'\n",
    "genmixemb_subdir = 'genmixemb-20250718_220105-bertbaseuncased-d768-mxo50-aggBrt-sub2-dsWki-tmax100-tragT'\n",
    "genmixemb_subdir = 'genmixemb-20250721_083250-bertbaseuncased-d768-mxo50-aggPyr-agtDecim-stp0-lvl1-lrs2-dsWki-tmax256-tragF-nxtsnt'\n",
    "genmixemb_subdir = 'genmixemb-20250721_212402-bertbaseuncased-d768-mxo50-aggPyr-agtDecim-stp2-lvl2-lrs2-dsWki-tmax512-tragT-nxtsnt'\n",
    "genmixemb_subdir = 'genmixemb-20250722_213424-bertbaseuncased-d768-mxo50-aggPyr-agtDecim-stp2-lvl3-lrs2-dsWki-tmax512-tragT-nxtsnt'\n",
    "genmixemb_subdir = 'genmixemb-20250820_093126-bertbaseuncased-d768-mxi384-mxo50-dsWki-nxtsnt'\n",
    "model_name = 'gpt2'\n",
    "genmixemb_subdir = 'genmixemb-20250825_213542-gpt2-d768-mxi448-mxo36-dsWki-sstNxttok'\n",
    "\n",
    "# train_genmixemb_path = DATA_PATH / 'train_mllm_genmixemb_qna'\n",
    "# genmixemb_subdir = 'genmixemb-20250726_122548-bertbaseuncased-d768-mxi384-mxo50-dsQna'\n",
    "# genmixemb_subdir = 'genmixemb-20250809_234548-pre_genmixemb20250726122548-bertbaseuncased-d768-mxi384-mxo50-aggPyr-agtTopdot-stp2-lvl1-lrs2-dsQna-tragT-shemT-ttidF-jcqF'\n",
    "# genmixemb_subdir = 'genmixemb-20250810_125920-pre_genmixemb20250726122548-bertbaseuncased-d768-mxi384-mxo50-aggBrt-sub2-agtTopdot-dsQna-tragT-shemT-ttidF-jcqF'\n",
    "# genmixemb_subdir = 'genmixemb-20250813_234929-pre_genmixemb20250726122548-bertbaseuncased-d768-mxi384-mxo50-aggPyr-agtTopdot-stp2-lvl1-lrs2-dsQna-tragT-shemT-ttidF-cqprCq'\n",
    "# genmixemb_subdir = 'genmixemb-20250815_220237-pre_genmixemb20250726122548-bertbaseuncased-d768-mxi384-mxo50-aggPyr-agtMxpl-stp2-lvl1-lrs2-dsQna-tragT-shemT-ttidF-cqprCq'\n",
    "# genmixemb_subdir = 'genmixemb-20250817_201509-pre_genmixemb20250726122548-bertbaseuncased-d768-mxi384-mxo50-aggCnv-lvl1-lrs1-cksz3-pksz2-pst2-dsQna-tragT-ttidF-cqprCq'\n",
    "\n",
    "genmixemb_train_path = train_genmixemb_path / genmixemb_subdir\n",
    "genmixemb_snapshot_fpath = genmixemb_train_path / 'best.pth'\n",
    "# genmixemb_snapshot_fpath = genmixemb_train_path / 'last.pth'\n",
    "\n",
    "# device_name = 'cpu'\n",
    "device_name = 'cuda'\n",
    "\n",
    "device = torch.device(device_name)\n",
    "print('Device:', device)\n",
    "\n",
    "parts = genmixemb_subdir.split('-')\n",
    "n_toks_max = 0\n",
    "mask_cfg = None\n",
    "pred_next_sent = False\n",
    "self_supervise_type = SelfSuperviseType.Input\n",
    "for part in parts:\n",
    "    if part.startswith('mxi'):\n",
    "        n_toks_max = int(part[3:])\n",
    "    elif part.startswith('msk_'):\n",
    "        subparts = part.split('_')\n",
    "        # postfix_parts.append(f'msk_sep_{sep_freq}/{sep_frac}_seq_{seq_freq}/{seq_max_frac}/{mask_cfg.seq_max_len}')\n",
    "        sep_part, seq_part = subparts[2], subparts[4]\n",
    "        sep_freq, sep_frac = sep_part.split('/')\n",
    "        seq_freq, seq_max_frac, seq_max_len = seq_part.split('/')\n",
    "        sep_freq, sep_frac = float(sep_freq), float(sep_frac)\n",
    "        seq_freq, seq_max_frac, seq_max_len = float(seq_freq), float(seq_max_frac), int(seq_max_len)\n",
    "        mask_cfg = MaskCfg(\n",
    "            sep_freq=sep_freq, sep_frac=sep_frac, seq_freq=seq_freq, seq_max_frac=seq_max_frac,\n",
    "            seq_max_len=seq_max_len,\n",
    "        )\n",
    "    elif part.startswith('sst'):\n",
    "        self_supervise_type = SelfSuperviseType(part[3:].lower())\n",
    "        \n",
    "\n",
    "print(f'n_toks_max = {n_toks_max}')\n",
    "print('Mask cfg:', mask_cfg)\n",
    "print(f'pred_next_sent = {pred_next_sent}')\n",
    "print(f'self_supervise_type = {self_supervise_type}')\n",
    "\n",
    "batch_size = 5\n"
   ]
  },
  {
   "cell_type": "code",
   "execution_count": 28,
   "metadata": {},
   "outputs": [
    {
     "name": "stdout",
     "output_type": "stream",
     "text": [
      "{'add_token_type_ids': False,\n",
      " 'bert_agg_n_subseq_toks': 0,\n",
      " 'bert_agg_type': <BertAggType.Topdot: 'topdot'>,\n",
      " 'cnv_conv_kernel_size': 3,\n",
      " 'cnv_n_layers_per_level': 1,\n",
      " 'cnv_n_levels': 0,\n",
      " 'cnv_pool_kernel_size': 2,\n",
      " 'cnv_pool_stride': 2,\n",
      " 'cnv_share_layer_weights': False,\n",
      " 'ctx_que_prompt_type': <CtxQuePromptType.Cq: 'cq'>,\n",
      " 'd_model': 768,\n",
      " 'join_ctx_que_agg': False,\n",
      " 'max_inp_toks': 448,\n",
      " 'max_out_toks': 36,\n",
      " 'model_name': 'gpt2',\n",
      " 'pyr_agg_n_layers_per_level': 2,\n",
      " 'pyr_agg_n_levels': 2,\n",
      " 'pyr_agg_step': 2,\n",
      " 'pyr_agg_type': <HgReductType.MaxPool: 'mxpl'>,\n",
      " 'pyr_share_layer_weights': True,\n",
      " 'share_agg_enc_token_embeds': True,\n",
      " 'toks_agg_type': <TokensAggType.Conv: 'cnv'>,\n",
      " 'train_agg_model': True}\n"
     ]
    },
    {
     "name": "stderr",
     "output_type": "stream",
     "text": [
      "/tmp/ipykernel_104703/449381411.py:2: PydanticDeprecatedSince20: The `dict` method is deprecated; use `model_dump` instead. Deprecated in Pydantic V2.0 to be removed in V3.0. See Pydantic V2 Migration Guide at https://errors.pydantic.dev/2.11/migration/\n",
      "  pprint(model_cfg.dict())\n"
     ]
    }
   ],
   "source": [
    "model_cfg = parse_yaml_file_as(GenmixembCfg, genmixemb_train_path / GENMIXEMB_BERT_MODEL_CFG_FNAME)\n",
    "pprint(model_cfg.dict())"
   ]
  },
  {
   "cell_type": "markdown",
   "metadata": {},
   "source": [
    "## Load models and dataset\n",
    "### Model"
   ]
  },
  {
   "cell_type": "code",
   "execution_count": 29,
   "metadata": {},
   "outputs": [],
   "source": [
    "model = Genmixemb(model_cfg, device=device)\n",
    "tkz = model.tkz"
   ]
  },
  {
   "cell_type": "code",
   "execution_count": 30,
   "metadata": {},
   "outputs": [
    {
     "name": "stdout",
     "output_type": "stream",
     "text": [
      "Load /home/misha/data/train_mllm_genmixemb_wki/genmixemb-20250825_213542-gpt2-d768-mxi448-mxo36-dsWki-sstNxttok/best.pth\n"
     ]
    }
   ],
   "source": [
    "print(f'Load {genmixemb_snapshot_fpath}')\n",
    "checkpoint = torch.load(genmixemb_snapshot_fpath, map_location=device)\n",
    "model.load_state_dict(checkpoint['model'], strict=True)\n",
    "del checkpoint\n",
    "model.eval()\n",
    "None"
   ]
  },
  {
   "cell_type": "markdown",
   "metadata": {},
   "source": [
    "## Wiki dataset\n",
    "### Loading"
   ]
  },
  {
   "cell_type": "code",
   "execution_count": 8,
   "metadata": {},
   "outputs": [
    {
     "data": {
      "application/vnd.jupyter.widget-view+json": {
       "model_id": "f536746261a641609c82801f52bf0684",
       "version_major": 2,
       "version_minor": 0
      },
      "text/plain": [
       "Loading dataset shards:   0%|          | 0/41 [00:00<?, ?it/s]"
      ]
     },
     "metadata": {},
     "output_type": "display_data"
    },
    {
     "name": "stdout",
     "output_type": "stream",
     "text": [
      "Wikipedia 20220301.en docs: 6458670\n"
     ]
    }
   ],
   "source": [
    "wiki_ds_name, wiki_ds_subdir = '20220301.en', 'wikipedia'\n",
    "dss_wiki = load_dataset(wiki_ds_subdir, wiki_ds_name, cache_dir=str(DATA_PATH))\n",
    "ds_wiki = dss_wiki['train']\n",
    "n_docs = len(ds_wiki)\n",
    "print(f'Wikipedia {wiki_ds_name} docs: {n_docs}')"
   ]
  },
  {
   "cell_type": "code",
   "execution_count": 9,
   "metadata": {},
   "outputs": [],
   "source": [
    "def get_wiki_batch(i_batch: int, batch_size: int = batch_size) -> WikiBatch:\n",
    "    i1 = i_batch * batch_size\n",
    "    i2 = i1 + batch_size\n",
    "    items = []\n",
    "    for i in range(i1, i2):\n",
    "        row = ds_wiki[i]\n",
    "        wiki_item = WikiItem(\n",
    "            tkz=tkz, ind=i, title=row['title'], text=row['text'], max_len=n_toks_max, mask_cfg=mask_cfg,\n",
    "            self_supervise_type=self_supervise_type, max_pred_len=model_cfg.max_out_toks,\n",
    "        )\n",
    "        items.append(wiki_item)\n",
    "    batch = WikiBatch(items=items, device=device)\n",
    "    return batch"
   ]
  },
  {
   "cell_type": "markdown",
   "metadata": {},
   "source": [
    "### Wiki inference"
   ]
  },
  {
   "cell_type": "code",
   "execution_count": 10,
   "metadata": {},
   "outputs": [
    {
     "name": "stderr",
     "output_type": "stream",
     "text": [
      "Token indices sequence length is longer than the specified maximum sequence length for this model (8287 > 1024). Running this sequence through the model will result in indexing errors\n"
     ]
    }
   ],
   "source": [
    "i_batch = 0\n",
    "batch = get_wiki_batch(i_batch)\n",
    "# [n_batch, max_len]\n",
    "b_toks, b_masked_toks, b_mask, b_tgt_toks = batch.get_tensors()"
   ]
  },
  {
   "cell_type": "code",
   "execution_count": 60,
   "metadata": {},
   "outputs": [
    {
     "name": "stderr",
     "output_type": "stream",
     "text": [
      "Setting `pad_token_id` to `eos_token_id`:50256 for open-end generation.\n",
      "Setting `pad_token_id` to `eos_token_id`:50256 for open-end generation.\n"
     ]
    },
    {
     "name": "stdout",
     "output_type": "stream",
     "text": [
      "000. Inp: oy and Herbert Read stated that the border between the artist and the non-artist, what separates art from a daily act, is a construct produced by the alienation<|endoftext|><|endoftext|><|endoftext|><|endoftext|><|endoftext|><|endoftext|><|endoftext|><|endoftext|><|endoftext|><|endoftext|><|endoftext|><|endoftext|><|endoftext|><|endoftext|><|endoftext|><|endoftext|><|endoftext|><|endoftext|><|endoftext|><|endoftext|><|endoftext|><|endoftext|><|endoftext|><|endoftext|><|endoftext|><|endoftext|><|endoftext|><|endoftext|><|endoftext|><|endoftext|><|endoftext|><|endoftext|><|endoftext|><|endoftext|><|endoftext|><|endoftext|><|endoftext|><|endoftext|><|endoftext|><|endoftext|><|endoftext|><|endoftext|><|endoftext|><|endoftext|><|endoftext|><|endoftext|><|endoftext|><|endoftext|><|endoftext|><|endoftext|><|endoftext|><|endoftext|><|endoftext|><|endoftext|><|endoftext|><|endoftext|><|endoftext|><|endoftext|><|endoftext|><|endoftext|><|endoftext|><|endoftext|><|endoftext|><|endoftext|><|endoftext|><|endoftext|><|endoftext|><|endoftext|><|endoftext|><|endoftext|><|endoftext|><|endoftext|><|endoftext|><|endoftext|><|endoftext|><|endoftext|><|endoftext|><|endoftext|><|endoftext|><|endoftext|><|endoftext|><|endoftext|><|endoftext|><|endoftext|><|endoftext|><|endoftext|><|endoftext|><|endoftext|><|endoftext|><|endoftext|><|endoftext|><|endoftext|><|endoftext|><|endoftext|><|endoftext|><|endoftext|><|endoftext|><|endoftext|><|endoftext|><|endoftext|><|endoftext|><|endoftext|><|endoftext|><|endoftext|><|endoftext|><|endoftext|><|endoftext|><|endoftext|><|endoftext|><|endoftext|><|endoftext|><|endoftext|><|endoftext|><|endoftext|><|endoftext|><|endoftext|><|endoftext|><|endoftext|><|endoftext|><|endoftext|><|endoftext|><|endoftext|><|endoftext|><|endoftext|><|endoftext|><|endoftext|><|endoftext|><|endoftext|><|endoftext|><|endoftext|><|endoftext|><|endoftext|><|endoftext|><|endoftext|><|endoftext|><|endoftext|><|endoftext|><|endoftext|><|endoftext|><|endoftext|><|endoftext|><|endoftext|><|endoftext|><|endoftext|><|endoftext|><|endoftext|><|endoftext|><|endoftext|><|endoftext|><|endoftext|><|endoftext|><|endoftext|><|endoftext|><|endoftext|><|endoftext|><|endoftext|><|endoftext|><|endoftext|><|endoftext|><|endoftext|><|endoftext|><|endoftext|><|endoftext|><|endoftext|><|endoftext|><|endoftext|><|endoftext|><|endoftext|><|endoftext|><|endoftext|><|endoftext|><|endoftext|><|endoftext|><|endoftext|><|endoftext|><|endoftext|><|endoftext|><|endoftext|><|endoftext|><|endoftext|><|endoftext|><|endoftext|><|endoftext|><|endoftext|><|endoftext|><|endoftext|><|endoftext|><|endoftext|><|endoftext|><|endoftext|><|endoftext|><|endoftext|><|endoftext|><|endoftext|><|endoftext|><|endoftext|><|endoftext|><|endoftext|><|endoftext|><|endoftext|><|endoftext|><|endoftext|><|endoftext|><|endoftext|><|endoftext|><|endoftext|><|endoftext|><|endoftext|><|endoftext|><|endoftext|><|endoftext|><|endoftext|><|endoftext|><|endoftext|><|endoftext|><|endoftext|><|endoftext|><|endoftext|><|endoftext|><|endoftext|><|endoftext|><|endoftext|><|endoftext|><|endoftext|><|endoftext|><|endoftext|><|endoftext|><|endoftext|><|endoftext|><|endoftext|><|endoftext|><|endoftext|><|endoftext|><|endoftext|><|endoftext|><|endoftext|><|endoftext|><|endoftext|><|endoftext|><|endoftext|><|endoftext|><|endoftext|><|endoftext|><|endoftext|><|endoftext|><|endoftext|><|endoftext|><|endoftext|><|endoftext|><|endoftext|><|endoftext|><|endoftext|><|endoftext|><|endoftext|><|endoftext|><|endoftext|><|endoftext|><|endoftext|><|endoftext|><|endoftext|><|endoftext|><|endoftext|><|endoftext|><|endoftext|><|endoftext|><|endoftext|><|endoftext|><|endoftext|><|endoftext|><|endoftext|><|endoftext|><|endoftext|><|endoftext|><|endoftext|><|endoftext|><|endoftext|><|endoftext|><|endoftext|><|endoftext|><|endoftext|><|endoftext|><|endoftext|><|endoftext|><|endoftext|><|endoftext|><|endoftext|><|endoftext|><|endoftext|><|endoftext|><|endoftext|><|endoftext|><|endoftext|><|endoftext|><|endoftext|><|endoftext|>\n",
      "000. Tgt:  caused by capitalism and it prevents humans from living a joyful life.<|endoftext|><|endoftext|><|endoftext|>\n",
      "000. Out: <|endoftext|><|endoftext|> The painter is trying to create. The non-artist's work is not the result of a process of separation, but the product of a process of separation, which is the artist's\n"
     ]
    },
    {
     "name": "stderr",
     "output_type": "stream",
     "text": [
      "Setting `pad_token_id` to `eos_token_id`:50256 for open-end generation.\n"
     ]
    },
    {
     "name": "stdout",
     "output_type": "stream",
     "text": [
      "001. Inp:  based on observation of children. The Diagnostic interview for social and communication disorders (DISCO) may also be used.\\n\\nA pediatrician commonly performs a preliminary investigation by taking developmental history and physically examining the child. If warranted, diagnosis and evaluations are conducted with help from ASD specialists, observing and assessing cognitive, communication, family, and other factors using standardized tools, and taking into account any associated medical conditions. A pediatric neuropsychologist is often asked to assess behavior and cognitive skills, both to aid diagnosis and to help recommend educational interventions. A differential diagnosis for ASD at this stage might also consider intellectual disability, hearing impairment, and a specific language impairment such as Landau–Kleffner syndrome. The presence of autism can make it harder to diagnose coexisting psychiatric disorders such as depression.\\n\\nClinical genetics evaluations are often done once ASD is diagnosed, particularly when other symptoms already suggest a genetic cause. Although genetic technology allows clinical geneticists to link an estimated 40% of cases to genetic causes, consensus guidelines in the US and UK are limited to high-resolution chromosome and fragile X testing. A genotype-first model of diagnosis has been proposed, which would routinely assess the genome's copy number variations. As new genetic tests are developed several ethical, legal, and social issues will emerge. Commercial availability of tests may precede adequate understanding of how to use test results, given the complexity of autism's genetics. Metabolic and neuroimaging tests are<|endoftext|><|endoftext|><|endoftext|><|endoftext|><|endoftext|><|endoftext|><|endoftext|><|endoftext|><|endoftext|><|endoftext|><|endoftext|><|endoftext|><|endoftext|><|endoftext|><|endoftext|><|endoftext|><|endoftext|><|endoftext|><|endoftext|><|endoftext|><|endoftext|><|endoftext|><|endoftext|><|endoftext|><|endoftext|><|endoftext|><|endoftext|><|endoftext|><|endoftext|><|endoftext|><|endoftext|><|endoftext|><|endoftext|>\n",
      "001. Tgt:  sometimes helpful, but are not routine.\\n\\nASD<|endoftext|><|endoftext|><|endoftext|><|endoftext|>\n",
      "001. Out: <|endoftext|><|endoftext|>an increasingly important diagnostic tool to diagnose autism.\\n\\nDiagnosis\\n\\nThe diagnosis is made using genetic tests and genetic analysis of the genome. Genetic testing can be done by either\n"
     ]
    },
    {
     "name": "stderr",
     "output_type": "stream",
     "text": [
      "Setting `pad_token_id` to `eos_token_id`:50256 for open-end generation.\n"
     ]
    },
    {
     "name": "stdout",
     "output_type": "stream",
     "text": [
      "002. Inp:  Earth's surface. These factors vary with atmospheric composition, geographic location, and time (see position of the Sun). While bi-hem<|endoftext|><|endoftext|><|endoftext|><|endoftext|><|endoftext|><|endoftext|><|endoftext|><|endoftext|><|endoftext|><|endoftext|><|endoftext|><|endoftext|><|endoftext|><|endoftext|><|endoftext|><|endoftext|><|endoftext|><|endoftext|><|endoftext|><|endoftext|><|endoftext|><|endoftext|><|endoftext|><|endoftext|><|endoftext|><|endoftext|><|endoftext|><|endoftext|><|endoftext|><|endoftext|><|endoftext|><|endoftext|><|endoftext|><|endoftext|><|endoftext|><|endoftext|><|endoftext|><|endoftext|><|endoftext|><|endoftext|><|endoftext|><|endoftext|><|endoftext|><|endoftext|><|endoftext|><|endoftext|><|endoftext|><|endoftext|><|endoftext|><|endoftext|><|endoftext|><|endoftext|><|endoftext|><|endoftext|><|endoftext|><|endoftext|><|endoftext|><|endoftext|><|endoftext|><|endoftext|><|endoftext|><|endoftext|><|endoftext|><|endoftext|><|endoftext|><|endoftext|><|endoftext|><|endoftext|><|endoftext|><|endoftext|><|endoftext|><|endoftext|><|endoftext|><|endoftext|><|endoftext|><|endoftext|><|endoftext|><|endoftext|><|endoftext|><|endoftext|><|endoftext|><|endoftext|><|endoftext|><|endoftext|><|endoftext|><|endoftext|><|endoftext|><|endoftext|><|endoftext|><|endoftext|><|endoftext|><|endoftext|><|endoftext|><|endoftext|><|endoftext|><|endoftext|><|endoftext|><|endoftext|><|endoftext|><|endoftext|><|endoftext|><|endoftext|><|endoftext|><|endoftext|><|endoftext|><|endoftext|><|endoftext|><|endoftext|><|endoftext|><|endoftext|><|endoftext|><|endoftext|><|endoftext|><|endoftext|><|endoftext|><|endoftext|><|endoftext|><|endoftext|><|endoftext|><|endoftext|><|endoftext|><|endoftext|><|endoftext|><|endoftext|><|endoftext|><|endoftext|><|endoftext|><|endoftext|><|endoftext|><|endoftext|><|endoftext|><|endoftext|><|endoftext|><|endoftext|><|endoftext|><|endoftext|><|endoftext|><|endoftext|><|endoftext|><|endoftext|><|endoftext|><|endoftext|><|endoftext|><|endoftext|><|endoftext|><|endoftext|><|endoftext|><|endoftext|><|endoftext|><|endoftext|><|endoftext|><|endoftext|><|endoftext|><|endoftext|><|endoftext|><|endoftext|><|endoftext|><|endoftext|><|endoftext|><|endoftext|><|endoftext|><|endoftext|><|endoftext|><|endoftext|><|endoftext|><|endoftext|><|endoftext|><|endoftext|><|endoftext|><|endoftext|><|endoftext|><|endoftext|><|endoftext|><|endoftext|><|endoftext|><|endoftext|><|endoftext|><|endoftext|><|endoftext|><|endoftext|><|endoftext|><|endoftext|><|endoftext|><|endoftext|><|endoftext|><|endoftext|><|endoftext|><|endoftext|><|endoftext|><|endoftext|><|endoftext|><|endoftext|><|endoftext|><|endoftext|><|endoftext|><|endoftext|><|endoftext|><|endoftext|><|endoftext|><|endoftext|><|endoftext|><|endoftext|><|endoftext|><|endoftext|><|endoftext|><|endoftext|><|endoftext|><|endoftext|><|endoftext|><|endoftext|><|endoftext|><|endoftext|><|endoftext|><|endoftext|><|endoftext|><|endoftext|><|endoftext|><|endoftext|><|endoftext|><|endoftext|><|endoftext|><|endoftext|><|endoftext|><|endoftext|><|endoftext|><|endoftext|><|endoftext|><|endoftext|><|endoftext|><|endoftext|><|endoftext|><|endoftext|><|endoftext|><|endoftext|><|endoftext|><|endoftext|><|endoftext|><|endoftext|><|endoftext|><|endoftext|><|endoftext|><|endoftext|><|endoftext|><|endoftext|><|endoftext|><|endoftext|><|endoftext|><|endoftext|><|endoftext|><|endoftext|><|endoftext|><|endoftext|><|endoftext|><|endoftext|><|endoftext|><|endoftext|><|endoftext|><|endoftext|><|endoftext|><|endoftext|><|endoftext|><|endoftext|><|endoftext|><|endoftext|><|endoftext|><|endoftext|><|endoftext|><|endoftext|><|endoftext|><|endoftext|><|endoftext|><|endoftext|><|endoftext|><|endoftext|><|endoftext|><|endoftext|><|endoftext|><|endoftext|><|endoftext|><|endoftext|><|endoftext|><|endoftext|><|endoftext|><|endoftext|><|endoftext|><|endoftext|><|endoftext|><|endoftext|><|endoftext|><|endoftext|><|endoftext|><|endoftext|><|endoftext|><|endoftext|><|endoftext|><|endoftext|><|endoftext|><|endoftext|><|endoftext|><|endoftext|>\n",
      "002. Tgt: ispherical reflectance is<|endoftext|><|endoftext|><|endoftext|><|endoftext|><|endoftext|><|endoftext|><|endoftext|><|endoftext|><|endoftext|><|endoftext|><|endoftext|>\n",
      "002. Out: <|endoftext|><|endoftext|>s are generally found in the southern hemisphere, they can also be found in the southern hemisphere, where the Sun has a large surface area and a very large surface temperature gradient. These ge\n"
     ]
    },
    {
     "name": "stderr",
     "output_type": "stream",
     "text": [
      "Setting `pad_token_id` to `eos_token_id`:50256 for open-end generation.\n"
     ]
    },
    {
     "name": "stdout",
     "output_type": "stream",
     "text": [
      "003. Inp:  form resembling the Greek letter tau in the hands of medieval Irish and English writers. The Roman form is used in most printed material; it consists of a small loop with an arc over it (\"a\"). Both derive from the majuscule (capital) form. In Greek handwriting, it was common to join the left leg and horizontal stroke into a single loop, as demonstrated by the uncial version shown. Many fonts then made the right leg vertical. In some of these, the serif that began the right leg stroke developed into an arc, resulting in the printed form, while in others it was dropped, resulting in the modern handwritten form. Graphic designers refer to the Italic and Roman forms as \"single decker a\" and \"double decker a\" respectively.\\n\\nItalic type is commonly used to mark emphasis or more generally to distinguish one part of a text from the rest (set in Roman type). There are some other cases aside from italic type where script a (\"ɑ\"), also called Latin alpha, is used in contrast with Latin \"a\" (such as in the International Phonetic<|endoftext|><|endoftext|><|endoftext|><|endoftext|><|endoftext|><|endoftext|><|endoftext|><|endoftext|><|endoftext|><|endoftext|><|endoftext|><|endoftext|><|endoftext|><|endoftext|><|endoftext|><|endoftext|><|endoftext|><|endoftext|><|endoftext|><|endoftext|><|endoftext|><|endoftext|><|endoftext|><|endoftext|><|endoftext|><|endoftext|><|endoftext|><|endoftext|><|endoftext|><|endoftext|><|endoftext|><|endoftext|><|endoftext|><|endoftext|><|endoftext|><|endoftext|><|endoftext|><|endoftext|><|endoftext|><|endoftext|><|endoftext|><|endoftext|><|endoftext|><|endoftext|><|endoftext|><|endoftext|><|endoftext|><|endoftext|><|endoftext|><|endoftext|><|endoftext|><|endoftext|><|endoftext|><|endoftext|><|endoftext|><|endoftext|><|endoftext|><|endoftext|><|endoftext|><|endoftext|><|endoftext|><|endoftext|><|endoftext|><|endoftext|><|endoftext|><|endoftext|><|endoftext|><|endoftext|><|endoftext|><|endoftext|><|endoftext|><|endoftext|><|endoftext|><|endoftext|><|endoftext|><|endoftext|><|endoftext|><|endoftext|><|endoftext|><|endoftext|><|endoftext|><|endoftext|><|endoftext|><|endoftext|><|endoftext|><|endoftext|><|endoftext|><|endoftext|><|endoftext|><|endoftext|><|endoftext|><|endoftext|><|endoftext|><|endoftext|><|endoftext|><|endoftext|><|endoftext|><|endoftext|><|endoftext|><|endoftext|>\n",
      "003. Tgt:  Alphabet).\\n\\nUse in writing systems\\n\\nEnglish\\n\\nIn modern English\n",
      "003. Out: <|endoftext|><|endoftext|>Latin alphabet).\\n\\nLatin type is also often used to mark emphasis, but it may be more often used in other contexts to mark emphasis or a particular type. In the United States\n",
      "004. Inp: orporated community of Centerville. The record low of  occurred on January 30, 1966, in New Market.\\n\\nFlora and fauna\\n\\nAlabama is home to a diverse array of flora and fauna in habitats that range from the Tennessee Valley, Appalachian Plateau, and Ridge-and-Valley Appalachians of the north to the Piedmont, Canebrake, and Black Belt of the central region to the Gulf Coastal Plain and beaches along the Gulf of Mexico in the south. The state is usually ranked among the top in nation for its range of overall biodiversity.\\n\\nAlabama is in the subtropical coniferous forest biome and once boasted huge expanses of pine forest, which still form the largest proportion of forests in the state. It currently ranks fifth in the nation for the diversity of its flora. It is home to nearly 4,000 pteridophyte and spermatophyte plant species.\\n\\nIndigenous animal species in the state include 62 mammal species, 93 reptile species, 73 amphibian species, roughly 307 native freshwater fish species, and 420 bird species that spend at least part of their year within the state. Invertebrates include 97 crayfish species and 383 mollusk species. 113 of these mollusk species have never been collected outside the state.\\n\\nCensus-designated and metropolitan areas\\n\\nCities\\n\\nDemographics\\n\\nAccording to the 2020 United States census the population of Alabama was 5,024,279 on April 1, 2020, which represents an increase of 244,543 or 5.12%,\n",
      "004. Tgt:  since the 2010 census. This includes a<|endoftext|><|endoftext|><|endoftext|><|endoftext|><|endoftext|><|endoftext|><|endoftext|><|endoftext|>\n",
      "004. Out: 12%, from the previous year's 5,087,067. The population density was 1,739.7 persons per square mile (6,818.9/km2\n"
     ]
    }
   ],
   "source": [
    "with_mask = False\n",
    "# with_mask = True\n",
    "for i in range(batch_size):\n",
    "    toks, masked_toks, mask = b_toks[i], b_masked_toks[i], b_mask[i]\n",
    "    tgt_toks = None\n",
    "    if b_tgt_toks is not None:\n",
    "        tgt_toks = b_tgt_toks[i]\n",
    "    toks_inp = masked_toks if with_mask else toks\n",
    "    # toks_inp = toks_inp[:100]\n",
    "    toks_out = model.gen_on_wiki(toks=toks_inp)\n",
    "    toks_out = toks_out.squeeze(0)\n",
    "    toks_out = toks_out[len(toks_inp)-2:]  # remove prompt\n",
    "    s_inp = tkz.decode(toks_inp)\n",
    "    s_out = tkz.decode(toks_out)\n",
    "    if with_mask:\n",
    "        s_src = tkz.decode(toks)\n",
    "        print(f'{i:03d}. Msk: {s_src}')\n",
    "    s_inp = s_inp.replace('\\n', '\\\\n')\n",
    "    print(f'{i:03d}. Inp: {s_inp}')\n",
    "    if tgt_toks is not None:\n",
    "        s_tgt = tkz.decode(tgt_toks)\n",
    "        s_tgt = s_tgt.replace('\\n', '\\\\n')\n",
    "        print(f'{i:03d}. Tgt: {s_tgt}')\n",
    "    s_out = s_out.replace('\\n', '\\\\n')\n",
    "    print(f'{i:03d}. Out: {s_out}')\n",
    "    # break"
   ]
  },
  {
   "cell_type": "code",
   "execution_count": 64,
   "metadata": {},
   "outputs": [
    {
     "name": "stderr",
     "output_type": "stream",
     "text": [
      "Setting `pad_token_id` to `eos_token_id`:50256 for open-end generation.\n"
     ]
    },
    {
     "name": "stdout",
     "output_type": "stream",
     "text": [
      "000. Inp: Anarchism is a political philosophy and movement that is sceptical of authority and rejects all involuntary, coercive forms of hierarchy. Anarchism calls for the abolition of the state, which it holds to be unnecessary, undesirable, and harmful. As a historically left-wing movement, placed on the farthest left of the political spectrum, it is usually described alongside communalism and libertarian Marxism as the libertarian wing (libertarian socialism) of the socialist movement, and has a strong historical association with anti-capitalism and socialism.  Humans lived in societies without formal hierarchies long before the establishment of formal states, realms, or empires. With the rise of organised hierarchical bodies, scepticism toward authority also rose. Although traces of anarchist thought are found throughout history, modern anarchism emerged from the Enlightenment. During the latter half of the 19th and the first decades of the 20th century, the anarchist movement flourished in most parts of the world and had a significant role in workers' struggles for emancipation. Various anarchist schools of thought formed during this period. Anarchists have taken part in several revolutions, most notably in the Paris Commune, the Russian Civil War and the Spanish Civil War, whose end marked the end of the classical era of anarchism. In the last decades of the 20th and into the 21st century, the anarchist movement has been resurgent once more.  Anarchism employs a diversity of tactics in order to meet its ideal ends which can be broadly separated into revolutionary and evolutionary tactics; there is significant overlap between the two, which are merely descriptive. Revolutionary tactics aim to bring down authority and state, having taken a violent turn in the past, while evolutionary tactics aim to prefigure what an anarchist society would be like. Anarchist thought, criticism, and praxis have played a part in diverse areas of human society. Criticism of anarchism include claims that it is internally inconsistent, violent, or utopian.  Etymology, terminology, and definition   The etymological origin of anarchism is from the Ancient Greek anarkhia, meaning \"without a ruler\", composed of the prefix an- (\"without\") and the word arkhos (\"leader\" or \"ruler\"). The suffix\n",
      "000. Tgt:  -ism denotes the ideological current that favours anarchy. Anarchism appears in English from 1642 as anarchisme and anarchy from 1539; early English usages emphasised a sense\n"
     ]
    },
    {
     "name": "stderr",
     "output_type": "stream",
     "text": [
      "Setting `pad_token_id` to `eos_token_id`:50256 for open-end generation.\n"
     ]
    },
    {
     "name": "stdout",
     "output_type": "stream",
     "text": [
      "000. Out:  The suffix arkhos is a Greek word that means \"leader\" or \"ruler\" in Greek and Latin.  In popular culture  The character Arthos, played by\n",
      "001. Inp: Autism is a neurodevelopmental disorder characterized by difficulties with social interaction and communication, and by restricted and repetitive behavior. Parents often notice signs during the first three years of their child's life. These signs often develop gradually, though some autistic children experience regression in their communication and social skills after reaching developmental milestones at a normal pace.  Autism is associated with a combination of genetic and environmental factors. Risk factors during pregnancy include certain infections, such as rubella, toxins including valproic acid, alcohol, cocaine, pesticides, lead, and air pollution, fetal growth restriction, and autoimmune diseases. Controversies surround other proposed environmental causes; for example, the vaccine hypothesis, which has been disproven. Autism affects information processing in the brain and how nerve cells and their synapses connect and organize; how this occurs is not well understood. The Diagnostic and Statistical Manual of Mental Disorders (DSM-5) combines forms of the condition, including Asperger syndrome and pervasive developmental disorder not otherwise specified (PDD-NOS) into the diagnosis of autism spectrum disorder (ASD).  Several interventions have been shown to reduce symptoms and improve the ability of autistic people to function and participate independently in the community. Behavioral, psychological, education, and/or skill-building interventions may be used to assist autistic people to learn life skills necessary for living independently, as well as other social, communication, and language skills. Therapy also aims to reduce challenging behaviors and build upon strengths. Some autistic adults are unable to live independently. An autistic culture has developed, with some individuals seeking a cure and others believing autism should be accepted as a difference to be accommodated instead of cured.  Globally, autism is estimated to affect 24.8 million people . In the 2000s, the number of autistic people worldwide was estimated at 1–2 per 1,000 people. In the developed countries, about 1.5% of children are diagnosed with ASD , up from 0.7% in 2000 in the United States. It is diagnosed four to five times more often in males than females. The number of people diagnosed has increased considerably since the 1990s, which may be partly due to increased recognition of the condition.\n",
      "001. Tgt:   Characteristics Autism is a highly variable neurodevelopmental disorder whose symptoms first appear during infancy or childhood, and generally follows a steady course without remission. Autistic people\n"
     ]
    },
    {
     "name": "stderr",
     "output_type": "stream",
     "text": [
      "Setting `pad_token_id` to `eos_token_id`:50256 for open-end generation.\n"
     ]
    },
    {
     "name": "stdout",
     "output_type": "stream",
     "text": [
      "001. Out:  condition.  References  Autism Diagnosis Autism spectrum disorder Diagnosis Autism spectrum disorders Autistic personality disorder Autism Autism in\n",
      "002. Inp: Albedo (; ) is the measure of the diffuse reflection of solar radiation out of the total solar radiation and measured on a scale from 0, corresponding to a black body that absorbs all incident radiation, to 1, corresponding to a body that reflects all incident radiation.  Surface albedo is defined as the ratio of radiosity Je to the irradiance Ee (flux per unit area) received by a surface. The proportion reflected is not only determined by properties of the surface itself, but also by the spectral and angular distribution of solar radiation reaching the Earth's surface. These factors vary with atmospheric composition, geographic location, and time (see position of the Sun). While bi-hemispherical reflectance is calculated for a single angle of incidence (i.e., for a given position of the Sun), albedo is the directional integration of reflectance over all solar angles in a given period. The temporal resolution may range from seconds (as obtained from flux measurements) to daily, monthly, or annual averages.  Unless given for a specific wavelength (spectral albedo), albedo refers to the entire spectrum of solar radiation. Due to measurement constraints, it is often given for the spectrum in which most solar energy reaches the surface (between 0.3 and 3 μm). This spectrum includes visible light (0.4–0.7 μm), which explains why surfaces with a low albedo appear dark (e.g., trees absorb most radiation), whereas surfaces with a high albedo appear bright (e.g., snow reflects most radiation).  Albedo is an important concept in climatology, astronomy, and environmental management (e.g., as part of the Leadership in Energy and Environmental Design (LEED) program for sustainable rating of buildings). The average albedo of the Earth from the upper atmosphere, its planetary albedo, is 30–35% because of cloud cover, but widely varies locally across the surface because of different geological and environmental features.  The term albedo was introduced into optics by Johann Heinrich Lambert in his 1760 work Photometria.  Terrestrial albedo  Any\n",
      "002. Tgt:  albedo in visible light falls within a range of about 0.9 for fresh snow to about 0.04 for charcoal, one of the darkest substances. Deeply shadowed\n"
     ]
    },
    {
     "name": "stderr",
     "output_type": "stream",
     "text": [
      "Setting `pad_token_id` to `eos_token_id`:50256 for open-end generation.\n"
     ]
    },
    {
     "name": "stdout",
     "output_type": "stream",
     "text": [
      "002. Out:  Any surface albedo that can be measured on the scale from 0, 0, 0, and 1 corresponds to a terrestrial albedo, and a terrestrial albedo that is measured\n",
      "003. Inp: A, or a, is the first letter and the first vowel of the modern English alphabet and the ISO basic Latin alphabet. Its name in English is a (pronounced ), plural aes. It is similar in shape to the Ancient Greek letter alpha, from which it derives. The uppercase version consists of the two slanting sides of a triangle, crossed in the middle by a horizontal bar. The lowercase version can be written in two forms: the double-storey a and single-storey ɑ. The latter is commonly used in handwriting and fonts based on it, especially fonts intended to be read by children, and is also found in italic type.  In the English grammar, \"a\", and its variant \"an\", are indefinite articles.  History  The earliest certain ancestor of \"A\" is aleph (also written 'aleph), the first letter of the Phoenician alphabet, which consisted entirely of consonants (for that reason, it is also called an abjad to distinguish it from a true alphabet). In turn, the ancestor of aleph may have been a pictogram of an ox head in proto-Sinaitic script influenced by Egyptian hieroglyphs, styled as a triangular head with two horns extended.  When the ancient Greeks adopted the alphabet, they had no use for a letter to represent the glottal stop—the consonant sound that the letter denoted in Phoenician and other Semitic languages, and that was the first phoneme of the Phoenician pronunciation of the letter—so they used their version of the sign to represent the vowel , and called it by the similar name of alpha. In the earliest Greek inscriptions after the Greek Dark Ages, dating to the 8th century BC, the letter rests upon its side, but in the Greek alphabet of later times it generally resembles the modern capital letter, although many local varieties can be distinguished by the shortening of one leg, or by the angle at which the cross line is set.  The Etruscans brought the Greek alphabet to their civilization in the Italian Peninsula and left the letter unchanged. The Romans later adopted the Etruscan alphabet\n",
      "003. Tgt:  to write the Latin language, and the resulting letter was preserved in the Latin alphabet that would come to be used to write many languages, including English.  Typographic variants \n"
     ]
    },
    {
     "name": "stderr",
     "output_type": "stream",
     "text": [
      "Setting `pad_token_id` to `eos_token_id`:50256 for open-end generation.\n"
     ]
    },
    {
     "name": "stdout",
     "output_type": "stream",
     "text": [
      "003. Out: can alphabet, but it was replaced by an alternative, the Roman one.  See also  References  External links  A A  Ancient Greek letters Latin letters\n",
      "004. Inp: Alabama () is a state in the Southeastern region of the United States, bordered by Tennessee to the north; Georgia to the east; Florida and the Gulf of Mexico to the south; and Mississippi to the west. Alabama is the 30th largest by area and the 24th-most populous of the U.S. states. With a total of  of inland waterways, Alabama has among the most of any state.  Alabama is nicknamed the Yellowhammer State, after the state bird. Alabama is also known as the \"Heart of Dixie\" and the \"Cotton State\". The state tree is the longleaf pine, and the state flower is the camellia. Alabama's capital is Montgomery, and its largest city by population and area is Huntsville. Its oldest city is Mobile, founded by French colonists in 1702 as the capital of French Louisiana. Greater Birmingham is Alabama's largest metropolitan area and its economic center.  Originally home to many native tribes, present-day Alabama was a Spanish territory beginning in the sixteenth century until the French acquired it in the early eighteenth century. The British won the territory in 1763 until losing it in the American Revolutionary War. Spain held Mobile as part of Spanish West Florida until 1813. In December 1819, Alabama was recognized as a state. During the antebellum period, Alabama was a major producer of cotton, and widely used African American slave labor. In 1861, the state seceded from the United States to become part of the Confederate States of America, with Montgomery acting as its first capital, and rejoined the Union in 1868. Following the American Civil War, Alabama would suffer decades of economic hardship, in part due to agriculture and a few cash crops being the main driver of the states economy. Similar to other former slave states, Alabamian legislators employed Jim Crow laws to disenfranchise and discriminate against African Americans from the late 19th century up until the 1960s.   In the early 20th century, despite the growth of major industries and urban centers, white rural interests dominated the state legislature through the mid-20th century. During this time, urban interests and African Americans were markedly under-represented. High-\n",
      "004. Tgt: profile events such as the Selma to Montgomery march made the state a major focal point of the civil rights movement in the 1950s and 1960s. During and after World War II\n",
      "004. Out:  High-ranking state legislators, including Alabama's first Governor, William F. Montgomery, had been black since the 1830s, and the Alabama legislature had become increasingly black.  References  \n"
     ]
    }
   ],
   "source": [
    "from torch import mode, norm\n",
    "def norm_str(s: str) -> str:\n",
    "    s = s.replace('\\n', ' ').replace('\\r', ' ')\n",
    "    return s\n",
    "\n",
    "for i in range(batch_size):\n",
    "    item = batch.items[i]\n",
    "    toks_in = item.src_toks[:model_cfg.max_inp_toks]\n",
    "    s_inp = tkz.decode(toks_in)\n",
    "    print(f'{i:03d}. Inp: {norm_str(s_inp)}')\n",
    "    tooks_tgt = item.src_toks[model_cfg.max_inp_toks:model_cfg.max_inp_toks + model_cfg.max_out_toks]\n",
    "    s_tgt = tkz.decode(tooks_tgt)\n",
    "    print(f'{i:03d}. Tgt: {norm_str(s_tgt)}')\n",
    "    toks_in = torch.tensor(toks_in, dtype=torch.long, device=device)\n",
    "    toks_out = model.gen_on_wiki(toks_in)\n",
    "    toks_out = toks_out.squeeze()[len(toks_in)-2:]\n",
    "    s_out = tkz.decode(toks_out)\n",
    "    print(f'{i:03d}. Out: {norm_str(s_out)}')\n"
   ]
  },
  {
   "cell_type": "markdown",
   "metadata": {},
   "source": [
    "### Custom text"
   ]
  },
  {
   "cell_type": "code",
   "execution_count": 39,
   "metadata": {},
   "outputs": [],
   "source": [
    "context = '''\n",
    "Lithuania,[b] officially the Republic of Lithuania,[c] is a country in the Baltic region of Europe.[d] It is one of three Baltic states and lies on the eastern shore of the Baltic Sea, bordered by Latvia to the north, Belarus to the east and south, Poland to the south, and the Russian semi-exclave of Kaliningrad Oblast to the southwest, with a maritime border with Sweden to the west. Lithuania covers an area of 65,300 km2 (25,200 sq mi), with a population of 2.89 million. Its capital and largest city is Vilnius; other major cities include Kaunas, Klaipėda, Šiauliai and Panevėžys. Lithuanians who are the titular nation and form the majority of the country's population, belong to the ethnolinguistic group of Balts and speak Lithuanian. For millennia, the southeastern shores of the Baltic Sea were inhabited by various Baltic tribes. In the 1230s, Lithuanian lands were united for the first time by Mindaugas, who formed the Kingdom of Lithuania on 6 July 1253. Subsequent expansion and consolidation resulted in the Grand Duchy of Lithuania, which by the 14th century was the largest country in Europe. In 1386, the Grand Duchy entered into a de facto personal union with the Crown of the Kingdom of Poland. The two realms were united into the bi-confederal Polish-Lithuanian Commonwealth in 1569, forming one of the largest and most prosperous states in Europe. The Commonwealth lasted more than two centuries, until neighbouring countries gradually dismantled it between 1772 and 1795, with the Russian Empire annexing most of Lithuania's territory. Towards the end of World War I, Lithuania declared independence in 1918, founding the modern Republic of Lithuania. In World War II, Lithuania was occupied by the Soviet Union, then by Nazi Germany, before being reoccupied by the Soviets in 1944. Lithuanian armed resistance to the Soviet occupation lasted until the early 1950s. On 11 March 1990, a year before the formal dissolution of the Soviet Union, Lithuania became the first Soviet republic to break away when it proclaimed the restoration of its independence. Lithuania is a developed country with a high-income and an advanced economy ranking very high in Human Development Index.'''\n",
    "context2 = 'Lithuania ranks highly in digital infrastructure,[25][26] press freedom and happiness.[27] Lithuania is a member of the United Nations, the European Union, the Council of Europe, the Council of the Baltic Sea States, the Eurozone, the Nordic Investment Bank, the International Monetary Fund, the Schengen Agreement, NATO, OECD and the World Trade Organization. It also participates in the Nordic-Baltic Eight (NB8) regional co-operation format.'\n",
    "\n",
    "question = 'When Lithuania declared its independence and from whom?'\n",
    "# question = 'When Lithuania declared its independence?'\n",
    "question = 'When Kingdom of Lithuania was formed?'\n",
    "# question = 'What is the capital of Lithuania?'\n",
    "text = f'''\n",
    "Context: {context.strip()}. Question: {question}. Answer: \n",
    "'''\n",
    "# text = f'''\n",
    "# <context>{context.strip()}</context> <question>{question}</question> <answer> The capital of Lithuania is\n",
    "# '''\n",
    "text = text.strip()\n",
    "title = 'Lithuania'"
   ]
  },
  {
   "cell_type": "code",
   "execution_count": 46,
   "metadata": {},
   "outputs": [
    {
     "name": "stderr",
     "output_type": "stream",
     "text": [
      "The following generation flags are not valid and may be ignored: ['temperature', 'top_p', 'top_k']. Set `TRANSFORMERS_VERBOSITY=info` for more details.\n",
      "The attention mask and the pad token id were not set. As a consequence, you may observe unexpected behavior. Please pass your input's `attention_mask` to obtain reliable results.\n",
      "Setting `pad_token_id` to `eos_token_id`:50256 for open-end generation.\n"
     ]
    },
    {
     "name": "stdout",
     "output_type": "stream",
     "text": [
      "492 [21947, 25, 31295, 17414, 65, 60, 8720, 262, 2066, 286, 31295, 17414, 66, 60, 318, 257, 1499, 287, 262, 32882, 3814, 286, 2031, 3693, 67, 60, 632, 318, 530, 286, 1115, 32882, 2585, 290, 7363, 319, 262, 10183, 15191, 286, 262, 32882, 6896, 11, 275, 24071, 416, 35794, 284, 262, 5093, 11, 33368, 284, 262, 7627, 290, 5366, 11, 12873, 284, 262, 5366, 11, 290, 262, 3394, 10663, 12, 1069, 44281, 286, 12612, 3191, 6335, 1835, 12957, 284, 262, 26283, 11, 351, 257, 30017, 4865, 351, 10710, 284, 262, 7421, 13, 31295, 8698, 281, 1989, 286, 6135, 11, 6200, 10571, 17, 357, 1495, 11, 2167, 19862, 21504, 828, 351, 257, 3265, 286, 362, 13, 4531, 1510, 13, 6363, 3139, 290, 4387, 1748, 318, 34037, 77, 3754, 26, 584, 1688, 4736, 2291, 509, 1942, 292, 11, 509, 5031, 541, 128, 245, 6814, 11, 25370, 254, 544, 43640, 72, 290, 350, 1531, 85, 128, 245, 129, 122, 893, 13, 49033, 1547, 508, 389, 262, 5259, 934, 3277, 290, 1296, 262, 3741, 286, 262, 1499, 338, 3265, 11, 5594, 284, 262, 33961, 349, 6680, 2569, 1448, 286, 8528, 912, 290, 2740, 49033, 666, 13, 1114, 38710, 11, 262, 35618, 29963, 286, 262, 32882, 6896, 547, 30671, 416, 2972, 32882, 15663, 13, 554, 262, 1105, 1270, 82, 11, 49033, 666, 8604, 547, 16503, 329, 262, 717, 640, 416, 10175, 7493, 292, 11, 508, 7042, 262, 7526, 286, 31295, 319, 718, 2901, 1105, 4310, 13, 3834, 44399, 7118, 290, 31941, 8724, 287, 262, 5675, 360, 794, 88, 286, 31295, 11, 543, 416, 262, 1478, 400, 4289, 373, 262, 4387, 1499, 287, 2031, 13, 554, 1511, 4521, 11, 262, 5675, 360, 794, 88, 5982, 656, 257, 390, 26126, 2614, 6441, 351, 262, 12223, 286, 262, 7526, 286, 12873, 13, 383, 734, 35423, 547, 16503, 656, 262, 3182, 12, 10414, 2110, 15945, 12, 43, 342, 7258, 666, 17165, 287, 1315, 3388, 11, 14583, 530, 286, 262, 4387, 290, 749, 32757, 2585, 287, 2031, 13, 383, 17165, 15436, 517, 621, 734, 10675, 11, 1566, 29272, 2678, 11835, 44001, 340, 1022, 1596, 4761, 290, 1596, 3865, 11, 351, 262, 3394, 8065, 22768, 278, 749, 286, 31295, 338, 7674, 13, 49953, 262, 886, 286, 2159, 1810, 314, 11, 31295, 6875, 10404, 287, 25859, 11, 16636, 262, 3660, 2066, 286, 31295, 13, 554, 2159, 1810, 2873, 11, 31295, 373, 12030, 416, 262, 7570, 4479, 11, 788, 416, 12267, 4486, 11, 878, 852, 302, 28756, 416, 262, 31062, 287, 16994, 13, 49033, 666, 6936, 6625, 284, 262, 7570, 13755, 15436, 1566, 262, 1903, 11445, 82, 13, 1550, 1367, 2805, 6303, 11, 257, 614, 878, 262, 8766, 37494, 286, 262, 7570, 4479, 11, 31295, 2627, 262, 717, 7570, 17146, 284, 2270, 1497, 618, 340, 25546, 262, 19414, 286, 663, 10404, 13, 31295, 318, 257, 4166, 1499, 351, 257, 1029, 12, 12519, 290, 281, 6190, 3773, 12759, 845, 1029, 287, 5524, 7712, 12901, 492, 18233, 25, 1649, 7526, 286, 31295, 373, 7042, 30, 13, 23998, 25]\n"
     ]
    },
    {
     "data": {
      "text/plain": [
       "' Answer: In the early 1990s, Lithuania was a member of the European Union.\\n\\nReferences\\n\\nExternal links\\nOfficial website\\n\\nLithuania\\nLithuania\\nLithuania\\nLithuania\\nLithuania\\nLithuania'"
      ]
     },
     "execution_count": 46,
     "metadata": {},
     "output_type": "execute_result"
    }
   ],
   "source": [
    "toks_in = tkz(text).input_ids\n",
    "print(len(toks_in), toks_in)\n",
    "toks_in = torch.tensor(toks_in, dtype=torch.long, device=device)\n",
    "toks_out = model.gen_on_wiki(toks_in)\n",
    "toks_out = toks_out.squeeze()[len(toks_in)-2:]\n",
    "s_out = tkz.decode(toks_out)\n",
    "s_out"
   ]
  },
  {
   "cell_type": "code",
   "execution_count": 36,
   "metadata": {},
   "outputs": [
    {
     "name": "stdout",
     "output_type": "stream",
     "text": [
      "372 0\n"
     ]
    }
   ],
   "source": [
    "print(len(toks_in), len(toks_out))"
   ]
  },
  {
   "cell_type": "code",
   "execution_count": 31,
   "metadata": {},
   "outputs": [
    {
     "data": {
      "text/plain": [
       "\"Context: Lithuania,[b] officially the Republic of Lithuania,[c] is a country in the Baltic region of Europe.[d] It is one of three Baltic states and lies on the eastern shore of the Baltic Sea, bordered by Latvia to the north, Belarus to the east and south, Poland to the south, and the Russian semi-exclave of Kaliningrad Oblast to the southwest, with a maritime border with Sweden to the west. Lithuania covers an area of 65,300 km2 (25,200 sq mi), with a population of 2.89 million. Its capital and largest city is Vilnius; other major cities include Kaunas, Klaipėda, Šiauliai and Panevėžys. Lithuanians who are the titular nation and form the majority of the country's population, belong to the ethnolinguistic group of Balts and speak Lithuanian. For millennia, the southeastern shores of the Baltic Sea were inhabited by various Baltic tribes. In the 1230s, Lithuanian lands were united for the first time by Mindaugas, who formed the Kingdom of Lithuania on 6 July 1253. Subsequent expansion and consolidation resulted in the Grand Duchy of Lithuania, which by the 14th century was the largest country in Europe. In 1386, the Grand Duchy entered into a de facto personal union with the Crown of the Kingdom of Poland. The two realms were united into the bi-confederal Polish-Lithuanian Commonwealth in 1569, forming one of the largest and most prosperous states in Europe. The Commonwealth lasted more than two centuries, until neighbouring countries gradually dismantled it between 1772 and 1795, with the Russian Empire annexing most of Lithuania's territory.. Question: What is a capital of Lithuania?. Answer:\""
      ]
     },
     "execution_count": 31,
     "metadata": {},
     "output_type": "execute_result"
    }
   ],
   "source": [
    "tkz.decode(toks_in)"
   ]
  },
  {
   "cell_type": "markdown",
   "metadata": {},
   "source": [
    "### Try nltk for sentence splitting"
   ]
  },
  {
   "cell_type": "code",
   "execution_count": 8,
   "metadata": {},
   "outputs": [
    {
     "name": "stderr",
     "output_type": "stream",
     "text": [
      "[nltk_data] Downloading package punkt_tab to /home/misha/nltk_data...\n",
      "[nltk_data]   Package punkt_tab is already up-to-date!\n"
     ]
    },
    {
     "data": {
      "text/plain": [
       "True"
      ]
     },
     "execution_count": 8,
     "metadata": {},
     "output_type": "execute_result"
    }
   ],
   "source": [
    "import nltk\n",
    "from nltk.tokenize import sent_tokenize\n",
    "from timeit import default_timer as timer\n",
    "\n",
    "nltk.download('punkt_tab')"
   ]
  },
  {
   "cell_type": "code",
   "execution_count": 101,
   "metadata": {},
   "outputs": [
    {
     "name": "stdout",
     "output_type": "stream",
     "text": [
      "43985 559 Anarchism is a political philosophy and movement that is sceptical of authority and rejects all involuntary, coercive forms of hierarchy. Anarchism calls for the abolition of the state, which it holds to be unnecessary, undesirable, and harmful. As a historically left-wing movement, placed on the farthest left of the political spectrum, it is usually described alongside communalism and libertarian Marxism as the libertarian wing (libertarian socialism) of the socialist movement, and has a strong historical association with anti-capitalism and socialism.\n"
     ]
    }
   ],
   "source": [
    "item = ds_wiki[0]\n",
    "txt = item['text']\n",
    "s = txt.split('\\n')[0]\n",
    "print(len(txt), len(s), s)"
   ]
  },
  {
   "cell_type": "code",
   "execution_count": 97,
   "metadata": {},
   "outputs": [
    {
     "name": "stdout",
     "output_type": "stream",
     "text": [
      "Anarchism is a political philosophy and movement that is sceptical of authority and rejects all involuntary, coercive forms of hierarchy.\n",
      "Anarchism calls for the abolition of the state, which it holds to be unnecessary, undesirable, and harmful.\n",
      "As a historically left-wing movement, placed on the farthest left of the political spectrum, it is usually described alongside communalism and libertarian Marxism as the libertarian wing (libertarian socialism) of the socialist movement, and has a strong historical association with anti-capitalism and socialism.\n"
     ]
    }
   ],
   "source": [
    "sents = sent_tokenize(s)\n",
    "for sent in sents:\n",
    "    print(sent)"
   ]
  },
  {
   "cell_type": "code",
   "execution_count": 100,
   "metadata": {},
   "outputs": [
    {
     "name": "stdout",
     "output_type": "stream",
     "text": [
      "sent_tokenize avg time: 0.005308\n"
     ]
    }
   ],
   "source": [
    "N = 1000\n",
    "t1 = timer()\n",
    "for i in range(N):\n",
    "    sents = sent_tokenize(txt)\n",
    "t2 = timer()\n",
    "delta = (t2 - t1) / N\n",
    "print(f'sent_tokenize avg time: {delta:0.6f}')\n"
   ]
  },
  {
   "cell_type": "code",
   "execution_count": null,
   "metadata": {},
   "outputs": [],
   "source": []
  },
  {
   "cell_type": "markdown",
   "metadata": {},
   "source": [
    "## Squad v2 dataset\n",
    "### Loading"
   ]
  },
  {
   "cell_type": "code",
   "execution_count": 9,
   "metadata": {},
   "outputs": [
    {
     "name": "stdout",
     "output_type": "stream",
     "text": [
      "Remove empty answers from dataset squad_v2. Size: 142192 --> 92749\n",
      "92749\n",
      "                         id    title  \\\n",
      "0  56be85543aeaaa14008c9063  Beyoncé   \n",
      "1  56be85543aeaaa14008c9065  Beyoncé   \n",
      "2  56be85543aeaaa14008c9066  Beyoncé   \n",
      "3  56bf6b0f3aeaaa14008c9601  Beyoncé   \n",
      "4  56bf6b0f3aeaaa14008c9602  Beyoncé   \n",
      "\n",
      "                                             context  \\\n",
      "0  Beyoncé Giselle Knowles-Carter (/biːˈjɒnseɪ/ b...   \n",
      "1  Beyoncé Giselle Knowles-Carter (/biːˈjɒnseɪ/ b...   \n",
      "2  Beyoncé Giselle Knowles-Carter (/biːˈjɒnseɪ/ b...   \n",
      "3  Beyoncé Giselle Knowles-Carter (/biːˈjɒnseɪ/ b...   \n",
      "4  Beyoncé Giselle Knowles-Carter (/biːˈjɒnseɪ/ b...   \n",
      "\n",
      "                                            question  \\\n",
      "0           When did Beyonce start becoming popular?   \n",
      "1  What areas did Beyonce compete in when she was...   \n",
      "2  When did Beyonce leave Destiny's Child and bec...   \n",
      "3      In what city and state did Beyonce  grow up?    \n",
      "4         In which decade did Beyonce become famous?   \n",
      "\n",
      "                                             answers  \n",
      "0  {'text': ['in the late 1990s'], 'answer_start'...  \n",
      "1  {'text': ['singing and dancing'], 'answer_star...  \n",
      "2          {'text': ['2003'], 'answer_start': [526]}  \n",
      "3  {'text': ['Houston, Texas'], 'answer_start': [...  \n",
      "4    {'text': ['late 1990s'], 'answer_start': [276]}  \n"
     ]
    }
   ],
   "source": [
    "df_squad = get_squadv2_df(exclude_empty_answers=True)\n",
    "print(len(df_squad))\n",
    "print(df_squad.head())"
   ]
  },
  {
   "cell_type": "code",
   "execution_count": 10,
   "metadata": {},
   "outputs": [],
   "source": [
    "from mllm.data.itsquadv2 import QnaItemV2, QnaBatchV2\n",
    "\n",
    "\n",
    "def get_qna_batch(i_batch: int, batch_size: int = batch_size) -> QnaBatchV2:\n",
    "    i1 = i_batch * batch_size\n",
    "    i2 = i1 + batch_size\n",
    "    items = []\n",
    "    for i in range(i1, i2):\n",
    "        row = df_squad.iloc[i]\n",
    "        answer = row.answers['text'][0]\n",
    "        qna_item = QnaItemV2(\n",
    "            tkz=tkz, ind=i, context=row.context, question=row.question, answer=answer, max_ctx_toks=n_toks_max, max_que_toks=model_cfg.max_inp_toks,\n",
    "            max_ans_toks=model_cfg.max_out_toks,\n",
    "        )\n",
    "        items.append(qna_item)\n",
    "    batch = QnaBatchV2(\n",
    "        items=items, max_inp_len=n_toks_max, max_out_len=model_cfg.max_out_toks, device=device,\n",
    "    )\n",
    "    return batch"
   ]
  },
  {
   "cell_type": "markdown",
   "metadata": {},
   "source": [
    "### QnA inference"
   ]
  },
  {
   "cell_type": "code",
   "execution_count": 15,
   "metadata": {},
   "outputs": [
    {
     "data": {
      "text/plain": [
       "(torch.Size([5, 198]),\n",
       " torch.Size([5, 18]),\n",
       " torch.Size([5, 6]),\n",
       " torch.Size([5, 219]))"
      ]
     },
     "execution_count": 15,
     "metadata": {},
     "output_type": "execute_result"
    }
   ],
   "source": [
    "i_batch = 33\n",
    "batch = get_qna_batch(i_batch)\n",
    "# [n_batch, max_len]\n",
    "b_ctx_toks, b_que_toks, b_ans_toks, b_cq_toks = batch.get_tensors()\n",
    "b_ctx_toks.shape, b_que_toks.shape, b_ans_toks.shape, b_cq_toks.shape"
   ]
  },
  {
   "cell_type": "code",
   "execution_count": 16,
   "metadata": {},
   "outputs": [
    {
     "name": "stdout",
     "output_type": "stream",
     "text": [
      "000. Inp: [CLS] her first acting role of 2006 was in the comedy film the pink panther starring opposite steve martin, grossing $ 158. 8 million at the box office worldwide. her second film dreamgirls, the film version of the 1981 broadway musical loosely based on the supremes, received acclaim from critics and grossed $ 154 million internationally. in it, she starred opposite jennifer hudson, jamie foxx, and eddie murphy playing a pop singer based on diana ross. to promote the film, beyonce released \" listen \" as the lead single from the soundtrack album. in april 2007, beyonce embarked on the beyonce experience, her first worldwide concert tour, visiting 97 venues and grossed over $ 24 million. [ note 1 ] beyonce conducted pre - concert food donation drives during six major stops in conjunction with her pastor at st. john's and america's second harvest. at the same time, b'day was re - released with five additional songs, including her duet with shakira \" beautiful liar \". [SEP] how many millions of dollars did'' the pink panther'' gross world - wide? [SEP]\n",
      "000. Tgt: [CLS] 158. 8 million [SEP]\n",
      "000. Out: [CLS] 158. 8 million [SEP]\n",
      "001. Inp: [CLS] her first acting role of 2006 was in the comedy film the pink panther starring opposite steve martin, grossing $ 158. 8 million at the box office worldwide. her second film dreamgirls, the film version of the 1981 broadway musical loosely based on the supremes, received acclaim from critics and grossed $ 154 million internationally. in it, she starred opposite jennifer hudson, jamie foxx, and eddie murphy playing a pop singer based on diana ross. to promote the film, beyonce released \" listen \" as the lead single from the soundtrack album. in april 2007, beyonce embarked on the beyonce experience, her first worldwide concert tour, visiting 97 venues and grossed over $ 24 million. [ note 1 ] beyonce conducted pre - concert food donation drives during six major stops in conjunction with her pastor at st. john's and america's second harvest. at the same time, b'day was re - released with five additional songs, including her duet with shakira \" beautiful liar \". [SEP] what did beyonce call her first concert tour? [SEP] [PAD] [PAD] [PAD] [PAD] [PAD] [PAD] [PAD] [PAD] [PAD]\n",
      "001. Tgt: [CLS] the beyonce experience [SEP] [PAD]\n",
      "001. Out: [CLS] the beyonce experience [SEP]\n",
      "002. Inp: [CLS] her first acting role of 2006 was in the comedy film the pink panther starring opposite steve martin, grossing $ 158. 8 million at the box office worldwide. her second film dreamgirls, the film version of the 1981 broadway musical loosely based on the supremes, received acclaim from critics and grossed $ 154 million internationally. in it, she starred opposite jennifer hudson, jamie foxx, and eddie murphy playing a pop singer based on diana ross. to promote the film, beyonce released \" listen \" as the lead single from the soundtrack album. in april 2007, beyonce embarked on the beyonce experience, her first worldwide concert tour, visiting 97 venues and grossed over $ 24 million. [ note 1 ] beyonce conducted pre - concert food donation drives during six major stops in conjunction with her pastor at st. john's and america's second harvest. at the same time, b'day was re - released with five additional songs, including her duet with shakira \" beautiful liar \". [SEP] who was beyonce's duet with in'' beautiful liar''? [SEP] [PAD] [PAD] [PAD]\n",
      "002. Tgt: [CLS] shakira [SEP] [PAD]\n",
      "002. Out: [CLS] shakira [SEP]\n",
      "003. Inp: [CLS] her first acting role of 2006 was in the comedy film the pink panther starring opposite steve martin, grossing $ 158. 8 million at the box office worldwide. her second film dreamgirls, the film version of the 1981 broadway musical loosely based on the supremes, received acclaim from critics and grossed $ 154 million internationally. in it, she starred opposite jennifer hudson, jamie foxx, and eddie murphy playing a pop singer based on diana ross. to promote the film, beyonce released \" listen \" as the lead single from the soundtrack album. in april 2007, beyonce embarked on the beyonce experience, her first worldwide concert tour, visiting 97 venues and grossed over $ 24 million. [ note 1 ] beyonce conducted pre - concert food donation drives during six major stops in conjunction with her pastor at st. john's and america's second harvest. at the same time, b'day was re - released with five additional songs, including her duet with shakira \" beautiful liar \". [SEP] which film did beyonce star with steve martin in? [SEP] [PAD] [PAD] [PAD] [PAD] [PAD] [PAD] [PAD] [PAD]\n",
      "003. Tgt: [CLS] the pink panther [SEP] [PAD]\n",
      "003. Out: [CLS] the pink panther [SEP]\n",
      "004. Inp: [CLS] her first acting role of 2006 was in the comedy film the pink panther starring opposite steve martin, grossing $ 158. 8 million at the box office worldwide. her second film dreamgirls, the film version of the 1981 broadway musical loosely based on the supremes, received acclaim from critics and grossed $ 154 million internationally. in it, she starred opposite jennifer hudson, jamie foxx, and eddie murphy playing a pop singer based on diana ross. to promote the film, beyonce released \" listen \" as the lead single from the soundtrack album. in april 2007, beyonce embarked on the beyonce experience, her first worldwide concert tour, visiting 97 venues and grossed over $ 24 million. [ note 1 ] beyonce conducted pre - concert food donation drives during six major stops in conjunction with her pastor at st. john's and america's second harvest. at the same time, b'day was re - released with five additional songs, including her duet with shakira \" beautiful liar \". [SEP] beyonce's role in dreamgirls was based on what pop singer? [SEP] [PAD] [PAD] [PAD]\n",
      "004. Tgt: [CLS] diana ross. [SEP] [PAD]\n",
      "004. Out: [CLS] diana ross.. [SEP]\n"
     ]
    }
   ],
   "source": [
    "for i in range(batch_size):\n",
    "    ctx_toks, que_toks, ans_toks, cq_toks = b_ctx_toks[i], b_que_toks[i], b_ans_toks[i], b_cq_toks[i]\n",
    "    tgt_toks = ans_toks\n",
    "    toks_inp = cq_toks\n",
    "    toks_out = model.gen_on_qna(ctx_toks=ctx_toks, que_toks=que_toks, cq_toks=cq_toks)\n",
    "    toks_out = toks_out.squeeze(0)\n",
    "    s_inp = tkz.decode(toks_inp)\n",
    "    s_out = tkz.decode(toks_out)\n",
    "    s_tgt = tkz.decode(tgt_toks)\n",
    "    print(f'{i:03d}. Inp: {s_inp}')\n",
    "    print(f'{i:03d}. Tgt: {s_tgt}')\n",
    "    print(f'{i:03d}. Out: {s_out}')\n",
    "    # break"
   ]
  },
  {
   "cell_type": "markdown",
   "metadata": {},
   "source": [
    "### Custom text"
   ]
  },
  {
   "cell_type": "code",
   "execution_count": 20,
   "metadata": {},
   "outputs": [],
   "source": [
    "context = '''\n",
    "Lithuania,[b] officially the Republic of Lithuania,[c] is a country in the Baltic region of Europe.[d] It is one of three Baltic states and lies on the eastern shore of the Baltic Sea, bordered by Latvia to the north, Belarus to the east and south, Poland to the south, and the Russian semi-exclave of Kaliningrad Oblast to the southwest, with a maritime border with Sweden to the west. Lithuania covers an area of 65,300 km2 (25,200 sq mi), with a population of 2.89 million. Its capital and largest city is Vilnius; other major cities include Kaunas, Klaipėda, Šiauliai and Panevėžys. Lithuanians who are the titular nation and form the majority of the country's population, belong to the ethnolinguistic group of Balts and speak Lithuanian. For millennia, the southeastern shores of the Baltic Sea were inhabited by various Baltic tribes. In the 1230s, Lithuanian lands were united for the first time by Mindaugas, who formed the Kingdom of Lithuania on 6 July 1253. Subsequent expansion and consolidation resulted in the Grand Duchy of Lithuania, which by the 14th century was the largest country in Europe. In 1386, the Grand Duchy entered into a de facto personal union with the Crown of the Kingdom of Poland. The two realms were united into the bi-confederal Polish-Lithuanian Commonwealth in 1569, forming one of the largest and most prosperous states in Europe. The Commonwealth lasted more than two centuries, until neighbouring countries gradually dismantled it between 1772 and 1795, with the Russian Empire annexing most of Lithuania's territory. Towards the end of World War I, Lithuania declared independence in 1918, founding the modern Republic of Lithuania. In World War II, Lithuania was occupied by the Soviet Union, then by Nazi Germany, before being reoccupied by the Soviets in 1944. Lithuanian armed resistance to the Soviet occupation lasted until the early 1950s. On 11 March 1990, a year before the formal dissolution of the Soviet Union, Lithuania became the first Soviet republic to break away when it proclaimed the restoration of its independence. Lithuania is a developed country with a high-income and an advanced economy ranking very high in Human Development Index.'''\n",
    "context2 = 'Lithuania ranks highly in digital infrastructure,[25][26] press freedom and happiness.[27] Lithuania is a member of the United Nations, the European Union, the Council of Europe, the Council of the Baltic Sea States, the Eurozone, the Nordic Investment Bank, the International Monetary Fund, the Schengen Agreement, NATO, OECD and the World Trade Organization. It also participates in the Nordic-Baltic Eight (NB8) regional co-operation format.'\n",
    "\n",
    "question = 'When Lithuania declared its independence?'\n",
    "question = 'What is an area of Lithuania?'\n",
    "# question = 'What is a population of Lithuania?'\n",
    "question = 'What is a capital of Lithuania?'\n",
    "text = f'''\n",
    "[CLS] {context.strip()} [SEP] {question} [SEP]: \n",
    "'''\n",
    "text = text.strip()"
   ]
  },
  {
   "cell_type": "code",
   "execution_count": null,
   "metadata": {},
   "outputs": [],
   "source": [
    "toks_in = tkz(text).input_ids\n",
    "toks_in = torch.tensor(toks_in, dtype=torch.long, device=device)\n",
    "ctx_toks = tkz(context, return_tensors='pt', add_special_tokens=False).input_ids\n",
    "que_toks = tkz(question, return_tensors='pt', add_special_tokens=False).input_ids\n",
    "toks_out = model.gen_on_qna(ctx_toks=ctx_toks, que_toks=que_toks)\n",
    "s_out = tkz.decode(toks_out.squeeze())\n",
    "s_out"
   ]
  },
  {
   "cell_type": "code",
   "execution_count": 20,
   "metadata": {},
   "outputs": [
    {
     "data": {
      "text/plain": [
       "(472, 1)"
      ]
     },
     "execution_count": 20,
     "metadata": {},
     "output_type": "execute_result"
    }
   ],
   "source": [
    "len(toks_in), len(toks_out)"
   ]
  },
  {
   "cell_type": "code",
   "execution_count": 21,
   "metadata": {},
   "outputs": [
    {
     "data": {
      "text/plain": [
       "tensor([[0.0345, 0.3600],\n",
       "        [0.7277, 0.2924],\n",
       "        [0.9627, 0.5792]])"
      ]
     },
     "execution_count": 21,
     "metadata": {},
     "output_type": "execute_result"
    }
   ],
   "source": [
    "torch.rand((3, 2))"
   ]
  },
  {
   "cell_type": "code",
   "execution_count": null,
   "metadata": {},
   "outputs": [],
   "source": []
  }
 ],
 "metadata": {
  "kernelspec": {
   "display_name": "mllm",
   "language": "python",
   "name": "python3"
  },
  "language_info": {
   "codemirror_mode": {
    "name": "ipython",
    "version": 3
   },
   "file_extension": ".py",
   "mimetype": "text/x-python",
   "name": "python",
   "nbconvert_exporter": "python",
   "pygments_lexer": "ipython3",
   "version": "3.10.14"
  }
 },
 "nbformat": 4,
 "nbformat_minor": 2
}
