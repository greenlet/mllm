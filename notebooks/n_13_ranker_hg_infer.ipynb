{
 "cells": [
  {
   "cell_type": "code",
   "execution_count": 1,
   "metadata": {},
   "outputs": [],
   "source": [
    "%load_ext autoreload\n",
    "%autoreload 2"
   ]
  },
  {
   "cell_type": "code",
   "execution_count": 3,
   "metadata": {},
   "outputs": [],
   "source": [
    "import os\n",
    "from pathlib import Path\n",
    "from pprint import pprint\n",
    "import sys\n",
    "from typing import Optional\n",
    "\n",
    "if '..' not in sys.path: sys.path.append('..')\n",
    "\n",
    "from datasets import load_dataset\n",
    "from datasets.arrow_dataset import Dataset\n",
    "import numpy as np\n",
    "from matplotlib import pyplot as plt\n",
    "from pydantic_yaml import parse_yaml_file_as\n",
    "import torch\n",
    "from torch import nn\n",
    "import torch.nn.functional as F\n",
    "from transformers import GPT2Tokenizer, AddedToken, PreTrainedTokenizer\n",
    "\n",
    "from mllm.data.dsqrels import QrelsPlainBatch\n",
    "from mllm.data.utils import load_qrels_datasets\n",
    "from mllm.data.wiki.dswiki import WikiDsLoader\n",
    "from mllm.exp.args import TOKENIZER_CFG_FNAME, RANKER_HG_MODEL_CFG_FNAME\n",
    "from mllm.model.encdec_ranker_hg import RankerHg\n",
    "from mllm.config.model import TokenizerCfg, RankerHgCfg\n",
    "from mllm.tokenization.chunk_tokenizer import tokenizer_from_config, ChunkTokenizer\n",
    "from s_03_06_train_ranker_hg_qrels import RankerCosEmbLoss\n",
    "\n"
   ]
  },
  {
   "cell_type": "markdown",
   "metadata": {},
   "source": [
    "# RankerHg inference\n",
    "## Config and paths"
   ]
  },
  {
   "cell_type": "code",
   "execution_count": 17,
   "metadata": {},
   "outputs": [
    {
     "name": "stdout",
     "output_type": "stream",
     "text": [
      "cpu\n"
     ]
    }
   ],
   "source": [
    "DATA_PATH = Path(os.path.expandvars('$HOME')) / 'data'\n",
    "WIKI_DS_NAME = '20200501.en'\n",
    "DS_MSMARCO_DIR_PATH = DATA_PATH / 'msmarco'\n",
    "DS_FEVER_DIR_PATH = DATA_PATH / 'fever'\n",
    "\n",
    "TRAIN_RANKER_HG_PATH = DATA_PATH / 'train_mllm_ranker_hg_qrels'\n",
    "ranker_subdir = 'rankerhg-20250103_220003-msmarco-fever-inp128-pos_emb-lrs7x1-rdc_avg-step2-d512-h8-dbs_t-dmlp1024_512-tdec_t'\n",
    "# ranker_subdir = 'rankerhg-20250104_093742-msmarco-fever-inp128-pos_emb-lrs7x1-rdc_avg-step2-d512-h8-dbs_t-dmlp512-tdec_t'\n",
    "\n",
    "ranker_train_path = TRAIN_RANKER_HG_PATH / ranker_subdir\n",
    "ranker_snapshot_fpath = ranker_train_path / 'best.pth'\n",
    "ranker_model_cfg_fpath = ranker_train_path / RANKER_HG_MODEL_CFG_FNAME\n",
    "ranker_tkz_cfg_fpath = ranker_train_path / TOKENIZER_CFG_FNAME\n",
    "\n",
    "device_name = 'cpu'\n",
    "# device_name = 'cuda'\n",
    "\n",
    "device = torch.device(device_name)\n",
    "print(device)"
   ]
  },
  {
   "cell_type": "markdown",
   "metadata": {},
   "source": [
    "## Load models and datasets"
   ]
  },
  {
   "cell_type": "code",
   "execution_count": 18,
   "metadata": {},
   "outputs": [
    {
     "name": "stdout",
     "output_type": "stream",
     "text": [
      "{'dec_rank': {'d_model': 512, 'mlp_sizes': [1024, 512], 'with_bias': True},\n",
      " 'enc_pyr': {'d_inner': 2048,\n",
      "             'd_k': 64,\n",
      "             'd_model': 512,\n",
      "             'd_v': 64,\n",
      "             'dropout_rate': 0.0,\n",
      "             'inp_len': 128,\n",
      "             'n_heads': 8,\n",
      "             'n_layers': 7,\n",
      "             'n_similar_layers': 1,\n",
      "             'pad_idx': 50267,\n",
      "             'reduct_type': <HgReductType.Avg: 'avg'>,\n",
      "             'step': 2,\n",
      "             'vocab_encoder': {'d_model': 512,\n",
      "                               'd_word_vec': 512,\n",
      "                               'dropout_rate': 0.0,\n",
      "                               'inp_len': 128,\n",
      "                               'n_vocab': 50271,\n",
      "                               'pad_idx': 50267,\n",
      "                               'pos_enc_type': <PosEncType.Emb: 'emb'>}}}\n"
     ]
    }
   ],
   "source": [
    "model_cfg: RankerHgCfg = parse_yaml_file_as(RankerHgCfg, ranker_model_cfg_fpath)\n",
    "pprint(model_cfg.dict())\n",
    "inp_len = model_cfg.enc_pyr.inp_len\n",
    "\n",
    "tkz_cfg: TokenizerCfg = parse_yaml_file_as(TokenizerCfg, ranker_tkz_cfg_fpath)\n",
    "tkz = tokenizer_from_config(tkz_cfg)\n",
    "ch_tkz = ChunkTokenizer(tkz_cfg.custom_tokens, tkz, n_emb_tokens=inp_len, fixed_size=True)\n",
    "pad_tok = tkz_cfg.custom_tokens['pad'].ind"
   ]
  },
  {
   "cell_type": "code",
   "execution_count": 19,
   "metadata": {},
   "outputs": [
    {
     "data": {
      "text/plain": [
       "RankerHg(\n",
       "  (enc_pyr): EncoderPyramid(\n",
       "    (vocab_encoder): VocabEncoder(\n",
       "      (src_word_emb): Embedding(50271, 512, padding_idx=50267)\n",
       "      (position_enc): Embedding(128, 512)\n",
       "      (dropout): Dropout(p=0.0, inplace=False)\n",
       "      (layer_norm): LayerNorm((512,), eps=1e-06, elementwise_affine=True)\n",
       "    )\n",
       "    (enc_layers): ModuleList(\n",
       "      (0-6): 7 x EncoderLayer(\n",
       "        (slf_attn): MultiHeadAttention(\n",
       "          (w_qs): Linear(in_features=512, out_features=512, bias=False)\n",
       "          (w_ks): Linear(in_features=512, out_features=512, bias=False)\n",
       "          (w_vs): Linear(in_features=512, out_features=512, bias=False)\n",
       "          (fc): Linear(in_features=512, out_features=512, bias=False)\n",
       "          (attention): ScaledDotProductAttention(\n",
       "            (dropout): Dropout(p=0.0, inplace=False)\n",
       "          )\n",
       "          (dropout): Dropout(p=0.0, inplace=False)\n",
       "          (layer_norm): LayerNorm((512,), eps=1e-06, elementwise_affine=True)\n",
       "        )\n",
       "        (pos_ffn): PositionwiseFeedForward(\n",
       "          (w_1): Linear(in_features=512, out_features=2048, bias=True)\n",
       "          (w_2): Linear(in_features=2048, out_features=512, bias=True)\n",
       "          (layer_norm): LayerNorm((512,), eps=1e-06, elementwise_affine=True)\n",
       "          (dropout): Dropout(p=0.0, inplace=False)\n",
       "        )\n",
       "      )\n",
       "    )\n",
       "    (rdc_layers): ModuleList(\n",
       "      (0-6): 7 x ReduceLayer()\n",
       "    )\n",
       "  )\n",
       "  (dec_rank): DecoderRankHg(\n",
       "    (mlp_layers): ModuleList(\n",
       "      (0): Linear(in_features=512, out_features=1024, bias=True)\n",
       "      (1): Linear(in_features=1024, out_features=512, bias=True)\n",
       "    )\n",
       "    (layer_norm): LayerNorm((512,), eps=1e-06, elementwise_affine=True)\n",
       "  )\n",
       ")"
      ]
     },
     "execution_count": 19,
     "metadata": {},
     "output_type": "execute_result"
    }
   ],
   "source": [
    "chkpt = torch.load(ranker_snapshot_fpath, map_location=device)\n",
    "model = RankerHg(model_cfg).to(device)\n",
    "strict = True\n",
    "# strict = False\n",
    "model.load_state_dict(chkpt['model'], strict=strict)\n",
    "model.eval()"
   ]
  },
  {
   "cell_type": "code",
   "execution_count": 7,
   "metadata": {},
   "outputs": [
    {
     "name": "stdout",
     "output_type": "stream",
     "text": [
      "Join datasets:\n",
      "   Msmarco. Queries: 372206. Docs: 3213835. QueryDocRels: 372206\n",
      "   Fever. Queries: 123142. Docs: 5416568. QueryDocRels: 156101\n"
     ]
    }
   ],
   "source": [
    "ds_qrels = load_qrels_datasets([DS_MSMARCO_DIR_PATH, DS_FEVER_DIR_PATH], ch_tkz, inp_len, device)\n",
    "dsqids = ds_qrels.df_qs['dsqid']"
   ]
  },
  {
   "cell_type": "markdown",
   "metadata": {},
   "source": [
    "## Inference on Qrels batch"
   ]
  },
  {
   "cell_type": "code",
   "execution_count": 8,
   "metadata": {},
   "outputs": [],
   "source": [
    "loss_fn = RankerCosEmbLoss()"
   ]
  },
  {
   "cell_type": "code",
   "execution_count": 9,
   "metadata": {},
   "outputs": [
    {
     "name": "stderr",
     "output_type": "stream",
     "text": [
      "Token indices sequence length is longer than the specified maximum sequence length for this model (13645 > 10000). Running this sequence through the model will result in indexing errors\n"
     ]
    }
   ],
   "source": [
    "batch_size = 10\n",
    "ib = 0\n",
    "batch_off = ib * batch_size\n",
    "dsqids_batch = dsqids.iloc[batch_off:batch_off + batch_size]\n",
    "\n",
    "batch: QrelsPlainBatch = ds_qrels.get_batch_plain_qids(dsqids_batch)"
   ]
  },
  {
   "cell_type": "code",
   "execution_count": 10,
   "metadata": {},
   "outputs": [
    {
     "data": {
      "text/html": [
       "<div>\n",
       "<style scoped>\n",
       "    .dataframe tbody tr th:only-of-type {\n",
       "        vertical-align: middle;\n",
       "    }\n",
       "\n",
       "    .dataframe tbody tr th {\n",
       "        vertical-align: top;\n",
       "    }\n",
       "\n",
       "    .dataframe thead th {\n",
       "        text-align: right;\n",
       "    }\n",
       "</style>\n",
       "<table border=\"1\" class=\"dataframe\">\n",
       "  <thead>\n",
       "    <tr style=\"text-align: right;\">\n",
       "      <th></th>\n",
       "      <th>qid</th>\n",
       "      <th>query</th>\n",
       "      <th>dsid</th>\n",
       "      <th>dsqid</th>\n",
       "    </tr>\n",
       "    <tr>\n",
       "      <th>dsqid</th>\n",
       "      <th></th>\n",
       "      <th></th>\n",
       "      <th></th>\n",
       "      <th></th>\n",
       "    </tr>\n",
       "  </thead>\n",
       "  <tbody>\n",
       "    <tr>\n",
       "      <th>0</th>\n",
       "      <td>1185869</td>\n",
       "      <td>)what was the immediate impact of the success ...</td>\n",
       "      <td>1</td>\n",
       "      <td>0</td>\n",
       "    </tr>\n",
       "    <tr>\n",
       "      <th>1</th>\n",
       "      <td>1185868</td>\n",
       "      <td>_________ justice is designed to repair the ha...</td>\n",
       "      <td>1</td>\n",
       "      <td>1</td>\n",
       "    </tr>\n",
       "    <tr>\n",
       "      <th>2</th>\n",
       "      <td>1183785</td>\n",
       "      <td>elegxo meaning</td>\n",
       "      <td>1</td>\n",
       "      <td>2</td>\n",
       "    </tr>\n",
       "    <tr>\n",
       "      <th>3</th>\n",
       "      <td>645590</td>\n",
       "      <td>what does physical medicine do</td>\n",
       "      <td>1</td>\n",
       "      <td>3</td>\n",
       "    </tr>\n",
       "    <tr>\n",
       "      <th>4</th>\n",
       "      <td>186154</td>\n",
       "      <td>feeding rice cereal how many times per day</td>\n",
       "      <td>1</td>\n",
       "      <td>4</td>\n",
       "    </tr>\n",
       "    <tr>\n",
       "      <th>5</th>\n",
       "      <td>457407</td>\n",
       "      <td>most dependable affordable cars</td>\n",
       "      <td>1</td>\n",
       "      <td>5</td>\n",
       "    </tr>\n",
       "    <tr>\n",
       "      <th>6</th>\n",
       "      <td>441383</td>\n",
       "      <td>lithophile definition</td>\n",
       "      <td>1</td>\n",
       "      <td>6</td>\n",
       "    </tr>\n",
       "    <tr>\n",
       "      <th>7</th>\n",
       "      <td>683408</td>\n",
       "      <td>what is a flail chest</td>\n",
       "      <td>1</td>\n",
       "      <td>7</td>\n",
       "    </tr>\n",
       "    <tr>\n",
       "      <th>8</th>\n",
       "      <td>484187</td>\n",
       "      <td>put yourself on child support in texas</td>\n",
       "      <td>1</td>\n",
       "      <td>8</td>\n",
       "    </tr>\n",
       "    <tr>\n",
       "      <th>9</th>\n",
       "      <td>666321</td>\n",
       "      <td>what happens in a wrist sprain</td>\n",
       "      <td>1</td>\n",
       "      <td>9</td>\n",
       "    </tr>\n",
       "  </tbody>\n",
       "</table>\n",
       "</div>"
      ],
      "text/plain": [
       "           qid                                              query  dsid  dsqid\n",
       "dsqid                                                                         \n",
       "0      1185869  )what was the immediate impact of the success ...     1      0\n",
       "1      1185868  _________ justice is designed to repair the ha...     1      1\n",
       "2      1183785                                     elegxo meaning     1      2\n",
       "3       645590                     what does physical medicine do     1      3\n",
       "4       186154         feeding rice cereal how many times per day     1      4\n",
       "5       457407                    most dependable affordable cars     1      5\n",
       "6       441383                              lithophile definition     1      6\n",
       "7       683408                              what is a flail chest     1      7\n",
       "8       484187             put yourself on child support in texas     1      8\n",
       "9       666321                     what happens in a wrist sprain     1      9"
      ]
     },
     "execution_count": 10,
     "metadata": {},
     "output_type": "execute_result"
    }
   ],
   "source": [
    "batch.df_qs"
   ]
  },
  {
   "cell_type": "code",
   "execution_count": 11,
   "metadata": {},
   "outputs": [
    {
     "data": {
      "text/html": [
       "<div>\n",
       "<style scoped>\n",
       "    .dataframe tbody tr th:only-of-type {\n",
       "        vertical-align: middle;\n",
       "    }\n",
       "\n",
       "    .dataframe tbody tr th {\n",
       "        vertical-align: top;\n",
       "    }\n",
       "\n",
       "    .dataframe thead th {\n",
       "        text-align: right;\n",
       "    }\n",
       "</style>\n",
       "<table border=\"1\" class=\"dataframe\">\n",
       "  <thead>\n",
       "    <tr style=\"text-align: right;\">\n",
       "      <th></th>\n",
       "      <th>did</th>\n",
       "      <th>offset</th>\n",
       "      <th>dsid</th>\n",
       "      <th>dsdid</th>\n",
       "      <th>text</th>\n",
       "      <th>title</th>\n",
       "    </tr>\n",
       "    <tr>\n",
       "      <th>dsdid</th>\n",
       "      <th></th>\n",
       "      <th></th>\n",
       "      <th></th>\n",
       "      <th></th>\n",
       "      <th></th>\n",
       "      <th></th>\n",
       "    </tr>\n",
       "  </thead>\n",
       "  <tbody>\n",
       "    <tr>\n",
       "      <th>2376038</th>\n",
       "      <td>59219</td>\n",
       "      <td>16949087845</td>\n",
       "      <td>1</td>\n",
       "      <td>2376038</td>\n",
       "      <td>The Manhattan Project Introduction Importance ...</td>\n",
       "      <td>Introduction</td>\n",
       "    </tr>\n",
       "    <tr>\n",
       "      <th>100673</th>\n",
       "      <td>59235</td>\n",
       "      <td>722556427</td>\n",
       "      <td>1</td>\n",
       "      <td>100673</td>\n",
       "      <td>\"From Wikipedia, the free encyclopedianavigati...</td>\n",
       "      <td>Restorative justice</td>\n",
       "    </tr>\n",
       "    <tr>\n",
       "      <th>1201976</th>\n",
       "      <td>576811</td>\n",
       "      <td>8572285503</td>\n",
       "      <td>1</td>\n",
       "      <td>1201976</td>\n",
       "      <td>John, Sermons 2001The Ministry of the Holy Spi...</td>\n",
       "      <td>The Ministry of the Holy Spirit</td>\n",
       "    </tr>\n",
       "    <tr>\n",
       "      <th>1232741</th>\n",
       "      <td>576840</td>\n",
       "      <td>8792350091</td>\n",
       "      <td>1</td>\n",
       "      <td>1232741</td>\n",
       "      <td>\"Looking for a Physiatrist? Find a Physiatrist...</td>\n",
       "      <td>What Is a Physiatrist?</td>\n",
       "    </tr>\n",
       "    <tr>\n",
       "      <th>403227</th>\n",
       "      <td>114789</td>\n",
       "      <td>2878807930</td>\n",
       "      <td>1</td>\n",
       "      <td>403227</td>\n",
       "      <td>\"FEEDING GUIDELINES AGES 4 TO 6 MONTHSSTARTING...</td>\n",
       "      <td>FEEDING GUIDELINES AGES 4 TO 6 MONTHS</td>\n",
       "    </tr>\n",
       "    <tr>\n",
       "      <th>958172</th>\n",
       "      <td>389790</td>\n",
       "      <td>6827227963</td>\n",
       "      <td>1</td>\n",
       "      <td>958172</td>\n",
       "      <td>\"Surmount the snow with 7 of the best used all...</td>\n",
       "      <td>Surmount the snow with 7 of the best used all-...</td>\n",
       "    </tr>\n",
       "    <tr>\n",
       "      <th>2470237</th>\n",
       "      <td>576852</td>\n",
       "      <td>17619697389</td>\n",
       "      <td>1</td>\n",
       "      <td>2470237</td>\n",
       "      <td>\"From Wikipedia, the free encyclopedianavigati...</td>\n",
       "      <td>Goldschmidt classification</td>\n",
       "    </tr>\n",
       "    <tr>\n",
       "      <th>1380756</th>\n",
       "      <td>576861</td>\n",
       "      <td>9848986903</td>\n",
       "      <td>1</td>\n",
       "      <td>1380756</td>\n",
       "      <td>Flail chest describes a situation in which a p...</td>\n",
       "      <td>Flail Chest</td>\n",
       "    </tr>\n",
       "    <tr>\n",
       "      <th>277403</th>\n",
       "      <td>275258</td>\n",
       "      <td>1973432619</td>\n",
       "      <td>1</td>\n",
       "      <td>277403</td>\n",
       "      <td>Welcome!Notice ×THE TEXAS OAG CHILD SUPPORT WE...</td>\n",
       "      <td>Welcome!</td>\n",
       "    </tr>\n",
       "    <tr>\n",
       "      <th>2660349</th>\n",
       "      <td>576889</td>\n",
       "      <td>18969142686</td>\n",
       "      <td>1</td>\n",
       "      <td>2660349</td>\n",
       "      <td>Expert Reviewed How to Look After a Sprained W...</td>\n",
       "      <td>How to Look After a Sprained Wrist</td>\n",
       "    </tr>\n",
       "  </tbody>\n",
       "</table>\n",
       "</div>"
      ],
      "text/plain": [
       "            did       offset  dsid    dsdid  \\\n",
       "dsdid                                         \n",
       "2376038   59219  16949087845     1  2376038   \n",
       "100673    59235    722556427     1   100673   \n",
       "1201976  576811   8572285503     1  1201976   \n",
       "1232741  576840   8792350091     1  1232741   \n",
       "403227   114789   2878807930     1   403227   \n",
       "958172   389790   6827227963     1   958172   \n",
       "2470237  576852  17619697389     1  2470237   \n",
       "1380756  576861   9848986903     1  1380756   \n",
       "277403   275258   1973432619     1   277403   \n",
       "2660349  576889  18969142686     1  2660349   \n",
       "\n",
       "                                                      text  \\\n",
       "dsdid                                                        \n",
       "2376038  The Manhattan Project Introduction Importance ...   \n",
       "100673   \"From Wikipedia, the free encyclopedianavigati...   \n",
       "1201976  John, Sermons 2001The Ministry of the Holy Spi...   \n",
       "1232741  \"Looking for a Physiatrist? Find a Physiatrist...   \n",
       "403227   \"FEEDING GUIDELINES AGES 4 TO 6 MONTHSSTARTING...   \n",
       "958172   \"Surmount the snow with 7 of the best used all...   \n",
       "2470237  \"From Wikipedia, the free encyclopedianavigati...   \n",
       "1380756  Flail chest describes a situation in which a p...   \n",
       "277403   Welcome!Notice ×THE TEXAS OAG CHILD SUPPORT WE...   \n",
       "2660349  Expert Reviewed How to Look After a Sprained W...   \n",
       "\n",
       "                                                     title  \n",
       "dsdid                                                       \n",
       "2376038                                       Introduction  \n",
       "100673                                 Restorative justice  \n",
       "1201976                    The Ministry of the Holy Spirit  \n",
       "1232741                             What Is a Physiatrist?  \n",
       "403227               FEEDING GUIDELINES AGES 4 TO 6 MONTHS  \n",
       "958172   Surmount the snow with 7 of the best used all-...  \n",
       "2470237                         Goldschmidt classification  \n",
       "1380756                                        Flail Chest  \n",
       "277403                                            Welcome!  \n",
       "2660349                 How to Look After a Sprained Wrist  "
      ]
     },
     "execution_count": 11,
     "metadata": {},
     "output_type": "execute_result"
    }
   ],
   "source": [
    "batch.df_docs"
   ]
  },
  {
   "cell_type": "code",
   "execution_count": 12,
   "metadata": {},
   "outputs": [
    {
     "data": {
      "text/html": [
       "<div>\n",
       "<style scoped>\n",
       "    .dataframe tbody tr th:only-of-type {\n",
       "        vertical-align: middle;\n",
       "    }\n",
       "\n",
       "    .dataframe tbody tr th {\n",
       "        vertical-align: top;\n",
       "    }\n",
       "\n",
       "    .dataframe thead th {\n",
       "        text-align: right;\n",
       "    }\n",
       "</style>\n",
       "<table border=\"1\" class=\"dataframe\">\n",
       "  <thead>\n",
       "    <tr style=\"text-align: right;\">\n",
       "      <th></th>\n",
       "      <th>qid</th>\n",
       "      <th>did</th>\n",
       "      <th>dsid</th>\n",
       "      <th>dsqid</th>\n",
       "      <th>dsdid</th>\n",
       "    </tr>\n",
       "    <tr>\n",
       "      <th>dsqid</th>\n",
       "      <th></th>\n",
       "      <th></th>\n",
       "      <th></th>\n",
       "      <th></th>\n",
       "      <th></th>\n",
       "    </tr>\n",
       "  </thead>\n",
       "  <tbody>\n",
       "    <tr>\n",
       "      <th>0</th>\n",
       "      <td>1185869</td>\n",
       "      <td>59219</td>\n",
       "      <td>1</td>\n",
       "      <td>0</td>\n",
       "      <td>2376038</td>\n",
       "    </tr>\n",
       "    <tr>\n",
       "      <th>1</th>\n",
       "      <td>1185868</td>\n",
       "      <td>59235</td>\n",
       "      <td>1</td>\n",
       "      <td>1</td>\n",
       "      <td>100673</td>\n",
       "    </tr>\n",
       "    <tr>\n",
       "      <th>2</th>\n",
       "      <td>1183785</td>\n",
       "      <td>576811</td>\n",
       "      <td>1</td>\n",
       "      <td>2</td>\n",
       "      <td>1201976</td>\n",
       "    </tr>\n",
       "    <tr>\n",
       "      <th>3</th>\n",
       "      <td>645590</td>\n",
       "      <td>576840</td>\n",
       "      <td>1</td>\n",
       "      <td>3</td>\n",
       "      <td>1232741</td>\n",
       "    </tr>\n",
       "    <tr>\n",
       "      <th>4</th>\n",
       "      <td>186154</td>\n",
       "      <td>114789</td>\n",
       "      <td>1</td>\n",
       "      <td>4</td>\n",
       "      <td>403227</td>\n",
       "    </tr>\n",
       "    <tr>\n",
       "      <th>5</th>\n",
       "      <td>457407</td>\n",
       "      <td>389790</td>\n",
       "      <td>1</td>\n",
       "      <td>5</td>\n",
       "      <td>958172</td>\n",
       "    </tr>\n",
       "    <tr>\n",
       "      <th>6</th>\n",
       "      <td>441383</td>\n",
       "      <td>576852</td>\n",
       "      <td>1</td>\n",
       "      <td>6</td>\n",
       "      <td>2470237</td>\n",
       "    </tr>\n",
       "    <tr>\n",
       "      <th>7</th>\n",
       "      <td>683408</td>\n",
       "      <td>576861</td>\n",
       "      <td>1</td>\n",
       "      <td>7</td>\n",
       "      <td>1380756</td>\n",
       "    </tr>\n",
       "    <tr>\n",
       "      <th>8</th>\n",
       "      <td>484187</td>\n",
       "      <td>275258</td>\n",
       "      <td>1</td>\n",
       "      <td>8</td>\n",
       "      <td>277403</td>\n",
       "    </tr>\n",
       "    <tr>\n",
       "      <th>9</th>\n",
       "      <td>666321</td>\n",
       "      <td>576889</td>\n",
       "      <td>1</td>\n",
       "      <td>9</td>\n",
       "      <td>2660349</td>\n",
       "    </tr>\n",
       "  </tbody>\n",
       "</table>\n",
       "</div>"
      ],
      "text/plain": [
       "           qid     did  dsid  dsqid    dsdid\n",
       "dsqid                                       \n",
       "0      1185869   59219     1      0  2376038\n",
       "1      1185868   59235     1      1   100673\n",
       "2      1183785  576811     1      2  1201976\n",
       "3       645590  576840     1      3  1232741\n",
       "4       186154  114789     1      4   403227\n",
       "5       457407  389790     1      5   958172\n",
       "6       441383  576852     1      6  2470237\n",
       "7       683408  576861     1      7  1380756\n",
       "8       484187  275258     1      8   277403\n",
       "9       666321  576889     1      9  2660349"
      ]
     },
     "execution_count": 12,
     "metadata": {},
     "output_type": "execute_result"
    }
   ],
   "source": [
    "batch.df_qrels"
   ]
  },
  {
   "cell_type": "code",
   "execution_count": 13,
   "metadata": {},
   "outputs": [
    {
     "name": "stdout",
     "output_type": "stream",
     "text": [
      ")what was the immediate impact of the success of the manhattan project?\n",
      "_________ justice is designed to repair the harm to victim, the community and the offender caused by the offender criminal act. question 19 options:\n",
      "elegxo meaning\n",
      "what does physical medicine do\n",
      "feeding rice cereal how many times per day\n",
      "most dependable affordable cars\n",
      "lithophile definition\n",
      "what is a flail chest\n",
      "put yourself on child support in texas\n",
      "what happens in a wrist sprain\n"
     ]
    }
   ],
   "source": [
    "for query in batch.df_qs['query']:\n",
    "    print(query)"
   ]
  },
  {
   "cell_type": "code",
   "execution_count": 14,
   "metadata": {},
   "outputs": [
    {
     "data": {
      "text/plain": [
       "array([[ True, False, False, False, False, False, False, False, False,\n",
       "        False],\n",
       "       [False,  True, False, False, False, False, False, False, False,\n",
       "        False],\n",
       "       [False, False,  True, False, False, False, False, False, False,\n",
       "        False],\n",
       "       [False, False, False,  True, False, False, False, False, False,\n",
       "        False],\n",
       "       [False, False, False, False,  True, False, False, False, False,\n",
       "        False],\n",
       "       [False, False, False, False, False,  True, False, False, False,\n",
       "        False],\n",
       "       [False, False, False, False, False, False,  True, False, False,\n",
       "        False],\n",
       "       [False, False, False, False, False, False, False,  True, False,\n",
       "        False],\n",
       "       [False, False, False, False, False, False, False, False,  True,\n",
       "        False],\n",
       "       [False, False, False, False, False, False, False, False, False,\n",
       "         True]])"
      ]
     },
     "execution_count": 14,
     "metadata": {},
     "output_type": "execute_result"
    }
   ],
   "source": [
    "batch.qrels_masks"
   ]
  },
  {
   "cell_type": "code",
   "execution_count": 20,
   "metadata": {},
   "outputs": [
    {
     "name": "stdout",
     "output_type": "stream",
     "text": [
      "tensor([[0.9564, 0.8179, 0.9734, 0.9407, 0.9418, 0.9212, 0.9519, 0.9418, 0.9417,\n",
      "         0.9647],\n",
      "        [0.9242, 0.8432, 0.9094, 0.9219, 0.8818, 0.9046, 0.9345, 0.8927, 0.8809,\n",
      "         0.9240],\n",
      "        [0.8340, 0.6952, 0.7766, 0.7528, 0.8509, 0.7512, 0.7575, 0.7925, 0.8440,\n",
      "         0.8069],\n",
      "        [0.8796, 0.8250, 0.9056, 0.9206, 0.8545, 0.8829, 0.9278, 0.8987, 0.8658,\n",
      "         0.9262],\n",
      "        [0.9678, 0.9236, 0.9180, 0.9376, 0.9645, 0.9520, 0.9175, 0.9504, 0.9791,\n",
      "         0.9353],\n",
      "        [0.9088, 0.7996, 0.8540, 0.8343, 0.9505, 0.8586, 0.8301, 0.8931, 0.9341,\n",
      "         0.8806],\n",
      "        [0.9036, 0.7787, 0.9050, 0.8864, 0.9044, 0.8689, 0.9012, 0.9026, 0.8933,\n",
      "         0.9317],\n",
      "        [0.8338, 0.9151, 0.8203, 0.8626, 0.8408, 0.8751, 0.8473, 0.8864, 0.8500,\n",
      "         0.8599],\n",
      "        [0.9481, 0.8370, 0.9335, 0.9104, 0.9467, 0.9174, 0.9052, 0.9183, 0.9542,\n",
      "         0.9131],\n",
      "        [0.9112, 0.9407, 0.8765, 0.9138, 0.9219, 0.9274, 0.8931, 0.9447, 0.9326,\n",
      "         0.9203]], grad_fn=<MmBackward0>)\n"
     ]
    }
   ],
   "source": [
    "qs_toks, qs_masks, docs_toks, docs_masks, qrels_masks = batch.gen_tensors()\n",
    "out_rank = model(docs_toks, qs_toks)\n",
    "print(out_rank)"
   ]
  },
  {
   "cell_type": "code",
   "execution_count": 21,
   "metadata": {},
   "outputs": [
    {
     "data": {
      "text/plain": [
       "(tensor(0.4962, grad_fn=<DivBackward0>),\n",
       " tensor(0.1018, grad_fn=<DivBackward0>),\n",
       " tensor(0.8906, grad_fn=<DivBackward0>))"
      ]
     },
     "execution_count": 21,
     "metadata": {},
     "output_type": "execute_result"
    }
   ],
   "source": [
    "loss_fn(out_rank, qrels_masks)"
   ]
  },
  {
   "cell_type": "code",
   "execution_count": null,
   "metadata": {},
   "outputs": [],
   "source": []
  },
  {
   "cell_type": "code",
   "execution_count": null,
   "metadata": {},
   "outputs": [],
   "source": []
  },
  {
   "cell_type": "code",
   "execution_count": null,
   "metadata": {},
   "outputs": [],
   "source": []
  },
  {
   "cell_type": "code",
   "execution_count": null,
   "metadata": {},
   "outputs": [],
   "source": []
  }
 ],
 "metadata": {
  "kernelspec": {
   "display_name": "mllm",
   "language": "python",
   "name": "python3"
  },
  "language_info": {
   "codemirror_mode": {
    "name": "ipython",
    "version": 3
   },
   "file_extension": ".py",
   "mimetype": "text/x-python",
   "name": "python",
   "nbconvert_exporter": "python",
   "pygments_lexer": "ipython3",
   "version": "3.10.14"
  }
 },
 "nbformat": 4,
 "nbformat_minor": 2
}
