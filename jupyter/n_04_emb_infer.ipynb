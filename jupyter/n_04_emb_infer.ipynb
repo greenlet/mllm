{
 "cells": [
  {
   "cell_type": "code",
   "execution_count": 1,
   "metadata": {},
   "outputs": [],
   "source": [
    "%load_ext autoreload\n",
    "%autoreload 2"
   ]
  },
  {
   "cell_type": "markdown",
   "metadata": {},
   "source": []
  },
  {
   "cell_type": "code",
   "execution_count": 5,
   "metadata": {},
   "outputs": [],
   "source": [
    "import os\n",
    "from pathlib import Path\n",
    "import sys\n",
    "from typing import Optional\n",
    "if '..' not in sys.path: sys.path.append('..')\n",
    "\n",
    "import numpy as np\n",
    "from matplotlib import pyplot as plt\n",
    "import torch\n",
    "from torch import nn\n",
    "from transformers import GPT2Tokenizer, AddedToken, PreTrainedTokenizer\n",
    "\n",
    "from mllm.data.dswiki import WikiDsLoader\n",
    "from mllm.model.mllm_encdec import MllmEncdec\n",
    "from mllm.model.mllm_ranker import MllmRanker\n",
    "from mllm.model.config import create_mllm_encdec_cfg, create_mllm_ranker_cfg\n",
    "from mllm.tokenization.chunk_tokenizer import calc_max_inp_size, gen_all_tokens\n",
    "\n"
   ]
  },
  {
   "cell_type": "code",
   "execution_count": 6,
   "metadata": {},
   "outputs": [],
   "source": [
    "DATA_PATH = Path(os.path.expandvars('$HOME')) / 'data'\n",
    "TRAIN_ENCDEC_PATH = DATA_PATH / 'train_mllm_encdec'\n",
    "TRAIN_RANKER_PATH = DATA_PATH / 'train_mllm_ranker'\n",
    "TRAIN_RANKER_PATH = DATA_PATH / 'train_mllm_ranker_qs'\n",
    "DS_DIR_PATH = DATA_PATH / 'wiki_20200501_en' / 'ch_100_fixed'\n",
    "\n",
    "encdec_subdir = 'encdec-20240718_221554-wiki_20200501_en-ch_100_fixed'\n",
    "# ranker_subdir = 'ranker-20240722_225232-wiki_20200501_en-ch_100_fixed'\n",
    "# ranker_subdir = 'ranker-20240724_230827-wiki_20200501_en-ch_100_fixed'\n",
    "# ranker_subdir = 'ranker-20240726_232850-wiki_20200501_en-ch_100_fixed'\n",
    "# ranker_subdir = 'ranker-20240722_225232-wiki_20200501_en-ch_100_fixed'\n",
    "ranker_subdir = 'ranker-20240730_213328-wiki_20200501_en-ch_100_fixed'\n",
    "ranker_subdir = 'ranker-20240806_221913-msmarco'\n",
    "encdec_train_path = TRAIN_ENCDEC_PATH / encdec_subdir\n",
    "ranker_train_path = TRAIN_RANKER_PATH / ranker_subdir\n",
    "encdec_snapshot_path = encdec_train_path / 'best.pth'\n",
    "ranker_snapshot_path = ranker_train_path / 'best.pth'"
   ]
  },
  {
   "cell_type": "code",
   "execution_count": 7,
   "metadata": {},
   "outputs": [
    {
     "name": "stdout",
     "output_type": "stream",
     "text": [
      "cpu\n"
     ]
    }
   ],
   "source": [
    "docs_batch_size = 5\n",
    "max_chunks_per_doc = 3\n",
    "device = 'cpu'\n",
    "# device = 'cuda'\n",
    "\n",
    "device = torch.device(device)\n",
    "print(device)"
   ]
  },
  {
   "cell_type": "code",
   "execution_count": 8,
   "metadata": {},
   "outputs": [
    {
     "name": "stdout",
     "output_type": "stream",
     "text": [
      "Loading cache from /home/misha/data/wiki_20200501_en/ch_100_fixed/.mllm/ds.csv\n",
      "Loaded dataset size: 50989207\n"
     ]
    }
   ],
   "source": [
    "tokenizer = GPT2Tokenizer.from_pretrained('gpt2', model_max_length=100000)\n",
    "tok_dict = gen_all_tokens(tokenizer)\n",
    "pad_tok, qbeg_tok, qend_tok = tok_dict['pad'].ind, tok_dict['query_begin'].ind, tok_dict['query_end'].ind\n",
    "ds_loader = WikiDsLoader(\n",
    "    ds_path=DS_DIR_PATH, docs_batch_size=docs_batch_size, max_chunks_per_doc=max_chunks_per_doc,\n",
    "    pad_tok=pad_tok, qbeg_tok=qbeg_tok, qend_tok=qend_tok, device=device,\n",
    ")\n",
    "ds_loader.shuffle(train=True)\n",
    "ds_loader.shuffle(train=False)\n",
    "inp_len = ds_loader.emb_chunk_size if ds_loader.fixed_size else calc_max_inp_size(ds_loader.emb_chunk_size)"
   ]
  },
  {
   "cell_type": "code",
   "execution_count": 11,
   "metadata": {},
   "outputs": [],
   "source": [
    "def tokten_to_text(tokens: torch.Tensor) -> str:\n",
    "    tokens = tokens.flatten()\n",
    "    tokens = tokens[tokens != pad_tok]\n",
    "    tokens = list(tokens)\n",
    "    s = tokenizer.decode(tokens)\n",
    "    return s\n",
    "\n",
    "def distance(x: np.ndarray, y: np.ndarray, cosine: bool = False):\n",
    "    if not cosine:\n",
    "        return np.linalg.norm(x - y)\n",
    "    x_norm, y_norm = np.linalg.norm(x), np.linalg.norm(y)\n",
    "    return np.sum(x * y) / (x_norm * y_norm)\n",
    "\n",
    "def text_to_tokens(s: str, qbeg_tok: Optional[int] = None, qend_tok: Optional[int] = None) -> torch.Tensor:\n",
    "    tokens = tokenizer(s)['input_ids']\n",
    "    if qbeg_tok is not None:\n",
    "        assert qend_tok is not None\n",
    "        tokens = [qbeg_tok, *tokens, qend_tok]\n",
    "    n_tokens = len(tokens)\n",
    "    n_padded = n_tokens // inp_len + (n_tokens % inp_len > 0)\n",
    "    res = np.full((n_padded * inp_len, ), pad_tok, dtype=np.int32)\n",
    "    res[:n_tokens] = tokens\n",
    "    res = torch.from_numpy(res).to(device)\n",
    "    res = res.reshape(n_padded, inp_len)\n",
    "    return res\n",
    "\n",
    "def print_dist(target_embs: torch.Tensor, docs_embs: torch.Tensor, target_mask: torch.Tensor, cosine: bool = True):\n",
    "    for i, docs_emb in enumerate(docs_embs.detach().numpy()):\n",
    "        for target_emb in target_embs.detach().numpy():\n",
    "            dist = distance(target_emb, docs_emb, cosine)\n",
    "            print(f'{dist:0.6f} ', end='')\n",
    "        sfx = 'T' if target_mask[i] else 'F'\n",
    "        print(sfx)\n"
   ]
  },
  {
   "cell_type": "code",
   "execution_count": 12,
   "metadata": {},
   "outputs": [
    {
     "name": "stdout",
     "output_type": "stream",
     "text": [
      "vocab_encoder.src_word_emb.weight (50270, 256) -0.010897282 -1.6511602e-06 0.010897281\n",
      "vocab_encoder.layer_norm.weight (256,) -0.099946104 -0.0034745648 0.099763446\n",
      "vocab_encoder.layer_norm.bias (256,) -0.09894885 -0.0039836653 0.09960281\n",
      "encoder.layer_stack.0.slf_attn.w_qs.weight (256, 256) -0.10825194 4.181369e-05 0.10825289\n",
      "encoder.layer_stack.0.slf_attn.w_ks.weight (256, 256) -0.10824983 -0.00027774877 0.10825201\n",
      "encoder.layer_stack.0.slf_attn.w_vs.weight (256, 256) -0.10825258 -0.00053658854 0.108251445\n",
      "encoder.layer_stack.0.slf_attn.fc.weight (256, 256) -0.108252816 0.0003341165 0.10825214\n",
      "encoder.layer_stack.0.slf_attn.layer_norm.weight (256,) -0.09852302 -0.000749683 0.098978974\n",
      "encoder.layer_stack.0.slf_attn.layer_norm.bias (256,) -0.09951661 0.002116121 0.09881059\n",
      "encoder.layer_stack.0.pos_ffn.w_1.weight (1024, 256) -0.068464994 -2.3957578e-05 0.06846508\n",
      "encoder.layer_stack.0.pos_ffn.w_1.bias (1024,) -0.09974899 -0.002452617 0.099912666\n",
      "encoder.layer_stack.0.pos_ffn.w_2.weight (256, 1024) -0.06846515 8.703029e-05 0.068464905\n",
      "encoder.layer_stack.0.pos_ffn.w_2.bias (256,) -0.09955933 -0.004528739 0.09979768\n",
      "encoder.layer_stack.0.pos_ffn.layer_norm.weight (256,) -0.09984864 -0.002785415 0.09971978\n",
      "encoder.layer_stack.0.pos_ffn.layer_norm.bias (256,) -0.09997948 0.00035848212 0.098783076\n",
      "encoder.w_em.weight (1, 100) -0.24288519 0.0050054477 0.24280927\n",
      "encoder.layer_norm.weight (256,) -0.09958371 -0.0039386842 0.097811185\n",
      "encoder.layer_norm.bias (256,) -0.09919774 -0.0024240657 0.099152684\n",
      "decoder.A_emb2sec (100, 256, 256) -0.008113919 -1.7745022e-07 0.008113914\n",
      "decoder.att_layers.0.slf_attn.w_qs.weight (256, 256) -0.108251676 -0.00015084248 0.10824898\n",
      "decoder.att_layers.0.slf_attn.w_ks.weight (256, 256) -0.10824884 8.11684e-07 0.1082531\n",
      "decoder.att_layers.0.slf_attn.w_vs.weight (256, 256) -0.108252555 -9.779207e-05 0.10825252\n",
      "decoder.att_layers.0.slf_attn.fc.weight (256, 256) -0.108252555 1.0022264e-05 0.1082505\n",
      "decoder.att_layers.0.slf_attn.layer_norm.weight (256,) -0.09984636 -0.002536355 0.09768207\n",
      "decoder.att_layers.0.slf_attn.layer_norm.bias (256,) -0.09898614 -0.00075973384 0.09994936\n",
      "decoder.att_layers.0.pos_ffn.w_1.weight (1024, 256) -0.06846507 4.442231e-05 0.06846486\n",
      "decoder.att_layers.0.pos_ffn.w_1.bias (1024,) -0.09995037 -1.3379846e-05 0.09992888\n",
      "decoder.att_layers.0.pos_ffn.w_2.weight (256, 1024) -0.06846484 -1.966634e-06 0.068464525\n",
      "decoder.att_layers.0.pos_ffn.w_2.bias (256,) -0.0983425 0.004978111 0.0996087\n",
      "decoder.att_layers.0.pos_ffn.layer_norm.weight (256,) -0.09966047 0.0017018192 0.0996084\n",
      "decoder.att_layers.0.pos_ffn.layer_norm.bias (256,) -0.09897494 -0.0035704905 0.0996867\n",
      "vocab_decoder.word_prj.weight (50270, 256) -0.010897281 -2.6974237e-06 0.010897279\n"
     ]
    }
   ],
   "source": [
    "model_encdec_cfg = create_mllm_encdec_cfg(\n",
    "    n_vocab=len(tokenizer), d_word_wec=256, inp_len=inp_len,\n",
    "    enc_n_layers=1, dec_n_layers=1,\n",
    "    n_heads=8, d_model=256, d_inner=1024,\n",
    "    pad_idx=pad_tok, dropout_rate=0.1, enc_with_emb_mat=True,\n",
    ")\n",
    "model_encdec = MllmEncdec(model_encdec_cfg).to(device)"
   ]
  },
  {
   "cell_type": "code",
   "execution_count": 14,
   "metadata": {},
   "outputs": [],
   "source": [
    "checkpoint_encdec = torch.load(encdec_snapshot_path)\n",
    "model_encdec.load_state_dict(checkpoint_encdec['model'], strict=False)\n",
    "model_encdec.eval()\n",
    "del checkpoint_encdec"
   ]
  },
  {
   "cell_type": "code",
   "execution_count": 15,
   "metadata": {},
   "outputs": [
    {
     "data": {
      "text/plain": [
       "tensor([[15496,   612, 50267, 50267, 50267, 50267, 50267, 50267, 50267, 50267,\n",
       "         50267, 50267, 50267, 50267, 50267, 50267, 50267, 50267, 50267, 50267,\n",
       "         50267, 50267, 50267, 50267, 50267, 50267, 50267, 50267, 50267, 50267,\n",
       "         50267, 50267, 50267, 50267, 50267, 50267, 50267, 50267, 50267, 50267,\n",
       "         50267, 50267, 50267, 50267, 50267, 50267, 50267, 50267, 50267, 50267,\n",
       "         50267, 50267, 50267, 50267, 50267, 50267, 50267, 50267, 50267, 50267,\n",
       "         50267, 50267, 50267, 50267, 50267, 50267, 50267, 50267, 50267, 50267,\n",
       "         50267, 50267, 50267, 50267, 50267, 50267, 50267, 50267, 50267, 50267,\n",
       "         50267, 50267, 50267, 50267, 50267, 50267, 50267, 50267, 50267, 50267,\n",
       "         50267, 50267, 50267, 50267, 50267, 50267, 50267, 50267, 50267, 50267]],\n",
       "       dtype=torch.int32)"
      ]
     },
     "execution_count": 15,
     "metadata": {},
     "output_type": "execute_result"
    }
   ],
   "source": [
    "text_to_tokens('Hello there')"
   ]
  },
  {
   "cell_type": "code",
   "execution_count": 16,
   "metadata": {},
   "outputs": [
    {
     "data": {
      "text/plain": [
       "(torch.Size([14, 100]),\n",
       " torch.Size([3, 100]),\n",
       " tensor([False, False, False, False, False, False,  True,  True,  True, False,\n",
       "         False, False, False, False]))"
      ]
     },
     "execution_count": 16,
     "metadata": {},
     "output_type": "execute_result"
    }
   ],
   "source": [
    "i = 10\n",
    "batch = ds_loader.get_batch(i, train=True)\n",
    "docs_chunks, target_chunks, target_mask = batch.gen_tensors()\n",
    "docs_chunks.shape, target_chunks.shape, target_mask"
   ]
  },
  {
   "cell_type": "code",
   "execution_count": 17,
   "metadata": {},
   "outputs": [
    {
     "data": {
      "text/plain": [
       "'<|query_begin|> t. Subhadramma and her husband Sri R. Venkatarao established Sri Venkateshwara Natya Mandali (Surabhi) in 1937 in Jimidipeta village of Srikakulam District of Andhra Pradesh. The wife and husband were assisted by their children Dasaradhirao and Bhojaraju. The theatre group started growing and is now one of the biggest surviving groups with 55 members. Smt. R. Subhadramma has specialised in doing male roles, particularly characters like Duryodhana in Mahabharata. She was awarded the title of \\'Kala Praveena\\' by Sangeeta Nataka Akademi of Andhra Pradesh. In addition, both the husband and wife received many honors from various organizations of the state. Since their death, their sons are now managing the theatre.\\n\\nUnder the guidance of Padma Shri B.V. Karanth, the organization learned three plays: Bhishma (1996), organized by the National School of Drama (New Delhi), Chandi Priya (1997) by Alarippu (New Delhi), and Basthi Devatha Yaadamma (\"The Good Women of Setzuan\" written by Bertolt Brecht) (1998). B.V. Karanth not only directed <|query_end|>'"
      ]
     },
     "execution_count": 17,
     "metadata": {},
     "output_type": "execute_result"
    }
   ],
   "source": [
    "s_target = tokten_to_text(target_chunks)\n",
    "s_target"
   ]
  },
  {
   "cell_type": "code",
   "execution_count": 18,
   "metadata": {},
   "outputs": [
    {
     "name": "stdout",
     "output_type": "stream",
     "text": [
      "<|doc_begin|> <|doc_id_begin|> 2025578 <|doc_id_end|> <|doc_offset_begin|> 91 <|doc_offset_end|>   Connecticut Route 127\\n  Florida State Road 127 (former)\\n  County Road 127 (Baker County, Florida)\\n  G\n",
      "<|doc_begin|> <|doc_id_begin|> 2025578 <|doc_id_end|> <|doc_offset_begin|> 182 <|doc_offset_end|>  127\\n  Massachusetts Route 127A\\n  Minnesota State Highway 127 (former)\\n  Missouri Route 127\\n  New Hamp\n",
      "<|doc_begin|> <|doc_id_begin|> 2025578 <|doc_id_end|> <|doc_offset_begin|> 273 <|doc_offset_end|>, New York)\\n  County Route 127 (Herkimer County, New York)\\n  County Route 127 (Monroe County, New York)\n",
      "<|doc_begin|> <|doc_id_begin|> 1443391 <|doc_id_end|> <|doc_offset_begin|> 0 <|doc_offset_end|> <|doc_title_begin|> Alfred Chandler (politician) <|doc_title_end|> <|doc_body_begin|> Alfred Elliott Cha\n",
      "<|doc_begin|> <|doc_id_begin|> 1443391 <|doc_id_end|> <|doc_offset_begin|> 91 <|doc_offset_end|> arried on 27 August 1901 to Marie Intermann, with whom he had five children. He served on Ferntree Gull\n",
      "<|doc_begin|> <|doc_id_begin|> 1443391 <|doc_id_end|> <|doc_offset_begin|> 182 <|doc_offset_end|>  minister without portfolio from 1932 to 1935. Chandler died in Boronia in 1935 and was succeeded by h\n",
      "<|doc_begin|> <|doc_id_begin|> 1154686 <|doc_id_end|> <|doc_offset_begin|> 273 <|doc_offset_end|> t. Subhadramma and her husband Sri R. Venkatarao established Sri Venkateshwara Natya Mandali (Surabhi)\n",
      "<|doc_begin|> <|doc_id_begin|> 1154686 <|doc_id_end|> <|doc_offset_begin|> 364 <|doc_offset_end|>  Smt. R. Subhadramma has specialised in doing male roles, particularly characters like Duryodhana in M\n",
      "<|doc_begin|> <|doc_id_begin|> 1154686 <|doc_id_end|> <|doc_offset_begin|> 455 <|doc_offset_end|>  the guidance of Padma Shri B.V. Karanth, the organization learned three plays: Bhishma (1996), organi\n",
      "<|doc_begin|> <|doc_id_begin|> 4393057 <|doc_id_end|> <|doc_offset_begin|> 0 <|doc_offset_end|> <|doc_title_begin|> Chitipa Wenya (Malawi Parliament constituency) <|doc_title_end|> <|doc_body_begin|> \n",
      "<|doc_begin|> <|doc_id_begin|> 4393057 <|doc_id_end|> <|doc_offset_begin|> 91 <|doc_offset_end|> References\\n\\nCategory:Constituencies of the National Assembly of Malawi <|doc_body_end|> <|doc_end|>\n",
      "<|doc_begin|> <|doc_id_begin|> 492441 <|doc_id_end|> <|doc_offset_begin|> 0 <|doc_offset_end|> <|doc_title_begin|> Vladislav Duyun <|doc_title_end|> <|doc_body_begin|> Vladislav Nikolayevich Duyun (; \n",
      "<|doc_begin|> <|doc_id_begin|> 492441 <|doc_id_end|> <|doc_offset_begin|> 91 <|doc_offset_end|>  1996–97 with FC Spartak Moscow: 5 games.\\n UEFA Intertoto Cup 1997 with FC Lokomotiv Nizhny Novgorod: 4 \n",
      "<|doc_begin|> <|doc_id_begin|> 492441 <|doc_id_end|> <|doc_offset_begin|> 182 <|doc_offset_end|> :1977 births\\nCategory:Living people\\nCategory:Ukrainian footballers\\nCategory:FC Zirka Kropyvnytskyi play\n"
     ]
    }
   ],
   "source": [
    "for toks in docs_chunks:\n",
    "    s = tokten_to_text(toks)\n",
    "    print(s[:200].replace('\\n', '\\\\n'))"
   ]
  },
  {
   "cell_type": "code",
   "execution_count": 19,
   "metadata": {},
   "outputs": [],
   "source": [
    "target_embs = model_encdec.run_enc_emb(target_chunks)\n",
    "docs_embs = model_encdec.run_enc_emb(docs_chunks)"
   ]
  },
  {
   "cell_type": "code",
   "execution_count": 20,
   "metadata": {},
   "outputs": [
    {
     "name": "stdout",
     "output_type": "stream",
     "text": [
      "0.576479 0.540214 0.615277 F\n",
      "0.509272 0.501767 0.612942 F\n",
      "0.563227 0.503132 0.628640 F\n",
      "0.543316 0.550497 0.614628 F\n",
      "0.494153 0.609150 0.630751 F\n",
      "0.515145 0.584256 0.653714 F\n",
      "0.736585 0.688681 0.686261 T\n",
      "0.707597 0.672014 0.650622 T\n",
      "0.713348 0.683684 0.726898 T\n",
      "0.657356 0.637471 0.661419 F\n",
      "0.571665 0.600492 0.631132 F\n",
      "0.537011 0.562579 0.624428 F\n",
      "0.630608 0.579992 0.644119 F\n",
      "0.610991 0.606930 0.554952 F\n"
     ]
    }
   ],
   "source": [
    "cosine = False\n",
    "cosine = True\n",
    "print_dist(target_embs, docs_embs, target_mask, cosine=cosine)"
   ]
  },
  {
   "cell_type": "code",
   "execution_count": 21,
   "metadata": {},
   "outputs": [
    {
     "name": "stdout",
     "output_type": "stream",
     "text": [
      "vocab_encoder.src_word_emb.weight (50270, 256) -0.010897276 2.9072498e-06 0.010897281\n",
      "vocab_encoder.layer_norm.weight (256,) -0.0995786 0.005689818 0.098533414\n",
      "vocab_encoder.layer_norm.bias (256,) -0.099617876 -0.0019110441 0.09960973\n",
      "encoders.0.layer_stack.0.slf_attn.w_qs.weight (256, 256) -0.10825247 5.3248332e-05 0.10825016\n",
      "encoders.0.layer_stack.0.slf_attn.w_ks.weight (256, 256) -0.10824718 -0.00014600865 0.10824365\n",
      "encoders.0.layer_stack.0.slf_attn.w_vs.weight (256, 256) -0.108252734 0.00036321822 0.10823939\n",
      "encoders.0.layer_stack.0.slf_attn.fc.weight (256, 256) -0.108252786 -0.00020212395 0.10825228\n",
      "encoders.0.layer_stack.0.slf_attn.layer_norm.weight (256,) -0.09909749 -0.0065478124 0.097683884\n",
      "encoders.0.layer_stack.0.slf_attn.layer_norm.bias (256,) -0.09992903 0.0008402802 0.09760336\n",
      "encoders.0.layer_stack.0.pos_ffn.w_1.weight (1024, 256) -0.06846429 -3.0445288e-05 0.06846511\n",
      "encoders.0.layer_stack.0.pos_ffn.w_1.bias (1024,) -0.09999754 0.0025605082 0.09994461\n",
      "encoders.0.layer_stack.0.pos_ffn.w_2.weight (256, 1024) -0.06846355 -0.00011579428 0.06846475\n",
      "encoders.0.layer_stack.0.pos_ffn.w_2.bias (256,) -0.09960436 -0.0021413749 0.09875523\n",
      "encoders.0.layer_stack.0.pos_ffn.layer_norm.weight (256,) -0.09844562 -0.0040139286 0.09823842\n",
      "encoders.0.layer_stack.0.pos_ffn.layer_norm.bias (256,) -0.09938011 0.0059774164 0.098677196\n",
      "encoders.0.w_em.weight (1, 100) -0.24175796 -0.010484512 0.24337448\n",
      "encoders.0.layer_norm.weight (256,) -0.09963258 0.0074400385 0.09776856\n",
      "encoders.0.layer_norm.bias (256,) -0.09993917 -0.0014385218 0.099292554\n",
      "decoders.0.w.weight (256, 256) -0.108247854 -6.674339e-05 0.108250014\n",
      "decoders.0.layer_norm.weight (256,) -0.099597715 -0.004809295 0.09937789\n",
      "decoders.0.layer_norm.bias (256,) -0.09999099 -0.0011158844 0.09956091\n"
     ]
    }
   ],
   "source": [
    "inp_len = ds_loader.emb_chunk_size if ds_loader.fixed_size else calc_max_inp_size(ds_loader.emb_chunk_size)\n",
    "model_ranker_cfg = create_mllm_ranker_cfg(\n",
    "    n_vocab=len(tokenizer), inp_len=inp_len, d_word_wec=256,\n",
    "    n_levels=1, enc_n_layers=1, dec_n_layers=1,\n",
    "    n_heads=8, d_k=32, d_v=32, d_model=256, d_inner=1024,\n",
    "    pad_idx=pad_tok, dropout_rate=0.1, enc_with_emb_mat=True,\n",
    ")\n",
    "\n",
    "model_ranker = MllmRanker(model_ranker_cfg).to(device)"
   ]
  },
  {
   "cell_type": "code",
   "execution_count": 22,
   "metadata": {},
   "outputs": [],
   "source": [
    "checkpoint_ranker = torch.load(ranker_snapshot_path)\n",
    "model_ranker.load_state_dict(checkpoint_ranker['model'])\n",
    "model_ranker.eval()\n",
    "del checkpoint_ranker"
   ]
  },
  {
   "cell_type": "code",
   "execution_count": null,
   "metadata": {},
   "outputs": [],
   "source": []
  },
  {
   "cell_type": "code",
   "execution_count": 35,
   "metadata": {},
   "outputs": [
    {
     "data": {
      "text/plain": [
       "(torch.Size([14, 100]),\n",
       " torch.Size([3, 100]),\n",
       " tensor([False, False, False,  True,  True,  True, False, False, False, False,\n",
       "         False, False, False, False]))"
      ]
     },
     "execution_count": 35,
     "metadata": {},
     "output_type": "execute_result"
    }
   ],
   "source": [
    "i = 10\n",
    "batch = ds_loader.get_batch(i, train=True)\n",
    "docs_chunks, target_chunks, target_mask = batch.gen_tensors()\n",
    "docs_chunks.shape, target_chunks.shape, target_mask"
   ]
  },
  {
   "cell_type": "code",
   "execution_count": 36,
   "metadata": {},
   "outputs": [
    {
     "data": {
      "text/plain": [
       "'<|query_begin|> Alfred Chandler (politician)Alfred Elliott Chandler (1 July 1873 – 12 February 1935) was an Australian politician.\\n\\nHe was born in Malvern to market gardener William Chandler and Kate Timewell. He attended state school and became a horticulturist, running a nursery in Boronia. On 24 May 1897 he married Elizabeth Ann Intermann, with whom he had one daughter; he remarried on 27 August 1901 to Marie Intermann, with whom he had five children. He served on Ferntree Gully Shire Council from 1901 to 1935, with four terms as president (1908–09, 1918–19, 1923–24, 1934–35). In 1919 he was elected to the Victorian Legislative Council as a Nationalist, representing South Eastern Province. He was Minister of Public Works and Mines from 1928 to 1929 and a minister without portfolio from 1932 to 1935. Chandler died in Boronia in 1935 and was succeeded by his son Gilbert.\\n\\nReferences\\n\\nCategory:1873 births\\nCategory:1935 deaths\\nCategory:Nationalist Party of Australia members of the Parliament of Victoria\\nCategory:United Australia Party members of the Parliament of Victoria\\nCategory:Members of the Victorian Legislative Council <|query_end|>'"
      ]
     },
     "execution_count": 36,
     "metadata": {},
     "output_type": "execute_result"
    }
   ],
   "source": [
    "s_target = tokten_to_text(target_chunks)\n",
    "s_target"
   ]
  },
  {
   "cell_type": "code",
   "execution_count": 37,
   "metadata": {},
   "outputs": [
    {
     "name": "stdout",
     "output_type": "stream",
     "text": [
      "<|doc_begin|> <|doc_id_begin|> 2025578 <|doc_id_end|> <|doc_offset_begin|> 182 <|doc_offset_end|>  127\\n  Massachusetts Route 127A\\n  Minnesota State Highway 127 (former)\\n  Missouri Route 127\\n  New Hamp\n",
      "<|doc_begin|> <|doc_id_begin|> 2025578 <|doc_id_end|> <|doc_offset_begin|> 273 <|doc_offset_end|>, New York)\\n  County Route 127 (Herkimer County, New York)\\n  County Route 127 (Monroe County, New York)\n",
      "<|doc_begin|> <|doc_id_begin|> 2025578 <|doc_id_end|> <|doc_offset_begin|> 364 <|doc_offset_end|> Westchester County, New York)\\n  North Carolina Highway 127\\n  North Dakota Highway 127\\n  Ohio State Rou\n",
      "<|doc_begin|> <|doc_id_begin|> 1443391 <|doc_id_end|> <|doc_offset_begin|> 0 <|doc_offset_end|> <|doc_title_begin|> Alfred Chandler (politician) <|doc_title_end|> <|doc_body_begin|> Alfred Elliott Cha\n",
      "<|doc_begin|> <|doc_id_begin|> 1443391 <|doc_id_end|> <|doc_offset_begin|> 91 <|doc_offset_end|> arried on 27 August 1901 to Marie Intermann, with whom he had five children. He served on Ferntree Gull\n",
      "<|doc_begin|> <|doc_id_begin|> 1443391 <|doc_id_end|> <|doc_offset_begin|> 182 <|doc_offset_end|>  minister without portfolio from 1932 to 1935. Chandler died in Boronia in 1935 and was succeeded by h\n",
      "<|doc_begin|> <|doc_id_begin|> 1154686 <|doc_id_end|> <|doc_offset_begin|> 364 <|doc_offset_end|>  Smt. R. Subhadramma has specialised in doing male roles, particularly characters like Duryodhana in M\n",
      "<|doc_begin|> <|doc_id_begin|> 1154686 <|doc_id_end|> <|doc_offset_begin|> 455 <|doc_offset_end|>  the guidance of Padma Shri B.V. Karanth, the organization learned three plays: Bhishma (1996), organi\n",
      "<|doc_begin|> <|doc_id_begin|> 1154686 <|doc_id_end|> <|doc_offset_begin|> 546 <|doc_offset_end|>  these three plays for the group but also provided music for all three plays.\\n\\nThe group live together\n",
      "<|doc_begin|> <|doc_id_begin|> 4393057 <|doc_id_end|> <|doc_offset_begin|> 0 <|doc_offset_end|> <|doc_title_begin|> Chitipa Wenya (Malawi Parliament constituency) <|doc_title_end|> <|doc_body_begin|> \n",
      "<|doc_begin|> <|doc_id_begin|> 4393057 <|doc_id_end|> <|doc_offset_begin|> 91 <|doc_offset_end|> References\\n\\nCategory:Constituencies of the National Assembly of Malawi <|doc_body_end|> <|doc_end|>\n",
      "<|doc_begin|> <|doc_id_begin|> 492441 <|doc_id_end|> <|doc_offset_begin|> 0 <|doc_offset_end|> <|doc_title_begin|> Vladislav Duyun <|doc_title_end|> <|doc_body_begin|> Vladislav Nikolayevich Duyun (; \n",
      "<|doc_begin|> <|doc_id_begin|> 492441 <|doc_id_end|> <|doc_offset_begin|> 91 <|doc_offset_end|>  1996–97 with FC Spartak Moscow: 5 games.\\n UEFA Intertoto Cup 1997 with FC Lokomotiv Nizhny Novgorod: 4 \n",
      "<|doc_begin|> <|doc_id_begin|> 492441 <|doc_id_end|> <|doc_offset_begin|> 182 <|doc_offset_end|> :1977 births\\nCategory:Living people\\nCategory:Ukrainian footballers\\nCategory:FC Zirka Kropyvnytskyi play\n"
     ]
    }
   ],
   "source": [
    "for toks in docs_chunks:\n",
    "    s = tokten_to_text(toks)\n",
    "    print(s[:200].replace('\\n', '\\\\n'))"
   ]
  },
  {
   "cell_type": "code",
   "execution_count": 38,
   "metadata": {},
   "outputs": [],
   "source": [
    "target_embs = model_ranker.run_enc_emb(target_chunks)\n",
    "docs_embs = model_ranker.run_enc_emb(docs_chunks)"
   ]
  },
  {
   "cell_type": "code",
   "execution_count": 39,
   "metadata": {},
   "outputs": [
    {
     "name": "stdout",
     "output_type": "stream",
     "text": [
      "0.545416 0.500873 0.436685 F\n",
      "0.572497 0.510113 0.436598 F\n",
      "0.455635 0.528292 0.488499 F\n",
      "0.933395 0.764793 0.648805 T\n",
      "0.783655 0.923404 0.797592 T\n",
      "0.672478 0.888736 0.935071 T\n",
      "0.689806 0.706245 0.651298 F\n",
      "0.664606 0.614295 0.537516 F\n",
      "0.484607 0.459275 0.500243 F\n",
      "0.526222 0.667321 0.719722 F\n",
      "0.401807 0.624887 0.762381 F\n",
      "0.676393 0.679892 0.564639 F\n",
      "0.545654 0.594635 0.487569 F\n",
      "0.598215 0.550506 0.405428 F\n"
     ]
    }
   ],
   "source": [
    "cosine = False\n",
    "cosine = True\n",
    "print_dist(target_embs, docs_embs, target_mask, cosine=cosine)"
   ]
  },
  {
   "cell_type": "code",
   "execution_count": 44,
   "metadata": {},
   "outputs": [
    {
     "name": "stdout",
     "output_type": "stream",
     "text": [
      "torch.Size([1, 100])\n",
      "0.292753 F\n",
      "0.293142 F\n",
      "0.406254 F\n",
      "0.656668 T\n",
      "0.711962 T\n",
      "0.730172 T\n",
      "0.592304 F\n",
      "0.493509 F\n",
      "0.446405 F\n",
      "0.315714 F\n",
      "0.406525 F\n",
      "0.513142 F\n",
      "0.480471 F\n",
      "0.330674 F\n"
     ]
    }
   ],
   "source": [
    "txt = 'Hong Kong 1987'\n",
    "txt = 'Climate Classification system, Mays Landing has a humid subtropical climate, abbreviated \"Cfa\"'\n",
    "# txt = 'Climate Classification system'\n",
    "txt = 'War and Peace'\n",
    "txt = 'Bandar Express, Ichhamati Express and Benapole Express'\n",
    "txt = 'Truus Kerkmeester'\n",
    "txt = 'The Brothers Karamazov'\n",
    "txt = 'Roslin House in Haverford, Pennsylvania, United States, was built in 1911 for Horace B. Forman Jr.'\n",
    "txt = 'Alfred Chandler (politician)'\n",
    "txt = 'Alfred Elliott Chandler (1 July 1873 – 12 February 1935) was an'\n",
    "cosine = True\n",
    "txt_tokens = text_to_tokens(txt, qbeg_tok=qbeg_tok, qend_tok=qend_tok)\n",
    "# txt_tokens = txt_tokens.repeat(3, 1)\n",
    "print(txt_tokens.shape)\n",
    "txt_embs = model_ranker.run_enc_emb(txt_tokens)\n",
    "print_dist(txt_embs, docs_embs, target_mask, cosine=cosine)\n"
   ]
  },
  {
   "cell_type": "code",
   "execution_count": 45,
   "metadata": {},
   "outputs": [
    {
     "data": {
      "text/plain": [
       "tensor([[0.0610, 0.0575, 0.1869, 0.6856, 0.8816, 0.9152, 0.7861, 0.3635, 0.6011,\n",
       "         0.0871, 0.3947, 0.4667, 0.5001, 0.2087]], grad_fn=<SigmoidBackward0>)"
      ]
     },
     "execution_count": 45,
     "metadata": {},
     "output_type": "execute_result"
    }
   ],
   "source": [
    "\n",
    "rank = model_ranker.run_qs_infer(docs_chunks, txt_tokens)\n",
    "rank"
   ]
  },
  {
   "cell_type": "code",
   "execution_count": null,
   "metadata": {},
   "outputs": [],
   "source": []
  },
  {
   "cell_type": "code",
   "execution_count": 31,
   "metadata": {},
   "outputs": [
    {
     "data": {
      "text/plain": [
       "tensor([[0.8737, 0.8907, 0.7371, 0.5201, 0.4101, 0.8237, 0.7342, 0.8183, 0.8694,\n",
       "         0.6263, 0.6608, 0.6087, 0.2565, 0.3135, 0.3250]],\n",
       "       grad_fn=<SigmoidBackward0>)"
      ]
     },
     "execution_count": 31,
     "metadata": {},
     "output_type": "execute_result"
    }
   ],
   "source": [
    "rank = model_ranker(txt_tokens, docs_chunks)\n",
    "rank"
   ]
  },
  {
   "cell_type": "code",
   "execution_count": 35,
   "metadata": {},
   "outputs": [
    {
     "data": {
      "text/plain": [
       "tensor([[2.6538e-21, 3.7294e-11, 2.4412e-19, 3.4020e-23, 7.5630e-20, 3.8663e-25,\n",
       "         1.3986e-18, 7.2614e-22, 1.0000e+00, 1.0000e+00, 1.0000e+00, 4.7166e-09,\n",
       "         1.9997e-11, 1.3684e-08]], grad_fn=<SigmoidBackward0>)"
      ]
     },
     "execution_count": 35,
     "metadata": {},
     "output_type": "execute_result"
    }
   ],
   "source": [
    "rank = model_ranker(target_chunks, docs_chunks)\n",
    "rank"
   ]
  },
  {
   "cell_type": "code",
   "execution_count": 31,
   "metadata": {},
   "outputs": [
    {
     "data": {
      "text/plain": [
       "3"
      ]
     },
     "execution_count": 31,
     "metadata": {},
     "output_type": "execute_result"
    }
   ],
   "source": [
    "np.random.randint(0, 6)"
   ]
  },
  {
   "cell_type": "code",
   "execution_count": null,
   "metadata": {},
   "outputs": [],
   "source": []
  },
  {
   "cell_type": "code",
   "execution_count": null,
   "metadata": {},
   "outputs": [],
   "source": []
  },
  {
   "cell_type": "code",
   "execution_count": null,
   "metadata": {},
   "outputs": [],
   "source": []
  },
  {
   "cell_type": "code",
   "execution_count": null,
   "metadata": {},
   "outputs": [],
   "source": []
  },
  {
   "cell_type": "code",
   "execution_count": null,
   "metadata": {},
   "outputs": [],
   "source": []
  },
  {
   "cell_type": "code",
   "execution_count": null,
   "metadata": {},
   "outputs": [],
   "source": []
  },
  {
   "cell_type": "code",
   "execution_count": null,
   "metadata": {},
   "outputs": [],
   "source": []
  },
  {
   "cell_type": "code",
   "execution_count": null,
   "metadata": {},
   "outputs": [],
   "source": []
  },
  {
   "cell_type": "code",
   "execution_count": null,
   "metadata": {},
   "outputs": [],
   "source": []
  },
  {
   "cell_type": "code",
   "execution_count": null,
   "metadata": {},
   "outputs": [],
   "source": []
  },
  {
   "cell_type": "code",
   "execution_count": null,
   "metadata": {},
   "outputs": [],
   "source": []
  },
  {
   "cell_type": "code",
   "execution_count": null,
   "metadata": {},
   "outputs": [],
   "source": []
  },
  {
   "cell_type": "code",
   "execution_count": null,
   "metadata": {},
   "outputs": [],
   "source": []
  },
  {
   "cell_type": "code",
   "execution_count": null,
   "metadata": {},
   "outputs": [],
   "source": []
  },
  {
   "cell_type": "code",
   "execution_count": null,
   "metadata": {},
   "outputs": [],
   "source": []
  },
  {
   "cell_type": "code",
   "execution_count": null,
   "metadata": {},
   "outputs": [],
   "source": []
  },
  {
   "cell_type": "code",
   "execution_count": null,
   "metadata": {},
   "outputs": [],
   "source": []
  }
 ],
 "metadata": {
  "kernelspec": {
   "display_name": "mllm",
   "language": "python",
   "name": "python3"
  },
  "language_info": {
   "codemirror_mode": {
    "name": "ipython",
    "version": 3
   },
   "file_extension": ".py",
   "mimetype": "text/x-python",
   "name": "python",
   "nbconvert_exporter": "python",
   "pygments_lexer": "ipython3",
   "version": "3.10.14"
  }
 },
 "nbformat": 4,
 "nbformat_minor": 2
}
