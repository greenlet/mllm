{
 "cells": [
  {
   "cell_type": "code",
   "execution_count": 1,
   "metadata": {},
   "outputs": [],
   "source": [
    "%load_ext autoreload\n",
    "%autoreload 2"
   ]
  },
  {
   "cell_type": "code",
   "execution_count": 2,
   "metadata": {},
   "outputs": [],
   "source": [
    "import os\n",
    "from pathlib import Path\n",
    "import sys\n",
    "from typing import Optional\n",
    "if '..' not in sys.path: sys.path.append('..')\n",
    "\n",
    "import numpy as np\n",
    "from matplotlib import pyplot as plt\n",
    "import torch\n",
    "from torch import nn\n",
    "from transformers import GPT2Tokenizer, AddedToken, PreTrainedTokenizer\n",
    "\n",
    "from mllm.data.dsfixed import DsLoader\n",
    "from mllm.model.mllm_encdec import MllmEncdec\n",
    "from mllm.model.mllm_ranker import MllmRanker\n",
    "from mllm.model.config import create_mllm_encdec_cfg, create_mllm_ranker_cfg\n",
    "from mllm.tokenization.chunk_tokenizer import calc_max_inp_size, gen_all_tokens\n",
    "\n"
   ]
  },
  {
   "cell_type": "code",
   "execution_count": 19,
   "metadata": {},
   "outputs": [],
   "source": [
    "DATA_PATH = Path(os.path.expandvars('$HOME')) / 'data'\n",
    "TRAIN_ENCDEC_PATH = DATA_PATH / 'train_mllm_encdec'\n",
    "TRAIN_RANKER_PATH = DATA_PATH / 'train_mllm_ranker'\n",
    "DS_DIR_PATH = DATA_PATH / 'wiki_20200501_en' / 'ch_100_fixed'\n",
    "\n",
    "encdec_subdir = 'encdec-20240718_221554-wiki_20200501_en-ch_100_fixed'\n",
    "# ranker_subdir = 'ranker-20240722_225232-wiki_20200501_en-ch_100_fixed'\n",
    "# ranker_subdir = 'ranker-20240724_230827-wiki_20200501_en-ch_100_fixed'\n",
    "# ranker_subdir = 'ranker-20240726_232850-wiki_20200501_en-ch_100_fixed'\n",
    "# ranker_subdir = 'ranker-20240722_225232-wiki_20200501_en-ch_100_fixed'\n",
    "ranker_subdir = 'ranker-20240730_213328-wiki_20200501_en-ch_100_fixed'\n",
    "encdec_train_path = TRAIN_ENCDEC_PATH / encdec_subdir\n",
    "ranker_train_path = TRAIN_RANKER_PATH / ranker_subdir\n",
    "encdec_snapshot_path = encdec_train_path / 'best.pth'\n",
    "ranker_snapshot_path = ranker_train_path / 'best.pth'"
   ]
  },
  {
   "cell_type": "code",
   "execution_count": 5,
   "metadata": {},
   "outputs": [
    {
     "name": "stdout",
     "output_type": "stream",
     "text": [
      "cpu\n"
     ]
    }
   ],
   "source": [
    "docs_batch_size = 5\n",
    "max_chunks_per_doc = 3\n",
    "device = 'cpu'\n",
    "# device = 'cuda'\n",
    "\n",
    "device = torch.device(device)\n",
    "print(device)"
   ]
  },
  {
   "cell_type": "code",
   "execution_count": 7,
   "metadata": {},
   "outputs": [
    {
     "name": "stdout",
     "output_type": "stream",
     "text": [
      "Loading cache from /home/misha/data/wiki_20200501_en/ch_100_fixed/.mllm/ds.csv\n",
      "Loaded dataset size: 50989207\n"
     ]
    }
   ],
   "source": [
    "tokenizer = GPT2Tokenizer.from_pretrained('gpt2', model_max_length=100000)\n",
    "tok_dict = gen_all_tokens(tokenizer)\n",
    "pad_tok, qbeg_tok, qend_tok = tok_dict['pad'].ind, tok_dict['query_begin'].ind, tok_dict['query_end'].ind\n",
    "ds_loader = DsLoader(\n",
    "    ds_path=DS_DIR_PATH, docs_batch_size=docs_batch_size, max_chunks_per_doc=max_chunks_per_doc,\n",
    "    pad_tok=pad_tok, qbeg_tok=qbeg_tok, qend_tok=qend_tok, device=device,\n",
    ")\n",
    "ds_loader.shuffle(train=True)\n",
    "ds_loader.shuffle(train=False)\n",
    "inp_len = ds_loader.emb_chunk_size if ds_loader.fixed_size else calc_max_inp_size(ds_loader.emb_chunk_size)"
   ]
  },
  {
   "cell_type": "code",
   "execution_count": 8,
   "metadata": {},
   "outputs": [],
   "source": [
    "def tokten_to_text(tokens: torch.Tensor) -> str:\n",
    "    tokens = tokens.flatten()\n",
    "    tokens = tokens[tokens != pad_tok]\n",
    "    tokens = list(tokens)\n",
    "    s = tokenizer.decode(tokens)\n",
    "    return s\n",
    "\n",
    "def distance(x: np.ndarray, y: np.ndarray, cosine: bool = False):\n",
    "    if not cosine:\n",
    "        return np.linalg.norm(x - y)\n",
    "    x_norm, y_norm = np.linalg.norm(x), np.linalg.norm(y)\n",
    "    return np.sum(x * y) / (x_norm * y_norm)\n",
    "\n",
    "def text_to_tokens(s: str, qbeg_tok: Optional[int] = None, qend_tok: Optional[int] = None) -> torch.Tensor:\n",
    "    tokens = tokenizer(s)['input_ids']\n",
    "    if qbeg_tok is not None:\n",
    "        assert qend_tok is not None\n",
    "        tokens = [qbeg_tok, *tokens, qend_tok]\n",
    "    n_tokens = len(tokens)\n",
    "    n_padded = n_tokens // inp_len + (n_tokens % inp_len > 0)\n",
    "    res = np.full((n_padded * inp_len, ), pad_tok, dtype=np.int32)\n",
    "    res[:n_tokens] = tokens\n",
    "    res = torch.from_numpy(res).to(device)\n",
    "    res = res.reshape(n_padded, inp_len)\n",
    "    return res\n",
    "\n",
    "def print_dist(target_embs: torch.Tensor, docs_embs: torch.Tensor, target_mask: torch.Tensor, cosine: bool = True):\n",
    "    for i, docs_emb in enumerate(docs_embs.detach().numpy()):\n",
    "        for target_emb in target_embs.detach().numpy():\n",
    "            dist = distance(target_emb, docs_emb, cosine)\n",
    "            print(f'{dist:0.6f} ', end='')\n",
    "        sfx = 'T' if target_mask[i] else 'F'\n",
    "        print(sfx)\n"
   ]
  },
  {
   "cell_type": "code",
   "execution_count": 9,
   "metadata": {},
   "outputs": [
    {
     "name": "stdout",
     "output_type": "stream",
     "text": [
      "vocab_encoder.src_word_emb.weight (50270, 256) -0.010897279 -9.7442e-07 0.010897281\n",
      "vocab_encoder.layer_norm.weight (256,) -0.099923074 -0.001466922 0.09995844\n",
      "vocab_encoder.layer_norm.bias (256,) -0.09973998 -0.0070997463 0.09975698\n",
      "encoder.layer_stack.0.slf_attn.w_qs.weight (256, 256) -0.10824979 -0.00017184466 0.10825187\n",
      "encoder.layer_stack.0.slf_attn.w_ks.weight (256, 256) -0.10825093 -0.0006119554 0.108244695\n",
      "encoder.layer_stack.0.slf_attn.w_vs.weight (256, 256) -0.10825137 -0.00023912507 0.10825263\n",
      "encoder.layer_stack.0.slf_attn.fc.weight (256, 256) -0.10824232 -0.0001345489 0.108251765\n",
      "encoder.layer_stack.0.slf_attn.layer_norm.weight (256,) -0.097872056 -0.0016283693 0.099423945\n",
      "encoder.layer_stack.0.slf_attn.layer_norm.bias (256,) -0.09898015 0.002898208 0.099626236\n",
      "encoder.layer_stack.0.pos_ffn.w_1.weight (1024, 256) -0.06846511 -9.5868134e-05 0.068464756\n",
      "encoder.layer_stack.0.pos_ffn.w_1.bias (1024,) -0.09986945 0.00046189176 0.099934734\n",
      "encoder.layer_stack.0.pos_ffn.w_2.weight (256, 1024) -0.068465 -5.272601e-05 0.068465255\n",
      "encoder.layer_stack.0.pos_ffn.w_2.bias (256,) -0.09965848 0.001025663 0.097019866\n",
      "encoder.layer_stack.0.pos_ffn.layer_norm.weight (256,) -0.09950083 -0.00030936854 0.09994886\n",
      "encoder.layer_stack.0.pos_ffn.layer_norm.bias (256,) -0.09931039 -0.0031325954 0.09975672\n",
      "encoder.w_em.weight (1, 100) -0.24024302 -0.01104927 0.2419862\n",
      "decoder.A_emb2sec (100, 256, 256) -0.008113916 5.9890203e-07 0.008113918\n",
      "decoder.att_layers.0.slf_attn.w_qs.weight (256, 256) -0.10825201 0.00038285827 0.10824526\n",
      "decoder.att_layers.0.slf_attn.w_ks.weight (256, 256) -0.10825258 0.00033553806 0.10824418\n",
      "decoder.att_layers.0.slf_attn.w_vs.weight (256, 256) -0.10825151 -0.00077456783 0.1082524\n",
      "decoder.att_layers.0.slf_attn.fc.weight (256, 256) -0.1082527 -0.00016269289 0.10825035\n",
      "decoder.att_layers.0.slf_attn.layer_norm.weight (256,) -0.09973134 -0.0008397049 0.099781826\n",
      "decoder.att_layers.0.slf_attn.layer_norm.bias (256,) -0.09939053 -0.0007443907 0.0995353\n",
      "decoder.att_layers.0.pos_ffn.w_1.weight (1024, 256) -0.068464994 7.855521e-05 0.06846498\n",
      "decoder.att_layers.0.pos_ffn.w_1.bias (1024,) -0.099684715 0.0012498501 0.09995651\n",
      "decoder.att_layers.0.pos_ffn.w_2.weight (256, 1024) -0.06846522 2.339521e-05 0.06846522\n",
      "decoder.att_layers.0.pos_ffn.w_2.bias (256,) -0.09997294 -0.0022315541 0.09972947\n",
      "decoder.att_layers.0.pos_ffn.layer_norm.weight (256,) -0.099238925 -6.958342e-05 0.099893175\n",
      "decoder.att_layers.0.pos_ffn.layer_norm.bias (256,) -0.09990785 -0.005082952 0.09983509\n",
      "vocab_decoder.word_prj.weight (50270, 256) -0.010897282 9.668718e-07 0.010897278\n"
     ]
    }
   ],
   "source": [
    "model_encdec_cfg = create_mllm_encdec_cfg(\n",
    "    n_vocab=len(tokenizer), d_word_wec=256, inp_len=inp_len,\n",
    "    enc_n_layers=1, dec_n_layers=1,\n",
    "    n_heads=8, d_model=256, d_inner=1024,\n",
    "    pad_idx=pad_tok, dropout_rate=0.1, enc_with_emb_mat=True,\n",
    ")\n",
    "model_encdec = MllmEncdec(model_encdec_cfg).to(device)"
   ]
  },
  {
   "cell_type": "code",
   "execution_count": 10,
   "metadata": {},
   "outputs": [],
   "source": [
    "checkpoint_encdec = torch.load(encdec_snapshot_path)\n",
    "model_encdec.load_state_dict(checkpoint_encdec['model'])\n",
    "model_encdec.eval()\n",
    "del checkpoint_encdec"
   ]
  },
  {
   "cell_type": "code",
   "execution_count": 11,
   "metadata": {},
   "outputs": [
    {
     "data": {
      "text/plain": [
       "tensor([[15496,   612, 50267, 50267, 50267, 50267, 50267, 50267, 50267, 50267,\n",
       "         50267, 50267, 50267, 50267, 50267, 50267, 50267, 50267, 50267, 50267,\n",
       "         50267, 50267, 50267, 50267, 50267, 50267, 50267, 50267, 50267, 50267,\n",
       "         50267, 50267, 50267, 50267, 50267, 50267, 50267, 50267, 50267, 50267,\n",
       "         50267, 50267, 50267, 50267, 50267, 50267, 50267, 50267, 50267, 50267,\n",
       "         50267, 50267, 50267, 50267, 50267, 50267, 50267, 50267, 50267, 50267,\n",
       "         50267, 50267, 50267, 50267, 50267, 50267, 50267, 50267, 50267, 50267,\n",
       "         50267, 50267, 50267, 50267, 50267, 50267, 50267, 50267, 50267, 50267,\n",
       "         50267, 50267, 50267, 50267, 50267, 50267, 50267, 50267, 50267, 50267,\n",
       "         50267, 50267, 50267, 50267, 50267, 50267, 50267, 50267, 50267, 50267]],\n",
       "       dtype=torch.int32)"
      ]
     },
     "execution_count": 11,
     "metadata": {},
     "output_type": "execute_result"
    }
   ],
   "source": [
    "text_to_tokens('Hello there')"
   ]
  },
  {
   "cell_type": "code",
   "execution_count": 12,
   "metadata": {},
   "outputs": [
    {
     "data": {
      "text/plain": [
       "(torch.Size([13, 100]),\n",
       " torch.Size([3, 100]),\n",
       " tensor([False, False, False, False, False, False, False, False, False,  True,\n",
       "          True,  True, False]))"
      ]
     },
     "execution_count": 12,
     "metadata": {},
     "output_type": "execute_result"
    }
   ],
   "source": [
    "i = 10\n",
    "batch = ds_loader.get_batch(i, train=True)\n",
    "docs_chunks, target_chunks, target_mask = batch.gen_tensors()\n",
    "docs_chunks.shape, target_chunks.shape, target_mask"
   ]
  },
  {
   "cell_type": "code",
   "execution_count": 13,
   "metadata": {},
   "outputs": [
    {
     "data": {
      "text/plain": [
       "'<|query_begin|>  Extensive property destruction was caused.\\n A magnitude 6.3 earthquake struck off the east coast of Taiwan on April 17 at a depth of 41.6\\xa0km.\\n A magnitude 6.0 earthquake struck Tonga on April 21 at a depth of 85.0\\xa0km.\\n A magnitude 7.0 earthquake struck off the east coast of Taiwan on April 24 at a depth of 22.2\\xa0km. The shock had a maximum intensity of VII (Very strong). 4 people were killed and 11 were injured. Some damage was reported.\\n A magnitude 7.5 earthquake struck Mindoro, Philippines on April 25 at a depth of 25.0\\xa0km. The shock had a maximum intensity of VIII (Severe). Some damage was reported.\\n A magnitude 6.0 aftershock struck off the north coast of Mindoro, Philippines on April 27 at a depth of 25.0\\xa0km.\\n A magnitude 7.2 earthquake struck west of Bougainville Island, Papua New Guinea on April 28 at a depth of 409.9\\xa0km.\\n A magnitude 6.0 aftershock struck off the north coast of Mindoro, Philippines on April 30 at a depth of 25.0\\xa0km.\\n\\nMay \\n\\n A magnitude 6.9 earthquake struck Vanuatu on May 4 at a depth of 51.0 <|query_end|>'"
      ]
     },
     "execution_count": 13,
     "metadata": {},
     "output_type": "execute_result"
    }
   ],
   "source": [
    "s_target = tokten_to_text(target_chunks)\n",
    "s_target"
   ]
  },
  {
   "cell_type": "code",
   "execution_count": 14,
   "metadata": {},
   "outputs": [
    {
     "name": "stdout",
     "output_type": "stream",
     "text": [
      "<|doc_begin|> <|doc_id_begin|> 2690797 <|doc_id_end|> <|doc_offset_begin|> 182 <|doc_offset_end|> atsby. The hotel is part of the Hilton Hotels & Resorts chain.\\n\\nHistory\\n\\n1869–1924\\nLouis Seelbach and \n",
      "<|doc_begin|> <|doc_id_begin|> 2690797 <|doc_id_end|> <|doc_offset_begin|> 273 <|doc_offset_end|>  but after turning 22 in 1874, he realized that he had greater ambitions. He opened the Seelbach Bar &\n",
      "<|doc_begin|> <|doc_id_begin|> 2690797 <|doc_id_end|> <|doc_offset_begin|> 364 <|doc_offset_end|>  intent on building Louisville's first grand hotel: a hotel reflecting the opulence of European hotels\n",
      "<|doc_begin|> <|doc_id_begin|> 848926 <|doc_id_end|> <|doc_offset_begin|> 0 <|doc_offset_end|> <|doc_title_begin|> Hoàng Thúc Hào <|doc_title_end|> <|doc_body_begin|> Hoang Thuc Hao (born 1971 in Hano\n",
      "<|doc_begin|> <|doc_id_begin|> 848926 <|doc_id_end|> <|doc_offset_begin|> 91 <|doc_offset_end|>  Hanoi University for Civil Engineering. He is also executive member of the Association of Vietnamese Ar\n",
      "<|doc_begin|> <|doc_id_begin|> 848926 <|doc_id_end|> <|doc_offset_begin|> 182 <|doc_offset_end|>, also the first Vietnamese architect awarded the VASSILIS SGOUTAS PRIZE 2017 of The International Union\n",
      "<|doc_begin|> <|doc_id_begin|> 385629 <|doc_id_end|> <|doc_offset_begin|> 455 <|doc_offset_end|>  orbit on 8 November. On 16 November, the Moon Impact Probe was released, and crashed into the Lunar su\n",
      "<|doc_begin|> <|doc_id_begin|> 385629 <|doc_id_end|> <|doc_offset_begin|> 546 <|doc_offset_end|>  of Saturn, including several close passes of Enceladus, one at a distance of 25 kilometres. In Septemb\n",
      "<|doc_begin|> <|doc_id_begin|> 385629 <|doc_id_end|> <|doc_offset_begin|> 637 <|doc_offset_end|> \\n\\nCrewed spaceflight\\nSeven crewed flights were launched in 2008, one by China, two by Russia and four b\n",
      "<|doc_begin|> <|doc_id_begin|> 1847057 <|doc_id_end|> <|doc_offset_begin|> 1449 <|doc_offset_end|>  Extensive property destruction was caused.\\n A magnitude 6.3 earthquake struck off the east coast of \n",
      "<|doc_begin|> <|doc_id_begin|> 1847057 <|doc_id_end|> <|doc_offset_begin|> 1539 <|doc_offset_end|>  of VII (Very strong). 4 people were killed and 11 were injured. Some damage was reported.\\n A magnitu\n",
      "<|doc_begin|> <|doc_id_begin|> 1847057 <|doc_id_end|> <|doc_offset_begin|> 1629 <|doc_offset_end|>  km.\\n A magnitude 7.2 earthquake struck west of Bougainville Island, Papua New Guinea on April 28 at \n",
      "<|doc_begin|> <|doc_id_begin|> 2388004 <|doc_id_end|> <|doc_offset_begin|> 0 <|doc_offset_end|> <|doc_title_begin|> Eriphus mexicanus <|doc_title_end|> <|doc_body_begin|> Eriphus mexicanus is a specie\n"
     ]
    }
   ],
   "source": [
    "for toks in docs_chunks:\n",
    "    s = tokten_to_text(toks)\n",
    "    print(s[:200].replace('\\n', '\\\\n'))"
   ]
  },
  {
   "cell_type": "code",
   "execution_count": 15,
   "metadata": {},
   "outputs": [],
   "source": [
    "target_embs = model_encdec.run_enc_emb(target_chunks)\n",
    "docs_embs = model_encdec.run_enc_emb(docs_chunks)"
   ]
  },
  {
   "cell_type": "code",
   "execution_count": 16,
   "metadata": {},
   "outputs": [
    {
     "name": "stdout",
     "output_type": "stream",
     "text": [
      "0.248495 0.181886 0.157517 F\n",
      "0.286773 0.272802 0.233572 F\n",
      "0.247082 0.229371 0.248524 F\n",
      "0.169080 0.180084 0.225005 F\n",
      "0.208775 0.255168 0.226181 F\n",
      "0.209460 0.226597 0.229089 F\n",
      "0.398413 0.479122 0.362724 F\n",
      "0.389103 0.477254 0.432144 F\n",
      "0.473069 0.408184 0.372819 F\n",
      "0.541386 0.480275 0.534072 T\n",
      "0.512896 0.454261 0.482845 T\n",
      "0.497160 0.549742 0.588810 T\n",
      "0.090437 0.068219 0.241406 F\n"
     ]
    }
   ],
   "source": [
    "cosine = False\n",
    "cosine = True\n",
    "print_dist(target_embs, docs_embs, target_mask, cosine=cosine)"
   ]
  },
  {
   "cell_type": "code",
   "execution_count": 20,
   "metadata": {},
   "outputs": [
    {
     "name": "stdout",
     "output_type": "stream",
     "text": [
      "vocab_encoder.src_word_emb.weight (50270, 256) -0.010897282 -5.154602e-07 0.010897281\n",
      "vocab_encoder.layer_norm.weight (256,) -0.099380784 -0.0002469452 0.09851217\n",
      "vocab_encoder.layer_norm.bias (256,) -0.0997442 -0.0034882382 0.09990348\n",
      "encoders.0.layer_stack.0.slf_attn.w_qs.weight (256, 256) -0.108252466 -0.00020913366 0.10825272\n",
      "encoders.0.layer_stack.0.slf_attn.w_ks.weight (256, 256) -0.10825106 -0.000111831825 0.10825004\n",
      "encoders.0.layer_stack.0.slf_attn.w_vs.weight (256, 256) -0.10825122 -6.3578846e-05 0.10824707\n",
      "encoders.0.layer_stack.0.slf_attn.fc.weight (256, 256) -0.10825268 0.00020638958 0.10824436\n",
      "encoders.0.layer_stack.0.slf_attn.layer_norm.weight (256,) -0.09917112 0.0011425647 0.096491575\n",
      "encoders.0.layer_stack.0.slf_attn.layer_norm.bias (256,) -0.09920192 -0.0027629337 0.09965416\n",
      "encoders.0.layer_stack.0.pos_ffn.w_1.weight (1024, 256) -0.068464875 -8.016823e-06 0.06846483\n",
      "encoders.0.layer_stack.0.pos_ffn.w_1.bias (1024,) -0.0999907 -0.0017177719 0.09998728\n",
      "encoders.0.layer_stack.0.pos_ffn.w_2.weight (256, 1024) -0.06846494 -5.3018946e-05 0.06846509\n",
      "encoders.0.layer_stack.0.pos_ffn.w_2.bias (256,) -0.09976994 -0.00028526387 0.09900174\n",
      "encoders.0.layer_stack.0.pos_ffn.layer_norm.weight (256,) -0.099113286 0.00023839902 0.099397324\n",
      "encoders.0.layer_stack.0.pos_ffn.layer_norm.bias (256,) -0.09903189 0.0021721558 0.09970353\n",
      "encoders.0.w_em.weight (1, 100) -0.23692088 0.015397384 0.23731007\n",
      "decoders.0.w.weight (256, 256) -0.108249135 -8.8240224e-05 0.10824836\n"
     ]
    }
   ],
   "source": [
    "inp_len = ds_loader.emb_chunk_size if ds_loader.fixed_size else calc_max_inp_size(ds_loader.emb_chunk_size)\n",
    "model_ranker_cfg = create_mllm_ranker_cfg(\n",
    "    n_vocab=len(tokenizer), inp_len=inp_len, d_word_wec=256,\n",
    "    n_levels=1, enc_n_layers=1, dec_n_layers=1,\n",
    "    n_heads=8, d_k=32, d_v=32, d_model=256, d_inner=1024,\n",
    "    pad_idx=pad_tok, dropout_rate=0.1, enc_with_emb_mat=True,\n",
    ")\n",
    "\n",
    "model_ranker = MllmRanker(model_ranker_cfg).to(device)"
   ]
  },
  {
   "cell_type": "code",
   "execution_count": 21,
   "metadata": {},
   "outputs": [],
   "source": [
    "checkpoint_ranker = torch.load(ranker_snapshot_path)\n",
    "model_ranker.load_state_dict(checkpoint_ranker['model'])\n",
    "model_ranker.eval()\n",
    "del checkpoint_ranker"
   ]
  },
  {
   "cell_type": "code",
   "execution_count": null,
   "metadata": {},
   "outputs": [],
   "source": []
  },
  {
   "cell_type": "code",
   "execution_count": 22,
   "metadata": {},
   "outputs": [
    {
     "data": {
      "text/plain": [
       "(torch.Size([14, 100]),\n",
       " torch.Size([3, 100]),\n",
       " tensor([False, False, False, False, False, False, False, False,  True,  True,\n",
       "          True, False, False, False]))"
      ]
     },
     "execution_count": 22,
     "metadata": {},
     "output_type": "execute_result"
    }
   ],
   "source": [
    "i = 11\n",
    "batch = ds_loader.get_batch(i, train=True)\n",
    "docs_chunks, target_chunks, target_mask = batch.gen_tensors()\n",
    "docs_chunks.shape, target_chunks.shape, target_mask"
   ]
  },
  {
   "cell_type": "code",
   "execution_count": 23,
   "metadata": {},
   "outputs": [
    {
     "data": {
      "text/plain": [
       "'<|query_begin|> Roslin HouseRoslin House in Haverford, Pennsylvania, United States, was built in 1911 for Horace B. Forman Jr. and his wife, Elizabeth Chandlee Forman. The Philadelphia Quaker architect William L. Price designed and built the house from sketches provided by the Formans. Dr. H. Chandlee Forman, son of Horace and Elizabeth, donated the house to Haverford College in 1948.\\n\\nSince then, it has served as Haverford College\\'s La Casa Hispánica, \"a Special Interest House which supports the endeavors of students actively engaged in organizing programs concerned with the cultures and civilizations of the Spanish-speaking world.\" \\n\\nBuilt of cut stone, the three-story Gothic Revival house is designed after Roslin Castle and Chapel in Scotland. Its font (east) facade features a pair of extended gabled pavilions. A two-story turret containing the main staircase, and a hooded entry porch project from the southern extended gable. Extending south perpendicularly from this gable is the home\\'s interior showpiece: a dramatic two-story living space containing a vaulted ceiling, exposed wood beams, floor-to-ceiling stone fireplace, and balcony around the perimeter of the second floor.\\n\\nReferences\\n\\nCategory:Houses in Delaware <|query_end|>'"
      ]
     },
     "execution_count": 23,
     "metadata": {},
     "output_type": "execute_result"
    }
   ],
   "source": [
    "s_target = tokten_to_text(target_chunks)\n",
    "s_target"
   ]
  },
  {
   "cell_type": "code",
   "execution_count": 24,
   "metadata": {},
   "outputs": [
    {
     "name": "stdout",
     "output_type": "stream",
     "text": [
      "<|doc_begin|> <|doc_id_begin|> 2666740 <|doc_id_end|> <|doc_offset_begin|> 0 <|doc_offset_end|> <|doc_title_begin|> Yeh Raat Phir Na Aayegi (1966 film) <|doc_title_end|> <|doc_body_begin|> Yeh Raat Ph\n",
      "<|doc_begin|> <|doc_id_begin|> 2666740 <|doc_id_end|> <|doc_offset_begin|> 91 <|doc_offset_end|> ir Na Aayegi is a rivetting film about a woman's two thousand year old skeleton mysteriously coming to \n",
      "<|doc_begin|> <|doc_id_begin|> 2666740 <|doc_id_end|> <|doc_offset_begin|> 182 <|doc_offset_end|>  is presently engaged to Reeta as her fiancé.\\n\\nCast\\n\\nBiswajit Chatterjee as Suraj\\nSharmila Tagore as K\n",
      "<|doc_begin|> <|doc_id_begin|> 1400412 <|doc_id_end|> <|doc_offset_begin|> 0 <|doc_offset_end|> <|doc_title_begin|> Joke de Korte <|doc_title_end|> <|doc_body_begin|> Johanna Catharina \"Joke\" de Korte\n",
      "<|doc_begin|> <|doc_id_begin|> 1400412 <|doc_id_end|> <|doc_offset_begin|> 91 <|doc_offset_end|> Category:Female backstroke swimmers\\nCategory:Female freestyle swimmers\\nCategory:Olympic swimmers of the\n",
      "<|doc_begin|> <|doc_id_begin|> 2618318 <|doc_id_end|> <|doc_offset_begin|> 998 <|doc_offset_end|> -6 victory. After being consistently linked with a move to the Super League during the early half of 2\n",
      "<|doc_begin|> <|doc_id_begin|> 2618318 <|doc_id_end|> <|doc_offset_begin|> 1089 <|doc_offset_end|>  convincingly over Manly-Warringah, 34–8, and King scored an inspiring try in his last game in the NR\n",
      "<|doc_begin|> <|doc_id_begin|> 2618318 <|doc_id_end|> <|doc_offset_begin|> 1179 <|doc_offset_end|>  2008's Super League XIII. In the semi-final of the 2009 Challenge Cup against Wigan Warriors, King s\n",
      "<|doc_begin|> <|doc_id_begin|> 2702075 <|doc_id_end|> <|doc_offset_begin|> 0 <|doc_offset_end|> <|doc_title_begin|> Roslin House <|doc_title_end|> <|doc_body_begin|> Roslin House in Haverford, Pennsyl\n",
      "<|doc_begin|> <|doc_id_begin|> 2702075 <|doc_id_end|> <|doc_offset_begin|> 91 <|doc_offset_end|> \\n\\nSince then, it has served as Haverford College's La Casa Hispánica, \"a Special Interest House which s\n",
      "<|doc_begin|> <|doc_id_begin|> 2702075 <|doc_id_end|> <|doc_offset_begin|> 182 <|doc_offset_end|> ilions. A two-story turret containing the main staircase, and a hooded entry porch project from the so\n",
      "<|doc_begin|> <|doc_id_begin|> 18002 <|doc_id_end|> <|doc_offset_begin|> 0 <|doc_offset_end|> <|doc_title_begin|> Home for the Holidays (song) <|doc_title_end|> <|doc_body_begin|> \"(There's No Place L\n",
      "<|doc_begin|> <|doc_id_begin|> 18002 <|doc_id_end|> <|doc_offset_begin|> 92 <|doc_offset_end|>, both times accompanied by Mitchell Ayres' Orchestra and the Ray Charles Singers.\\n\\nThe first recording, a\n",
      "<|doc_begin|> <|doc_id_begin|> 18002 <|doc_id_end|> <|doc_offset_begin|> 184 <|doc_offset_end|>  States. The next Christmas it was released again, with \"God Rest Ye Merry, Gentlemen\" as the flip side.\n"
     ]
    }
   ],
   "source": [
    "for toks in docs_chunks:\n",
    "    s = tokten_to_text(toks)\n",
    "    print(s[:200].replace('\\n', '\\\\n'))"
   ]
  },
  {
   "cell_type": "code",
   "execution_count": 25,
   "metadata": {},
   "outputs": [],
   "source": [
    "target_embs = model_ranker.run_enc_emb(target_chunks)\n",
    "docs_embs = model_ranker.run_enc_emb(docs_chunks)"
   ]
  },
  {
   "cell_type": "code",
   "execution_count": 26,
   "metadata": {},
   "outputs": [
    {
     "name": "stdout",
     "output_type": "stream",
     "text": [
      "0.138374 0.130108 -0.014807 F\n",
      "0.071871 0.398005 0.294738 F\n",
      "-0.003740 0.095608 0.033381 F\n",
      "0.167234 -0.002258 0.111514 F\n",
      "0.066184 -0.018406 0.229574 F\n",
      "-0.016917 -0.159324 0.008091 F\n",
      "0.147080 -0.058094 0.110920 F\n",
      "0.107667 -0.092308 0.062023 F\n",
      "0.991219 0.575976 0.610025 T\n",
      "0.607465 0.957985 0.603230 T\n",
      "0.620492 0.755222 0.952388 T\n",
      "0.258288 0.393751 0.197679 F\n",
      "0.359407 0.244877 0.236895 F\n",
      "0.354192 0.477126 0.392710 F\n"
     ]
    }
   ],
   "source": [
    "cosine = False\n",
    "cosine = True\n",
    "print_dist(target_embs, docs_embs, target_mask, cosine=cosine)"
   ]
  },
  {
   "cell_type": "code",
   "execution_count": 43,
   "metadata": {},
   "outputs": [
    {
     "name": "stdout",
     "output_type": "stream",
     "text": [
      "torch.Size([1, 100])\n",
      "0.070620 F\n",
      "0.040052 F\n",
      "-0.014940 F\n",
      "0.231204 F\n",
      "0.192953 F\n",
      "0.008095 F\n",
      "0.015416 F\n",
      "0.134448 F\n",
      "0.527549 T\n",
      "0.347985 T\n",
      "0.420489 T\n",
      "0.145632 F\n",
      "0.069274 F\n",
      "0.087963 F\n"
     ]
    }
   ],
   "source": [
    "txt = 'Hong Kong 1987'\n",
    "txt = 'Climate Classification system, Mays Landing has a humid subtropical climate, abbreviated \"Cfa\"'\n",
    "# txt = 'Climate Classification system'\n",
    "txt = 'War and Peace'\n",
    "txt = 'Bandar Express, Ichhamati Express and Benapole Express'\n",
    "txt = 'Truus Kerkmeester'\n",
    "txt = 'The Brothers Karamazov'\n",
    "txt = 'Roslin House in Haverford, Pennsylvania, United States, was built in 1911 for Horace B. Forman Jr.'\n",
    "txt = 'Roslin House Haverford Pennsylvania'\n",
    "cosine = True\n",
    "txt_tokens = text_to_tokens(txt, qbeg_tok=qbeg_tok, qend_tok=qend_tok)\n",
    "# txt_tokens = txt_tokens.repeat(3, 1)\n",
    "print(txt_tokens.shape)\n",
    "txt_embs = model_ranker.run_enc_emb(txt_tokens)\n",
    "print_dist(txt_embs, docs_embs, target_mask, cosine=cosine)\n"
   ]
  },
  {
   "cell_type": "code",
   "execution_count": 44,
   "metadata": {},
   "outputs": [
    {
     "data": {
      "text/plain": [
       "tensor([[8.1955e-15, 6.4947e-16, 7.8026e-19, 1.9788e-13, 3.8804e-10, 2.0001e-21,\n",
       "         8.6649e-20, 5.8725e-16, 4.4542e-02, 2.0519e-08, 1.7612e-05, 2.6792e-09,\n",
       "         6.1470e-14, 4.2783e-17]], grad_fn=<SigmoidBackward0>)"
      ]
     },
     "execution_count": 44,
     "metadata": {},
     "output_type": "execute_result"
    }
   ],
   "source": [
    "rank = model_ranker(txt_tokens, docs_chunks)\n",
    "rank"
   ]
  },
  {
   "cell_type": "code",
   "execution_count": 35,
   "metadata": {},
   "outputs": [
    {
     "data": {
      "text/plain": [
       "tensor([[2.6538e-21, 3.7294e-11, 2.4412e-19, 3.4020e-23, 7.5630e-20, 3.8663e-25,\n",
       "         1.3986e-18, 7.2614e-22, 1.0000e+00, 1.0000e+00, 1.0000e+00, 4.7166e-09,\n",
       "         1.9997e-11, 1.3684e-08]], grad_fn=<SigmoidBackward0>)"
      ]
     },
     "execution_count": 35,
     "metadata": {},
     "output_type": "execute_result"
    }
   ],
   "source": [
    "rank = model_ranker(target_chunks, docs_chunks)\n",
    "rank"
   ]
  },
  {
   "cell_type": "code",
   "execution_count": 31,
   "metadata": {},
   "outputs": [
    {
     "data": {
      "text/plain": [
       "3"
      ]
     },
     "execution_count": 31,
     "metadata": {},
     "output_type": "execute_result"
    }
   ],
   "source": [
    "np.random.randint(0, 6)"
   ]
  },
  {
   "cell_type": "code",
   "execution_count": null,
   "metadata": {},
   "outputs": [],
   "source": []
  },
  {
   "cell_type": "code",
   "execution_count": null,
   "metadata": {},
   "outputs": [],
   "source": []
  },
  {
   "cell_type": "code",
   "execution_count": null,
   "metadata": {},
   "outputs": [],
   "source": []
  },
  {
   "cell_type": "code",
   "execution_count": null,
   "metadata": {},
   "outputs": [],
   "source": []
  },
  {
   "cell_type": "code",
   "execution_count": null,
   "metadata": {},
   "outputs": [],
   "source": []
  },
  {
   "cell_type": "code",
   "execution_count": null,
   "metadata": {},
   "outputs": [],
   "source": []
  },
  {
   "cell_type": "code",
   "execution_count": null,
   "metadata": {},
   "outputs": [],
   "source": []
  },
  {
   "cell_type": "code",
   "execution_count": null,
   "metadata": {},
   "outputs": [],
   "source": []
  },
  {
   "cell_type": "code",
   "execution_count": null,
   "metadata": {},
   "outputs": [],
   "source": []
  },
  {
   "cell_type": "code",
   "execution_count": null,
   "metadata": {},
   "outputs": [],
   "source": []
  },
  {
   "cell_type": "code",
   "execution_count": null,
   "metadata": {},
   "outputs": [],
   "source": []
  },
  {
   "cell_type": "code",
   "execution_count": null,
   "metadata": {},
   "outputs": [],
   "source": []
  },
  {
   "cell_type": "code",
   "execution_count": null,
   "metadata": {},
   "outputs": [],
   "source": []
  },
  {
   "cell_type": "code",
   "execution_count": null,
   "metadata": {},
   "outputs": [],
   "source": []
  },
  {
   "cell_type": "code",
   "execution_count": null,
   "metadata": {},
   "outputs": [],
   "source": []
  },
  {
   "cell_type": "code",
   "execution_count": null,
   "metadata": {},
   "outputs": [],
   "source": []
  },
  {
   "cell_type": "code",
   "execution_count": null,
   "metadata": {},
   "outputs": [],
   "source": []
  }
 ],
 "metadata": {
  "kernelspec": {
   "display_name": "mllm",
   "language": "python",
   "name": "python3"
  },
  "language_info": {
   "codemirror_mode": {
    "name": "ipython",
    "version": 3
   },
   "file_extension": ".py",
   "mimetype": "text/x-python",
   "name": "python",
   "nbconvert_exporter": "python",
   "pygments_lexer": "ipython3",
   "version": "3.10.14"
  }
 },
 "nbformat": 4,
 "nbformat_minor": 2
}
