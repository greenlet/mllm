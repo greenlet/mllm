{
 "cells": [
  {
   "cell_type": "code",
   "execution_count": 2,
   "metadata": {},
   "outputs": [],
   "source": [
    "%load_ext autoreload\n",
    "%autoreload 2"
   ]
  },
  {
   "cell_type": "code",
   "execution_count": 2,
   "metadata": {},
   "outputs": [],
   "source": [
    "import os\n",
    "from pathlib import Path\n",
    "import sys\n",
    "from typing import Optional\n",
    "if '..' not in sys.path: sys.path.append('..')\n",
    "\n",
    "import numpy as np\n",
    "from matplotlib import pyplot as plt\n",
    "import torch\n",
    "from torch import nn\n",
    "from transformers import GPT2Tokenizer, AddedToken, PreTrainedTokenizer\n",
    "\n",
    "from mllm.data.dsfixed import DsLoader\n",
    "from mllm.model.mllm_encdec import MllmEncdec\n",
    "from mllm.model.mllm_ranker import MllmRanker\n",
    "from mllm.model.config import create_mllm_encdec_cfg, create_mllm_ranker_cfg\n",
    "from mllm.tokenization.chunk_tokenizer import calc_max_inp_size, gen_all_tokens\n",
    "\n"
   ]
  },
  {
   "cell_type": "code",
   "execution_count": 3,
   "metadata": {},
   "outputs": [],
   "source": [
    "DATA_PATH = Path(os.path.expandvars('$HOME')) / 'data'\n",
    "TRAIN_ENCDEC_PATH = DATA_PATH / 'train_mllm_encdec'\n",
    "TRAIN_RANKER_PATH = DATA_PATH / 'train_mllm_ranker'\n",
    "DS_DIR_PATH = DATA_PATH / 'wiki_20200501_en' / 'ch_100_fixed'\n",
    "\n",
    "encdec_subdir = 'encdec-20240718_221554-wiki_20200501_en-ch_100_fixed'\n",
    "# ranker_subdir = 'ranker-20240722_225232-wiki_20200501_en-ch_100_fixed'\n",
    "# ranker_subdir = 'ranker-20240724_230827-wiki_20200501_en-ch_100_fixed'\n",
    "# ranker_subdir = 'ranker-20240726_232850-wiki_20200501_en-ch_100_fixed'\n",
    "ranker_subdir = 'ranker-20240722_225232-wiki_20200501_en-ch_100_fixed'\n",
    "encdec_train_path = TRAIN_ENCDEC_PATH / encdec_subdir\n",
    "ranker_train_path = TRAIN_RANKER_PATH / ranker_subdir\n",
    "encdec_snapshot_path = encdec_train_path / 'best.pth'\n",
    "ranker_snapshot_path = ranker_train_path / 'best.pth'"
   ]
  },
  {
   "cell_type": "code",
   "execution_count": 4,
   "metadata": {},
   "outputs": [
    {
     "name": "stdout",
     "output_type": "stream",
     "text": [
      "cpu\n"
     ]
    }
   ],
   "source": [
    "docs_batch_size = 5\n",
    "max_chunks_per_doc = 3\n",
    "device = 'cpu'\n",
    "# device = 'cuda'\n",
    "\n",
    "device = torch.device(device)\n",
    "print(device)"
   ]
  },
  {
   "cell_type": "code",
   "execution_count": 5,
   "metadata": {},
   "outputs": [
    {
     "name": "stdout",
     "output_type": "stream",
     "text": [
      "Loading cache from /home/misha/data/wiki_20200501_en/ch_100_fixed/.mllm/ds.csv\n",
      "Loaded dataset size: 50989207\n"
     ]
    }
   ],
   "source": [
    "tokenizer = GPT2Tokenizer.from_pretrained('gpt2', model_max_length=100000)\n",
    "tok_dict = gen_all_tokens(tokenizer)\n",
    "pad_tok, qbeg_tok, qend_tok = tok_dict['pad'].ind, tok_dict['query_begin'].ind, tok_dict['query_end'].ind\n",
    "ds_loader = DsLoader(\n",
    "    ds_dir_path=DS_DIR_PATH, docs_batch_size=docs_batch_size, max_chunks_per_doc=max_chunks_per_doc,\n",
    "    pad_tok=pad_tok, qbeg_tok=qbeg_tok, qend_tok=qend_tok, device=device,\n",
    ")\n",
    "ds_loader.shuffle(train=True)\n",
    "ds_loader.shuffle(train=False)\n",
    "inp_len = ds_loader.emb_chunk_size if ds_loader.fixed_size else calc_max_inp_size(ds_loader.emb_chunk_size)"
   ]
  },
  {
   "cell_type": "code",
   "execution_count": 6,
   "metadata": {},
   "outputs": [],
   "source": [
    "def tokten_to_text(tokens: torch.Tensor) -> str:\n",
    "    tokens = tokens.flatten()\n",
    "    tokens = tokens[tokens != pad_tok]\n",
    "    tokens = list(tokens)\n",
    "    s = tokenizer.decode(tokens)\n",
    "    return s\n",
    "\n",
    "def distance(x: np.ndarray, y: np.ndarray, cosine: bool = False):\n",
    "    if not cosine:\n",
    "        return np.linalg.norm(x - y)\n",
    "    x_norm, y_norm = np.linalg.norm(x), np.linalg.norm(y)\n",
    "    return np.sum(x * y) / (x_norm * y_norm)\n",
    "\n",
    "def text_to_tokens(s: str, qbeg_tok: Optional[int] = None, qend_tok: Optional[int] = None) -> torch.Tensor:\n",
    "    tokens = tokenizer(s)['input_ids']\n",
    "    if qbeg_tok is not None:\n",
    "        assert qend_tok is not None\n",
    "        tokens = [qbeg_tok, *tokens, qend_tok]\n",
    "    n_tokens = len(tokens)\n",
    "    n_padded = n_tokens // inp_len + (n_tokens % inp_len > 0)\n",
    "    res = np.full((n_padded * inp_len, ), pad_tok, dtype=np.int32)\n",
    "    res[:n_tokens] = tokens\n",
    "    res = torch.from_numpy(res).to(device)\n",
    "    res = res.reshape(n_padded, inp_len)\n",
    "    return res\n",
    "\n",
    "def print_dist(target_embs: torch.Tensor, docs_embs: torch.Tensor, target_mask: torch.Tensor, cosine: bool = True):\n",
    "    for i, docs_emb in enumerate(docs_embs.detach().numpy()):\n",
    "        for target_emb in target_embs.detach().numpy():\n",
    "            dist = distance(target_emb, docs_emb, cosine)\n",
    "            print(f'{dist:0.6f} ', end='')\n",
    "        sfx = 'T' if target_mask[i] else 'F'\n",
    "        print(sfx)\n"
   ]
  },
  {
   "cell_type": "code",
   "execution_count": 7,
   "metadata": {},
   "outputs": [
    {
     "name": "stdout",
     "output_type": "stream",
     "text": [
      "vocab_encoder.src_word_emb.weight (50270, 256) -0.010897278 1.5340246e-06 0.010897281\n",
      "vocab_encoder.layer_norm.weight (256,) -0.099695794 0.003109554 0.099689685\n",
      "vocab_encoder.layer_norm.bias (256,) -0.09886067 -0.00428751 0.09581536\n",
      "encoder.layer_stack.0.slf_attn.w_qs.weight (256, 256) -0.108250685 -0.00019431567 0.10824986\n",
      "encoder.layer_stack.0.slf_attn.w_ks.weight (256, 256) -0.108249344 -0.00041340568 0.10825185\n",
      "encoder.layer_stack.0.slf_attn.w_vs.weight (256, 256) -0.108251214 0.00022752491 0.108246066\n",
      "encoder.layer_stack.0.slf_attn.fc.weight (256, 256) -0.10825214 6.3473555e-05 0.10824952\n",
      "encoder.layer_stack.0.slf_attn.layer_norm.weight (256,) -0.09977064 -0.0030699032 0.09987781\n",
      "encoder.layer_stack.0.slf_attn.layer_norm.bias (256,) -0.09984564 -0.00022852229 0.099203825\n",
      "encoder.layer_stack.0.pos_ffn.w_1.weight (1024, 256) -0.06846523 -6.5795057e-06 0.068464\n",
      "encoder.layer_stack.0.pos_ffn.w_1.bias (1024,) -0.09990223 0.0012580123 0.09982888\n",
      "encoder.layer_stack.0.pos_ffn.w_2.weight (256, 1024) -0.06846527 2.6601354e-05 0.068465054\n",
      "encoder.layer_stack.0.pos_ffn.w_2.bias (256,) -0.09971505 -0.008502091 0.098557234\n",
      "encoder.layer_stack.0.pos_ffn.layer_norm.weight (256,) -0.09991522 0.0014871275 0.09924096\n",
      "encoder.layer_stack.0.pos_ffn.layer_norm.bias (256,) -0.09899402 -0.0006682088 0.099388614\n",
      "encoder.w_em.weight (1, 100) -0.24061748 0.007180295 0.23716526\n",
      "decoder.A_emb2sec (100, 256, 256) -0.008113916 1.1002444e-06 0.008113916\n",
      "decoder.att_layers.0.slf_attn.w_qs.weight (256, 256) -0.10825241 -6.5955406e-05 0.108249485\n",
      "decoder.att_layers.0.slf_attn.w_ks.weight (256, 256) -0.10825214 8.47938e-05 0.10824302\n",
      "decoder.att_layers.0.slf_attn.w_vs.weight (256, 256) -0.10825204 0.00024027178 0.10824457\n",
      "decoder.att_layers.0.slf_attn.fc.weight (256, 256) -0.1082356 -0.00016857276 0.10824836\n",
      "decoder.att_layers.0.slf_attn.layer_norm.weight (256,) -0.09851604 0.0039086747 0.09890919\n",
      "decoder.att_layers.0.slf_attn.layer_norm.bias (256,) -0.09818615 -0.0015502174 0.09951102\n",
      "decoder.att_layers.0.pos_ffn.w_1.weight (1024, 256) -0.068465285 -0.00010716958 0.06846502\n",
      "decoder.att_layers.0.pos_ffn.w_1.bias (1024,) -0.09992913 -0.0035069021 0.0997345\n",
      "decoder.att_layers.0.pos_ffn.w_2.weight (256, 1024) -0.06846511 -2.5160629e-05 0.0684652\n",
      "decoder.att_layers.0.pos_ffn.w_2.bias (256,) -0.09972029 -0.0016410397 0.09877443\n",
      "decoder.att_layers.0.pos_ffn.layer_norm.weight (256,) -0.0997264 -0.0034842289 0.099504285\n",
      "decoder.att_layers.0.pos_ffn.layer_norm.bias (256,) -0.09733082 -0.0016283733 0.09890769\n",
      "vocab_decoder.word_prj.weight (50270, 256) -0.010897282 -1.3094779e-06 0.010897281\n"
     ]
    }
   ],
   "source": [
    "model_encdec_cfg = create_mllm_encdec_cfg(\n",
    "    n_vocab=len(tokenizer), d_word_wec=256, inp_len=inp_len,\n",
    "    enc_n_layers=1, dec_n_layers=1,\n",
    "    n_heads=8, d_model=256, d_inner=1024,\n",
    "    pad_idx=pad_tok, dropout_rate=0.1, enc_with_emb_mat=True,\n",
    ")\n",
    "model_encdec = MllmEncdec(model_encdec_cfg).to(device)"
   ]
  },
  {
   "cell_type": "code",
   "execution_count": 8,
   "metadata": {},
   "outputs": [],
   "source": [
    "checkpoint_encdec = torch.load(encdec_snapshot_path)\n",
    "model_encdec.load_state_dict(checkpoint_encdec['model'])\n",
    "model_encdec.eval()\n",
    "del checkpoint_encdec"
   ]
  },
  {
   "cell_type": "code",
   "execution_count": 9,
   "metadata": {},
   "outputs": [
    {
     "data": {
      "text/plain": [
       "tensor([[15496,   612, 50267, 50267, 50267, 50267, 50267, 50267, 50267, 50267,\n",
       "         50267, 50267, 50267, 50267, 50267, 50267, 50267, 50267, 50267, 50267,\n",
       "         50267, 50267, 50267, 50267, 50267, 50267, 50267, 50267, 50267, 50267,\n",
       "         50267, 50267, 50267, 50267, 50267, 50267, 50267, 50267, 50267, 50267,\n",
       "         50267, 50267, 50267, 50267, 50267, 50267, 50267, 50267, 50267, 50267,\n",
       "         50267, 50267, 50267, 50267, 50267, 50267, 50267, 50267, 50267, 50267,\n",
       "         50267, 50267, 50267, 50267, 50267, 50267, 50267, 50267, 50267, 50267,\n",
       "         50267, 50267, 50267, 50267, 50267, 50267, 50267, 50267, 50267, 50267,\n",
       "         50267, 50267, 50267, 50267, 50267, 50267, 50267, 50267, 50267, 50267,\n",
       "         50267, 50267, 50267, 50267, 50267, 50267, 50267, 50267, 50267, 50267]],\n",
       "       dtype=torch.int32)"
      ]
     },
     "execution_count": 9,
     "metadata": {},
     "output_type": "execute_result"
    }
   ],
   "source": [
    "text_to_tokens('Hello there')"
   ]
  },
  {
   "cell_type": "code",
   "execution_count": 10,
   "metadata": {},
   "outputs": [
    {
     "data": {
      "text/plain": [
       "(torch.Size([14, 100]),\n",
       " torch.Size([3, 100]),\n",
       " tensor([False, False, False, False, False, False, False, False, False,  True,\n",
       "          True,  True, False, False]))"
      ]
     },
     "execution_count": 10,
     "metadata": {},
     "output_type": "execute_result"
    }
   ],
   "source": [
    "i = 10\n",
    "batch = ds_loader.get_batch(i, train=True)\n",
    "docs_chunks, target_chunks, target_mask = batch.gen_tensors()\n",
    "docs_chunks.shape, target_chunks.shape, target_mask"
   ]
  },
  {
   "cell_type": "code",
   "execution_count": 11,
   "metadata": {},
   "outputs": [
    {
     "data": {
      "text/plain": [
       "\"<|query_begin|>  club is best known for its men's and women's football teams.\\n\\nKigwancha's men presently play in the DPR Korea Premier Football League, and won several championships in the late 1990s. The club finished third in 2006 season. They have taken part in continental competition once, finishing second in its group in the group stage of the 2017 AFC Cup.\\n\\nRivalries\\nSharing the Yanggakdo Stadium with them, Kigwancha have a rivalry with Sobaeksu.\\n\\nCurrent squad\\n\\nKnown players (including former players)\\n\\n Lee Chang-myung\\n Pak Chol-ryong\\n Pak Kwang-ryong\\n\\nManagers\\n Ku Jong-nam (before 2014)\\n Han Won-chol (since 2014)\\n\\nContinental history\\n\\nAFC clubs ranking\\n\\nAchievements\\nDPR Korea League: 9\\n 1996, 1997, 1998, 1999, 2000, 2016\\n 1995, 2006, 2012\\n\\nHwaebul Cup: 2\\n 2015\\n4th 2017\\n\\nMan'gyŏngdae Prize: 5\\n 2004, 2005\\n 2015, 2016\\n 2014\\n\\nPaektusan Prize: 1\\n 2012\\n\\nPoch'ŏnbo Torch Prize: 3\\n 2007\\n 2010, 2016\\n\\nOther Sports <|query_end|>\""
      ]
     },
     "execution_count": 11,
     "metadata": {},
     "output_type": "execute_result"
    }
   ],
   "source": [
    "s_target = tokten_to_text(target_chunks)\n",
    "s_target"
   ]
  },
  {
   "cell_type": "code",
   "execution_count": 12,
   "metadata": {},
   "outputs": [
    {
     "name": "stdout",
     "output_type": "stream",
     "text": [
      "<|doc_begin|> <|doc_id_begin|> 4020987 <|doc_id_end|> <|doc_offset_begin|> 0 <|doc_offset_end|> <|doc_title_begin|> South Carolina Highway 381 <|doc_title_end|> <|doc_body_begin|> South Carolina Highw\n",
      "<|doc_begin|> <|doc_id_begin|> 4020987 <|doc_id_end|> <|doc_offset_begin|> 91 <|doc_offset_end|>  rural highway, it connects the towns of Clio and McColl.\\n\\nHistory\\nThe highway was established in 1930 \n",
      "<|doc_begin|> <|doc_id_begin|> 4020987 <|doc_id_end|> <|doc_offset_begin|> 182 <|doc_offset_end|>  extension was dropped while it extended north again to the North Carolina state line. In 1940, SC 381\n",
      "<|doc_begin|> <|doc_id_begin|> 3927047 <|doc_id_end|> <|doc_offset_begin|> 0 <|doc_offset_end|> <|doc_title_begin|> 2011 Roma Open <|doc_title_end|> <|doc_body_begin|> The 2011 Roma Open was a profess\n",
      "<|doc_begin|> <|doc_id_begin|> 3927047 <|doc_id_end|> <|doc_offset_begin|> 91 <|doc_offset_end|>  Simone Bolelli\\n  Nicolás Massú\\n  Matteo Trevisan\\n  Simone Vagnozzi\\n\\nThe following players received ent\n",
      "<|doc_begin|> <|doc_id_begin|> 3927047 <|doc_id_end|> <|doc_offset_begin|> 182 <|doc_offset_end|> –1, 6–3\\n\\nDoubles\\n\\n Juan Sebastián Cabal /  Robert Farah def.  Santiago González /  Travis Rettenmaier,\n",
      "<|doc_begin|> <|doc_id_begin|> 474244 <|doc_id_end|> <|doc_offset_begin|> 460 <|doc_offset_end|> fried and Götterdämmerung. He conducted Debussy's Pelléas et Mélisande at the Semperoper in Dresden, st\n",
      "<|doc_begin|> <|doc_id_begin|> 474244 <|doc_id_end|> <|doc_offset_begin|> 552 <|doc_offset_end|>  [...] Soustrot's light touch and dramatic punch gave the evening an atmosphere of momentum and musical\n",
      "<|doc_begin|> <|doc_id_begin|> 474244 <|doc_id_end|> <|doc_offset_begin|> 644 <|doc_offset_end|>'s cantata La Damoiselle élue and Honegger's dramatic oratorio Jeanne d'Arc au bûcher, again staged by O\n",
      "<|doc_begin|> <|doc_id_begin|> 275497 <|doc_id_end|> <|doc_offset_begin|> 92 <|doc_offset_end|>  club is best known for its men's and women's football teams.\\n\\nKigwancha's men presently play in the DPR\n",
      "<|doc_begin|> <|doc_id_begin|> 275497 <|doc_id_end|> <|doc_offset_begin|> 184 <|doc_offset_end|>  Kigwancha have a rivalry with Sobaeksu.\\n\\nCurrent squad\\n\\nKnown players (including former players)\\n\\n Lee\n",
      "<|doc_begin|> <|doc_id_begin|> 275497 <|doc_id_end|> <|doc_offset_begin|> 276 <|doc_offset_end|>  9\\n 1996, 1997, 1998, 1999, 2000, 2016\\n 1995, 2006, 2012\\n\\nHwaebul Cup: 2\\n 2015\\n4th 2017\\n\\nMan'gyŏngdae P\n",
      "<|doc_begin|> <|doc_id_begin|> 3993392 <|doc_id_end|> <|doc_offset_begin|> 0 <|doc_offset_end|> <|doc_title_begin|> Truus Kerkmeester <|doc_title_end|> <|doc_body_begin|> Truus Kerkmeester (6 December\n",
      "<|doc_begin|> <|doc_id_begin|> 3993392 <|doc_id_end|> <|doc_offset_begin|> 91 <|doc_offset_end|> \\nCategory:Sportspeople from Utrecht (city) <|doc_body_end|> <|doc_end|>\n"
     ]
    }
   ],
   "source": [
    "for toks in docs_chunks:\n",
    "    s = tokten_to_text(toks)\n",
    "    print(s[:200].replace('\\n', '\\\\n'))"
   ]
  },
  {
   "cell_type": "code",
   "execution_count": 13,
   "metadata": {},
   "outputs": [],
   "source": [
    "target_embs = model_encdec.run_enc_emb(target_chunks)\n",
    "docs_embs = model_encdec.run_enc_emb(docs_chunks)"
   ]
  },
  {
   "cell_type": "code",
   "execution_count": 14,
   "metadata": {},
   "outputs": [
    {
     "name": "stdout",
     "output_type": "stream",
     "text": [
      "0.228798 0.331661 0.253925 F\n",
      "0.248907 0.178724 0.101498 F\n",
      "0.166845 0.238102 0.259646 F\n",
      "0.253971 0.188307 0.211456 F\n",
      "0.242095 0.332769 0.314004 F\n",
      "0.284843 0.367039 0.321652 F\n",
      "0.116524 0.161117 0.189159 F\n",
      "0.081947 0.117586 0.165844 F\n",
      "0.177944 0.138636 0.161296 F\n",
      "0.481087 0.391401 0.321746 T\n",
      "0.216637 0.510886 0.401046 T\n",
      "0.364164 0.500878 0.547548 T\n",
      "0.110911 0.140458 0.211321 F\n",
      "0.171793 0.139304 0.205401 F\n"
     ]
    }
   ],
   "source": [
    "cosine = False\n",
    "cosine = True\n",
    "print_dist(target_embs, docs_embs, target_mask, cosine=cosine)"
   ]
  },
  {
   "cell_type": "code",
   "execution_count": 15,
   "metadata": {},
   "outputs": [
    {
     "name": "stdout",
     "output_type": "stream",
     "text": [
      "vocab_encoder.src_word_emb.weight (50270, 256) -0.010897281 6.0555874e-07 0.010897281\n",
      "vocab_encoder.layer_norm.weight (256,) -0.0975135 0.0016215969 0.09963961\n",
      "vocab_encoder.layer_norm.bias (256,) -0.09937843 -0.0011398041 0.09944623\n",
      "encoders.0.layer_stack.0.slf_attn.w_qs.weight (256, 256) -0.108243056 -0.0001204217 0.10825152\n",
      "encoders.0.layer_stack.0.slf_attn.w_ks.weight (256, 256) -0.108252995 1.6006292e-05 0.10825282\n",
      "encoders.0.layer_stack.0.slf_attn.w_vs.weight (256, 256) -0.108252876 -0.000107773216 0.10825194\n",
      "encoders.0.layer_stack.0.slf_attn.fc.weight (256, 256) -0.108245894 0.00018707474 0.10824753\n",
      "encoders.0.layer_stack.0.slf_attn.layer_norm.weight (256,) -0.09980541 -0.0032008472 0.09960397\n",
      "encoders.0.layer_stack.0.slf_attn.layer_norm.bias (256,) -0.09979291 -0.00087650074 0.09982568\n",
      "encoders.0.layer_stack.0.pos_ffn.w_1.weight (1024, 256) -0.06846457 -2.4778845e-05 0.068464525\n",
      "encoders.0.layer_stack.0.pos_ffn.w_1.bias (1024,) -0.09989893 -0.0024799684 0.09989349\n",
      "encoders.0.layer_stack.0.pos_ffn.w_2.weight (256, 1024) -0.068464264 4.1908323e-05 0.06846493\n",
      "encoders.0.layer_stack.0.pos_ffn.w_2.bias (256,) -0.09891237 -0.00091592816 0.09800335\n",
      "encoders.0.layer_stack.0.pos_ffn.layer_norm.weight (256,) -0.099950604 -0.005121016 0.09964432\n",
      "encoders.0.layer_stack.0.pos_ffn.layer_norm.bias (256,) -0.09987056 -0.004541179 0.098536745\n",
      "encoders.0.w_em.weight (1, 100) -0.23201373 0.028412146 0.24326889\n",
      "decoders.0.layer_stack.0.slf_attn.w_qs.weight (256, 256) -0.10824533 0.00019708474 0.10825316\n",
      "decoders.0.layer_stack.0.slf_attn.w_ks.weight (256, 256) -0.108248554 5.7235833e-05 0.1082496\n",
      "decoders.0.layer_stack.0.slf_attn.w_vs.weight (256, 256) -0.10825192 -0.0008077831 0.10825231\n",
      "decoders.0.layer_stack.0.slf_attn.fc.weight (256, 256) -0.108252384 0.00011194959 0.1082527\n",
      "decoders.0.layer_stack.0.slf_attn.layer_norm.weight (256,) -0.09944414 -0.001257625 0.09988596\n",
      "decoders.0.layer_stack.0.slf_attn.layer_norm.bias (256,) -0.099675894 0.0041930582 0.09881327\n",
      "decoders.0.layer_stack.0.pos_ffn.w_1.weight (1024, 256) -0.06846522 1.5839272e-05 0.06846526\n",
      "decoders.0.layer_stack.0.pos_ffn.w_1.bias (1024,) -0.09998524 -0.0010887759 0.099791326\n",
      "decoders.0.layer_stack.0.pos_ffn.w_2.weight (256, 1024) -0.06846483 -4.067071e-05 0.06846516\n",
      "decoders.0.layer_stack.0.pos_ffn.w_2.bias (256,) -0.09997405 0.0013728323 0.099924766\n",
      "decoders.0.layer_stack.0.pos_ffn.layer_norm.weight (256,) -0.09908006 0.0069185803 0.09957266\n",
      "decoders.0.layer_stack.0.pos_ffn.layer_norm.bias (256,) -0.09822277 0.0036338512 0.09900774\n",
      "decoders.0.layer_norm.weight (256,) -0.09999567 -0.008856625 0.099613324\n",
      "decoders.0.layer_norm.bias (256,) -0.09932083 0.0059447233 0.0999102\n",
      "decoders.0.rank_prj.weight (1, 256) -0.15091254 0.0068728672 0.15213053\n"
     ]
    }
   ],
   "source": [
    "inp_len = ds_loader.emb_chunk_size if ds_loader.fixed_size else calc_max_inp_size(ds_loader.emb_chunk_size)\n",
    "model_ranker_cfg = create_mllm_ranker_cfg(\n",
    "    n_vocab=len(tokenizer), inp_len=inp_len, d_word_wec=256,\n",
    "    n_levels=1, enc_n_layers=1, dec_n_layers=1,\n",
    "    n_heads=8, d_k=32, d_v=32, d_model=256, d_inner=1024,\n",
    "    pad_idx=pad_tok, dropout_rate=0.1, enc_with_emb_mat=True,\n",
    ")\n",
    "\n",
    "model_ranker = MllmRanker(model_ranker_cfg).to(device)"
   ]
  },
  {
   "cell_type": "code",
   "execution_count": 16,
   "metadata": {},
   "outputs": [],
   "source": [
    "checkpoint_ranker = torch.load(ranker_snapshot_path)\n",
    "model_ranker.load_state_dict(checkpoint_ranker['model'])\n",
    "model_ranker.eval()\n",
    "del checkpoint_ranker"
   ]
  },
  {
   "cell_type": "code",
   "execution_count": null,
   "metadata": {},
   "outputs": [],
   "source": []
  },
  {
   "cell_type": "code",
   "execution_count": 30,
   "metadata": {},
   "outputs": [
    {
     "data": {
      "text/plain": [
       "(torch.Size([15, 100]),\n",
       " torch.Size([3, 100]),\n",
       " tensor([False, False, False, False, False, False, False, False, False, False,\n",
       "         False, False,  True,  True,  True]))"
      ]
     },
     "execution_count": 30,
     "metadata": {},
     "output_type": "execute_result"
    }
   ],
   "source": [
    "i = 11\n",
    "batch = ds_loader.get_batch(i, train=True)\n",
    "docs_chunks, target_chunks, target_mask = batch.gen_tensors()\n",
    "docs_chunks.shape, target_chunks.shape, target_mask"
   ]
  },
  {
   "cell_type": "code",
   "execution_count": 31,
   "metadata": {},
   "outputs": [
    {
     "data": {
      "text/plain": [
       "'<|query_begin|> The Brothers Karamazov (1921 film)The Brothers Karamazov () is a 1921 German silent drama film directed by Carl Froelich and an uncredited Dimitri Buchowetzki and starring Fritz Kortner, Bernhard Goetzke, and Emil Jannings. It is an adaptation of the 1880 novel The Brothers Karamazov by Fyodor Dostoevsky.\\n\\nCast\\n\\nReferences\\n\\nBibliography\\n\\nExternal links\\n\\nCategory:1921 films\\nCategory:German films\\nCategory:Films of the Weimar Republic\\nCategory:German silent feature films\\nCategory:German historical drama films\\nCategory:1920s historical drama films\\nCategory:Films directed by Carl Froelich\\nCategory:Films directed by Dimitri Buchowetzki\\nCategory:Films based on The Brothers Karamazov\\nCategory:Films set in Russia\\nCategory:Films set in the 19th century\\nCategory:UFA films\\nCategory:German black-and-white films <|query_end|>'"
      ]
     },
     "execution_count": 31,
     "metadata": {},
     "output_type": "execute_result"
    }
   ],
   "source": [
    "s_target = tokten_to_text(target_chunks)\n",
    "s_target"
   ]
  },
  {
   "cell_type": "code",
   "execution_count": 19,
   "metadata": {},
   "outputs": [
    {
     "name": "stdout",
     "output_type": "stream",
     "text": [
      "<|doc_begin|> <|doc_id_begin|> 4020987 <|doc_id_end|> <|doc_offset_begin|> 0 <|doc_offset_end|> <|doc_title_begin|> South Carolina Highway 381 <|doc_title_end|> <|doc_body_begin|> South Carolina Highw\n",
      "<|doc_begin|> <|doc_id_begin|> 4020987 <|doc_id_end|> <|doc_offset_begin|> 91 <|doc_offset_end|>  rural highway, it connects the towns of Clio and McColl.\\n\\nHistory\\nThe highway was established in 1930 \n",
      "<|doc_begin|> <|doc_id_begin|> 4020987 <|doc_id_end|> <|doc_offset_begin|> 182 <|doc_offset_end|>  extension was dropped while it extended north again to the North Carolina state line. In 1940, SC 381\n",
      "<|doc_begin|> <|doc_id_begin|> 3927047 <|doc_id_end|> <|doc_offset_begin|> 0 <|doc_offset_end|> <|doc_title_begin|> 2011 Roma Open <|doc_title_end|> <|doc_body_begin|> The 2011 Roma Open was a profess\n",
      "<|doc_begin|> <|doc_id_begin|> 3927047 <|doc_id_end|> <|doc_offset_begin|> 91 <|doc_offset_end|>  Simone Bolelli\\n  Nicolás Massú\\n  Matteo Trevisan\\n  Simone Vagnozzi\\n\\nThe following players received ent\n",
      "<|doc_begin|> <|doc_id_begin|> 3927047 <|doc_id_end|> <|doc_offset_begin|> 182 <|doc_offset_end|> –1, 6–3\\n\\nDoubles\\n\\n Juan Sebastián Cabal /  Robert Farah def.  Santiago González /  Travis Rettenmaier,\n",
      "<|doc_begin|> <|doc_id_begin|> 474244 <|doc_id_end|> <|doc_offset_begin|> 919 <|doc_offset_end|>  the trumpet-player Bernard Soustrot.\\n\\nRecordings \\nHis discography includes Auber's Fra Diavolo with Mo\n",
      "<|doc_begin|> <|doc_id_begin|> 474244 <|doc_id_end|> <|doc_offset_begin|> 1010 <|doc_offset_end|> après-midi d'un faune and Ravel's Daphnis et Chloé (Suite No. 2) with the Orchestre Philharmonique des\n",
      "<|doc_begin|> <|doc_id_begin|> 474244 <|doc_id_end|> <|doc_offset_begin|> 1101 <|doc_offset_end|>  Krenek's opera Karl V. He recorded Penderecki's St Luke Passion with the WDR Rundfunkchor Köln, the N\n",
      "<|doc_begin|> <|doc_id_begin|> 275497 <|doc_id_end|> <|doc_offset_begin|> 0 <|doc_offset_end|> <|doc_title_begin|> Kigwancha Sports Club <|doc_title_end|> <|doc_body_begin|> Kigwancha Sports Club or K\n",
      "<|doc_begin|> <|doc_id_begin|> 275497 <|doc_id_end|> <|doc_offset_begin|> 92 <|doc_offset_end|>  club is best known for its men's and women's football teams.\\n\\nKigwancha's men presently play in the DPR\n",
      "<|doc_begin|> <|doc_id_begin|> 275497 <|doc_id_end|> <|doc_offset_begin|> 184 <|doc_offset_end|>  Kigwancha have a rivalry with Sobaeksu.\\n\\nCurrent squad\\n\\nKnown players (including former players)\\n\\n Lee\n",
      "<|doc_begin|> <|doc_id_begin|> 3993392 <|doc_id_end|> <|doc_offset_begin|> 0 <|doc_offset_end|> <|doc_title_begin|> Truus Kerkmeester <|doc_title_end|> <|doc_body_begin|> Truus Kerkmeester (6 December\n",
      "<|doc_begin|> <|doc_id_begin|> 3993392 <|doc_id_end|> <|doc_offset_begin|> 91 <|doc_offset_end|> \\nCategory:Sportspeople from Utrecht (city) <|doc_body_end|> <|doc_end|>\n"
     ]
    }
   ],
   "source": [
    "for toks in docs_chunks:\n",
    "    s = tokten_to_text(toks)\n",
    "    print(s[:200].replace('\\n', '\\\\n'))"
   ]
  },
  {
   "cell_type": "code",
   "execution_count": 32,
   "metadata": {},
   "outputs": [],
   "source": [
    "target_embs = model_ranker.run_enc_emb(target_chunks)\n",
    "docs_embs = model_ranker.run_enc_emb(docs_chunks)"
   ]
  },
  {
   "cell_type": "code",
   "execution_count": 33,
   "metadata": {},
   "outputs": [
    {
     "name": "stdout",
     "output_type": "stream",
     "text": [
      "-0.024947 -0.161539 -0.289531 F\n",
      "-0.018159 -0.082144 -0.175686 F\n",
      "-0.014066 -0.031177 -0.111339 F\n",
      "0.118753 -0.006749 -0.223778 F\n",
      "0.053832 -0.056969 -0.280484 F\n",
      "0.066218 0.087920 0.025193 F\n",
      "-0.099301 -0.166709 -0.241161 F\n",
      "-0.053571 -0.133196 -0.170445 F\n",
      "-0.094052 -0.194352 -0.287038 F\n",
      "0.120644 0.061044 -0.034860 F\n",
      "-0.079752 -0.088093 -0.194901 F\n",
      "0.096795 0.097061 0.144068 F\n",
      "0.633291 0.509644 0.414697 T\n",
      "0.638870 0.638089 0.629546 T\n",
      "0.408674 0.488750 0.693010 T\n"
     ]
    }
   ],
   "source": [
    "cosine = False\n",
    "cosine = True\n",
    "print_dist(target_embs, docs_embs, target_mask, cosine=cosine)"
   ]
  },
  {
   "cell_type": "code",
   "execution_count": 41,
   "metadata": {},
   "outputs": [
    {
     "name": "stdout",
     "output_type": "stream",
     "text": [
      "torch.Size([1, 100])\n",
      "-0.207215 F\n",
      "-0.109966 F\n",
      "-0.107605 F\n",
      "-0.067777 F\n",
      "-0.095617 F\n",
      "0.099357 F\n",
      "-0.137719 F\n",
      "-0.102855 F\n",
      "-0.213599 F\n",
      "-0.240572 F\n",
      "-0.364570 F\n",
      "-0.110474 F\n",
      "0.080862 T\n",
      "0.127579 T\n",
      "0.349849 T\n"
     ]
    }
   ],
   "source": [
    "txt = 'Hong Kong 1987'\n",
    "txt = 'Climate Classification system, Mays Landing has a humid subtropical climate, abbreviated \"Cfa\"'\n",
    "# txt = 'Climate Classification system'\n",
    "txt = 'War and Peace'\n",
    "txt = 'Bandar Express, Ichhamati Express and Benapole Express'\n",
    "txt = 'Truus Kerkmeester'\n",
    "txt = 'The Brothers Karamazov'\n",
    "cosine = True\n",
    "txt_tokens = text_to_tokens(txt, qbeg_tok=qbeg_tok, qend_tok=qend_tok)\n",
    "# txt_tokens = txt_tokens.repeat(3, 1)\n",
    "print(txt_tokens.shape)\n",
    "txt_embs = model_ranker.run_enc_emb(txt_tokens)\n",
    "print_dist(txt_embs, docs_embs, target_mask, cosine=cosine)\n"
   ]
  },
  {
   "cell_type": "code",
   "execution_count": 42,
   "metadata": {},
   "outputs": [
    {
     "data": {
      "text/plain": [
       "torch.Size([1, 100])"
      ]
     },
     "execution_count": 42,
     "metadata": {},
     "output_type": "execute_result"
    }
   ],
   "source": [
    "tokten_to_text(docs_chunks[-2])\n",
    "tokten_to_text(txt_tokens)\n",
    "txt_tokens.shape"
   ]
  },
  {
   "cell_type": "code",
   "execution_count": 43,
   "metadata": {},
   "outputs": [
    {
     "data": {
      "text/plain": [
       "tensor([[[1.5967e-05],\n",
       "         [1.0371e-05],\n",
       "         [4.9786e-06],\n",
       "         [1.5882e-05],\n",
       "         [5.9931e-06],\n",
       "         [6.3268e-06],\n",
       "         [4.7893e-06],\n",
       "         [5.6740e-06],\n",
       "         [2.9828e-06],\n",
       "         [3.9060e-06],\n",
       "         [3.5584e-06],\n",
       "         [8.1185e-06],\n",
       "         [5.9206e-04],\n",
       "         [2.4064e-05],\n",
       "         [1.9815e-05]]], grad_fn=<SliceBackward0>)"
      ]
     },
     "execution_count": 43,
     "metadata": {},
     "output_type": "execute_result"
    }
   ],
   "source": [
    "rank = model_ranker(txt_tokens, docs_chunks)\n",
    "rank"
   ]
  },
  {
   "cell_type": "code",
   "execution_count": 40,
   "metadata": {},
   "outputs": [
    {
     "data": {
      "text/plain": [
       "tensor([[[6.1772e-05],\n",
       "         [4.4597e-04],\n",
       "         [3.3278e-04],\n",
       "         [3.0358e-04],\n",
       "         [3.3248e-04],\n",
       "         [2.7358e-04],\n",
       "         [1.8146e-04],\n",
       "         [1.9439e-04],\n",
       "         [1.9108e-04],\n",
       "         [2.1113e-03],\n",
       "         [2.8011e-04],\n",
       "         [1.3459e-03],\n",
       "         [1.3094e-02],\n",
       "         [8.0283e-01],\n",
       "         [1.5070e-01]]], grad_fn=<SliceBackward0>)"
      ]
     },
     "execution_count": 40,
     "metadata": {},
     "output_type": "execute_result"
    }
   ],
   "source": [
    "rank = model_ranker(target_chunks, docs_chunks)\n",
    "rank"
   ]
  },
  {
   "cell_type": "code",
   "execution_count": 6,
   "metadata": {},
   "outputs": [
    {
     "data": {
      "text/plain": [
       "array([1, 1, 1, 1, 1, 1, 1, 1, 1, 1, 1, 1, 1, 1, 1, 1, 1, 1, 1, 1])"
      ]
     },
     "execution_count": 6,
     "metadata": {},
     "output_type": "execute_result"
    }
   ],
   "source": [
    "import numpy as np\n",
    "np.random.randint(1, 2, size=20)"
   ]
  },
  {
   "cell_type": "code",
   "execution_count": 31,
   "metadata": {},
   "outputs": [
    {
     "data": {
      "text/plain": [
       "3"
      ]
     },
     "execution_count": 31,
     "metadata": {},
     "output_type": "execute_result"
    }
   ],
   "source": [
    "np.random.randint(0, 6)"
   ]
  },
  {
   "cell_type": "code",
   "execution_count": null,
   "metadata": {},
   "outputs": [],
   "source": []
  },
  {
   "cell_type": "code",
   "execution_count": null,
   "metadata": {},
   "outputs": [],
   "source": []
  },
  {
   "cell_type": "code",
   "execution_count": null,
   "metadata": {},
   "outputs": [],
   "source": []
  },
  {
   "cell_type": "code",
   "execution_count": null,
   "metadata": {},
   "outputs": [],
   "source": []
  },
  {
   "cell_type": "code",
   "execution_count": null,
   "metadata": {},
   "outputs": [],
   "source": []
  },
  {
   "cell_type": "code",
   "execution_count": null,
   "metadata": {},
   "outputs": [],
   "source": []
  },
  {
   "cell_type": "code",
   "execution_count": null,
   "metadata": {},
   "outputs": [],
   "source": []
  },
  {
   "cell_type": "code",
   "execution_count": null,
   "metadata": {},
   "outputs": [],
   "source": []
  },
  {
   "cell_type": "code",
   "execution_count": null,
   "metadata": {},
   "outputs": [],
   "source": []
  },
  {
   "cell_type": "code",
   "execution_count": null,
   "metadata": {},
   "outputs": [],
   "source": []
  },
  {
   "cell_type": "code",
   "execution_count": null,
   "metadata": {},
   "outputs": [],
   "source": []
  },
  {
   "cell_type": "code",
   "execution_count": null,
   "metadata": {},
   "outputs": [],
   "source": []
  },
  {
   "cell_type": "code",
   "execution_count": null,
   "metadata": {},
   "outputs": [],
   "source": []
  },
  {
   "cell_type": "code",
   "execution_count": null,
   "metadata": {},
   "outputs": [],
   "source": []
  },
  {
   "cell_type": "code",
   "execution_count": null,
   "metadata": {},
   "outputs": [],
   "source": []
  },
  {
   "cell_type": "code",
   "execution_count": null,
   "metadata": {},
   "outputs": [],
   "source": []
  },
  {
   "cell_type": "code",
   "execution_count": null,
   "metadata": {},
   "outputs": [],
   "source": []
  }
 ],
 "metadata": {
  "kernelspec": {
   "display_name": "mllm",
   "language": "python",
   "name": "python3"
  },
  "language_info": {
   "codemirror_mode": {
    "name": "ipython",
    "version": 3
   },
   "file_extension": ".py",
   "mimetype": "text/x-python",
   "name": "python",
   "nbconvert_exporter": "python",
   "pygments_lexer": "ipython3",
   "version": "3.10.14"
  }
 },
 "nbformat": 4,
 "nbformat_minor": 2
}
