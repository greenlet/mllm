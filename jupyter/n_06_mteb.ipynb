{
 "cells": [
  {
   "cell_type": "code",
   "execution_count": 1,
   "metadata": {},
   "outputs": [],
   "source": [
    "%load_ext autoreload\n",
    "%autoreload 2"
   ]
  },
  {
   "cell_type": "code",
   "execution_count": 37,
   "metadata": {},
   "outputs": [],
   "source": [
    "from collections import defaultdict\n",
    "import csv\n",
    "from dataclasses import dataclass\n",
    "import gzip\n",
    "import itertools\n",
    "import os\n",
    "from pathlib import Path\n",
    "from pprint import pprint\n",
    "import re\n",
    "import sys\n",
    "from typing import Optional\n",
    "if '..' not in sys.path: sys.path.append('..')\n",
    "\n",
    "import numpy as np\n",
    "import pandas as pd\n",
    "from tqdm import tqdm\n",
    "\n",
    "import mteb"
   ]
  },
  {
   "cell_type": "code",
   "execution_count": 3,
   "metadata": {},
   "outputs": [],
   "source": [
    "DATA_PATH = Path(os.path.expandvars('$HOME')) / 'data'\n",
    "MTEB_PATH = DATA_PATH / 'mteb'"
   ]
  },
  {
   "cell_type": "code",
   "execution_count": 4,
   "metadata": {},
   "outputs": [
    {
     "name": "stdout",
     "output_type": "stream",
     "text": [
      "CodeEditSearchRetrieval(name='CodeEditSearchRetrieval', languages=['c', 'c++', 'go', '...'])\n",
      "CodeSearchNetRetrieval(name='CodeSearchNetRetrieval', languages=['go', 'java', 'javascript', '...'])\n",
      "DanFeverRetrieval(name='DanFeverRetrieval', languages=['dan'])\n",
      "TV2Nordretrieval(name='TV2Nordretrieval', languages=['dan'])\n",
      "TwitterHjerneRetrieval(name='TwitterHjerneRetrieval', languages=['dan'])\n",
      "GerDaLIR(name='GerDaLIR', languages=['deu'])\n",
      "GerDaLIRSmall(name='GerDaLIRSmall', languages=['deu'])\n",
      "GermanDPR(name='GermanDPR', languages=['deu'])\n",
      "GermanGovServiceRetrieval(name='GermanGovServiceRetrieval', languages=['deu'])\n",
      "GermanQuADRetrieval(name='GermanQuAD-Retrieval', languages=['deu'])\n",
      "LegalQuAD(name='LegalQuAD', languages=['deu'])\n",
      "GreekCivicsQA(name='GreekCivicsQA', languages=['ell'])\n",
      "AILACasedocs(name='AILACasedocs', languages=['eng'])\n",
      "AILAStatutes(name='AILAStatutes', languages=['eng'])\n",
      "AlphaNLI(name='AlphaNLI', languages=['eng'])\n",
      "ARCChallenge(name='ARCChallenge', languages=['eng'])\n",
      "ArguAna(name='ArguAna', languages=['eng'])\n",
      "BrightRetrieval(name='BrightRetrieval', languages=['eng'])\n",
      "ClimateFEVER(name='ClimateFEVER', languages=['eng'])\n",
      "CQADupstackAndroidRetrieval(name='CQADupstackAndroidRetrieval', languages=['eng'])\n",
      "CQADupstackEnglishRetrieval(name='CQADupstackEnglishRetrieval', languages=['eng'])\n",
      "CQADupstackGamingRetrieval(name='CQADupstackGamingRetrieval', languages=['eng'])\n",
      "CQADupstackGisRetrieval(name='CQADupstackGisRetrieval', languages=['eng'])\n",
      "CQADupstackMathematicaRetrieval(name='CQADupstackMathematicaRetrieval', languages=['eng'])\n",
      "CQADupstackPhysicsRetrieval(name='CQADupstackPhysicsRetrieval', languages=['eng'])\n",
      "CQADupstackProgrammersRetrieval(name='CQADupstackProgrammersRetrieval', languages=['eng'])\n",
      "CQADupstackStatsRetrieval(name='CQADupstackStatsRetrieval', languages=['eng'])\n",
      "CQADupstackTexRetrieval(name='CQADupstackTexRetrieval', languages=['eng'])\n",
      "CQADupstackUnixRetrieval(name='CQADupstackUnixRetrieval', languages=['eng'])\n",
      "CQADupstackWebmastersRetrieval(name='CQADupstackWebmastersRetrieval', languages=['eng'])\n",
      "CQADupstackWordpressRetrieval(name='CQADupstackWordpressRetrieval', languages=['eng'])\n",
      "DBPedia(name='DBPedia', languages=['eng'])\n",
      "FaithDialRetrieval(name='FaithDial', languages=['eng'])\n",
      "FeedbackQARetrieval(name='FeedbackQARetrieval', languages=['eng'])\n",
      "FEVER(name='FEVER', languages=['eng'])\n",
      "FiQA2018(name='FiQA2018', languages=['eng'])\n",
      "HagridRetrieval(name='HagridRetrieval', languages=['eng'])\n",
      "HellaSwag(name='HellaSwag', languages=['eng'])\n",
      "HotpotQA(name='HotpotQA', languages=['eng'])\n",
      "LegalBenchConsumerContractsQA(name='LegalBenchConsumerContractsQA', languages=['eng'])\n",
      "LegalBenchCorporateLobbying(name='LegalBenchCorporateLobbying', languages=['eng'])\n",
      "LegalSummarization(name='LegalSummarization', languages=['eng'])\n",
      "LEMBNarrativeQARetrieval(name='LEMBNarrativeQARetrieval', languages=['eng'])\n",
      "LEMBNeedleRetrieval(name='LEMBNeedleRetrieval', languages=['eng'])\n",
      "LEMBPasskeyRetrieval(name='LEMBPasskeyRetrieval', languages=['eng'])\n",
      "LEMBQMSumRetrieval(name='LEMBQMSumRetrieval', languages=['eng'])\n",
      "LEMBSummScreenFDRetrieval(name='LEMBSummScreenFDRetrieval', languages=['eng'])\n",
      "LEMBWikimQARetrieval(name='LEMBWikimQARetrieval', languages=['eng'])\n",
      "MedicalQARetrieval(name='MedicalQARetrieval', languages=['eng'])\n",
      "MLQuestionsRetrieval(name='MLQuestions', languages=['eng'])\n",
      "MSMARCO(name='MSMARCO', languages=['eng'])\n",
      "MSMARCOv2(name='MSMARCOv2', languages=['eng'])\n",
      "NarrativeQARetrieval(name='NarrativeQARetrieval', languages=['eng'])\n",
      "NFCorpus(name='NFCorpus', languages=['eng'])\n",
      "NQ(name='NQ', languages=['eng'])\n",
      "PIQA(name='PIQA', languages=['eng'])\n",
      "Quail(name='Quail', languages=['eng'])\n",
      "QuoraRetrieval(name='QuoraRetrieval', languages=['eng'])\n",
      "RARbCode(name='RARbCode', languages=['eng'])\n",
      "RARbMath(name='RARbMath', languages=['eng'])\n",
      "SCIDOCS(name='SCIDOCS', languages=['eng'])\n",
      "SciFact(name='SciFact', languages=['eng'])\n",
      "SIQA(name='SIQA', languages=['eng'])\n",
      "SpartQA(name='SpartQA', languages=['eng'])\n",
      "TempReasonL1(name='TempReasonL1', languages=['eng'])\n",
      "TempReasonL2Context(name='TempReasonL2Context', languages=['eng'])\n",
      "TempReasonL2Fact(name='TempReasonL2Fact', languages=['eng'])\n",
      "TempReasonL2Pure(name='TempReasonL2Pure', languages=['eng'])\n",
      "TempReasonL3Context(name='TempReasonL3Context', languages=['eng'])\n",
      "TempReasonL3Fact(name='TempReasonL3Fact', languages=['eng'])\n",
      "TempReasonL3Pure(name='TempReasonL3Pure', languages=['eng'])\n",
      "TopiOCQARetrieval(name='TopiOCQA', languages=['eng'])\n",
      "Touche2020(name='Touche2020', languages=['eng'])\n",
      "TRECCOVID(name='TRECCOVID', languages=['eng'])\n",
      "WinoGrande(name='WinoGrande', languages=['eng'])\n",
      "EstQA(name='EstQA', languages=['est'])\n",
      "AlloprofRetrieval(name='AlloprofRetrieval', languages=['fra'])\n",
      "BSARDRetrieval(name='BSARDRetrieval', languages=['fra'])\n",
      "FQuADRetrieval(name='FQuADRetrieval', languages=['fra'])\n",
      "SyntecRetrieval(name='SyntecRetrieval', languages=['fra'])\n",
      "HunSum2AbstractiveRetrieval(name='HunSum2AbstractiveRetrieval', languages=['hun'])\n",
      "JaGovFaqsRetrieval(name='JaGovFaqsRetrieval', languages=['jpn'])\n",
      "JaQuADRetrieval(name='JaQuADRetrieval', languages=['jpn'])\n",
      "NLPJournalAbsIntroRetrieval(name='NLPJournalAbsIntroRetrieval', languages=['jpn'])\n",
      "NLPJournalTitleAbsRetrieval(name='NLPJournalTitleAbsRetrieval', languages=['jpn'])\n",
      "NLPJournalTitleIntroRetrieval(name='NLPJournalTitleIntroRetrieval', languages=['jpn'])\n",
      "GeorgianFAQRetrieval(name='GeorgianFAQRetrieval', languages=['kat'])\n",
      "KoStrategyQA(name='Ko-StrategyQA', languages=['kor'])\n",
      "BelebeleRetrieval(name='BelebeleRetrieval', languages=['acm', 'afr', 'als', '...'])\n",
      "CrossLingualSemanticDiscriminationWMT19(name='CrossLingualSemanticDiscriminationWMT19', languages=['deu', 'fra'])\n",
      "CrossLingualSemanticDiscriminationWMT21(name='CrossLingualSemanticDiscriminationWMT21', languages=['deu', 'fra'])\n",
      "IndicQARetrieval(name='IndicQARetrieval', languages=['asm', 'ben', 'guj', '...'])\n",
      "MintakaRetrieval(name='MintakaRetrieval', languages=['ara', 'deu', 'fra', '...'])\n",
      "MIRACLRetrieval(name='MIRACLRetrieval', languages=['ara', 'ben', 'deu', '...'])\n",
      "MLQARetrieval(name='MLQARetrieval', languages=['ara', 'deu', 'eng', '...'])\n",
      "MultiLongDocRetrieval(name='MultiLongDocRetrieval', languages=['ara', 'cmn', 'deu', '...'])\n",
      "NeuCLIR2022Retrieval(name='NeuCLIR2022Retrieval', languages=['fas', 'rus', 'zho'])\n",
      "NeuCLIR2023Retrieval(name='NeuCLIR2023Retrieval', languages=['fas', 'rus', 'zho'])\n",
      "PublicHealthQARetrieval(name='PublicHealthQA', languages=['ara', 'eng', 'fra', '...'])\n",
      "StatcanDialogueDatasetRetrieval(name='StatcanDialogueDatasetRetrieval', languages=['eng', 'fra'])\n",
      "WikipediaRetrievalMultilingual(name='WikipediaRetrievalMultilingual', languages=['ben', 'bul', 'ces', '...'])\n",
      "XMarket(name='XMarket', languages=['deu', 'eng', 'spa'])\n",
      "XPQARetrieval(name='XPQARetrieval', languages=['ara', 'cmn', 'deu', '...'])\n",
      "XQuADRetrieval(name='XQuADRetrieval', languages=['arb', 'deu', 'ell', '...'])\n",
      "NorQuadRetrieval(name='NorQuadRetrieval', languages=['nob'])\n",
      "SNLRetrieval(name='SNLRetrieval', languages=['nob'])\n",
      "ArguAnaPL(name='ArguAna-PL', languages=['pol'])\n",
      "DBPediaPL(name='DBPedia-PL', languages=['pol'])\n",
      "FiQAPLRetrieval(name='FiQA-PL', languages=['pol'])\n",
      "HotpotQAPL(name='HotpotQA-PL', languages=['pol'])\n",
      "MSMARCOPL(name='MSMARCO-PL', languages=['pol'])\n",
      "NFCorpusPL(name='NFCorpus-PL', languages=['pol'])\n",
      "NQPL(name='NQ-PL', languages=['pol'])\n",
      "QuoraPLRetrieval(name='Quora-PL', languages=['pol'])\n",
      "SCIDOCSPL(name='SCIDOCS-PL', languages=['pol'])\n",
      "SciFactPL(name='SciFact-PL', languages=['pol'])\n",
      "TRECCOVIDPL(name='TRECCOVID-PL', languages=['pol'])\n",
      "RiaNewsRetrieval(name='RiaNewsRetrieval', languages=['rus'])\n",
      "RuBQRetrieval(name='RuBQRetrieval', languages=['rus'])\n",
      "SlovakSumRetrieval(name='SlovakSumRetrieval', languages=['slk'])\n",
      "SpanishPassageRetrievalS2P(name='SpanishPassageRetrievalS2P', languages=['spa'])\n",
      "SpanishPassageRetrievalS2S(name='SpanishPassageRetrievalS2S', languages=['spa'])\n",
      "SwednRetrieval(name='SwednRetrieval', languages=['swe'])\n",
      "SweFaqRetrieval(name='SweFaqRetrieval', languages=['swe'])\n",
      "TurHistQuadRetrieval(name='TurHistQuadRetrieval', languages=['tur'])\n",
      "VieQuADRetrieval(name='VieQuADRetrieval', languages=['vie'])\n",
      "T2Retrieval(name='T2Retrieval', languages=['cmn'])\n",
      "MMarcoRetrieval(name='MMarcoRetrieval', languages=['cmn'])\n",
      "DuRetrieval(name='DuRetrieval', languages=['cmn'])\n",
      "CovidRetrieval(name='CovidRetrieval', languages=['cmn'])\n",
      "CmedqaRetrieval(name='CmedqaRetrieval', languages=['cmn'])\n",
      "EcomRetrieval(name='EcomRetrieval', languages=['cmn'])\n",
      "MedicalRetrieval(name='MedicalRetrieval', languages=['cmn'])\n",
      "VideoRetrieval(name='VideoRetrieval', languages=['cmn'])\n",
      "LeCaRDv2(name='LeCaRDv2', languages=['zho'])\n"
     ]
    }
   ],
   "source": [
    "tasks = mteb.get_tasks(task_types=['Retrieval'])\n",
    "for task in tasks:\n",
    "    print(task)"
   ]
  },
  {
   "cell_type": "code",
   "execution_count": 5,
   "metadata": {},
   "outputs": [
    {
     "data": {
      "text/plain": [
       "FEVER(name='FEVER', languages=['eng'])"
      ]
     },
     "execution_count": 5,
     "metadata": {},
     "output_type": "execute_result"
    }
   ],
   "source": [
    "mteb.get_task('FEVER')"
   ]
  },
  {
   "cell_type": "code",
   "execution_count": 6,
   "metadata": {},
   "outputs": [],
   "source": [
    "from mteb import FEVER"
   ]
  },
  {
   "cell_type": "code",
   "execution_count": 7,
   "metadata": {},
   "outputs": [
    {
     "data": {
      "text/plain": [
       "FEVER(name='FEVER', languages=['eng'])"
      ]
     },
     "execution_count": 7,
     "metadata": {},
     "output_type": "execute_result"
    }
   ],
   "source": [
    "fever = FEVER()\n",
    "fever"
   ]
  },
  {
   "cell_type": "code",
   "execution_count": 8,
   "metadata": {},
   "outputs": [
    {
     "data": {
      "application/vnd.jupyter.widget-view+json": {
       "model_id": "e7857ea452f249748e103b3176d8dd60",
       "version_major": 2,
       "version_minor": 0
      },
      "text/plain": [
       "Map:   0%|          | 0/140085 [00:00<?, ? examples/s]"
      ]
     },
     "metadata": {},
     "output_type": "display_data"
    },
    {
     "data": {
      "application/vnd.jupyter.widget-view+json": {
       "model_id": "9c43f41a95c54fbf8317e7166fab3b0c",
       "version_major": 2,
       "version_minor": 0
      },
      "text/plain": [
       "Map:   0%|          | 0/8079 [00:00<?, ? examples/s]"
      ]
     },
     "metadata": {},
     "output_type": "display_data"
    },
    {
     "data": {
      "application/vnd.jupyter.widget-view+json": {
       "model_id": "6b35474d13104ee9b64284f7f701a681",
       "version_major": 2,
       "version_minor": 0
      },
      "text/plain": [
       "Map:   0%|          | 0/7937 [00:00<?, ? examples/s]"
      ]
     },
     "metadata": {},
     "output_type": "display_data"
    }
   ],
   "source": [
    "fever.load_data()"
   ]
  },
  {
   "cell_type": "code",
   "execution_count": 9,
   "metadata": {},
   "outputs": [
    {
     "name": "stdout",
     "output_type": "stream",
     "text": [
      "splits: ['train', 'dev', 'test']\n",
      "train. samples: 5416568\n",
      "train. 1928_in_association_football. {'title': '1928 in association football', 'text': 'The following are the football ( soccer ) events of the year 1928 throughout the world .'}\n",
      "train. 1986_NBA_Finals. {'title': '1986 NBA Finals', 'text': \"The 1986 NBA Finals was the championship round of the 1985 -- 86 NBA season . It pitted the Eastern Conference champion Boston Celtics against the Western Conference champion Houston Rockets , in a rematch of the 1981 Finals ( only Allen Leavell and Robert Reid remained from the Rockets ' 1981 team ) . The Celtics defeated the Rockets four games to two to win their 16th NBA championship . The championship would be the Celtics ' last until the 2008 NBA Finals . Larry Bird was named the Finals MVP .   On another note , this series marked the first time the `` NBA Finals '' branding was officially used , as they dropped the `` NBA World Championship Series '' branding which had been in use since the beginning of the league , though it had been unofficially called the `` NBA Finals '' for years .   Until the 2011 series , this was the last time the NBA Finals had started before June . Since game three , all NBA Finals games have been played in June . Starting with the following year , the NBA Finals would be held exclusively in the month of June . It was also the last NBA Finals series to schedule a game on a Monday until 1999 and also the last NBA Finals game to be played on Memorial Day .   CBS Sports used Dick Stockton and Tom Heinsohn as the play-by-play man and color commentator respectively . Meanwhile , Brent Musburger was the host and Pat O'Brien ( the Rockets ' sideline ) and Lesley Visser ( the Celtics ' sideline ) were the sideline reporters .\"}\n",
      "dev. samples: 5416568\n",
      "dev. 1928_in_association_football. {'title': '1928 in association football', 'text': 'The following are the football ( soccer ) events of the year 1928 throughout the world .'}\n",
      "dev. 1986_NBA_Finals. {'title': '1986 NBA Finals', 'text': \"The 1986 NBA Finals was the championship round of the 1985 -- 86 NBA season . It pitted the Eastern Conference champion Boston Celtics against the Western Conference champion Houston Rockets , in a rematch of the 1981 Finals ( only Allen Leavell and Robert Reid remained from the Rockets ' 1981 team ) . The Celtics defeated the Rockets four games to two to win their 16th NBA championship . The championship would be the Celtics ' last until the 2008 NBA Finals . Larry Bird was named the Finals MVP .   On another note , this series marked the first time the `` NBA Finals '' branding was officially used , as they dropped the `` NBA World Championship Series '' branding which had been in use since the beginning of the league , though it had been unofficially called the `` NBA Finals '' for years .   Until the 2011 series , this was the last time the NBA Finals had started before June . Since game three , all NBA Finals games have been played in June . Starting with the following year , the NBA Finals would be held exclusively in the month of June . It was also the last NBA Finals series to schedule a game on a Monday until 1999 and also the last NBA Finals game to be played on Memorial Day .   CBS Sports used Dick Stockton and Tom Heinsohn as the play-by-play man and color commentator respectively . Meanwhile , Brent Musburger was the host and Pat O'Brien ( the Rockets ' sideline ) and Lesley Visser ( the Celtics ' sideline ) were the sideline reporters .\"}\n",
      "test. samples: 5416568\n",
      "test. 1928_in_association_football. {'title': '1928 in association football', 'text': 'The following are the football ( soccer ) events of the year 1928 throughout the world .'}\n",
      "test. 1986_NBA_Finals. {'title': '1986 NBA Finals', 'text': \"The 1986 NBA Finals was the championship round of the 1985 -- 86 NBA season . It pitted the Eastern Conference champion Boston Celtics against the Western Conference champion Houston Rockets , in a rematch of the 1981 Finals ( only Allen Leavell and Robert Reid remained from the Rockets ' 1981 team ) . The Celtics defeated the Rockets four games to two to win their 16th NBA championship . The championship would be the Celtics ' last until the 2008 NBA Finals . Larry Bird was named the Finals MVP .   On another note , this series marked the first time the `` NBA Finals '' branding was officially used , as they dropped the `` NBA World Championship Series '' branding which had been in use since the beginning of the league , though it had been unofficially called the `` NBA Finals '' for years .   Until the 2011 series , this was the last time the NBA Finals had started before June . Since game three , all NBA Finals games have been played in June . Starting with the following year , the NBA Finals would be held exclusively in the month of June . It was also the last NBA Finals series to schedule a game on a Monday until 1999 and also the last NBA Finals game to be played on Memorial Day .   CBS Sports used Dick Stockton and Tom Heinsohn as the play-by-play man and color commentator respectively . Meanwhile , Brent Musburger was the host and Pat O'Brien ( the Rockets ' sideline ) and Lesley Visser ( the Celtics ' sideline ) were the sideline reporters .\"}\n"
     ]
    }
   ],
   "source": [
    "print('splits:', list(fever.corpus.keys()))\n",
    "for split, docs in fever.corpus.items():\n",
    "    print(f'{split}. Docs: {len(docs)}')\n",
    "    doc_ids = itertools.islice(docs.keys(), 2)\n",
    "    for doc_id in doc_ids:\n",
    "        print(f'{split}. {doc_id}. {docs[doc_id]}')"
   ]
  },
  {
   "cell_type": "code",
   "execution_count": 2,
   "metadata": {},
   "outputs": [
    {
     "ename": "NameError",
     "evalue": "name 'fever' is not defined",
     "output_type": "error",
     "traceback": [
      "\u001b[0;31m---------------------------------------------------------------------------\u001b[0m",
      "\u001b[0;31mNameError\u001b[0m                                 Traceback (most recent call last)",
      "Cell \u001b[0;32mIn[2], line 1\u001b[0m\n\u001b[0;32m----> 1\u001b[0m \u001b[43mfever\u001b[49m\u001b[38;5;241m.\u001b[39mcorpus[\u001b[38;5;124m'\u001b[39m\u001b[38;5;124mdev\u001b[39m\u001b[38;5;124m'\u001b[39m] \u001b[38;5;241m=\u001b[39m \u001b[38;5;28;01mNone\u001b[39;00m\n\u001b[1;32m      2\u001b[0m fever\u001b[38;5;241m.\u001b[39mcorpus[\u001b[38;5;124m'\u001b[39m\u001b[38;5;124mtest\u001b[39m\u001b[38;5;124m'\u001b[39m] \u001b[38;5;241m=\u001b[39m \u001b[38;5;28;01mNone\u001b[39;00m\n",
      "\u001b[0;31mNameError\u001b[0m: name 'fever' is not defined"
     ]
    }
   ],
   "source": [
    "fever.corpus['dev'] = None\n",
    "fever.corpus['test'] = None"
   ]
  },
  {
   "cell_type": "code",
   "execution_count": 18,
   "metadata": {},
   "outputs": [
    {
     "name": "stdout",
     "output_type": "stream",
     "text": [
      "train. Queries: 109810\n",
      "train. 75397. Nikolaj Coster-Waldau worked with the Fox Broadcasting Company.\n",
      "train. 150448. Roman Atwood is a content creator.\n",
      "dev. Queries: 6666\n",
      "dev. 137334. Fox 2000 Pictures released the film Soul Food.\n",
      "dev. 111897. Telemundo is a English-language television network.\n",
      "test. Queries: 6666\n",
      "test. 163803. Ukrainian Soviet Socialist Republic was a founding participant of the UN.\n",
      "test. 70041. 2 Hearts is a musical composition by Minogue.\n"
     ]
    }
   ],
   "source": [
    "for split, qs in fever.queries.items():\n",
    "    print(f'{split}. Queries: {len(qs)}')\n",
    "    qids = itertools.islice(qs.keys(), 2)\n",
    "    for qid in qids:\n",
    "        print(f'{split}. {qid}. {qs[qid]}')"
   ]
  },
  {
   "cell_type": "code",
   "execution_count": 20,
   "metadata": {},
   "outputs": [
    {
     "name": "stdout",
     "output_type": "stream",
     "text": [
      "train. Reldocs: 109810\n",
      "train. 75397. {'Fox_Broadcasting_Company': 1, 'Nikolaj_Coster-Waldau': 1}\n",
      "train. 150448. {'Roman_Atwood': 1}\n",
      "dev. Reldocs: 6666\n",
      "dev. 137334. {'Soul_Food_(film)': 1}\n",
      "dev. 111897. {'Telemundo': 1, 'Hispanic_and_Latino_Americans': 1}\n",
      "test. Reldocs: 6666\n",
      "test. 163803. {'Ukrainian_Soviet_Socialist_Republic': 1, 'United_Nations': 1}\n",
      "test. 70041. {'2_Hearts_(Kylie_Minogue_song)': 1}\n"
     ]
    }
   ],
   "source": [
    "for split, reldocs in fever.relevant_docs.items():\n",
    "    print(f'{split}. Reldocs: {len(reldocs)}')\n",
    "    qids = itertools.islice(reldocs.keys(), 2)\n",
    "    for qid in qids:\n",
    "        print(f'{split}. {qid}. {reldocs[qid]}')"
   ]
  },
  {
   "cell_type": "code",
   "execution_count": 1,
   "metadata": {},
   "outputs": [
    {
     "ename": "NameError",
     "evalue": "name 'fever' is not defined",
     "output_type": "error",
     "traceback": [
      "\u001b[0;31m---------------------------------------------------------------------------\u001b[0m",
      "\u001b[0;31mNameError\u001b[0m                                 Traceback (most recent call last)",
      "Cell \u001b[0;32mIn[1], line 2\u001b[0m\n\u001b[1;32m      1\u001b[0m \u001b[38;5;28;01mfor\u001b[39;00m split \u001b[38;5;129;01min\u001b[39;00m \u001b[38;5;124m'\u001b[39m\u001b[38;5;124mtrain\u001b[39m\u001b[38;5;124m'\u001b[39m, \u001b[38;5;124m'\u001b[39m\u001b[38;5;124mdev\u001b[39m\u001b[38;5;124m'\u001b[39m, \u001b[38;5;124m'\u001b[39m\u001b[38;5;124mtest\u001b[39m\u001b[38;5;124m'\u001b[39m:\n\u001b[0;32m----> 2\u001b[0m     reldocs \u001b[38;5;241m=\u001b[39m \u001b[43mfever\u001b[49m\u001b[38;5;241m.\u001b[39mrelevant_docs[split]\n\u001b[1;32m      3\u001b[0m     max_sz \u001b[38;5;241m=\u001b[39m \u001b[38;5;241m0\u001b[39m\n\u001b[1;32m      4\u001b[0m     vals \u001b[38;5;241m=\u001b[39m \u001b[38;5;28mset\u001b[39m()\n",
      "\u001b[0;31mNameError\u001b[0m: name 'fever' is not defined"
     ]
    }
   ],
   "source": [
    "for split in 'train', 'dev', 'test':\n",
    "    reldocs = fever.relevant_docs[split]\n",
    "    max_sz = 0\n",
    "    vals = set()\n",
    "    for reldoc in reldocs.values():\n",
    "        max_sz = max(max_sz, len(reldoc))\n",
    "        for docid, val in reldoc.items():\n",
    "            docid_src = docid\n",
    "            if docid[0] == '\"' and docid[-1] == '\"':\n",
    "                docid = docid[1:-1].replace('\"\"', '\"')\n",
    "            assert docid in fever.corpus['train'], f'`{docid_src}` -> `{docid}`'\n",
    "            vals.add(val)\n",
    "    print(f'{split}. max_sz: {max_sz}. vals: {vals}')"
   ]
  },
  {
   "cell_type": "code",
   "execution_count": 39,
   "metadata": {},
   "outputs": [
    {
     "name": "stdout",
     "output_type": "stream",
     "text": [
      "\"Thrive\" Thrive\n",
      "{'title': '\"Thrive\"', 'text': 'Thrive is a 2015 short documentary film about Matthew Whitaker , a piano prodigy who has been blind since birth . The film was directed and produced by Paul Szynol and has played at festivals worldwide , including North America , Europe , and Asia . The film includes appearances by Jonathan Batiste , Dr Lonnie Smith , and Chad Smith .'}\n",
      "\"It's_Alright\" It's_Alright\n",
      "{'title': '\"It\\'s Alright\"', 'text': \"It 's Alright , performed by Chanté Moore . A music video was made for the original/remix versions of the song .\"}\n",
      "\"Awesome\" Awesome\n",
      "{'title': '\"Awesome\"', 'text': \"Self-described as `` Part band , part art collective . '' While they reject the `` rock band '' label , Lane Czaplinski , artistic director of On the Boards remarks , `` If they are not rock musicians , `` there is rock payoff . '' Czaplinski has compared them to Polyphonic Spree   `` Awesome '' began as a cabaret act thrown together by seven experienced fringe theater actors . `` Awesome '' is also used to often describe LaQuanna Samone , The Unicorn Chef .  Although they continued to perform often in theatrical venues , their identity as a band and cabaret act has eclipsed their status as actors . Around October 2003 , several future members of `` Awesome '' played together in a They Might Be Giants tribute to raise money for Seattle 's Open Circle Theater . Their very first performance under the name `` Awesome '' ( with just Ackermann , Mosher , Nixon , and Osebold ) was in Seattle at Annex Theater 's monthly cabaret `` Spin the Bottle '' On February 6 , 2014 , and their first full-septet performance as `` Awesome '' was in the Jewelbox theater at Belltown bar the Rendezvous on June 30 , 2014 . Their first major production was Delaware ( first a multi-media stage production and later an album ) . Gigs as a band have included performing on bills with Harvey Danger , A. C. Newman , U.S.E. , The Presidents of the United States of America , and The Long Winters .   Band member David Nixon is a philosophy professor at the University of Washington , Bothell .   Band member Rob Pro ( accordion , clarinet ) is a composer and sound designer for theater productions .   Many of the group 's theatrical pieces are non-narrative or have only minimal , non-linear narratives . For example , noSIGNAL ( 2006 ) was described by Seattle Times reviewer Brangien Davis as `` addressing , among other topics , technical difficulties , recurring dreams , cell death , regeneration and bees . ''\"}\n",
      "Awesome Awesome\n",
      "{'title': 'Awesome', 'text': \"Awesome may refer to :   In music :  `` Awesome '' , a Seattle-based American band  Awesome ( album ) , a 2005 album by Marc Terenzi  `` Awesome '' , a song by Veruca Salt from Eight Arms to Hold You   In other entertainment :  Awesome ( Chuck ) or Devon Woodcomb , a fictional character from the TV series Chuck  Awesome ( video game ) , a 1990 science fiction action game for the Amiga and Atari ST  Awesome Comics , an American comic book studio 1997-2000  Awesome Kong ( 1977 - present ) , female American professional wrestler  Mike Awesome ( 1965 -- 2007 ) , male American professional wrestler   In other uses :  Awesome ( window manager ) , a dynamic window manager for the X Window System  Awesome Foundation , a philanthropic organization\"}\n",
      "It's_Alright It's_Alright\n",
      "{'title': \"It's Alright\", 'text': \"It 's Alright may refer to :\"}\n",
      "Thrive Thrive\n",
      "{'title': 'Thrive', 'text': 'Thrive may refer to :   Thriving'}\n"
     ]
    }
   ],
   "source": [
    "def proc_docid(docid: str) -> str:\n",
    "    if docid[0] == '\"' and docid[-1] == '\"':\n",
    "        docid = docid[1:-1].replace('\"\"', '\"')\n",
    "    return docid\n",
    "\n",
    "docs = fever.corpus['train']\n",
    "cnt = defaultdict(lambda: 0)\n",
    "for docid in docs:\n",
    "    docid_p = proc_docid(docid)\n",
    "    cnt[docid_p] += 1\n",
    "\n",
    "for docid in docs:\n",
    "    docid_p = proc_docid(docid)\n",
    "    if cnt[docid_p] > 1:\n",
    "        print(f'docid = `{docid}`. docid_p = `{docid_p}`')\n",
    "        print(docs[docid])\n"
   ]
  },
  {
   "cell_type": "code",
   "execution_count": null,
   "metadata": {},
   "outputs": [],
   "source": []
  },
  {
   "cell_type": "code",
   "execution_count": 27,
   "metadata": {},
   "outputs": [
    {
     "data": {
      "text/plain": [
       "True"
      ]
     },
     "execution_count": 27,
     "metadata": {},
     "output_type": "execute_result"
    }
   ],
   "source": [
    "'The_\"Chirping\"_Crickets' == 'The_\"Chirping\"_Crickets'"
   ]
  },
  {
   "cell_type": "code",
   "execution_count": 13,
   "metadata": {},
   "outputs": [
    {
     "data": {
      "text/plain": [
       "False"
      ]
     },
     "execution_count": 13,
     "metadata": {},
     "output_type": "execute_result"
    }
   ],
   "source": [
    "id(fever.corpus['train']) == id(fever.corpus['dev'])"
   ]
  },
  {
   "cell_type": "code",
   "execution_count": null,
   "metadata": {},
   "outputs": [],
   "source": [
    "def write_docs(docs: dict[str, dict[str, str]], fpath: Path) -> pd.DataFrame:\n",
    "    n_docs = len(docs)\n",
    "    pbar = tqdm(docs.keys(), total=n_docs, desc='Fever corpus dump', unit='doc')\n",
    "    docidn, docoff = np.arange(n_docs), [0] * n_docs\n",
    "    with open(fpath, 'w', encoding='utf-8') as f:\n",
    "        for i, docid in enumerate(pbar):\n",
    "            doc = docs[docid]\n",
    "            off = f.tell()\n",
    "            title, text = doc['title'], doc['text']\n",
    "            f.write(f'{docidn[i]}\\t{docid}\\t{title}\\t{text}\\n')"
   ]
  },
  {
   "cell_type": "code",
   "execution_count": 24,
   "metadata": {},
   "outputs": [],
   "source": [
    "fpath = DATA_PATH / 'temp' / 'lines.txt'\n",
    "fpath.parent.mkdir(parents=True, exist_ok=True)\n",
    "lines = [\n",
    "    'abc',\n",
    "    'def-hij',\n",
    "    'Hi, General',\n",
    "    'Nice to meet you, General',\n",
    "    'Ho ho ho',\n",
    "    'Glad to see you',\n",
    "    'Glad to see you too',\n",
    "    '',\n",
    "    'mimimir'\n",
    "]\n",
    "offsets = []\n",
    "with open(fpath, 'w', encoding='utf-8') as f:\n",
    "    for line in lines:\n",
    "        off = f.tell()\n",
    "        f.write(line)\n",
    "        f.write('\\n')\n",
    "        offsets.append(off)"
   ]
  },
  {
   "cell_type": "code",
   "execution_count": 25,
   "metadata": {},
   "outputs": [
    {
     "name": "stdout",
     "output_type": "stream",
     "text": [
      "0 0\n",
      "abc\n",
      "4 4\n",
      "def-hij\n",
      "12 12\n",
      "Hi, General\n",
      "24 24\n",
      "Nice to meet you, General\n",
      "50 50\n",
      "Ho ho ho\n",
      "59 59\n",
      "Glad to see you\n",
      "75 75\n",
      "Glad to see you too\n",
      "95 95\n",
      "\n",
      "96 96\n",
      "mimimir\n"
     ]
    }
   ],
   "source": [
    "off_calc = 0\n",
    "for l, off in zip(lines, offsets):\n",
    "    print(off_calc, off)\n",
    "    print(l)\n",
    "    off_calc += len(l) + 1"
   ]
  },
  {
   "cell_type": "code",
   "execution_count": 26,
   "metadata": {},
   "outputs": [
    {
     "name": "stdout",
     "output_type": "stream",
     "text": [
      "59 Glad to see you \n",
      "\t True\n",
      "12 Hi, General \n",
      "\t True\n",
      "96 mimimir \n",
      "\t True\n",
      "75 Glad to see you too \n",
      "\t True\n",
      "0 abc \n",
      "\t True\n",
      "50 Ho ho ho \n",
      "\t True\n",
      "24 Nice to meet you, General \n",
      "\t True\n",
      "95  \n",
      "\t True\n",
      "4 def-hij \n",
      "\t True\n"
     ]
    }
   ],
   "source": [
    "lo = list(zip(lines, offsets))\n",
    "np.random.shuffle(lo)\n",
    "with open(fpath, 'r', encoding='utf-8') as f:\n",
    "    for l1, off in lo:\n",
    "        f.seek(off)\n",
    "        l2 = f.readline().rstrip()\n",
    "        print(off, l1, '\\n\\t', l1 == l2)\n",
    "    \n",
    "    "
   ]
  },
  {
   "cell_type": "code",
   "execution_count": 10,
   "metadata": {},
   "outputs": [],
   "source": [
    "# for docid, doc in fever.corpus['train'].items():\n",
    "#     assert '\\t' not in doc['title'] and '\\t' not in doc['text']"
   ]
  },
  {
   "cell_type": "code",
   "execution_count": 11,
   "metadata": {},
   "outputs": [
    {
     "data": {
      "text/plain": [
       "True"
      ]
     },
     "execution_count": 11,
     "metadata": {},
     "output_type": "execute_result"
    }
   ],
   "source": [
    "fever.corpus['train'] == fever.corpus['dev'] == fever.corpus['test']"
   ]
  },
  {
   "cell_type": "code",
   "execution_count": 9,
   "metadata": {},
   "outputs": [],
   "source": [
    "fever.corpus['dev'] = None\n",
    "fever.corpus['test'] = None\n",
    "# del fever.corpus['dev']\n",
    "# del fever.corpus['test']"
   ]
  },
  {
   "cell_type": "code",
   "execution_count": null,
   "metadata": {},
   "outputs": [],
   "source": []
  },
  {
   "cell_type": "code",
   "execution_count": null,
   "metadata": {},
   "outputs": [],
   "source": []
  }
 ],
 "metadata": {
  "kernelspec": {
   "display_name": "mllm",
   "language": "python",
   "name": "python3"
  },
  "language_info": {
   "codemirror_mode": {
    "name": "ipython",
    "version": 3
   },
   "file_extension": ".py",
   "mimetype": "text/x-python",
   "name": "python",
   "nbconvert_exporter": "python",
   "pygments_lexer": "ipython3",
   "version": "3.12.4"
  }
 },
 "nbformat": 4,
 "nbformat_minor": 2
}
