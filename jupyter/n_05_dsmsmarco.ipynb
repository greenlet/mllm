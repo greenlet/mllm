{
 "cells": [
  {
   "cell_type": "code",
   "execution_count": 1,
   "metadata": {},
   "outputs": [],
   "source": [
    "%load_ext autoreload\n",
    "%autoreload 2"
   ]
  },
  {
   "cell_type": "code",
   "execution_count": 31,
   "metadata": {},
   "outputs": [],
   "source": [
    "import csv\n",
    "from dataclasses import dataclass\n",
    "import gzip\n",
    "from io import TextIOWrapper\n",
    "import os\n",
    "from pathlib import Path\n",
    "from pprint import pprint\n",
    "import re\n",
    "import sys\n",
    "from typing import Optional\n",
    "if '..' not in sys.path: sys.path.append('..')\n",
    "\n",
    "import numpy as np\n",
    "import pandas as pd"
   ]
  },
  {
   "cell_type": "code",
   "execution_count": 3,
   "metadata": {},
   "outputs": [],
   "source": [
    "DATA_PATH = Path(os.path.expandvars('$HOME')) / 'data'\n",
    "MSMARCO_PATH = DATA_PATH / 'msmarco'\n",
    "MSMARCO_DOCTRAIN_QUERIES_FPATH = MSMARCO_PATH / 'msmarco-doctrain-queries.tsv.gz'\n",
    "MSMARCO_DOCTRAIN_QRELS_FPATH = MSMARCO_PATH / 'msmarco-doctrain-qrels.tsv.gz'\n",
    "MSMARCO_DOCTRAIN_TOP100_FPATH = MSMARCO_PATH / 'msmarco-doctrain-top100.gz'\n",
    "MSMARCO_DOCDEV_QUERIES_FPATH = MSMARCO_PATH / 'msmarco-docdev-queries.tsv.gz'\n",
    "MSMARCO_DOCDEV_QRELS_FPATH = MSMARCO_PATH / 'msmarco-docdev-qrels.tsv.gz'\n",
    "MSMARCO_DOCDEV_TOP100_FPATH = MSMARCO_PATH / 'msmarco-docdev-top100.gz'\n",
    "MSMARCO_DOCS_FPATH = MSMARCO_PATH / 'msmarco-docs.tsv'\n",
    "MSMARCO_DOCS_LOOKUP_FPATH = MSMARCO_PATH / 'msmarco-docs-lookup.tsv.gz'"
   ]
  },
  {
   "cell_type": "code",
   "execution_count": 4,
   "metadata": {},
   "outputs": [
    {
     "data": {
      "text/plain": [
       "['msmarco-doctrain-queries.tsv.gz',\n",
       " 'msmarco-docdev-qrels.tsv.gz',\n",
       " 'msmarco-docdev-top100.gz',\n",
       " 'msmarco-docdev-queries.tsv.gz',\n",
       " 'msmarco-doctrain-top100.gz',\n",
       " 'msmarco-docs.tsv',\n",
       " 'msmarco-doctrain-qrels.tsv.gz',\n",
       " 'msmarco-docs-lookup.tsv.gz']"
      ]
     },
     "execution_count": 4,
     "metadata": {},
     "output_type": "execute_result"
    }
   ],
   "source": [
    "list(fpath.name for fpath in MSMARCO_PATH.iterdir())"
   ]
  },
  {
   "cell_type": "code",
   "execution_count": 5,
   "metadata": {},
   "outputs": [
    {
     "name": "stdout",
     "output_type": "stream",
     "text": [
      "MSMARCO_DOCTRAIN_QUERIES_FPATH = MSMARCO_PATH / 'msmarco-doctrain-queries.tsv.gz'\n",
      "MSMARCO_DOCDEV_QRELS_FPATH = MSMARCO_PATH / 'msmarco-docdev-qrels.tsv.gz'\n",
      "MSMARCO_DOCDEV_TOP100_FPATH = MSMARCO_PATH / 'msmarco-docdev-top100.gz'\n",
      "MSMARCO_DOCDEV_QUERIES_FPATH = MSMARCO_PATH / 'msmarco-docdev-queries.tsv.gz'\n",
      "MSMARCO_DOCTRAIN_TOP100_FPATH = MSMARCO_PATH / 'msmarco-doctrain-top100.gz'\n",
      "MSMARCO_DOCS_FPATH = MSMARCO_PATH / 'msmarco-docs.tsv'\n",
      "MSMARCO_DOCTRAIN_QRELS_FPATH = MSMARCO_PATH / 'msmarco-doctrain-qrels.tsv.gz'\n",
      "MSMARCO_DOCS_LOOKUP_FPATH = MSMARCO_PATH / 'msmarco-docs-lookup.tsv.gz'\n"
     ]
    }
   ],
   "source": [
    "fids = []\n",
    "for fpath in MSMARCO_PATH.iterdir():\n",
    "    fname, fid = fpath.name, fpath.with_suffix('').with_suffix('').name\n",
    "    fid = fid.replace('-', '_').upper()\n",
    "    print(f'{fid}_FPATH = MSMARCO_PATH / \\'{fname}\\'')\n",
    "    fids.append(fid)\n"
   ]
  },
  {
   "cell_type": "code",
   "execution_count": 6,
   "metadata": {},
   "outputs": [
    {
     "name": "stdout",
     "output_type": "stream",
     "text": [
      "5193\n",
      "{'1090270': 'botulinum definition',\n",
      " '1101278': 'do prince harry and william have last names',\n",
      " '1101279': 'do physicians pay for insurance from their salaries?',\n",
      " '118457': 'define bona fides',\n",
      " '174249': 'does xpress bet charge to deposit money in your account',\n",
      " '178627': 'effects of detox juice cleanse',\n",
      " '201376': 'here there be dragons comic',\n",
      " '320792': 'how much is a cost to run disneyland',\n",
      " '54544': 'blood diseases that are sexually transmitted',\n",
      " '68095': 'can hives be a sign of pregnancy'}\n"
     ]
    }
   ],
   "source": [
    "def read_queries(queries_fpath: Path) -> dict[str, str]:\n",
    "    res = {}\n",
    "    with gzip.open(queries_fpath, 'rt', encoding='utf8') as f:\n",
    "        tsvreader = csv.reader(f, delimiter='\\t')\n",
    "        for topicid, querystring_of_topicid in tsvreader:\n",
    "            assert topicid not in res\n",
    "            res[topicid] = querystring_of_topicid\n",
    "    return res\n",
    "\n",
    "queries = read_queries(MSMARCO_DOCDEV_QUERIES_FPATH)\n",
    "print(len(queries))\n",
    "pprint({k: queries[k] for k in list(queries.keys())[:10]})"
   ]
  },
  {
   "cell_type": "code",
   "execution_count": 7,
   "metadata": {},
   "outputs": [
    {
     "name": "stdout",
     "output_type": "stream",
     "text": [
      "3213835\n"
     ]
    }
   ],
   "source": [
    "def read_offsets(lookup_fpath: Path) -> dict[str, int]:\n",
    "    res = {}\n",
    "    with gzip.open(lookup_fpath, 'rt', encoding='utf8') as f:\n",
    "        tsvreader = csv.reader(f, delimiter='\\t')\n",
    "        for [docid, _, offset] in tsvreader:\n",
    "            res[docid] = int(offset)\n",
    "    return res\n",
    "\n",
    "offsets = read_offsets(MSMARCO_DOCS_LOOKUP_FPATH)\n",
    "print(len(offsets))"
   ]
  },
  {
   "cell_type": "code",
   "execution_count": 8,
   "metadata": {},
   "outputs": [
    {
     "name": "stdout",
     "output_type": "stream",
     "text": [
      "2 0 D1650436 1 True False\n",
      "1215 0 D1202771 1 True False\n",
      "1288 0 D1547717 1 True False\n",
      "1576 0 D1313702 1 True False\n",
      "2235 0 D2113408 1 True False\n",
      "2798 0 D2830290 1 True False\n",
      "2962 0 D125453 1 True False\n",
      "4696 0 D2523421 1 True False\n",
      "4947 0 D2001134 1 True False\n",
      "6217 0 D1361055 1 True False\n"
     ]
    },
    {
     "data": {
      "text/plain": [
       "5183"
      ]
     },
     "execution_count": 8,
     "metadata": {},
     "output_type": "execute_result"
    }
   ],
   "source": [
    "def read_qrels(qrels_fpath: Path) -> dict[str, list[str]]:\n",
    "    res = {}\n",
    "    with gzip.open(qrels_fpath, 'rt', encoding='utf8') as f:\n",
    "        for _ in range(10):\n",
    "            l = f.readline()\n",
    "            print(l.rstrip(), ' ' in l, '\\t' in l)\n",
    "        tsvreader = csv.reader(f, delimiter=' ')\n",
    "        for [topicid, _, docid, rel] in tsvreader:\n",
    "            assert rel == \"1\"\n",
    "            docids = res.setdefault(topicid, [])\n",
    "            docids.append(docid)\n",
    "    return res\n",
    "\n",
    "qrels = read_qrels(MSMARCO_DOCDEV_QRELS_FPATH)\n",
    "# qrels = read_qrels(MSMARCO_DOCTRAIN_QRELS_FPATH)\n",
    "len(qrels)"
   ]
  },
  {
   "cell_type": "code",
   "execution_count": 9,
   "metadata": {},
   "outputs": [
    {
     "data": {
      "text/plain": [
       "(                                                     query\n",
       " topicid                                                   \n",
       " 174249   does xpress bet charge to deposit money in you...\n",
       " 320792                how much is a cost to run disneyland\n",
       " 1090270                               botulinum definition\n",
       " 1101279  do physicians pay for insurance from their sal...\n",
       " 201376                         here there be dragons comic\n",
       " ...                                                    ...\n",
       " 147073   difference between discrete and process manufa...\n",
       " 243761                  how long did abraham lincoln serve\n",
       " 162662        does adult acne rosacea give you blepharitis\n",
       " 247194                        how long do you bake muffins\n",
       " 195199                                      glioma meaning\n",
       " \n",
       " [5193 rows x 1 columns],\n",
       "                                                      query\n",
       " topicid                                                   \n",
       " 1185869  )what was the immediate impact of the success ...\n",
       " 1185868  _________ justice is designed to repair the ha...\n",
       " 1183785                                     elegxo meaning\n",
       " 645590                      what does physical medicine do\n",
       " 186154          feeding rice cereal how many times per day\n",
       " ...                                                    ...\n",
       " 19285                           anterolisthesis definition\n",
       " 558837                              what are fishing flies\n",
       " 559149            what are fsh levels during perimenopause\n",
       " 706678                                     what is a yowie\n",
       " 405466                            is carbonic acid soluble\n",
       " \n",
       " [367013 rows x 1 columns])"
      ]
     },
     "execution_count": 9,
     "metadata": {},
     "output_type": "execute_result"
    }
   ],
   "source": [
    "def read_queries_df(queries_fpath: Path) -> pd.DataFrame:\n",
    "    with gzip.open(queries_fpath, 'rt', encoding='utf8') as f:\n",
    "        df = pd.read_csv(f, sep='\\t', header = None, names=('topicid', 'query'))\n",
    "        df.set_index('topicid', inplace=True)\n",
    "    return df\n",
    "\n",
    "df_qs_dev = read_queries_df(MSMARCO_DOCDEV_QUERIES_FPATH)\n",
    "df_qs_train = read_queries_df(MSMARCO_DOCTRAIN_QUERIES_FPATH)\n",
    "df_qs_dev, df_qs_train"
   ]
  },
  {
   "cell_type": "code",
   "execution_count": 10,
   "metadata": {},
   "outputs": [
    {
     "name": "stdout",
     "output_type": "stream",
     "text": [
      "              off_tsv\n",
      "docid                \n",
      "D1555982            0\n",
      "D301595          1852\n",
      "D1359209         7973\n",
      "D2147834        23656\n",
      "D1568809        31104\n",
      "...               ...\n",
      "D2027345  22889189901\n",
      "D3094124  22889193345\n",
      "D1659457  22889201376\n",
      "D1633167  22889206934\n",
      "D1551606  22889207225\n",
      "\n",
      "[3213835 rows x 1 columns]\n"
     ]
    }
   ],
   "source": [
    "def read_offsets_df(lookup_fpath: Path) -> pd.DataFrame:\n",
    "    with gzip.open(lookup_fpath, 'rt', encoding='utf8') as f:\n",
    "        df = pd.read_csv(f, sep='\\t', header=None, names=('docid', 'off_trec', 'off_tsv'), usecols=('docid', 'off_tsv'))\n",
    "        df.set_index('docid', inplace=True)\n",
    "    return df\n",
    "\n",
    "df_off = read_offsets_df(MSMARCO_DOCS_LOOKUP_FPATH)\n",
    "print(df_off)"
   ]
  },
  {
   "cell_type": "code",
   "execution_count": 11,
   "metadata": {},
   "outputs": [
    {
     "data": {
      "text/plain": [
       "(            docid  rel\n",
       " topicid               \n",
       " 2        D1650436    1\n",
       " 1215     D1202771    1\n",
       " 1288     D1547717    1\n",
       " 1576     D1313702    1\n",
       " 2235     D2113408    1\n",
       " ...           ...  ...\n",
       " 1102330  D3062847    1\n",
       " 1102335  D2921145    1\n",
       " 1102351  D2361582    1\n",
       " 1102390  D1073324    1\n",
       " 1102400   D677570    1\n",
       " \n",
       " [5193 rows x 2 columns],\n",
       "             docid  rel\n",
       " topicid               \n",
       " 3         D312959    1\n",
       " 5         D140227    1\n",
       " 12        D213890    1\n",
       " 15       D1033338    1\n",
       " 16        D508131    1\n",
       " ...           ...  ...\n",
       " 1185862  D2008201    1\n",
       " 1185864  D1126522    1\n",
       " 1185865   D630512    1\n",
       " 1185868    D59235    1\n",
       " 1185869    D59219    1\n",
       " \n",
       " [367013 rows x 2 columns])"
      ]
     },
     "execution_count": 11,
     "metadata": {},
     "output_type": "execute_result"
    }
   ],
   "source": [
    "def read_qrels_df(qrels_fpath: Path) -> pd.DataFrame:\n",
    "    with gzip.open(qrels_fpath, 'rt', encoding='utf8') as f:\n",
    "        df = pd.read_csv(f, sep=' ', header=None, names=('topicid', 'x', 'docid', 'rel'), usecols=('topicid', 'docid', 'rel'))\n",
    "        df.set_index('topicid', inplace=True)\n",
    "    assert len(df.index.unique()) == len(df)\n",
    "    assert (df['rel'] == 1).sum() == len(df)\n",
    "    return df\n",
    "\n",
    "df_qrels_dev = read_qrels_df(MSMARCO_DOCDEV_QRELS_FPATH)\n",
    "df_qrels_train = read_qrels_df(MSMARCO_DOCTRAIN_QRELS_FPATH)\n",
    "df_qrels_dev, df_qrels_train"
   ]
  },
  {
   "cell_type": "code",
   "execution_count": 12,
   "metadata": {},
   "outputs": [
    {
     "data": {
      "text/plain": [
       "(                  rank    score\n",
       " topicid docid                  \n",
       " 174249  D3126539     1 -5.99003\n",
       "         D978773      2 -6.18444\n",
       "         D399803      3 -6.20982\n",
       "         D2204704     4 -6.24312\n",
       "         D3126541     5 -6.24726\n",
       " ...                ...      ...\n",
       " 195199  D2523452    96 -7.71499\n",
       "         D2936620    97 -7.71628\n",
       "         D2630286    98 -7.72922\n",
       "         D3161177    99 -7.73019\n",
       "         D2834135   100 -7.73695\n",
       " \n",
       " [519300 rows x 2 columns],\n",
       "                   rank    score\n",
       " topicid docid                  \n",
       " 1185869 D59221       1 -4.80433\n",
       "         D59220       2 -4.92127\n",
       "         D2192591     3 -5.05215\n",
       "         D2777518     4 -5.05486\n",
       "         D2371978     5 -5.07048\n",
       " ...                ...      ...\n",
       " 748176  D2519846    96 -6.27750\n",
       "         D1660014    97 -6.27775\n",
       "         D3395520    98 -6.27988\n",
       "         D2519845    99 -6.28317\n",
       "         D3083754   100 -6.28339\n",
       " \n",
       " [36701116 rows x 2 columns])"
      ]
     },
     "execution_count": 12,
     "metadata": {},
     "output_type": "execute_result"
    }
   ],
   "source": [
    "def read_top_df(top_fpath: Path) -> pd.DataFrame:\n",
    "    with gzip.open(top_fpath, 'rt', encoding='utf8') as f:\n",
    "        df = pd.read_csv(f, sep=' ', header=None, names=('topicid', 'x', 'docid', 'rank', 'score', 'runstring'),\n",
    "                         usecols=('topicid', 'docid', 'rank', 'score'))\n",
    "        df.set_index(['topicid', 'docid'], inplace=True)\n",
    "    return df\n",
    "\n",
    "\n",
    "df_top_dev = read_top_df(MSMARCO_DOCDEV_TOP100_FPATH)\n",
    "df_top_train = read_top_df(MSMARCO_DOCTRAIN_TOP100_FPATH)\n",
    "df_top_dev, df_top_train"
   ]
  },
  {
   "cell_type": "code",
   "execution_count": 13,
   "metadata": {},
   "outputs": [],
   "source": [
    "fid_docs = open(MSMARCO_DOCS_FPATH, 'r', encoding='utf-8')"
   ]
  },
  {
   "cell_type": "code",
   "execution_count": 14,
   "metadata": {},
   "outputs": [],
   "source": [
    "\n",
    "def cut(s: str, sz: int) -> str:\n",
    "    if len(s) <= sz:\n",
    "        return s\n",
    "    return f'{s[:sz]}...'\n",
    "\n",
    "class MsmDoc:\n",
    "    docid: str\n",
    "    url: str\n",
    "    title: str\n",
    "    body: str\n",
    "\n",
    "    def __init__(self, docid: str, url: str, title: str, body: str) -> None:\n",
    "        self.docid = docid\n",
    "        self.url = url\n",
    "        self.title = title\n",
    "        self.body = body\n",
    "    \n",
    "    def __str__(self) -> str:\n",
    "        return f'Id: {self.docid}. Title: {cut(self.title, 50)}. Body: {cut(self.body, 100)}. Url: {self.url}'\n",
    "    \n",
    "    def __repr__(self) -> str:\n",
    "        return self.__str__()\n",
    "    \n",
    "    @staticmethod\n",
    "    def from_line(l: str) -> 'MsmDoc':\n",
    "        docid, url, title, body = l.rstrip().split('\\t')\n",
    "        return MsmDoc(docid=docid, url=url, title=title, body=body)\n",
    "\n",
    "def get_doc(fid: TextIOWrapper, offset: int) -> MsmDoc:\n",
    "    fid.seek(offset)\n",
    "    l = fid.readline().rstrip()\n",
    "    return MsmDoc.from_line(l)\n"
   ]
  },
  {
   "cell_type": "code",
   "execution_count": 15,
   "metadata": {},
   "outputs": [
    {
     "name": "stdout",
     "output_type": "stream",
     "text": [
      "19459435257 <class 'int'>\n"
     ]
    },
    {
     "data": {
      "text/plain": [
       "Id: D2777518. Title: An Introduction to the Manhattan Project. Body: \"Humanities ›History & Culture An Introduction to the Manhattan Project Share Flipboard Email Print©.... Url: http://history1900s.about.com/od/1940s/a/Manhattan-Project.htm"
      ]
     },
     "execution_count": 15,
     "metadata": {},
     "output_type": "execute_result"
    }
   ],
   "source": [
    "docid = 'D2777518'\n",
    "off = df_off.loc[docid]\n",
    "print(off.item(), type(off.item()))\n",
    "doc = get_doc(fid_docs, off.item())\n",
    "doc"
   ]
  },
  {
   "cell_type": "code",
   "execution_count": 16,
   "metadata": {},
   "outputs": [],
   "source": [
    "# fid_docs.close()"
   ]
  },
  {
   "cell_type": "code",
   "execution_count": 17,
   "metadata": {},
   "outputs": [],
   "source": [
    "df_qs, df_qrels, df_top = df_qs_dev, df_qrels_dev, df_top_dev\n",
    "# df_qs, df_qrels, df_top = df_qs_train, df_qrels_train, df_top_train"
   ]
  },
  {
   "cell_type": "code",
   "execution_count": 18,
   "metadata": {},
   "outputs": [
    {
     "data": {
      "text/plain": [
       "True"
      ]
     },
     "execution_count": 18,
     "metadata": {},
     "output_type": "execute_result"
    }
   ],
   "source": [
    "len(df_qs.index.intersection(df_qrels.index)) == len(df_qs) == len(df_qrels) == len(df_qs.index.unique())"
   ]
  },
  {
   "cell_type": "code",
   "execution_count": 19,
   "metadata": {},
   "outputs": [
    {
     "data": {
      "text/html": [
       "<div>\n",
       "<style scoped>\n",
       "    .dataframe tbody tr th:only-of-type {\n",
       "        vertical-align: middle;\n",
       "    }\n",
       "\n",
       "    .dataframe tbody tr th {\n",
       "        vertical-align: top;\n",
       "    }\n",
       "\n",
       "    .dataframe thead th {\n",
       "        text-align: right;\n",
       "    }\n",
       "</style>\n",
       "<table border=\"1\" class=\"dataframe\">\n",
       "  <thead>\n",
       "    <tr style=\"text-align: right;\">\n",
       "      <th></th>\n",
       "      <th>docid</th>\n",
       "      <th>rank</th>\n",
       "      <th>score</th>\n",
       "    </tr>\n",
       "    <tr>\n",
       "      <th>topicid</th>\n",
       "      <th></th>\n",
       "      <th></th>\n",
       "      <th></th>\n",
       "    </tr>\n",
       "  </thead>\n",
       "  <tbody>\n",
       "    <tr>\n",
       "      <th>2</th>\n",
       "      <td>100</td>\n",
       "      <td>5050</td>\n",
       "      <td>-6.815962</td>\n",
       "    </tr>\n",
       "    <tr>\n",
       "      <th>1215</th>\n",
       "      <td>100</td>\n",
       "      <td>5050</td>\n",
       "      <td>-5.370802</td>\n",
       "    </tr>\n",
       "    <tr>\n",
       "      <th>1288</th>\n",
       "      <td>100</td>\n",
       "      <td>5050</td>\n",
       "      <td>-4.371539</td>\n",
       "    </tr>\n",
       "    <tr>\n",
       "      <th>1576</th>\n",
       "      <td>100</td>\n",
       "      <td>5050</td>\n",
       "      <td>-9.890031</td>\n",
       "    </tr>\n",
       "    <tr>\n",
       "      <th>2235</th>\n",
       "      <td>100</td>\n",
       "      <td>5050</td>\n",
       "      <td>-6.137435</td>\n",
       "    </tr>\n",
       "    <tr>\n",
       "      <th>...</th>\n",
       "      <td>...</td>\n",
       "      <td>...</td>\n",
       "      <td>...</td>\n",
       "    </tr>\n",
       "    <tr>\n",
       "      <th>1102330</th>\n",
       "      <td>100</td>\n",
       "      <td>5050</td>\n",
       "      <td>-5.838318</td>\n",
       "    </tr>\n",
       "    <tr>\n",
       "      <th>1102335</th>\n",
       "      <td>100</td>\n",
       "      <td>5050</td>\n",
       "      <td>-5.705734</td>\n",
       "    </tr>\n",
       "    <tr>\n",
       "      <th>1102351</th>\n",
       "      <td>100</td>\n",
       "      <td>5050</td>\n",
       "      <td>-7.040014</td>\n",
       "    </tr>\n",
       "    <tr>\n",
       "      <th>1102390</th>\n",
       "      <td>100</td>\n",
       "      <td>5050</td>\n",
       "      <td>-6.259723</td>\n",
       "    </tr>\n",
       "    <tr>\n",
       "      <th>1102400</th>\n",
       "      <td>100</td>\n",
       "      <td>5050</td>\n",
       "      <td>-6.110446</td>\n",
       "    </tr>\n",
       "  </tbody>\n",
       "</table>\n",
       "<p>5193 rows × 3 columns</p>\n",
       "</div>"
      ],
      "text/plain": [
       "         docid  rank     score\n",
       "topicid                       \n",
       "2          100  5050 -6.815962\n",
       "1215       100  5050 -5.370802\n",
       "1288       100  5050 -4.371539\n",
       "1576       100  5050 -9.890031\n",
       "2235       100  5050 -6.137435\n",
       "...        ...   ...       ...\n",
       "1102330    100  5050 -5.838318\n",
       "1102335    100  5050 -5.705734\n",
       "1102351    100  5050 -7.040014\n",
       "1102390    100  5050 -6.259723\n",
       "1102400    100  5050 -6.110446\n",
       "\n",
       "[5193 rows x 3 columns]"
      ]
     },
     "execution_count": 19,
     "metadata": {},
     "output_type": "execute_result"
    }
   ],
   "source": [
    "df_top_ = df_top.reset_index(drop=False)\n",
    "df_top_agg = df_top_.groupby('topicid').agg({'docid': 'count', 'rank': 'sum', 'score': 'mean'})\n",
    "df_top_agg"
   ]
  },
  {
   "cell_type": "code",
   "execution_count": 20,
   "metadata": {},
   "outputs": [
    {
     "data": {
      "text/plain": [
       "(True, True)"
      ]
     },
     "execution_count": 20,
     "metadata": {},
     "output_type": "execute_result"
    }
   ],
   "source": [
    "len(df_top_agg.index.unique()) == len(df_top_agg), len(df_top.index.unique()) == len(df_top)"
   ]
  },
  {
   "cell_type": "code",
   "execution_count": 21,
   "metadata": {},
   "outputs": [
    {
     "data": {
      "text/plain": [
       "(Empty DataFrame\n",
       " Columns: [docid, rank, score]\n",
       " Index: [],\n",
       " Empty DataFrame\n",
       " Columns: [docid, rank, score]\n",
       " Index: [])"
      ]
     },
     "execution_count": 21,
     "metadata": {},
     "output_type": "execute_result"
    }
   ],
   "source": [
    "df_top_agg[df_top_agg['docid'] != 100], df_top_agg[df_top_agg['rank'] != 5050]"
   ]
  },
  {
   "cell_type": "code",
   "execution_count": 22,
   "metadata": {},
   "outputs": [
    {
     "data": {
      "text/plain": [
       "(Empty DataFrame\n",
       " Columns: [query]\n",
       " Index: [],\n",
       " Empty DataFrame\n",
       " Columns: [docid, rank, score]\n",
       " Index: [])"
      ]
     },
     "execution_count": 22,
     "metadata": {},
     "output_type": "execute_result"
    }
   ],
   "source": [
    "qs_top_inds = df_qs.index.difference(df_top_agg.index)\n",
    "top_qs_inds = df_top_agg.index.difference(df_qs.index)\n",
    "df_qs.loc[qs_top_inds], df_top_agg.loc[top_qs_inds]"
   ]
  },
  {
   "cell_type": "code",
   "execution_count": 23,
   "metadata": {},
   "outputs": [
    {
     "data": {
      "text/plain": [
       "(1009527,\n",
       " docid     100.00000\n",
       " rank     5050.00000\n",
       " score      -5.84499\n",
       " Name: 1009527, dtype: float64)"
      ]
     },
     "execution_count": 23,
     "metadata": {},
     "output_type": "execute_result"
    }
   ],
   "source": [
    "tid_ind = np.random.randint(len(df_top_agg))\n",
    "tid = df_top_agg.index[tid_ind]\n",
    "tid, df_top_agg.loc[tid]"
   ]
  },
  {
   "cell_type": "code",
   "execution_count": 24,
   "metadata": {},
   "outputs": [
    {
     "name": "stdout",
     "output_type": "stream",
     "text": [
      "          rank    score\n",
      "docid                  \n",
      "D3255793     1 -5.30337\n",
      "D2959602     2 -5.40700\n",
      "D3473629     3 -5.45224\n",
      "D777245      4 -5.47914\n",
      "D1299836     5 -5.54870\n",
      "...        ...      ...\n",
      "D307909     96 -6.00863\n",
      "D2619196    97 -6.01052\n",
      "D1393090    98 -6.01321\n",
      "D68832      99 -6.01485\n",
      "D2577257   100 -6.01620\n",
      "\n",
      "[100 rows x 2 columns]\n",
      "query    what's grounding\n",
      "Name: 1009527, dtype: object\n"
     ]
    }
   ],
   "source": [
    "df_top_tid = df_top.loc[tid]\n",
    "print(df_top_tid)\n",
    "print(df_qs.loc[tid])"
   ]
  },
  {
   "cell_type": "code",
   "execution_count": 25,
   "metadata": {},
   "outputs": [],
   "source": [
    "def get_doc_by_did(did: int) -> MsmDoc:\n",
    "    off = df_off.loc[did].item()\n",
    "    return get_doc(fid_docs, off)\n"
   ]
  },
  {
   "cell_type": "code",
   "execution_count": 26,
   "metadata": {},
   "outputs": [
    {
     "name": "stdout",
     "output_type": "stream",
     "text": [
      "rank     1.00000\n",
      "score   -5.30337\n",
      "Name: D3255793, dtype: float64\n",
      "4 Grounding Techniques That Will Help You Stay More Calm\n",
      "Movement & Fitness4 Grounding Techniques That Will Help You Stay More Calm By Lydia Noyes March 28, 2017Do you feel often like life is passing you by? Is it hard to find a minute to calm down and real\n"
     ]
    }
   ],
   "source": [
    "did = df_top_tid.index[0]\n",
    "print(df_top_tid.loc[did])\n",
    "doc = get_doc_by_did(did)\n",
    "print(doc.title)\n",
    "print(doc.body[:200])"
   ]
  },
  {
   "cell_type": "code",
   "execution_count": 27,
   "metadata": {},
   "outputs": [
    {
     "data": {
      "text/plain": [
       "Id: D490087. Title: What is the difference between earthing, grounding.... Body: Valentine Chriz, works at Philadelphia, PAUpdated Oct 4, 2017 · Author has 95 answers and 57.7k answ.... Url: https://www.quora.com/What-is-the-difference-between-earthing-grounding-and-neutral"
      ]
     },
     "execution_count": 27,
     "metadata": {},
     "output_type": "execute_result"
    }
   ],
   "source": [
    "doc_rel = get_doc_by_did(df_qrels.loc[tid]['docid'])\n",
    "doc_rel"
   ]
  },
  {
   "cell_type": "code",
   "execution_count": 28,
   "metadata": {},
   "outputs": [
    {
     "data": {
      "text/plain": [
       "(5193, 367013, 0)"
      ]
     },
     "execution_count": 28,
     "metadata": {},
     "output_type": "execute_result"
    }
   ],
   "source": [
    "len(df_qs_dev), len(df_qs_train), len(df_qs_dev.index.intersection(df_qs_train.index))"
   ]
  },
  {
   "cell_type": "code",
   "execution_count": 29,
   "metadata": {},
   "outputs": [],
   "source": [
    "fid_docs.seek(0)\n",
    "docids = []\n",
    "while True:\n",
    "    l = fid_docs.readline()\n",
    "    if not l:\n",
    "        break\n",
    "    docid = l[:l.index('\\t')]\n",
    "    docids.append(docid)"
   ]
  },
  {
   "cell_type": "code",
   "execution_count": 30,
   "metadata": {},
   "outputs": [
    {
     "data": {
      "text/plain": [
       "3213835"
      ]
     },
     "execution_count": 30,
     "metadata": {},
     "output_type": "execute_result"
    }
   ],
   "source": [
    "len(docids)"
   ]
  },
  {
   "cell_type": "code",
   "execution_count": 33,
   "metadata": {},
   "outputs": [],
   "source": [
    "pat = re.compile(r'^D(\\d+)$')\n",
    "for docid in docids:\n",
    "    m = pat.match(docid)\n",
    "    assert m is not None"
   ]
  },
  {
   "cell_type": "code",
   "execution_count": 34,
   "metadata": {},
   "outputs": [],
   "source": [
    "numdocids = [int(docid[1:]) for docid in docids]"
   ]
  },
  {
   "cell_type": "code",
   "execution_count": 43,
   "metadata": {},
   "outputs": [
    {
     "data": {
      "text/plain": [
       "(3213835, True)"
      ]
     },
     "execution_count": 43,
     "metadata": {},
     "output_type": "execute_result"
    }
   ],
   "source": [
    "docids_set = set(docids)\n",
    "numdocids_set = set(numdocids)\n",
    "len(docids), len(docids) == len(docids_set) == len(numdocids) == len(numdocids_set)"
   ]
  },
  {
   "cell_type": "code",
   "execution_count": 31,
   "metadata": {},
   "outputs": [],
   "source": [
    "fid_docs.close()\n",
    "del fid_docs"
   ]
  },
  {
   "cell_type": "code",
   "execution_count": 47,
   "metadata": {},
   "outputs": [
    {
     "name": "stdout",
     "output_type": "stream",
     "text": [
      "5193 5185\n",
      "367013 319927\n",
      "801\n"
     ]
    }
   ],
   "source": [
    "qrels_docids_dev = df_qrels_dev['docid']\n",
    "qrels_docids_dev_unique = qrels_docids_dev.unique()\n",
    "print(len(qrels_docids_dev), len(qrels_docids_dev_unique))\n",
    "qrels_docids_train = df_qrels_train['docid']\n",
    "qrels_docids_train_unique = qrels_docids_train.unique()\n",
    "print(len(qrels_docids_train), len(qrels_docids_train_unique))\n",
    "print(len(np.intersect1d(qrels_docids_train_unique, qrels_docids_dev_unique)))"
   ]
  },
  {
   "cell_type": "code",
   "execution_count": 51,
   "metadata": {},
   "outputs": [
    {
     "name": "stdout",
     "output_type": "stream",
     "text": [
      "519300 400737\n",
      "36701116 2765494\n"
     ]
    }
   ],
   "source": [
    "top_docids_dev, top_docids_train = df_top_dev.index.get_level_values(1), df_top_train.index.get_level_values(1)\n",
    "top_docids_dev_u, top_docids_train_u = top_docids_dev.unique(), top_docids_train.unique()\n",
    "print(len(top_docids_dev), len(top_docids_dev_u))\n",
    "print(len(top_docids_train), len(top_docids_train_u))"
   ]
  },
  {
   "cell_type": "code",
   "execution_count": 53,
   "metadata": {},
   "outputs": [
    {
     "name": "stdout",
     "output_type": "stream",
     "text": [
      "5193 519300\n",
      "367013 36701116\n"
     ]
    }
   ],
   "source": [
    "print(len(df_qrels_dev), len(df_top_dev.index.get_level_values(0)))\n",
    "print(len(df_qrels_train), len(df_top_train.index.get_level_values(0)))"
   ]
  }
 ],
 "metadata": {
  "kernelspec": {
   "display_name": "mllm",
   "language": "python",
   "name": "python3"
  },
  "language_info": {
   "codemirror_mode": {
    "name": "ipython",
    "version": 3
   },
   "file_extension": ".py",
   "mimetype": "text/x-python",
   "name": "python",
   "nbconvert_exporter": "python",
   "pygments_lexer": "ipython3",
   "version": "3.10.14"
  }
 },
 "nbformat": 4,
 "nbformat_minor": 2
}
