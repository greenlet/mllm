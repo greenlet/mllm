{
 "cells": [
  {
   "cell_type": "code",
   "execution_count": 4,
   "metadata": {},
   "outputs": [],
   "source": [
    "import os\n",
    "import argparse\n",
    "from enum import Enum\n",
    "import logging\n",
    "import urllib\n",
    "import sys\n",
    "import codecs\n",
    "import tarfile\n",
    "\n",
    "import pandas as pd\n",
    "import torch\n",
    "import torchtext.data\n",
    "import torchtext.datasets\n",
    "from tqdm import tqdm\n"
   ]
  },
  {
   "cell_type": "code",
   "execution_count": 6,
   "metadata": {},
   "outputs": [
    {
     "data": {
      "text/plain": [
       "'4.38.2'"
      ]
     },
     "execution_count": 6,
     "metadata": {},
     "output_type": "execute_result"
    }
   ],
   "source": [
    "import transformers\n",
    "transformers.__version__"
   ]
  },
  {
   "cell_type": "code",
   "execution_count": 43,
   "metadata": {},
   "outputs": [
    {
     "data": {
      "text/plain": [
       "tensor([[-0.2170, -0.4064, -0.2708,  0.1597],\n",
       "        [-1.8654,  0.7103, -0.5406,  0.0239],\n",
       "        [ 1.0485,  0.0319,  1.0114, -0.8338],\n",
       "        [-0.7670, -0.2378,  1.1530, -0.5154]])"
      ]
     },
     "execution_count": 43,
     "metadata": {},
     "output_type": "execute_result"
    }
   ],
   "source": [
    "x = torch.randn(4, 4)\n",
    "x"
   ]
  },
  {
   "cell_type": "code",
   "execution_count": 44,
   "metadata": {},
   "outputs": [
    {
     "ename": "RuntimeError",
     "evalue": "shape '[8]' is invalid for input of size 16",
     "output_type": "error",
     "traceback": [
      "\u001b[0;31m---------------------------------------------------------------------------\u001b[0m",
      "\u001b[0;31mRuntimeError\u001b[0m                              Traceback (most recent call last)",
      "Cell \u001b[0;32mIn[44], line 1\u001b[0m\n\u001b[0;32m----> 1\u001b[0m x\u001b[38;5;241m.\u001b[39mview((\u001b[38;5;241m-\u001b[39m\u001b[38;5;241m1\u001b[39m, \u001b[38;5;241m8\u001b[39m))\u001b[38;5;241m.\u001b[39mshape, x\u001b[38;5;241m.\u001b[39mview(\u001b[38;5;241m-\u001b[39m\u001b[38;5;241m1\u001b[39m)\u001b[38;5;241m.\u001b[39mshape, \u001b[43mx\u001b[49m\u001b[38;5;241;43m.\u001b[39;49m\u001b[43mview\u001b[49m\u001b[43m(\u001b[49m\u001b[38;5;241;43m8\u001b[39;49m\u001b[43m)\u001b[49m\u001b[38;5;241m.\u001b[39mshape\n",
      "\u001b[0;31mRuntimeError\u001b[0m: shape '[8]' is invalid for input of size 16"
     ]
    }
   ],
   "source": [
    "x.view((-1, 8)).shape, x.view(-1).shape, x.view(8).shape"
   ]
  },
  {
   "cell_type": "code",
   "execution_count": 14,
   "metadata": {},
   "outputs": [
    {
     "ename": "RuntimeError",
     "evalue": "INDICES element is out of DATA bounds, id=4 axis_dim=4",
     "output_type": "error",
     "traceback": [
      "\u001b[0;31m---------------------------------------------------------------------------\u001b[0m",
      "\u001b[0;31mRuntimeError\u001b[0m                              Traceback (most recent call last)",
      "Cell \u001b[0;32mIn[14], line 2\u001b[0m\n\u001b[1;32m      1\u001b[0m inds \u001b[38;5;241m=\u001b[39m torch\u001b[38;5;241m.\u001b[39mtensor([\u001b[38;5;241m1\u001b[39m, \u001b[38;5;241m3\u001b[39m, \u001b[38;5;241m4\u001b[39m])\n\u001b[0;32m----> 2\u001b[0m \u001b[43mx\u001b[49m\u001b[38;5;241;43m.\u001b[39;49m\u001b[43mindex_select\u001b[49m\u001b[43m(\u001b[49m\u001b[38;5;241;43m1\u001b[39;49m\u001b[43m,\u001b[49m\u001b[43m \u001b[49m\u001b[43minds\u001b[49m\u001b[43m)\u001b[49m\n",
      "\u001b[0;31mRuntimeError\u001b[0m: INDICES element is out of DATA bounds, id=4 axis_dim=4"
     ]
    }
   ],
   "source": [
    "inds = torch.tensor([1, 3, 4])\n",
    "x.index_select(1, inds)"
   ]
  },
  {
   "cell_type": "code",
   "execution_count": 17,
   "metadata": {},
   "outputs": [
    {
     "data": {
      "text/plain": [
       "(Parameter containing:\n",
       " tensor([[[ 0.0593,  0.2881],\n",
       "          [-0.1172,  0.3856],\n",
       "          [ 0.3556,  0.1064]],\n",
       " \n",
       "         [[ 0.0139,  0.3622],\n",
       "          [-0.3303, -0.3028],\n",
       "          [-0.2213, -0.2269]],\n",
       " \n",
       "         [[-0.3487, -0.0465],\n",
       "          [ 0.2822, -0.0413],\n",
       "          [-0.1009, -0.0081]],\n",
       " \n",
       "         [[ 0.1015, -0.1141],\n",
       "          [-0.1849, -0.2004],\n",
       "          [-0.2604, -0.3764]],\n",
       " \n",
       "         [[ 0.0411,  0.3473],\n",
       "          [-0.2646,  0.2422],\n",
       "          [-0.2797, -0.2754]]], requires_grad=True),\n",
       " Parameter containing:\n",
       " tensor([0.1624, 0.2841, 0.3526, 0.2781, 0.2666], requires_grad=True))"
      ]
     },
     "execution_count": 17,
     "metadata": {},
     "output_type": "execute_result"
    }
   ],
   "source": [
    "l = torch.nn.Conv1d(3, 5, 2)\n",
    "l.weight, l.bias"
   ]
  },
  {
   "cell_type": "code",
   "execution_count": 70,
   "metadata": {},
   "outputs": [
    {
     "ename": "IndexError",
     "evalue": "index out of range in self",
     "output_type": "error",
     "traceback": [
      "\u001b[0;31m---------------------------------------------------------------------------\u001b[0m",
      "\u001b[0;31mIndexError\u001b[0m                                Traceback (most recent call last)",
      "Cell \u001b[0;32mIn[70], line 1\u001b[0m\n\u001b[0;32m----> 1\u001b[0m \u001b[43ml\u001b[49m\u001b[38;5;241;43m.\u001b[39;49m\u001b[43mbias\u001b[49m\u001b[38;5;241;43m.\u001b[39;49m\u001b[43mindex_select\u001b[49m\u001b[43m(\u001b[49m\u001b[38;5;241;43m0\u001b[39;49m\u001b[43m,\u001b[49m\u001b[43m \u001b[49m\u001b[43mtorch\u001b[49m\u001b[38;5;241;43m.\u001b[39;49m\u001b[43mtensor\u001b[49m\u001b[43m(\u001b[49m\u001b[43m[\u001b[49m\u001b[38;5;241;43m1\u001b[39;49m\u001b[43m,\u001b[49m\u001b[43m \u001b[49m\u001b[38;5;241;43m2\u001b[39;49m\u001b[43m,\u001b[49m\u001b[43m \u001b[49m\u001b[38;5;241;43m7\u001b[39;49m\u001b[43m]\u001b[49m\u001b[43m)\u001b[49m\u001b[43m)\u001b[49m\n",
      "\u001b[0;31mIndexError\u001b[0m: index out of range in self"
     ]
    }
   ],
   "source": [
    "l.bias.index_select(0, torch.tensor([1, 2, 7]))"
   ]
  },
  {
   "cell_type": "code",
   "execution_count": 19,
   "metadata": {},
   "outputs": [
    {
     "data": {
      "text/plain": [
       "torch.Size([5, 3, 2])"
      ]
     },
     "execution_count": 19,
     "metadata": {},
     "output_type": "execute_result"
    }
   ],
   "source": [
    "l.weight.size()"
   ]
  },
  {
   "cell_type": "code",
   "execution_count": 23,
   "metadata": {},
   "outputs": [
    {
     "data": {
      "text/plain": [
       "tensor(True)"
      ]
     },
     "execution_count": 23,
     "metadata": {},
     "output_type": "execute_result"
    }
   ],
   "source": [
    "torch.full((), 77) == torch.tensor(77)"
   ]
  },
  {
   "cell_type": "code",
   "execution_count": 25,
   "metadata": {},
   "outputs": [
    {
     "data": {
      "text/plain": [
       "tensor([ 0,  1,  2,  3,  4,  5,  6,  7,  8,  9, 10, 11, 12, 13, 14, 15, 16, 17,\n",
       "        18, 19])"
      ]
     },
     "execution_count": 25,
     "metadata": {},
     "output_type": "execute_result"
    }
   ],
   "source": [
    "x = torch.arange(20)\n",
    "x"
   ]
  },
  {
   "cell_type": "code",
   "execution_count": 32,
   "metadata": {},
   "outputs": [
    {
     "data": {
      "text/plain": [
       "tensor([], dtype=torch.int64)"
      ]
     },
     "execution_count": 32,
     "metadata": {},
     "output_type": "execute_result"
    }
   ],
   "source": [
    "x[-5:5]"
   ]
  },
  {
   "cell_type": "code",
   "execution_count": 35,
   "metadata": {},
   "outputs": [
    {
     "data": {
      "text/plain": [
       "tensor([[0.1698, 0.6858, 0.8964, 0.8091, 0.9632],\n",
       "        [0.6114, 0.9482, 0.2565, 0.2160, 0.9927],\n",
       "        [0.7067, 0.4991, 0.5201, 0.0048, 0.8184],\n",
       "        [0.6011, 0.7674, 0.0509, 0.1306, 0.8765],\n",
       "        [0.4807, 0.2753, 0.3314, 0.7934, 0.7542]])"
      ]
     },
     "execution_count": 35,
     "metadata": {},
     "output_type": "execute_result"
    }
   ],
   "source": [
    "t = torch.rand((5, 5))\n",
    "t"
   ]
  },
  {
   "cell_type": "code",
   "execution_count": 37,
   "metadata": {},
   "outputs": [
    {
     "data": {
      "text/plain": [
       "tensor([[0.1698, 0.0000, 0.0000, 0.0000, 0.0000],\n",
       "        [0.6114, 0.9482, 0.0000, 0.0000, 0.0000],\n",
       "        [0.7067, 0.4991, 0.5201, 0.0000, 0.0000],\n",
       "        [0.6011, 0.7674, 0.0509, 0.1306, 0.0000],\n",
       "        [0.4807, 0.2753, 0.3314, 0.7934, 0.7542]])"
      ]
     },
     "execution_count": 37,
     "metadata": {},
     "output_type": "execute_result"
    }
   ],
   "source": [
    "t1 = torch.tril(t)\n",
    "t1"
   ]
  },
  {
   "cell_type": "code",
   "execution_count": 38,
   "metadata": {},
   "outputs": [
    {
     "data": {
      "text/plain": [
       "tensor([[0.1698, 0.0000, 0.0000, 0.0000],\n",
       "        [0.6114, 0.9482, 0.0000, 0.0000],\n",
       "        [0.7067, 0.4991, 0.5201, 0.0000]])"
      ]
     },
     "execution_count": 38,
     "metadata": {},
     "output_type": "execute_result"
    }
   ],
   "source": [
    "t1[:3, :4]"
   ]
  },
  {
   "cell_type": "code",
   "execution_count": 45,
   "metadata": {},
   "outputs": [
    {
     "data": {
      "text/plain": [
       "torch.return_types.topk(\n",
       "values=tensor([[0.9632, 0.8964],\n",
       "        [0.9927, 0.9482],\n",
       "        [0.8184, 0.7067],\n",
       "        [0.8765, 0.7674],\n",
       "        [0.7934, 0.7542]]),\n",
       "indices=tensor([[4, 2],\n",
       "        [4, 1],\n",
       "        [4, 0],\n",
       "        [4, 1],\n",
       "        [3, 4]]))"
      ]
     },
     "execution_count": 45,
     "metadata": {},
     "output_type": "execute_result"
    }
   ],
   "source": [
    "t.topk(2)"
   ]
  },
  {
   "cell_type": "code",
   "execution_count": 49,
   "metadata": {},
   "outputs": [
    {
     "data": {
      "text/plain": [
       "tensor([[0.0074, 0.9776, 0.0541, 0.8086, 0.1039],\n",
       "        [0.6737, 0.5848, 0.8657, 0.7908, 0.4491],\n",
       "        [0.9662, 0.0886, 0.9440, 0.5317, 0.6208]])"
      ]
     },
     "execution_count": 49,
     "metadata": {},
     "output_type": "execute_result"
    }
   ],
   "source": [
    "t = torch.rand((3, 5))\n",
    "t"
   ]
  },
  {
   "cell_type": "code",
   "execution_count": 54,
   "metadata": {},
   "outputs": [
    {
     "data": {
      "text/plain": [
       "tensor([[True]])"
      ]
     },
     "execution_count": 54,
     "metadata": {},
     "output_type": "execute_result"
    }
   ],
   "source": [
    "sz = 3\n",
    "sz = 1\n",
    "m = torch.tril(torch.ones((sz, sz), dtype=torch.bool))\n",
    "m"
   ]
  },
  {
   "cell_type": "code",
   "execution_count": 56,
   "metadata": {},
   "outputs": [
    {
     "data": {
      "text/plain": [
       "tensor([[-1., -1., -1., -1., -1.],\n",
       "        [-1., -1., -1., -1., -1.],\n",
       "        [-1., -1., -1., -1., -1.]])"
      ]
     },
     "execution_count": 56,
     "metadata": {},
     "output_type": "execute_result"
    }
   ],
   "source": [
    "t1 = t.clone()\n",
    "t1 = t1.masked_fill(m, -1)\n",
    "t1"
   ]
  },
  {
   "cell_type": "code",
   "execution_count": 65,
   "metadata": {},
   "outputs": [
    {
     "data": {
      "text/plain": [
       "tensor([[0.0074, 0.9776, 0.0541, 0.8086, 0.1039],\n",
       "        [0.6737, 0.5848, 0.8657, 0.7908, 0.4491],\n",
       "        [0.9662, 0.0886, 0.9440, 0.5317, 0.6208]])"
      ]
     },
     "execution_count": 65,
     "metadata": {},
     "output_type": "execute_result"
    }
   ],
   "source": [
    "t"
   ]
  },
  {
   "cell_type": "code",
   "execution_count": 68,
   "metadata": {},
   "outputs": [
    {
     "data": {
      "text/plain": [
       "tensor([[0.0074, 0.9776],\n",
       "        [0.9662, 0.0886],\n",
       "        [0.6737, 0.5848]])"
      ]
     },
     "execution_count": 68,
     "metadata": {},
     "output_type": "execute_result"
    }
   ],
   "source": [
    "inds = torch.tensor([0, 2, 1])\n",
    "t[inds, :2]"
   ]
  },
  {
   "cell_type": "code",
   "execution_count": 71,
   "metadata": {},
   "outputs": [
    {
     "data": {
      "text/plain": [
       "tensor([[0, 1],\n",
       "        [2, 3],\n",
       "        [4, 5],\n",
       "        [6, 7],\n",
       "        [8, 9]])"
      ]
     },
     "execution_count": 71,
     "metadata": {},
     "output_type": "execute_result"
    }
   ],
   "source": [
    "a = torch.arange(10).reshape(5, 2)\n",
    "a"
   ]
  },
  {
   "cell_type": "code",
   "execution_count": 75,
   "metadata": {},
   "outputs": [
    {
     "data": {
      "text/plain": [
       "(tensor([[0, 1],\n",
       "         [2, 3]]),\n",
       " tensor([[4, 5],\n",
       "         [6, 7],\n",
       "         [8, 9]]))"
      ]
     },
     "execution_count": 75,
     "metadata": {},
     "output_type": "execute_result"
    }
   ],
   "source": [
    "a.split((2, 3))"
   ]
  },
  {
   "cell_type": "code",
   "execution_count": 76,
   "metadata": {},
   "outputs": [
    {
     "data": {
      "text/plain": [
       "tensor([[[1., 1., 1., 1.],\n",
       "         [1., 1., 1., 1.],\n",
       "         [1., 1., 1., 1.]],\n",
       "\n",
       "        [[1., 1., 1., 1.],\n",
       "         [1., 1., 1., 1.],\n",
       "         [1., 1., 1., 1.]]])"
      ]
     },
     "execution_count": 76,
     "metadata": {},
     "output_type": "execute_result"
    }
   ],
   "source": [
    "t = torch.ones((2, 3, 4))\n",
    "t"
   ]
  },
  {
   "cell_type": "code",
   "execution_count": 79,
   "metadata": {},
   "outputs": [
    {
     "data": {
      "text/plain": [
       "(Parameter containing:\n",
       " tensor([[[ 0.3082],\n",
       "          [-0.5674],\n",
       "          [ 0.0346]],\n",
       " \n",
       "         [[-0.3134],\n",
       "          [ 0.4890],\n",
       "          [ 0.1158]]], requires_grad=True),\n",
       " Parameter containing:\n",
       " tensor([-0.5212, -0.4785], requires_grad=True))"
      ]
     },
     "execution_count": 79,
     "metadata": {},
     "output_type": "execute_result"
    }
   ],
   "source": [
    "c = torch.nn.Conv1d(3, 2, 1)\n",
    "c.weight, c.bias"
   ]
  },
  {
   "cell_type": "code",
   "execution_count": 80,
   "metadata": {},
   "outputs": [
    {
     "data": {
      "text/plain": [
       "tensor([[[-0.7457, -0.7457, -0.7457, -0.7457],\n",
       "         [-0.1871, -0.1871, -0.1871, -0.1871]],\n",
       "\n",
       "        [[-0.7457, -0.7457, -0.7457, -0.7457],\n",
       "         [-0.1871, -0.1871, -0.1871, -0.1871]]],\n",
       "       grad_fn=<ConvolutionBackward0>)"
      ]
     },
     "execution_count": 80,
     "metadata": {},
     "output_type": "execute_result"
    }
   ],
   "source": [
    "c(t)"
   ]
  },
  {
   "cell_type": "code",
   "execution_count": 81,
   "metadata": {},
   "outputs": [
    {
     "ename": "TypeError",
     "evalue": "conv1d() received an invalid combination of arguments - got (tuple, Parameter, Parameter, tuple, tuple, tuple, int), but expected one of:\n * (Tensor input, Tensor weight, Tensor bias, tuple of ints stride, tuple of ints padding, tuple of ints dilation, int groups)\n      didn't match because some of the arguments have invalid types: (!tuple of (Tensor, Tensor)!, !Parameter!, !Parameter!, !tuple of (int,)!, !tuple of (int,)!, !tuple of (int,)!, int)\n * (Tensor input, Tensor weight, Tensor bias, tuple of ints stride, str padding, tuple of ints dilation, int groups)\n      didn't match because some of the arguments have invalid types: (!tuple of (Tensor, Tensor)!, !Parameter!, !Parameter!, !tuple of (int,)!, !tuple of (int,)!, !tuple of (int,)!, int)\n",
     "output_type": "error",
     "traceback": [
      "\u001b[0;31m---------------------------------------------------------------------------\u001b[0m",
      "\u001b[0;31mTypeError\u001b[0m                                 Traceback (most recent call last)",
      "Cell \u001b[0;32mIn[81], line 1\u001b[0m\n\u001b[0;32m----> 1\u001b[0m \u001b[43mc\u001b[49m\u001b[43m(\u001b[49m\u001b[43m(\u001b[49m\u001b[43mt\u001b[49m\u001b[43m,\u001b[49m\u001b[43m \u001b[49m\u001b[43mt\u001b[49m\u001b[43m)\u001b[49m\u001b[43m)\u001b[49m\n",
      "File \u001b[0;32m~/miniconda3/envs/mllm/lib/python3.10/site-packages/torch/nn/modules/module.py:1511\u001b[0m, in \u001b[0;36mModule._wrapped_call_impl\u001b[0;34m(self, *args, **kwargs)\u001b[0m\n\u001b[1;32m   1509\u001b[0m     \u001b[38;5;28;01mreturn\u001b[39;00m \u001b[38;5;28mself\u001b[39m\u001b[38;5;241m.\u001b[39m_compiled_call_impl(\u001b[38;5;241m*\u001b[39margs, \u001b[38;5;241m*\u001b[39m\u001b[38;5;241m*\u001b[39mkwargs)  \u001b[38;5;66;03m# type: ignore[misc]\u001b[39;00m\n\u001b[1;32m   1510\u001b[0m \u001b[38;5;28;01melse\u001b[39;00m:\n\u001b[0;32m-> 1511\u001b[0m     \u001b[38;5;28;01mreturn\u001b[39;00m \u001b[38;5;28;43mself\u001b[39;49m\u001b[38;5;241;43m.\u001b[39;49m\u001b[43m_call_impl\u001b[49m\u001b[43m(\u001b[49m\u001b[38;5;241;43m*\u001b[39;49m\u001b[43margs\u001b[49m\u001b[43m,\u001b[49m\u001b[43m \u001b[49m\u001b[38;5;241;43m*\u001b[39;49m\u001b[38;5;241;43m*\u001b[39;49m\u001b[43mkwargs\u001b[49m\u001b[43m)\u001b[49m\n",
      "File \u001b[0;32m~/miniconda3/envs/mllm/lib/python3.10/site-packages/torch/nn/modules/module.py:1520\u001b[0m, in \u001b[0;36mModule._call_impl\u001b[0;34m(self, *args, **kwargs)\u001b[0m\n\u001b[1;32m   1515\u001b[0m \u001b[38;5;66;03m# If we don't have any hooks, we want to skip the rest of the logic in\u001b[39;00m\n\u001b[1;32m   1516\u001b[0m \u001b[38;5;66;03m# this function, and just call forward.\u001b[39;00m\n\u001b[1;32m   1517\u001b[0m \u001b[38;5;28;01mif\u001b[39;00m \u001b[38;5;129;01mnot\u001b[39;00m (\u001b[38;5;28mself\u001b[39m\u001b[38;5;241m.\u001b[39m_backward_hooks \u001b[38;5;129;01mor\u001b[39;00m \u001b[38;5;28mself\u001b[39m\u001b[38;5;241m.\u001b[39m_backward_pre_hooks \u001b[38;5;129;01mor\u001b[39;00m \u001b[38;5;28mself\u001b[39m\u001b[38;5;241m.\u001b[39m_forward_hooks \u001b[38;5;129;01mor\u001b[39;00m \u001b[38;5;28mself\u001b[39m\u001b[38;5;241m.\u001b[39m_forward_pre_hooks\n\u001b[1;32m   1518\u001b[0m         \u001b[38;5;129;01mor\u001b[39;00m _global_backward_pre_hooks \u001b[38;5;129;01mor\u001b[39;00m _global_backward_hooks\n\u001b[1;32m   1519\u001b[0m         \u001b[38;5;129;01mor\u001b[39;00m _global_forward_hooks \u001b[38;5;129;01mor\u001b[39;00m _global_forward_pre_hooks):\n\u001b[0;32m-> 1520\u001b[0m     \u001b[38;5;28;01mreturn\u001b[39;00m \u001b[43mforward_call\u001b[49m\u001b[43m(\u001b[49m\u001b[38;5;241;43m*\u001b[39;49m\u001b[43margs\u001b[49m\u001b[43m,\u001b[49m\u001b[43m \u001b[49m\u001b[38;5;241;43m*\u001b[39;49m\u001b[38;5;241;43m*\u001b[39;49m\u001b[43mkwargs\u001b[49m\u001b[43m)\u001b[49m\n\u001b[1;32m   1522\u001b[0m \u001b[38;5;28;01mtry\u001b[39;00m:\n\u001b[1;32m   1523\u001b[0m     result \u001b[38;5;241m=\u001b[39m \u001b[38;5;28;01mNone\u001b[39;00m\n",
      "File \u001b[0;32m~/miniconda3/envs/mllm/lib/python3.10/site-packages/torch/nn/modules/conv.py:310\u001b[0m, in \u001b[0;36mConv1d.forward\u001b[0;34m(self, input)\u001b[0m\n\u001b[1;32m    309\u001b[0m \u001b[38;5;28;01mdef\u001b[39;00m \u001b[38;5;21mforward\u001b[39m(\u001b[38;5;28mself\u001b[39m, \u001b[38;5;28minput\u001b[39m: Tensor) \u001b[38;5;241m-\u001b[39m\u001b[38;5;241m>\u001b[39m Tensor:\n\u001b[0;32m--> 310\u001b[0m     \u001b[38;5;28;01mreturn\u001b[39;00m \u001b[38;5;28;43mself\u001b[39;49m\u001b[38;5;241;43m.\u001b[39;49m\u001b[43m_conv_forward\u001b[49m\u001b[43m(\u001b[49m\u001b[38;5;28;43minput\u001b[39;49m\u001b[43m,\u001b[49m\u001b[43m \u001b[49m\u001b[38;5;28;43mself\u001b[39;49m\u001b[38;5;241;43m.\u001b[39;49m\u001b[43mweight\u001b[49m\u001b[43m,\u001b[49m\u001b[43m \u001b[49m\u001b[38;5;28;43mself\u001b[39;49m\u001b[38;5;241;43m.\u001b[39;49m\u001b[43mbias\u001b[49m\u001b[43m)\u001b[49m\n",
      "File \u001b[0;32m~/miniconda3/envs/mllm/lib/python3.10/site-packages/torch/nn/modules/conv.py:306\u001b[0m, in \u001b[0;36mConv1d._conv_forward\u001b[0;34m(self, input, weight, bias)\u001b[0m\n\u001b[1;32m    302\u001b[0m \u001b[38;5;28;01mif\u001b[39;00m \u001b[38;5;28mself\u001b[39m\u001b[38;5;241m.\u001b[39mpadding_mode \u001b[38;5;241m!=\u001b[39m \u001b[38;5;124m'\u001b[39m\u001b[38;5;124mzeros\u001b[39m\u001b[38;5;124m'\u001b[39m:\n\u001b[1;32m    303\u001b[0m     \u001b[38;5;28;01mreturn\u001b[39;00m F\u001b[38;5;241m.\u001b[39mconv1d(F\u001b[38;5;241m.\u001b[39mpad(\u001b[38;5;28minput\u001b[39m, \u001b[38;5;28mself\u001b[39m\u001b[38;5;241m.\u001b[39m_reversed_padding_repeated_twice, mode\u001b[38;5;241m=\u001b[39m\u001b[38;5;28mself\u001b[39m\u001b[38;5;241m.\u001b[39mpadding_mode),\n\u001b[1;32m    304\u001b[0m                     weight, bias, \u001b[38;5;28mself\u001b[39m\u001b[38;5;241m.\u001b[39mstride,\n\u001b[1;32m    305\u001b[0m                     _single(\u001b[38;5;241m0\u001b[39m), \u001b[38;5;28mself\u001b[39m\u001b[38;5;241m.\u001b[39mdilation, \u001b[38;5;28mself\u001b[39m\u001b[38;5;241m.\u001b[39mgroups)\n\u001b[0;32m--> 306\u001b[0m \u001b[38;5;28;01mreturn\u001b[39;00m \u001b[43mF\u001b[49m\u001b[38;5;241;43m.\u001b[39;49m\u001b[43mconv1d\u001b[49m\u001b[43m(\u001b[49m\u001b[38;5;28;43minput\u001b[39;49m\u001b[43m,\u001b[49m\u001b[43m \u001b[49m\u001b[43mweight\u001b[49m\u001b[43m,\u001b[49m\u001b[43m \u001b[49m\u001b[43mbias\u001b[49m\u001b[43m,\u001b[49m\u001b[43m \u001b[49m\u001b[38;5;28;43mself\u001b[39;49m\u001b[38;5;241;43m.\u001b[39;49m\u001b[43mstride\u001b[49m\u001b[43m,\u001b[49m\n\u001b[1;32m    307\u001b[0m \u001b[43m                \u001b[49m\u001b[38;5;28;43mself\u001b[39;49m\u001b[38;5;241;43m.\u001b[39;49m\u001b[43mpadding\u001b[49m\u001b[43m,\u001b[49m\u001b[43m \u001b[49m\u001b[38;5;28;43mself\u001b[39;49m\u001b[38;5;241;43m.\u001b[39;49m\u001b[43mdilation\u001b[49m\u001b[43m,\u001b[49m\u001b[43m \u001b[49m\u001b[38;5;28;43mself\u001b[39;49m\u001b[38;5;241;43m.\u001b[39;49m\u001b[43mgroups\u001b[49m\u001b[43m)\u001b[49m\n",
      "\u001b[0;31mTypeError\u001b[0m: conv1d() received an invalid combination of arguments - got (tuple, Parameter, Parameter, tuple, tuple, tuple, int), but expected one of:\n * (Tensor input, Tensor weight, Tensor bias, tuple of ints stride, tuple of ints padding, tuple of ints dilation, int groups)\n      didn't match because some of the arguments have invalid types: (!tuple of (Tensor, Tensor)!, !Parameter!, !Parameter!, !tuple of (int,)!, !tuple of (int,)!, !tuple of (int,)!, int)\n * (Tensor input, Tensor weight, Tensor bias, tuple of ints stride, str padding, tuple of ints dilation, int groups)\n      didn't match because some of the arguments have invalid types: (!tuple of (Tensor, Tensor)!, !Parameter!, !Parameter!, !tuple of (int,)!, !tuple of (int,)!, !tuple of (int,)!, int)\n"
     ]
    }
   ],
   "source": [
    "c((t, t))\n"
   ]
  },
  {
   "cell_type": "code",
   "execution_count": 82,
   "metadata": {},
   "outputs": [
    {
     "data": {
      "text/plain": [
       "tensor([[[-0.7457, -0.7457, -0.7457, -0.7457],\n",
       "         [-0.1871, -0.1871, -0.1871, -0.1871]],\n",
       "\n",
       "        [[-0.7457, -0.7457, -0.7457, -0.7457],\n",
       "         [-0.1871, -0.1871, -0.1871, -0.1871]]],\n",
       "       grad_fn=<ConvolutionBackward0>)"
      ]
     },
     "execution_count": 82,
     "metadata": {},
     "output_type": "execute_result"
    }
   ],
   "source": [
    "c.forward(t)"
   ]
  },
  {
   "cell_type": "code",
   "execution_count": 3,
   "metadata": {},
   "outputs": [
    {
     "name": "stdout",
     "output_type": "stream",
     "text": [
      "^\\w+\\-(\\d{8}_\\d{6})-.+$\n",
      "<re.Match object; span=(0, 52), match='encdec-20240718_221554-wiki_20200501_en-ch_100_fi>\n",
      "20240718_221554\n",
      "2024-07-18 22:15:54\n"
     ]
    }
   ],
   "source": [
    "import os\n",
    "from datetime import datetime\n",
    "import gzip\n",
    "from pathlib import Path\n",
    "import re\n",
    "\n",
    "DT_PAT = '%Y%m%d_%H%M%S'\n",
    "DT_PAT_RE = r'\\d{8}_\\d{6}'\n",
    "\n",
    "s = 'encdec-20240718_221554-wiki_20200501_en-ch_100_fixed'\n",
    "\n",
    "subdir_pat = r'^\\w+\\-(%s)-.+$' % DT_PAT_RE\n",
    "print(subdir_pat)\n",
    "pat = re.compile(r'^\\w+\\-(%s)-.+$' % DT_PAT_RE)\n",
    "m = pat.match(s)\n",
    "if m:\n",
    "    print(m)\n",
    "    dt_str = m.group(1)\n",
    "    print(dt_str)\n",
    "    dt = datetime.strptime(dt_str, DT_PAT)\n",
    "    print(dt)\n"
   ]
  },
  {
   "cell_type": "code",
   "execution_count": 10,
   "metadata": {},
   "outputs": [
    {
     "name": "stdout",
     "output_type": "stream",
     "text": [
      "1185869 Q0 D59221 1 -4.80433 IndriQueryLikelihood\n",
      "1185869 Q0 D59220 2 -4.92127 IndriQueryLikelihood\n",
      "1185869 Q0 D2192591 3 -5.05215 IndriQueryLikelihood\n",
      "1185869 Q0 D2777518 4 -5.05486 IndriQueryLikelihood\n",
      "1185869 Q0 D2371978 5 -5.07048 IndriQueryLikelihood\n",
      "1185869 Q0 D1186567 6 -5.09707 IndriQueryLikelihood\n",
      "1185869 Q0 D2510055 7 -5.1502 IndriQueryLikelihood\n",
      "1185869 Q0 D59219 8 -5.15332 IndriQueryLikelihood\n",
      "1185869 Q0 D1371943 9 -5.2028 IndriQueryLikelihood\n",
      "1185869 Q0 D1379540 10 -5.21803 IndriQueryLikelihood\n",
      "1185869 Q0 D2305872 11 -5.30554 IndriQueryLikelihood\n",
      "1185869 Q0 D899138 12 -5.31173 IndriQueryLikelihood\n",
      "1185869 Q0 D2422342 13 -5.3206 IndriQueryLikelihood\n",
      "1185869 Q0 D59228 14 -5.32493 IndriQueryLikelihood\n",
      "1185869 Q0 D2022152 15 -5.3397 IndriQueryLikelihood\n",
      "1185869 Q0 D262064 16 -5.34528 IndriQueryLikelihood\n",
      "1185869 Q0 D2089121 17 -5.36559 IndriQueryLikelihood\n",
      "1185869 Q0 D1964065 18 -5.37196 IndriQueryLikelihood\n",
      "1185869 Q0 D1611531 19 -5.38115 IndriQueryLikelihood\n",
      "1185869 Q0 D2286643 20 -5.3834 IndriQueryLikelihood\n",
      "1185869 Q0 D59227 21 -5.38383 IndriQueryLikelihood\n",
      "1185869 Q0 D1990926 22 -5.3915 IndriQueryLikelihood\n",
      "1185869 Q0 D3440909 23 -5.3915 IndriQueryLikelihood\n",
      "1185869 Q0 D59226 24 -5.39658 IndriQueryLikelihood\n",
      "1185869 Q0 D464904 25 -5.40401 IndriQueryLikelihood\n",
      "1185869 Q0 D2089122 26 -5.40553 IndriQueryLikelihood\n",
      "1185869 Q0 D1186561 27 -5.41771 IndriQueryLikelihood\n",
      "1185869 Q0 D2104433 28 -5.42885 IndriQueryLikelihood\n",
      "1185869 Q0 D3507979 29 -5.42926 IndriQueryLikelihood\n",
      "1185869 Q0 D1522419 30 -5.43271 IndriQueryLikelihood\n",
      "1185869 Q0 D1408497 31 -5.4343 IndriQueryLikelihood\n",
      "1185869 Q0 D2975155 32 -5.4376 IndriQueryLikelihood\n",
      "1185869 Q0 D2777517 33 -5.44017 IndriQueryLikelihood\n",
      "1185869 Q0 D2934317 34 -5.44117 IndriQueryLikelihood\n",
      "1185869 Q0 D830482 35 -5.44437 IndriQueryLikelihood\n",
      "1185869 Q0 D2675730 36 -5.45191 IndriQueryLikelihood\n",
      "1185869 Q0 D1833168 37 -5.46543 IndriQueryLikelihood\n",
      "1185869 Q0 D1749089 38 -5.46785 IndriQueryLikelihood\n",
      "1185869 Q0 D1552204 39 -5.48131 IndriQueryLikelihood\n",
      "1185869 Q0 D2314412 40 -5.48435 IndriQueryLikelihood\n",
      "1185869 Q0 D3224085 41 -5.48755 IndriQueryLikelihood\n",
      "1185869 Q0 D73174 42 -5.48763 IndriQueryLikelihood\n",
      "1185869 Q0 D2185689 43 -5.48819 IndriQueryLikelihood\n",
      "1185869 Q0 D469610 44 -5.49006 IndriQueryLikelihood\n",
      "1185869 Q0 D1090626 45 -5.49615 IndriQueryLikelihood\n",
      "1185869 Q0 D1668414 46 -5.50225 IndriQueryLikelihood\n",
      "1185869 Q0 D1994132 47 -5.50255 IndriQueryLikelihood\n",
      "1185869 Q0 D776513 48 -5.50639 IndriQueryLikelihood\n",
      "1185869 Q0 D1379539 49 -5.50833 IndriQueryLikelihood\n",
      "1185869 Q0 D3274020 50 -5.51452 IndriQueryLikelihood\n",
      "1185869 Q0 D2864595 51 -5.5153 IndriQueryLikelihood\n",
      "1185869 Q0 D1575035 52 -5.51615 IndriQueryLikelihood\n",
      "1185869 Q0 D1076174 53 -5.5167 IndriQueryLikelihood\n",
      "1185869 Q0 D73175 54 -5.51755 IndriQueryLikelihood\n",
      "1185869 Q0 D3319671 55 -5.52175 IndriQueryLikelihood\n",
      "1185869 Q0 D35132 56 -5.52179 IndriQueryLikelihood\n",
      "1185869 Q0 D59225 57 -5.52179 IndriQueryLikelihood\n",
      "1185869 Q0 D1606769 58 -5.52183 IndriQueryLikelihood\n",
      "1185869 Q0 D1907915 59 -5.52189 IndriQueryLikelihood\n",
      "1185869 Q0 D2272426 60 -5.52738 IndriQueryLikelihood\n",
      "1185869 Q0 D2314410 61 -5.52993 IndriQueryLikelihood\n",
      "1185869 Q0 D1939800 62 -5.53193 IndriQueryLikelihood\n",
      "1185869 Q0 D2689711 63 -5.53389 IndriQueryLikelihood\n",
      "1185869 Q0 D2449369 64 -5.53443 IndriQueryLikelihood\n",
      "1185869 Q0 D3037163 65 -5.53546 IndriQueryLikelihood\n",
      "1185869 Q0 D1522416 66 -5.53787 IndriQueryLikelihood\n",
      "1185869 Q0 D987961 67 -5.53813 IndriQueryLikelihood\n",
      "1185869 Q0 D622072 68 -5.53889 IndriQueryLikelihood\n",
      "1185869 Q0 D2422343 69 -5.5409 IndriQueryLikelihood\n",
      "1185869 Q0 D2109963 70 -5.54905 IndriQueryLikelihood\n",
      "1185869 Q0 D1563131 71 -5.55036 IndriQueryLikelihood\n",
      "1185869 Q0 D2137315 72 -5.55293 IndriQueryLikelihood\n",
      "1185869 Q0 D862549 73 -5.5534 IndriQueryLikelihood\n",
      "1185869 Q0 D1891342 74 -5.55355 IndriQueryLikelihood\n",
      "1185869 Q0 D882389 75 -5.55657 IndriQueryLikelihood\n",
      "1185869 Q0 D1072486 76 -5.55894 IndriQueryLikelihood\n",
      "1185869 Q0 D2159899 77 -5.55913 IndriQueryLikelihood\n",
      "1185869 Q0 D464903 78 -5.55979 IndriQueryLikelihood\n",
      "1185869 Q0 D236805 79 -5.56032 IndriQueryLikelihood\n",
      "1185869 Q0 D2085391 80 -5.56152 IndriQueryLikelihood\n",
      "1185869 Q0 D844140 81 -5.56183 IndriQueryLikelihood\n",
      "1185869 Q0 D1343848 82 -5.56253 IndriQueryLikelihood\n",
      "1185869 Q0 D2624245 83 -5.56494 IndriQueryLikelihood\n",
      "1185869 Q0 D1533391 84 -5.56587 IndriQueryLikelihood\n",
      "1185869 Q0 D1805861 85 -5.5685 IndriQueryLikelihood\n",
      "1185869 Q0 D50881 86 -5.56884 IndriQueryLikelihood\n",
      "1185869 Q0 D1768840 87 -5.57191 IndriQueryLikelihood\n",
      "1185869 Q0 D435003 88 -5.57293 IndriQueryLikelihood\n",
      "1185869 Q0 D2219882 89 -5.57509 IndriQueryLikelihood\n",
      "1185869 Q0 D2217424 90 -5.57535 IndriQueryLikelihood\n",
      "1185869 Q0 D695542 91 -5.57593 IndriQueryLikelihood\n",
      "1185869 Q0 D35137 92 -5.57626 IndriQueryLikelihood\n",
      "1185869 Q0 D1895481 93 -5.5789 IndriQueryLikelihood\n",
      "1185869 Q0 D1451325 94 -5.57934 IndriQueryLikelihood\n",
      "1185869 Q0 D960040 95 -5.58215 IndriQueryLikelihood\n",
      "1185869 Q0 D968614 96 -5.58239 IndriQueryLikelihood\n",
      "1185869 Q0 D2376792 97 -5.58398 IndriQueryLikelihood\n",
      "1185869 Q0 D1219200 98 -5.5857 IndriQueryLikelihood\n",
      "1185869 Q0 D2453029 99 -5.5857 IndriQueryLikelihood\n",
      "1185869 Q0 D1749087 100 -5.58602 IndriQueryLikelihood\n",
      "1185868 Q0 D59232 1 -5.21626 IndriQueryLikelihood\n",
      "1185868 Q0 D59234 2 -5.22295 IndriQueryLikelihood\n",
      "1185868 Q0 D59237 3 -5.35649 IndriQueryLikelihood\n",
      "1185868 Q0 D59236 4 -5.38398 IndriQueryLikelihood\n",
      "1185868 Q0 D59235 5 -5.41515 IndriQueryLikelihood\n"
     ]
    }
   ],
   "source": [
    "msmarco_ds_path = Path(os.path.expandvars('$HOME')) / 'data' / 'msmarco'\n",
    "def topl(fname: str, n_lines: int = 100):\n",
    "    fpath = msmarco_ds_path / fname\n",
    "    open_fn = gzip.open if fpath.suffix == '.gz' else open\n",
    "    with open_fn(fpath, 'rt', encoding='utf8') as f:\n",
    "        for _ in range(n_lines):\n",
    "            l = f.readline()\n",
    "            print(l.rstrip())\n",
    "\n",
    "topl('msmarco-doctrain-top100.gz', 105)"
   ]
  },
  {
   "cell_type": "code",
   "execution_count": 16,
   "metadata": {},
   "outputs": [
    {
     "name": "stdout",
     "output_type": "stream",
     "text": [
      "3 0 D312959 1\n",
      "5 0 D140227 1\n",
      "12 0 D213890 1\n",
      "15 0 D1033338 1\n",
      "16 0 D508131 1\n",
      "18 0 D2286511 1\n",
      "24 0 D69114 1\n",
      "26 0 D1350520 1\n",
      "31 0 D304123 1\n",
      "42 0 D1439360 1\n"
     ]
    }
   ],
   "source": [
    "topl('msmarco-doctrain-qrels.tsv.gz', 10)"
   ]
  },
  {
   "cell_type": "code",
   "execution_count": 13,
   "metadata": {},
   "outputs": [
    {
     "name": "stdout",
     "output_type": "stream",
     "text": [
      "D1555982\thttps://answers.yahoo.com/question/index?qid=20071007114826AAwCFvR\tThe hot glowing surfaces of stars emit energy in the form of electromagnetic radiation.?\tScience & Mathematics Physics The hot glowing surfaces of stars emit energy in the form of electromagnetic radiation.? It is a good approximation to assume that the emissivity e is equal to 1 for these surfaces. Find the radius of the star Rigel, the bright blue star in the constellation Orion that radiates energy at a rate of 2.7 x 10^32 W and has a surface temperature of 11,000 K. Assume that the star is spherical. Use σ =... show more Follow 3 answers Answers Relevance Rating Newest Oldest Best Answer: Stefan-Boltzmann law states that the energy flux by radiation is proportional to the forth power of the temperature: q = ε · σ · T^4 The total energy flux at a spherical surface of Radius R is Q = q·π·R² = ε·σ·T^4·π·R² Hence the radius is R = √ ( Q / (ε·σ·T^4·π) ) = √ ( 2.7x10+32 W / (1 · 5.67x10-8W/m²K^4 · (1100K)^4 · π) ) = 3.22x10+13 m Source (s):http://en.wikipedia.org/wiki/Stefan_bolt...schmiso · 1 decade ago0 18 Comment Schmiso, you forgot a 4 in your answer. Your link even says it: L = 4pi (R^2)sigma (T^4). Using L, luminosity, as the energy in this problem, you can find the radius R by doing sqrt (L/ (4pisigma (T^4)). Hope this helps everyone. Caroline · 4 years ago4 1 Comment (Stefan-Boltzmann law) L = 4pi*R^2*sigma*T^4 Solving for R we get: => R = (1/ (2T^2)) * sqrt (L/ (pi*sigma)) Plugging in your values you should get: => R = (1/ (2 (11,000K)^2)) *sqrt ( (2.7*10^32W)/ (pi * (5.67*10^-8 W/m^2K^4))) R = 1.609 * 10^11 m? · 3 years ago0 1 Comment Maybe you would like to learn more about one of these? Want to build a free website? Interested in dating sites? Need a Home Security Safe? How to order contacts online?\n",
      "D301595\thttp://childparenting.about.com/od/physicalemotionalgrowth/tp/Child-Development-Your-Eight-Year-Old-Child.htm\tDevelopmental Milestones and Your 8-Year-Old Child\t\"School-Age Kids Growth & Development Developmental Milestones and Your 8-Year-Old Child8-Year-Olds Are Expanding Their Worlds By Katherine Lee | Reviewed by Joel Forman, MDUpdated February 10, 2018Share Pin Email Print Eight-year-olds are becoming more confident about themselves and who they are. At age 8, your child will likely have developed some interests and hobbies and will know what he or she likes or doesn't like. At the same time, children this age are learning more about the world at large and are also better able to navigate social relationships with others more independently, with less guidance from parents. At home, 8-year-olds are able to tackle more complicated household chores and take on more responsibility for taking care of themselves, even helping out with younger siblings. In general, according to the CDC, these are some changes you may see in your child: Shows more independence from parents and family. Starts to think about the future. Understands more about his or her place in the world. Pays more attention to friendships and teamwork. Wants to be liked and accepted by friends.1 Behavior and Daily Routines Fabrice Le Rouge/Getty Images The 8-year-old's behavior and daily routines are shaped by the child's taste, interests, and personality. Parents and other significant adults in the child's life should keep in mind the importance of being good role models since this is a time when children are figuring out the world and who they are and how they fit into it. At this age, your child may get involved with more complex social activities and behaviors that help define his or her sense of self. Effective discipline techniques at this age include continuing to praise good behavior, focusing your child's efforts, what they can do and change, rather than innate traits (such as \"\"you are smart\"\"). Set up and enforce consistent rules. Discipline should be aimed at guiding your child rather than punishing. Follow it with a discussion with your child about what she could do differently next time. Your 8-year-old can do more self-care in regards to hygiene and may begin to want to be part of deciding what the family eats. You might begin to give your child chores to contribute to the maintenance of the household and an allowance to begin to learn to manage money. At this age, your child still needs 10 to 11 hours of sleep per night.2 Physical Development Image Source/Getty Images For 8-year-old children, physical development will continue to be more about refinement of skills, coordination, and muscle control rather than huge changes. They begin to look like \"\"big kids,\"\" but puberty is still a couple of years away for most of them. Children with natural athletic potential may show their abilities at this developmental stage as their physical skills become more precise and accurate. In fact, this is often the age at which children decide whether they are athletic or not, and choose to participate in or avoid sports. Either way, it's important for parents to encourage physical activity. Even if your child isn't an athlete she can still enjoy running, swimming, biking, and many other types of non-sports-related physical fun.3 Emotional Development John Howard/Getty Images Eight-year-old emotional development may be growing at a deeper level than in younger years, and an 8-year-old may show more sophisticated and complex emotions and interactions. For instance, an 8-year-old may mask true thoughts or emotions to spare someone else's feelings or work through a problem without an adult's close supervision or intervention. This is the time when your child may be developing a more sophisticated sense of himself in the world. Her interests, talents, friends, and relationship with family all help her to establish a clear self-identity. It's also the beginning of desiring privacy and flip-flopping between self-confidence and self-doubt. It can be a good time to help your child develop patience and empathy for others.4 Cognitive Development Tom Merton/Getty Images Eight-year-old children are at a stage of intellectual development where they will be able to pay attention for longer periods of time. You can expect your child to be able to concentrate on an activity for up to an hour or more. Eight-year-olds will also be able to think more critically and express opinions using more complex and sophisticated vocabulary and language skills.5 Social Development Christopher Futcher/Getty Images This is the phase of social development where many children love being a part of sports teams and other social groups. In general, 8-year-old children enjoy school and will count on and value relationships with a few close friends and classmates. Parents of 8-year-olds should be on the lookout for problems such as school refusal, as this may indicate learning difficulties or being bullied at school. It is also a good age at which to discuss respecting others.6 What If My Child Is Different? Developmental milestones provide professionals and parents with a tool for comparing children to a norm. No child fits the ideal norm perfectly, and each child will have his or her personal quirks, strengths, challenges, and preferences. With that said, however, if you feel your child is far behind or ahead of the norm, it's well worth discussing the issue with your pediatrician and your child's teacher. If there are issues or opportunities, now is the time to learn about and address them. A Word From Verywell Your 8-year-old is in the full bloom of childhood. Enjoy activities and explore the world together. It's a great time to spark new interests in your child and watch her grow in every way. Sources: Anthony, Michelle. The emotional lives of 8-10-year-olds. Scholastic Publishing. Chaplin TM, Aldao A. Gender differences in emotion expression in children: A meta-analytic review Psychological Bulletin. 2013;139 (4):735-765. doi:10.1037/a0030737. Middle childhood. CDC. \"\n",
      "D1359209\thttp://visihow.com/Check_for_Lice_Nits\tCheck for Lice Nits\t\"Check for Lice Nits Edited by Mian Sheilette Ong, Eng, Lynn, Nuance and 1 other8 Parts: Everything About Head Lice, Eggs, and Nits How to Check for Head Lice, Nits, and Eggs Symptoms of Pubic Lice Symptoms of Body Lice Treatment for Body Lice Alternative Method For Removing Lice Without Harsh Chemicals Tips, Tricks and Warnings Comments Personal hygiene is a priority for everyone. With excellent personal hygiene, you will be able to carry yourself well anywhere at any given time. It will also show that you take good care of yourself. Was this helpful? Yes| No| I need help Ad Everything About Head Lice, Eggs, and Nits Even if you have excellent hygiene, ectoparasites such as lice, can strike. Most often, your child brings it home from school. If you become afflicted with such parasites, you must act quickly and make sure you are thorough in your efforts to get rid of them. Was this helpful? Yes| No| I need help Lice are wingless and very tiny. They infest your scalp and other body areas such as the pubic and armpit regions. Adult lice lay eggs. When the eggs hatch, they leave shells behind. These shells are called nits. When you see these nits on your scalp or on any area of the body, it is a neon sign of a lice infestation. You should know how to check for lice nits if you want to have a parasite-free body and scalp. It will definitely make you more confident when mingling with other people. Yes, it may be tedious and laborious, but this will help ensure a healthier lifestyle. Was this helpful? Yes| No| I need help A Basic Description of Lice Recognize lice. You should definitely know how to recognize lice. These are wingless, tiny arthropods (six-legged invertebrates) that reside on your scalp. Lice are ectoparasites that rely on your blood to survive. They are about the size of a sesame seed. Lice are like mosquitoes, but instead of flying, they do best with crawling. You can get lice by being in direct contact with someone infested with head lice. Another way would be to share items such as headbands, clips, combs, or hats. Was this helpful? Yes| No| I need help Eggs The female head lice lay eggs. These eggs are almost invisible to the naked eye because they're tiny and they blend into the color of your hair. Female head lice usually lay their eggs on the hair shafts near the hair roots. They attach with an adhesive that's naturally waterproof. That is why they cannot be blown or washed away. Was this helpful? Yes| No| I need help By the time the head lice eggs hatch, they leave empty eggshells behind. These are called nits. You could confuse nits with hairspray flakes, sand, or dandruff. Like the lice eggs, nits still have their adhesives so they cannot be removed that easily. Nits differ in coloration (brownish yellow, white). As the hair grows, the attached nits are found away from the roots. Since nits are indications of lice infestation, many schools do not admit children who have them. It is important for parents to check their children's heads for nits and eggs on a regular basis so that lice treatment could be performed immediately. Removing nits and lice eggs takes patience and a fine-toothed comb. Was this helpful? Yes| No| I need help Life Cycle of Head Lice Head lice have three phases in their life cycle (40-50 days):1 Egg phase. The mature female lays eggs that are coated with an adhesive. This adhesive is effective for attaching the eggs to the hair shafts near the hair roots. The newly hatched head lice will hatch after 10 days. Was this step helpful? Yes| No| I need help2 Nymph phase. A nymph comes out of the head lice egg. They are not that easy to see. Nymphs cannot reproduce yet because they don't have a fully developed reproductive system yet. It takes 12 days for lice nymphs to mature. Was this step helpful? Yes| No| I need help3 Adult phase. This is the phase where the nymphs are finally mature enough to produce and lay eggs. Once they are sexually mature, they can lay four to 10 eggs every day. The life of adult head lice lasts about 28 days. Don't panic, but about 280 lice eggs could be laid by one mature female before she dies. Was this step helpful? Yes| No| I need help How to Check for Head Lice, Nits, and Eggs You can tell if there is a head lice infestation when the suspected host itches all the time. Oftentimes, children scratch their heads, nape, or behind the ears. Red bumps or small wounds might also be present in these areas. Once you notice itching or bumps, immediately check your child's head. There could already be a head lice outbreak in their school. You can check for head lice, nits, and eggs by using the following steps: Was this helpful? Yes| No| I need help First Check For Lice1 Choose a relaxing place. Select a comfortable area for head lice checking. You should position your child seated in front of you. This will allow you to check all over your child's head conveniently. Do not do this on furniture that's upholstered, as lice may end up there. Go for a kitchen chair instead...you might even want to do this on the back deck. Was this step helpful? Yes| No| I need help2 Make sure there is natural light. It should be bright enough so you could detect the nits. The tiny adult lice do move quickly so you have to have appropriate lighting to see them. Head lice eggs are translucent. Moving the light around or moving under the light helps pinpoint them. Was this step helpful? Yes| No| I need help3 Fully examine the scalp. Part areas of hair and look closely at the scalp, the area behind the ears, and the nape. Was this step helpful? Yes| No| I need help The Wet Hair Technique Detecting head lice, eggs, and nits can be done by combing the hair with a fine-toothed comb. This method takes 5-15 minutes, depending on the thickness and the length of the hair. This can also be used as part of the treatment. Was this helpful? Yes| No| I need help1 Wash the hair with regular shampoo. Was this step helpful? Yes| No| I need help2 Rinse the hair thoroughly and apply regular conditioner. Use three times the amount you usually use and do not rinse it out of the hair. This makes it really easy to comb. Was this step helpful? Yes| No| I need help3 Use a regular comb to remove tangles. Was this step helpful? Yes| No| I need help4 Get a fine-toothed comb or a detection comb. There are detection combs that come with or without prescriptions, available at any drug store. Was this step helpful? Yes| No| I need help5 Comb the hair using the detection comb. Make sure that it touches the scalp and reaches the tips of the hair. Was this step helpful? Yes| No| I need help6 Work the entire head. Was this step helpful? Yes| No| I need help7 Look at the comb and check for lice, nits, and eggs. Was this step helpful? Yes| No| I need help8 If there are lice, nits, or eggs in the comb, wash it thoroughly first before running it through the hair again. Was this step helpful? Yes| No| I need help9 Continue this process over the entire head. Was this step helpful? Yes| No| I need help10 Rinse off the conditioner . Repeat the combing process to make sure every area is dealt with. Was this step helpful? Yes| No| I need help Dry Hair Technique This only takes about 3-5 minutes, depending on the hair's thickness. This is not effective for treating lice, only detecting it.1 Use an ordinary comb to untangle and straighten dry hair. Was this step helpful? Yes| No| I need help2 Use the detection comb as soon as the tangles are removed. Was this step helpful? Yes| No| I need help3 Start combing from the hair base to the hair tips. Do this about three to four times before combing the next area. Was this step helpful? Yes| No| I need help4 Examine the detection comb for lice, nits, and eggs. Was this step helpful? Yes| No| I need help5 If there are any lice, nits or eggs in the comb, rinse the comb and dry it thoroughly before using it again. Was this step helpful? Yes| No| I need help6 Perform the process until every portion of the hair is cleared. Was this step helpful? Yes| No| I need help Symptoms of Pubic Lice Pubic lice can also be acquired. This is spread through sexual intercourse. If a sexual partner detects pubic lice infestation in his or her own pubic area, both sexual partners should be treated to avoid spreading the parasites again. Pubic lice are usually grey or brown. They can be acquired from infested clothes, bedding, and towels. Pubic lice look like tiny crabs and that's why they are also known as \"\"crabs\"\". These are the symptoms you have to watch out for: Was this helpful? Yes| No| I need help1 Grey dots or brown dots present on the skin near or on the pubic area. Was this step helpful? Yes| No| I need help2 Intense level of itching. Was this step helpful? Yes| No| I need help3 White eggs on the pubic hair shafts, very close to the roots. Was this step helpful? Yes| No| I need help4 Pubic lice can also be present on the hair shafts of hair that grow on your underarms, trunk, and thighs. They could even be present in mustaches and beards. Was this step helpful? Yes| No| I need help Treatment of Pubic Lice1 Use special lice shampoos that are formulated to kill pubic lice. These shampoos work on dry pubic hair. Just be careful not to let the shampoo get in contact with mucus areas such as the anus or the vagina. The shampoo could burn or irritate the mucus areas. Leave the shampoo for on to 10 minutes. Was this step helpful? Yes| No| I need help2 Pour on enough warm water to lather the shampoo up. Was this step helpful? Yes| No| I need help3 Rinse the area thoroughly. Was this step helpful? Yes| No| I need help4 If the patient has a hairy pubic area, a detection comb should be used to check for head lice, nits, and eggs. Was this step helpful? Yes| No| I need help5 Rinse thoroughly. Was this step helpful? Yes| No| I need help6 Wash all clothes, sheets, undergarments, and towels using warm water for 20 minutes. This will ensure the death of the crabs. Was this step helpful? Yes| No| I need help7 Perform another treatment after seven to 10 days of the first treatment to get rid of the newly hatched pubic lice. Was this step helpful? Yes| No| I need help8 You might want to consider shaving the public hair to the skin, but don't do it anytime near the special shampoo. You really don't want that stuff absorbing into your skin. Was this step helpful? Yes| No| I need help Symptoms of Body Lice Body lice move to your skin to feed and then return to the seams of your clothes. They lay their eggs in the seams. Home lice sprays can be used to kill the adult lice, nits, and eggs. Spray them on non-washable objects, vehicle interiors, furniture, and mattresses. Was this helpful? Yes| No| I need help Treatment for Body Lice After ridding your body of lice, wash all linens, coats, scarves, hats (washable ones), towels, and garments using hot water. Use high heat in drying them for about 20 minutes. If the items are non-washable, have them dry-cleaned. Was this helpful? Yes| No| I need help Personal hygiene is important and checking for lice nits is a very significant part of it. Be vigilant in preventing this infestation so that you could have a lice-free, healthy lifestyle. Alternative Method For Removing Lice Without Harsh Chemicals This is an effective way to remove lice and nits from your child's hair, without the use of any dangerous chemicals. If you've got longer hair, tie it up while you're doing this process...just to be safer. Was this helpful? Yes| No| I need help What You'll Need Conditioner. Get a bottle or jar of thick conditioner - doesn't have to be expensive. Shampoo. Two towels. Four clips to hold hair out of your way. Plastic bag that will fit over the affected person's head. Fine-toothed comb. Blow dryer. Flat iron. This isn't a clothes iron, but like a curling iron, but flat. Girls use it to straighten their hair. Was this helpful? Yes| No| I need help Instructions For Dealing With Lice1 Put on your gloves. Was this step helpful? Yes| No| I need help2 Put a towel around the neck of the person you're helping. Was this step helpful? Yes| No| I need help3 Work with dry hair that has been combed to remove tangles. Was this step helpful? Yes| No| I need help4 Part the hair into four sections. Was this step helpful? Yes| No| I need help5 Smother them. Starting in the first section, from the nap of the neck, part the hair in ½ inch sections, putting a big dollop of conditioner at the roots. Make the next parting, more conditioner, and so on. Was this step helpful? Yes| No| I need help6 Remove the clip each time you start a new section. Was this step helpful? Yes| No| I need help7 You'll actually see the critters crawling out of your way, and by the time you get to the front - where the bangs are, you'll see them all huddling. Was this step helpful? Yes| No| I need help8 Smother the roots with conditioner. Was this step helpful? Yes| No| I need help9 Now add tons of conditioner until the entire head is covered thickly with the conditioner. Was this step helpful? Yes| No| I need help10 Place the plastic bag over the head, only covering the hair, and clip to secure. Was this step helpful? Yes| No| I need help11 Spend a half an hour holding the blow dryer on high heat, all over the head. Make sure you don't spend too long in one place, as you might burn the person you're treating. Was this step helpful? Yes| No| I need help12 Take off the bag, and lean them over a sink or the tub. Comb the hair over and over - with the conditioner still in the hair. The comb should move fairly easily through the hair. As you comb, you'll see dead lice coming out of the hair. Comb and comb and comb. Was this step helpful? Yes| No| I need help13 Shampoo the hair - twice. Was this step helpful? Yes| No| I need help14 Clean up half way through . Throw away the gloves and the plastic bag. Put them into another plastic bag, tie it, and put it right outside in the garbage. Wash the comb and clips carefully. Put the towel you've used straight into the washer. Was this step helpful? Yes| No| I need help Instructions For Dealing With The Nits Now you've killed the lice, but you still have the nits to deal with.1 Heat up the flat iron. Was this step helpful? Yes| No| I need help2 Dry the hair completely - it cannot even be damp. Was this step helpful? Yes| No| I need help3 Section the hair the same way you did for the conditioner. Was this step helpful? Yes| No| I need help4 One section at a time - starting from the nap of the neck, iron each section of hair with the flat iron trying to get close to the scalp, but taking great care not to burn your child - or whomever you're helping. The heat of the iron will kill the nits. Was this step helpful? Yes| No| I need help5 When you're done, comb the hair. Was this step helpful? Yes| No| I need help6 Shampoo the hair and condition. Was this step helpful? Yes| No| I need help7 Keep your fingers crossed that your child or friend is now lice-free. Was this step helpful? Yes| No| I need help Tips, Tricks and Warnings Do not share personal items such as combs, underwear, and towels with other people. Choose a reputable hotel when traveling. Always remember - smother the lice - get the nits with heat. If you have problems with any of the steps in this article, please ask a question for more help, or post in the comments section below. Comments Visi How welcomes all comments. If you do not want to be anonymous, register or log in. It is free. Article Info Categories : Health & Wellness Recent edits by: Nuance, Lynn, Eng Share this Article: Discuss Print Email Edit Send fan mail to authors \"\n",
      "D2147834\thttp://www.nytimes.com/2010/01/05/business/global/05tower.html\tDubai Opens a Tower to Beat All\tGlobal Business Dubai Opens a Tower to Beat All By LANDON THOMAS Jr. JAN. 4, 2010A visitor gets a view of Dubai from the 124th floor of Burj Khalifa, the world’s tallest building, on Monday. Ali Haider/European Pressphoto Agency Burdened by debt and a devastating real estate crash, Dubai is doing what it does best: doubling down. Just one month after a close brush with bankruptcy, Dubai celebrated the opening of the world’s tallest building on Monday — a rocket-shaped edifice that soars 2,717 feet and has views that reach 60 miles. The glittering celebration may have been an attempt by Dubai’s ruler, Sheik Mohammed bin Rashid al-Maktoum, to shift the focus from Dubai’s current economic troubles to a future filled with more promise. All the same, the tower’s success by no means signals a recovery in Dubai’s beaten-down real estate market, where prices have collapsed by as much as 50 percent and many developers are having trouble finding occupants for their buildings. With its mix of nightclubs, mosques, luxury suites and boardrooms, the Burj is an almost perfect representation of Dubai’s own complexities and contradictions. It will have the world’s first Armani hotel; the world’s highest swimming pool, on the 76th floor; the highest observation deck, on the 124th floor; and the highest mosque, on the 158th floor. Related Coverage The World’s Tallest Building JAN. 4, 2010Fireworks Greet Tallest Skyscraper But in deciding to change the tower’s name from Burj Dubai to Burj Khalifa, in honor of the president of the United Arab Emirates, Sheik Khalifa bin Zayed al-Nahyan, Dubai revealed a rare streak of humility consistent with its diminished economic condition. Once the most proudly autonomous of Arab Emirates, Dubai has found that its financial troubles have made it more dependent on Abu Dhabi and more likely to be drawn closer into the federation.“Dubai not only has the world’s tallest building, but has also made what looks like the most expensive naming rights deal in history,” said Jim Krane, the author of “City of Gold: Dubai and the Dream of Capitalism.” “Renaming the Burj Dubai after Sheik Khalifa of Abu Dhabi — if not an explicit quid pro quo — is a down payment on Dubai’s gratitude for its neighbor’s $10 billion bailout last month.”The opening festivities had the feel of a national holiday, with fireworks, parachute jumps and shooting streams of water from the world’s tallest fountain. At a cost estimated at $1.5 billion, the Burj took five years to build, is more than 160 floors high and has comfortably surpassed the previous record holder in Taiwan, the Taipei 101. More than 12,000 people will occupy its six million square feet, zooming up and down in 54 elevators that can reach speeds of 40 miles an hour. It was designed by Skidmore, Owings & Merrill in Chicago. At a time when several of Dubai’s newly built office towers stand empty, it is 90 percent sold, according to the building’s developer, Emaar Properties. To be sure, some have questioned the utility of such a towering project. At least three foreign workers died during the construction. And at a time of increasing concerns over global terrorism, such a building could pose an inviting target. The Burj Khalifa was named in honor of the president of Abu Dhabi. Charles Crowell/Bloomberg News But to Dubai, which from its very beginning has taken pleasure in proving its doubters wrong, the Burj is evidence that if you build it big and brash enough the people will come, from near and far. With its strong government backing and unquestioned prestige, the Burj was a project that was destined to succeed and its developer, Emaar, had little difficulty in attracting residents — particularly since much of the space was sold several years ago in the middle of Dubai’s real estate frenzy. Other projects, however, have not been so lucky. One is the Omniyat Bayswater, a 24-story office building that stands less than half a mile from the Burj. It opened six months ago and remains more than 50 percent vacant. Sign up for the all-new Deal Book newsletter Our columnist Andrew Ross Sorkin and his Times colleagues help you make sense of major business and policy headlines — and the power-brokers who shape them. Sign Up You agree to receive occasional updates and special offers for The New York Times's products and services. See Sample Privacy Policy Opt out or contact us anytime Aimed to be the flagship structure of an ambitious development project in an area by the sea called Business Bay, Omniyat Bayswater has been unable to attract tenants as a consequence of the current real estate crisis. But its struggle speaks to a larger truth behind the Dubai real estate bubble which, despite the excitement over the Burj, could well forestall a meaningful recovery. Like many office projects developed four or five years ago, the peak years of Dubai’s expansion, the Omniyat Bayswater is plagued by splintered ownership. It is estimated to have more than 50 landlords — more than two per floor — with some trying to lease office suites as small as 1,000 square feet. A spokesman for Omniyat said that the developer recognized the problem of multiple owners, and had taken steps to address it and expected to see whole floors leased by the second quarter of this year. At a time when selling real estate was like handing out candy to children, the development model of selling to many owners, known as strata title, became a quick and easy way to finance building projects. Speculators from around the world were clamoring for the smallest slice of Dubai property. But with the crash, the building’s ownership structure has made it extremely difficult to sell or lease a floor or two to foreign companies seeking to expand.“There has been a difficulty in creating a collective of owners,” said Nick Maclean of the real estate firm CB Richard Ellis in Dubai. “The majority of the building is empty.”Few offers have been made for space in buildings under strata title, which is estimated to cover about two-thirds of the new buildings opening this year and 70 percent of those opening in 2011. Without government action, office vacancy rates could rise as high as 40 percent, according to real estate analysts. As for the effect the Burj will have on the overall market, Mr. Maclean said that its opening, while heartening, was unlikely to prompt an immediate turn around in the market.“It is a unique building and symbolically important but it is not going to stimulate demand,” he said. Correction: January 7, 2010An article on Tuesday about the opening of the world’s tallest building, the Burj Khalifa in Dubai, misstated the position of Sheik Khalifa bin Zayed al-Nahyan, for whom the tower is named. He is president of the United Arab Emirates, not of Abu Dhabi. (He is emir of Abu Dhabi.) The error also appeared in a picture caption accompanying the article and was repeated in an editorial on Wednesday. The editorial also misstated the beneficiary of a $10 billion loan from Abu Dhabi. It was the emirate of Dubai, not the United Arab Emirates. A version of this article appears in print on January 5, 2010, on Page B1 of the New York edition with the headline: Dubai Opens A Tower To Beat All. Order Reprints Today's Paper Subscribe\n",
      "D1568809\thttp://www.realtor.com/realestateandhomes-search/Coulterville_CA/pg-4\tCoulterville, CA Real Estate & Homes for Sale\tCoulterville, CA Real Estate & Homes for Sale40 Homes sorted by Relevant Listings×There are no homes in this area, so we've scouted surrounding areas to show you some. Try these nearby homes Multiple Listings found for 10283 Jalapa Way Listing 1 Listing 2Brokered by BERKSHIRE HATHAWAY HOMESERVICES-CALIFORNIA REALTY-SONORA24New$369,00010283 Jalapa Way , La Grange , CA 95329House for Sale3 bd 3 ba 2,100 sq ft 1.8 acres lot View details Contact Agent Brokered by homecoin21New$210,00014481 Buena Vista Ct , La Grange , CA 95329House for Sale2 bd 2 ba 1,440 sq ft 2.2 acres lot View details Contact Agent Multiple Listings found for 5448 Avenida Lugo NListing 1 Listing 2Brokered by Keller Williams Realty15Pending$72,0005448 Avenida Lugo N , La Grange , CA 95329Land10.2 acres lot View details Contact Agent Brokered by REMAX Diversified34Pending$325,0004141 La Grange Rd , La Grange , CA 95329House for Sale2 bd 3 ba 2,128 sq ft 7.8 acres lot View details Contact Agent Found 40 matching properties\n",
      "D3233725\thttp://www.akc.org/dog-breeds/dogo-argentino/care/\tDogo Argentino\tDogo Argentino Miscellaneous The Dogo Argentino is a pack-hunting dog, bred for the pursuit of big-game such as wild boar and puma, and possesses the strength, intelligence and quick responsiveness of a serious athlete. His short, plain and smooth coat is completely white, but a dark patch near the eye is permitted as long as it doesn't cover more than 10% of the head. Dog Breeds Dogo Argentinocompare this breed with any other breed/s of your choosing Personality: Loyal, trustworthy, and, above all else, courageous Energy Level: Somewhat Active; Dogos require vigorous exercise to stay at their physical and temperamental best Good with Children: Better with Supervision Good with other Dogs: With Supervision Shedding: Infrequent Grooming: Occasional Trainability: Responds Well Height: 24-27 inches (male), 23.5-26 inches (female)Weight: 80-100 pounds Life Expectancy: 9-15 years Barking Level: Barks When Necessarymeet the Dogo Argentino Did you know? The Dogo Argentino is also known as the Argentinian Mastiff. How similar are you? Find out!Breed History1995The Dogo Argentino was first recorded in the Foundation Stock Service. Breed Standard Learn more about the Dogo Argentino breed standard. Click Here Colors & Markings10Learn Moreat a Glance Energy & Sizemedium ENERGY & large size NATIONAL BREED CLUBThe Dogo Argentino Club Of America Find Dogo Argentino Puppiesthe Breed Standard Embed the breed standard on your site. Download the complete breed standard or club flier PDFs.01020304050607General Appearance Molossian normal type, mesomorphic and macrothalic, within the desirable proportions without gigantic dimensions. Its aspect is harmonic and vigorous due to its powerful muscles which stand out under the consistent and elastic skin adhered to the body through a not very lax subcutaneous tissue. It walks quietly but firmly, showing its intelligence and quick responsiveness and revealing by means of its movement its permanent happy natural disposition. Of a kind and loving nature, of a striking whiteness, its physical virtues turn it into a real athlete. Dogo Argentino Care Nutrition & Feeding Good nutrition for Dogo Argentinos is very important from puppyhood to their senior years. Read More Coat & Grooming The breed's coat needs only weekly brushing. Read More Exercise The Dogo Argentina is not a good choice for the novice owner. Read More Health Dogo Argentinos are generally a healthy breed. Read Moreget involved in Clubs & Events National Breed Clubthe Dogo Argentino Club of America Local Clubs Find the Local Clubs in your area. Meetups Explore meetups.com and see all of the local Dogo Argentinos in your area.breeds Similar to the Dogo Argentino Cane Corso Plott Rhodesian Ridgeback Great Dane Bullmastiffexplore Other Breeds By Dog Breed By Dog Group\n",
      "D1150618\thttps://www.usnetting.com/\tNetting the Highest Quality Safety Solutions\tNetting the Highest Quality Safety Solutions At US Netting we focus on three things: Quality, Safety, and Solutions . Since 1983 we've been dedicated to building the best custom nets and continue our tradition of quality today. Our products help our clients offer increased safety and utility to their employees, facilities, and customers. Each custom net is tailored to the requirements of the job, providing the exact solution the project requires, something stock size products from big box stores cannot supply. In addition, we also are an FAA Certified Repair Station #9NTR146D. See our aviation page for more info. Our team possesses a staunch devotion to fabricating the best nets available. We serve all types of customers, including private companies, consumers, television shows, production studios, and government agencies (US Army, Air Force, Marines, Coast Guard, National Guard, NASA). From Men in Black to NASA, our satisfied customer list is constantly growing. We are considered by many as the premier supplier and fabricator of custom nets. Additionally, our selection of stock and bulk net materials is unmatched in variety and quality. Shop our vast selection of products online day or night, or call us to have one of our engineers help produce the custom solution right for the job. Whether you are looking for a cargo net to lift 15 pounds or 100+ tons, a Kevlar™ reinforced net to protect personnel from possible shrapnel, or just a golf practice net for the backyard, we deliver the highest quality products. Our 25,000 square foot facility is located in Erie, Pennsylvania. We look forward to working with you to design the quality custom solution your project deserves. Paul Galla , President Recent Articles April 2, 2018Netting a Safe Spring. Spectator Safety a Top Priority for 2018 Spring Sports March 14, 2018Safety Netting and its use in Fall Protection, Debris Control and Construction. March 2, 2018Defender Gate and Net Upgrades - New Ratings January 23, 2018Dock Safety Solutions Aren’t Just for Loading Docks November 13, 2017Netting News 45 - Keeping Dinner Safe\n",
      "D1885729\thttp://www.ehow.com/how_8327605_kill-weeds-killing-plants.html\tHow to Kill Weeds Without Killing Plants\tWeeds invade lawns and gardens, robbing the good plants from valuable nutrients they need to grow. Weeds are never completely eradicated because their seeds fall into the soil and remain viable. By taking the time to remove the weeds, you will keep the other vegetation safe. Some steps will help you keep many of the weeds from coming back into the garden. Things You'll Need Gardening gloves Pre-emergent herbicide Selective herbicide or post-emergent herbicide Mulch Newspaper Pull the weeds by hand. Put on some gardening gloves and grasp the weed as close to the soil line as possible. Give a quick pull and the weed should come out of the ground--roots and all. It the weeds do not pull easily, or if they break off at the stem, water the area first. Apply a pre-emergent herbicide to the soil. It will kill weeds--but not your flowers or other grasses--before the weeds begin to grow. This type of herbicide prevents the weed seeds from germinating and is safe to use around plants. Apply according to label directions. Spray the area with a selective herbicide or a post-emergent herbicide designed to kill weeds but not grass and flowers. Read and follow label directions for application and amounts, as they can vary. Ask the clerk at the garden center for the correct herbicide. Lay down a 2- to 4-inch layer of mulch, if possible. If you have a lot of space between plants, place 12 sheets of newspaper over the soil between plants. Cover the newspaper with mulch and the water it down to keep the newspaper on the ground when wind blows.\n",
      "D1311240\thttp://vanrcook.tripod.com/presidentroosevelt.htm\tPresident Roosevelt Led US To Victory In World War 2\t\"In World War 2, the three great Allied leaders against Germany were President Roosevelt , Winston Churchill, and Joseph Stalin of the Soviet Union. Three finer war leaders could not have been found at any time in history. Churchill, a leader with bulldog tenacity and possessing fine oratorical skills, Stalin, the man of steel, and Roosevelt, the great politician and compromisor, held the allies together when things looked blackest and then led them to victory over the fanatical resistance of the Germans and Japanese. On the other side of the war, Hitler, although an evil person, also had his moments of leadership particularly at the start of the war. But none of the other Axis leaders (certainly not Mussolini!) were of the caliber of the three Allied leaders. Hitler was outnumbered three to one when it came to leadership. This web site deals with President Roosevelt during World War 2. He had followed Herbert Hoover as president in 1933 shortly after the Great Depression began and served as president until 1945 when he died in office just as World War 2 was ending. Vice-President Harry Truman succeeded Roosevelt as president and led America in the immediate post-World War 2 era as the cold war began. FDR's close ties to Winston Churchill are discussed on this web site. `\"\" The only thing we have to fear is fear itself . \"\"President Roosevelt. Roosevelt was one of America's greatest presidents. To me, he has always been the perfect example of what an American president should be. Depending on the crisis at hand, Roosevelt undertook whatever corrective steps he thought needed to be taken. A child of the upper class, he, nevertheless, felt it was his duty to help those less fortunate than himself and he initiated the New Deal. The president's wife (and fifth cousin), Eleanor Roosevelt, also had strong feelings in that direction and encouraged FDR in his efforts. Although he often had to compromise with his rich and powerful friends, he was a true champion of the \"\"forgotten man. \"\"President Roosevelt was conscious of the power of the presidency and used it as no one ever had before. He worked his way through two major crises in his 4 terms as president: the Great Depression and World War 2. U. S. Unprepared at Beginning of World War 2. After Czechoslovakia fell to Germany in 1938, Roosevelt felt sure that Europe would erupt into war and that the U. S. would be drawn in. He knew the British and French were our natural allies and that Germany was wrong in its forced acquisition of surrounding nations. Even though he knew which side we must support, he could make no overt maneuvers because this country, including Congress, was militantly isolationist at the time. There was opposition to war from both the right and the left. The right wingers were particularly adamant in their opposition. Some even wanted to join Hitler and the Nazis and attack Russia to clean out the communists who they thought were the \"\"real\"\" enemy (worse than Hitler!? The right-wingers were a little out of touch with reality). So, even though President Roosevelt watched country after country fall into Nazi Germany's hands in 1939, 1940 and 1941, he was unable to attempt a rescue because American public support was not there. United States Prepares For War All in all, the United States was lightly armed in 1938. The Navy was adequate but the army was woefully small. Roosevelt had to get the country ready for war he knew was probably coming but in such a manner as to not upset the isolationists. He had to move slowly: He did a wonderful job in this effort.1. In November of 1938, President Roosevelt startled his military advisers by advocating the production of 10,000 military aircraft by 1940 and providing the capacity to produce 10,000 planes per year thereafter. This advice did not set well with some advisors who wanted a more balanced approach. But Roosevelt was trying to let Hitler know what America could produce if aroused. He was hoping to discourage Hitler's aggression.2. In July of 1939, Roosevelt issued a military order moving agencies related to defense to report directly to the President and not to the various official government department heads. This created some confusion since the department heads were often left out of matters. However, the order provided a personal relationship between the president and the military chiefs. This is the way Roosevelt liked to work. It also magnified the power of the military chiefs which was a good thing as the nation prepared for war.3. In September of 1940, Roosevelt made a destroyer deal with Great Britain providing them with 50 World War I destroyers in return for a string of bases in the Caribbean.4. In September of 1940, the Selective Service Act was passed and Americans began to be drafted.5. In early 1941, President Roosevelt had Congress pass the \"\"Lend-Lease Act\"\" which provided Britain and Russia with arms via lease but with no conditions for repayment. As the president said, \"\"When your neighbor's house is on fire, one does not haggle over the price to put it out, the hose is readily loaned and the price is figured later. \"\"America was slowly getting ready for war!U. S. Enters World War 2. On December 7, 1941, the Japanese attacked Pearl Harbor and, on December 11th, Germany declared war on the U. S. (A big mistake by Hitler - otherwise, we might have concentrated on beating Japan first). America was now in World War 2! Americans were no longer isolationists - they were mad as hell and they were not going to take it! Overseas, Churchill, despite the disaster, could not help but feel a great relief (actually he was ecstatic) that America was now in the war. He later wrote,\"\"No American will think it wrong of me if I proclaim that to have the United States at our side was to me the greatest joy.............but now at this very moment I knew the United States was in the war, up to the neck and in to the death. So we had won after all! Yes, after Dunkerque; after the fall of France; .......after the threat of invasion......after seventeen months of lonely fighting......... We had won the war. England would live;......... Our history would not come to an end.... Hitler's fate was sealed.........there was no more doubt about the end. \"\"Churchill could relax for a moment after standing up to the Nazis, virtually alone, for two years. In retrospect, Churchill's optimistic outlook only partly came true. The Allies won the war all right and both Germany and Japan were defeated. But the British Empire was doomed as the nations who made up the commonwealth began to fly the coop after the war and, finally, Britain was the only significant power left. Although Bitain ended up on the winning side, the empire was finished as were other empires, e.g., German, Italian, French, and Japanese empires. Roosevelt - Churchill Relationship During World War 2. Just prior to the start of World War 2 in September 1939, President Roosevelt had written Churchill (Churchill was not yet prime minister) and the two opened a correspondence and began a warm friendship that would last until Roosevelt's death in 1945 although problems began to occur near the end because of Roosevelt's hesitancy in joining Churchill in moving to limit Soviet Union expansionism. This close relationship between the two leaders, of course, spilled over into the relationship between the countries. It led to the creation of the Combined Chiefs of Staff which was a joint military command over all British-American operations. It also led to the development of a second front in France, development of an atomic bomb, creation of the United Nations, and final defeat of the axis powers. President Roosevelt as Commander-in Chief During World War 2. Prior to the war and for the first year or so of World War 2, President Roosevelt functioned as the \"\"real\"\" Commander-in-Chief of the U. S. armed forces. This is an authority that all presidents have a constitutional right to exercise but few do. Roosevelt was personally involved in all major decisions. One reason for this is that the enemy had the initiative early on and America was developing a strategy to counter the assault and seize the initiative. Alternative methods of conducting the war had to be considered and the president had to decide which way to go. (See Planning & Strategy for more on strategy. )Once the war had gone on for awhile, the tide had turned, America and its allies had the initiative, and a master plan had been developed, so there was no need for President Roosevelt to be so heavily involved. Also, as the war proceeded, the military command system became too large for the personal control Roosevelt liked to exercise. Now he had to depend on theater commanders, the planning staffs, etc. He still used the personal touch with Churchill and his top military advisors but he could no longer control events as he did in pre-war days. This was true of strategy development and in operational planning. Roosevelt was not above stepping in on certain occasions but, essentially, control of military details had shifted to others closer to the action. President Roosevelt still maintained close contact with events through his top assistants - Harry Hopkins and Admiral William Leahy - whom he relied heavily on in making wartime decisions. Early in the conflict, Roosevelt relied more on Hopkins than his military chiefs, however, this changed as the war went on. For his part, Leahy served as a liaison officer or, as Roosevelt called him, \"\"a sort of leg man,\"\" transmitting information between the President and the Joint Chiefs. Leahy was a perfect man for the job due to his military seniority, personal friendship with the President, and personality. Largely due to his efforts, the views of the President and the military chiefs never drifted far apart as had occasionally happened early in the war. Roosevelt as Commander-in-Chief - Operation TORCH. Early in the war in 1942, Roosevelt was still acting as the \"\"real\"\" Commander-in-Chief and moved forcibly on a critical strategic decision. A joint American - British decision for a cross-channel invasion of France in 1943 (Operation OVERLORD) had been made early on. The plan had been endorsed enthusiastically by the Americans and reluctantly by the British. As time went by, the two sides began squabbling over whether the invasion of France should actually be made in 1943 or delayed until 1944. The American military chiefs even went so far as to recommend that, if the British did not go along with the U. S. invasion plan, the Americans should drop the prevailing Europe-first strategy and begin to move forces to the Pacific theater. In July 1942, Roosevelt intervened strongly in the dispute. He said he would not allow any diversion of forces from Europe to the Pacific. In effect, the British approach won out because of the president's intervention. Instead of an invasion of Europe in 1943, a much less aggressive landing of forces was made in North Africa (Operation TORCH) in late 1942. This substitute action for the now-delayed Operation OVERLORD held the British - American coalition together and the Europe-first strategy was preserved. In retrospect, the decision to delay was probably the correct one because we really were not fully ready for an invasion in 1943. Casualties would have been immense, and indeed, the invasion might have failed. It should be noted that Stalin became infuriated with the postponement of Operation OVERLORD. He was in favor of a second front as early as possible to take pressure off his country. The Russians were already taking immense casualties - they were not that concerned that others might have to share taking casualties with them. Roosevelt Contrasted to Churchill as Leaders During World War 2. Roosevelt's usual hands-off approach as Commander-in-Chief was unlike his restless friend Churchill's approach. Churchill could not refrain from meddling with the British commanders in the matters of tactics and strategy. It should be noted here that, for all his greatness, Churchill's meddling did not always have a happy ending as he often wanted to move the allied thrusts to obscure (e.g., invade the \"\"soft underbelly of Europe\"\") theaters away from the primary theater. At these times, he sometimes seemed to act as a child playing with his toys. He had had the same problem in World War I when he initiated the doomed attack on Galipoli, Turkey, a disaster which cost him his position. He was almost - but not quiet - as bad a meddler with the military leaders as Hitler was on the German side. Roosevelt and Churchill had much different personalities. Roosevelt was a very political man, a man who used his charm, a compromisor, and a man who tried to avoid any controversy. His approach was always the indirect approach. (Had Roosevelt been a military man, he would have followed the \"\"indirect approach\"\" of Liddell Hart.) And by no means was Roosevelt an open man. He did not easily reveal his reasons for making decisions so his subordinates constantly had to try to read his mind and it did not appear to bother him at all to keep them guessing. The Bronx political leader, Edward Flynn, once observed of Roosevelt, \"\"Roosevelt would adopt ideas only if he believed in them. If he disagreed, he simply did nothing. \"\"Churchill, on the other hand, had a very opposite personality. His was the direct approach. He loved controversy and debate. He presented his ideas openly and loudly with much documentation and with great fervor. His associates and critics alike were allowed to do the same. He was an 'open read'. You always knew where Churchill stood on an issue. Because of his pugnacious disposition, Churchill was always getting knocked about by someone and had often, in his career, lost whatever job he might have at the time. But he had great tenacity and always got back on his feet full of fight. Such different men!.... but together, they made a great team. They, along with Stalin, ran World War and won it. The World War 2 Conferences. A number of conferences were held between Roosevelt and Churchill during World War 2. The Casablanca Conference between Roosevelt and Churchill was one of the more important conferences. A decision was made at this conference that no peace would be concluded with the Axis except on the basis of \"\"unconditional surrender.\"\" This was done partly to placate the always suspicious Soviets that America and Britain would not seek a separate peace with Germany leaving the Soviets \"\"holding the bag.\"\" Some critics say that this action unnecessarily lengthened World War 2 and caused unnecessary casualties. Politically, though, it was probably necessary. Two of the last conferences were held at Teheran and Yalta and included Roosevelt, Churchill, and Stalin. Here the long range objectives of the United States and Britain began to deviate and some strain began to show on the friendship of Roosevelt and Churchill. Churchill had been looking ahead to the post-World War 2 period and had perceived that the Soviet Union was going to be a problem with its expansive goals and its communistic ideology. Roosevelt was less concerned about the Russians. He was more concerned about America getting caught up in the rebuilding of Europe and the possibility that they might have to station troops there indefinitely. He apparently felt that Americans would revert to their isolationists ways after the war and he had to get the country out of Europe as soon as possible. He also accepted the idea that Russia would have an expanded role in Europe after the war. Critics have long criticized Roosevelt in this aspect of his policy. To some, he sold out to the Soviets. To others, he was so anxious to end the war fast and get out of Europe that he ignored long-range political aspects which make up so large a part of war. There is no doubt that the rapidly deteriorating health of President Roosevelt's health affected his performance during the last months of his life and contributed to his weakness regarding the Russians during the last two conferences. President Roosevelt's Death. President Roosevelt died on April 12, 1945, a little over two weeks before the death of Hitler and a month before Germany surrendered and the European part of World War 2 ended. After his death, Churchill wrote Eleanor: \"\"I have lost a dear and cherished friendship which was forged in the fire of war. \"\"Overall, Roosevelt was a wonderful leader for America. He pulled us through both the great depression of the 30s and the World War 2. He made his share of mistakes. For example, there is no doubt that he waffled on the Jewish problem even as news of German atrocities toward the Jews began to be publicized. However, when you look at how the other American leaders have handled different crisis in the twentieth century, he was, in my opinion, clearly superior to all the others. Web Sites: President Roosevelt In World War 2.1. Germany in World War 2 . Germany fought long and hard in World War 2 but the U. S., Great Britain, and Russia were too smart and tough.2. American Generals - World War 2. Roosevelt had some great generals working with him in World War 2. They had to be great! They were facing fine German generals who knew new warfare tactics, e.g., blitzkrieg.3. Pacific War. After the surprise attack on Pearl Harbor, Roosevelt and the American people wanted to revenge the attack by Japan.4. Trump - Democracy or Fascism Trump has been elected president - will we survive? President Roosevelt In World War 2: Conclusions President Roosevelt was a great American president and led America during World War 2. The great Allied victory over Germany and Japan in World War 2 was largely due to the leadership qualities of President Roosevelt. Privacy Policy This website does not share personal information with third parties nor do we store any information about your visit to this blog other than to analyze and optimize your content and reading experience through the use of cookies. You can turn off the use of cookies at anytime by changing your specific browser settings. We are not responsible for republished content from this blog on other blogs or websites without our permission. This privacy policy is subject to change without notice and was last updated on February, 03, 2017Last Updated : 07/03/17 \"\n",
      "D3048094\thttps://answers.yahoo.com/question/index?qid=20080718121858AAmfk0V\tI have trouble swallowing due to MS, can I crush valium & other meds to be easier to swallowll?\tHealth Other - Health I have trouble swallowing due to MS, can I crush valium & other meds to be easier to swallowll? Follow 5 answers Answers Relevance Rating Newest Oldest Best Answer: If you have a problem swallowing, try crushing Valium (or other tablets) between two spoons, and taking them in a teaspoon of your favorite Jelly (raspberry???). The jelly helps the crushed meds slide down ~Anonymous · 10 years ago0 2 Comment Asker's rating Ask your pharmacist if any or all of your meds can be made into syrup form if you have trouble swallowing. Many forms of medication are designed to be swallowed whole and not interferred with. Do not take advice from those people on here who are only guessing at a correct answer. Seek the advice of professionals. Lady spanner · 10 years ago0 0 Comment I'm pretty sure its not a good idea to crush pills. You should definitely ask your doctor before doing anything like that, it might be dangerous.little Wing · 10 years ago0 0 Comment Please ask your doctor! This is not a question for random people to answer. Medication is not something to mess around with. Look at Heath Ledger. He will be missed by everyone, especially his daughter. Don't make the same mistake.pink · 10 years ago0 1 Comment Your doctor or any pharmacist should be able to tell you. Could vary for each medication. Bosco · 10 years ago0 0 Comment Maybe you would like to learn more about one of these? Glucose Monitoring Devices Considering an online college? Need migraine treatment? VPN options for your computer\n"
     ]
    }
   ],
   "source": [
    "topl('msmarco-docs.tsv', 10)"
   ]
  },
  {
   "cell_type": "code",
   "execution_count": null,
   "metadata": {},
   "outputs": [],
   "source": []
  },
  {
   "cell_type": "code",
   "execution_count": 10,
   "metadata": {},
   "outputs": [],
   "source": [
    "import numpy as np\n",
    "import torch"
   ]
  },
  {
   "cell_type": "code",
   "execution_count": 8,
   "metadata": {},
   "outputs": [
    {
     "data": {
      "text/plain": [
       "tensor([0, 1, 2, 3, 4, 5, 6, 7, 8, 9])"
      ]
     },
     "execution_count": 8,
     "metadata": {},
     "output_type": "execute_result"
    }
   ],
   "source": [
    "r = torch.arange(10)\n",
    "r"
   ]
  },
  {
   "cell_type": "code",
   "execution_count": 14,
   "metadata": {},
   "outputs": [
    {
     "data": {
      "text/plain": [
       "tensor([0, 1, 8, 4, 6, 3, 7, 9, 2, 5])"
      ]
     },
     "execution_count": 14,
     "metadata": {},
     "output_type": "execute_result"
    }
   ],
   "source": [
    "torch.randperm(10)"
   ]
  },
  {
   "cell_type": "code",
   "execution_count": 1,
   "metadata": {},
   "outputs": [
    {
     "name": "stdout",
     "output_type": "stream",
     "text": [
      "i=0. x=-1. y=a\n",
      "i=1. x=-2. y=b\n",
      "i=2. x=d. y=None\n"
     ]
    }
   ],
   "source": [
    "lt = [(-1, 'a'), (-2, 'b'), ('d', None)]\n",
    "for i, (x, y) in enumerate(lt):\n",
    "    print(f'i={i}. x={x}. y={y}')"
   ]
  },
  {
   "cell_type": "code",
   "execution_count": 4,
   "metadata": {},
   "outputs": [
    {
     "name": "stdout",
     "output_type": "stream",
     "text": [
      "tensor([[7, 0, 1, 2],\n",
      "        [0, 5, 6, 9],\n",
      "        [3, 6, 9, 3]])\n",
      "tensor([[ True, False, False, False],\n",
      "        [False,  True,  True,  True],\n",
      "        [False,  True,  True, False]])\n",
      "tensor([7, 5, 6, 9, 6, 9])\n"
     ]
    }
   ],
   "source": [
    "t = torch.randint(0, 10, size=(3, 4))\n",
    "print(t)\n",
    "m = t >= 5\n",
    "print(m)\n",
    "tm = torch.masked_select(t, m)\n",
    "print(tm)"
   ]
  },
  {
   "cell_type": "code",
   "execution_count": 9,
   "metadata": {},
   "outputs": [
    {
     "data": {
      "text/plain": [
       "tensor([5, 6, 8, 4, 1, 3, 7, 7, 8, 3, 0, 8, 2, 7, 1, 1, 9, 6, 5, 8, 5, 6, 6, 1,\n",
       "        9, 0, 3, 3, 1, 0, 0, 6, 0, 3, 6, 4, 1, 0, 9, 5, 0, 8, 7, 7, 8, 6, 3, 7,\n",
       "        6, 9, 1, 2, 3, 6, 4, 1, 0, 6, 6, 2, 2, 8, 6, 5, 1, 2, 9, 1, 3, 9, 3, 2,\n",
       "        4, 1, 2, 1, 2, 1, 8, 8, 2, 6, 6, 4, 4, 0, 9, 3, 0, 8, 5, 7, 9, 3, 0, 2,\n",
       "        3, 6, 9, 4])"
      ]
     },
     "execution_count": 9,
     "metadata": {},
     "output_type": "execute_result"
    }
   ],
   "source": [
    "torch.randint(0, 10, size=(100,))"
   ]
  },
  {
   "cell_type": "code",
   "execution_count": 12,
   "metadata": {},
   "outputs": [
    {
     "data": {
      "text/plain": [
       "4"
      ]
     },
     "execution_count": 12,
     "metadata": {},
     "output_type": "execute_result"
    }
   ],
   "source": [
    "np.random.randint(5, size=100).max()"
   ]
  },
  {
   "cell_type": "code",
   "execution_count": 1,
   "metadata": {},
   "outputs": [
    {
     "name": "stdout",
     "output_type": "stream",
     "text": [
      "[0, 1, 2]\n",
      "[1, 0, 2]\n",
      "[2, 1, 0]\n",
      "[1, 2, 0]\n",
      "[2, 0, 1]\n",
      "[0, 2, 1]\n"
     ]
    }
   ],
   "source": [
    "def permute(n: int, a: list):\n",
    "    if n == 0:\n",
    "        print(a)\n",
    "        return\n",
    "    for i in range(n + 1):\n",
    "        permute(n - 1, a)\n",
    "        ind = i if n % 2 == 0 else 0\n",
    "        t = a[ind]\n",
    "        a[ind] = a[n]\n",
    "        a[n] = t\n",
    "\n",
    "n = 3\n",
    "permute(n - 1, list(range(n)))"
   ]
  },
  {
   "cell_type": "code",
   "execution_count": 1,
   "metadata": {},
   "outputs": [
    {
     "name": "stdout",
     "output_type": "stream",
     "text": [
      "abc\n",
      "\n",
      "\n"
     ]
    }
   ],
   "source": [
    "s = 'abc\\n\\r\\n'\n",
    "print(s)"
   ]
  },
  {
   "cell_type": "code",
   "execution_count": 5,
   "metadata": {},
   "outputs": [
    {
     "data": {
      "text/plain": [
       "[<DsId.Msm: 1>, <DsId.Fev: 2>, <DsId.Smt: 5>]"
      ]
     },
     "execution_count": 5,
     "metadata": {},
     "output_type": "execute_result"
    }
   ],
   "source": [
    "class DsId(Enum):\n",
    "    Msm = 1\n",
    "    Fev = 2\n",
    "    Smt = 5\n",
    "\n",
    "list(DsId)"
   ]
  },
  {
   "cell_type": "code",
   "execution_count": 6,
   "metadata": {},
   "outputs": [
    {
     "data": {
      "text/plain": [
       "[<DsId.Fev: 2>, <DsId.Msm: 1>, <DsId.Smt: 5>]"
      ]
     },
     "execution_count": 6,
     "metadata": {},
     "output_type": "execute_result"
    }
   ],
   "source": [
    "l = [DsId.Fev, DsId.Msm, DsId.Smt]\n",
    "l"
   ]
  },
  {
   "cell_type": "code",
   "execution_count": 9,
   "metadata": {},
   "outputs": [
    {
     "data": {
      "text/plain": [
       "[(2, int), (1, int), (5, int)]"
      ]
     },
     "execution_count": 9,
     "metadata": {},
     "output_type": "execute_result"
    }
   ],
   "source": [
    "[(x.value, type(x.value)) for x in l]"
   ]
  },
  {
   "cell_type": "code",
   "execution_count": null,
   "metadata": {},
   "outputs": [],
   "source": []
  }
 ],
 "metadata": {
  "kernelspec": {
   "display_name": "attall",
   "language": "python",
   "name": "python3"
  },
  "language_info": {
   "codemirror_mode": {
    "name": "ipython",
    "version": 3
   },
   "file_extension": ".py",
   "mimetype": "text/x-python",
   "name": "python",
   "nbconvert_exporter": "python",
   "pygments_lexer": "ipython3",
   "version": "3.10.13"
  }
 },
 "nbformat": 4,
 "nbformat_minor": 2
}
