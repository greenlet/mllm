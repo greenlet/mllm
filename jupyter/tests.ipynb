{
 "cells": [
  {
   "cell_type": "code",
   "execution_count": 5,
   "metadata": {},
   "outputs": [],
   "source": [
    "import os\n",
    "import argparse\n",
    "import logging\n",
    "import urllib\n",
    "from tqdm import tqdm\n",
    "import sys\n",
    "import codecs\n",
    "import spacy\n",
    "import torch\n",
    "import tarfile\n",
    "import torchtext.data\n",
    "import torchtext.datasets\n"
   ]
  },
  {
   "cell_type": "code",
   "execution_count": 6,
   "metadata": {},
   "outputs": [
    {
     "data": {
      "text/plain": [
       "'4.38.2'"
      ]
     },
     "execution_count": 6,
     "metadata": {},
     "output_type": "execute_result"
    }
   ],
   "source": [
    "import transformers\n",
    "transformers.__version__"
   ]
  },
  {
   "cell_type": "code",
   "execution_count": 43,
   "metadata": {},
   "outputs": [
    {
     "data": {
      "text/plain": [
       "tensor([[-0.2170, -0.4064, -0.2708,  0.1597],\n",
       "        [-1.8654,  0.7103, -0.5406,  0.0239],\n",
       "        [ 1.0485,  0.0319,  1.0114, -0.8338],\n",
       "        [-0.7670, -0.2378,  1.1530, -0.5154]])"
      ]
     },
     "execution_count": 43,
     "metadata": {},
     "output_type": "execute_result"
    }
   ],
   "source": [
    "x = torch.randn(4, 4)\n",
    "x"
   ]
  },
  {
   "cell_type": "code",
   "execution_count": 44,
   "metadata": {},
   "outputs": [
    {
     "ename": "RuntimeError",
     "evalue": "shape '[8]' is invalid for input of size 16",
     "output_type": "error",
     "traceback": [
      "\u001b[0;31m---------------------------------------------------------------------------\u001b[0m",
      "\u001b[0;31mRuntimeError\u001b[0m                              Traceback (most recent call last)",
      "Cell \u001b[0;32mIn[44], line 1\u001b[0m\n\u001b[0;32m----> 1\u001b[0m x\u001b[38;5;241m.\u001b[39mview((\u001b[38;5;241m-\u001b[39m\u001b[38;5;241m1\u001b[39m, \u001b[38;5;241m8\u001b[39m))\u001b[38;5;241m.\u001b[39mshape, x\u001b[38;5;241m.\u001b[39mview(\u001b[38;5;241m-\u001b[39m\u001b[38;5;241m1\u001b[39m)\u001b[38;5;241m.\u001b[39mshape, \u001b[43mx\u001b[49m\u001b[38;5;241;43m.\u001b[39;49m\u001b[43mview\u001b[49m\u001b[43m(\u001b[49m\u001b[38;5;241;43m8\u001b[39;49m\u001b[43m)\u001b[49m\u001b[38;5;241m.\u001b[39mshape\n",
      "\u001b[0;31mRuntimeError\u001b[0m: shape '[8]' is invalid for input of size 16"
     ]
    }
   ],
   "source": [
    "x.view((-1, 8)).shape, x.view(-1).shape, x.view(8).shape"
   ]
  },
  {
   "cell_type": "code",
   "execution_count": 14,
   "metadata": {},
   "outputs": [
    {
     "ename": "RuntimeError",
     "evalue": "INDICES element is out of DATA bounds, id=4 axis_dim=4",
     "output_type": "error",
     "traceback": [
      "\u001b[0;31m---------------------------------------------------------------------------\u001b[0m",
      "\u001b[0;31mRuntimeError\u001b[0m                              Traceback (most recent call last)",
      "Cell \u001b[0;32mIn[14], line 2\u001b[0m\n\u001b[1;32m      1\u001b[0m inds \u001b[38;5;241m=\u001b[39m torch\u001b[38;5;241m.\u001b[39mtensor([\u001b[38;5;241m1\u001b[39m, \u001b[38;5;241m3\u001b[39m, \u001b[38;5;241m4\u001b[39m])\n\u001b[0;32m----> 2\u001b[0m \u001b[43mx\u001b[49m\u001b[38;5;241;43m.\u001b[39;49m\u001b[43mindex_select\u001b[49m\u001b[43m(\u001b[49m\u001b[38;5;241;43m1\u001b[39;49m\u001b[43m,\u001b[49m\u001b[43m \u001b[49m\u001b[43minds\u001b[49m\u001b[43m)\u001b[49m\n",
      "\u001b[0;31mRuntimeError\u001b[0m: INDICES element is out of DATA bounds, id=4 axis_dim=4"
     ]
    }
   ],
   "source": [
    "inds = torch.tensor([1, 3, 4])\n",
    "x.index_select(1, inds)"
   ]
  },
  {
   "cell_type": "code",
   "execution_count": 17,
   "metadata": {},
   "outputs": [
    {
     "data": {
      "text/plain": [
       "(Parameter containing:\n",
       " tensor([[[ 0.0593,  0.2881],\n",
       "          [-0.1172,  0.3856],\n",
       "          [ 0.3556,  0.1064]],\n",
       " \n",
       "         [[ 0.0139,  0.3622],\n",
       "          [-0.3303, -0.3028],\n",
       "          [-0.2213, -0.2269]],\n",
       " \n",
       "         [[-0.3487, -0.0465],\n",
       "          [ 0.2822, -0.0413],\n",
       "          [-0.1009, -0.0081]],\n",
       " \n",
       "         [[ 0.1015, -0.1141],\n",
       "          [-0.1849, -0.2004],\n",
       "          [-0.2604, -0.3764]],\n",
       " \n",
       "         [[ 0.0411,  0.3473],\n",
       "          [-0.2646,  0.2422],\n",
       "          [-0.2797, -0.2754]]], requires_grad=True),\n",
       " Parameter containing:\n",
       " tensor([0.1624, 0.2841, 0.3526, 0.2781, 0.2666], requires_grad=True))"
      ]
     },
     "execution_count": 17,
     "metadata": {},
     "output_type": "execute_result"
    }
   ],
   "source": [
    "l = torch.nn.Conv1d(3, 5, 2)\n",
    "l.weight, l.bias"
   ]
  },
  {
   "cell_type": "code",
   "execution_count": 70,
   "metadata": {},
   "outputs": [
    {
     "ename": "IndexError",
     "evalue": "index out of range in self",
     "output_type": "error",
     "traceback": [
      "\u001b[0;31m---------------------------------------------------------------------------\u001b[0m",
      "\u001b[0;31mIndexError\u001b[0m                                Traceback (most recent call last)",
      "Cell \u001b[0;32mIn[70], line 1\u001b[0m\n\u001b[0;32m----> 1\u001b[0m \u001b[43ml\u001b[49m\u001b[38;5;241;43m.\u001b[39;49m\u001b[43mbias\u001b[49m\u001b[38;5;241;43m.\u001b[39;49m\u001b[43mindex_select\u001b[49m\u001b[43m(\u001b[49m\u001b[38;5;241;43m0\u001b[39;49m\u001b[43m,\u001b[49m\u001b[43m \u001b[49m\u001b[43mtorch\u001b[49m\u001b[38;5;241;43m.\u001b[39;49m\u001b[43mtensor\u001b[49m\u001b[43m(\u001b[49m\u001b[43m[\u001b[49m\u001b[38;5;241;43m1\u001b[39;49m\u001b[43m,\u001b[49m\u001b[43m \u001b[49m\u001b[38;5;241;43m2\u001b[39;49m\u001b[43m,\u001b[49m\u001b[43m \u001b[49m\u001b[38;5;241;43m7\u001b[39;49m\u001b[43m]\u001b[49m\u001b[43m)\u001b[49m\u001b[43m)\u001b[49m\n",
      "\u001b[0;31mIndexError\u001b[0m: index out of range in self"
     ]
    }
   ],
   "source": [
    "l.bias.index_select(0, torch.tensor([1, 2, 7]))"
   ]
  },
  {
   "cell_type": "code",
   "execution_count": 19,
   "metadata": {},
   "outputs": [
    {
     "data": {
      "text/plain": [
       "torch.Size([5, 3, 2])"
      ]
     },
     "execution_count": 19,
     "metadata": {},
     "output_type": "execute_result"
    }
   ],
   "source": [
    "l.weight.size()"
   ]
  },
  {
   "cell_type": "code",
   "execution_count": 23,
   "metadata": {},
   "outputs": [
    {
     "data": {
      "text/plain": [
       "tensor(True)"
      ]
     },
     "execution_count": 23,
     "metadata": {},
     "output_type": "execute_result"
    }
   ],
   "source": [
    "torch.full((), 77) == torch.tensor(77)"
   ]
  },
  {
   "cell_type": "code",
   "execution_count": 25,
   "metadata": {},
   "outputs": [
    {
     "data": {
      "text/plain": [
       "tensor([ 0,  1,  2,  3,  4,  5,  6,  7,  8,  9, 10, 11, 12, 13, 14, 15, 16, 17,\n",
       "        18, 19])"
      ]
     },
     "execution_count": 25,
     "metadata": {},
     "output_type": "execute_result"
    }
   ],
   "source": [
    "x = torch.arange(20)\n",
    "x"
   ]
  },
  {
   "cell_type": "code",
   "execution_count": 32,
   "metadata": {},
   "outputs": [
    {
     "data": {
      "text/plain": [
       "tensor([], dtype=torch.int64)"
      ]
     },
     "execution_count": 32,
     "metadata": {},
     "output_type": "execute_result"
    }
   ],
   "source": [
    "x[-5:5]"
   ]
  },
  {
   "cell_type": "code",
   "execution_count": 35,
   "metadata": {},
   "outputs": [
    {
     "data": {
      "text/plain": [
       "tensor([[0.1698, 0.6858, 0.8964, 0.8091, 0.9632],\n",
       "        [0.6114, 0.9482, 0.2565, 0.2160, 0.9927],\n",
       "        [0.7067, 0.4991, 0.5201, 0.0048, 0.8184],\n",
       "        [0.6011, 0.7674, 0.0509, 0.1306, 0.8765],\n",
       "        [0.4807, 0.2753, 0.3314, 0.7934, 0.7542]])"
      ]
     },
     "execution_count": 35,
     "metadata": {},
     "output_type": "execute_result"
    }
   ],
   "source": [
    "t = torch.rand((5, 5))\n",
    "t"
   ]
  },
  {
   "cell_type": "code",
   "execution_count": 37,
   "metadata": {},
   "outputs": [
    {
     "data": {
      "text/plain": [
       "tensor([[0.1698, 0.0000, 0.0000, 0.0000, 0.0000],\n",
       "        [0.6114, 0.9482, 0.0000, 0.0000, 0.0000],\n",
       "        [0.7067, 0.4991, 0.5201, 0.0000, 0.0000],\n",
       "        [0.6011, 0.7674, 0.0509, 0.1306, 0.0000],\n",
       "        [0.4807, 0.2753, 0.3314, 0.7934, 0.7542]])"
      ]
     },
     "execution_count": 37,
     "metadata": {},
     "output_type": "execute_result"
    }
   ],
   "source": [
    "t1 = torch.tril(t)\n",
    "t1"
   ]
  },
  {
   "cell_type": "code",
   "execution_count": 38,
   "metadata": {},
   "outputs": [
    {
     "data": {
      "text/plain": [
       "tensor([[0.1698, 0.0000, 0.0000, 0.0000],\n",
       "        [0.6114, 0.9482, 0.0000, 0.0000],\n",
       "        [0.7067, 0.4991, 0.5201, 0.0000]])"
      ]
     },
     "execution_count": 38,
     "metadata": {},
     "output_type": "execute_result"
    }
   ],
   "source": [
    "t1[:3, :4]"
   ]
  },
  {
   "cell_type": "code",
   "execution_count": 45,
   "metadata": {},
   "outputs": [
    {
     "data": {
      "text/plain": [
       "torch.return_types.topk(\n",
       "values=tensor([[0.9632, 0.8964],\n",
       "        [0.9927, 0.9482],\n",
       "        [0.8184, 0.7067],\n",
       "        [0.8765, 0.7674],\n",
       "        [0.7934, 0.7542]]),\n",
       "indices=tensor([[4, 2],\n",
       "        [4, 1],\n",
       "        [4, 0],\n",
       "        [4, 1],\n",
       "        [3, 4]]))"
      ]
     },
     "execution_count": 45,
     "metadata": {},
     "output_type": "execute_result"
    }
   ],
   "source": [
    "t.topk(2)"
   ]
  },
  {
   "cell_type": "code",
   "execution_count": 49,
   "metadata": {},
   "outputs": [
    {
     "data": {
      "text/plain": [
       "tensor([[0.0074, 0.9776, 0.0541, 0.8086, 0.1039],\n",
       "        [0.6737, 0.5848, 0.8657, 0.7908, 0.4491],\n",
       "        [0.9662, 0.0886, 0.9440, 0.5317, 0.6208]])"
      ]
     },
     "execution_count": 49,
     "metadata": {},
     "output_type": "execute_result"
    }
   ],
   "source": [
    "t = torch.rand((3, 5))\n",
    "t"
   ]
  },
  {
   "cell_type": "code",
   "execution_count": 54,
   "metadata": {},
   "outputs": [
    {
     "data": {
      "text/plain": [
       "tensor([[True]])"
      ]
     },
     "execution_count": 54,
     "metadata": {},
     "output_type": "execute_result"
    }
   ],
   "source": [
    "sz = 3\n",
    "sz = 1\n",
    "m = torch.tril(torch.ones((sz, sz), dtype=torch.bool))\n",
    "m"
   ]
  },
  {
   "cell_type": "code",
   "execution_count": 56,
   "metadata": {},
   "outputs": [
    {
     "data": {
      "text/plain": [
       "tensor([[-1., -1., -1., -1., -1.],\n",
       "        [-1., -1., -1., -1., -1.],\n",
       "        [-1., -1., -1., -1., -1.]])"
      ]
     },
     "execution_count": 56,
     "metadata": {},
     "output_type": "execute_result"
    }
   ],
   "source": [
    "t1 = t.clone()\n",
    "t1 = t1.masked_fill(m, -1)\n",
    "t1"
   ]
  },
  {
   "cell_type": "code",
   "execution_count": 65,
   "metadata": {},
   "outputs": [
    {
     "data": {
      "text/plain": [
       "tensor([[0.0074, 0.9776, 0.0541, 0.8086, 0.1039],\n",
       "        [0.6737, 0.5848, 0.8657, 0.7908, 0.4491],\n",
       "        [0.9662, 0.0886, 0.9440, 0.5317, 0.6208]])"
      ]
     },
     "execution_count": 65,
     "metadata": {},
     "output_type": "execute_result"
    }
   ],
   "source": [
    "t"
   ]
  },
  {
   "cell_type": "code",
   "execution_count": 68,
   "metadata": {},
   "outputs": [
    {
     "data": {
      "text/plain": [
       "tensor([[0.0074, 0.9776],\n",
       "        [0.9662, 0.0886],\n",
       "        [0.6737, 0.5848]])"
      ]
     },
     "execution_count": 68,
     "metadata": {},
     "output_type": "execute_result"
    }
   ],
   "source": [
    "inds = torch.tensor([0, 2, 1])\n",
    "t[inds, :2]"
   ]
  },
  {
   "cell_type": "code",
   "execution_count": 71,
   "metadata": {},
   "outputs": [
    {
     "data": {
      "text/plain": [
       "tensor([[0, 1],\n",
       "        [2, 3],\n",
       "        [4, 5],\n",
       "        [6, 7],\n",
       "        [8, 9]])"
      ]
     },
     "execution_count": 71,
     "metadata": {},
     "output_type": "execute_result"
    }
   ],
   "source": [
    "a = torch.arange(10).reshape(5, 2)\n",
    "a"
   ]
  },
  {
   "cell_type": "code",
   "execution_count": 75,
   "metadata": {},
   "outputs": [
    {
     "data": {
      "text/plain": [
       "(tensor([[0, 1],\n",
       "         [2, 3]]),\n",
       " tensor([[4, 5],\n",
       "         [6, 7],\n",
       "         [8, 9]]))"
      ]
     },
     "execution_count": 75,
     "metadata": {},
     "output_type": "execute_result"
    }
   ],
   "source": [
    "a.split((2, 3))"
   ]
  },
  {
   "cell_type": "code",
   "execution_count": 76,
   "metadata": {},
   "outputs": [
    {
     "data": {
      "text/plain": [
       "tensor([[[1., 1., 1., 1.],\n",
       "         [1., 1., 1., 1.],\n",
       "         [1., 1., 1., 1.]],\n",
       "\n",
       "        [[1., 1., 1., 1.],\n",
       "         [1., 1., 1., 1.],\n",
       "         [1., 1., 1., 1.]]])"
      ]
     },
     "execution_count": 76,
     "metadata": {},
     "output_type": "execute_result"
    }
   ],
   "source": [
    "t = torch.ones((2, 3, 4))\n",
    "t"
   ]
  },
  {
   "cell_type": "code",
   "execution_count": 79,
   "metadata": {},
   "outputs": [
    {
     "data": {
      "text/plain": [
       "(Parameter containing:\n",
       " tensor([[[ 0.3082],\n",
       "          [-0.5674],\n",
       "          [ 0.0346]],\n",
       " \n",
       "         [[-0.3134],\n",
       "          [ 0.4890],\n",
       "          [ 0.1158]]], requires_grad=True),\n",
       " Parameter containing:\n",
       " tensor([-0.5212, -0.4785], requires_grad=True))"
      ]
     },
     "execution_count": 79,
     "metadata": {},
     "output_type": "execute_result"
    }
   ],
   "source": [
    "c = torch.nn.Conv1d(3, 2, 1)\n",
    "c.weight, c.bias"
   ]
  },
  {
   "cell_type": "code",
   "execution_count": 80,
   "metadata": {},
   "outputs": [
    {
     "data": {
      "text/plain": [
       "tensor([[[-0.7457, -0.7457, -0.7457, -0.7457],\n",
       "         [-0.1871, -0.1871, -0.1871, -0.1871]],\n",
       "\n",
       "        [[-0.7457, -0.7457, -0.7457, -0.7457],\n",
       "         [-0.1871, -0.1871, -0.1871, -0.1871]]],\n",
       "       grad_fn=<ConvolutionBackward0>)"
      ]
     },
     "execution_count": 80,
     "metadata": {},
     "output_type": "execute_result"
    }
   ],
   "source": [
    "c(t)"
   ]
  },
  {
   "cell_type": "code",
   "execution_count": 81,
   "metadata": {},
   "outputs": [
    {
     "ename": "TypeError",
     "evalue": "conv1d() received an invalid combination of arguments - got (tuple, Parameter, Parameter, tuple, tuple, tuple, int), but expected one of:\n * (Tensor input, Tensor weight, Tensor bias, tuple of ints stride, tuple of ints padding, tuple of ints dilation, int groups)\n      didn't match because some of the arguments have invalid types: (!tuple of (Tensor, Tensor)!, !Parameter!, !Parameter!, !tuple of (int,)!, !tuple of (int,)!, !tuple of (int,)!, int)\n * (Tensor input, Tensor weight, Tensor bias, tuple of ints stride, str padding, tuple of ints dilation, int groups)\n      didn't match because some of the arguments have invalid types: (!tuple of (Tensor, Tensor)!, !Parameter!, !Parameter!, !tuple of (int,)!, !tuple of (int,)!, !tuple of (int,)!, int)\n",
     "output_type": "error",
     "traceback": [
      "\u001b[0;31m---------------------------------------------------------------------------\u001b[0m",
      "\u001b[0;31mTypeError\u001b[0m                                 Traceback (most recent call last)",
      "Cell \u001b[0;32mIn[81], line 1\u001b[0m\n\u001b[0;32m----> 1\u001b[0m \u001b[43mc\u001b[49m\u001b[43m(\u001b[49m\u001b[43m(\u001b[49m\u001b[43mt\u001b[49m\u001b[43m,\u001b[49m\u001b[43m \u001b[49m\u001b[43mt\u001b[49m\u001b[43m)\u001b[49m\u001b[43m)\u001b[49m\n",
      "File \u001b[0;32m~/miniconda3/envs/mllm/lib/python3.10/site-packages/torch/nn/modules/module.py:1511\u001b[0m, in \u001b[0;36mModule._wrapped_call_impl\u001b[0;34m(self, *args, **kwargs)\u001b[0m\n\u001b[1;32m   1509\u001b[0m     \u001b[38;5;28;01mreturn\u001b[39;00m \u001b[38;5;28mself\u001b[39m\u001b[38;5;241m.\u001b[39m_compiled_call_impl(\u001b[38;5;241m*\u001b[39margs, \u001b[38;5;241m*\u001b[39m\u001b[38;5;241m*\u001b[39mkwargs)  \u001b[38;5;66;03m# type: ignore[misc]\u001b[39;00m\n\u001b[1;32m   1510\u001b[0m \u001b[38;5;28;01melse\u001b[39;00m:\n\u001b[0;32m-> 1511\u001b[0m     \u001b[38;5;28;01mreturn\u001b[39;00m \u001b[38;5;28;43mself\u001b[39;49m\u001b[38;5;241;43m.\u001b[39;49m\u001b[43m_call_impl\u001b[49m\u001b[43m(\u001b[49m\u001b[38;5;241;43m*\u001b[39;49m\u001b[43margs\u001b[49m\u001b[43m,\u001b[49m\u001b[43m \u001b[49m\u001b[38;5;241;43m*\u001b[39;49m\u001b[38;5;241;43m*\u001b[39;49m\u001b[43mkwargs\u001b[49m\u001b[43m)\u001b[49m\n",
      "File \u001b[0;32m~/miniconda3/envs/mllm/lib/python3.10/site-packages/torch/nn/modules/module.py:1520\u001b[0m, in \u001b[0;36mModule._call_impl\u001b[0;34m(self, *args, **kwargs)\u001b[0m\n\u001b[1;32m   1515\u001b[0m \u001b[38;5;66;03m# If we don't have any hooks, we want to skip the rest of the logic in\u001b[39;00m\n\u001b[1;32m   1516\u001b[0m \u001b[38;5;66;03m# this function, and just call forward.\u001b[39;00m\n\u001b[1;32m   1517\u001b[0m \u001b[38;5;28;01mif\u001b[39;00m \u001b[38;5;129;01mnot\u001b[39;00m (\u001b[38;5;28mself\u001b[39m\u001b[38;5;241m.\u001b[39m_backward_hooks \u001b[38;5;129;01mor\u001b[39;00m \u001b[38;5;28mself\u001b[39m\u001b[38;5;241m.\u001b[39m_backward_pre_hooks \u001b[38;5;129;01mor\u001b[39;00m \u001b[38;5;28mself\u001b[39m\u001b[38;5;241m.\u001b[39m_forward_hooks \u001b[38;5;129;01mor\u001b[39;00m \u001b[38;5;28mself\u001b[39m\u001b[38;5;241m.\u001b[39m_forward_pre_hooks\n\u001b[1;32m   1518\u001b[0m         \u001b[38;5;129;01mor\u001b[39;00m _global_backward_pre_hooks \u001b[38;5;129;01mor\u001b[39;00m _global_backward_hooks\n\u001b[1;32m   1519\u001b[0m         \u001b[38;5;129;01mor\u001b[39;00m _global_forward_hooks \u001b[38;5;129;01mor\u001b[39;00m _global_forward_pre_hooks):\n\u001b[0;32m-> 1520\u001b[0m     \u001b[38;5;28;01mreturn\u001b[39;00m \u001b[43mforward_call\u001b[49m\u001b[43m(\u001b[49m\u001b[38;5;241;43m*\u001b[39;49m\u001b[43margs\u001b[49m\u001b[43m,\u001b[49m\u001b[43m \u001b[49m\u001b[38;5;241;43m*\u001b[39;49m\u001b[38;5;241;43m*\u001b[39;49m\u001b[43mkwargs\u001b[49m\u001b[43m)\u001b[49m\n\u001b[1;32m   1522\u001b[0m \u001b[38;5;28;01mtry\u001b[39;00m:\n\u001b[1;32m   1523\u001b[0m     result \u001b[38;5;241m=\u001b[39m \u001b[38;5;28;01mNone\u001b[39;00m\n",
      "File \u001b[0;32m~/miniconda3/envs/mllm/lib/python3.10/site-packages/torch/nn/modules/conv.py:310\u001b[0m, in \u001b[0;36mConv1d.forward\u001b[0;34m(self, input)\u001b[0m\n\u001b[1;32m    309\u001b[0m \u001b[38;5;28;01mdef\u001b[39;00m \u001b[38;5;21mforward\u001b[39m(\u001b[38;5;28mself\u001b[39m, \u001b[38;5;28minput\u001b[39m: Tensor) \u001b[38;5;241m-\u001b[39m\u001b[38;5;241m>\u001b[39m Tensor:\n\u001b[0;32m--> 310\u001b[0m     \u001b[38;5;28;01mreturn\u001b[39;00m \u001b[38;5;28;43mself\u001b[39;49m\u001b[38;5;241;43m.\u001b[39;49m\u001b[43m_conv_forward\u001b[49m\u001b[43m(\u001b[49m\u001b[38;5;28;43minput\u001b[39;49m\u001b[43m,\u001b[49m\u001b[43m \u001b[49m\u001b[38;5;28;43mself\u001b[39;49m\u001b[38;5;241;43m.\u001b[39;49m\u001b[43mweight\u001b[49m\u001b[43m,\u001b[49m\u001b[43m \u001b[49m\u001b[38;5;28;43mself\u001b[39;49m\u001b[38;5;241;43m.\u001b[39;49m\u001b[43mbias\u001b[49m\u001b[43m)\u001b[49m\n",
      "File \u001b[0;32m~/miniconda3/envs/mllm/lib/python3.10/site-packages/torch/nn/modules/conv.py:306\u001b[0m, in \u001b[0;36mConv1d._conv_forward\u001b[0;34m(self, input, weight, bias)\u001b[0m\n\u001b[1;32m    302\u001b[0m \u001b[38;5;28;01mif\u001b[39;00m \u001b[38;5;28mself\u001b[39m\u001b[38;5;241m.\u001b[39mpadding_mode \u001b[38;5;241m!=\u001b[39m \u001b[38;5;124m'\u001b[39m\u001b[38;5;124mzeros\u001b[39m\u001b[38;5;124m'\u001b[39m:\n\u001b[1;32m    303\u001b[0m     \u001b[38;5;28;01mreturn\u001b[39;00m F\u001b[38;5;241m.\u001b[39mconv1d(F\u001b[38;5;241m.\u001b[39mpad(\u001b[38;5;28minput\u001b[39m, \u001b[38;5;28mself\u001b[39m\u001b[38;5;241m.\u001b[39m_reversed_padding_repeated_twice, mode\u001b[38;5;241m=\u001b[39m\u001b[38;5;28mself\u001b[39m\u001b[38;5;241m.\u001b[39mpadding_mode),\n\u001b[1;32m    304\u001b[0m                     weight, bias, \u001b[38;5;28mself\u001b[39m\u001b[38;5;241m.\u001b[39mstride,\n\u001b[1;32m    305\u001b[0m                     _single(\u001b[38;5;241m0\u001b[39m), \u001b[38;5;28mself\u001b[39m\u001b[38;5;241m.\u001b[39mdilation, \u001b[38;5;28mself\u001b[39m\u001b[38;5;241m.\u001b[39mgroups)\n\u001b[0;32m--> 306\u001b[0m \u001b[38;5;28;01mreturn\u001b[39;00m \u001b[43mF\u001b[49m\u001b[38;5;241;43m.\u001b[39;49m\u001b[43mconv1d\u001b[49m\u001b[43m(\u001b[49m\u001b[38;5;28;43minput\u001b[39;49m\u001b[43m,\u001b[49m\u001b[43m \u001b[49m\u001b[43mweight\u001b[49m\u001b[43m,\u001b[49m\u001b[43m \u001b[49m\u001b[43mbias\u001b[49m\u001b[43m,\u001b[49m\u001b[43m \u001b[49m\u001b[38;5;28;43mself\u001b[39;49m\u001b[38;5;241;43m.\u001b[39;49m\u001b[43mstride\u001b[49m\u001b[43m,\u001b[49m\n\u001b[1;32m    307\u001b[0m \u001b[43m                \u001b[49m\u001b[38;5;28;43mself\u001b[39;49m\u001b[38;5;241;43m.\u001b[39;49m\u001b[43mpadding\u001b[49m\u001b[43m,\u001b[49m\u001b[43m \u001b[49m\u001b[38;5;28;43mself\u001b[39;49m\u001b[38;5;241;43m.\u001b[39;49m\u001b[43mdilation\u001b[49m\u001b[43m,\u001b[49m\u001b[43m \u001b[49m\u001b[38;5;28;43mself\u001b[39;49m\u001b[38;5;241;43m.\u001b[39;49m\u001b[43mgroups\u001b[49m\u001b[43m)\u001b[49m\n",
      "\u001b[0;31mTypeError\u001b[0m: conv1d() received an invalid combination of arguments - got (tuple, Parameter, Parameter, tuple, tuple, tuple, int), but expected one of:\n * (Tensor input, Tensor weight, Tensor bias, tuple of ints stride, tuple of ints padding, tuple of ints dilation, int groups)\n      didn't match because some of the arguments have invalid types: (!tuple of (Tensor, Tensor)!, !Parameter!, !Parameter!, !tuple of (int,)!, !tuple of (int,)!, !tuple of (int,)!, int)\n * (Tensor input, Tensor weight, Tensor bias, tuple of ints stride, str padding, tuple of ints dilation, int groups)\n      didn't match because some of the arguments have invalid types: (!tuple of (Tensor, Tensor)!, !Parameter!, !Parameter!, !tuple of (int,)!, !tuple of (int,)!, !tuple of (int,)!, int)\n"
     ]
    }
   ],
   "source": [
    "c((t, t))\n"
   ]
  },
  {
   "cell_type": "code",
   "execution_count": 82,
   "metadata": {},
   "outputs": [
    {
     "data": {
      "text/plain": [
       "tensor([[[-0.7457, -0.7457, -0.7457, -0.7457],\n",
       "         [-0.1871, -0.1871, -0.1871, -0.1871]],\n",
       "\n",
       "        [[-0.7457, -0.7457, -0.7457, -0.7457],\n",
       "         [-0.1871, -0.1871, -0.1871, -0.1871]]],\n",
       "       grad_fn=<ConvolutionBackward0>)"
      ]
     },
     "execution_count": 82,
     "metadata": {},
     "output_type": "execute_result"
    }
   ],
   "source": [
    "c.forward(t)"
   ]
  },
  {
   "cell_type": "code",
   "execution_count": 3,
   "metadata": {},
   "outputs": [
    {
     "name": "stdout",
     "output_type": "stream",
     "text": [
      "^\\w+\\-(\\d{8}_\\d{6})-.+$\n",
      "<re.Match object; span=(0, 52), match='encdec-20240718_221554-wiki_20200501_en-ch_100_fi>\n",
      "20240718_221554\n",
      "2024-07-18 22:15:54\n"
     ]
    }
   ],
   "source": [
    "import os\n",
    "from datetime import datetime\n",
    "import gzip\n",
    "from pathlib import Path\n",
    "import re\n",
    "\n",
    "DT_PAT = '%Y%m%d_%H%M%S'\n",
    "DT_PAT_RE = r'\\d{8}_\\d{6}'\n",
    "\n",
    "s = 'encdec-20240718_221554-wiki_20200501_en-ch_100_fixed'\n",
    "\n",
    "subdir_pat = r'^\\w+\\-(%s)-.+$' % DT_PAT_RE\n",
    "print(subdir_pat)\n",
    "pat = re.compile(r'^\\w+\\-(%s)-.+$' % DT_PAT_RE)\n",
    "m = pat.match(s)\n",
    "if m:\n",
    "    print(m)\n",
    "    dt_str = m.group(1)\n",
    "    print(dt_str)\n",
    "    dt = datetime.strptime(dt_str, DT_PAT)\n",
    "    print(dt)\n"
   ]
  },
  {
   "cell_type": "code",
   "execution_count": 5,
   "metadata": {},
   "outputs": [
    {
     "name": "stdout",
     "output_type": "stream",
     "text": [
      "1185869 Q0 D59221 1 -4.80433 IndriQueryLikelihood\n",
      "1185869 Q0 D59220 2 -4.92127 IndriQueryLikelihood\n",
      "1185869 Q0 D2192591 3 -5.05215 IndriQueryLikelihood\n",
      "1185869 Q0 D2777518 4 -5.05486 IndriQueryLikelihood\n",
      "1185869 Q0 D2371978 5 -5.07048 IndriQueryLikelihood\n",
      "1185869 Q0 D1186567 6 -5.09707 IndriQueryLikelihood\n",
      "1185869 Q0 D2510055 7 -5.1502 IndriQueryLikelihood\n",
      "1185869 Q0 D59219 8 -5.15332 IndriQueryLikelihood\n",
      "1185869 Q0 D1371943 9 -5.2028 IndriQueryLikelihood\n",
      "1185869 Q0 D1379540 10 -5.21803 IndriQueryLikelihood\n",
      "1185869 Q0 D2305872 11 -5.30554 IndriQueryLikelihood\n",
      "1185869 Q0 D899138 12 -5.31173 IndriQueryLikelihood\n",
      "1185869 Q0 D2422342 13 -5.3206 IndriQueryLikelihood\n",
      "1185869 Q0 D59228 14 -5.32493 IndriQueryLikelihood\n",
      "1185869 Q0 D2022152 15 -5.3397 IndriQueryLikelihood\n",
      "1185869 Q0 D262064 16 -5.34528 IndriQueryLikelihood\n",
      "1185869 Q0 D2089121 17 -5.36559 IndriQueryLikelihood\n",
      "1185869 Q0 D1964065 18 -5.37196 IndriQueryLikelihood\n",
      "1185869 Q0 D1611531 19 -5.38115 IndriQueryLikelihood\n",
      "1185869 Q0 D2286643 20 -5.3834 IndriQueryLikelihood\n",
      "1185869 Q0 D59227 21 -5.38383 IndriQueryLikelihood\n",
      "1185869 Q0 D1990926 22 -5.3915 IndriQueryLikelihood\n",
      "1185869 Q0 D3440909 23 -5.3915 IndriQueryLikelihood\n",
      "1185869 Q0 D59226 24 -5.39658 IndriQueryLikelihood\n",
      "1185869 Q0 D464904 25 -5.40401 IndriQueryLikelihood\n",
      "1185869 Q0 D2089122 26 -5.40553 IndriQueryLikelihood\n",
      "1185869 Q0 D1186561 27 -5.41771 IndriQueryLikelihood\n",
      "1185869 Q0 D2104433 28 -5.42885 IndriQueryLikelihood\n",
      "1185869 Q0 D3507979 29 -5.42926 IndriQueryLikelihood\n",
      "1185869 Q0 D1522419 30 -5.43271 IndriQueryLikelihood\n",
      "1185869 Q0 D1408497 31 -5.4343 IndriQueryLikelihood\n",
      "1185869 Q0 D2975155 32 -5.4376 IndriQueryLikelihood\n",
      "1185869 Q0 D2777517 33 -5.44017 IndriQueryLikelihood\n",
      "1185869 Q0 D2934317 34 -5.44117 IndriQueryLikelihood\n",
      "1185869 Q0 D830482 35 -5.44437 IndriQueryLikelihood\n",
      "1185869 Q0 D2675730 36 -5.45191 IndriQueryLikelihood\n",
      "1185869 Q0 D1833168 37 -5.46543 IndriQueryLikelihood\n",
      "1185869 Q0 D1749089 38 -5.46785 IndriQueryLikelihood\n",
      "1185869 Q0 D1552204 39 -5.48131 IndriQueryLikelihood\n",
      "1185869 Q0 D2314412 40 -5.48435 IndriQueryLikelihood\n",
      "1185869 Q0 D3224085 41 -5.48755 IndriQueryLikelihood\n",
      "1185869 Q0 D73174 42 -5.48763 IndriQueryLikelihood\n",
      "1185869 Q0 D2185689 43 -5.48819 IndriQueryLikelihood\n",
      "1185869 Q0 D469610 44 -5.49006 IndriQueryLikelihood\n",
      "1185869 Q0 D1090626 45 -5.49615 IndriQueryLikelihood\n",
      "1185869 Q0 D1668414 46 -5.50225 IndriQueryLikelihood\n",
      "1185869 Q0 D1994132 47 -5.50255 IndriQueryLikelihood\n",
      "1185869 Q0 D776513 48 -5.50639 IndriQueryLikelihood\n",
      "1185869 Q0 D1379539 49 -5.50833 IndriQueryLikelihood\n",
      "1185869 Q0 D3274020 50 -5.51452 IndriQueryLikelihood\n",
      "1185869 Q0 D2864595 51 -5.5153 IndriQueryLikelihood\n",
      "1185869 Q0 D1575035 52 -5.51615 IndriQueryLikelihood\n",
      "1185869 Q0 D1076174 53 -5.5167 IndriQueryLikelihood\n",
      "1185869 Q0 D73175 54 -5.51755 IndriQueryLikelihood\n",
      "1185869 Q0 D3319671 55 -5.52175 IndriQueryLikelihood\n",
      "1185869 Q0 D35132 56 -5.52179 IndriQueryLikelihood\n",
      "1185869 Q0 D59225 57 -5.52179 IndriQueryLikelihood\n",
      "1185869 Q0 D1606769 58 -5.52183 IndriQueryLikelihood\n",
      "1185869 Q0 D1907915 59 -5.52189 IndriQueryLikelihood\n",
      "1185869 Q0 D2272426 60 -5.52738 IndriQueryLikelihood\n",
      "1185869 Q0 D2314410 61 -5.52993 IndriQueryLikelihood\n",
      "1185869 Q0 D1939800 62 -5.53193 IndriQueryLikelihood\n",
      "1185869 Q0 D2689711 63 -5.53389 IndriQueryLikelihood\n",
      "1185869 Q0 D2449369 64 -5.53443 IndriQueryLikelihood\n",
      "1185869 Q0 D3037163 65 -5.53546 IndriQueryLikelihood\n",
      "1185869 Q0 D1522416 66 -5.53787 IndriQueryLikelihood\n",
      "1185869 Q0 D987961 67 -5.53813 IndriQueryLikelihood\n",
      "1185869 Q0 D622072 68 -5.53889 IndriQueryLikelihood\n",
      "1185869 Q0 D2422343 69 -5.5409 IndriQueryLikelihood\n",
      "1185869 Q0 D2109963 70 -5.54905 IndriQueryLikelihood\n",
      "1185869 Q0 D1563131 71 -5.55036 IndriQueryLikelihood\n",
      "1185869 Q0 D2137315 72 -5.55293 IndriQueryLikelihood\n",
      "1185869 Q0 D862549 73 -5.5534 IndriQueryLikelihood\n",
      "1185869 Q0 D1891342 74 -5.55355 IndriQueryLikelihood\n",
      "1185869 Q0 D882389 75 -5.55657 IndriQueryLikelihood\n",
      "1185869 Q0 D1072486 76 -5.55894 IndriQueryLikelihood\n",
      "1185869 Q0 D2159899 77 -5.55913 IndriQueryLikelihood\n",
      "1185869 Q0 D464903 78 -5.55979 IndriQueryLikelihood\n",
      "1185869 Q0 D236805 79 -5.56032 IndriQueryLikelihood\n",
      "1185869 Q0 D2085391 80 -5.56152 IndriQueryLikelihood\n",
      "1185869 Q0 D844140 81 -5.56183 IndriQueryLikelihood\n",
      "1185869 Q0 D1343848 82 -5.56253 IndriQueryLikelihood\n",
      "1185869 Q0 D2624245 83 -5.56494 IndriQueryLikelihood\n",
      "1185869 Q0 D1533391 84 -5.56587 IndriQueryLikelihood\n",
      "1185869 Q0 D1805861 85 -5.5685 IndriQueryLikelihood\n",
      "1185869 Q0 D50881 86 -5.56884 IndriQueryLikelihood\n",
      "1185869 Q0 D1768840 87 -5.57191 IndriQueryLikelihood\n",
      "1185869 Q0 D435003 88 -5.57293 IndriQueryLikelihood\n",
      "1185869 Q0 D2219882 89 -5.57509 IndriQueryLikelihood\n",
      "1185869 Q0 D2217424 90 -5.57535 IndriQueryLikelihood\n",
      "1185869 Q0 D695542 91 -5.57593 IndriQueryLikelihood\n",
      "1185869 Q0 D35137 92 -5.57626 IndriQueryLikelihood\n",
      "1185869 Q0 D1895481 93 -5.5789 IndriQueryLikelihood\n",
      "1185869 Q0 D1451325 94 -5.57934 IndriQueryLikelihood\n",
      "1185869 Q0 D960040 95 -5.58215 IndriQueryLikelihood\n",
      "1185869 Q0 D968614 96 -5.58239 IndriQueryLikelihood\n",
      "1185869 Q0 D2376792 97 -5.58398 IndriQueryLikelihood\n",
      "1185869 Q0 D1219200 98 -5.5857 IndriQueryLikelihood\n",
      "1185869 Q0 D2453029 99 -5.5857 IndriQueryLikelihood\n",
      "1185869 Q0 D1749087 100 -5.58602 IndriQueryLikelihood\n",
      "1185868 Q0 D59232 1 -5.21626 IndriQueryLikelihood\n",
      "1185868 Q0 D59234 2 -5.22295 IndriQueryLikelihood\n",
      "1185868 Q0 D59237 3 -5.35649 IndriQueryLikelihood\n",
      "1185868 Q0 D59236 4 -5.38398 IndriQueryLikelihood\n",
      "1185868 Q0 D59235 5 -5.41515 IndriQueryLikelihood\n"
     ]
    }
   ],
   "source": [
    "fpath = Path(os.path.expandvars('$HOME')) / 'Downloads' / 'msmarco-doctrain-top100.gz'\n",
    "with gzip.open(fpath, 'rt', encoding='utf8') as f:\n",
    "    for i in range(105):\n",
    "        l = f.readline()\n",
    "        print(l.rstrip())"
   ]
  },
  {
   "cell_type": "code",
   "execution_count": 6,
   "metadata": {},
   "outputs": [
    {
     "name": "stdout",
     "output_type": "stream",
     "text": [
      "[2, 1, 2]\n"
     ]
    }
   ],
   "source": []
  }
 ],
 "metadata": {
  "kernelspec": {
   "display_name": "attall",
   "language": "python",
   "name": "python3"
  },
  "language_info": {
   "codemirror_mode": {
    "name": "ipython",
    "version": 3
   },
   "file_extension": ".py",
   "mimetype": "text/x-python",
   "name": "python",
   "nbconvert_exporter": "python",
   "pygments_lexer": "ipython3",
   "version": "3.10.14"
  }
 },
 "nbformat": 4,
 "nbformat_minor": 2
}
